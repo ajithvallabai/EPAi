{
 "cells": [
  {
   "cell_type": "code",
   "metadata": {
    "tags": [],
    "cell_id": "00000-6c06e741-eeef-4f8d-ba03-bda8e65badf4",
    "deepnote_to_be_reexecuted": false,
    "source_hash": "3d5d50a7",
    "execution_start": 1624687152383,
    "deepnote_cell_type": "code"
   },
   "source": "\nprint(\"hello\")",
   "outputs": [
    {
     "name": "stdout",
     "text": "hello\n",
     "output_type": "stream"
    }
   ],
   "execution_count": null
  },
  {
   "cell_type": "markdown",
   "source": "# Decorators",
   "metadata": {
    "tags": [],
    "cell_id": "00001-ca43b713-5121-444c-9a2f-0a5c17bfb68b",
    "deepnote_cell_type": "markdown"
   }
  },
  {
   "cell_type": "code",
   "source": "def counter(fn):\n    count = 0\n\n    def inner(*args, **kwargs):\n        nonlocal count\n        count += 1\n        print(f'Function {fn.__name__} was called {count} times')\n        return fn(*args, **kwargs)\n    return inner",
   "metadata": {
    "tags": [],
    "cell_id": "00002-14b42d94-4dae-42e7-b2f8-9d41c5a98deb",
    "deepnote_to_be_reexecuted": false,
    "source_hash": "a979aa7",
    "execution_start": 1624687346222,
    "execution_millis": 3,
    "deepnote_cell_type": "code"
   },
   "outputs": [],
   "execution_count": null
  },
  {
   "cell_type": "code",
   "source": "def add(a, b = 0):\n    \"\"\"\n    this returns the sum of a and b\n    \"\"\"\n    return a + b\n\nhelp(add)",
   "metadata": {
    "tags": [],
    "cell_id": "00003-318d8191-d32b-4b28-87cd-e5e9c1a95ee7",
    "deepnote_to_be_reexecuted": false,
    "source_hash": "1581a822",
    "execution_start": 1624687376845,
    "execution_millis": 9,
    "deepnote_cell_type": "code"
   },
   "outputs": [
    {
     "name": "stdout",
     "text": "Help on function add in module __main__:\n\nadd(a, b=0)\n    this returns the sum of a and b\n\n",
     "output_type": "stream"
    }
   ],
   "execution_count": null
  },
  {
   "cell_type": "code",
   "source": "id(add)",
   "metadata": {
    "tags": [],
    "cell_id": "00004-20468837-218f-47f2-9413-9fe30f8b9cd8",
    "deepnote_to_be_reexecuted": false,
    "source_hash": "2fd13b78",
    "execution_start": 1624687395262,
    "execution_millis": 7,
    "deepnote_cell_type": "code"
   },
   "outputs": [
    {
     "output_type": "execute_result",
     "execution_count": 5,
     "data": {
      "text/plain": "139699194672608"
     },
     "metadata": {}
    }
   ],
   "execution_count": null
  },
  {
   "cell_type": "code",
   "source": "add = counter(add)",
   "metadata": {
    "tags": [],
    "cell_id": "00005-cbddf24a-6897-4e8f-919e-c34db728a612",
    "deepnote_to_be_reexecuted": false,
    "source_hash": "397e603a",
    "execution_start": 1624687408597,
    "execution_millis": 4,
    "deepnote_cell_type": "code"
   },
   "outputs": [],
   "execution_count": null
  },
  {
   "cell_type": "code",
   "source": "id(add)",
   "metadata": {
    "tags": [],
    "cell_id": "00006-ee97e055-05d8-4b73-ad74-108a0728a173",
    "deepnote_to_be_reexecuted": false,
    "source_hash": "2fd13b78",
    "execution_start": 1624687416939,
    "execution_millis": 18,
    "deepnote_cell_type": "code"
   },
   "outputs": [
    {
     "output_type": "execute_result",
     "execution_count": 7,
     "data": {
      "text/plain": "139699194672464"
     },
     "metadata": {}
    }
   ],
   "execution_count": null
  },
  {
   "cell_type": "code",
   "source": "add(1, 2)",
   "metadata": {
    "tags": [],
    "cell_id": "00007-d693ee44-b6ed-4079-9e80-c45ac31e56b6",
    "deepnote_to_be_reexecuted": false,
    "source_hash": "af19736c",
    "execution_start": 1624687429996,
    "execution_millis": 46,
    "deepnote_cell_type": "code"
   },
   "outputs": [
    {
     "name": "stdout",
     "text": "Function add was called 1 times\n",
     "output_type": "stream"
    },
    {
     "output_type": "execute_result",
     "execution_count": 8,
     "data": {
      "text/plain": "3"
     },
     "metadata": {}
    }
   ],
   "execution_count": null
  },
  {
   "cell_type": "code",
   "source": "# add = counter(add)\n\n@counter\ndef mult(a: float, b: float=1, c: float=1) -> float:\n    \"\"\"\n    This is a function that returns the product of a, b, and c\n    \"\"\"\n    return a * b * c",
   "metadata": {
    "tags": [],
    "cell_id": "00008-2294dbd5-6920-4282-8af0-df3cff7dd18a",
    "deepnote_to_be_reexecuted": false,
    "source_hash": "4dbcd5a7",
    "execution_start": 1624687628083,
    "execution_millis": 4,
    "deepnote_cell_type": "code"
   },
   "outputs": [],
   "execution_count": null
  },
  {
   "cell_type": "code",
   "source": "mult(1, 2, 3)",
   "metadata": {
    "tags": [],
    "cell_id": "00009-c16679dc-7a5e-4389-bd9b-d31e4ca2620e",
    "deepnote_to_be_reexecuted": false,
    "source_hash": "5dc30523",
    "execution_start": 1624687638083,
    "execution_millis": 6,
    "deepnote_cell_type": "code"
   },
   "outputs": [
    {
     "name": "stdout",
     "text": "Function mult was called 1 times\n",
     "output_type": "stream"
    },
    {
     "output_type": "execute_result",
     "execution_count": 10,
     "data": {
      "text/plain": "6"
     },
     "metadata": {}
    }
   ],
   "execution_count": null
  },
  {
   "cell_type": "code",
   "source": "mult(2, 3, \"rohan\")",
   "metadata": {
    "tags": [],
    "cell_id": "00010-04584ef3-b399-45e4-b451-390e7b1c5e05",
    "deepnote_to_be_reexecuted": false,
    "source_hash": "6be2f597",
    "execution_start": 1624687654197,
    "execution_millis": 16,
    "deepnote_cell_type": "code"
   },
   "outputs": [
    {
     "name": "stdout",
     "text": "Function mult was called 2 times\n",
     "output_type": "stream"
    },
    {
     "output_type": "execute_result",
     "execution_count": 11,
     "data": {
      "text/plain": "'rohanrohanrohanrohanrohanrohan'"
     },
     "metadata": {}
    }
   ],
   "execution_count": null
  },
  {
   "cell_type": "code",
   "source": "add.__name__",
   "metadata": {
    "tags": [],
    "cell_id": "00011-232ce32a-c70b-43b4-a31e-65748d914871",
    "deepnote_to_be_reexecuted": false,
    "source_hash": "d47ab081",
    "execution_start": 1624687683941,
    "execution_millis": 11,
    "deepnote_cell_type": "code"
   },
   "outputs": [
    {
     "output_type": "execute_result",
     "execution_count": 12,
     "data": {
      "text/plain": "'inner'"
     },
     "metadata": {}
    }
   ],
   "execution_count": null
  },
  {
   "cell_type": "code",
   "source": "mult.__name__",
   "metadata": {
    "tags": [],
    "cell_id": "00012-be82d6ba-708e-48fe-aa16-7d0a8900addf",
    "deepnote_to_be_reexecuted": false,
    "source_hash": "b146025e",
    "execution_start": 1624687691162,
    "execution_millis": 8,
    "deepnote_cell_type": "code"
   },
   "outputs": [
    {
     "output_type": "execute_result",
     "execution_count": 13,
     "data": {
      "text/plain": "'inner'"
     },
     "metadata": {}
    }
   ],
   "execution_count": null
  },
  {
   "cell_type": "code",
   "source": "help(add)",
   "metadata": {
    "tags": [],
    "cell_id": "00013-80e1422c-2867-466a-90c1-6062b09e5b31",
    "deepnote_to_be_reexecuted": false,
    "source_hash": "2ea7dcbc",
    "execution_start": 1624687706493,
    "execution_millis": 13,
    "deepnote_cell_type": "code"
   },
   "outputs": [
    {
     "name": "stdout",
     "text": "Help on function inner in module __main__:\n\ninner(*args, **kwargs)\n\n",
     "output_type": "stream"
    }
   ],
   "execution_count": null
  },
  {
   "cell_type": "code",
   "source": "help(mult)",
   "metadata": {
    "tags": [],
    "cell_id": "00014-81e1f76a-000d-4fd8-a9df-4fa8c17c7061",
    "deepnote_to_be_reexecuted": false,
    "source_hash": "d599ab50",
    "execution_start": 1624687714318,
    "execution_millis": 10,
    "deepnote_cell_type": "code"
   },
   "outputs": [
    {
     "name": "stdout",
     "text": "Help on function inner in module __main__:\n\ninner(*args, **kwargs)\n\n",
     "output_type": "stream"
    }
   ],
   "execution_count": null
  },
  {
   "cell_type": "code",
   "source": "import inspect",
   "metadata": {
    "tags": [],
    "cell_id": "00015-12cb2c5e-ea4f-4de6-aa98-786e8a18108e",
    "deepnote_to_be_reexecuted": false,
    "source_hash": "3dddf69e",
    "execution_start": 1624687733974,
    "execution_millis": 8,
    "deepnote_cell_type": "code"
   },
   "outputs": [],
   "execution_count": null
  },
  {
   "cell_type": "code",
   "source": "print(inspect.getsource(add))",
   "metadata": {
    "tags": [],
    "cell_id": "00016-7ecd98da-19b2-4599-bb2f-ae853049bbce",
    "deepnote_to_be_reexecuted": false,
    "source_hash": "472130f4",
    "execution_start": 1624687766750,
    "execution_millis": 8,
    "deepnote_cell_type": "code"
   },
   "outputs": [
    {
     "name": "stdout",
     "text": "    def inner(*args, **kwargs):\n        nonlocal count\n        count += 1\n        print(f'Function {fn.__name__} was called {count} times')\n        return fn(*args, **kwargs)\n\n",
     "output_type": "stream"
    }
   ],
   "execution_count": null
  },
  {
   "cell_type": "code",
   "source": "print(inspect.getsource(mult))",
   "metadata": {
    "tags": [],
    "cell_id": "00017-e295f5ce-d1e9-4352-8ab2-e6be80793f0c",
    "deepnote_to_be_reexecuted": false,
    "source_hash": "b733d753",
    "execution_start": 1624687777254,
    "execution_millis": 8,
    "deepnote_cell_type": "code"
   },
   "outputs": [
    {
     "name": "stdout",
     "text": "    def inner(*args, **kwargs):\n        nonlocal count\n        count += 1\n        print(f'Function {fn.__name__} was called {count} times')\n        return fn(*args, **kwargs)\n\n",
     "output_type": "stream"
    }
   ],
   "execution_count": null
  },
  {
   "cell_type": "code",
   "source": "inspect.signature(add)",
   "metadata": {
    "tags": [],
    "cell_id": "00018-57b6f9ad-e840-45f8-a454-9eb4043cd45e",
    "deepnote_to_be_reexecuted": false,
    "source_hash": "cbffba22",
    "execution_start": 1624687799056,
    "execution_millis": 5,
    "deepnote_cell_type": "code"
   },
   "outputs": [
    {
     "output_type": "execute_result",
     "execution_count": 21,
     "data": {
      "text/plain": "<Signature (*args, **kwargs)>"
     },
     "metadata": {}
    }
   ],
   "execution_count": null
  },
  {
   "cell_type": "code",
   "source": "inspect.signature(add).parameters",
   "metadata": {
    "tags": [],
    "cell_id": "00019-0cb4e73f-f4a4-4545-b203-f29c6511ce90",
    "deepnote_to_be_reexecuted": false,
    "source_hash": "5e6de67a",
    "execution_start": 1624687825911,
    "execution_millis": 28,
    "deepnote_cell_type": "code"
   },
   "outputs": [
    {
     "output_type": "execute_result",
     "execution_count": 22,
     "data": {
      "text/plain": "mappingproxy({'args': <Parameter \"*args\">, 'kwargs': <Parameter \"**kwargs\">})"
     },
     "metadata": {}
    }
   ],
   "execution_count": null
  },
  {
   "cell_type": "code",
   "source": "def counter(fn):\n    count = 0\n    \n    def inner(*args, **kwargs):\n        nonlocal count\n        count += 1\n        print(\"{0} was called {1} times\".format(fn.__name__, count))\n    inner.__name__ = fn.__name__\n    inner.__doc__ = fn.__doc__\n    return inner",
   "metadata": {
    "tags": [],
    "cell_id": "00020-1871cb3f-4a64-4bb3-9477-e453623a28b8",
    "deepnote_to_be_reexecuted": false,
    "source_hash": "542d2cb3",
    "execution_start": 1624687878778,
    "execution_millis": 3,
    "deepnote_cell_type": "code"
   },
   "outputs": [],
   "execution_count": null
  },
  {
   "cell_type": "code",
   "source": "mult.__name__ = 'mult'\nmult.__name__",
   "metadata": {
    "tags": [],
    "cell_id": "00021-949f7842-1fab-4ff0-b304-15fea2136708",
    "deepnote_to_be_reexecuted": false,
    "source_hash": "5effdfb9",
    "execution_start": 1624687865578,
    "execution_millis": 13,
    "deepnote_cell_type": "code"
   },
   "outputs": [
    {
     "output_type": "execute_result",
     "execution_count": 26,
     "data": {
      "text/plain": "'mult'"
     },
     "metadata": {}
    }
   ],
   "execution_count": null
  },
  {
   "cell_type": "code",
   "source": "@counter\ndef add(a: int, b: int=10) -> int:\n    \"\"\"\n    returns sum of two integers\n    \"\"\"\n    return a + b",
   "metadata": {
    "tags": [],
    "cell_id": "00022-d9710d99-7e52-4dc1-931b-1a28096a6cdd",
    "deepnote_to_be_reexecuted": false,
    "source_hash": "6a480514",
    "execution_start": 1624687885435,
    "execution_millis": 3,
    "deepnote_cell_type": "code"
   },
   "outputs": [],
   "execution_count": null
  },
  {
   "cell_type": "code",
   "source": "help(add)",
   "metadata": {
    "tags": [],
    "cell_id": "00023-ba2a38dd-735a-4191-a9b9-2f508a16a127",
    "deepnote_to_be_reexecuted": false,
    "source_hash": "2ea7dcbc",
    "execution_start": 1624687895867,
    "execution_millis": 12,
    "deepnote_cell_type": "code"
   },
   "outputs": [
    {
     "name": "stdout",
     "text": "Help on function add in module __main__:\n\nadd(*args, **kwargs)\n    returns sum of two integers\n\n",
     "output_type": "stream"
    }
   ],
   "execution_count": null
  },
  {
   "cell_type": "code",
   "source": "add.__name__",
   "metadata": {
    "tags": [],
    "cell_id": "00024-1481b7df-7ce0-42ba-9e9f-69100cbe6ef7",
    "deepnote_to_be_reexecuted": false,
    "source_hash": "d47ab081",
    "execution_start": 1624687907419,
    "execution_millis": 11,
    "deepnote_cell_type": "code"
   },
   "outputs": [
    {
     "output_type": "execute_result",
     "execution_count": 30,
     "data": {
      "text/plain": "'add'"
     },
     "metadata": {}
    }
   ],
   "execution_count": null
  },
  {
   "cell_type": "code",
   "source": "from functools import wraps",
   "metadata": {
    "tags": [],
    "cell_id": "00025-0c9d64af-6f26-429d-898c-a5306249401f",
    "deepnote_to_be_reexecuted": false,
    "source_hash": "f7719ce3",
    "execution_start": 1624687924270,
    "execution_millis": 13,
    "deepnote_cell_type": "code"
   },
   "outputs": [],
   "execution_count": null
  },
  {
   "cell_type": "code",
   "source": "def counter(fn):\n    count = 0\n    \n    @wraps(fn)\n    def inner(*args, **kwargs):\n        nonlocal count\n        count += 1\n        print(\"{0} was called {1} times\".format(fn.__name__, count))\n    return inner",
   "metadata": {
    "tags": [],
    "cell_id": "00026-d55f6b13-2aa1-4f71-8255-b36df6c3f9c3",
    "deepnote_to_be_reexecuted": false,
    "source_hash": "e2357a56",
    "execution_start": 1624687937343,
    "execution_millis": 3,
    "deepnote_cell_type": "code"
   },
   "outputs": [],
   "execution_count": null
  },
  {
   "cell_type": "code",
   "source": "@counter\ndef add(a: int, b: int=10) -> int:\n    \"\"\"\n    returns sum of two integers\n    \"\"\"\n    return a + b",
   "metadata": {
    "tags": [],
    "cell_id": "00027-efee367c-0459-417b-af3d-4e0442f344de",
    "deepnote_to_be_reexecuted": false,
    "source_hash": "6a480514",
    "execution_start": 1624687944254,
    "execution_millis": 3,
    "deepnote_cell_type": "code"
   },
   "outputs": [],
   "execution_count": null
  },
  {
   "cell_type": "code",
   "source": "help(add)",
   "metadata": {
    "tags": [],
    "cell_id": "00028-3e7d3216-ebe5-4074-bea5-a9987e9dcf91",
    "deepnote_to_be_reexecuted": false,
    "source_hash": "2ea7dcbc",
    "execution_start": 1624687947151,
    "execution_millis": 10,
    "deepnote_cell_type": "code"
   },
   "outputs": [
    {
     "name": "stdout",
     "text": "Help on function add in module __main__:\n\nadd(a: int, b: int = 10) -> int\n    returns sum of two integers\n\n",
     "output_type": "stream"
    }
   ],
   "execution_count": null
  },
  {
   "cell_type": "code",
   "source": "add.__name__",
   "metadata": {
    "tags": [],
    "cell_id": "00029-a1243ec2-f501-4255-a532-f149e797ffca",
    "deepnote_to_be_reexecuted": false,
    "source_hash": "d47ab081",
    "execution_start": 1624687952898,
    "execution_millis": 10,
    "deepnote_cell_type": "code"
   },
   "outputs": [
    {
     "output_type": "execute_result",
     "execution_count": 35,
     "data": {
      "text/plain": "'add'"
     },
     "metadata": {}
    }
   ],
   "execution_count": null
  },
  {
   "cell_type": "code",
   "source": "print(inspect.getsource(add))",
   "metadata": {
    "tags": [],
    "cell_id": "00030-0fb54f7a-c049-496b-a2ef-739c7f2de250",
    "deepnote_to_be_reexecuted": false,
    "source_hash": "472130f4",
    "execution_start": 1624687971613,
    "execution_millis": 8,
    "deepnote_cell_type": "code"
   },
   "outputs": [
    {
     "name": "stdout",
     "text": "@counter\ndef add(a: int, b: int=10) -> int:\n    \"\"\"\n    returns sum of two integers\n    \"\"\"\n    return a + b\n\n",
     "output_type": "stream"
    }
   ],
   "execution_count": null
  },
  {
   "cell_type": "markdown",
   "source": "# Decorator Timer",
   "metadata": {
    "tags": [],
    "cell_id": "00031-64dc92a7-a152-472a-8eca-f915f526a7d2",
    "deepnote_cell_type": "markdown"
   }
  },
  {
   "cell_type": "code",
   "source": "def timed(fn):\n    from time import perf_counter\n    from functools import wraps\n\n    @wraps(fn)\n    def inner(*args, **kwargs):\n        start = perf_counter()\n        result = fn(*args, **kwargs)\n        end = perf_counter()\n        elapsed = end - start\n\n        args_ = [str(a) for a in args]\n        kwargs_ = [f'{k} = {v}' for (k, v) in kwargs.items()]\n        all_args  = args_ + kwargs_\n        args_str = ','.join(all_args)\n        print(f'{fn.__name__}({args_str}) took {elapsed} to run.')\n        return result\n    return inner\n",
   "metadata": {
    "tags": [],
    "cell_id": "00031-f587ac50-6a89-4bd3-acab-58a3e0c472df",
    "deepnote_to_be_reexecuted": false,
    "source_hash": "9ff719b9",
    "execution_start": 1624688388026,
    "execution_millis": 0,
    "deepnote_cell_type": "code"
   },
   "outputs": [],
   "execution_count": null
  },
  {
   "cell_type": "code",
   "source": "@timed\ndef add(a, b):\n    return a + b\n\nadd(1, 2)",
   "metadata": {
    "tags": [],
    "cell_id": "00033-97c69b5b-f4be-4861-a6b5-9460c7a66be1",
    "deepnote_to_be_reexecuted": false,
    "source_hash": "520191f2",
    "execution_start": 1624688388977,
    "execution_millis": 20,
    "deepnote_cell_type": "code"
   },
   "outputs": [
    {
     "name": "stdout",
     "text": "add(1,2) took 8.299998626171146e-07 to run.\n",
     "output_type": "stream"
    },
    {
     "output_type": "execute_result",
     "execution_count": 41,
     "data": {
      "text/plain": "3"
     },
     "metadata": {}
    }
   ],
   "execution_count": null
  },
  {
   "cell_type": "code",
   "source": "def calc_recursive_fib(n):\n    if n < 2:\n        return 1\n\n    else: \n        return calc_recursive_fib(n - 1) + calc_recursive_fib(n - 2)\n\ncalc_recursive_fib(6)",
   "metadata": {
    "tags": [],
    "cell_id": "00034-4065727c-8a99-46b7-83e2-dda438745cf9",
    "deepnote_to_be_reexecuted": false,
    "source_hash": "c3ef9454",
    "execution_start": 1624688493551,
    "execution_millis": 21,
    "deepnote_cell_type": "code"
   },
   "outputs": [
    {
     "output_type": "execute_result",
     "execution_count": 42,
     "data": {
      "text/plain": "13"
     },
     "metadata": {}
    }
   ],
   "execution_count": null
  },
  {
   "cell_type": "code",
   "source": "@timed\ndef fib_recursed(n):\n    return calc_recursive_fib(n)",
   "metadata": {
    "tags": [],
    "cell_id": "00035-a1837db7-7acc-478d-bf66-b87b79621ef9",
    "deepnote_to_be_reexecuted": false,
    "source_hash": "b3308f05",
    "execution_start": 1624688518405,
    "execution_millis": 2,
    "deepnote_cell_type": "code"
   },
   "outputs": [],
   "execution_count": null
  },
  {
   "cell_type": "code",
   "source": "fib_recursed(33)",
   "metadata": {
    "tags": [],
    "cell_id": "00036-dcc71d8e-bddf-451a-8e50-80d321b3e182",
    "deepnote_to_be_reexecuted": false,
    "source_hash": "97c8aaef",
    "execution_start": 1624688523700,
    "execution_millis": 1846,
    "deepnote_cell_type": "code"
   },
   "outputs": [
    {
     "name": "stdout",
     "text": "fib_recursed(33) took 1.8473043710000638 to run.\n",
     "output_type": "stream"
    },
    {
     "output_type": "execute_result",
     "execution_count": 44,
     "data": {
      "text/plain": "5702887"
     },
     "metadata": {}
    }
   ],
   "execution_count": null
  },
  {
   "cell_type": "code",
   "source": "fib_recursed(34)",
   "metadata": {
    "tags": [],
    "cell_id": "00037-c5fede86-7841-49a1-acee-4224d6f66e4f",
    "deepnote_to_be_reexecuted": false,
    "source_hash": "bcde4597",
    "execution_start": 1624688541801,
    "execution_millis": 2948,
    "deepnote_cell_type": "code"
   },
   "outputs": [
    {
     "name": "stdout",
     "text": "fib_recursed(34) took 2.9434999410000273 to run.\n",
     "output_type": "stream"
    },
    {
     "output_type": "execute_result",
     "execution_count": 45,
     "data": {
      "text/plain": "9227465"
     },
     "metadata": {}
    }
   ],
   "execution_count": null
  },
  {
   "cell_type": "code",
   "source": "@timed\ndef fib_recursed_2(n):\n    if n < 2:\n        return 1\n\n    else: \n        return fib_recursed_2(n - 1) + fib_recursed_2(n - 2)",
   "metadata": {
    "tags": [],
    "cell_id": "00038-257465f1-485b-4f17-ac68-4bd57961bd44",
    "deepnote_to_be_reexecuted": false,
    "source_hash": "d40eb316",
    "execution_start": 1624688642646,
    "execution_millis": 10,
    "deepnote_cell_type": "code"
   },
   "outputs": [],
   "execution_count": null
  },
  {
   "cell_type": "code",
   "source": "fib_recursed_2(10)",
   "metadata": {
    "tags": [],
    "cell_id": "00039-e550daf7-d8dd-4f4f-b8f9-d2f8802f2a84",
    "deepnote_to_be_reexecuted": false,
    "source_hash": "48b26e11",
    "execution_start": 1624688642934,
    "execution_millis": 62,
    "deepnote_cell_type": "code"
   },
   "outputs": [
    {
     "name": "stdout",
     "text": "fib_recursed_2(1) took 7.099997674231417e-07 to run.\nfib_recursed_2(0) took 9.300001693191007e-07 to run.\nfib_recursed_2(2) took 0.0009001010002975818 to run.\nfib_recursed_2(1) took 1.2850000075559365e-05 to run.\nfib_recursed_2(3) took 0.008024188000035792 to run.\nfib_recursed_2(1) took 5.800002327305265e-07 to run.\nfib_recursed_2(0) took 7.799999366397969e-07 to run.\nfib_recursed_2(2) took 0.0005001059998903656 to run.\nfib_recursed_2(4) took 0.008904939000331069 to run.\nfib_recursed_2(1) took 5.300003067532089e-07 to run.\nfib_recursed_2(0) took 7.399999049084727e-07 to run.\nfib_recursed_2(2) took 0.0003588839999792981 to run.\nfib_recursed_2(1) took 6.999998731771484e-07 to run.\nfib_recursed_2(3) took 0.0007155590001275414 to run.\nfib_recursed_2(5) took 0.009972752000066976 to run.\nfib_recursed_2(1) took 4.900002750218846e-07 to run.\nfib_recursed_2(0) took 7.299995559151284e-07 to run.\nfib_recursed_2(2) took 0.0003551339996192837 to run.\nfib_recursed_2(1) took 6.500004019471817e-07 to run.\nfib_recursed_2(3) took 0.0007089379996614298 to run.\nfib_recursed_2(1) took 4.799999260285404e-07 to run.\nfib_recursed_2(0) took 6.499999471998308e-07 to run.\nfib_recursed_2(2) took 0.00035373400032767677 to run.\nfib_recursed_2(4) took 0.0024986700000226847 to run.\nfib_recursed_2(6) took 0.014572728000075585 to run.\nfib_recursed_2(1) took 5.599999894911889e-07 to run.\nfib_recursed_2(0) took 7.49999799154466e-07 to run.\nfib_recursed_2(2) took 0.0003686640002342756 to run.\nfib_recursed_2(1) took 6.499999471998308e-07 to run.\nfib_recursed_2(3) took 0.0007268290000865818 to run.\nfib_recursed_2(1) took 5.399997462518513e-07 to run.\nfib_recursed_2(0) took 7.20000116416486e-07 to run.\nfib_recursed_2(2) took 0.0003613640001276508 to run.\nfib_recursed_2(4) took 0.0014420970001083333 to run.\nfib_recursed_2(1) took 4.70000031782547e-07 to run.\nfib_recursed_2(0) took 7.100002221704926e-07 to run.\nfib_recursed_2(2) took 0.0004360759999144648 to run.\nfib_recursed_2(1) took 6.699997356918175e-07 to run.\nfib_recursed_2(3) took 0.0008254499998656684 to run.\nfib_recursed_2(5) took 0.0026225320002595254 to run.\nfib_recursed_2(7) took 0.017555324000113615 to run.\nfib_recursed_2(1) took 4.99999714520527e-07 to run.\nfib_recursed_2(0) took 7.399999049084727e-07 to run.\nfib_recursed_2(2) took 0.00036570500014931895 to run.\nfib_recursed_2(1) took 6.499999471998308e-07 to run.\nfib_recursed_2(3) took 0.0006555579998348549 to run.\nfib_recursed_2(1) took 4.70000031782547e-07 to run.\nfib_recursed_2(0) took 6.000000212225132e-07 to run.\nfib_recursed_2(2) took 5.830000009154901e-05 to run.\nfib_recursed_2(4) took 0.0007703999999648659 to run.\nfib_recursed_2(1) took 3.8999996831989847e-07 to run.\nfib_recursed_2(0) took 5.500000952451956e-07 to run.\nfib_recursed_2(2) took 5.7051000112551264e-05 to run.\nfib_recursed_2(1) took 5.900001269765198e-07 to run.\nfib_recursed_2(3) took 0.00011249099998167367 to run.\nfib_recursed_2(5) took 0.0009350919999633334 to run.\nfib_recursed_2(1) took 3.999998625658918e-07 to run.\nfib_recursed_2(0) took 5.699998837371822e-07 to run.\nfib_recursed_2(2) took 5.413100006990135e-05 to run.\nfib_recursed_2(1) took 5.599999894911889e-07 to run.\nfib_recursed_2(3) took 0.00010795100024552085 to run.\nfib_recursed_2(1) took 3.800000740739051e-07 to run.\nfib_recursed_2(0) took 5.900001269765198e-07 to run.\nfib_recursed_2(2) took 5.574099986915826e-05 to run.\nfib_recursed_2(4) took 0.00021694199995181407 to run.\nfib_recursed_2(6) took 0.0012045349999425525 to run.\nfib_recursed_2(8) took 0.018981051000082516 to run.\nfib_recursed_2(1) took 4.3000000005122274e-07 to run.\nfib_recursed_2(0) took 6.100003702158574e-07 to run.\nfib_recursed_2(2) took 5.549100023927167e-05 to run.\nfib_recursed_2(1) took 5.199999577598646e-07 to run.\nfib_recursed_2(3) took 0.00010943200004476239 to run.\nfib_recursed_2(1) took 4.3000000005122274e-07 to run.\nfib_recursed_2(0) took 5.599999894911889e-07 to run.\nfib_recursed_2(2) took 5.4660999921907205e-05 to run.\nfib_recursed_2(4) took 0.00021679300016330671 to run.\nfib_recursed_2(1) took 3.800000740739051e-07 to run.\nfib_recursed_2(0) took 4.70000031782547e-07 to run.\nfib_recursed_2(2) took 5.428100030258065e-05 to run.\nfib_recursed_2(1) took 5.599999894911889e-07 to run.\nfib_recursed_2(3) took 0.00010792200009746011 to run.\nfib_recursed_2(5) took 0.0003759050000553543 to run.\nfib_recursed_2(1) took 3.700001798279118e-07 to run.\nfib_recursed_2(0) took 5.500000952451956e-07 to run.\nfib_recursed_2(2) took 5.3761000344820786e-05 to run.\nfib_recursed_2(1) took 5.599999894911889e-07 to run.\nfib_recursed_2(3) took 0.00010731200018199161 to run.\nfib_recursed_2(1) took 3.4000004234258085e-07 to run.\nfib_recursed_2(0) took 5.699998837371822e-07 to run.\nfib_recursed_2(2) took 5.391100012275274e-05 to run.\nfib_recursed_2(4) took 0.0002138730001206568 to run.\nfib_recursed_2(6) took 0.0006402879998859135 to run.\nfib_recursed_2(1) took 3.800000740739051e-07 to run.\nfib_recursed_2(0) took 4.799999260285404e-07 to run.\nfib_recursed_2(2) took 5.3950000165059464e-05 to run.\nfib_recursed_2(1) took 5.300003067532089e-07 to run.\nfib_recursed_2(3) took 0.00010756100027720095 to run.\nfib_recursed_2(1) took 3.0999990485724993e-07 to run.\nfib_recursed_2(0) took 5.700003384845331e-07 to run.\nfib_recursed_2(2) took 5.484100029207184e-05 to run.\nfib_recursed_2(4) took 0.00021458199989865534 to run.\nfib_recursed_2(1) took 3.800000740739051e-07 to run.\nfib_recursed_2(0) took 5.699998837371822e-07 to run.\nfib_recursed_2(2) took 5.6430999848089414e-05 to run.\nfib_recursed_2(1) took 5.710003279091325e-07 to run.\nfib_recursed_2(3) took 0.0001102020000871562 to run.\nfib_recursed_2(5) took 0.0003761439998015703 to run.\nfib_recursed_2(7) took 0.0010667330002434028 to run.\nfib_recursed_2(9) took 0.020101104999866948 to run.\nfib_recursed_2(1) took 4.0999975681188516e-07 to run.\nfib_recursed_2(0) took 5.29999852005858e-07 to run.\nfib_recursed_2(2) took 5.417100010163267e-05 to run.\nfib_recursed_2(1) took 5.500000952451956e-07 to run.\nfib_recursed_2(3) took 0.00010670099982235115 to run.\nfib_recursed_2(1) took 4.000003173132427e-07 to run.\nfib_recursed_2(0) took 5.900001269765198e-07 to run.\nfib_recursed_2(2) took 5.545999965761439e-05 to run.\nfib_recursed_2(4) took 0.00021301300012055435 to run.\nfib_recursed_2(1) took 3.8999996831989847e-07 to run.\nfib_recursed_2(0) took 5.199999577598646e-07 to run.\nfib_recursed_2(2) took 5.3590999868902145e-05 to run.\nfib_recursed_2(1) took 5.500000952451956e-07 to run.\nfib_recursed_2(3) took 0.0001083209999706014 to run.\nfib_recursed_2(5) took 0.0003737749998435902 to run.\nfib_recursed_2(1) took 3.8999996831989847e-07 to run.\nfib_recursed_2(0) took 5.600004442385398e-07 to run.\nfib_recursed_2(2) took 5.5331000112346373e-05 to run.\nfib_recursed_2(1) took 5.100000635138713e-07 to run.\nfib_recursed_2(3) took 0.0004117550001865311 to run.\nfib_recursed_2(1) took 4.3000000005122274e-07 to run.\nfib_recursed_2(0) took 6.700001904391684e-07 to run.\nfib_recursed_2(2) took 6.358100017678225e-05 to run.\nfib_recursed_2(4) took 0.000532195999767282 to run.\nfib_recursed_2(6) took 0.0009574720002092363 to run.\nfib_recursed_2(1) took 3.999998625658918e-07 to run.\nfib_recursed_2(0) took 4.899998202745337e-07 to run.\nfib_recursed_2(2) took 5.476100022860919e-05 to run.\nfib_recursed_2(1) took 5.400002009992022e-07 to run.\nfib_recursed_2(3) took 0.00011258099993938231 to run.\nfib_recursed_2(1) took 4.0999975681188516e-07 to run.\nfib_recursed_2(0) took 5.599999894911889e-07 to run.\nfib_recursed_2(2) took 5.4549999731534626e-05 to run.\nfib_recursed_2(4) took 0.00022171299997353344 to run.\nfib_recursed_2(1) took 3.9000042306724936e-07 to run.\nfib_recursed_2(0) took 5.29999852005858e-07 to run.\nfib_recursed_2(2) took 5.450099979498191e-05 to run.\nfib_recursed_2(1) took 4.899998202745337e-07 to run.\nfib_recursed_2(3) took 0.00010750100000223028 to run.\nfib_recursed_2(5) took 0.00038076500004535774 to run.\nfib_recursed_2(7) took 0.0013917969999965862 to run.\nfib_recursed_2(1) took 4.199996510578785e-07 to run.\nfib_recursed_2(0) took 5.799997779831756e-07 to run.\nfib_recursed_2(2) took 5.526099994312972e-05 to run.\nfib_recursed_2(1) took 5.599999894911889e-07 to run.\nfib_recursed_2(3) took 0.00010890199973800918 to run.\nfib_recursed_2(1) took 4.000003173132427e-07 to run.\nfib_recursed_2(0) took 5.400002009992022e-07 to run.\nfib_recursed_2(2) took 5.532100021810038e-05 to run.\nfib_recursed_2(4) took 0.0002178430004278198 to run.\nfib_recursed_2(1) took 4.4999978854320943e-07 to run.\nfib_recursed_2(0) took 4.799999260285404e-07 to run.\nfib_recursed_2(2) took 5.46709998161532e-05 to run.\nfib_recursed_2(1) took 5.599999894911889e-07 to run.\nfib_recursed_2(3) took 0.00010776199997053482 to run.\nfib_recursed_2(5) took 0.00037711499999204534 to run.\nfib_recursed_2(1) took 4.000003173132427e-07 to run.\nfib_recursed_2(0) took 5.500000952451956e-07 to run.\nfib_recursed_2(2) took 5.602099963653018e-05 to run.\nfib_recursed_2(1) took 5.399997462518513e-07 to run.\nfib_recursed_2(3) took 0.00011208200021428638 to run.\nfib_recursed_2(1) took 3.800000740739051e-07 to run.\nfib_recursed_2(0) took 6.199998097144999e-07 to run.\nfib_recursed_2(2) took 5.4740999985369854e-05 to run.\nfib_recursed_2(4) took 0.00022011300006852252 to run.\nfib_recursed_2(6) took 0.0006503879999399942 to run.\nfib_recursed_2(8) took 0.0020955660002073273 to run.\nfib_recursed_2(10) took 0.022253801000260864 to run.\n",
     "output_type": "stream"
    },
    {
     "output_type": "execute_result",
     "execution_count": 49,
     "data": {
      "text/plain": "89"
     },
     "metadata": {}
    }
   ],
   "execution_count": null
  },
  {
   "cell_type": "code",
   "source": "@timed\ndef fib_loop(n):\n    fib_1 = 1\n    fib_2 = 1\n    for i in range(3, n + 1):\n        fib_1, fib_2 = fib_2, fib_1 + fib_2\n    return fib_2",
   "metadata": {
    "tags": [],
    "cell_id": "00040-daa1066b-0056-4a72-a7d1-bf86e61dea8f",
    "deepnote_to_be_reexecuted": false,
    "source_hash": "4a56c11d",
    "execution_start": 1624689078049,
    "execution_millis": 2,
    "deepnote_cell_type": "code"
   },
   "outputs": [],
   "execution_count": null
  },
  {
   "cell_type": "code",
   "source": "fib_loop(34)",
   "metadata": {
    "tags": [],
    "cell_id": "00041-9568a1b6-6442-4a89-a9b4-cbe0d589e619",
    "deepnote_to_be_reexecuted": false,
    "source_hash": "e2048ed5",
    "execution_start": 1624689078240,
    "execution_millis": 11,
    "deepnote_cell_type": "code"
   },
   "outputs": [
    {
     "name": "stdout",
     "text": "fib_loop(34) took 5.309999778546626e-06 to run.\n",
     "output_type": "stream"
    },
    {
     "output_type": "execute_result",
     "execution_count": 64,
     "data": {
      "text/plain": "5702887"
     },
     "metadata": {}
    }
   ],
   "execution_count": null
  },
  {
   "cell_type": "code",
   "source": "fib_loop(35)",
   "metadata": {
    "tags": [],
    "cell_id": "00042-65d61fdd-2bcf-41b9-8521-80a8193819a7",
    "deepnote_to_be_reexecuted": false,
    "source_hash": "2af10e50",
    "execution_start": 1624689078437,
    "execution_millis": 12,
    "deepnote_cell_type": "code"
   },
   "outputs": [
    {
     "name": "stdout",
     "text": "fib_loop(35) took 5.1800002438540105e-06 to run.\n",
     "output_type": "stream"
    },
    {
     "output_type": "execute_result",
     "execution_count": 65,
     "data": {
      "text/plain": "9227465"
     },
     "metadata": {}
    }
   ],
   "execution_count": null
  },
  {
   "cell_type": "code",
   "source": "from functools import reduce\n\n@timed\ndef fib_reduce(n):\n    initial = (1, 0)\n    dummy = range(n)\n    fib_n = reduce(lambda prev, n: (prev[0] + prev[1], prev[0]),\n                    dummy,\n                    initial)\n    return fib_n[0]",
   "metadata": {
    "tags": [],
    "cell_id": "00043-908e83fd-6e69-4fcc-8701-ac9cd79f2932",
    "deepnote_to_be_reexecuted": false,
    "source_hash": "ebf184f5",
    "execution_start": 1624689078534,
    "execution_millis": 2,
    "deepnote_cell_type": "code"
   },
   "outputs": [],
   "execution_count": null
  },
  {
   "cell_type": "code",
   "source": "fib_reduce(34)",
   "metadata": {
    "tags": [],
    "cell_id": "00044-9118ece8-49fb-4a31-a890-3ad11e92ca1a",
    "deepnote_to_be_reexecuted": false,
    "source_hash": "add11b18",
    "execution_start": 1624689078753,
    "execution_millis": 13,
    "deepnote_cell_type": "code"
   },
   "outputs": [
    {
     "name": "stdout",
     "text": "fib_reduce(34) took 1.5309999980672728e-05 to run.\n",
     "output_type": "stream"
    },
    {
     "output_type": "execute_result",
     "execution_count": 67,
     "data": {
      "text/plain": "9227465"
     },
     "metadata": {}
    }
   ],
   "execution_count": null
  },
  {
   "cell_type": "code",
   "source": "fib_reduce(35)",
   "metadata": {
    "tags": [],
    "cell_id": "00045-3dfbd391-0a3d-452c-81fa-d7219221ded4",
    "deepnote_to_be_reexecuted": false,
    "source_hash": "514d50d3",
    "execution_start": 1624689078913,
    "execution_millis": 16,
    "deepnote_cell_type": "code"
   },
   "outputs": [
    {
     "name": "stdout",
     "text": "fib_reduce(35) took 2.128000005541253e-05 to run.\n",
     "output_type": "stream"
    },
    {
     "output_type": "execute_result",
     "execution_count": 68,
     "data": {
      "text/plain": "14930352"
     },
     "metadata": {}
    }
   ],
   "execution_count": null
  },
  {
   "cell_type": "code",
   "source": "fib_recursed(35)\nfib_loop(35)\nfib_reduce(35)",
   "metadata": {
    "tags": [],
    "cell_id": "00046-c6959602-1db1-4e03-aab6-7cba1057dc9a",
    "deepnote_to_be_reexecuted": false,
    "source_hash": "8b530e08",
    "execution_start": 1624689079050,
    "execution_millis": 4733,
    "deepnote_cell_type": "code"
   },
   "outputs": [
    {
     "name": "stdout",
     "text": "fib_recursed(35) took 4.711283089000062 to run.\nfib_loop(35) took 8.580000212532468e-06 to run.\nfib_reduce(35) took 2.2759999865229474e-05 to run.\n",
     "output_type": "stream"
    },
    {
     "output_type": "execute_result",
     "execution_count": 69,
     "data": {
      "text/plain": "14930352"
     },
     "metadata": {}
    }
   ],
   "execution_count": null
  },
  {
   "cell_type": "code",
   "source": "for i in range(10):\n    result =  fib_loop(10000)",
   "metadata": {
    "tags": [],
    "cell_id": "00047-b8a17d9a-8769-4dc7-93e1-58856196dbf3",
    "deepnote_to_be_reexecuted": false,
    "source_hash": "5ec63f1c",
    "execution_start": 1624689083778,
    "execution_millis": 52,
    "deepnote_cell_type": "code"
   },
   "outputs": [
    {
     "name": "stdout",
     "text": "fib_loop(10000) took 0.0028843850000157545 to run.\nfib_loop(10000) took 0.002465429000039876 to run.\nfib_loop(10000) took 0.0026914830000350776 to run.\nfib_loop(10000) took 0.00277266300008705 to run.\nfib_loop(10000) took 0.0028467740003179642 to run.\nfib_loop(10000) took 0.011570717000267905 to run.\nfib_loop(10000) took 0.0040592479999759234 to run.\nfib_loop(10000) took 0.003041867000320053 to run.\nfib_loop(10000) took 0.002896254000006593 to run.\nfib_loop(10000) took 0.0038701469998159155 to run.\n",
     "output_type": "stream"
    }
   ],
   "execution_count": null
  },
  {
   "cell_type": "code",
   "source": "for i in range(10):\n    result = fib_reduce(10000)",
   "metadata": {
    "tags": [],
    "cell_id": "00048-3314b0f5-2ffd-43be-9a34-b503d86fb678",
    "deepnote_to_be_reexecuted": false,
    "source_hash": "ca169a2b",
    "execution_start": 1624689083865,
    "execution_millis": 40,
    "deepnote_cell_type": "code"
   },
   "outputs": [
    {
     "name": "stdout",
     "text": "fib_reduce(10000) took 0.007275827000285062 to run.\nfib_reduce(10000) took 0.007967454999743495 to run.\nfib_reduce(10000) took 0.006017581999913091 to run.\nfib_reduce(10000) took 0.004987518999769236 to run.\nfib_reduce(10000) took 0.0050488500000938075 to run.\nfib_reduce(10000) took 0.006679779999558377 to run.\nfib_reduce(10000) took 0.005447484999876906 to run.\nfib_reduce(10000) took 0.004996359999950073 to run.\nfib_reduce(10000) took 0.0050101090000680415 to run.\nfib_reduce(10000) took 0.005052819999946223 to run.\n",
     "output_type": "stream"
    }
   ],
   "execution_count": null
  },
  {
   "cell_type": "code",
   "source": "from functools import reduce \n\nfib_1 = timed(lambda n: reduce(lambda prev, n: (prev[0] + prev[1], prev[0]),\n                               range(n), \n                               (0, 1))[0])",
   "metadata": {
    "tags": [],
    "cell_id": "00049-a788e56b-ac90-4da7-93fe-14f72d4915e0",
    "deepnote_to_be_reexecuted": false,
    "source_hash": "688747c5",
    "execution_start": 1624689083939,
    "execution_millis": 44891,
    "deepnote_cell_type": "code"
   },
   "outputs": [],
   "execution_count": null
  },
  {
   "cell_type": "code",
   "source": "fib_loop(100)",
   "metadata": {
    "tags": [],
    "cell_id": "00050-d7f3a50b-eb69-4eaf-8a64-6ece4fb700aa",
    "deepnote_to_be_reexecuted": false,
    "source_hash": "e01697c9",
    "execution_start": 1624689083939,
    "execution_millis": 40937,
    "deepnote_cell_type": "code"
   },
   "outputs": [
    {
     "name": "stdout",
     "text": "fib_loop(100) took 1.4091000139160315e-05 to run.\n",
     "output_type": "stream"
    },
    {
     "output_type": "execute_result",
     "execution_count": 73,
     "data": {
      "text/plain": "354224848179261915075"
     },
     "metadata": {}
    }
   ],
   "execution_count": null
  },
  {
   "cell_type": "code",
   "source": "fib_1(100)",
   "metadata": {
    "tags": [],
    "cell_id": "00051-95816106-a619-49b7-a14f-77648315e635",
    "deepnote_to_be_reexecuted": false,
    "source_hash": "3ed6a75a",
    "execution_start": 1624689083940,
    "execution_millis": 3,
    "deepnote_cell_type": "code"
   },
   "outputs": [
    {
     "name": "stdout",
     "text": "<lambda>(100) took 5.4490999900735915e-05 to run.\n",
     "output_type": "stream"
    },
    {
     "output_type": "execute_result",
     "execution_count": 74,
     "data": {
      "text/plain": "354224848179261915075"
     },
     "metadata": {}
    }
   ],
   "execution_count": null
  },
  {
   "cell_type": "markdown",
   "source": "## Logger",
   "metadata": {
    "tags": [],
    "cell_id": "00052-247e4e19-cd68-444f-aaa1-759c93005341",
    "deepnote_cell_type": "text-cell-h2"
   }
  },
  {
   "cell_type": "code",
   "source": "def logger(fn):\n    from functools import wraps\n    from datetime import datetime, timezone\n\n    @wraps(fn)\n    def inner(*args, **kwargs):\n        run_dt = datetime.now(timezone.utc)\n        result = fn(*args, **kwargs)\n        print(f'{fn.__name__}: called {run_dt}')\n        return result\n    return inner",
   "metadata": {
    "tags": [],
    "cell_id": "00052-77be2a01-8151-4b3a-a9d5-995b4f11c71f",
    "deepnote_to_be_reexecuted": false,
    "source_hash": "eeb05f46",
    "execution_start": 1624689219910,
    "execution_millis": 1,
    "deepnote_cell_type": "code"
   },
   "outputs": [],
   "execution_count": null
  },
  {
   "cell_type": "code",
   "source": "@logger\ndef func_1():\n    pass\n\nfunc_1()",
   "metadata": {
    "tags": [],
    "cell_id": "00053-c2a96882-f35a-4413-983f-09092ef87d56",
    "deepnote_to_be_reexecuted": false,
    "source_hash": "83da6725",
    "execution_start": 1624689247194,
    "execution_millis": 10,
    "deepnote_cell_type": "code"
   },
   "outputs": [
    {
     "name": "stdout",
     "text": "func_1: called 2021-06-26 06:34:07.189183+00:00\n",
     "output_type": "stream"
    }
   ],
   "execution_count": null
  },
  {
   "cell_type": "code",
   "source": "@timed\n@logger \ndef factorial(n):\n    from operator import mul\n    from functools import reduce\n    return reduce(mul, range(1, n + 1))\n\nfactorial(10)",
   "metadata": {
    "tags": [],
    "cell_id": "00055-735c17ef-3e4e-443c-adb7-4399e19ddaea",
    "deepnote_to_be_reexecuted": false,
    "source_hash": "ea13988b",
    "execution_start": 1624689336760,
    "execution_millis": 14,
    "deepnote_cell_type": "code"
   },
   "outputs": [
    {
     "name": "stdout",
     "text": "factorial: called 2021-06-26 06:35:36.754417+00:00\nfactorial(10) took 0.00015698100014560623 to run.\n",
     "output_type": "stream"
    },
    {
     "output_type": "execute_result",
     "execution_count": 78,
     "data": {
      "text/plain": "3628800"
     },
     "metadata": {}
    }
   ],
   "execution_count": null
  },
  {
   "cell_type": "code",
   "source": "\ndef factorial(n):\n    from operator import mul\n    from functools import reduce\n    return reduce(mul, range(1, n + 1))\n\nfactorial = timed(logger(factorial))\nfactorial(10)",
   "metadata": {
    "tags": [],
    "cell_id": "00056-77dbb1c2-1530-4ab9-9729-e897bea943c7",
    "deepnote_to_be_reexecuted": false,
    "source_hash": "937f90dd",
    "execution_start": 1624689429487,
    "execution_millis": 12,
    "deepnote_cell_type": "code"
   },
   "outputs": [
    {
     "name": "stdout",
     "text": "factorial: called 2021-06-26 06:37:09.481363+00:00\nfactorial(10) took 0.0001320410001426353 to run.\n",
     "output_type": "stream"
    },
    {
     "output_type": "execute_result",
     "execution_count": 79,
     "data": {
      "text/plain": "3628800"
     },
     "metadata": {}
    }
   ],
   "execution_count": null
  },
  {
   "cell_type": "code",
   "source": "\ndef factorial(n):\n    from operator import mul\n    from functools import reduce\n    return reduce(mul, range(1, n + 1))\n\nfactorial = logger(timed(factorial))\nfactorial(10)",
   "metadata": {
    "tags": [],
    "cell_id": "00057-87ef9c84-269b-4f5e-874b-b7db41c498bb",
    "deepnote_to_be_reexecuted": false,
    "source_hash": "42439231",
    "execution_start": 1624689476845,
    "execution_millis": 26,
    "deepnote_cell_type": "code"
   },
   "outputs": [
    {
     "name": "stdout",
     "text": "factorial(10) took 9.230000159732299e-06 to run.\nfactorial: called 2021-06-26 06:37:56.837080+00:00\n",
     "output_type": "stream"
    },
    {
     "output_type": "execute_result",
     "execution_count": 80,
     "data": {
      "text/plain": "3628800"
     },
     "metadata": {}
    }
   ],
   "execution_count": null
  },
  {
   "cell_type": "code",
   "source": "@logger\n@timed \ndef factorial(n):\n    from operator import mul\n    from functools import reduce\n    return reduce(mul, range(1, n + 1))\n\nfactorial(10)",
   "metadata": {
    "tags": [],
    "cell_id": "00058-cca6c17a-43dc-4d46-a99e-2ae4380dafa6",
    "deepnote_to_be_reexecuted": false,
    "source_hash": "c852f119",
    "execution_start": 1624689505539,
    "execution_millis": 12,
    "deepnote_cell_type": "code"
   },
   "outputs": [
    {
     "name": "stdout",
     "text": "factorial(10) took 9.479999789618887e-06 to run.\nfactorial: called 2021-06-26 06:38:25.490428+00:00\n",
     "output_type": "stream"
    },
    {
     "output_type": "execute_result",
     "execution_count": 81,
     "data": {
      "text/plain": "3628800"
     },
     "metadata": {}
    }
   ],
   "execution_count": null
  },
  {
   "cell_type": "code",
   "source": "factorial(10)",
   "metadata": {
    "tags": [],
    "cell_id": "00059-3e4a934f-3d3d-4194-8a44-a2659f34d736",
    "deepnote_to_be_reexecuted": false,
    "source_hash": "28a3322c",
    "execution_start": 1624689510236,
    "execution_millis": 21,
    "deepnote_cell_type": "code"
   },
   "outputs": [
    {
     "name": "stdout",
     "text": "factorial(10) took 1.3639999906445155e-05 to run.\nfactorial: called 2021-06-26 06:38:30.231429+00:00\n",
     "output_type": "stream"
    },
    {
     "output_type": "execute_result",
     "execution_count": 82,
     "data": {
      "text/plain": "3628800"
     },
     "metadata": {}
    }
   ],
   "execution_count": null
  },
  {
   "cell_type": "code",
   "source": "def dec_1(fn):\n    def inner():\n        print('running dec_1')\n        return fn()\n    return inner\n    \ndef dec_2(fn):\n    def inner():\n        print('running dec_2')\n        return fn()\n    return inner\n\n@dec_1\n@dec_2\ndef my_func():\n    print('running my_func')\n\nmy_func()\n    ",
   "metadata": {
    "tags": [],
    "cell_id": "00060-3c90936a-8330-4a4e-bb66-18458c0baef6",
    "deepnote_to_be_reexecuted": false,
    "source_hash": "48fa42b8",
    "execution_start": 1624689589656,
    "execution_millis": 17,
    "deepnote_cell_type": "code"
   },
   "outputs": [
    {
     "name": "stdout",
     "text": "running dec_1\nrunning dec_2\nrunning my_func\n",
     "output_type": "stream"
    }
   ],
   "execution_count": null
  },
  {
   "cell_type": "code",
   "source": "@dec_2\n@dec_1\ndef my_func():\n    print('running my_func')\n\nmy_func()",
   "metadata": {
    "tags": [],
    "cell_id": "00061-ae584911-334d-42a5-9f87-2eb84a47362e",
    "deepnote_to_be_reexecuted": false,
    "source_hash": "5404da25",
    "execution_start": 1624689603691,
    "execution_millis": 12,
    "deepnote_cell_type": "code"
   },
   "outputs": [
    {
     "name": "stdout",
     "text": "running dec_2\nrunning dec_1\nrunning my_func\n",
     "output_type": "stream"
    }
   ],
   "execution_count": null
  },
  {
   "cell_type": "markdown",
   "source": "### Option A\n@log_access_requeest\n@authorize\n@logs_signing_ins\ndef my_results():\n    pass\n\n### Option B\n@authorize\n@log\ndef my_results():\n    pass  ",
   "metadata": {
    "tags": [],
    "cell_id": "00062-67ff555b-14cb-4c63-9303-e06b22dc8f3b",
    "deepnote_cell_type": "markdown"
   }
  },
  {
   "cell_type": "markdown",
   "source": "## Memoization",
   "metadata": {
    "tags": [],
    "cell_id": "00063-2ab4d444-2e96-4530-b840-9aff7b1e79dd",
    "deepnote_cell_type": "text-cell-h2"
   }
  },
  {
   "cell_type": "code",
   "source": "def fib(n):\n    print ('Calculating fib({0})'.format(n))\n    return 1 if n < 3 else fib(n-1) + fib(n-2)",
   "metadata": {
    "tags": [],
    "cell_id": "00062-e272ce4d-f6dc-42ab-b55d-17f859649b0c",
    "deepnote_to_be_reexecuted": false,
    "source_hash": "4e6e6867",
    "execution_start": 1624689881025,
    "execution_millis": 4,
    "deepnote_cell_type": "code"
   },
   "outputs": [],
   "execution_count": null
  },
  {
   "cell_type": "code",
   "source": "fib(5)",
   "metadata": {
    "tags": [],
    "cell_id": "00066-46ebdac8-63fd-4bf9-83cc-2ca1870f60b2",
    "deepnote_to_be_reexecuted": false,
    "source_hash": "cbd67fe2",
    "execution_start": 1624689902774,
    "execution_millis": 13,
    "deepnote_cell_type": "code"
   },
   "outputs": [
    {
     "name": "stdout",
     "text": "Calculating fib(5)\nCalculating fib(4)\nCalculating fib(3)\nCalculating fib(2)\nCalculating fib(1)\nCalculating fib(2)\nCalculating fib(3)\nCalculating fib(2)\nCalculating fib(1)\n",
     "output_type": "stream"
    },
    {
     "output_type": "execute_result",
     "execution_count": 89,
     "data": {
      "text/plain": "5"
     },
     "metadata": {}
    }
   ],
   "execution_count": null
  },
  {
   "cell_type": "code",
   "source": "class Fib:\n    def __init__(self):\n        self.cache = {1: 1, 2: 1}\n    \n    def fib(self, n):\n        if n not in self.cache:\n            print('Calculating fib({0})'.format(n))\n            self.cache[n] = self.fib(n-1) + self.fib(n-2)\n        return self.cache[n]",
   "metadata": {
    "tags": [],
    "cell_id": "00066-885aa069-ecfd-405b-b9c7-010b5c3ea756",
    "deepnote_to_be_reexecuted": false,
    "source_hash": "14cda80c",
    "execution_start": 1624690121826,
    "execution_millis": 2,
    "deepnote_cell_type": "code"
   },
   "outputs": [],
   "execution_count": null
  },
  {
   "cell_type": "code",
   "source": "f = Fib()\nf.fib(1)",
   "metadata": {
    "tags": [],
    "cell_id": "00067-4c66fdb8-7144-4ac6-beb8-aed6143e6940",
    "deepnote_to_be_reexecuted": false,
    "source_hash": "199c7861",
    "execution_start": 1624690133368,
    "execution_millis": 30,
    "deepnote_cell_type": "code"
   },
   "outputs": [
    {
     "output_type": "execute_result",
     "execution_count": 91,
     "data": {
      "text/plain": "1"
     },
     "metadata": {}
    }
   ],
   "execution_count": null
  },
  {
   "cell_type": "code",
   "source": "f.fib(2)",
   "metadata": {
    "tags": [],
    "cell_id": "00068-871a4e23-13fa-48d3-bc30-aace4208fa3d",
    "deepnote_to_be_reexecuted": false,
    "source_hash": "5f7b6857",
    "execution_start": 1624690141915,
    "execution_millis": 36,
    "deepnote_cell_type": "code"
   },
   "outputs": [
    {
     "output_type": "execute_result",
     "execution_count": 92,
     "data": {
      "text/plain": "1"
     },
     "metadata": {}
    }
   ],
   "execution_count": null
  },
  {
   "cell_type": "code",
   "source": "f.fib(3)",
   "metadata": {
    "tags": [],
    "cell_id": "00069-621585af-3146-4a93-8299-275abed2d8d6",
    "deepnote_to_be_reexecuted": false,
    "source_hash": "478f8be9",
    "execution_start": 1624690172331,
    "execution_millis": 26,
    "deepnote_cell_type": "code"
   },
   "outputs": [
    {
     "name": "stdout",
     "text": "Calculating fib(3)\n",
     "output_type": "stream"
    },
    {
     "output_type": "execute_result",
     "execution_count": 93,
     "data": {
      "text/plain": "2"
     },
     "metadata": {}
    }
   ],
   "execution_count": null
  },
  {
   "cell_type": "code",
   "source": "f.fib(3)",
   "metadata": {
    "tags": [],
    "cell_id": "00070-730f40ac-32f2-49a9-bed6-e5e90102da1e",
    "deepnote_to_be_reexecuted": false,
    "source_hash": "478f8be9",
    "execution_start": 1624690175797,
    "execution_millis": 0,
    "deepnote_cell_type": "code"
   },
   "outputs": [
    {
     "output_type": "execute_result",
     "execution_count": 94,
     "data": {
      "text/plain": "2"
     },
     "metadata": {}
    }
   ],
   "execution_count": null
  },
  {
   "cell_type": "code",
   "source": "f.fib(10)",
   "metadata": {
    "tags": [],
    "cell_id": "00071-07c61297-1200-490d-a311-643fa000c9b1",
    "deepnote_to_be_reexecuted": false,
    "source_hash": "6f5b7874",
    "execution_start": 1624690184077,
    "execution_millis": 15,
    "deepnote_cell_type": "code"
   },
   "outputs": [
    {
     "name": "stdout",
     "text": "Calculating fib(10)\nCalculating fib(9)\nCalculating fib(8)\nCalculating fib(7)\nCalculating fib(6)\nCalculating fib(5)\nCalculating fib(4)\n",
     "output_type": "stream"
    },
    {
     "output_type": "execute_result",
     "execution_count": 95,
     "data": {
      "text/plain": "55"
     },
     "metadata": {}
    }
   ],
   "execution_count": null
  },
  {
   "cell_type": "code",
   "source": "def fib():\n    cache = {1: 1, 2: 2}\n    \n    def calc_fib(n):\n        if n not in cache:\n            print('Calculating fib({0})'.format(n))\n            cache[n] = calc_fib(n-1) + calc_fib(n-2)\n        return cache[n]\n    \n    return calc_fib",
   "metadata": {
    "tags": [],
    "cell_id": "00072-10c8c40c-c17b-48a9-827c-88cc5670d487",
    "deepnote_to_be_reexecuted": false,
    "source_hash": "ebb6a9ee",
    "execution_start": 1624690244476,
    "execution_millis": 8,
    "deepnote_cell_type": "code"
   },
   "outputs": [],
   "execution_count": null
  },
  {
   "cell_type": "code",
   "source": "f = fib()",
   "metadata": {
    "tags": [],
    "cell_id": "00073-2ac9ebfe-ccc9-428b-a522-25f5ccb086ee",
    "deepnote_to_be_reexecuted": false,
    "source_hash": "b2c2a864",
    "execution_start": 1624690250616,
    "execution_millis": 4,
    "deepnote_cell_type": "code"
   },
   "outputs": [],
   "execution_count": null
  },
  {
   "cell_type": "code",
   "source": "f(10)",
   "metadata": {
    "tags": [],
    "cell_id": "00074-425394d3-dd6b-4937-a1f8-3ebc9cc8a007",
    "deepnote_to_be_reexecuted": false,
    "source_hash": "8ad7afe6",
    "execution_start": 1624690261585,
    "execution_millis": 14,
    "deepnote_cell_type": "code"
   },
   "outputs": [
    {
     "name": "stdout",
     "text": "Calculating fib(10)\nCalculating fib(9)\nCalculating fib(8)\nCalculating fib(7)\nCalculating fib(6)\nCalculating fib(5)\nCalculating fib(4)\nCalculating fib(3)\n",
     "output_type": "stream"
    },
    {
     "output_type": "execute_result",
     "execution_count": 100,
     "data": {
      "text/plain": "89"
     },
     "metadata": {}
    }
   ],
   "execution_count": null
  },
  {
   "cell_type": "code",
   "source": "from functools import wraps\n\ndef memoize_fib(fn):\n    cache = dict()\n    @wraps(fn)\n    def inner(n):\n        if n not in cache:\n            cache[n] = fn(n)\n\n        return cache[n]\n    return inner",
   "metadata": {
    "tags": [],
    "cell_id": "00075-5e8747a8-f89e-4226-8f6d-22816c47c620",
    "deepnote_to_be_reexecuted": false,
    "source_hash": "85b6c750",
    "execution_start": 1624690336780,
    "execution_millis": 16,
    "deepnote_cell_type": "code"
   },
   "outputs": [],
   "execution_count": null
  },
  {
   "cell_type": "code",
   "source": "@memoize_fib\ndef fib(n):\n    print ('Calculating fib({0})'.format(n))\n    return 1 if n < 3 else fib(n-1) + fib(n-2)",
   "metadata": {
    "tags": [],
    "cell_id": "00076-fe14ef53-f1ce-406e-921a-89b2c0ad5b94",
    "deepnote_to_be_reexecuted": false,
    "source_hash": "60cee28d",
    "execution_start": 1624690362275,
    "execution_millis": 10,
    "deepnote_cell_type": "code"
   },
   "outputs": [],
   "execution_count": null
  },
  {
   "cell_type": "code",
   "source": "fib(3)",
   "metadata": {
    "tags": [],
    "cell_id": "00077-bcd8589c-8420-4ec4-93f0-63409e69b3a9",
    "deepnote_to_be_reexecuted": false,
    "source_hash": "8c3f32b5",
    "execution_start": 1624690364830,
    "execution_millis": 13,
    "deepnote_cell_type": "code"
   },
   "outputs": [
    {
     "name": "stdout",
     "text": "Calculating fib(3)\nCalculating fib(2)\nCalculating fib(1)\n",
     "output_type": "stream"
    },
    {
     "output_type": "execute_result",
     "execution_count": 103,
     "data": {
      "text/plain": "2"
     },
     "metadata": {}
    }
   ],
   "execution_count": null
  },
  {
   "cell_type": "code",
   "source": "fib(3)",
   "metadata": {
    "tags": [],
    "cell_id": "00078-24523bc6-5846-475f-90ea-0ec91f473e89",
    "deepnote_to_be_reexecuted": false,
    "source_hash": "8c3f32b5",
    "execution_start": 1624690371659,
    "execution_millis": 21,
    "deepnote_cell_type": "code"
   },
   "outputs": [
    {
     "output_type": "execute_result",
     "execution_count": 104,
     "data": {
      "text/plain": "2"
     },
     "metadata": {}
    }
   ],
   "execution_count": null
  },
  {
   "cell_type": "code",
   "source": "fib(10)",
   "metadata": {
    "tags": [],
    "cell_id": "00079-fcbfac7c-f275-452f-9055-b4318844b367",
    "deepnote_to_be_reexecuted": false,
    "source_hash": "a08c9b66",
    "execution_start": 1624690392466,
    "execution_millis": 8,
    "deepnote_cell_type": "code"
   },
   "outputs": [
    {
     "name": "stdout",
     "text": "Calculating fib(10)\nCalculating fib(9)\nCalculating fib(8)\nCalculating fib(7)\nCalculating fib(6)\nCalculating fib(5)\nCalculating fib(4)\n",
     "output_type": "stream"
    },
    {
     "output_type": "execute_result",
     "execution_count": 105,
     "data": {
      "text/plain": "55"
     },
     "metadata": {}
    }
   ],
   "execution_count": null
  },
  {
   "cell_type": "code",
   "source": "def memoize(fn):\n    cache = dict()\n    \n    @wraps(fn)\n    def inner(*args):\n        if args not in cache:\n            cache[args] = fn(*args)\n        return cache[args]\n    \n    return inner",
   "metadata": {
    "tags": [],
    "cell_id": "00080-12e480c7-2671-4ba3-af71-f2b9467af33b",
    "deepnote_to_be_reexecuted": false,
    "source_hash": "2afd6f9f",
    "execution_start": 1624690416868,
    "execution_millis": 0,
    "deepnote_cell_type": "code"
   },
   "outputs": [],
   "execution_count": null
  },
  {
   "cell_type": "code",
   "source": "@memoize\ndef fib(n):\n    print ('Calculating fib({0})'.format(n))\n    return 1 if n < 3 else fib(n-1) + fib(n-2)",
   "metadata": {
    "tags": [],
    "cell_id": "00081-741d4fc3-d96d-4e9b-9a22-36ac177566b7",
    "deepnote_to_be_reexecuted": false,
    "source_hash": "6954a6dc",
    "execution_start": 1624690426650,
    "execution_millis": 0,
    "deepnote_cell_type": "code"
   },
   "outputs": [],
   "execution_count": null
  },
  {
   "cell_type": "code",
   "source": "fib(6)",
   "metadata": {
    "tags": [],
    "cell_id": "00082-dd5b9cc5-2423-416f-81dd-e54adf690fb9",
    "deepnote_to_be_reexecuted": false,
    "source_hash": "84553b",
    "execution_start": 1624690431288,
    "execution_millis": 21,
    "deepnote_cell_type": "code"
   },
   "outputs": [
    {
     "name": "stdout",
     "text": "Calculating fib(6)\nCalculating fib(5)\nCalculating fib(4)\nCalculating fib(3)\nCalculating fib(2)\nCalculating fib(1)\n",
     "output_type": "stream"
    },
    {
     "output_type": "execute_result",
     "execution_count": 108,
     "data": {
      "text/plain": "8"
     },
     "metadata": {}
    }
   ],
   "execution_count": null
  },
  {
   "cell_type": "code",
   "source": "fib(7)",
   "metadata": {
    "tags": [],
    "cell_id": "00083-531ecac6-9db0-4474-8969-53f5fc7cf64c",
    "deepnote_to_be_reexecuted": false,
    "source_hash": "f4322192",
    "execution_start": 1624690436891,
    "execution_millis": 21,
    "deepnote_cell_type": "code"
   },
   "outputs": [
    {
     "name": "stdout",
     "text": "Calculating fib(7)\n",
     "output_type": "stream"
    },
    {
     "output_type": "execute_result",
     "execution_count": 109,
     "data": {
      "text/plain": "13"
     },
     "metadata": {}
    }
   ],
   "execution_count": null
  },
  {
   "cell_type": "code",
   "source": "import time\n\n@memoize\ndef dumb_function(something):\n    if something == 4:\n        time.sleep(2)\n        return 4\n    else:\n        time.sleep(1)\n        return something\n\n",
   "metadata": {
    "tags": [],
    "cell_id": "00084-b494be49-ba23-4468-b36a-48ec76735bba",
    "deepnote_to_be_reexecuted": false,
    "source_hash": "1ae89df",
    "execution_start": 1624690553209,
    "execution_millis": 4,
    "deepnote_cell_type": "code"
   },
   "outputs": [],
   "execution_count": null
  },
  {
   "cell_type": "code",
   "source": "dumb_function(4)",
   "metadata": {
    "tags": [],
    "cell_id": "00085-cde2b0c3-055e-400d-af80-8dc6caabd418",
    "deepnote_to_be_reexecuted": false,
    "source_hash": "6da9ebe3",
    "execution_start": 1624690562830,
    "execution_millis": 2014,
    "deepnote_cell_type": "code"
   },
   "outputs": [
    {
     "output_type": "execute_result",
     "execution_count": 112,
     "data": {
      "text/plain": "4"
     },
     "metadata": {}
    }
   ],
   "execution_count": null
  },
  {
   "cell_type": "code",
   "source": "dumb_function(4)",
   "metadata": {
    "tags": [],
    "cell_id": "00086-2b45bd7c-a07c-4501-a79d-71477cfe3410",
    "deepnote_to_be_reexecuted": false,
    "source_hash": "6da9ebe3",
    "execution_start": 1624690569766,
    "execution_millis": 19,
    "deepnote_cell_type": "code"
   },
   "outputs": [
    {
     "output_type": "execute_result",
     "execution_count": 113,
     "data": {
      "text/plain": "4"
     },
     "metadata": {}
    }
   ],
   "execution_count": null
  },
  {
   "cell_type": "code",
   "source": "from functools import lru_cache\n\n@lru_cache\ndef fact(n):\n    print(\"Calculating fact({0})\".format(n))\n    return 1 if n < 2 else n * fact(n-1)\n\nfact(5)",
   "metadata": {
    "tags": [],
    "cell_id": "00087-bcd87acf-7f42-4c9f-b477-d14a614cf528",
    "deepnote_to_be_reexecuted": false,
    "source_hash": "10e520e2",
    "execution_start": 1624690659975,
    "execution_millis": 18,
    "deepnote_cell_type": "code"
   },
   "outputs": [
    {
     "name": "stdout",
     "text": "Calculating fact(5)\nCalculating fact(4)\nCalculating fact(3)\nCalculating fact(2)\nCalculating fact(1)\n",
     "output_type": "stream"
    },
    {
     "output_type": "execute_result",
     "execution_count": 114,
     "data": {
      "text/plain": "120"
     },
     "metadata": {}
    }
   ],
   "execution_count": null
  },
  {
   "cell_type": "code",
   "source": "fact(4)",
   "metadata": {
    "tags": [],
    "cell_id": "00088-6b189c8d-453b-462f-8d63-60f5b44fd1a8",
    "deepnote_to_be_reexecuted": false,
    "source_hash": "688bc07f",
    "execution_start": 1624690664625,
    "execution_millis": 26,
    "deepnote_cell_type": "code"
   },
   "outputs": [
    {
     "output_type": "execute_result",
     "execution_count": 115,
     "data": {
      "text/plain": "24"
     },
     "metadata": {}
    }
   ],
   "execution_count": null
  },
  {
   "cell_type": "code",
   "source": "@lru_cache()\ndef fib(n):\n    print(\"Calculating fib({0})\".format(n))\n    return 1 if n < 3 else fib(n-1) + fib(n-2)",
   "metadata": {
    "tags": [],
    "cell_id": "00089-57b38573-9b07-4a07-9937-fb3714c47174",
    "deepnote_to_be_reexecuted": false,
    "source_hash": "460d9aff",
    "execution_start": 1624690675092,
    "execution_millis": 3,
    "deepnote_cell_type": "code"
   },
   "outputs": [],
   "execution_count": null
  },
  {
   "cell_type": "code",
   "source": "fib(6)",
   "metadata": {
    "tags": [],
    "cell_id": "00090-fd4e9161-5b70-4264-a7a5-c0f6c052a576",
    "deepnote_to_be_reexecuted": false,
    "source_hash": "84553b",
    "execution_start": 1624690679578,
    "execution_millis": 18,
    "deepnote_cell_type": "code"
   },
   "outputs": [
    {
     "name": "stdout",
     "text": "Calculating fib(6)\nCalculating fib(5)\nCalculating fib(4)\nCalculating fib(3)\nCalculating fib(2)\nCalculating fib(1)\n",
     "output_type": "stream"
    },
    {
     "output_type": "execute_result",
     "execution_count": 117,
     "data": {
      "text/plain": "8"
     },
     "metadata": {}
    }
   ],
   "execution_count": null
  },
  {
   "cell_type": "code",
   "source": "fib(5)",
   "metadata": {
    "tags": [],
    "cell_id": "00091-2fee2085-27da-4e0f-bd1f-fc7f187c2ca8",
    "deepnote_to_be_reexecuted": false,
    "source_hash": "cbd67fe2",
    "execution_start": 1624690685697,
    "execution_millis": 0,
    "deepnote_cell_type": "code"
   },
   "outputs": [
    {
     "output_type": "execute_result",
     "execution_count": 118,
     "data": {
      "text/plain": "5"
     },
     "metadata": {}
    }
   ],
   "execution_count": null
  },
  {
   "cell_type": "code",
   "source": "@timed\n@lru_cache()\ndef fib(n):\n    print(\"Calculating fib({0})\".format(n))\n    return 1 if n < 3 else fib(n-1) + fib(n-2)\n\nfib(6)",
   "metadata": {
    "tags": [],
    "cell_id": "00092-507b967d-e6d7-4295-a568-bcb2a5c4ac5e",
    "deepnote_to_be_reexecuted": false,
    "source_hash": "afcdeb77",
    "execution_start": 1624690716317,
    "execution_millis": 22,
    "deepnote_cell_type": "code"
   },
   "outputs": [
    {
     "name": "stdout",
     "text": "Calculating fib(6)\nCalculating fib(5)\nCalculating fib(4)\nCalculating fib(3)\nCalculating fib(2)\nfib(2) took 0.000441715999841108 to run.\nCalculating fib(1)\nfib(1) took 0.0007805699997334159 to run.\nfib(3) took 0.002673071000572236 to run.\nfib(2) took 9.499999578110874e-07 to run.\nfib(4) took 0.003956137000386661 to run.\nfib(3) took 8.600000001024455e-07 to run.\nfib(5) took 0.004872747999797866 to run.\nfib(4) took 9.10000380827114e-07 to run.\nfib(6) took 0.006827371000326821 to run.\n",
     "output_type": "stream"
    },
    {
     "output_type": "execute_result",
     "execution_count": 119,
     "data": {
      "text/plain": "8"
     },
     "metadata": {}
    }
   ],
   "execution_count": null
  },
  {
   "cell_type": "code",
   "source": "def fib_no_memo(n):\n    return 1 if n < 3 else fib_no_memo(n-1) + fib_no_memo(n-2)",
   "metadata": {
    "tags": [],
    "cell_id": "00093-21ab1dca-4df0-4ffe-bd94-739b678912c9",
    "deepnote_to_be_reexecuted": false,
    "source_hash": "e5f1795c",
    "execution_start": 1624690759350,
    "execution_millis": 4,
    "deepnote_cell_type": "code"
   },
   "outputs": [],
   "execution_count": null
  },
  {
   "cell_type": "code",
   "source": "from time import perf_counter\nstart = perf_counter()\nresult = fib_no_memo(35)\nend = perf_counter()\nprint(f'result= {result}, elapsed: {end - start}')",
   "metadata": {
    "tags": [],
    "cell_id": "00094-dcc2fb8b-972e-411b-b399-936b2b488273",
    "deepnote_to_be_reexecuted": false,
    "source_hash": "326ca944",
    "execution_start": 1624690837226,
    "execution_millis": 2960,
    "deepnote_cell_type": "code"
   },
   "outputs": [
    {
     "name": "stdout",
     "text": "result= 9227465, elapsed: 2.951015474000087\n",
     "output_type": "stream"
    }
   ],
   "execution_count": null
  },
  {
   "cell_type": "code",
   "source": "@lru_cache()\ndef fib_memo(n):\n    return 1 if n < 3 else fib_memo(n-1) + fib_memo(n-2)",
   "metadata": {
    "tags": [],
    "cell_id": "00095-8d418080-7753-45a9-aec6-81caa1773ce1",
    "deepnote_to_be_reexecuted": false,
    "source_hash": "a7c27b08",
    "execution_start": 1624690860566,
    "execution_millis": 6,
    "deepnote_cell_type": "code"
   },
   "outputs": [],
   "execution_count": null
  },
  {
   "cell_type": "code",
   "source": "from time import perf_counter\nstart = perf_counter()\nresult = fib_memo(35)\nend = perf_counter()\nprint(f'result= {result}, elapsed: {end - start}')",
   "metadata": {
    "tags": [],
    "cell_id": "00096-94a07ed7-695e-4ccb-81cb-4639d69d1b99",
    "deepnote_to_be_reexecuted": false,
    "source_hash": "1e734b2c",
    "execution_start": 1624690870200,
    "execution_millis": 23,
    "deepnote_cell_type": "code"
   },
   "outputs": [
    {
     "name": "stdout",
     "text": "result= 9227465, elapsed: 0.0001803720006137155\n",
     "output_type": "stream"
    }
   ],
   "execution_count": null
  },
  {
   "cell_type": "code",
   "source": "from time import perf_counter\nstart = perf_counter()\nresult = fib_memo(35)\nend = perf_counter()\nprint(f'result= {result}, elapsed: {end - start}')",
   "metadata": {
    "tags": [],
    "cell_id": "00097-de2166ec-ec4a-4eea-8946-83fab8f37f56",
    "deepnote_to_be_reexecuted": false,
    "source_hash": "1e734b2c",
    "execution_start": 1624690882709,
    "execution_millis": 14,
    "deepnote_cell_type": "code"
   },
   "outputs": [
    {
     "name": "stdout",
     "text": "result= 9227465, elapsed: 7.955100045364816e-05\n",
     "output_type": "stream"
    }
   ],
   "execution_count": null
  },
  {
   "cell_type": "code",
   "source": "from time import perf_counter\nstart = perf_counter()\nresult = fib_memo(36)\nend = perf_counter()\nprint(f'result= {result}, elapsed: {end - start}')",
   "metadata": {
    "tags": [],
    "cell_id": "00098-ee7f45ac-f838-4aa0-b7a8-6b65115543b4",
    "deepnote_to_be_reexecuted": false,
    "source_hash": "eb023f87",
    "execution_start": 1624690895014,
    "execution_millis": 13,
    "deepnote_cell_type": "code"
   },
   "outputs": [
    {
     "name": "stdout",
     "text": "result= 14930352, elapsed: 9.083099939743988e-05\n",
     "output_type": "stream"
    }
   ],
   "execution_count": null
  },
  {
   "cell_type": "code",
   "source": "@lru_cache(maxsize=8)\ndef fib(n):\n    print(\"Calculating fib({0})\".format(n))\n    return 1 if n < 3 else fib(n-1) + fib(n-2)",
   "metadata": {
    "tags": [],
    "cell_id": "00099-c901f3d0-2f1d-4558-bd7f-cb9bd5758988",
    "deepnote_to_be_reexecuted": false,
    "source_hash": "fa002c7b",
    "execution_start": 1624690929500,
    "execution_millis": 6,
    "deepnote_cell_type": "code"
   },
   "outputs": [],
   "execution_count": null
  },
  {
   "cell_type": "code",
   "source": "fib(10)",
   "metadata": {
    "tags": [],
    "cell_id": "00100-9efef68e-024e-47c1-829d-30aaa2118d76",
    "deepnote_to_be_reexecuted": false,
    "source_hash": "a08c9b66",
    "execution_start": 1624690933631,
    "execution_millis": 15,
    "deepnote_cell_type": "code"
   },
   "outputs": [
    {
     "name": "stdout",
     "text": "Calculating fib(10)\nCalculating fib(9)\nCalculating fib(8)\nCalculating fib(7)\nCalculating fib(6)\nCalculating fib(5)\nCalculating fib(4)\nCalculating fib(3)\nCalculating fib(2)\nCalculating fib(1)\n",
     "output_type": "stream"
    },
    {
     "output_type": "execute_result",
     "execution_count": 128,
     "data": {
      "text/plain": "55"
     },
     "metadata": {}
    }
   ],
   "execution_count": null
  },
  {
   "cell_type": "code",
   "source": "fib(20)",
   "metadata": {
    "tags": [],
    "cell_id": "00101-4158e94e-6b0e-494b-aec2-4db1dcc25f80",
    "deepnote_to_be_reexecuted": false,
    "source_hash": "14efb514",
    "execution_start": 1624690939516,
    "execution_millis": 14,
    "deepnote_cell_type": "code"
   },
   "outputs": [
    {
     "name": "stdout",
     "text": "Calculating fib(20)\nCalculating fib(19)\nCalculating fib(18)\nCalculating fib(17)\nCalculating fib(16)\nCalculating fib(15)\nCalculating fib(14)\nCalculating fib(13)\nCalculating fib(12)\nCalculating fib(11)\n",
     "output_type": "stream"
    },
    {
     "output_type": "execute_result",
     "execution_count": 129,
     "data": {
      "text/plain": "6765"
     },
     "metadata": {}
    }
   ],
   "execution_count": null
  },
  {
   "cell_type": "code",
   "source": "fib(10)",
   "metadata": {
    "tags": [],
    "cell_id": "00102-5eb20198-4ce6-4aaf-a208-93fea8b6e9cf",
    "deepnote_to_be_reexecuted": false,
    "source_hash": "a08c9b66",
    "execution_start": 1624690949495,
    "execution_millis": 20,
    "deepnote_cell_type": "code"
   },
   "outputs": [
    {
     "name": "stdout",
     "text": "Calculating fib(10)\nCalculating fib(9)\nCalculating fib(8)\nCalculating fib(7)\nCalculating fib(6)\nCalculating fib(5)\nCalculating fib(4)\nCalculating fib(3)\nCalculating fib(2)\nCalculating fib(1)\n",
     "output_type": "stream"
    },
    {
     "output_type": "execute_result",
     "execution_count": 130,
     "data": {
      "text/plain": "55"
     },
     "metadata": {}
    }
   ],
   "execution_count": null
  },
  {
   "cell_type": "markdown",
   "source": "# Decorator Part 2",
   "metadata": {
    "tags": [],
    "cell_id": "00103-6fa6eb4a-2e20-4b8f-9385-d2dc5cbf8a71",
    "deepnote_cell_type": "text-cell-h1"
   }
  },
  {
   "cell_type": "code",
   "source": "print(\"hello\")",
   "metadata": {
    "tags": [],
    "cell_id": "00103-30dc6102-7220-41eb-aadb-c8c2ac14ff3b",
    "deepnote_to_be_reexecuted": false,
    "source_hash": "8781b114",
    "execution_start": 1624691383821,
    "execution_millis": 16,
    "deepnote_cell_type": "code"
   },
   "outputs": [
    {
     "name": "stdout",
     "text": "hello\n",
     "output_type": "stream"
    }
   ],
   "execution_count": null
  },
  {
   "cell_type": "code",
   "source": "def timed(fn):\n    from time import perf_counter\n\n    def inner(*args, **kwargs):\n        start = perf_counter()\n        result = fn(*args, **kwargs)\n        end = perf_counter()\n        print(f'Run time: {end - start}')\n        return result\n    return inner",
   "metadata": {
    "tags": [],
    "cell_id": "00105-60de6b2e-31a1-4434-87fc-49195a290489",
    "deepnote_to_be_reexecuted": false,
    "source_hash": "761b3f63",
    "execution_start": 1624691473270,
    "execution_millis": 15,
    "deepnote_cell_type": "code"
   },
   "outputs": [],
   "execution_count": null
  },
  {
   "cell_type": "code",
   "source": "def calc_fib_recurse(n):\n    return 1 if n < 3 else calc_fib_recurse(n-1) + calc_fib_recurse(n-2)\n\ndef fib(n):\n    return calc_fib_recurse(n)",
   "metadata": {
    "tags": [],
    "cell_id": "00106-46b64b30-bdb9-4750-847b-9a9230aa8372",
    "deepnote_to_be_reexecuted": false,
    "source_hash": "dc5cc11a",
    "execution_start": 1624691483275,
    "execution_millis": 19,
    "deepnote_cell_type": "code"
   },
   "outputs": [],
   "execution_count": null
  },
  {
   "cell_type": "code",
   "source": "fib = timed(fib)\nfib(30)",
   "metadata": {
    "tags": [],
    "cell_id": "00107-67ed90af-be68-4885-9e31-f55d55680b45",
    "deepnote_to_be_reexecuted": false,
    "source_hash": "71e9c309",
    "execution_start": 1624691496410,
    "execution_millis": 283,
    "deepnote_cell_type": "code"
   },
   "outputs": [
    {
     "name": "stdout",
     "text": "Run time: 0.2606796290001512\n",
     "output_type": "stream"
    },
    {
     "output_type": "execute_result",
     "execution_count": 134,
     "data": {
      "text/plain": "832040"
     },
     "metadata": {}
    }
   ],
   "execution_count": null
  },
  {
   "cell_type": "code",
   "source": "def timed(fn):\n    from time import perf_counter\n\n    def inner(*args, **kwargs):\n        total_elapsed = 0\n        for i in range(10):\n            start = perf_counter()\n            result = fn(*args, **kwargs)\n            end = perf_counter()\n            total_elapsed += (end - start)\n        avg_elapsed = total_elapsed / 10\n        print(f'Avg Run time: {avg_elapsed}')\n        return result\n    return inner",
   "metadata": {
    "tags": [],
    "cell_id": "00108-8cec3e14-1cec-46e7-a2ba-d2157a3e84c0",
    "deepnote_to_be_reexecuted": false,
    "source_hash": "32990ec",
    "execution_start": 1624691679037,
    "execution_millis": 3,
    "deepnote_cell_type": "code"
   },
   "outputs": [],
   "execution_count": null
  },
  {
   "cell_type": "code",
   "source": "def fib(n):\n    return calc_fib_recurse(n)\n\nfib = timed(fib)\n\nfib(28)",
   "metadata": {
    "tags": [],
    "cell_id": "00109-42164090-da4c-4838-9a45-681ca12aeda2",
    "deepnote_to_be_reexecuted": false,
    "source_hash": "432df313",
    "execution_start": 1624691695002,
    "execution_millis": 1044,
    "deepnote_cell_type": "code"
   },
   "outputs": [
    {
     "name": "stdout",
     "text": "Avg Run time: 0.10167456679955648\n",
     "output_type": "stream"
    },
    {
     "output_type": "execute_result",
     "execution_count": 136,
     "data": {
      "text/plain": "317811"
     },
     "metadata": {}
    }
   ],
   "execution_count": null
  },
  {
   "cell_type": "code",
   "source": "def timed(fn, num_reps):\n    from time import perf_counter\n\n    def inner(*args, **kwargs):\n        total_elapsed = 0\n        for i in range(num_reps):\n            start = perf_counter()\n            result = fn(*args, **kwargs)\n            end = perf_counter()\n            total_elapsed += (end - start)\n        avg_elapsed = total_elapsed / num_reps\n        print(f'Avg Run time for {num_reps} times: {avg_elapsed}')\n        return result\n    return inner",
   "metadata": {
    "tags": [],
    "cell_id": "00110-d6691681-6f68-4e4d-9671-a121c34e9db4",
    "deepnote_to_be_reexecuted": false,
    "source_hash": "28a5e037",
    "execution_start": 1624691866245,
    "execution_millis": 4,
    "deepnote_cell_type": "code"
   },
   "outputs": [],
   "execution_count": null
  },
  {
   "cell_type": "code",
   "source": "def fib(n):\n    return calc_fib_recurse(n)\n\nfib = timed(fib, 10)",
   "metadata": {
    "tags": [],
    "cell_id": "00111-b92c5c86-d320-44ed-97e3-f86f2d68335f",
    "deepnote_to_be_reexecuted": false,
    "source_hash": "c0ce80ff",
    "execution_start": 1624691866898,
    "execution_millis": 1,
    "deepnote_cell_type": "code"
   },
   "outputs": [],
   "execution_count": null
  },
  {
   "cell_type": "code",
   "source": "fib(28)",
   "metadata": {
    "tags": [],
    "cell_id": "00112-fff949c5-f85f-4998-bf6d-91aaff342ef2",
    "deepnote_to_be_reexecuted": false,
    "source_hash": "c2d4f338",
    "execution_start": 1624691867497,
    "execution_millis": 985,
    "deepnote_cell_type": "code"
   },
   "outputs": [
    {
     "name": "stdout",
     "text": "Avg Run time for 10 times: 0.09439718940002421\n",
     "output_type": "stream"
    },
    {
     "output_type": "execute_result",
     "execution_count": 144,
     "data": {
      "text/plain": "317811"
     },
     "metadata": {}
    }
   ],
   "execution_count": null
  },
  {
   "cell_type": "code",
   "source": "@timed(10)\ndef fib(n):\n    return calc_fib_recurse(n)",
   "metadata": {
    "tags": [],
    "cell_id": "00113-afe63d4d-578f-41ea-9f75-9e79a7cf3755",
    "deepnote_to_be_reexecuted": false,
    "source_hash": "31e6605a",
    "execution_start": 1624691868458,
    "execution_millis": 30,
    "deepnote_cell_type": "code"
   },
   "outputs": [
    {
     "output_type": "error",
     "ename": "TypeError",
     "evalue": "timed() missing 1 required positional argument: 'num_reps'",
     "traceback": [
      "\u001b[0;31m---------------------------------------------------------------------------\u001b[0m",
      "\u001b[0;31mTypeError\u001b[0m                                 Traceback (most recent call last)",
      "\u001b[0;32m<ipython-input-145-0f4ca41d7c8b>\u001b[0m in \u001b[0;36m<module>\u001b[0;34m\u001b[0m\n\u001b[0;32m----> 1\u001b[0;31m \u001b[0;34m@\u001b[0m\u001b[0mtimed\u001b[0m\u001b[0;34m(\u001b[0m\u001b[0;36m10\u001b[0m\u001b[0;34m)\u001b[0m\u001b[0;34m\u001b[0m\u001b[0;34m\u001b[0m\u001b[0m\n\u001b[0m\u001b[1;32m      2\u001b[0m \u001b[0;32mdef\u001b[0m \u001b[0mfib\u001b[0m\u001b[0;34m(\u001b[0m\u001b[0mn\u001b[0m\u001b[0;34m)\u001b[0m\u001b[0;34m:\u001b[0m\u001b[0;34m\u001b[0m\u001b[0;34m\u001b[0m\u001b[0m\n\u001b[1;32m      3\u001b[0m     \u001b[0;32mreturn\u001b[0m \u001b[0mcalc_fib_recurse\u001b[0m\u001b[0;34m(\u001b[0m\u001b[0mn\u001b[0m\u001b[0;34m)\u001b[0m\u001b[0;34m\u001b[0m\u001b[0;34m\u001b[0m\u001b[0m\n",
      "\u001b[0;31mTypeError\u001b[0m: timed() missing 1 required positional argument: 'num_reps'"
     ]
    }
   ],
   "execution_count": null
  },
  {
   "cell_type": "code",
   "source": "def timed(fn, num_reps):\n    from time import perf_counter\n\n    def inner(*args, **kwargs):\n        total_elapsed = 0\n        for i in range(num_reps):\n            start = perf_counter()\n            result = fn(*args, **kwargs)\n            end = perf_counter()\n            total_elapsed += (end - start)\n        avg_elapsed = total_elapsed / num_reps\n        print(f'Avg Run time for {num_reps} times: {avg_elapsed}')\n        return result\n    return inner\n\n@timed\ndef fib(n):\n    return calc_fib_recurse(n)",
   "metadata": {
    "tags": [],
    "cell_id": "00114-265f9592-8aaf-49e2-91cc-d7d92fd1f28e",
    "deepnote_to_be_reexecuted": false,
    "source_hash": "63234fea",
    "execution_start": 1624691943175,
    "execution_millis": 30,
    "deepnote_cell_type": "code"
   },
   "outputs": [
    {
     "output_type": "error",
     "ename": "TypeError",
     "evalue": "timed() missing 1 required positional argument: 'num_reps'",
     "traceback": [
      "\u001b[0;31m---------------------------------------------------------------------------\u001b[0m",
      "\u001b[0;31mTypeError\u001b[0m                                 Traceback (most recent call last)",
      "\u001b[0;32m<ipython-input-149-87749d45a8f8>\u001b[0m in \u001b[0;36m<module>\u001b[0;34m\u001b[0m\n\u001b[1;32m     15\u001b[0m \u001b[0;34m\u001b[0m\u001b[0m\n\u001b[1;32m     16\u001b[0m \u001b[0;34m@\u001b[0m\u001b[0mtimed\u001b[0m\u001b[0;34m\u001b[0m\u001b[0;34m\u001b[0m\u001b[0m\n\u001b[0;32m---> 17\u001b[0;31m \u001b[0;32mdef\u001b[0m \u001b[0mfib\u001b[0m\u001b[0;34m(\u001b[0m\u001b[0mn\u001b[0m\u001b[0;34m)\u001b[0m\u001b[0;34m:\u001b[0m\u001b[0;34m\u001b[0m\u001b[0;34m\u001b[0m\u001b[0m\n\u001b[0m\u001b[1;32m     18\u001b[0m     \u001b[0;32mreturn\u001b[0m \u001b[0mcalc_fib_recurse\u001b[0m\u001b[0;34m(\u001b[0m\u001b[0mn\u001b[0m\u001b[0;34m)\u001b[0m\u001b[0;34m\u001b[0m\u001b[0;34m\u001b[0m\u001b[0m\n",
      "\u001b[0;31mTypeError\u001b[0m: timed() missing 1 required positional argument: 'num_reps'"
     ]
    }
   ],
   "execution_count": null
  },
  {
   "cell_type": "code",
   "source": "@dec_1\ndef my_func():\n    pass",
   "metadata": {
    "tags": [],
    "cell_id": "00115-a1885f40-afa5-46e1-8381-1f533a6eaa85",
    "deepnote_to_be_reexecuted": false,
    "source_hash": "dd065075",
    "execution_start": 1624692021484,
    "execution_millis": 14,
    "deepnote_cell_type": "code"
   },
   "outputs": [],
   "execution_count": null
  },
  {
   "cell_type": "code",
   "source": "my_func = dec_1(my_func)",
   "metadata": {
    "tags": [],
    "cell_id": "00116-50cb2f3a-fbe1-41d9-baaa-c1942f7e9163",
    "deepnote_to_be_reexecuted": false,
    "source_hash": "6f4a8e6d",
    "execution_start": 1624692030826,
    "execution_millis": 8,
    "deepnote_cell_type": "code"
   },
   "outputs": [],
   "execution_count": null
  },
  {
   "cell_type": "code",
   "source": "def dec(fn):\n    print(\"running dec\")\n\n    def inner(*args, **kwargs):\n        print(\"running inner\")\n        return fn(*args, **kwargs)\n    return inner",
   "metadata": {
    "tags": [],
    "cell_id": "00117-6ad8b0c2-80c7-40b4-9f1f-481d2690dd79",
    "deepnote_to_be_reexecuted": false,
    "source_hash": "8fc55eb5",
    "execution_start": 1624692105499,
    "execution_millis": 0,
    "deepnote_cell_type": "code"
   },
   "outputs": [],
   "execution_count": null
  },
  {
   "cell_type": "code",
   "source": "@dec \ndef my_func():\n    print(\"running my_func\")\n\n# my_func = dec(my_func)",
   "metadata": {
    "tags": [],
    "cell_id": "00118-5bdf1241-1d4a-41a0-bae1-f8eefd61973c",
    "deepnote_to_be_reexecuted": false,
    "source_hash": "2e40fca8",
    "execution_start": 1624692119837,
    "execution_millis": 23,
    "deepnote_cell_type": "code"
   },
   "outputs": [
    {
     "name": "stdout",
     "text": "running dec\n",
     "output_type": "stream"
    }
   ],
   "execution_count": null
  },
  {
   "cell_type": "code",
   "source": "my_func()",
   "metadata": {
    "tags": [],
    "cell_id": "00119-d037f6c0-e7e8-4da0-90cd-a87f7c07dd94",
    "deepnote_to_be_reexecuted": false,
    "source_hash": "416ffdb4",
    "execution_start": 1624692178205,
    "execution_millis": 19,
    "deepnote_cell_type": "code"
   },
   "outputs": [
    {
     "name": "stdout",
     "text": "running inner\nrunning my_func\n",
     "output_type": "stream"
    }
   ],
   "execution_count": null
  },
  {
   "cell_type": "code",
   "source": "def dec_factory():\n    print('running dec_factory')\n    def dec(fn):\n        print('running dec')\n        def inner(*args, **kwargs):\n            print(\"running inner\")\n            return fn(*args, **kwargs)\n        return inner\n    return dec",
   "metadata": {
    "tags": [],
    "cell_id": "00120-faa01e85-ac02-4656-adce-8133d2e89b25",
    "deepnote_to_be_reexecuted": false,
    "source_hash": "25a2a151",
    "execution_start": 1624692331248,
    "execution_millis": 4,
    "deepnote_cell_type": "code"
   },
   "outputs": [],
   "execution_count": null
  },
  {
   "cell_type": "code",
   "source": "@dec_factory()\ndef my_func(a, b):\n    print(a, b)",
   "metadata": {
    "tags": [],
    "cell_id": "00121-74ae0887-429a-48a5-b497-aece74928b61",
    "deepnote_to_be_reexecuted": false,
    "source_hash": "39afb89d",
    "execution_start": 1624692369540,
    "execution_millis": 11,
    "deepnote_cell_type": "code"
   },
   "outputs": [
    {
     "name": "stdout",
     "text": "running dec_factory\nrunning dec\n",
     "output_type": "stream"
    }
   ],
   "execution_count": null
  },
  {
   "cell_type": "code",
   "source": "my_func(10, 20)",
   "metadata": {
    "tags": [],
    "cell_id": "00122-441d799d-d091-4e2b-9994-53d9d87acf46",
    "deepnote_to_be_reexecuted": false,
    "source_hash": "bd3a27d1",
    "execution_start": 1624692435906,
    "execution_millis": 11,
    "deepnote_cell_type": "code"
   },
   "outputs": [
    {
     "name": "stdout",
     "text": "running inner\n10 20\n",
     "output_type": "stream"
    }
   ],
   "execution_count": null
  },
  {
   "cell_type": "code",
   "source": "def dec_factory():\n    print('running dec_factory')\n    def dec(fn):\n        print('running dec')\n        def inner(*args, **kwargs):\n            print(\"running inner\")\n            return fn(*args, **kwargs)\n        return inner\n    return dec\n\ndec = dec_factory()\n\n@dec\ndef my_func(a, b):\n    print(a, b)\nmy_func(10, 20)",
   "metadata": {
    "tags": [],
    "cell_id": "00123-ddf32524-cb99-468d-9df7-ddcc9f8ab8f7",
    "deepnote_to_be_reexecuted": false,
    "source_hash": "31ca2969",
    "execution_start": 1624692526104,
    "execution_millis": 24,
    "deepnote_cell_type": "code"
   },
   "outputs": [
    {
     "name": "stdout",
     "text": "running dec_factory\nrunning dec\nrunning inner\n10 20\n",
     "output_type": "stream"
    }
   ],
   "execution_count": null
  },
  {
   "cell_type": "code",
   "source": "def dec_factory():\n    def dec(fn):\n        def inner(*args, **kwargs):\n            print(\"running decotator inner\")\n            return fn(*args, **kwargs)\n        return inner\n    return dec\n\n@dec_factory()\ndef my_func(a, b):\n    return a + b",
   "metadata": {
    "tags": [],
    "cell_id": "00124-f670861d-afd7-42bc-bfac-aef2a09c8948",
    "deepnote_to_be_reexecuted": false,
    "source_hash": "73fcdae2",
    "execution_start": 1624692628563,
    "execution_millis": 7,
    "deepnote_cell_type": "code"
   },
   "outputs": [],
   "execution_count": null
  },
  {
   "cell_type": "code",
   "source": "my_func(10, 20)",
   "metadata": {
    "tags": [],
    "cell_id": "00125-58958359-6f72-4281-ac4d-1a51f78bfb0a",
    "deepnote_to_be_reexecuted": false,
    "source_hash": "bd3a27d1",
    "execution_start": 1624692636995,
    "execution_millis": 23,
    "deepnote_cell_type": "code"
   },
   "outputs": [
    {
     "name": "stdout",
     "text": "running decotator inner\n",
     "output_type": "stream"
    },
    {
     "output_type": "execute_result",
     "execution_count": 163,
     "data": {
      "text/plain": "30"
     },
     "metadata": {}
    }
   ],
   "execution_count": null
  },
  {
   "cell_type": "code",
   "source": "def dec_factory(a, b):\n    def dec(fn):\n        def inner(*args, **kwargs):\n            print(\"running decotator inner\")\n            print('free vaeiable', a, b)\n            return fn(*args, **kwargs)\n        return inner\n    return dec\n\n@dec_factory(10, 20)\ndef my_func(a, b):\n    return a + b",
   "metadata": {
    "tags": [],
    "cell_id": "00126-dfef428c-5ac3-4a2b-9e71-5f7cadde3b87",
    "deepnote_to_be_reexecuted": false,
    "source_hash": "23859f91",
    "execution_start": 1624692711055,
    "execution_millis": 0,
    "deepnote_cell_type": "code"
   },
   "outputs": [],
   "execution_count": null
  },
  {
   "cell_type": "code",
   "source": "my_func(2, 3)",
   "metadata": {
    "tags": [],
    "cell_id": "00127-dae47246-27de-4834-98d5-a4ca65cadb59",
    "deepnote_to_be_reexecuted": false,
    "source_hash": "973ef49a",
    "execution_start": 1624692717662,
    "execution_millis": 33,
    "deepnote_cell_type": "code"
   },
   "outputs": [
    {
     "name": "stdout",
     "text": "running decotator inner\nfree vaeiable 10 20\n",
     "output_type": "stream"
    },
    {
     "output_type": "execute_result",
     "execution_count": 166,
     "data": {
      "text/plain": "5"
     },
     "metadata": {}
    }
   ],
   "execution_count": null
  },
  {
   "cell_type": "code",
   "source": "def timed(fn, num_reps):\n    from time import perf_counter\n\n    def inner(*args, **kwargs):\n        total_elapsed = 0\n        for i in range(num_reps):\n            start = perf_counter()\n            result = fn(*args, **kwargs)\n            end = perf_counter()\n            total_elapsed += (end - start)\n        avg_elapsed = total_elapsed / num_reps\n        print(f'Avg Run time for {num_reps} times: {avg_elapsed}')\n        return result\n    return inner\n\n@timed\ndef fib(n):\n    return calc_fib_recurse(n)",
   "metadata": {
    "tags": [],
    "cell_id": "00128-380f2df8-851d-420a-8960-5c2ca9e8ce2d",
    "deepnote_to_be_reexecuted": false,
    "source_hash": "63234fea",
    "execution_start": 1624692751324,
    "execution_millis": 20,
    "deepnote_cell_type": "code"
   },
   "outputs": [
    {
     "output_type": "error",
     "ename": "TypeError",
     "evalue": "timed() missing 1 required positional argument: 'num_reps'",
     "traceback": [
      "\u001b[0;31m---------------------------------------------------------------------------\u001b[0m",
      "\u001b[0;31mTypeError\u001b[0m                                 Traceback (most recent call last)",
      "\u001b[0;32m<ipython-input-167-87749d45a8f8>\u001b[0m in \u001b[0;36m<module>\u001b[0;34m\u001b[0m\n\u001b[1;32m     15\u001b[0m \u001b[0;34m\u001b[0m\u001b[0m\n\u001b[1;32m     16\u001b[0m \u001b[0;34m@\u001b[0m\u001b[0mtimed\u001b[0m\u001b[0;34m\u001b[0m\u001b[0;34m\u001b[0m\u001b[0m\n\u001b[0;32m---> 17\u001b[0;31m \u001b[0;32mdef\u001b[0m \u001b[0mfib\u001b[0m\u001b[0;34m(\u001b[0m\u001b[0mn\u001b[0m\u001b[0;34m)\u001b[0m\u001b[0;34m:\u001b[0m\u001b[0;34m\u001b[0m\u001b[0;34m\u001b[0m\u001b[0m\n\u001b[0m\u001b[1;32m     18\u001b[0m     \u001b[0;32mreturn\u001b[0m \u001b[0mcalc_fib_recurse\u001b[0m\u001b[0;34m(\u001b[0m\u001b[0mn\u001b[0m\u001b[0;34m)\u001b[0m\u001b[0;34m\u001b[0m\u001b[0;34m\u001b[0m\u001b[0m\n",
      "\u001b[0;31mTypeError\u001b[0m: timed() missing 1 required positional argument: 'num_reps'"
     ]
    }
   ],
   "execution_count": null
  },
  {
   "cell_type": "code",
   "source": "def timed_factory(num_reps):\n    def timed(fn):\n        from time import perf_counter\n        def inner(*args, **kwargs):\n            total_elapsed = 0\n            for i in range(num_reps):\n                start = perf_counter()\n                result = fn(*args, **kwargs)\n                end = perf_counter()\n                total_elapsed += (end - start)\n            avg_elapsed = total_elapsed / num_reps\n            print(f'Avg Run time for {num_reps} times: {avg_elapsed}')\n            return result\n        return inner\n    return timed",
   "metadata": {
    "tags": [],
    "cell_id": "00129-101e50e7-fd96-4cfb-a457-7763612eea00",
    "deepnote_to_be_reexecuted": false,
    "source_hash": "5ca9df0e",
    "execution_start": 1624692852908,
    "execution_millis": 6,
    "deepnote_cell_type": "code"
   },
   "outputs": [],
   "execution_count": null
  },
  {
   "cell_type": "code",
   "source": "@timed_factory(5)\ndef fib(n):\n    return calc_fib_recurse(n)",
   "metadata": {
    "tags": [],
    "cell_id": "00130-1ee6b753-9bb6-4df7-97af-ca4eee49595f",
    "deepnote_to_be_reexecuted": false,
    "source_hash": "fe3e999e",
    "execution_start": 1624692874259,
    "execution_millis": 2,
    "deepnote_cell_type": "code"
   },
   "outputs": [],
   "execution_count": null
  },
  {
   "cell_type": "code",
   "source": "fib(30)",
   "metadata": {
    "tags": [],
    "cell_id": "00131-71fc0ee1-9379-479b-98aa-abe289615412",
    "deepnote_to_be_reexecuted": false,
    "source_hash": "9e52ef33",
    "execution_start": 1624692880788,
    "execution_millis": 1722,
    "deepnote_cell_type": "code"
   },
   "outputs": [
    {
     "name": "stdout",
     "text": "Avg Run time for 5 times: 0.34207738019977113\n",
     "output_type": "stream"
    },
    {
     "output_type": "execute_result",
     "execution_count": 170,
     "data": {
      "text/plain": "832040"
     },
     "metadata": {}
    }
   ],
   "execution_count": null
  },
  {
   "cell_type": "code",
   "source": "from functools import wraps\n\ndef timed(num_reps=1):\n    def decorator(fn):\n        from time import perf_counter\n\n        @wraps(fn)\n        def inner(*args, **kwargs):\n            total_elapsed = 0\n            for i in range(num_reps):\n                start = perf_counter()\n                result = fn(*args, **kwargs)\n                end = perf_counter()\n                total_elapsed += (perf_counter() - start)\n            avg_elapsed = total_elapsed / num_reps\n            print('Avg Run time: {0:.6f}s ({1} reps)'.format(avg_elapsed,\n                                                            num_reps))\n            return result\n        return inner\n    return decorator  \n",
   "metadata": {
    "tags": [],
    "cell_id": "00132-3c88c6f2-b914-4ea4-90e0-e8652f24d8d5",
    "deepnote_to_be_reexecuted": false,
    "source_hash": "4e6fc815",
    "execution_start": 1624692976630,
    "execution_millis": 2,
    "deepnote_cell_type": "code"
   },
   "outputs": [],
   "execution_count": null
  },
  {
   "cell_type": "code",
   "source": "@timed(5)\ndef fib(n):\n    return calc_fib_recurse(n)",
   "metadata": {
    "tags": [],
    "cell_id": "00133-d66e03d9-3ac5-40ec-8cec-ad3ecdfe9c65",
    "deepnote_to_be_reexecuted": false,
    "source_hash": "153c2743",
    "execution_start": 1624692983153,
    "execution_millis": 1,
    "deepnote_cell_type": "code"
   },
   "outputs": [],
   "execution_count": null
  },
  {
   "cell_type": "code",
   "source": "fib(30)",
   "metadata": {
    "tags": [],
    "cell_id": "00134-b4823bf9-330e-4ad6-8c4c-3ae9942cab1a",
    "deepnote_to_be_reexecuted": false,
    "source_hash": "9e52ef33",
    "execution_start": 1624692989495,
    "execution_millis": 1288,
    "deepnote_cell_type": "code"
   },
   "outputs": [
    {
     "name": "stdout",
     "text": "Avg Run time: 0.257868s (5 reps)\n",
     "output_type": "stream"
    },
    {
     "output_type": "execute_result",
     "execution_count": 173,
     "data": {
      "text/plain": "832040"
     },
     "metadata": {}
    }
   ],
   "execution_count": null
  },
  {
   "cell_type": "code",
   "source": "def my_dec(a, b):\n    def dec(fn):\n        def inner(*args, **kwargs):\n            print('decorated function called: a={0}, b={1}'.format(a, b))\n            return fn(*args, **kwargs)\n        return inner\n    return dec",
   "metadata": {
    "tags": [],
    "cell_id": "00135-10fc98c8-4f9b-4fef-880a-a9272501d204",
    "deepnote_to_be_reexecuted": false,
    "source_hash": "ec4408e3",
    "execution_start": 1624693029730,
    "execution_millis": 0,
    "deepnote_cell_type": "code"
   },
   "outputs": [],
   "execution_count": null
  },
  {
   "cell_type": "code",
   "source": "@my_dec(10, 20)\ndef my_func(s):\n    print('hello {0}'.format(s))",
   "metadata": {
    "tags": [],
    "cell_id": "00136-6e09ec03-4add-46d4-949b-c25176ebe85c",
    "deepnote_to_be_reexecuted": false,
    "source_hash": "3c66ff66",
    "execution_start": 1624693033616,
    "execution_millis": 1,
    "deepnote_cell_type": "code"
   },
   "outputs": [],
   "execution_count": null
  },
  {
   "cell_type": "code",
   "source": "my_func('world')",
   "metadata": {
    "tags": [],
    "cell_id": "00137-31efef30-af06-4016-bdd5-ceff19bcd8b8",
    "deepnote_to_be_reexecuted": false,
    "source_hash": "43ad98dc",
    "execution_start": 1624693052081,
    "execution_millis": 13,
    "deepnote_cell_type": "code"
   },
   "outputs": [
    {
     "name": "stdout",
     "text": "decorated function called: a=10, b=20\nhello world\n",
     "output_type": "stream"
    }
   ],
   "execution_count": null
  },
  {
   "cell_type": "code",
   "source": "class MyClass:\n    def __init__(self, a, b):\n        self.a = a\n        self.b = b\nmy_class = MyClass(10, 20)",
   "metadata": {
    "tags": [],
    "cell_id": "00138-3c139a36-3c54-4fc1-a723-b1d9d6c68358",
    "deepnote_to_be_reexecuted": false,
    "source_hash": "de66919c",
    "execution_start": 1624693122828,
    "execution_millis": 0,
    "deepnote_cell_type": "code"
   },
   "outputs": [],
   "execution_count": null
  },
  {
   "cell_type": "code",
   "source": "my_class()",
   "metadata": {
    "tags": [],
    "cell_id": "00139-e4f50c2e-a19b-4124-9e34-27f050942edd",
    "deepnote_to_be_reexecuted": false,
    "source_hash": "b8f242a7",
    "execution_start": 1624693126839,
    "execution_millis": 15,
    "deepnote_cell_type": "code"
   },
   "outputs": [
    {
     "output_type": "error",
     "ename": "TypeError",
     "evalue": "'MyClass' object is not callable",
     "traceback": [
      "\u001b[0;31m---------------------------------------------------------------------------\u001b[0m",
      "\u001b[0;31mTypeError\u001b[0m                                 Traceback (most recent call last)",
      "\u001b[0;32m<ipython-input-179-d42af9ed28ce>\u001b[0m in \u001b[0;36m<module>\u001b[0;34m\u001b[0m\n\u001b[0;32m----> 1\u001b[0;31m \u001b[0mmy_class\u001b[0m\u001b[0;34m(\u001b[0m\u001b[0;34m)\u001b[0m\u001b[0;34m\u001b[0m\u001b[0;34m\u001b[0m\u001b[0m\n\u001b[0m",
      "\u001b[0;31mTypeError\u001b[0m: 'MyClass' object is not callable"
     ]
    }
   ],
   "execution_count": null
  },
  {
   "cell_type": "code",
   "source": "class MyClass:\n    def __init__(self, a, b):\n        self.a = a\n        self.b = b\n    def __call__(self):\n        print(f'MyClass instance called: a={self.a}, b={self.b}')\nmy_class = MyClass(10, 20)",
   "metadata": {
    "tags": [],
    "cell_id": "00140-dd02c79a-ecf3-47a0-a280-09118a35c92e",
    "deepnote_to_be_reexecuted": false,
    "source_hash": "a53586fa",
    "execution_start": 1624693211351,
    "execution_millis": 4,
    "deepnote_cell_type": "code"
   },
   "outputs": [],
   "execution_count": null
  },
  {
   "cell_type": "code",
   "source": "my_class()",
   "metadata": {
    "tags": [],
    "cell_id": "00141-3d2e35d4-b52c-4868-8742-54394265ba57",
    "deepnote_to_be_reexecuted": false,
    "source_hash": "b8f242a7",
    "execution_start": 1624693213191,
    "execution_millis": 9,
    "deepnote_cell_type": "code"
   },
   "outputs": [
    {
     "name": "stdout",
     "text": "MyClass instance called: a=10, b=20\n",
     "output_type": "stream"
    }
   ],
   "execution_count": null
  },
  {
   "cell_type": "code",
   "source": "class MyClass:\n    def __init__(self, a, b):\n        self.a = a\n        self.b = b\n        \n    def __call__(self, fn):\n        def inner(*args, **kwargs):\n            print('MyClass instance called: a={0}, b={1}'.format(self.a, self.b))\n            return fn(*args, **kwargs)\n        return inner",
   "metadata": {
    "tags": [],
    "cell_id": "00142-9206ad6b-1bb0-4352-91fd-1d1a50ac4a42",
    "deepnote_to_be_reexecuted": false,
    "source_hash": "a80d5651",
    "execution_start": 1624693229311,
    "execution_millis": 4,
    "deepnote_cell_type": "code"
   },
   "outputs": [],
   "execution_count": null
  },
  {
   "cell_type": "code",
   "source": "@MyClass(10, 20)\ndef my_func(s):\n    print('Hello {0}!'.format(s))",
   "metadata": {
    "tags": [],
    "cell_id": "00143-ec92c1e6-090d-455f-97e6-cabbe6ed4d30",
    "deepnote_to_be_reexecuted": false,
    "source_hash": "f3ae5cd2",
    "execution_start": 1624693239913,
    "execution_millis": 7,
    "deepnote_cell_type": "code"
   },
   "outputs": [],
   "execution_count": null
  },
  {
   "cell_type": "code",
   "source": "my_func('Python')",
   "metadata": {
    "tags": [],
    "cell_id": "00144-cf521372-0e8b-4cbb-88cc-56c0d8b4e911",
    "deepnote_to_be_reexecuted": false,
    "source_hash": "875a608c",
    "execution_start": 1624693389730,
    "execution_millis": 12,
    "deepnote_cell_type": "code"
   },
   "outputs": [
    {
     "name": "stdout",
     "text": "MyClass instance called: a=10, b=20\nHello Python!\n",
     "output_type": "stream"
    }
   ],
   "execution_count": null
  },
  {
   "cell_type": "code",
   "source": "from fractions import Fraction",
   "metadata": {
    "tags": [],
    "cell_id": "00145-65eadb14-6138-4f28-9118-20961c44335e",
    "deepnote_to_be_reexecuted": false,
    "source_hash": "9b715527",
    "execution_start": 1624693464594,
    "execution_millis": 0,
    "deepnote_cell_type": "code"
   },
   "outputs": [],
   "execution_count": null
  },
  {
   "cell_type": "code",
   "source": "Fraction.speak",
   "metadata": {
    "tags": [],
    "cell_id": "00146-17222e90-fa34-4ac8-bfd6-178cc4a52a39",
    "deepnote_to_be_reexecuted": false,
    "source_hash": "2d485b7c",
    "execution_start": 1624693471991,
    "execution_millis": 15,
    "deepnote_cell_type": "code"
   },
   "outputs": [
    {
     "output_type": "error",
     "ename": "AttributeError",
     "evalue": "type object 'Fraction' has no attribute 'speak'",
     "traceback": [
      "\u001b[0;31m---------------------------------------------------------------------------\u001b[0m",
      "\u001b[0;31mAttributeError\u001b[0m                            Traceback (most recent call last)",
      "\u001b[0;32m<ipython-input-188-176448c79a82>\u001b[0m in \u001b[0;36m<module>\u001b[0;34m\u001b[0m\n\u001b[0;32m----> 1\u001b[0;31m \u001b[0mFraction\u001b[0m\u001b[0;34m.\u001b[0m\u001b[0mspeak\u001b[0m\u001b[0;34m\u001b[0m\u001b[0;34m\u001b[0m\u001b[0m\n\u001b[0m",
      "\u001b[0;31mAttributeError\u001b[0m: type object 'Fraction' has no attribute 'speak'"
     ]
    }
   ],
   "execution_count": null
  },
  {
   "cell_type": "code",
   "source": "Fraction.speak = lambda self: 'This is a late parrot.'",
   "metadata": {
    "tags": [],
    "cell_id": "00147-e9f17e7e-524c-42a2-a2ba-675af34dfd04",
    "deepnote_to_be_reexecuted": false,
    "source_hash": "3568a520",
    "execution_start": 1624693485130,
    "execution_millis": 1,
    "deepnote_cell_type": "code"
   },
   "outputs": [],
   "execution_count": null
  },
  {
   "cell_type": "code",
   "source": "Fraction.speak",
   "metadata": {
    "tags": [],
    "cell_id": "00148-5e0ab26a-c833-49ea-a7f9-1af0914428a8",
    "deepnote_to_be_reexecuted": false,
    "source_hash": "2d485b7c",
    "execution_start": 1624693488654,
    "execution_millis": 20,
    "deepnote_cell_type": "code"
   },
   "outputs": [
    {
     "output_type": "execute_result",
     "execution_count": 190,
     "data": {
      "text/plain": "<function __main__.<lambda>(self)>"
     },
     "metadata": {}
    }
   ],
   "execution_count": null
  },
  {
   "cell_type": "code",
   "source": "f = Fraction(2, 3)\nf",
   "metadata": {
    "tags": [],
    "cell_id": "00149-40e8b08b-f071-407a-9755-5e1f4398baf9",
    "deepnote_to_be_reexecuted": false,
    "source_hash": "42be6dbf",
    "execution_start": 1624693540588,
    "execution_millis": 51,
    "deepnote_cell_type": "code"
   },
   "outputs": [
    {
     "output_type": "execute_result",
     "execution_count": 191,
     "data": {
      "text/plain": "Fraction(2, 3)"
     },
     "metadata": {}
    }
   ],
   "execution_count": null
  },
  {
   "cell_type": "code",
   "source": "Fraction.is_integral = lambda self: self.denominator == 1\n\nf1 = Fraction(1, 2)\nf2 = Fraction(10, 5)\n\nf1.is_integral(), f2.is_integral",
   "metadata": {
    "tags": [],
    "cell_id": "00150-1ae4f905-2d89-45ec-bb44-e63f88f03b33",
    "deepnote_to_be_reexecuted": false,
    "source_hash": "12eb1fe6",
    "execution_start": 1624693575020,
    "execution_millis": 51,
    "deepnote_cell_type": "code"
   },
   "outputs": [
    {
     "output_type": "execute_result",
     "execution_count": 192,
     "data": {
      "text/plain": "(False, <bound method <lambda> of Fraction(2, 1)>)"
     },
     "metadata": {}
    }
   ],
   "execution_count": null
  },
  {
   "cell_type": "code",
   "source": "def dec_speak(cls):\n    cls.speak = lambda self: 'This is a very late parrot.'\n    return cls",
   "metadata": {
    "tags": [],
    "cell_id": "00151-4b67f111-87dc-4a8d-b195-deee08242135",
    "deepnote_to_be_reexecuted": false,
    "source_hash": "f5008440",
    "execution_start": 1624693599223,
    "execution_millis": 2,
    "deepnote_cell_type": "code"
   },
   "outputs": [],
   "execution_count": null
  },
  {
   "cell_type": "code",
   "source": "Fraction = dec_speak(Fraction)",
   "metadata": {
    "tags": [],
    "cell_id": "00152-5e14576b-d8e4-4364-a700-c5f33702679b",
    "deepnote_to_be_reexecuted": false,
    "source_hash": "c829ff86",
    "execution_start": 1624693603810,
    "execution_millis": 0,
    "deepnote_cell_type": "code"
   },
   "outputs": [],
   "execution_count": null
  },
  {
   "cell_type": "code",
   "source": "f = Fraction(10, 2)",
   "metadata": {
    "tags": [],
    "cell_id": "00153-0fdd76e0-7d6e-46d7-9685-11301119f9de",
    "deepnote_to_be_reexecuted": false,
    "source_hash": "e5990b95",
    "execution_start": 1624693609560,
    "execution_millis": 2,
    "deepnote_cell_type": "code"
   },
   "outputs": [],
   "execution_count": null
  },
  {
   "cell_type": "code",
   "source": "f.speak()",
   "metadata": {
    "tags": [],
    "cell_id": "00154-6a89f938-3d09-4586-a3c5-bae39f1b3728",
    "deepnote_to_be_reexecuted": false,
    "source_hash": "a78cb6f8",
    "execution_start": 1624693616646,
    "execution_millis": 18,
    "deepnote_cell_type": "code"
   },
   "outputs": [
    {
     "output_type": "execute_result",
     "execution_count": 196,
     "data": {
      "text/plain": "'This is a very late parrot.'"
     },
     "metadata": {}
    }
   ],
   "execution_count": null
  },
  {
   "cell_type": "code",
   "source": "@dec_speak\nclass Parrot:\n    def __init__(self):\n        self.state = 'late'",
   "metadata": {
    "tags": [],
    "cell_id": "00155-e6eaab80-cfa0-442f-b567-f2479e59e68f",
    "deepnote_to_be_reexecuted": false,
    "source_hash": "aada82f5",
    "execution_start": 1624693633341,
    "execution_millis": 0,
    "deepnote_cell_type": "code"
   },
   "outputs": [],
   "execution_count": null
  },
  {
   "cell_type": "code",
   "source": "polly = Parrot()",
   "metadata": {
    "tags": [],
    "cell_id": "00156-ca0f38f4-ce3b-48e8-a610-f7f4d8fd9311",
    "deepnote_to_be_reexecuted": false,
    "source_hash": "9b44dfad",
    "execution_start": 1624693636963,
    "execution_millis": 0,
    "deepnote_cell_type": "code"
   },
   "outputs": [],
   "execution_count": null
  },
  {
   "cell_type": "code",
   "source": "polly.speak()",
   "metadata": {
    "tags": [],
    "cell_id": "00157-c172a956-a614-467c-97df-1d20d54d0a79",
    "deepnote_to_be_reexecuted": false,
    "source_hash": "9a0fd23e",
    "execution_start": 1624693641820,
    "execution_millis": 15,
    "deepnote_cell_type": "code"
   },
   "outputs": [
    {
     "output_type": "execute_result",
     "execution_count": 199,
     "data": {
      "text/plain": "'This is a very late parrot.'"
     },
     "metadata": {}
    }
   ],
   "execution_count": null
  },
  {
   "cell_type": "code",
   "source": "Fraction.recip = lambda self: Fraction(self.denominator, self.numerator)\nf = Fraction(2,3)",
   "metadata": {
    "tags": [],
    "cell_id": "00158-67f33ff6-5c3a-42d8-9b47-d9e325a67312",
    "deepnote_to_be_reexecuted": false,
    "source_hash": "6d37709b",
    "execution_start": 1624693696734,
    "execution_millis": 1,
    "deepnote_cell_type": "code"
   },
   "outputs": [],
   "execution_count": null
  },
  {
   "cell_type": "code",
   "source": "f",
   "metadata": {
    "tags": [],
    "cell_id": "00159-254e8b90-b2a8-47f2-a79d-35200a2fab54",
    "deepnote_to_be_reexecuted": false,
    "source_hash": "c555c22d",
    "execution_start": 1624693699314,
    "execution_millis": 16,
    "deepnote_cell_type": "code"
   },
   "outputs": [
    {
     "output_type": "execute_result",
     "execution_count": 201,
     "data": {
      "text/plain": "Fraction(2, 3)"
     },
     "metadata": {}
    }
   ],
   "execution_count": null
  },
  {
   "cell_type": "code",
   "source": "f.recip()",
   "metadata": {
    "tags": [],
    "cell_id": "00160-cb49b0b7-c7b2-4523-8963-c700082d3423",
    "deepnote_to_be_reexecuted": false,
    "source_hash": "262bb89f",
    "execution_start": 1624693705342,
    "execution_millis": 20,
    "deepnote_cell_type": "code"
   },
   "outputs": [
    {
     "output_type": "execute_result",
     "execution_count": 202,
     "data": {
      "text/plain": "Fraction(3, 2)"
     },
     "metadata": {}
    }
   ],
   "execution_count": null
  },
  {
   "cell_type": "code",
   "source": "from datetime import datetime, timezone",
   "metadata": {
    "tags": [],
    "cell_id": "00161-84944eee-9c0d-42bc-9c9f-328bcc83b723",
    "deepnote_to_be_reexecuted": false,
    "source_hash": "e0002e99",
    "execution_start": 1624693726325,
    "execution_millis": 3,
    "deepnote_cell_type": "code"
   },
   "outputs": [],
   "execution_count": null
  },
  {
   "cell_type": "code",
   "source": "def debug_info(cls):\n    def info(self):\n        results = []\n        results.append('time: {0}'.format(datetime.now(timezone.utc)))\n        results.append('class: {0}'.format(self.__class__.__name__))\n        results.append('id: {0}'.format(hex(id(self))))\n        \n        if vars(self):\n            for k, v in vars(self).items():\n                results.append('{0}: {1}'.format(k, v))\n        \n        # we have not covered lists, the extend method and generators,\n        # but note that a more Pythonic way to do this would be:\n        #if vars(self):\n        #    results.extend('{0}: {1}'.format(k, v) \n        #                   for k, v in vars(self).items())\n        \n        return results\n    \n    cls.debug = info\n    \n    return cls",
   "metadata": {
    "tags": [],
    "cell_id": "00162-b857cbf7-c643-4884-971b-30d0d9e252ef",
    "deepnote_to_be_reexecuted": false,
    "source_hash": "48e77020",
    "execution_start": 1624693790442,
    "execution_millis": 1,
    "deepnote_cell_type": "code"
   },
   "outputs": [],
   "execution_count": null
  },
  {
   "cell_type": "code",
   "source": "@debug_info\nclass Person:\n    def __init__(self, name, birth_year):\n        self.name = name\n        self.birth_year = birth_year\n        \n    def say_hi():\n        return 'Hello there!'",
   "metadata": {
    "tags": [],
    "cell_id": "00163-b6d5f276-5d7a-4332-92a6-a86dbc71f775",
    "deepnote_to_be_reexecuted": false,
    "source_hash": "7705efb0",
    "execution_start": 1624693802169,
    "execution_millis": 4,
    "deepnote_cell_type": "code"
   },
   "outputs": [],
   "execution_count": null
  },
  {
   "cell_type": "code",
   "source": "p1 = Person('John', 1939)",
   "metadata": {
    "tags": [],
    "cell_id": "00164-0d8454f7-967e-4564-9611-1243a0d7d9cf",
    "deepnote_to_be_reexecuted": false,
    "source_hash": "d9cca89d",
    "execution_start": 1624693813906,
    "execution_millis": 0,
    "deepnote_cell_type": "code"
   },
   "outputs": [],
   "execution_count": null
  },
  {
   "cell_type": "code",
   "source": "p1.debug()",
   "metadata": {
    "tags": [],
    "cell_id": "00165-8aa2dd0d-c20e-4ba1-a4ca-5d36012bd9a2",
    "deepnote_to_be_reexecuted": false,
    "source_hash": "cd3d9c82",
    "execution_start": 1624693819637,
    "execution_millis": 14,
    "deepnote_cell_type": "code"
   },
   "outputs": [
    {
     "output_type": "execute_result",
     "execution_count": 207,
     "data": {
      "text/plain": "['time: 2021-06-26 07:50:19.632075+00:00',\n 'class: Person',\n 'id: 0x7f0e40bab9a0',\n 'name: John',\n 'birth_year: 1939']"
     },
     "metadata": {}
    }
   ],
   "execution_count": null
  },
  {
   "cell_type": "code",
   "source": "@debug_info\nclass Automobile:\n    def __init__(self, make, model, year, top_speed_mph):\n        self.make = make\n        self.model = model\n        self.year = year\n        self.top_speed_mph = top_speed_mph\n        self.current_speed = 0\n    \n    @property\n    def speed(self):\n        return self.current_speed\n    \n    @speed.setter\n    def speed(self, new_speed):\n        self.current_speed = new_speed",
   "metadata": {
    "tags": [],
    "cell_id": "00166-62d8f6dd-cf25-4f06-8e0c-99dd358f118f",
    "deepnote_to_be_reexecuted": false,
    "source_hash": "fe2cacd",
    "execution_start": 1624693958702,
    "execution_millis": 0,
    "deepnote_cell_type": "code"
   },
   "outputs": [],
   "execution_count": null
  },
  {
   "cell_type": "code",
   "source": "s = Automobile('Ford', 'Model T', 1908, 45)",
   "metadata": {
    "tags": [],
    "cell_id": "00167-0a3984f3-aaf6-48ef-8f61-4c4925ceffb8",
    "deepnote_to_be_reexecuted": false,
    "source_hash": "8315e5d5",
    "execution_start": 1624693964134,
    "execution_millis": 0,
    "deepnote_cell_type": "code"
   },
   "outputs": [],
   "execution_count": null
  },
  {
   "cell_type": "code",
   "source": "s.debug()",
   "metadata": {
    "tags": [],
    "cell_id": "00168-ce26809d-f126-4b2c-ad34-d6441fef4ed3",
    "deepnote_to_be_reexecuted": false,
    "source_hash": "63f2d5ec",
    "execution_start": 1624693970918,
    "execution_millis": 18,
    "deepnote_cell_type": "code"
   },
   "outputs": [
    {
     "output_type": "execute_result",
     "execution_count": 210,
     "data": {
      "text/plain": "['time: 2021-06-26 07:52:50.912263+00:00',\n 'class: Automobile',\n 'id: 0x7f0e415eaaf0',\n 'make: Ford',\n 'model: Model T',\n 'year: 1908',\n 'top_speed_mph: 45',\n 'current_speed: 0']"
     },
     "metadata": {}
    }
   ],
   "execution_count": null
  },
  {
   "cell_type": "code",
   "source": "s.speed = 20",
   "metadata": {
    "tags": [],
    "cell_id": "00169-f3be1f75-5a9a-4444-944a-ff65c03803d6",
    "deepnote_to_be_reexecuted": false,
    "source_hash": "96785dd2",
    "execution_start": 1624693999616,
    "execution_millis": 1,
    "deepnote_cell_type": "code"
   },
   "outputs": [],
   "execution_count": null
  },
  {
   "cell_type": "code",
   "source": "s.debug()",
   "metadata": {
    "tags": [],
    "cell_id": "00170-6e7f4da7-c8c3-4a52-8761-4f80126b38a6",
    "deepnote_to_be_reexecuted": false,
    "source_hash": "63f2d5ec",
    "execution_start": 1624694006344,
    "execution_millis": 17,
    "deepnote_cell_type": "code"
   },
   "outputs": [
    {
     "output_type": "execute_result",
     "execution_count": 212,
     "data": {
      "text/plain": "['time: 2021-06-26 07:53:26.336988+00:00',\n 'class: Automobile',\n 'id: 0x7f0e415eaaf0',\n 'make: Ford',\n 'model: Model T',\n 'year: 1908',\n 'top_speed_mph: 45',\n 'current_speed: 20']"
     },
     "metadata": {}
    }
   ],
   "execution_count": null
  },
  {
   "cell_type": "code",
   "source": "from math import sqrt",
   "metadata": {
    "tags": [],
    "cell_id": "00171-f7327342-9de8-438d-8943-36ac6e9f12c6",
    "deepnote_to_be_reexecuted": false,
    "source_hash": "39e11279",
    "execution_start": 1624694016726,
    "execution_millis": 1,
    "deepnote_cell_type": "code"
   },
   "outputs": [],
   "execution_count": null
  },
  {
   "cell_type": "code",
   "source": "class Point:\n    def __init__(self, x, y):\n        self.x = x\n        self.y = y\n        \n    def __abs__(self):\n        return sqrt(self.x**2 + self.y**2)\n    \n    def __repr__(self):\n        return 'Point({0},{1})'.format(self.x, self.y)",
   "metadata": {
    "tags": [],
    "cell_id": "00172-1c2d8e47-c6e0-4386-b779-96f7f6477bea",
    "deepnote_to_be_reexecuted": false,
    "source_hash": "e08caedd",
    "execution_start": 1624694037518,
    "execution_millis": 0,
    "deepnote_cell_type": "code"
   },
   "outputs": [],
   "execution_count": null
  },
  {
   "cell_type": "code",
   "source": "p1, p2, p3 = Point(2, 3), Point(2, 3), Point(0,0)",
   "metadata": {
    "tags": [],
    "cell_id": "00173-6f860f88-e18c-412d-9911-0e1e67052926",
    "deepnote_to_be_reexecuted": false,
    "source_hash": "dcb86f63",
    "execution_start": 1624694046141,
    "execution_millis": 1,
    "deepnote_cell_type": "code"
   },
   "outputs": [],
   "execution_count": null
  },
  {
   "cell_type": "code",
   "source": "abs(p1)",
   "metadata": {
    "tags": [],
    "cell_id": "00174-1b1111d3-1434-4c17-8fb2-4cd62b69b42a",
    "deepnote_to_be_reexecuted": false,
    "source_hash": "2ebdce97",
    "execution_start": 1624694056070,
    "execution_millis": 11,
    "deepnote_cell_type": "code"
   },
   "outputs": [
    {
     "output_type": "execute_result",
     "execution_count": 216,
     "data": {
      "text/plain": "3.605551275463989"
     },
     "metadata": {}
    }
   ],
   "execution_count": null
  },
  {
   "cell_type": "code",
   "source": "p1, p2",
   "metadata": {
    "tags": [],
    "cell_id": "00175-f644e574-7576-4b79-83e9-327da7770c1b",
    "deepnote_to_be_reexecuted": false,
    "source_hash": "4b2ab283",
    "execution_start": 1624694061719,
    "execution_millis": 12,
    "deepnote_cell_type": "code"
   },
   "outputs": [
    {
     "output_type": "execute_result",
     "execution_count": 217,
     "data": {
      "text/plain": "(Point(2,3), Point(2,3))"
     },
     "metadata": {}
    }
   ],
   "execution_count": null
  },
  {
   "cell_type": "code",
   "source": "p1 == p2",
   "metadata": {
    "tags": [],
    "cell_id": "00176-c95f9116-110a-4c6e-9467-7d97af7b25c3",
    "deepnote_to_be_reexecuted": false,
    "source_hash": "416c92aa",
    "execution_start": 1624694075687,
    "execution_millis": 14,
    "deepnote_cell_type": "code"
   },
   "outputs": [
    {
     "output_type": "execute_result",
     "execution_count": 218,
     "data": {
      "text/plain": "False"
     },
     "metadata": {}
    }
   ],
   "execution_count": null
  },
  {
   "cell_type": "code",
   "source": "p2 > p3",
   "metadata": {
    "tags": [],
    "cell_id": "00177-734ba008-250f-4e92-bf62-a55900d69f4d",
    "deepnote_to_be_reexecuted": false,
    "source_hash": "46a976c2",
    "execution_start": 1624694096597,
    "execution_millis": 16,
    "deepnote_cell_type": "code"
   },
   "outputs": [
    {
     "output_type": "error",
     "ename": "TypeError",
     "evalue": "'>' not supported between instances of 'Point' and 'Point'",
     "traceback": [
      "\u001b[0;31m---------------------------------------------------------------------------\u001b[0m",
      "\u001b[0;31mTypeError\u001b[0m                                 Traceback (most recent call last)",
      "\u001b[0;32m<ipython-input-219-f8bae365a84f>\u001b[0m in \u001b[0;36m<module>\u001b[0;34m\u001b[0m\n\u001b[0;32m----> 1\u001b[0;31m \u001b[0mp2\u001b[0m \u001b[0;34m>\u001b[0m \u001b[0mp3\u001b[0m\u001b[0;34m\u001b[0m\u001b[0;34m\u001b[0m\u001b[0m\n\u001b[0m",
      "\u001b[0;31mTypeError\u001b[0m: '>' not supported between instances of 'Point' and 'Point'"
     ]
    }
   ],
   "execution_count": null
  },
  {
   "cell_type": "code",
   "source": "del Point\n\nclass Point:\n    def __init__(self, x, y):\n        self.x = x\n        self.y = y\n        \n    def __abs__(self):\n        return sqrt(self.x**2 + self.y**2)\n    \n    def __eq__(self, other):\n        if isinstance(other, Point):\n            return self.x == other.x and self.y == other.y\n        else:\n            return NotImplemented\n            \n            \n    def __lt__(self, other):\n        if isinstance(other, Point):\n            return abs(self) < abs(other)\n        else:\n            return NotImplemented\n        \n    def __repr__(self):\n        return '{0}({1},{2})'.format(self.__class__.__name__, self.x, self.y)",
   "metadata": {
    "tags": [],
    "cell_id": "00178-605680c9-27e4-4151-b906-16cee5dbe88a",
    "deepnote_to_be_reexecuted": false,
    "source_hash": "4a966ec9",
    "execution_start": 1624694135454,
    "execution_millis": 0,
    "deepnote_cell_type": "code"
   },
   "outputs": [],
   "execution_count": null
  },
  {
   "cell_type": "code",
   "source": "p1, p2, p3 = Point(2, 3), Point(2, 3), Point(0,0)",
   "metadata": {
    "tags": [],
    "cell_id": "00179-3c25fbd6-018d-4a1e-8927-c6f640043e97",
    "deepnote_to_be_reexecuted": false,
    "source_hash": "dcb86f63",
    "execution_start": 1624694139982,
    "execution_millis": 5,
    "deepnote_cell_type": "code"
   },
   "outputs": [],
   "execution_count": null
  },
  {
   "cell_type": "code",
   "source": "p1, p2, p1==p2",
   "metadata": {
    "tags": [],
    "cell_id": "00180-58d4375e-ea90-4941-ab5e-a916c4825327",
    "deepnote_to_be_reexecuted": false,
    "source_hash": "428cf9ad",
    "execution_start": 1624694143539,
    "execution_millis": 16,
    "deepnote_cell_type": "code"
   },
   "outputs": [
    {
     "output_type": "execute_result",
     "execution_count": 222,
     "data": {
      "text/plain": "(Point(2,3), Point(2,3), True)"
     },
     "metadata": {}
    }
   ],
   "execution_count": null
  },
  {
   "cell_type": "code",
   "source": "p1 == 3 + 4j",
   "metadata": {
    "tags": [],
    "cell_id": "00181-c467926a-610e-461a-9298-1cc3e61a837e",
    "deepnote_to_be_reexecuted": false,
    "source_hash": "72fb7a7c",
    "execution_start": 1624694200750,
    "execution_millis": 15,
    "deepnote_cell_type": "code"
   },
   "outputs": [
    {
     "output_type": "execute_result",
     "execution_count": 225,
     "data": {
      "text/plain": "False"
     },
     "metadata": {}
    }
   ],
   "execution_count": null
  },
  {
   "cell_type": "code",
   "source": "p2, p3, p2==p3",
   "metadata": {
    "tags": [],
    "cell_id": "00182-bcaed3b4-7b9a-48a0-a06f-501f729be824",
    "deepnote_to_be_reexecuted": false,
    "source_hash": "cfe442",
    "execution_start": 1624694209206,
    "execution_millis": 9,
    "deepnote_cell_type": "code"
   },
   "outputs": [
    {
     "output_type": "execute_result",
     "execution_count": 226,
     "data": {
      "text/plain": "(Point(2,3), Point(0,0), False)"
     },
     "metadata": {}
    }
   ],
   "execution_count": null
  },
  {
   "cell_type": "code",
   "source": "p4 = Point(1, 2)",
   "metadata": {
    "tags": [],
    "cell_id": "00183-824278cf-249f-4709-b049-dfdbf4a9f8e6",
    "deepnote_to_be_reexecuted": false,
    "source_hash": "6309af17",
    "execution_start": 1624694216860,
    "execution_millis": 5,
    "deepnote_cell_type": "code"
   },
   "outputs": [],
   "execution_count": null
  },
  {
   "cell_type": "code",
   "source": "abs(p1), abs(p4), p1 < p4",
   "metadata": {
    "tags": [],
    "cell_id": "00184-a2efe8b3-8e6d-4134-940d-3d63f7bd1b4f",
    "deepnote_to_be_reexecuted": false,
    "source_hash": "dc2c8513",
    "execution_start": 1624694221612,
    "execution_millis": 11,
    "deepnote_cell_type": "code"
   },
   "outputs": [
    {
     "output_type": "execute_result",
     "execution_count": 228,
     "data": {
      "text/plain": "(3.605551275463989, 2.23606797749979, False)"
     },
     "metadata": {}
    }
   ],
   "execution_count": null
  },
  {
   "cell_type": "code",
   "source": " p1 > p4",
   "metadata": {
    "tags": [],
    "cell_id": "00185-ee752e91-df2f-47d0-b515-d996c3f637d1",
    "deepnote_to_be_reexecuted": false,
    "source_hash": "85edfc3c",
    "execution_start": 1624694242233,
    "execution_millis": 13,
    "deepnote_cell_type": "code"
   },
   "outputs": [
    {
     "output_type": "execute_result",
     "execution_count": 229,
     "data": {
      "text/plain": "True"
     },
     "metadata": {}
    }
   ],
   "execution_count": null
  },
  {
   "cell_type": "code",
   "source": "p1 <= p4",
   "metadata": {
    "tags": [],
    "cell_id": "00186-dd5dd48b-48a9-4113-828f-8563dae189d8",
    "deepnote_to_be_reexecuted": false,
    "source_hash": "cb99965d",
    "execution_start": 1624694251520,
    "execution_millis": 30,
    "deepnote_cell_type": "code"
   },
   "outputs": [
    {
     "output_type": "error",
     "ename": "TypeError",
     "evalue": "'<=' not supported between instances of 'Point' and 'Point'",
     "traceback": [
      "\u001b[0;31m---------------------------------------------------------------------------\u001b[0m",
      "\u001b[0;31mTypeError\u001b[0m                                 Traceback (most recent call last)",
      "\u001b[0;32m<ipython-input-230-56ddd3d9c363>\u001b[0m in \u001b[0;36m<module>\u001b[0;34m\u001b[0m\n\u001b[0;32m----> 1\u001b[0;31m \u001b[0mp1\u001b[0m \u001b[0;34m<=\u001b[0m \u001b[0mp4\u001b[0m\u001b[0;34m\u001b[0m\u001b[0;34m\u001b[0m\u001b[0m\n\u001b[0m",
      "\u001b[0;31mTypeError\u001b[0m: '<=' not supported between instances of 'Point' and 'Point'"
     ]
    }
   ],
   "execution_count": null
  },
  {
   "cell_type": "code",
   "source": "def complete_ordering(cls):\n    if '__eq__' in dir(cls) and '__lt__' in dir(cls):\n        cls.__le__ = lambda self, other: self < other or self == other\n        cls.__gt__ = lambda self, other: not(self < other) and not (self == other)\n        cls.__ge__ = lambda self, other: not (self < other)\n    return cls",
   "metadata": {
    "tags": [],
    "cell_id": "00187-2d7e9f21-f421-4a88-9fea-012e8ee67bf7",
    "deepnote_to_be_reexecuted": false,
    "source_hash": "a07dc7ec",
    "execution_start": 1624694282234,
    "execution_millis": 0,
    "deepnote_cell_type": "code"
   },
   "outputs": [],
   "execution_count": null
  },
  {
   "cell_type": "code",
   "source": "def ge_from_lt(self, other):\n    # self >= other iff not(other < self)\n    result = self.__lt__(other)\n    if result is NotImplemented:\n        return NotImplemented\n    else:\n        return not result",
   "metadata": {
    "tags": [],
    "cell_id": "00188-2f04a970-6875-4405-9bca-2dc36942f394",
    "deepnote_to_be_reexecuted": false,
    "source_hash": "a2a9089d",
    "execution_start": 1624694323839,
    "execution_millis": 0,
    "deepnote_cell_type": "code"
   },
   "outputs": [],
   "execution_count": null
  },
  {
   "cell_type": "code",
   "source": "class Point:\n    def __init__(self, x, y):\n        self.x = x\n        self.y = y\n        \n    def __abs__(self):\n        return sqrt(self.x**2 + self.y**2)\n    \n    def __eq__(self, other):\n        if isinstance(other, Point):\n            return self.x == other.x and self.y == other.y\n        else:\n            return NotImplemented\n            \n    def __lt__(self, other):\n        if isinstance(other, Point):\n            return abs(self) < abs(other)\n        else:\n            return NotImplemented\n        \n    def __repr__(self):\n        return '{0}({1},{2})'.format(self.__class__, self.x, self.y)",
   "metadata": {
    "tags": [],
    "cell_id": "00189-5802901f-87fc-4dae-b55b-72b01504f143",
    "deepnote_to_be_reexecuted": false,
    "source_hash": "6d34eb24",
    "execution_start": 1624694332789,
    "execution_millis": 9,
    "deepnote_cell_type": "code"
   },
   "outputs": [],
   "execution_count": null
  },
  {
   "cell_type": "code",
   "source": "Point = complete_ordering(Point)  ",
   "metadata": {
    "tags": [],
    "cell_id": "00190-900e436f-d4ea-47d5-860f-c2660834784d",
    "deepnote_to_be_reexecuted": false,
    "source_hash": "4d1b422a",
    "execution_start": 1624694341449,
    "execution_millis": 9,
    "deepnote_cell_type": "code"
   },
   "outputs": [],
   "execution_count": null
  },
  {
   "cell_type": "code",
   "source": "p1, p2, p3 = Point(1, 1), Point(3, 4), Point(3, 4)",
   "metadata": {
    "tags": [],
    "cell_id": "00191-8b044244-e4d5-4c6c-8cc5-1dfac4401e83",
    "deepnote_to_be_reexecuted": false,
    "source_hash": "6df7ce93",
    "execution_start": 1624694346256,
    "execution_millis": 7,
    "deepnote_cell_type": "code"
   },
   "outputs": [],
   "execution_count": null
  },
  {
   "cell_type": "code",
   "source": "abs(p1), abs(p2), abs(p3)",
   "metadata": {
    "tags": [],
    "cell_id": "00192-305df9aa-ff4a-4339-b99f-413d389e52a2",
    "deepnote_to_be_reexecuted": false,
    "source_hash": "7b0603c9",
    "execution_start": 1624694359922,
    "execution_millis": 11,
    "deepnote_cell_type": "code"
   },
   "outputs": [
    {
     "output_type": "execute_result",
     "execution_count": 236,
     "data": {
      "text/plain": "(1.4142135623730951, 5.0, 5.0)"
     },
     "metadata": {}
    }
   ],
   "execution_count": null
  },
  {
   "cell_type": "code",
   "source": "p1 < p2, p1 <= p2, p1 > p2, p1 >= p2, p2 > p2, p2 >= p3",
   "metadata": {
    "tags": [],
    "cell_id": "00193-613c4ccc-f194-4e1c-86ff-129fc3dcd67a",
    "deepnote_to_be_reexecuted": false,
    "source_hash": "b2f0ed22",
    "execution_start": 1624694363979,
    "execution_millis": 11,
    "deepnote_cell_type": "code"
   },
   "outputs": [
    {
     "output_type": "execute_result",
     "execution_count": 237,
     "data": {
      "text/plain": "(True, True, False, False, False, True)"
     },
     "metadata": {}
    }
   ],
   "execution_count": null
  },
  {
   "cell_type": "code",
   "source": "@complete_ordering\nclass Grade:\n    def __init__(self, score, max_score):\n        self.score = score\n        self.max_score = max_score\n        self.score_percent = round(score / max_score * 100)\n     \n    def __repr__(self):\n        return 'Grade({0}, {1})'.format(self.score, self.max_score)\n    \n    def __eq__(self, other):\n        if isinstance(other, Grade):\n            return self.score_percent == other.score_percent\n        else:\n            return NotImplemented\n    \n    def __lt__(self, other):\n        if isinstance(other, Grade):\n            return self.score_percent < other.score_percent\n        else:\n            return NotImplemented\n        ",
   "metadata": {
    "tags": [],
    "cell_id": "00194-b229b898-7463-4f01-afb0-d129833f4b40",
    "deepnote_to_be_reexecuted": false,
    "source_hash": "fd484f1d",
    "execution_start": 1624694383279,
    "execution_millis": 0,
    "deepnote_cell_type": "code"
   },
   "outputs": [],
   "execution_count": null
  },
  {
   "cell_type": "code",
   "source": "g1 = Grade(10, 100)\ng2 = Grade(20, 30)\ng3 = Grade(5, 50)",
   "metadata": {
    "tags": [],
    "cell_id": "00195-82bbe4fd-8049-4130-abc8-b7f5410b9ddb",
    "deepnote_to_be_reexecuted": false,
    "source_hash": "ae7d42c6",
    "execution_start": 1624694388367,
    "execution_millis": 5,
    "deepnote_cell_type": "code"
   },
   "outputs": [],
   "execution_count": null
  },
  {
   "cell_type": "code",
   "source": "g1 <= g2, g1 == g3, g2 > g3",
   "metadata": {
    "tags": [],
    "cell_id": "00196-6b21d44c-839e-415f-b6e7-cdb3c99b2bd3",
    "deepnote_to_be_reexecuted": false,
    "source_hash": "a340da47",
    "execution_start": 1624694392534,
    "execution_millis": 23,
    "deepnote_cell_type": "code"
   },
   "outputs": [
    {
     "output_type": "execute_result",
     "execution_count": 240,
     "data": {
      "text/plain": "(True, True, True)"
     },
     "metadata": {}
    }
   ],
   "execution_count": null
  },
  {
   "cell_type": "code",
   "source": "from functools import total_ordering\n\n@total_ordering\nclass Grade:\n    def __init__(self, score, max_score):\n        self.score = score\n        self.max_score = max_score\n        self.score_percent = round(score / max_score * 100)\n     \n    def __repr__(self):\n        return 'Grade({0}, {1})'.format(self.score, self.max_score)\n    \n    def __eq__(self, other):\n        if isinstance(other, Grade):\n            return self.score_percent == other.score_percent\n        else:\n            return NotImplemented\n    \n    def __lt__(self, other):\n        if isinstance(other, Grade):\n            return self.score_percent < other.score_percent\n        else:\n            return NotImplemented",
   "metadata": {
    "tags": [],
    "cell_id": "00197-66ab4528-0e30-42ca-8022-fdb28405fec3",
    "deepnote_to_be_reexecuted": false,
    "source_hash": "640618dd",
    "execution_start": 1624694413494,
    "execution_millis": 0,
    "deepnote_cell_type": "code"
   },
   "outputs": [],
   "execution_count": null
  },
  {
   "cell_type": "code",
   "source": "g1, g2 = Grade(80, 100), Grade(60, 100)",
   "metadata": {
    "tags": [],
    "cell_id": "00198-ee188df5-6550-4179-aca2-683d14498905",
    "deepnote_to_be_reexecuted": false,
    "source_hash": "a8895e1f",
    "execution_start": 1624694422166,
    "execution_millis": 3,
    "deepnote_cell_type": "code"
   },
   "outputs": [],
   "execution_count": null
  },
  {
   "cell_type": "code",
   "source": "g1 >= g2, g1 > g2",
   "metadata": {
    "tags": [],
    "cell_id": "00199-87dc2e4c-2191-4b00-9f30-da8a7a3222a6",
    "deepnote_to_be_reexecuted": false,
    "source_hash": "7267bec6",
    "execution_start": 1624694425477,
    "execution_millis": 16,
    "deepnote_cell_type": "code"
   },
   "outputs": [
    {
     "output_type": "execute_result",
     "execution_count": 243,
     "data": {
      "text/plain": "(True, True)"
     },
     "metadata": {}
    }
   ],
   "execution_count": null
  },
  {
   "cell_type": "code",
   "source": "",
   "metadata": {
    "tags": [],
    "cell_id": "00200-7a9e0174-c873-476d-85c8-87ef6004ab76",
    "deepnote_cell_type": "code"
   },
   "outputs": [],
   "execution_count": null
  },
  {
   "cell_type": "markdown",
   "source": "<a style='text-decoration:none;line-height:16px;display:flex;color:#5B5B62;padding:10px;justify-content:end;' href='https://deepnote.com?utm_source=created-in-deepnote-cell&projectId=ec90de38-255d-4b81-a5aa-8cef77d684bf' target=\"_blank\">\n<img alt='Created in deepnote.com' style='display:inline;max-height:16px;margin:0px;margin-right:7.5px;' src='data:image/svg+xml;base64,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' > </img>\nCreated in <span style='font-weight:600;margin-left:4px;'>Deepnote</span></a>",
   "metadata": {
    "tags": [],
    "created_in_deepnote_cell": true,
    "deepnote_cell_type": "markdown"
   }
  }
 ],
 "nbformat": 4,
 "nbformat_minor": 2,
 "metadata": {
  "orig_nbformat": 2,
  "deepnote": {
   "is_reactive": false
  },
  "deepnote_notebook_id": "1f4e4b01-7a8b-4745-91eb-c213d98608f3",
  "deepnote_execution_queue": []
 }
}