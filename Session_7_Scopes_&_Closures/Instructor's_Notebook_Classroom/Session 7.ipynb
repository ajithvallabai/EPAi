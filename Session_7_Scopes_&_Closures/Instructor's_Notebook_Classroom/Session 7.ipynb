{
 "cells": [
  {
   "cell_type": "markdown",
   "source": "# Global and local scopes",
   "metadata": {
    "tags": [],
    "cell_id": "00000-5ba1c3ca-afc8-4ac1-b823-a9c5c2b6c4ae",
    "deepnote_cell_type": "markdown"
   }
  },
  {
   "cell_type": "markdown",
   "source": "",
   "metadata": {
    "tags": [],
    "cell_id": "00002-04c2a41a-beab-4ed5-93e9-164140d59732",
    "deepnote_cell_type": "text-cell-p"
   }
  },
  {
   "cell_type": "code",
   "source": "a = 10",
   "metadata": {
    "tags": [],
    "cell_id": "00002-df2270f9-7b63-4e39-b29f-3be4629f5fff",
    "deepnote_to_be_reexecuted": false,
    "source_hash": "c16d8ddd",
    "execution_start": 1624081363878,
    "execution_millis": 6,
    "deepnote_cell_type": "code"
   },
   "outputs": [],
   "execution_count": null
  },
  {
   "cell_type": "code",
   "source": "def my_func(n):\n    c = n ** 2\n    return c",
   "metadata": {
    "tags": [],
    "cell_id": "00003-b56a55a4-d468-4a5e-b962-64cfea9b8946",
    "deepnote_to_be_reexecuted": false,
    "source_hash": "6803137d",
    "execution_start": 1624081387802,
    "execution_millis": 0,
    "deepnote_cell_type": "code"
   },
   "outputs": [],
   "execution_count": null
  },
  {
   "cell_type": "code",
   "source": "my_func(10)",
   "metadata": {
    "tags": [],
    "cell_id": "00004-7b45cade-8865-4152-901a-033d2d4d7bd5",
    "deepnote_to_be_reexecuted": false,
    "source_hash": "2440351f",
    "execution_start": 1624081406233,
    "execution_millis": 8,
    "deepnote_cell_type": "code"
   },
   "outputs": [
    {
     "output_type": "execute_result",
     "execution_count": 6,
     "data": {
      "text/plain": "100"
     },
     "metadata": {}
    }
   ],
   "execution_count": null
  },
  {
   "cell_type": "code",
   "source": "def my_func(n):\n    print('global:', a)\n    c = a ** n\n    return c",
   "metadata": {
    "tags": [],
    "cell_id": "00005-1aa535dc-eb5f-410d-90b1-f7282163dcef",
    "deepnote_to_be_reexecuted": false,
    "source_hash": "dfbd6457",
    "execution_start": 1624081462064,
    "execution_millis": 1,
    "deepnote_cell_type": "code"
   },
   "outputs": [],
   "execution_count": null
  },
  {
   "cell_type": "code",
   "source": "my_func(2)",
   "metadata": {
    "tags": [],
    "cell_id": "00006-c18adeb4-cb68-491b-b2b4-af34302297b6",
    "deepnote_to_be_reexecuted": false,
    "source_hash": "82bb942b",
    "execution_start": 1624081467827,
    "execution_millis": 8,
    "deepnote_cell_type": "code"
   },
   "outputs": [
    {
     "name": "stdout",
     "text": "global: 10\n",
     "output_type": "stream"
    },
    {
     "output_type": "execute_result",
     "execution_count": 10,
     "data": {
      "text/plain": "100"
     },
     "metadata": {}
    }
   ],
   "execution_count": null
  },
  {
   "cell_type": "code",
   "source": "def my_func(n):\n    a = 2\n    c = a ** n\n    return c\n\nmy_func(2), a",
   "metadata": {
    "tags": [],
    "cell_id": "00007-54975d9f-0cf5-45bd-b751-12e3cc8266af",
    "deepnote_to_be_reexecuted": false,
    "source_hash": "9805b5ca",
    "execution_start": 1624081503638,
    "execution_millis": 16,
    "deepnote_cell_type": "code"
   },
   "outputs": [
    {
     "output_type": "execute_result",
     "execution_count": 11,
     "data": {
      "text/plain": "(4, 10)"
     },
     "metadata": {}
    }
   ],
   "execution_count": null
  },
  {
   "cell_type": "code",
   "source": "a = 10\n\ndef my_func(n):\n    global a\n    a = 2\n    c = a ** 2\n    return c\n\nmy_func(2), a",
   "metadata": {
    "tags": [],
    "cell_id": "00008-9e64d6ac-17a8-497e-9cc4-e1e225c3e06a",
    "deepnote_to_be_reexecuted": false,
    "source_hash": "d8649831",
    "execution_start": 1624081575228,
    "execution_millis": 9,
    "deepnote_cell_type": "code"
   },
   "outputs": [
    {
     "output_type": "execute_result",
     "execution_count": 12,
     "data": {
      "text/plain": "(4, 2)"
     },
     "metadata": {}
    }
   ],
   "execution_count": null
  },
  {
   "cell_type": "code",
   "source": "a",
   "metadata": {
    "tags": [],
    "cell_id": "00009-dbc77b47-8483-46c6-8109-4fcd1a28fb78",
    "deepnote_to_be_reexecuted": false,
    "source_hash": "ef4233c",
    "execution_start": 1624081579151,
    "execution_millis": 12,
    "deepnote_cell_type": "code"
   },
   "outputs": [
    {
     "output_type": "execute_result",
     "execution_count": 13,
     "data": {
      "text/plain": "2"
     },
     "metadata": {}
    }
   ],
   "execution_count": null
  },
  {
   "cell_type": "code",
   "source": "var",
   "metadata": {
    "tags": [],
    "cell_id": "00010-d7c0cd51-2a2c-4b12-bb1d-26121d9625d2",
    "deepnote_to_be_reexecuted": false,
    "source_hash": "3f998ef3",
    "execution_start": 1624081606254,
    "execution_millis": 52,
    "deepnote_cell_type": "code"
   },
   "outputs": [
    {
     "output_type": "error",
     "ename": "NameError",
     "evalue": "name 'var' is not defined",
     "traceback": [
      "\u001b[0;31m---------------------------------------------------------------------------\u001b[0m",
      "\u001b[0;31mNameError\u001b[0m                                 Traceback (most recent call last)",
      "\u001b[0;32m<ipython-input-14-84ddba356ca3>\u001b[0m in \u001b[0;36m<module>\u001b[0;34m\u001b[0m\n\u001b[0;32m----> 1\u001b[0;31m \u001b[0mvar\u001b[0m\u001b[0;34m\u001b[0m\u001b[0;34m\u001b[0m\u001b[0m\n\u001b[0m",
      "\u001b[0;31mNameError\u001b[0m: name 'var' is not defined"
     ]
    }
   ],
   "execution_count": null
  },
  {
   "cell_type": "code",
   "source": "def my_func(n):\n    global var\n    var = 'this is strange'\n    return n ** 2\n\nprint(var)",
   "metadata": {
    "tags": [],
    "cell_id": "00011-21407c98-9ab6-46fc-a163-5279c8c2815a",
    "deepnote_to_be_reexecuted": false,
    "source_hash": "8f71f728",
    "execution_start": 1624081757288,
    "execution_millis": 11,
    "deepnote_cell_type": "code"
   },
   "outputs": [
    {
     "output_type": "error",
     "ename": "NameError",
     "evalue": "name 'var' is not defined",
     "traceback": [
      "\u001b[0;31m---------------------------------------------------------------------------\u001b[0m",
      "\u001b[0;31mNameError\u001b[0m                                 Traceback (most recent call last)",
      "\u001b[0;32m<ipython-input-15-fea164866bb6>\u001b[0m in \u001b[0;36m<module>\u001b[0;34m\u001b[0m\n\u001b[1;32m      4\u001b[0m     \u001b[0;32mreturn\u001b[0m \u001b[0mn\u001b[0m \u001b[0;34m**\u001b[0m \u001b[0;36m2\u001b[0m\u001b[0;34m\u001b[0m\u001b[0;34m\u001b[0m\u001b[0m\n\u001b[1;32m      5\u001b[0m \u001b[0;34m\u001b[0m\u001b[0m\n\u001b[0;32m----> 6\u001b[0;31m \u001b[0mprint\u001b[0m\u001b[0;34m(\u001b[0m\u001b[0mvar\u001b[0m\u001b[0;34m)\u001b[0m\u001b[0;34m\u001b[0m\u001b[0;34m\u001b[0m\u001b[0m\n\u001b[0m",
      "\u001b[0;31mNameError\u001b[0m: name 'var' is not defined"
     ]
    }
   ],
   "execution_count": null
  },
  {
   "cell_type": "code",
   "source": "def my_func(n):\n    global var\n    var = 'this is strange'\n    return n ** 2\n\nmy_func(4)\n\nprint(var)",
   "metadata": {
    "tags": [],
    "cell_id": "00012-6e5ec33b-617d-4a8b-9f58-8d5cda1d5b6b",
    "deepnote_to_be_reexecuted": false,
    "source_hash": "33826f8a",
    "execution_start": 1624081855919,
    "execution_millis": 10,
    "deepnote_cell_type": "code"
   },
   "outputs": [
    {
     "name": "stdout",
     "text": "this is strange\n",
     "output_type": "stream"
    }
   ],
   "execution_count": null
  },
  {
   "cell_type": "code",
   "source": "def my_func(n):\n    var1 = 'this is strange'\n    print(var1)\n    return n ** 2\n\nmy_func(4)\n\nprint(var1)",
   "metadata": {
    "tags": [],
    "cell_id": "00013-35a6b01c-779f-4155-b4ec-ab3fa58d84da",
    "deepnote_to_be_reexecuted": false,
    "source_hash": "e398d214",
    "execution_start": 1624081979842,
    "execution_millis": 12,
    "deepnote_cell_type": "code"
   },
   "outputs": [
    {
     "name": "stdout",
     "text": "this is strange\n",
     "output_type": "stream"
    },
    {
     "output_type": "error",
     "ename": "NameError",
     "evalue": "name 'var1' is not defined",
     "traceback": [
      "\u001b[0;31m---------------------------------------------------------------------------\u001b[0m",
      "\u001b[0;31mNameError\u001b[0m                                 Traceback (most recent call last)",
      "\u001b[0;32m<ipython-input-18-515b3ad44386>\u001b[0m in \u001b[0;36m<module>\u001b[0;34m\u001b[0m\n\u001b[1;32m      6\u001b[0m \u001b[0mmy_func\u001b[0m\u001b[0;34m(\u001b[0m\u001b[0;36m4\u001b[0m\u001b[0;34m)\u001b[0m\u001b[0;34m\u001b[0m\u001b[0;34m\u001b[0m\u001b[0m\n\u001b[1;32m      7\u001b[0m \u001b[0;34m\u001b[0m\u001b[0m\n\u001b[0;32m----> 8\u001b[0;31m \u001b[0mprint\u001b[0m\u001b[0;34m(\u001b[0m\u001b[0mvar1\u001b[0m\u001b[0;34m)\u001b[0m\u001b[0;34m\u001b[0m\u001b[0;34m\u001b[0m\u001b[0m\n\u001b[0m",
      "\u001b[0;31mNameError\u001b[0m: name 'var1' is not defined"
     ]
    }
   ],
   "execution_count": null
  },
  {
   "cell_type": "code",
   "source": "a = 10\nb = 100\n\ndef my_func():\n    print(a)\n    print(b)",
   "metadata": {
    "tags": [],
    "cell_id": "00014-fb8da2c7-3a4a-49de-a8f2-8baa8484e54a",
    "deepnote_to_be_reexecuted": false,
    "source_hash": "78830530",
    "execution_start": 1624082005824,
    "execution_millis": 47,
    "deepnote_cell_type": "code"
   },
   "outputs": [],
   "execution_count": null
  },
  {
   "cell_type": "code",
   "source": "my_func()",
   "metadata": {
    "tags": [],
    "cell_id": "00015-15783be1-bb3e-4418-906a-900112ea0da0",
    "deepnote_to_be_reexecuted": false,
    "source_hash": "416ffdb4",
    "execution_start": 1624082010722,
    "execution_millis": 16,
    "deepnote_cell_type": "code"
   },
   "outputs": [
    {
     "name": "stdout",
     "text": "10\n100\n",
     "output_type": "stream"
    }
   ],
   "execution_count": null
  },
  {
   "cell_type": "code",
   "source": "a = 10\nb = 100\n\ndef my_func():\n    print(a)\n    print(b)\n    b = 1000\n\nmy_func()",
   "metadata": {
    "tags": [],
    "cell_id": "00016-d9e25aac-8d1e-4bd2-a3ad-86b0b56af9b1",
    "deepnote_to_be_reexecuted": false,
    "source_hash": "2f9413a4",
    "execution_start": 1624082190566,
    "execution_millis": 17,
    "deepnote_cell_type": "code"
   },
   "outputs": [
    {
     "name": "stdout",
     "text": "10\n",
     "output_type": "stream"
    },
    {
     "output_type": "error",
     "ename": "UnboundLocalError",
     "evalue": "local variable 'b' referenced before assignment",
     "traceback": [
      "\u001b[0;31m---------------------------------------------------------------------------\u001b[0m",
      "\u001b[0;31mUnboundLocalError\u001b[0m                         Traceback (most recent call last)",
      "\u001b[0;32m<ipython-input-21-40a30fb0c138>\u001b[0m in \u001b[0;36m<module>\u001b[0;34m\u001b[0m\n\u001b[1;32m      7\u001b[0m     \u001b[0mb\u001b[0m \u001b[0;34m=\u001b[0m \u001b[0;36m1000\u001b[0m\u001b[0;34m\u001b[0m\u001b[0;34m\u001b[0m\u001b[0m\n\u001b[1;32m      8\u001b[0m \u001b[0;34m\u001b[0m\u001b[0m\n\u001b[0;32m----> 9\u001b[0;31m \u001b[0mmy_func\u001b[0m\u001b[0;34m(\u001b[0m\u001b[0;34m)\u001b[0m\u001b[0;34m\u001b[0m\u001b[0;34m\u001b[0m\u001b[0m\n\u001b[0m",
      "\u001b[0;32m<ipython-input-21-40a30fb0c138>\u001b[0m in \u001b[0;36mmy_func\u001b[0;34m()\u001b[0m\n\u001b[1;32m      4\u001b[0m \u001b[0;32mdef\u001b[0m \u001b[0mmy_func\u001b[0m\u001b[0;34m(\u001b[0m\u001b[0;34m)\u001b[0m\u001b[0;34m:\u001b[0m\u001b[0;34m\u001b[0m\u001b[0;34m\u001b[0m\u001b[0m\n\u001b[1;32m      5\u001b[0m     \u001b[0mprint\u001b[0m\u001b[0;34m(\u001b[0m\u001b[0ma\u001b[0m\u001b[0;34m)\u001b[0m\u001b[0;34m\u001b[0m\u001b[0;34m\u001b[0m\u001b[0m\n\u001b[0;32m----> 6\u001b[0;31m     \u001b[0mprint\u001b[0m\u001b[0;34m(\u001b[0m\u001b[0mb\u001b[0m\u001b[0;34m)\u001b[0m\u001b[0;34m\u001b[0m\u001b[0;34m\u001b[0m\u001b[0m\n\u001b[0m\u001b[1;32m      7\u001b[0m     \u001b[0mb\u001b[0m \u001b[0;34m=\u001b[0m \u001b[0;36m1000\u001b[0m\u001b[0;34m\u001b[0m\u001b[0;34m\u001b[0m\u001b[0m\n\u001b[1;32m      8\u001b[0m \u001b[0;34m\u001b[0m\u001b[0m\n",
      "\u001b[0;31mUnboundLocalError\u001b[0m: local variable 'b' referenced before assignment"
     ]
    }
   ],
   "execution_count": null
  },
  {
   "cell_type": "code",
   "source": "a = 10\nb = 100\n\ndef my_func():\n    global b\n    print(a)\n    print(b)\n    b = 1000\n\nmy_func()",
   "metadata": {
    "tags": [],
    "cell_id": "00017-a838866c-3fb3-4543-9784-fe6e11c57e53",
    "deepnote_to_be_reexecuted": false,
    "source_hash": "9e205993",
    "execution_start": 1624082280971,
    "execution_millis": 14,
    "deepnote_cell_type": "code"
   },
   "outputs": [
    {
     "name": "stdout",
     "text": "10\n100\n",
     "output_type": "stream"
    }
   ],
   "execution_count": null
  },
  {
   "cell_type": "code",
   "source": "print = lambda x: f'hello {x}'\nprint('rohan')",
   "metadata": {
    "tags": [],
    "cell_id": "00018-de1d2a4d-277c-43a6-b335-bbdbc47e9247",
    "deepnote_to_be_reexecuted": false,
    "source_hash": "6b04f1dd",
    "execution_start": 1624082341057,
    "execution_millis": 13,
    "deepnote_cell_type": "code"
   },
   "outputs": [
    {
     "output_type": "execute_result",
     "execution_count": 23,
     "data": {
      "text/plain": "'hello rohan'"
     },
     "metadata": {}
    }
   ],
   "execution_count": null
  },
  {
   "cell_type": "code",
   "source": "def my_func(a, b):\n    return a + b\n\nmy_func = lambda a, b : a + b\n",
   "metadata": {
    "tags": [],
    "cell_id": "00019-04f729f3-9ec0-4c9a-9a2f-287b97fb04d1",
    "deepnote_to_be_reexecuted": false,
    "source_hash": "658679e1",
    "execution_start": 1624082484070,
    "execution_millis": 0,
    "deepnote_cell_type": "code"
   },
   "outputs": [],
   "execution_count": null
  },
  {
   "cell_type": "code",
   "source": "del print",
   "metadata": {
    "tags": [],
    "cell_id": "00020-868d859a-1847-44e0-9dd2-58671dde1fe8",
    "deepnote_to_be_reexecuted": false,
    "source_hash": "c9efce7f",
    "execution_start": 1624082499785,
    "execution_millis": 6,
    "deepnote_cell_type": "code"
   },
   "outputs": [],
   "execution_count": null
  },
  {
   "cell_type": "code",
   "source": "a = 10\nb = 100\n\ndef my_func():\n    print(a)\n    print(b)\n\nmy_func()",
   "metadata": {
    "tags": [],
    "cell_id": "00021-101088e9-e79e-4f55-8672-812fa20085b4",
    "deepnote_to_be_reexecuted": false,
    "source_hash": "29482651",
    "execution_start": 1624082754819,
    "execution_millis": 10,
    "deepnote_cell_type": "code"
   },
   "outputs": [
    {
     "name": "stdout",
     "text": "10\n100\n",
     "output_type": "stream"
    }
   ],
   "execution_count": null
  },
  {
   "cell_type": "code",
   "source": "a = 2\nid(a) == id(2)",
   "metadata": {
    "tags": [],
    "cell_id": "00022-47361231-6e3e-4eef-a4d1-843d882b6b75",
    "deepnote_to_be_reexecuted": false,
    "source_hash": "1aff2460",
    "execution_start": 1624082851588,
    "execution_millis": 21,
    "deepnote_cell_type": "code"
   },
   "outputs": [
    {
     "output_type": "execute_result",
     "execution_count": 27,
     "data": {
      "text/plain": "True"
     },
     "metadata": {}
    }
   ],
   "execution_count": null
  },
  {
   "cell_type": "code",
   "source": "def func():\n    z = 10\n\nprint(z)\n",
   "metadata": {
    "tags": [],
    "cell_id": "00023-4cf67981-a6a8-4ac1-a1bc-483d2ba3e978",
    "deepnote_to_be_reexecuted": false,
    "source_hash": "256dbfd3",
    "execution_start": 1624082999884,
    "execution_millis": 70,
    "deepnote_cell_type": "code"
   },
   "outputs": [
    {
     "output_type": "error",
     "ename": "NameError",
     "evalue": "name 'z' is not defined",
     "traceback": [
      "\u001b[0;31m---------------------------------------------------------------------------\u001b[0m",
      "\u001b[0;31mNameError\u001b[0m                                 Traceback (most recent call last)",
      "\u001b[0;32m<ipython-input-28-d8e0d01aadbd>\u001b[0m in \u001b[0;36m<module>\u001b[0;34m\u001b[0m\n\u001b[1;32m      2\u001b[0m     \u001b[0mz\u001b[0m \u001b[0;34m=\u001b[0m \u001b[0;36m10\u001b[0m\u001b[0;34m\u001b[0m\u001b[0;34m\u001b[0m\u001b[0m\n\u001b[1;32m      3\u001b[0m \u001b[0;34m\u001b[0m\u001b[0m\n\u001b[0;32m----> 4\u001b[0;31m \u001b[0mprint\u001b[0m\u001b[0;34m(\u001b[0m\u001b[0mz\u001b[0m\u001b[0;34m)\u001b[0m\u001b[0;34m\u001b[0m\u001b[0;34m\u001b[0m\u001b[0m\n\u001b[0m",
      "\u001b[0;31mNameError\u001b[0m: name 'z' is not defined"
     ]
    }
   ],
   "execution_count": null
  },
  {
   "cell_type": "code",
   "source": "for z in range(10):\n    print(z)\n\nprint(z)\n\n\"\"\"\nfor (int i = 0; i <= 10; i++){\n    cout<<i;\n}\ncout<<i;\n\"\"\"",
   "metadata": {
    "tags": [],
    "cell_id": "00024-b30e62de-bf3f-4e14-8d89-ad8c486e7528",
    "deepnote_to_be_reexecuted": false,
    "source_hash": "d845108a",
    "execution_start": 1624083128699,
    "execution_millis": 9,
    "deepnote_cell_type": "code"
   },
   "outputs": [
    {
     "name": "stdout",
     "text": "0\n1\n2\n3\n4\n5\n6\n7\n8\n9\n9\n",
     "output_type": "stream"
    },
    {
     "output_type": "execute_result",
     "execution_count": 29,
     "data": {
      "text/plain": "'\\nfor (int i = 0; i <= 10; i++){\\n    cout<<i;\\n}\\ncout<<i;\\n'"
     },
     "metadata": {}
    }
   ],
   "execution_count": null
  },
  {
   "cell_type": "code",
   "source": "for z in range(10):\n    pass\n\nprint(z)",
   "metadata": {
    "tags": [],
    "cell_id": "00025-f963d389-e90c-4b13-a214-08a188bf8cf0",
    "deepnote_to_be_reexecuted": false,
    "source_hash": "12fbb5f3",
    "execution_start": 1624083144012,
    "execution_millis": 14,
    "deepnote_cell_type": "code"
   },
   "outputs": [
    {
     "name": "stdout",
     "text": "9\n",
     "output_type": "stream"
    }
   ],
   "execution_count": null
  },
  {
   "cell_type": "code",
   "source": "a = 10\n\nfor a in range(1):\n    print(a)\n    \nprint(a)",
   "metadata": {
    "tags": [],
    "cell_id": "00026-c7761677-66eb-4a79-9e99-aefdc454bbe3",
    "deepnote_to_be_reexecuted": false,
    "source_hash": "eaece548",
    "execution_start": 1624083398339,
    "execution_millis": 15,
    "deepnote_cell_type": "code"
   },
   "outputs": [
    {
     "name": "stdout",
     "text": "0\n0\n",
     "output_type": "stream"
    }
   ],
   "execution_count": null
  },
  {
   "cell_type": "markdown",
   "source": "# Non Local Scope",
   "metadata": {
    "tags": [],
    "cell_id": "00026-cd271f2c-e20a-4ae7-8289-cce96457e956",
    "deepnote_cell_type": "markdown"
   }
  },
  {
   "cell_type": "code",
   "source": "def outer_func():\n    x = 'hello'\n    def inner_func():\n        print(x)\n\n    inner_func()\n\nouter_func()",
   "metadata": {
    "tags": [],
    "cell_id": "00026-ba7245ed-653b-4266-b35b-ceb7996b5651",
    "deepnote_to_be_reexecuted": false,
    "source_hash": "92a0386c",
    "execution_start": 1624083473914,
    "execution_millis": 22,
    "deepnote_cell_type": "code"
   },
   "outputs": [
    {
     "name": "stdout",
     "text": "hello\n",
     "output_type": "stream"
    }
   ],
   "execution_count": null
  },
  {
   "cell_type": "code",
   "source": "x = \"not hello\"\ndef outer_func():\n    x = 'hello'\n    def inner_func():\n        print(x)\n    inner_func()\nouter_func()",
   "metadata": {
    "tags": [],
    "cell_id": "00029-a222f69d-ac93-4994-acfb-a67da7a7b916",
    "deepnote_to_be_reexecuted": false,
    "source_hash": "ae7ad2f3",
    "execution_start": 1624083488730,
    "execution_millis": 15,
    "deepnote_cell_type": "code"
   },
   "outputs": [
    {
     "name": "stdout",
     "text": "hello\n",
     "output_type": "stream"
    }
   ],
   "execution_count": null
  },
  {
   "cell_type": "code",
   "source": "x = \"not hello\"\ndef outer_func():\n    x = 'hello'\n    def inner_func():\n        def inner_inner_func():\n            print(x)\n        inner_inner_func()\n    inner_func()\nouter_func()",
   "metadata": {
    "tags": [],
    "cell_id": "00030-fabdb44a-baab-4ece-a6bf-089d4087aafb",
    "deepnote_to_be_reexecuted": false,
    "source_hash": "89f077e8",
    "execution_start": 1624083537627,
    "execution_millis": 24,
    "deepnote_cell_type": "code"
   },
   "outputs": [
    {
     "name": "stdout",
     "text": "hello\n",
     "output_type": "stream"
    }
   ],
   "execution_count": null
  },
  {
   "cell_type": "code",
   "source": "x = \"not hello\"\ndef outer_func():\n    def inner_func():\n        def inner_inner_func():\n            print(x)\n        inner_inner_func()\n    inner_func()\nouter_func()",
   "metadata": {
    "tags": [],
    "cell_id": "00031-8f02e52b-d0e7-410a-a02d-22625059f463",
    "deepnote_to_be_reexecuted": false,
    "source_hash": "498cebf",
    "execution_start": 1624083574061,
    "execution_millis": 13,
    "deepnote_cell_type": "code"
   },
   "outputs": [
    {
     "name": "stdout",
     "text": "not hello\n",
     "output_type": "stream"
    }
   ],
   "execution_count": null
  },
  {
   "cell_type": "markdown",
   "source": "# Local > Enclosing.... > Global",
   "metadata": {
    "tags": [],
    "cell_id": "00032-73544565-fc38-4875-9a49-80ea56cd6357",
    "deepnote_cell_type": "markdown"
   }
  },
  {
   "cell_type": "code",
   "source": "def outer_func():\n    x = 'hello'\n    def inner_func():\n        x = 'not hello'\n    inner_func()\n    print(x)\nouter_func()",
   "metadata": {
    "tags": [],
    "cell_id": "00032-f34ce4b5-4263-4831-b0d2-e8fd51d4db31",
    "deepnote_to_be_reexecuted": false,
    "source_hash": "6e0d7851",
    "execution_start": 1624083665310,
    "execution_millis": 11,
    "deepnote_cell_type": "code"
   },
   "outputs": [
    {
     "name": "stdout",
     "text": "hello\n",
     "output_type": "stream"
    }
   ],
   "execution_count": null
  },
  {
   "cell_type": "code",
   "source": "g = 100\ndef func():\n    global g\n    g = 10000\n\nfunc()\nprint(g)",
   "metadata": {
    "tags": [],
    "cell_id": "00034-1636e372-ff84-4581-88fb-b75e5eded7b0",
    "deepnote_to_be_reexecuted": false,
    "source_hash": "a81ca423",
    "execution_start": 1624083760406,
    "execution_millis": 18,
    "deepnote_cell_type": "code"
   },
   "outputs": [
    {
     "name": "stdout",
     "text": "10000\n",
     "output_type": "stream"
    }
   ],
   "execution_count": null
  },
  {
   "cell_type": "code",
   "source": "def outer_func():\n    x = 'hello'\n    def inner_func():\n        nonlocal x\n        x = 'not hello'\n    inner_func()\n    print(x)\nouter_func()",
   "metadata": {
    "tags": [],
    "cell_id": "00034-fb61546a-e4b5-49c1-9fe3-26af7ec4f466",
    "deepnote_to_be_reexecuted": false,
    "source_hash": "1e087ac1",
    "execution_start": 1624083780230,
    "execution_millis": 11,
    "deepnote_cell_type": "code"
   },
   "outputs": [
    {
     "name": "stdout",
     "text": "not hello\n",
     "output_type": "stream"
    }
   ],
   "execution_count": null
  },
  {
   "cell_type": "code",
   "source": "def outer_func():\n    x = 'hello'\n    def inner_func():\n        x = 'not hello'\n    inner_func()\n    print(x)\nouter_func()",
   "metadata": {
    "tags": [],
    "cell_id": "00036-8019b261-a9cb-460a-9207-eb75647e6227",
    "deepnote_to_be_reexecuted": false,
    "source_hash": "6e0d7851",
    "execution_start": 1624084544905,
    "execution_millis": 11,
    "deepnote_cell_type": "code"
   },
   "outputs": [
    {
     "name": "stdout",
     "text": "hello\n",
     "output_type": "stream"
    }
   ],
   "execution_count": null
  },
  {
   "cell_type": "code",
   "source": "def outer():\n    x = 'hello'\n    def inner():\n        nonlocal x\n        x = 'python'\n    inner()\n    print(x)\n\nouter()",
   "metadata": {
    "tags": [],
    "cell_id": "00037-6514bdad-806b-47d1-a74e-485663cc35c9",
    "deepnote_to_be_reexecuted": false,
    "source_hash": "c97422f6",
    "execution_start": 1624084619005,
    "execution_millis": 9,
    "deepnote_cell_type": "code"
   },
   "outputs": [
    {
     "name": "stdout",
     "text": "python\n",
     "output_type": "stream"
    }
   ],
   "execution_count": null
  },
  {
   "cell_type": "code",
   "source": "def outer():\n    x = 'hello'\n    def inner():\n        nonlocal x\n        x = 'python'\n        print(x)\n    inner()\n    print(x)\n\nouter()",
   "metadata": {
    "tags": [],
    "cell_id": "00038-f8c07845-db7f-4679-a023-2bfe14a235ad",
    "deepnote_to_be_reexecuted": false,
    "source_hash": "d66a7802",
    "execution_start": 1624084640803,
    "execution_millis": 11,
    "deepnote_cell_type": "code"
   },
   "outputs": [
    {
     "name": "stdout",
     "text": "python\npython\n",
     "output_type": "stream"
    }
   ],
   "execution_count": null
  },
  {
   "cell_type": "code",
   "source": "def outer():\n    x = 'hello'\n    def inner():\n        print(x)\n        nonlocal x\n        x = 'python'\n    inner()\n    print(x)\n\nouter()",
   "metadata": {
    "tags": [],
    "cell_id": "00039-9f265ca9-49a7-4d00-a5ef-1679d10ab56c",
    "deepnote_to_be_reexecuted": false,
    "source_hash": "d7feedab",
    "execution_start": 1624084660163,
    "execution_millis": 16,
    "deepnote_cell_type": "code"
   },
   "outputs": [
    {
     "output_type": "error",
     "ename": "SyntaxError",
     "evalue": "name 'x' is used prior to nonlocal declaration (<ipython-input-44-55b53359f1f6>, line 5)",
     "traceback": [
      "\u001b[0;36m  File \u001b[0;32m\"<ipython-input-44-55b53359f1f6>\"\u001b[0;36m, line \u001b[0;32m5\u001b[0m\n\u001b[0;31m    nonlocal x\u001b[0m\n\u001b[0m    ^\u001b[0m\n\u001b[0;31mSyntaxError\u001b[0m\u001b[0;31m:\u001b[0m name 'x' is used prior to nonlocal declaration\n"
     ]
    }
   ],
   "execution_count": null
  },
  {
   "cell_type": "code",
   "source": "def outer():\n    x = 'hello'\n    def inner():\n        nonlocal x\n        x = 'python'\n    inner()\n    print(x)\n\nouter()",
   "metadata": {
    "tags": [],
    "cell_id": "00040-5742a171-0d54-45d7-8a91-103ce2e7c6c8",
    "deepnote_to_be_reexecuted": false,
    "source_hash": "c97422f6",
    "execution_start": 1624084921475,
    "execution_millis": 11,
    "deepnote_cell_type": "code"
   },
   "outputs": [
    {
     "name": "stdout",
     "text": "python\n",
     "output_type": "stream"
    }
   ],
   "execution_count": null
  },
  {
   "cell_type": "code",
   "source": "x = '😂'\ndef outer():\n    x = 'hello'\n\n    def inner1():\n        def inner2():\n            nonlocal x\n            x = 'python'\n        inner2()\n    inner1()\n    print(x)\n\nouter()",
   "metadata": {
    "tags": [],
    "cell_id": "00041-c5a77d81-71e2-46f0-8b36-2e7b07c5a301",
    "deepnote_to_be_reexecuted": false,
    "source_hash": "fba0dce8",
    "execution_start": 1624085003326,
    "execution_millis": 8,
    "deepnote_cell_type": "code"
   },
   "outputs": [
    {
     "name": "stdout",
     "text": "python\n",
     "output_type": "stream"
    }
   ],
   "execution_count": null
  },
  {
   "cell_type": "code",
   "source": "def outer():\n    x = 'hello'\n    def inner1():\n        x = 'python'\n        def inner2():\n            nonlocal x \n            x = 'monty'\n        print(f'before calling inner2 x = {x}')\n        inner2()\n        print(f'after calling inner2 x = {x}')\n    inner1()\n    print(f'after calling inner1 x = {x}')\n\nouter()\n",
   "metadata": {
    "tags": [],
    "cell_id": "00042-e8fa0885-aef6-4df7-81fd-aac8b0c0b339",
    "deepnote_to_be_reexecuted": false,
    "source_hash": "9b74136a",
    "execution_start": 1624085143245,
    "execution_millis": 17,
    "deepnote_cell_type": "code"
   },
   "outputs": [
    {
     "name": "stdout",
     "text": "before calling inner2 x = python\nafter calling inner2 x = monty\nafter calling inner1 x = hello\n",
     "output_type": "stream"
    }
   ],
   "execution_count": null
  },
  {
   "cell_type": "code",
   "source": "def outer():\n    def inner():\n        nonlocal y\n        y = 100\n    inner()\n    print(y)\nouter()",
   "metadata": {
    "tags": [],
    "cell_id": "00043-2079b153-a4f7-4819-94fe-f7120a74635a",
    "deepnote_to_be_reexecuted": false,
    "source_hash": "7213fa5d",
    "execution_start": 1624085314291,
    "execution_millis": 16,
    "deepnote_cell_type": "code"
   },
   "outputs": [
    {
     "output_type": "error",
     "ename": "SyntaxError",
     "evalue": "no binding for nonlocal 'y' found (<ipython-input-50-fd9246df75e2>, line 3)",
     "traceback": [
      "\u001b[0;36m  File \u001b[0;32m\"<ipython-input-50-fd9246df75e2>\"\u001b[0;36m, line \u001b[0;32m3\u001b[0m\n\u001b[0;31m    nonlocal y\u001b[0m\n\u001b[0m    ^\u001b[0m\n\u001b[0;31mSyntaxError\u001b[0m\u001b[0;31m:\u001b[0m no binding for nonlocal 'y' found\n"
     ]
    }
   ],
   "execution_count": null
  },
  {
   "cell_type": "code",
   "source": "def somefun():\n    global apple\n    apple = 100\nsomefun()\n\nprint(apple)",
   "metadata": {
    "tags": [],
    "cell_id": "00044-cd8fea92-632d-45f0-bfaa-f9a498d90354",
    "deepnote_to_be_reexecuted": false,
    "source_hash": "8f12c76e",
    "execution_start": 1624085341988,
    "execution_millis": 10,
    "deepnote_cell_type": "code"
   },
   "outputs": [
    {
     "name": "stdout",
     "text": "100\n",
     "output_type": "stream"
    }
   ],
   "execution_count": null
  },
  {
   "cell_type": "code",
   "source": "def outer():\n    x = 'hello'\n    def inner1():\n        nonlocal x\n        x = 'python'\n        def inner2():\n            nonlocal x \n            x = 'monty'\n        print(f'before calling inner2 x = {x}')\n        inner2()\n        print(f'after calling inner2 x = {x}')\n    inner1()\n    print(f'after calling inner1 x = {x}')\n\nouter()",
   "metadata": {
    "tags": [],
    "cell_id": "00045-4d95d79a-4d93-42f2-aedc-eb07949bf202",
    "deepnote_to_be_reexecuted": false,
    "source_hash": "1052a9e5",
    "execution_start": 1624085664932,
    "execution_millis": 14,
    "deepnote_cell_type": "code"
   },
   "outputs": [
    {
     "name": "stdout",
     "text": "before calling inner2 x = python\nafter calling inner2 x = monty\nafter calling inner1 x = monty\n",
     "output_type": "stream"
    }
   ],
   "execution_count": null
  },
  {
   "cell_type": "code",
   "source": "def outer():\n    x = 'hello'\n    def inner1():\n        nonlocal x\n        x = 'python'\n        def inner2():\n            nonlocal x \n            x = 'monty'\n        print(f'before calling inner2 x = {x}') # python\n        inner2()\n        print(f'after calling inner2 x = {x}') # monty\n    inner1()\n    print(f'after calling inner1 x = {x}') # monty\n\nouter()",
   "metadata": {
    "tags": [],
    "cell_id": "00046-d2cd1515-9c0a-4940-a786-bcab8ca77f91",
    "deepnote_cell_type": "code"
   },
   "outputs": [],
   "execution_count": null
  },
  {
   "cell_type": "code",
   "source": "x = 100\ndef outer():\n    global x\n    x = 'python'\n    def inner():\n        nonlocal x\n        x = 'monty'\n    inner()\nouter()",
   "metadata": {
    "tags": [],
    "cell_id": "00047-f3657abe-c07a-4b26-b28e-dd13cf7f8bc3",
    "deepnote_to_be_reexecuted": false,
    "source_hash": "c19ee923",
    "execution_start": 1624085824871,
    "execution_millis": 9,
    "deepnote_cell_type": "code"
   },
   "outputs": [
    {
     "output_type": "error",
     "ename": "SyntaxError",
     "evalue": "no binding for nonlocal 'x' found (<ipython-input-53-455c3a904ed4>, line 6)",
     "traceback": [
      "\u001b[0;36m  File \u001b[0;32m\"<ipython-input-53-455c3a904ed4>\"\u001b[0;36m, line \u001b[0;32m6\u001b[0m\n\u001b[0;31m    nonlocal x\u001b[0m\n\u001b[0m    ^\u001b[0m\n\u001b[0;31mSyntaxError\u001b[0m\u001b[0;31m:\u001b[0m no binding for nonlocal 'x' found\n"
     ]
    }
   ],
   "execution_count": null
  },
  {
   "cell_type": "markdown",
   "source": "# Closures",
   "metadata": {
    "tags": [],
    "cell_id": "00048-4f780331-dd8d-4599-98e1-f39e81138f1f",
    "deepnote_cell_type": "text-cell-h1"
   }
  },
  {
   "cell_type": "code",
   "source": "def outer():\n    x = 'python'\n    def inner():\n        print(x)\n    inner()\n\nouter()",
   "metadata": {
    "tags": [],
    "cell_id": "00048-fc4e5f7f-bf1c-410e-a9d5-8bdfacda61f5",
    "deepnote_to_be_reexecuted": false,
    "source_hash": "b5323ac1",
    "execution_start": 1624085890590,
    "execution_millis": 15,
    "deepnote_cell_type": "code"
   },
   "outputs": [
    {
     "name": "stdout",
     "text": "python\n",
     "output_type": "stream"
    }
   ],
   "execution_count": null
  },
  {
   "cell_type": "code",
   "source": "def outer():\n    x = 'python'\n    def inner():\n        print(x)\n    return inner\n\nouter()()",
   "metadata": {
    "tags": [],
    "cell_id": "00050-0401f499-5a58-4873-ad8d-16b5222ce6ed",
    "deepnote_to_be_reexecuted": false,
    "source_hash": "3b9bbd86",
    "execution_start": 1624085926944,
    "execution_millis": 13,
    "deepnote_cell_type": "code"
   },
   "outputs": [
    {
     "name": "stdout",
     "text": "python\n",
     "output_type": "stream"
    }
   ],
   "execution_count": null
  },
  {
   "cell_type": "code",
   "source": "def outer():\n    x = 'python'\n    def inner1():\n        print(x)\n    return inner1\n\nfn = outer()\nprint(fn)",
   "metadata": {
    "tags": [],
    "cell_id": "00051-2486021f-f3a2-496d-8697-28803136307c",
    "deepnote_to_be_reexecuted": false,
    "source_hash": "f8220b43",
    "execution_start": 1624086135709,
    "execution_millis": 19,
    "deepnote_cell_type": "code"
   },
   "outputs": [
    {
     "name": "stdout",
     "text": "<function outer.<locals>.inner1 at 0x7f890e25f8b0>\n",
     "output_type": "stream"
    }
   ],
   "execution_count": null
  },
  {
   "cell_type": "code",
   "source": "fn()",
   "metadata": {
    "tags": [],
    "cell_id": "00052-e4f2d379-1da6-4a1c-a573-d791c1afa915",
    "deepnote_to_be_reexecuted": false,
    "source_hash": "157e0e01",
    "execution_start": 1624086138767,
    "execution_millis": 13,
    "deepnote_cell_type": "code"
   },
   "outputs": [
    {
     "name": "stdout",
     "text": "python\n",
     "output_type": "stream"
    }
   ],
   "execution_count": null
  },
  {
   "cell_type": "code",
   "source": "fn.__code__.co_freevars",
   "metadata": {
    "tags": [],
    "cell_id": "00053-a195bdb6-b57a-48d9-af9b-0a323cc3f50c",
    "deepnote_to_be_reexecuted": false,
    "source_hash": "f1c5e27a",
    "execution_start": 1624086183028,
    "execution_millis": 15,
    "deepnote_cell_type": "code"
   },
   "outputs": [
    {
     "output_type": "execute_result",
     "execution_count": 64,
     "data": {
      "text/plain": "('x',)"
     },
     "metadata": {}
    }
   ],
   "execution_count": null
  },
  {
   "cell_type": "code",
   "source": "fn.__closure__",
   "metadata": {
    "tags": [],
    "cell_id": "00054-f099a74e-2ca1-403b-8be4-add7e00df1bb",
    "deepnote_to_be_reexecuted": false,
    "source_hash": "26d91c0b",
    "execution_start": 1624086189295,
    "execution_millis": 21,
    "deepnote_cell_type": "code"
   },
   "outputs": [
    {
     "output_type": "execute_result",
     "execution_count": 65,
     "data": {
      "text/plain": "(<cell at 0x7f890e433e80: str object at 0x7f8941a8cab0>,)"
     },
     "metadata": {}
    }
   ],
   "execution_count": null
  },
  {
   "cell_type": "code",
   "source": "def outer():\n    x = 'python'\n    print(hex(id(x)))\n    def inner1():\n        print(x)\n    return inner1\n\nfn = outer()\nfn()\nfn.__closure__",
   "metadata": {
    "tags": [],
    "cell_id": "00055-3a53ae60-5cfa-4d5b-9dc7-a85723cde82c",
    "deepnote_to_be_reexecuted": false,
    "source_hash": "193f499b",
    "execution_start": 1624086252731,
    "execution_millis": 8,
    "deepnote_cell_type": "code"
   },
   "outputs": [
    {
     "name": "stdout",
     "text": "0x7f8941a8cab0\npython\n",
     "output_type": "stream"
    },
    {
     "output_type": "execute_result",
     "execution_count": 71,
     "data": {
      "text/plain": "(<cell at 0x7f890e43fee0: str object at 0x7f8941a8cab0>,)"
     },
     "metadata": {}
    }
   ],
   "execution_count": null
  },
  {
   "cell_type": "code",
   "source": "def outer():\n    x = [1, 2, 3]\n    print(f'outer: {x} {hex(id(x))}')\n    def inner():\n        print(f'inner: {x} {hex(id(x))}')\n        print(x)\n    return inner\n\nfn = outer()",
   "metadata": {
    "tags": [],
    "cell_id": "00056-2144c9c4-e7d9-4c22-91c2-26f5c4a37786",
    "deepnote_to_be_reexecuted": false,
    "source_hash": "734814eb",
    "execution_start": 1624086379798,
    "execution_millis": 21,
    "deepnote_cell_type": "code"
   },
   "outputs": [
    {
     "name": "stdout",
     "text": "outer: [1, 2, 3] 0x7f890e7ebf80\n",
     "output_type": "stream"
    }
   ],
   "execution_count": null
  },
  {
   "cell_type": "code",
   "source": "fn.__closure__",
   "metadata": {
    "tags": [],
    "cell_id": "00057-6ecb64e6-d33f-4dd5-8a67-8e0e5b4aa629",
    "deepnote_to_be_reexecuted": false,
    "source_hash": "26d91c0b",
    "execution_start": 1624086394357,
    "execution_millis": 18,
    "deepnote_cell_type": "code"
   },
   "outputs": [
    {
     "output_type": "execute_result",
     "execution_count": 73,
     "data": {
      "text/plain": "(<cell at 0x7f890fc8bee0: list object at 0x7f890e7ebf80>,)"
     },
     "metadata": {}
    }
   ],
   "execution_count": null
  },
  {
   "cell_type": "code",
   "source": "fn()",
   "metadata": {
    "tags": [],
    "cell_id": "00058-1066c8e0-f2ba-49f5-b8db-85e606461ab4",
    "deepnote_to_be_reexecuted": false,
    "source_hash": "157e0e01",
    "execution_start": 1624086408244,
    "execution_millis": 15,
    "deepnote_cell_type": "code"
   },
   "outputs": [
    {
     "name": "stdout",
     "text": "inner: [1, 2, 3] 0x7f890e7ebf80\n[1, 2, 3]\n",
     "output_type": "stream"
    }
   ],
   "execution_count": null
  },
  {
   "cell_type": "code",
   "source": "def counter():\n    count = 0\n    def inc():\n        nonlocal count\n        count+= 1\n        return count\n    return inc\nfn = counter()\nfn()",
   "metadata": {
    "tags": [],
    "cell_id": "00059-2b986c34-952f-4955-ae51-87e1a5b37940",
    "deepnote_to_be_reexecuted": false,
    "source_hash": "93c57c39",
    "execution_start": 1624086524559,
    "execution_millis": 8,
    "deepnote_cell_type": "code"
   },
   "outputs": [
    {
     "output_type": "execute_result",
     "execution_count": 80,
     "data": {
      "text/plain": "1"
     },
     "metadata": {}
    }
   ],
   "execution_count": null
  },
  {
   "cell_type": "code",
   "source": "fn(), fn(), fn(),fn(), fn(), fn(), fn(), fn(), fn(), fn(), fn(), fn()",
   "metadata": {
    "tags": [],
    "cell_id": "00060-4dbba824-44e2-410a-b0dc-d7fccde4d25e",
    "deepnote_to_be_reexecuted": false,
    "source_hash": "a699845f",
    "execution_start": 1624086541074,
    "execution_millis": 15,
    "deepnote_cell_type": "code"
   },
   "outputs": [
    {
     "output_type": "execute_result",
     "execution_count": 82,
     "data": {
      "text/plain": "(3, 4, 5, 6, 7, 8, 9, 10, 11, 12, 13, 14)"
     },
     "metadata": {}
    }
   ],
   "execution_count": null
  },
  {
   "cell_type": "code",
   "source": "def outer():\n    count = 0\n    def inc_by_1():\n        nonlocal count\n        count+=1\n        return count\n\n    def inc_by_10():\n        nonlocal count\n        count+=10\n        return count\n    return inc_by_1, inc_by_10\n\nfn1, fn2 = outer()",
   "metadata": {
    "tags": [],
    "cell_id": "00061-4eebc8b6-001a-47e1-8152-ce36be00a715",
    "deepnote_to_be_reexecuted": false,
    "source_hash": "2813554",
    "execution_start": 1624086836019,
    "execution_millis": 3,
    "deepnote_cell_type": "code"
   },
   "outputs": [],
   "execution_count": null
  },
  {
   "cell_type": "code",
   "source": "fn1.__code__.co_freevars, fn2.__code__.co_freevars",
   "metadata": {
    "tags": [],
    "cell_id": "00062-cfe23a51-4854-428d-b91f-5cc20bec667a",
    "deepnote_to_be_reexecuted": false,
    "source_hash": "c23da0b6",
    "execution_start": 1624086872268,
    "execution_millis": 13,
    "deepnote_cell_type": "code"
   },
   "outputs": [
    {
     "output_type": "execute_result",
     "execution_count": 89,
     "data": {
      "text/plain": "(('count',), ('count',))"
     },
     "metadata": {}
    }
   ],
   "execution_count": null
  },
  {
   "cell_type": "code",
   "source": "fn1()",
   "metadata": {
    "tags": [],
    "cell_id": "00063-a3087b44-5b2c-43b3-b560-982301bfcbe1",
    "deepnote_to_be_reexecuted": false,
    "source_hash": "54e0e44a",
    "execution_start": 1624086881026,
    "execution_millis": 9,
    "deepnote_cell_type": "code"
   },
   "outputs": [
    {
     "output_type": "execute_result",
     "execution_count": 90,
     "data": {
      "text/plain": "1"
     },
     "metadata": {}
    }
   ],
   "execution_count": null
  },
  {
   "cell_type": "code",
   "source": "fn1()",
   "metadata": {
    "tags": [],
    "cell_id": "00064-823cccc5-48c4-49d6-963f-7157dd608199",
    "deepnote_to_be_reexecuted": false,
    "source_hash": "54e0e44a",
    "execution_start": 1624086886132,
    "execution_millis": 9,
    "deepnote_cell_type": "code"
   },
   "outputs": [
    {
     "output_type": "execute_result",
     "execution_count": 91,
     "data": {
      "text/plain": "2"
     },
     "metadata": {}
    }
   ],
   "execution_count": null
  },
  {
   "cell_type": "code",
   "source": "fn2()",
   "metadata": {
    "tags": [],
    "cell_id": "00065-50ca9f8c-98ba-4e1a-bccd-c6a3cbb82496",
    "deepnote_to_be_reexecuted": false,
    "source_hash": "a147bf85",
    "execution_start": 1624086895479,
    "execution_millis": 12,
    "deepnote_cell_type": "code"
   },
   "outputs": [
    {
     "output_type": "execute_result",
     "execution_count": 92,
     "data": {
      "text/plain": "12"
     },
     "metadata": {}
    }
   ],
   "execution_count": null
  },
  {
   "cell_type": "code",
   "source": "from time import perf_counter\n\ndef func():\n    x = perf_counter()\n    print(x, id(x))\n\nfunc()    ",
   "metadata": {
    "tags": [],
    "cell_id": "00066-aa759274-8ce1-4a72-9396-940c543b91ca",
    "deepnote_to_be_reexecuted": false,
    "source_hash": "e82da195",
    "execution_start": 1624086963395,
    "execution_millis": 0,
    "deepnote_cell_type": "code"
   },
   "outputs": [
    {
     "name": "stdout",
     "text": "15426.246202875 140226627433008\n",
     "output_type": "stream"
    }
   ],
   "execution_count": null
  },
  {
   "cell_type": "code",
   "source": "func(), func()\n",
   "metadata": {
    "tags": [],
    "cell_id": "00067-895724cf-729c-49bf-af0b-d7bca9d22328",
    "deepnote_to_be_reexecuted": false,
    "source_hash": "9ad5b25",
    "execution_start": 1624086983448,
    "execution_millis": 15,
    "deepnote_cell_type": "code"
   },
   "outputs": [
    {
     "name": "stdout",
     "text": "15446.304458273 140226627433008\n15446.304540527 140226627433008\n",
     "output_type": "stream"
    },
    {
     "output_type": "execute_result",
     "execution_count": 95,
     "data": {
      "text/plain": "(None, None)"
     },
     "metadata": {}
    }
   ],
   "execution_count": null
  },
  {
   "cell_type": "code",
   "source": "def pow(n):\n    # n is local to pow\n    def inner(x):\n        # x is local to pow\n        # n is nonlocal to inner\n        nonlocal n\n        return x ** n\n    return inner\n",
   "metadata": {
    "tags": [],
    "cell_id": "00068-9bd7a7da-fc1e-4507-8f9e-cfeeb617e14f",
    "deepnote_to_be_reexecuted": false,
    "source_hash": "caa497b0",
    "execution_start": 1624087153371,
    "execution_millis": 1,
    "deepnote_cell_type": "code"
   },
   "outputs": [],
   "execution_count": null
  },
  {
   "cell_type": "code",
   "source": "sq = pow(2)\nsq(25)",
   "metadata": {
    "tags": [],
    "cell_id": "00069-978204dc-f618-4225-9188-661a54b7a696",
    "deepnote_to_be_reexecuted": false,
    "source_hash": "29573f76",
    "execution_start": 1624087208328,
    "execution_millis": 13,
    "deepnote_cell_type": "code"
   },
   "outputs": [
    {
     "output_type": "execute_result",
     "execution_count": 100,
     "data": {
      "text/plain": "625"
     },
     "metadata": {}
    }
   ],
   "execution_count": null
  },
  {
   "cell_type": "code",
   "source": "cu = pow(3)\ncu(25)",
   "metadata": {
    "tags": [],
    "cell_id": "00070-b796b00d-3d8c-4332-8de7-3a2753682ca0",
    "deepnote_to_be_reexecuted": false,
    "source_hash": "7d02308d",
    "execution_start": 1624087218640,
    "execution_millis": 19,
    "deepnote_cell_type": "code"
   },
   "outputs": [
    {
     "output_type": "execute_result",
     "execution_count": 101,
     "data": {
      "text/plain": "15625"
     },
     "metadata": {}
    }
   ],
   "execution_count": null
  },
  {
   "cell_type": "code",
   "source": "class Averager:\n    def __init__(self):\n        self.numbers = []\n    \n    def add(self, number):\n        self.numbers.append(number)\n        total = sum(self.numbers)\n        count = len(self.numbers)\n        return total/count\n\na = Averager()\na.add(10)\na.add(20)\na.add(30)\n",
   "metadata": {
    "tags": [],
    "cell_id": "00071-b4db3f05-376a-4d49-88e7-dfee9897f8fc",
    "deepnote_to_be_reexecuted": false,
    "source_hash": "92ce6b28",
    "execution_start": 1624087364967,
    "execution_millis": 9,
    "deepnote_cell_type": "code"
   },
   "outputs": [
    {
     "output_type": "execute_result",
     "execution_count": 102,
     "data": {
      "text/plain": "20.0"
     },
     "metadata": {}
    }
   ],
   "execution_count": null
  },
  {
   "cell_type": "code",
   "source": "a.add(30)",
   "metadata": {
    "tags": [],
    "cell_id": "00072-3b3baba7-65ef-4bdf-8c68-b5aeca2091c6",
    "deepnote_to_be_reexecuted": false,
    "source_hash": "52f11866",
    "execution_start": 1624087384228,
    "execution_millis": 15,
    "deepnote_cell_type": "code"
   },
   "outputs": [
    {
     "output_type": "execute_result",
     "execution_count": 103,
     "data": {
      "text/plain": "22.5"
     },
     "metadata": {}
    }
   ],
   "execution_count": null
  },
  {
   "cell_type": "code",
   "source": "def averager():\n    numbers = []\n    def add(number):\n        nonlocal numbers\n        numbers.append(number)\n        total = sum(numbers)\n        count = len(numbers)\n        return total/count\n    return add\n\na = averager()\na(10)\na(20)\na(30)",
   "metadata": {
    "tags": [],
    "cell_id": "00073-49f2388a-e505-4644-9558-3dd4fb4d841d",
    "deepnote_to_be_reexecuted": false,
    "source_hash": "aa186a04",
    "execution_start": 1624087473338,
    "execution_millis": 16,
    "deepnote_cell_type": "code"
   },
   "outputs": [
    {
     "output_type": "execute_result",
     "execution_count": 104,
     "data": {
      "text/plain": "20.0"
     },
     "metadata": {}
    }
   ],
   "execution_count": null
  },
  {
   "cell_type": "code",
   "source": "avg = Averager()\ndir(avg)",
   "metadata": {
    "tags": [],
    "cell_id": "00074-c255ad04-4f06-4ce1-9169-5e3a5dc10337",
    "deepnote_to_be_reexecuted": false,
    "source_hash": "402cb356",
    "execution_start": 1624087565382,
    "execution_millis": 20,
    "deepnote_cell_type": "code"
   },
   "outputs": [
    {
     "output_type": "execute_result",
     "execution_count": 105,
     "data": {
      "text/plain": "['__class__',\n '__delattr__',\n '__dict__',\n '__dir__',\n '__doc__',\n '__eq__',\n '__format__',\n '__ge__',\n '__getattribute__',\n '__gt__',\n '__hash__',\n '__init__',\n '__init_subclass__',\n '__le__',\n '__lt__',\n '__module__',\n '__ne__',\n '__new__',\n '__reduce__',\n '__reduce_ex__',\n '__repr__',\n '__setattr__',\n '__sizeof__',\n '__str__',\n '__subclasshook__',\n '__weakref__',\n 'add',\n 'numbers']"
     },
     "metadata": {}
    }
   ],
   "execution_count": null
  },
  {
   "cell_type": "code",
   "source": "from time import perf_counter\n\ndef timer():\n    start = perf_counter()\n    def elapsed():\n        return perf_counter() - start\n    return elapsed\n\nx = timer()\nx()",
   "metadata": {
    "tags": [],
    "cell_id": "00075-6ff09caf-33ec-47bd-ba34-dc18ac41151b",
    "deepnote_to_be_reexecuted": false,
    "source_hash": "cb66026c",
    "execution_start": 1624087649532,
    "execution_millis": 27,
    "deepnote_cell_type": "code"
   },
   "outputs": [
    {
     "output_type": "execute_result",
     "execution_count": 106,
     "data": {
      "text/plain": "2.4046999897109345e-05"
     },
     "metadata": {}
    }
   ],
   "execution_count": null
  },
  {
   "cell_type": "code",
   "source": "x()",
   "metadata": {
    "tags": [],
    "cell_id": "00076-9b94f2ad-f554-4237-b356-6955948663d8",
    "deepnote_to_be_reexecuted": false,
    "source_hash": "295dd8b4",
    "execution_start": 1624087655306,
    "execution_millis": 14,
    "deepnote_cell_type": "code"
   },
   "outputs": [
    {
     "output_type": "execute_result",
     "execution_count": 107,
     "data": {
      "text/plain": "5.772584955000639"
     },
     "metadata": {}
    }
   ],
   "execution_count": null
  },
  {
   "cell_type": "code",
   "source": "x()",
   "metadata": {
    "tags": [],
    "cell_id": "00077-acac984b-57b6-41c4-ab00-b2135e48b187",
    "deepnote_to_be_reexecuted": false,
    "source_hash": "295dd8b4",
    "execution_start": 1624087661947,
    "execution_millis": 26,
    "deepnote_cell_type": "code"
   },
   "outputs": [
    {
     "output_type": "execute_result",
     "execution_count": 108,
     "data": {
      "text/plain": "12.416800131000855"
     },
     "metadata": {}
    }
   ],
   "execution_count": null
  },
  {
   "cell_type": "code",
   "source": "def counter(fn):\n    cnt = 0\n    def inner(*args, **kwargs):\n        nonlocal cnt \n        cnt += 1\n        print(f'{fn.__name__} has been called {cnt} times')\n        return fn(*args, **kwargs)\n    return inner\n\ndef add(a, b):\n    return a + b\n\ndef mul(a, b):\n    return a*b",
   "metadata": {
    "tags": [],
    "cell_id": "00078-5b462326-cb82-401a-9494-bb3b3af2ef5e",
    "deepnote_to_be_reexecuted": false,
    "source_hash": "a6258f4",
    "execution_start": 1624087811026,
    "execution_millis": 0,
    "deepnote_cell_type": "code"
   },
   "outputs": [],
   "execution_count": null
  },
  {
   "cell_type": "code",
   "source": "c_add = counter(add)\nc_mul = counter(mul)",
   "metadata": {
    "tags": [],
    "cell_id": "00079-dc0907db-bea2-4950-810d-720f893ac59f",
    "deepnote_to_be_reexecuted": false,
    "source_hash": "c0d1f17b",
    "execution_start": 1624087851982,
    "execution_millis": 0,
    "deepnote_cell_type": "code"
   },
   "outputs": [],
   "execution_count": null
  },
  {
   "cell_type": "code",
   "source": "c_add(1, 2)",
   "metadata": {
    "tags": [],
    "cell_id": "00080-89eb2d21-5a42-4991-a99f-b54376e962ee",
    "deepnote_to_be_reexecuted": false,
    "source_hash": "4697b851",
    "execution_start": 1624087859694,
    "execution_millis": 22,
    "deepnote_cell_type": "code"
   },
   "outputs": [
    {
     "name": "stdout",
     "text": "add has been called 1 times\n",
     "output_type": "stream"
    },
    {
     "output_type": "execute_result",
     "execution_count": 113,
     "data": {
      "text/plain": "3"
     },
     "metadata": {}
    }
   ],
   "execution_count": null
  },
  {
   "cell_type": "code",
   "source": "c_add(1, 2)",
   "metadata": {
    "tags": [],
    "cell_id": "00081-90ad63c7-3325-4d79-ace4-16161550fa30",
    "deepnote_to_be_reexecuted": false,
    "source_hash": "4697b851",
    "execution_start": 1624087864003,
    "execution_millis": 23,
    "deepnote_cell_type": "code"
   },
   "outputs": [
    {
     "name": "stdout",
     "text": "add has been called 2 times\n",
     "output_type": "stream"
    },
    {
     "output_type": "execute_result",
     "execution_count": 114,
     "data": {
      "text/plain": "3"
     },
     "metadata": {}
    }
   ],
   "execution_count": null
  },
  {
   "cell_type": "code",
   "source": "c_add(1, 2)",
   "metadata": {
    "tags": [],
    "cell_id": "00082-32b4ec81-754c-414e-bc00-2a76ef55b3dd",
    "deepnote_to_be_reexecuted": false,
    "source_hash": "4697b851",
    "execution_start": 1624087867591,
    "execution_millis": 21,
    "deepnote_cell_type": "code"
   },
   "outputs": [
    {
     "name": "stdout",
     "text": "add has been called 3 times\n",
     "output_type": "stream"
    },
    {
     "output_type": "execute_result",
     "execution_count": 115,
     "data": {
      "text/plain": "3"
     },
     "metadata": {}
    }
   ],
   "execution_count": null
  },
  {
   "cell_type": "code",
   "source": "c_mul(3, 4)",
   "metadata": {
    "tags": [],
    "cell_id": "00083-cc619bf7-f9a4-46d9-96af-65f5a5a2063e",
    "deepnote_to_be_reexecuted": false,
    "source_hash": "f973db34",
    "execution_start": 1624087888602,
    "execution_millis": 16,
    "deepnote_cell_type": "code"
   },
   "outputs": [
    {
     "name": "stdout",
     "text": "mul has been called 1 times\n",
     "output_type": "stream"
    },
    {
     "output_type": "execute_result",
     "execution_count": 116,
     "data": {
      "text/plain": "12"
     },
     "metadata": {}
    }
   ],
   "execution_count": null
  },
  {
   "cell_type": "code",
   "source": "c_mul(3, 4)",
   "metadata": {
    "tags": [],
    "cell_id": "00084-6319f7dc-76a8-4d9c-9d0d-f49c4df7b1d7",
    "deepnote_to_be_reexecuted": false,
    "source_hash": "f973db34",
    "execution_start": 1624087901625,
    "execution_millis": 77,
    "deepnote_cell_type": "code"
   },
   "outputs": [
    {
     "name": "stdout",
     "text": "mul has been called 2 times\n",
     "output_type": "stream"
    },
    {
     "output_type": "execute_result",
     "execution_count": 118,
     "data": {
      "text/plain": "12"
     },
     "metadata": {}
    }
   ],
   "execution_count": null
  },
  {
   "cell_type": "code",
   "source": "c_mul(3, 4)",
   "metadata": {
    "tags": [],
    "cell_id": "00085-6f308fc4-832f-4f1d-a4d6-aa873bab7fb9",
    "deepnote_to_be_reexecuted": false,
    "source_hash": "f973db34",
    "execution_start": 1624087904245,
    "execution_millis": 21,
    "deepnote_cell_type": "code"
   },
   "outputs": [
    {
     "name": "stdout",
     "text": "mul has been called 3 times\n",
     "output_type": "stream"
    },
    {
     "output_type": "execute_result",
     "execution_count": 119,
     "data": {
      "text/plain": "12"
     },
     "metadata": {}
    }
   ],
   "execution_count": null
  },
  {
   "cell_type": "code",
   "source": "add = counter(add)\nmul = counter(mul)",
   "metadata": {
    "tags": [],
    "cell_id": "00086-4e3303a3-9188-4bbf-8955-c3fef264aa52",
    "deepnote_to_be_reexecuted": false,
    "source_hash": "c15409cc",
    "execution_start": 1624087921810,
    "execution_millis": 4,
    "deepnote_cell_type": "code"
   },
   "outputs": [],
   "execution_count": null
  },
  {
   "cell_type": "code",
   "source": "add(1, 2)",
   "metadata": {
    "tags": [],
    "cell_id": "00087-73208a76-563c-430e-9a4a-8a5f18c7f1ba",
    "deepnote_to_be_reexecuted": false,
    "source_hash": "af19736c",
    "execution_start": 1624087930825,
    "execution_millis": 13,
    "deepnote_cell_type": "code"
   },
   "outputs": [
    {
     "name": "stdout",
     "text": "add has been called 1 times\n",
     "output_type": "stream"
    },
    {
     "output_type": "execute_result",
     "execution_count": 121,
     "data": {
      "text/plain": "3"
     },
     "metadata": {}
    }
   ],
   "execution_count": null
  },
  {
   "cell_type": "code",
   "source": "def counterlog(fn):\n    cnt = 0\n    def inner(*args, **kwargs):\n        nonlocal cnt \n        cnt += 1\n        print(f'{fn.__name__} was called at {perf_counter()}')\n        return fn(*args, **kwargs)\n    return inner\n\nadd = counterlog(add)\nmul = counterlog(mul)\n\nadd(1, 2)\nmul(3, 4)",
   "metadata": {
    "tags": [],
    "cell_id": "00088-c09f138b-f225-4727-bb3b-595be82a8e69",
    "deepnote_to_be_reexecuted": false,
    "source_hash": "3fa0897c",
    "execution_start": 1624088006666,
    "execution_millis": 20,
    "deepnote_cell_type": "code"
   },
   "outputs": [
    {
     "name": "stdout",
     "text": "inner was called at 16469.522710646\ninner was called at 16469.522945815\nadd has been called 3 times\ninner was called at 16469.523070861\ninner was called at 16469.523099442\nmul has been called 1 times\n",
     "output_type": "stream"
    },
    {
     "output_type": "execute_result",
     "execution_count": 123,
     "data": {
      "text/plain": "12"
     },
     "metadata": {}
    }
   ],
   "execution_count": null
  },
  {
   "cell_type": "code",
   "source": "add(1, 2)\nmul(3, 4)",
   "metadata": {
    "tags": [],
    "cell_id": "00089-f498c8cd-5807-4915-a38e-fb9bd322c68e",
    "deepnote_to_be_reexecuted": false,
    "source_hash": "fd227b60",
    "execution_start": 1624088012566,
    "execution_millis": 22,
    "deepnote_cell_type": "code"
   },
   "outputs": [
    {
     "name": "stdout",
     "text": "inner was called at 16475.420375899\ninner was called at 16475.420436618\nadd has been called 4 times\ninner was called at 16475.420523525\ninner was called at 16475.420550489\nmul has been called 2 times\n",
     "output_type": "stream"
    },
    {
     "output_type": "execute_result",
     "execution_count": 124,
     "data": {
      "text/plain": "12"
     },
     "metadata": {}
    }
   ],
   "execution_count": null
  },
  {
   "cell_type": "code",
   "source": "add(1, 2)\nmul(3, 4)",
   "metadata": {
    "tags": [],
    "cell_id": "00090-bf3775fa-a318-48f6-8653-efea594f352a",
    "deepnote_to_be_reexecuted": false,
    "source_hash": "fd227b60",
    "execution_start": 1624088015777,
    "execution_millis": 23,
    "deepnote_cell_type": "code"
   },
   "outputs": [
    {
     "name": "stdout",
     "text": "inner was called at 16478.632292805\ninner was called at 16478.632352275\nadd has been called 5 times\ninner was called at 16478.63243846\ninner was called at 16478.632466041\nmul has been called 3 times\n",
     "output_type": "stream"
    },
    {
     "output_type": "execute_result",
     "execution_count": 125,
     "data": {
      "text/plain": "12"
     },
     "metadata": {}
    }
   ],
   "execution_count": null
  },
  {
   "cell_type": "code",
   "source": "counters = dict()\n\ndef counter(fn):\n    cnt = 0  # initially fn has been run zero times\n    \n    def inner(*args, **kwargs):\n        nonlocal cnt\n        cnt = cnt + 1\n        counters[fn.__name__] = cnt  # counters is global\n        return fn(*args, **kwargs)\n    \n    return inner",
   "metadata": {
    "tags": [],
    "cell_id": "00091-f5052029-d067-4362-9f2a-5075a0687cef",
    "deepnote_to_be_reexecuted": false,
    "source_hash": "e2eb0205",
    "execution_start": 1624088104332,
    "execution_millis": 0,
    "deepnote_cell_type": "code"
   },
   "outputs": [],
   "execution_count": null
  },
  {
   "cell_type": "code",
   "source": "add = counter(add)\nmul = counter(mul)",
   "metadata": {
    "tags": [],
    "cell_id": "00092-bedd1e54-a092-4d59-91d2-45f9ae1e3c1b",
    "deepnote_to_be_reexecuted": false,
    "source_hash": "c15409cc",
    "execution_start": 1624088131540,
    "execution_millis": 1,
    "deepnote_cell_type": "code"
   },
   "outputs": [],
   "execution_count": null
  },
  {
   "cell_type": "code",
   "source": "add(3, 4)",
   "metadata": {
    "tags": [],
    "cell_id": "00093-28c00588-f6ec-43f7-968f-60a9d28824db",
    "deepnote_to_be_reexecuted": false,
    "source_hash": "e914c6af",
    "execution_start": 1624088139904,
    "execution_millis": 20,
    "deepnote_cell_type": "code"
   },
   "outputs": [
    {
     "name": "stdout",
     "text": "inner was called at 16602.757964194\ninner was called at 16602.760859858\nadd has been called 7 times\n",
     "output_type": "stream"
    },
    {
     "output_type": "execute_result",
     "execution_count": 130,
     "data": {
      "text/plain": "7"
     },
     "metadata": {}
    }
   ],
   "execution_count": null
  },
  {
   "cell_type": "code",
   "source": "mul(4, 5)",
   "metadata": {
    "tags": [],
    "cell_id": "00094-a48b1fb1-a07d-49dd-9986-78cf44e41e3c",
    "deepnote_to_be_reexecuted": false,
    "source_hash": "d58d3f72",
    "execution_start": 1624088155951,
    "execution_millis": 18,
    "deepnote_cell_type": "code"
   },
   "outputs": [
    {
     "name": "stdout",
     "text": "inner was called at 16618.807684191\ninner was called at 16618.807748153\nmul has been called 4 times\n",
     "output_type": "stream"
    },
    {
     "output_type": "execute_result",
     "execution_count": 131,
     "data": {
      "text/plain": "20"
     },
     "metadata": {}
    }
   ],
   "execution_count": null
  },
  {
   "cell_type": "code",
   "source": "print(counters)",
   "metadata": {
    "tags": [],
    "cell_id": "00095-6adcb40b-26cb-4632-a192-4c796b8378f4",
    "deepnote_to_be_reexecuted": false,
    "source_hash": "a8e085dd",
    "execution_start": 1624088168464,
    "execution_millis": 14,
    "deepnote_cell_type": "code"
   },
   "outputs": [
    {
     "name": "stdout",
     "text": "{'inner': 1}\n",
     "output_type": "stream"
    }
   ],
   "execution_count": null
  },
  {
   "cell_type": "code",
   "source": "add(3, 4)",
   "metadata": {
    "tags": [],
    "cell_id": "00096-2d41d23a-13fd-4b3a-9325-889fa806c1ac",
    "deepnote_to_be_reexecuted": false,
    "source_hash": "e914c6af",
    "execution_start": 1624088178479,
    "execution_millis": 12,
    "deepnote_cell_type": "code"
   },
   "outputs": [
    {
     "name": "stdout",
     "text": "inner was called at 16641.293082775\ninner was called at 16641.293145285\nadd has been called 8 times\n",
     "output_type": "stream"
    },
    {
     "output_type": "execute_result",
     "execution_count": 133,
     "data": {
      "text/plain": "7"
     },
     "metadata": {}
    }
   ],
   "execution_count": null
  },
  {
   "cell_type": "code",
   "source": "print(counters)",
   "metadata": {
    "tags": [],
    "cell_id": "00097-db791d91-c92e-4b0c-a32c-4069f658f4fe",
    "deepnote_to_be_reexecuted": false,
    "source_hash": "a8e085dd",
    "execution_start": 1624088183132,
    "execution_millis": 20,
    "deepnote_cell_type": "code"
   },
   "outputs": [
    {
     "name": "stdout",
     "text": "{'inner': 3}\n",
     "output_type": "stream"
    }
   ],
   "execution_count": null
  },
  {
   "cell_type": "code",
   "source": "def mult(a, b, c):\n    return a * b * c\n\n\ndef add(a, b):\n    return a + b\n\ncounters = dict()\n\ndef counter(fn):\n    cnt = 0  # initially fn has been run zero times\n    \n    def inner(*args, **kwargs):\n        nonlocal cnt\n        cnt = cnt + 1\n        counters[fn.__name__] = cnt  # counters is global\n        return fn(*args, **kwargs)\n    \n    return inner\n\n\ncounted_add = counter(add)\ncounted_mult = counter(mult)\n\ncounted_add(1, 2)\ncounted_add(1, 2)\ncounted_add(1, 2)\ncounted_add(1, 2)\ncounted_add(1, 2)\ncounted_mult(1, 2, 'a')\ncounted_mult(1, 2, 'a')\ncounted_mult(1, 2, 'a')\n\nprint(counters)",
   "metadata": {
    "tags": [],
    "cell_id": "00098-9fdf3eea-41dc-4773-88ff-897e719256a4",
    "deepnote_to_be_reexecuted": false,
    "source_hash": "c85dfb8a",
    "execution_start": 1624088243527,
    "execution_millis": 11,
    "deepnote_cell_type": "code"
   },
   "outputs": [
    {
     "name": "stdout",
     "text": "{'add': 5, 'mult': 3}\n",
     "output_type": "stream"
    }
   ],
   "execution_count": null
  },
  {
   "cell_type": "code",
   "source": "def counter(fn, counters):\n    cnt = 0  # initially fn has been run zero times\n    \n    def inner(*args, **kwargs):\n        nonlocal cnt\n        cnt = cnt + 1\n        counters[fn.__name__] = cnt  # counters is nonlocal\n        return fn(*args, **kwargs)\n    \n    return inner",
   "metadata": {
    "tags": [],
    "cell_id": "00099-2166a4e7-d897-47dd-ac67-fd8f5f7ae2a7",
    "deepnote_to_be_reexecuted": false,
    "source_hash": "468b69ca",
    "execution_start": 1624088277371,
    "execution_millis": 1,
    "deepnote_cell_type": "code"
   },
   "outputs": [],
   "execution_count": null
  },
  {
   "cell_type": "code",
   "source": "func_counters = dict()\ncounted_add = counter(add, func_counters)\ncounted_mult = counter(mult, func_counters)\n\nfor i in range(5):\n    counted_add(i, i)\n\nfor i in range(10):\n    counted_mult(i, i, i)",
   "metadata": {
    "tags": [],
    "cell_id": "00100-2841a733-2301-4c00-a6f7-4798cb115c0b",
    "deepnote_to_be_reexecuted": false,
    "source_hash": "b9f00448",
    "execution_start": 1624088295638,
    "execution_millis": 5,
    "deepnote_cell_type": "code"
   },
   "outputs": [],
   "execution_count": null
  },
  {
   "cell_type": "code",
   "source": "print(func_counters)",
   "metadata": {
    "tags": [],
    "cell_id": "00101-356c5aac-a73e-48fe-98ff-df3367cac907",
    "deepnote_to_be_reexecuted": false,
    "source_hash": "2029ffff",
    "execution_start": 1624088335377,
    "execution_millis": 10,
    "deepnote_cell_type": "code"
   },
   "outputs": [
    {
     "name": "stdout",
     "text": "{'add': 5, 'mult': 10}\n",
     "output_type": "stream"
    }
   ],
   "execution_count": null
  },
  {
   "cell_type": "code",
   "source": "fn = outer(fn_name)\nfn()\n\nfn_name = outer(fn_name)\n\nfn_name = check_password(check_good_mood(check_gpu(check_interner_connect(check_file_size(fn_name)))))\n\n@check_password\n@check_good_mood\n@check_gpu\n@check_interner_connect\n@check_file_size\ndef fn_name:\n    pass\n\n",
   "metadata": {
    "tags": [],
    "cell_id": "00102-1d22a2a9-d318-43a2-b429-478e3f217980",
    "deepnote_cell_type": "code"
   },
   "outputs": [],
   "execution_count": null
  },
  {
   "cell_type": "code",
   "source": "def func():\n    \"\"\"I am supposed to some thing\"\"\"\n    pass",
   "metadata": {
    "tags": [],
    "cell_id": "00103-f952eda5-f7d6-4e80-ab87-1e300b24365a",
    "deepnote_cell_type": "code"
   },
   "outputs": [],
   "execution_count": null
  },
  {
   "cell_type": "markdown",
   "source": "<a style='text-decoration:none;line-height:16px;display:flex;color:#5B5B62;padding:10px;justify-content:end;' href='https://deepnote.com?utm_source=created-in-deepnote-cell&projectId=ec90de38-255d-4b81-a5aa-8cef77d684bf' target=\"_blank\">\n<img alt='Created in deepnote.com' style='display:inline;max-height:16px;margin:0px;margin-right:7.5px;' src='data:image/svg+xml;base64,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' > </img>\nCreated in <span style='font-weight:600;margin-left:4px;'>Deepnote</span></a>",
   "metadata": {
    "tags": [],
    "created_in_deepnote_cell": true,
    "deepnote_cell_type": "markdown"
   }
  }
 ],
 "nbformat": 4,
 "nbformat_minor": 2,
 "metadata": {
  "orig_nbformat": 2,
  "deepnote": {
   "is_reactive": false
  },
  "deepnote_notebook_id": "228314c5-0330-4da1-a539-46b26a8b0751",
  "deepnote_execution_queue": []
 }
}