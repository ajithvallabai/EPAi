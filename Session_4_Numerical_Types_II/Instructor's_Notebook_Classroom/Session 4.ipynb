{
 "cells": [
  {
   "cell_type": "code",
   "metadata": {
    "tags": [],
    "cell_id": "00000-697a50d6-44d8-4761-b7ed-d9d08d291f6b",
    "deepnote_to_be_reexecuted": false,
    "source_hash": "92820cb1",
    "execution_start": 1621662450344,
    "execution_millis": 12,
    "deepnote_cell_type": "code"
   },
   "source": "a = complex(1, 2)\nb = 1 + 2j\n\na, b",
   "execution_count": null,
   "outputs": [
    {
     "output_type": "execute_result",
     "execution_count": 3,
     "data": {
      "text/plain": "((1+2j), (1+2j))"
     },
     "metadata": {}
    }
   ]
  },
  {
   "cell_type": "code",
   "metadata": {
    "tags": [],
    "cell_id": "00001-620db7d8-faa3-470a-bd18-859d1fe730c0",
    "deepnote_to_be_reexecuted": false,
    "source_hash": "6afc1c34",
    "execution_start": 1621662464301,
    "execution_millis": 8,
    "deepnote_cell_type": "code"
   },
   "source": "a == b",
   "execution_count": null,
   "outputs": [
    {
     "output_type": "execute_result",
     "execution_count": 4,
     "data": {
      "text/plain": "True"
     },
     "metadata": {}
    }
   ]
  },
  {
   "cell_type": "code",
   "metadata": {
    "tags": [],
    "cell_id": "00002-cedcb538-b4c3-4bfa-b568-b0a1842492d9",
    "deepnote_to_be_reexecuted": false,
    "source_hash": "2cc6dfc6",
    "execution_start": 1621662476749,
    "execution_millis": 9,
    "deepnote_cell_type": "code"
   },
   "source": "a.real, type(a.real)",
   "execution_count": null,
   "outputs": [
    {
     "output_type": "execute_result",
     "execution_count": 5,
     "data": {
      "text/plain": "(1.0, float)"
     },
     "metadata": {}
    }
   ]
  },
  {
   "cell_type": "code",
   "metadata": {
    "tags": [],
    "cell_id": "00003-9ef2c640-6b34-4797-95ae-9aeb5e66904d",
    "deepnote_to_be_reexecuted": false,
    "source_hash": "7afdc95e",
    "execution_start": 1621662490687,
    "execution_millis": 51,
    "deepnote_cell_type": "code"
   },
   "source": "a.imag, type(a.imag)",
   "execution_count": null,
   "outputs": [
    {
     "output_type": "execute_result",
     "execution_count": 6,
     "data": {
      "text/plain": "(2.0, float)"
     },
     "metadata": {}
    }
   ]
  },
  {
   "cell_type": "code",
   "metadata": {
    "tags": [],
    "cell_id": "00004-b7d8b49a-f16c-40b2-b821-f2f5480c2145",
    "deepnote_to_be_reexecuted": false,
    "source_hash": "5826204f",
    "execution_start": 1621662499870,
    "execution_millis": 8,
    "deepnote_cell_type": "code"
   },
   "source": "a.conjugate()",
   "execution_count": null,
   "outputs": [
    {
     "output_type": "execute_result",
     "execution_count": 7,
     "data": {
      "text/plain": "(1-2j)"
     },
     "metadata": {}
    }
   ]
  },
  {
   "cell_type": "code",
   "metadata": {
    "tags": [],
    "cell_id": "00005-5983b702-1a0d-4216-b3f3-5c0e8c5f8341",
    "deepnote_to_be_reexecuted": false,
    "source_hash": "630b6915",
    "execution_start": 1621662528722,
    "execution_millis": 0,
    "deepnote_cell_type": "code"
   },
   "source": "a = 1 + 2j\nb = 3 - 4j\nc = 5j\nd = 10",
   "execution_count": null,
   "outputs": []
  },
  {
   "cell_type": "code",
   "metadata": {
    "tags": [],
    "cell_id": "00006-8cc510e4-3c2c-4d61-a767-e20f2a66637d",
    "deepnote_to_be_reexecuted": false,
    "source_hash": "5adb1202",
    "execution_start": 1621662538295,
    "execution_millis": 9,
    "deepnote_cell_type": "code"
   },
   "source": "a + b",
   "execution_count": null,
   "outputs": [
    {
     "output_type": "execute_result",
     "execution_count": 9,
     "data": {
      "text/plain": "(4-2j)"
     },
     "metadata": {}
    }
   ]
  },
  {
   "cell_type": "code",
   "metadata": {
    "tags": [],
    "cell_id": "00007-7f4a169f-a8c8-4466-b386-6fb4ce5c59d6",
    "deepnote_to_be_reexecuted": false,
    "source_hash": "54e1ba98",
    "execution_start": 1621662544409,
    "execution_millis": 8,
    "deepnote_cell_type": "code"
   },
   "source": "b * c",
   "execution_count": null,
   "outputs": [
    {
     "output_type": "execute_result",
     "execution_count": 11,
     "data": {
      "text/plain": "(20+15j)"
     },
     "metadata": {}
    }
   ]
  },
  {
   "cell_type": "code",
   "metadata": {
    "tags": [],
    "cell_id": "00008-5e54bb19-1f1a-4a3a-906c-945a70898c89",
    "deepnote_to_be_reexecuted": false,
    "source_hash": "cc9cd26f",
    "execution_start": 1621662548652,
    "execution_millis": 7,
    "deepnote_cell_type": "code"
   },
   "source": "c / d",
   "execution_count": null,
   "outputs": [
    {
     "output_type": "execute_result",
     "execution_count": 12,
     "data": {
      "text/plain": "0.5j"
     },
     "metadata": {}
    }
   ]
  },
  {
   "cell_type": "code",
   "metadata": {
    "tags": [],
    "cell_id": "00009-44a634f2-7357-4a04-93eb-ebcefbac59f9",
    "deepnote_to_be_reexecuted": false,
    "source_hash": "91f8d7c1",
    "execution_start": 1621662552355,
    "execution_millis": 5,
    "deepnote_cell_type": "code"
   },
   "source": "d - a",
   "execution_count": null,
   "outputs": [
    {
     "output_type": "execute_result",
     "execution_count": 13,
     "data": {
      "text/plain": "(9-2j)"
     },
     "metadata": {}
    }
   ]
  },
  {
   "cell_type": "code",
   "metadata": {
    "tags": [],
    "cell_id": "00010-c1006e35-12f7-4416-ae37-fba62876f3f6",
    "deepnote_to_be_reexecuted": false,
    "source_hash": "7cdcbd50",
    "execution_start": 1621662574188,
    "execution_millis": 29,
    "deepnote_cell_type": "code"
   },
   "source": "10 - (10 + 4j)",
   "execution_count": null,
   "outputs": [
    {
     "output_type": "execute_result",
     "execution_count": 14,
     "data": {
      "text/plain": "-4j"
     },
     "metadata": {}
    }
   ]
  },
  {
   "cell_type": "code",
   "metadata": {
    "tags": [],
    "cell_id": "00011-ab298a87-860c-4ffa-b6fb-aba0032795ca",
    "deepnote_to_be_reexecuted": false,
    "source_hash": "cd924711",
    "execution_start": 1621662585833,
    "execution_millis": 56,
    "deepnote_cell_type": "code"
   },
   "source": "a // b",
   "execution_count": null,
   "outputs": [
    {
     "output_type": "error",
     "ename": "TypeError",
     "evalue": "can't take floor of complex number.",
     "traceback": [
      "\u001b[0;31m---------------------------------------------------------------------------\u001b[0m",
      "\u001b[0;31mTypeError\u001b[0m                                 Traceback (most recent call last)",
      "\u001b[0;32m<ipython-input-15-d081371454f6>\u001b[0m in \u001b[0;36m<module>\u001b[0;34m\u001b[0m\n\u001b[0;32m----> 1\u001b[0;31m \u001b[0ma\u001b[0m \u001b[0;34m//\u001b[0m \u001b[0mb\u001b[0m\u001b[0;34m\u001b[0m\u001b[0;34m\u001b[0m\u001b[0m\n\u001b[0m",
      "\u001b[0;31mTypeError\u001b[0m: can't take floor of complex number."
     ]
    }
   ]
  },
  {
   "cell_type": "code",
   "metadata": {
    "tags": [],
    "cell_id": "00012-1df7ecc3-6f5f-4544-8a93-603d94365326",
    "deepnote_to_be_reexecuted": false,
    "source_hash": "8509c2fb",
    "execution_start": 1621662593294,
    "execution_millis": 25,
    "deepnote_cell_type": "code"
   },
   "source": "a % b",
   "execution_count": null,
   "outputs": [
    {
     "output_type": "error",
     "ename": "TypeError",
     "evalue": "can't mod complex numbers.",
     "traceback": [
      "\u001b[0;31m---------------------------------------------------------------------------\u001b[0m",
      "\u001b[0;31mTypeError\u001b[0m                                 Traceback (most recent call last)",
      "\u001b[0;32m<ipython-input-16-bb5d1a9b79f9>\u001b[0m in \u001b[0;36m<module>\u001b[0;34m\u001b[0m\n\u001b[0;32m----> 1\u001b[0;31m \u001b[0ma\u001b[0m \u001b[0;34m%\u001b[0m \u001b[0mb\u001b[0m\u001b[0;34m\u001b[0m\u001b[0;34m\u001b[0m\u001b[0m\n\u001b[0m",
      "\u001b[0;31mTypeError\u001b[0m: can't mod complex numbers."
     ]
    }
   ]
  },
  {
   "cell_type": "code",
   "metadata": {
    "tags": [],
    "cell_id": "00013-bfed7b38-fb3c-40d5-a189-490968694fef",
    "deepnote_to_be_reexecuted": false,
    "source_hash": "755d3aef",
    "execution_start": 1621662612055,
    "execution_millis": 10,
    "deepnote_cell_type": "code"
   },
   "source": "a = 0.1j\na + a + a == 0.3j",
   "execution_count": null,
   "outputs": [
    {
     "output_type": "execute_result",
     "execution_count": 17,
     "data": {
      "text/plain": "False"
     },
     "metadata": {}
    }
   ]
  },
  {
   "cell_type": "code",
   "metadata": {
    "tags": [],
    "cell_id": "00014-543e7a55-1efd-477f-b6ea-06924a1fe41a",
    "deepnote_to_be_reexecuted": false,
    "source_hash": "756ec9ce",
    "execution_start": 1621662627477,
    "execution_millis": 27,
    "deepnote_cell_type": "code"
   },
   "source": "a = 1 + 1j\nb = 100 + 100j\na < b",
   "execution_count": null,
   "outputs": [
    {
     "output_type": "error",
     "ename": "TypeError",
     "evalue": "'<' not supported between instances of 'complex' and 'complex'",
     "traceback": [
      "\u001b[0;31m---------------------------------------------------------------------------\u001b[0m",
      "\u001b[0;31mTypeError\u001b[0m                                 Traceback (most recent call last)",
      "\u001b[0;32m<ipython-input-18-0f853917abb2>\u001b[0m in \u001b[0;36m<module>\u001b[0;34m\u001b[0m\n\u001b[1;32m      1\u001b[0m \u001b[0ma\u001b[0m \u001b[0;34m=\u001b[0m \u001b[0;36m1\u001b[0m \u001b[0;34m+\u001b[0m \u001b[0;36m1j\u001b[0m\u001b[0;34m\u001b[0m\u001b[0;34m\u001b[0m\u001b[0m\n\u001b[1;32m      2\u001b[0m \u001b[0mb\u001b[0m \u001b[0;34m=\u001b[0m \u001b[0;36m100\u001b[0m \u001b[0;34m+\u001b[0m \u001b[0;36m100j\u001b[0m\u001b[0;34m\u001b[0m\u001b[0;34m\u001b[0m\u001b[0m\n\u001b[0;32m----> 3\u001b[0;31m \u001b[0ma\u001b[0m \u001b[0;34m<\u001b[0m \u001b[0mb\u001b[0m\u001b[0;34m\u001b[0m\u001b[0;34m\u001b[0m\u001b[0m\n\u001b[0m",
      "\u001b[0;31mTypeError\u001b[0m: '<' not supported between instances of 'complex' and 'complex'"
     ]
    }
   ]
  },
  {
   "cell_type": "code",
   "metadata": {
    "tags": [],
    "cell_id": "00015-bd245504-14a8-4500-aafc-547db9d308e8",
    "deepnote_to_be_reexecuted": false,
    "source_hash": "34701ac0",
    "execution_start": 1621662669525,
    "execution_millis": 3,
    "deepnote_cell_type": "code"
   },
   "source": "import cmath",
   "execution_count": null,
   "outputs": []
  },
  {
   "cell_type": "code",
   "metadata": {
    "tags": [],
    "cell_id": "00016-5cb51822-5390-4e1e-a752-a61e261149c4",
    "deepnote_to_be_reexecuted": false,
    "source_hash": "b5be6022",
    "execution_start": 1621662695526,
    "execution_millis": 7,
    "deepnote_cell_type": "code"
   },
   "source": "a = 1 + 5j\n\nprint(cmath.sqrt(a))",
   "execution_count": null,
   "outputs": [
    {
     "name": "stdout",
     "text": "(1.7462845577958914+1.4316108957382214j)\n",
     "output_type": "stream"
    }
   ]
  },
  {
   "cell_type": "code",
   "metadata": {
    "tags": [],
    "cell_id": "00017-ecf06300-9885-4910-9c32-0e0e490e88bf",
    "deepnote_to_be_reexecuted": false,
    "source_hash": "e7589fd2",
    "execution_start": 1621662709399,
    "execution_millis": 14,
    "deepnote_cell_type": "code"
   },
   "source": "import math\nprint(math.sqrt(a))",
   "execution_count": null,
   "outputs": [
    {
     "output_type": "error",
     "ename": "TypeError",
     "evalue": "can't convert complex to float",
     "traceback": [
      "\u001b[0;31m---------------------------------------------------------------------------\u001b[0m",
      "\u001b[0;31mTypeError\u001b[0m                                 Traceback (most recent call last)",
      "\u001b[0;32m<ipython-input-22-5de857c4ec0c>\u001b[0m in \u001b[0;36m<module>\u001b[0;34m\u001b[0m\n\u001b[1;32m      1\u001b[0m \u001b[0;32mimport\u001b[0m \u001b[0mmath\u001b[0m\u001b[0;34m\u001b[0m\u001b[0;34m\u001b[0m\u001b[0m\n\u001b[0;32m----> 2\u001b[0;31m \u001b[0mprint\u001b[0m\u001b[0;34m(\u001b[0m\u001b[0mmath\u001b[0m\u001b[0;34m.\u001b[0m\u001b[0msqrt\u001b[0m\u001b[0;34m(\u001b[0m\u001b[0ma\u001b[0m\u001b[0;34m)\u001b[0m\u001b[0;34m)\u001b[0m\u001b[0;34m\u001b[0m\u001b[0;34m\u001b[0m\u001b[0m\n\u001b[0m",
      "\u001b[0;31mTypeError\u001b[0m: can't convert complex to float"
     ]
    }
   ]
  },
  {
   "cell_type": "code",
   "metadata": {
    "tags": [],
    "cell_id": "00018-4d425015-ac9b-4a19-9bfd-f2314ae84afd",
    "deepnote_to_be_reexecuted": false,
    "source_hash": "fef8b2e4",
    "execution_start": 1621662742614,
    "execution_millis": 1,
    "deepnote_cell_type": "code"
   },
   "source": "a = 1 + 1j",
   "execution_count": null,
   "outputs": []
  },
  {
   "cell_type": "code",
   "metadata": {
    "tags": [],
    "cell_id": "00019-8d946020-e6ce-4b0c-bde2-e21a6549b335",
    "deepnote_to_be_reexecuted": false,
    "source_hash": "849e73f6",
    "execution_start": 1621662871764,
    "execution_millis": 7,
    "deepnote_cell_type": "code"
   },
   "source": "r = abs(a)\nphi = cmath.phase(a)\nphi",
   "execution_count": null,
   "outputs": [
    {
     "output_type": "execute_result",
     "execution_count": 26,
     "data": {
      "text/plain": "0.7853981633974483"
     },
     "metadata": {}
    }
   ]
  },
  {
   "cell_type": "code",
   "metadata": {
    "tags": [],
    "cell_id": "00020-2c3e9046-f40f-43f8-9400-5ace387fcd4f",
    "deepnote_to_be_reexecuted": false,
    "source_hash": "f12f09a8",
    "execution_start": 1621662922504,
    "execution_millis": 10,
    "deepnote_cell_type": "code"
   },
   "source": "r = math.sqrt(2)\nphi = cmath.pi/4\n\nprint(cmath.rect(r, phi))",
   "execution_count": null,
   "outputs": [
    {
     "name": "stdout",
     "text": "(1.0000000000000002+1j)\n",
     "output_type": "stream"
    }
   ]
  },
  {
   "cell_type": "markdown",
   "source": "e<sup>i &pi;</sup> + 1 = 0",
   "metadata": {
    "tags": [],
    "cell_id": "00021-f5bc6478-03b9-4613-b5f3-66bb0570828e",
    "deepnote_cell_type": "markdown"
   }
  },
  {
   "cell_type": "code",
   "metadata": {
    "tags": [],
    "cell_id": "00021-516042ea-2e0a-4bc7-8c9c-e3ea651fcc08",
    "deepnote_to_be_reexecuted": false,
    "source_hash": "5d5e7f62",
    "execution_start": 1621663004445,
    "execution_millis": 6,
    "deepnote_cell_type": "code"
   },
   "source": "RHS = cmath.exp(cmath.pi*1j) + 1\nprint(RHS)",
   "execution_count": null,
   "outputs": [
    {
     "name": "stdout",
     "text": "1.2246467991473532e-16j\n",
     "output_type": "stream"
    }
   ]
  },
  {
   "cell_type": "code",
   "metadata": {
    "tags": [],
    "cell_id": "00023-7a2ce5b5-9c7e-4263-bf0d-3e018e490018",
    "deepnote_to_be_reexecuted": false,
    "source_hash": "8ed20df7",
    "execution_start": 1621663046914,
    "execution_millis": 18,
    "deepnote_cell_type": "code"
   },
   "source": "cmath.isclose(RHS, 0, abs_tol=0.00001)",
   "execution_count": null,
   "outputs": [
    {
     "output_type": "execute_result",
     "execution_count": 30,
     "data": {
      "text/plain": "True"
     },
     "metadata": {}
    }
   ]
  },
  {
   "cell_type": "markdown",
   "source": "# Booleans",
   "metadata": {
    "tags": [],
    "cell_id": "00024-41fe4686-6dfc-4b53-ab3c-1ac2a75f7d70",
    "deepnote_cell_type": "markdown"
   }
  },
  {
   "cell_type": "code",
   "metadata": {
    "tags": [],
    "cell_id": "00024-f26a9f41-dba4-435f-bf11-12ab795e55c1",
    "deepnote_to_be_reexecuted": false,
    "source_hash": "9a3d1acd",
    "execution_start": 1621663081398,
    "execution_millis": 12,
    "deepnote_cell_type": "code"
   },
   "source": "issubclass(bool, int)",
   "execution_count": null,
   "outputs": [
    {
     "output_type": "execute_result",
     "execution_count": 31,
     "data": {
      "text/plain": "True"
     },
     "metadata": {}
    }
   ]
  },
  {
   "cell_type": "code",
   "metadata": {
    "tags": [],
    "cell_id": "00026-fffbedf4-6294-4039-a3bd-e8f4da33736e",
    "deepnote_to_be_reexecuted": false,
    "source_hash": "be848141",
    "execution_start": 1621663127556,
    "execution_millis": 8,
    "deepnote_cell_type": "code"
   },
   "source": "type(True), id(True), int(True)",
   "execution_count": null,
   "outputs": [
    {
     "output_type": "execute_result",
     "execution_count": 32,
     "data": {
      "text/plain": "(bool, 139689211254080, 1)"
     },
     "metadata": {}
    }
   ]
  },
  {
   "cell_type": "code",
   "metadata": {
    "tags": [],
    "cell_id": "00027-bbb4cd1a-945e-4a4d-bba8-0a16440f1e98",
    "deepnote_to_be_reexecuted": false,
    "source_hash": "2c64a793",
    "execution_start": 1621663137954,
    "execution_millis": 12,
    "deepnote_cell_type": "code"
   },
   "source": "type(False), id(False), int(False)",
   "execution_count": null,
   "outputs": [
    {
     "output_type": "execute_result",
     "execution_count": 33,
     "data": {
      "text/plain": "(bool, 139689211254112, 0)"
     },
     "metadata": {}
    }
   ]
  },
  {
   "cell_type": "code",
   "metadata": {
    "tags": [],
    "cell_id": "00028-d05cf986-9d23-4da1-bc3b-e4197cb08e6a",
    "deepnote_to_be_reexecuted": false,
    "source_hash": "87a4cafa",
    "execution_start": 1621663168372,
    "execution_millis": 17,
    "deepnote_cell_type": "code"
   },
   "source": "isinstance(True, bool)",
   "execution_count": null,
   "outputs": [
    {
     "output_type": "execute_result",
     "execution_count": 34,
     "data": {
      "text/plain": "True"
     },
     "metadata": {}
    }
   ]
  },
  {
   "cell_type": "code",
   "metadata": {
    "tags": [],
    "cell_id": "00029-cb17384e-b9b8-4da3-8ca1-e736b1fab853",
    "deepnote_to_be_reexecuted": false,
    "source_hash": "f6b2f066",
    "execution_start": 1621663180725,
    "execution_millis": 51,
    "deepnote_cell_type": "code"
   },
   "source": "isinstance(True, int)",
   "execution_count": null,
   "outputs": [
    {
     "output_type": "execute_result",
     "execution_count": 35,
     "data": {
      "text/plain": "True"
     },
     "metadata": {}
    }
   ]
  },
  {
   "cell_type": "code",
   "metadata": {
    "tags": [],
    "cell_id": "00030-2eace45d-9edb-4315-a887-f5c429258b92",
    "deepnote_to_be_reexecuted": false,
    "source_hash": "5d0504ef",
    "execution_start": 1621663216045,
    "execution_millis": 9,
    "deepnote_cell_type": "code"
   },
   "source": "id(True), id(1 < 2)",
   "execution_count": null,
   "outputs": [
    {
     "output_type": "execute_result",
     "execution_count": 37,
     "data": {
      "text/plain": "(139689211254080, 139689211254080)"
     },
     "metadata": {}
    }
   ]
  },
  {
   "cell_type": "code",
   "metadata": {
    "tags": [],
    "cell_id": "00031-15aff39f-16f2-4693-be28-1a83860ee6ee",
    "deepnote_to_be_reexecuted": false,
    "source_hash": "b88e0510",
    "execution_start": 1621663244724,
    "execution_millis": 24,
    "deepnote_cell_type": "code"
   },
   "source": "id(False), id( 1==3)",
   "execution_count": null,
   "outputs": [
    {
     "output_type": "execute_result",
     "execution_count": 39,
     "data": {
      "text/plain": "(139689211254112, 139689211254112)"
     },
     "metadata": {}
    }
   ]
  },
  {
   "cell_type": "code",
   "metadata": {
    "tags": [],
    "cell_id": "00032-4144f402-e55c-4a87-b91c-437eb5e20c9e",
    "deepnote_to_be_reexecuted": false,
    "source_hash": "b3298d74",
    "execution_start": 1621663358595,
    "execution_millis": 2,
    "deepnote_cell_type": "code"
   },
   "source": "1 == 2 == False",
   "execution_count": null,
   "outputs": [
    {
     "output_type": "execute_result",
     "execution_count": 40,
     "data": {
      "text/plain": "False"
     },
     "metadata": {}
    }
   ]
  },
  {
   "cell_type": "code",
   "metadata": {
    "tags": [],
    "cell_id": "00033-5469f7f5-74eb-4a0d-a4c9-5bf38cb926d1",
    "deepnote_to_be_reexecuted": false,
    "source_hash": "2cf10c19",
    "execution_start": 1621663377728,
    "execution_millis": 18,
    "deepnote_cell_type": "code"
   },
   "source": "(1 < 2) is True",
   "execution_count": null,
   "outputs": [
    {
     "output_type": "execute_result",
     "execution_count": 41,
     "data": {
      "text/plain": "True"
     },
     "metadata": {}
    }
   ]
  },
  {
   "cell_type": "code",
   "metadata": {
    "tags": [],
    "cell_id": "00034-ee4c4ef4-4cdc-49d3-93f7-7f14731ab33c",
    "deepnote_to_be_reexecuted": false,
    "source_hash": "df7eefdb",
    "execution_start": 1621663409418,
    "execution_millis": 6,
    "deepnote_cell_type": "code"
   },
   "source": "(1 < 2 ) == True ",
   "execution_count": null,
   "outputs": [
    {
     "output_type": "execute_result",
     "execution_count": 42,
     "data": {
      "text/plain": "True"
     },
     "metadata": {}
    }
   ]
  },
  {
   "cell_type": "code",
   "metadata": {
    "tags": [],
    "cell_id": "00035-01281d1b-b086-49e2-8618-f7c06c8e4d92",
    "deepnote_to_be_reexecuted": false,
    "source_hash": "abe1503",
    "execution_start": 1621663430270,
    "execution_millis": 9,
    "deepnote_cell_type": "code"
   },
   "source": "(1 == 2) is False, (1 == 2) == False",
   "execution_count": null,
   "outputs": [
    {
     "output_type": "execute_result",
     "execution_count": 43,
     "data": {
      "text/plain": "(True, True)"
     },
     "metadata": {}
    }
   ]
  },
  {
   "cell_type": "code",
   "metadata": {
    "tags": [],
    "cell_id": "00036-e7623f6a-4fac-499b-a9b5-d8eb14e283f0",
    "deepnote_to_be_reexecuted": false,
    "source_hash": "b3298d74",
    "execution_start": 1621663441730,
    "execution_millis": 16,
    "deepnote_cell_type": "code"
   },
   "source": "1 == 2 == False",
   "execution_count": null,
   "outputs": [
    {
     "output_type": "execute_result",
     "execution_count": 44,
     "data": {
      "text/plain": "False"
     },
     "metadata": {}
    }
   ]
  },
  {
   "cell_type": "code",
   "metadata": {
    "tags": [],
    "cell_id": "00037-0b715840-6a7e-4dcd-951b-967c41f3da37",
    "deepnote_to_be_reexecuted": false,
    "source_hash": "eeb126fd",
    "execution_start": 1621663447173,
    "execution_millis": 12,
    "deepnote_cell_type": "code"
   },
   "source": "(1 == 2) == False",
   "execution_count": null,
   "outputs": [
    {
     "output_type": "execute_result",
     "execution_count": 45,
     "data": {
      "text/plain": "True"
     },
     "metadata": {}
    }
   ]
  },
  {
   "cell_type": "markdown",
   "source": "## 1 == 2 == False &gt;&gt; 1 == 2 AND 2 == False",
   "metadata": {
    "tags": [],
    "cell_id": "00038-f092f01c-c27f-4c04-a352-7bdf7955ed80",
    "deepnote_cell_type": "text-cell-h2"
   }
  },
  {
   "cell_type": "code",
   "metadata": {
    "tags": [],
    "cell_id": "00038-d3781fce-2441-4500-be31-81663f4f55f5",
    "deepnote_to_be_reexecuted": false,
    "source_hash": "92b164a1",
    "execution_start": 1621663526195,
    "execution_millis": 15,
    "deepnote_cell_type": "code"
   },
   "source": "1 == 2, 2 == False, 1 == 2 and 2 == False",
   "execution_count": null,
   "outputs": [
    {
     "output_type": "execute_result",
     "execution_count": 46,
     "data": {
      "text/plain": "(False, False, False)"
     },
     "metadata": {}
    }
   ]
  },
  {
   "cell_type": "code",
   "metadata": {
    "tags": [],
    "cell_id": "00040-51050843-29e4-4a69-962c-942eee4dd661",
    "deepnote_to_be_reexecuted": false,
    "source_hash": "f1de4278",
    "execution_start": 1621663532190,
    "execution_millis": 7,
    "deepnote_cell_type": "code"
   },
   "source": "1 == 2",
   "execution_count": null,
   "outputs": [
    {
     "output_type": "execute_result",
     "execution_count": 47,
     "data": {
      "text/plain": "False"
     },
     "metadata": {}
    }
   ]
  },
  {
   "cell_type": "code",
   "metadata": {
    "tags": [],
    "cell_id": "00041-fd1e0d46-f1e1-4410-b64b-709c261db8a6",
    "deepnote_to_be_reexecuted": false,
    "source_hash": "eeb126fd",
    "execution_start": 1621663543825,
    "execution_millis": 10,
    "deepnote_cell_type": "code"
   },
   "source": "(1 == 2) == False",
   "execution_count": null,
   "outputs": [
    {
     "output_type": "execute_result",
     "execution_count": 48,
     "data": {
      "text/plain": "True"
     },
     "metadata": {}
    }
   ]
  },
  {
   "cell_type": "code",
   "metadata": {
    "tags": [],
    "cell_id": "00042-be775a31-502e-4add-8bbf-3fbd21d61b12",
    "deepnote_to_be_reexecuted": false,
    "source_hash": "52ae763",
    "execution_start": 1621663586488,
    "execution_millis": 13,
    "deepnote_cell_type": "code"
   },
   "source": "int(True), int(False)",
   "execution_count": null,
   "outputs": [
    {
     "output_type": "execute_result",
     "execution_count": 50,
     "data": {
      "text/plain": "(1, 0)"
     },
     "metadata": {}
    }
   ]
  },
  {
   "cell_type": "code",
   "metadata": {
    "tags": [],
    "cell_id": "00043-8df750e0-b5d2-417e-918b-b59ca89c94e0",
    "deepnote_to_be_reexecuted": false,
    "source_hash": "af0fe0cf",
    "execution_start": 1621663607142,
    "execution_millis": 8,
    "deepnote_cell_type": "code"
   },
   "source": "1 == True, 1 is True ",
   "execution_count": null,
   "outputs": [
    {
     "name": "stderr",
     "text": "<>:1: SyntaxWarning: \"is\" with a literal. Did you mean \"==\"?\n<>:1: SyntaxWarning: \"is\" with a literal. Did you mean \"==\"?\n<ipython-input-51-4c6a91c474b0>:1: SyntaxWarning: \"is\" with a literal. Did you mean \"==\"?\n  1 == True, 1 is True\n",
     "output_type": "stream"
    },
    {
     "output_type": "execute_result",
     "execution_count": 51,
     "data": {
      "text/plain": "(True, False)"
     },
     "metadata": {}
    }
   ]
  },
  {
   "cell_type": "code",
   "metadata": {
    "tags": [],
    "cell_id": "00044-33d583f2-2ed4-4953-a314-f7667a87f3a3",
    "deepnote_to_be_reexecuted": false,
    "source_hash": "ee47b33c",
    "execution_start": 1621663631501,
    "execution_millis": 6,
    "deepnote_cell_type": "code"
   },
   "source": "bool(0)",
   "execution_count": null,
   "outputs": [
    {
     "output_type": "execute_result",
     "execution_count": 52,
     "data": {
      "text/plain": "False"
     },
     "metadata": {}
    }
   ]
  },
  {
   "cell_type": "code",
   "metadata": {
    "tags": [],
    "cell_id": "00045-ae822b9e-c47d-4232-948d-64627c28102a",
    "deepnote_to_be_reexecuted": false,
    "source_hash": "28f91372",
    "execution_start": 1621663644123,
    "execution_millis": 13,
    "deepnote_cell_type": "code"
   },
   "source": "bool(1), bool(100), bool(-12312)",
   "execution_count": null,
   "outputs": [
    {
     "output_type": "execute_result",
     "execution_count": 53,
     "data": {
      "text/plain": "(True, True, True)"
     },
     "metadata": {}
    }
   ]
  },
  {
   "cell_type": "code",
   "metadata": {
    "tags": [],
    "cell_id": "00046-179bd4dd-523f-49a3-ac65-8afa129b7aa0",
    "deepnote_to_be_reexecuted": false,
    "source_hash": "23225b0a",
    "execution_start": 1621663662763,
    "execution_millis": 6,
    "deepnote_cell_type": "code"
   },
   "source": "True > False",
   "execution_count": null,
   "outputs": [
    {
     "output_type": "execute_result",
     "execution_count": 54,
     "data": {
      "text/plain": "True"
     },
     "metadata": {}
    }
   ]
  },
  {
   "cell_type": "code",
   "metadata": {
    "tags": [],
    "cell_id": "00047-e18bb9b6-c87e-4f26-ac47-3027b820b587",
    "deepnote_to_be_reexecuted": false,
    "source_hash": "4603d90",
    "execution_start": 1621663686846,
    "execution_millis": 8,
    "deepnote_cell_type": "code"
   },
   "source": "True + 2 ",
   "execution_count": null,
   "outputs": [
    {
     "output_type": "execute_result",
     "execution_count": 55,
     "data": {
      "text/plain": "3"
     },
     "metadata": {}
    }
   ]
  },
  {
   "cell_type": "code",
   "metadata": {
    "tags": [],
    "cell_id": "00048-c7c417af-3709-4732-8618-bd074c881cb2",
    "deepnote_to_be_reexecuted": false,
    "source_hash": "58379296",
    "execution_start": 1621663695597,
    "execution_millis": 4,
    "deepnote_cell_type": "code"
   },
   "source": "False // 2",
   "execution_count": null,
   "outputs": [
    {
     "output_type": "execute_result",
     "execution_count": 56,
     "data": {
      "text/plain": "0"
     },
     "metadata": {}
    }
   ]
  },
  {
   "cell_type": "code",
   "metadata": {
    "tags": [],
    "cell_id": "00049-1bf1faab-b763-4cae-a81b-ce7bd8c1c09f",
    "deepnote_to_be_reexecuted": false,
    "source_hash": "9927bf25",
    "execution_start": 1621663705453,
    "execution_millis": 7,
    "deepnote_cell_type": "code"
   },
   "source": "True + True + True",
   "execution_count": null,
   "outputs": [
    {
     "output_type": "execute_result",
     "execution_count": 57,
     "data": {
      "text/plain": "3"
     },
     "metadata": {}
    }
   ]
  },
  {
   "cell_type": "code",
   "metadata": {
    "tags": [],
    "cell_id": "00050-31d8ce14-8fe7-4abf-822d-8fd3b3023e00",
    "deepnote_to_be_reexecuted": false,
    "source_hash": "a2e8279b",
    "execution_start": 1621663712690,
    "execution_millis": 0,
    "deepnote_cell_type": "code"
   },
   "source": "(True + True + True) % 2",
   "execution_count": null,
   "outputs": [
    {
     "output_type": "execute_result",
     "execution_count": 58,
     "data": {
      "text/plain": "1"
     },
     "metadata": {}
    }
   ]
  },
  {
   "cell_type": "code",
   "metadata": {
    "tags": [],
    "cell_id": "00051-88fcc153-92ce-4618-8a7b-efb2576d6c7d",
    "deepnote_to_be_reexecuted": false,
    "source_hash": "799aeedb",
    "execution_start": 1621663727328,
    "execution_millis": 6,
    "deepnote_cell_type": "code"
   },
   "source": "-True == False",
   "execution_count": null,
   "outputs": [
    {
     "output_type": "execute_result",
     "execution_count": 59,
     "data": {
      "text/plain": "False"
     },
     "metadata": {}
    }
   ]
  },
  {
   "cell_type": "code",
   "metadata": {
    "tags": [],
    "cell_id": "00052-c28f0c52-4f1b-4528-9207-3897d2bd1175",
    "deepnote_to_be_reexecuted": false,
    "source_hash": "d0be348a",
    "execution_start": 1621663735056,
    "execution_millis": 48,
    "deepnote_cell_type": "code"
   },
   "source": "100 * False",
   "execution_count": null,
   "outputs": [
    {
     "output_type": "execute_result",
     "execution_count": 60,
     "data": {
      "text/plain": "0"
     },
     "metadata": {}
    }
   ]
  },
  {
   "cell_type": "code",
   "metadata": {
    "tags": [],
    "cell_id": "00053-1b9a233c-7f90-4915-92a3-702f8aafa22e",
    "deepnote_to_be_reexecuted": false,
    "source_hash": "b0c20b0c",
    "execution_start": 1621663762065,
    "execution_millis": 7,
    "deepnote_cell_type": "code"
   },
   "source": "bool(1), bool(-1), bool(100)",
   "execution_count": null,
   "outputs": [
    {
     "output_type": "execute_result",
     "execution_count": 61,
     "data": {
      "text/plain": "(True, True, True)"
     },
     "metadata": {}
    }
   ]
  },
  {
   "cell_type": "code",
   "metadata": {
    "tags": [],
    "cell_id": "00054-762f2191-38b3-418c-8b77-b66cffaa5b08",
    "deepnote_to_be_reexecuted": false,
    "source_hash": "fe56e65a",
    "execution_start": 1621663766517,
    "execution_millis": 8,
    "deepnote_cell_type": "code"
   },
   "source": "help(bool)",
   "execution_count": null,
   "outputs": [
    {
     "name": "stdout",
     "text": "Help on class bool in module builtins:\n\nclass bool(int)\n |  bool(x) -> bool\n |  \n |  Returns True when the argument x is true, False otherwise.\n |  The builtins True and False are the only two instances of the class bool.\n |  The class bool is a subclass of the class int, and cannot be subclassed.\n |  \n |  Method resolution order:\n |      bool\n |      int\n |      object\n |  \n |  Methods defined here:\n |  \n |  __and__(self, value, /)\n |      Return self&value.\n |  \n |  __or__(self, value, /)\n |      Return self|value.\n |  \n |  __rand__(self, value, /)\n |      Return value&self.\n |  \n |  __repr__(self, /)\n |      Return repr(self).\n |  \n |  __ror__(self, value, /)\n |      Return value|self.\n |  \n |  __rxor__(self, value, /)\n |      Return value^self.\n |  \n |  __xor__(self, value, /)\n |      Return self^value.\n |  \n |  ----------------------------------------------------------------------\n |  Static methods defined here:\n |  \n |  __new__(*args, **kwargs) from builtins.type\n |      Create and return a new object.  See help(type) for accurate signature.\n |  \n |  ----------------------------------------------------------------------\n |  Methods inherited from int:\n |  \n |  __abs__(self, /)\n |      abs(self)\n |  \n |  __add__(self, value, /)\n |      Return self+value.\n |  \n |  __bool__(self, /)\n |      self != 0\n |  \n |  __ceil__(...)\n |      Ceiling of an Integral returns itself.\n |  \n |  __divmod__(self, value, /)\n |      Return divmod(self, value).\n |  \n |  __eq__(self, value, /)\n |      Return self==value.\n |  \n |  __float__(self, /)\n |      float(self)\n |  \n |  __floor__(...)\n |      Flooring an Integral returns itself.\n |  \n |  __floordiv__(self, value, /)\n |      Return self//value.\n |  \n |  __format__(self, format_spec, /)\n |      Default object formatter.\n |  \n |  __ge__(self, value, /)\n |      Return self>=value.\n |  \n |  __getattribute__(self, name, /)\n |      Return getattr(self, name).\n |  \n |  __getnewargs__(self, /)\n |  \n |  __gt__(self, value, /)\n |      Return self>value.\n |  \n |  __hash__(self, /)\n |      Return hash(self).\n |  \n |  __index__(self, /)\n |      Return self converted to an integer, if self is suitable for use as an index into a list.\n |  \n |  __int__(self, /)\n |      int(self)\n |  \n |  __invert__(self, /)\n |      ~self\n |  \n |  __le__(self, value, /)\n |      Return self<=value.\n |  \n |  __lshift__(self, value, /)\n |      Return self<<value.\n |  \n |  __lt__(self, value, /)\n |      Return self<value.\n |  \n |  __mod__(self, value, /)\n |      Return self%value.\n |  \n |  __mul__(self, value, /)\n |      Return self*value.\n |  \n |  __ne__(self, value, /)\n |      Return self!=value.\n |  \n |  __neg__(self, /)\n |      -self\n |  \n |  __pos__(self, /)\n |      +self\n |  \n |  __pow__(self, value, mod=None, /)\n |      Return pow(self, value, mod).\n |  \n |  __radd__(self, value, /)\n |      Return value+self.\n |  \n |  __rdivmod__(self, value, /)\n |      Return divmod(value, self).\n |  \n |  __rfloordiv__(self, value, /)\n |      Return value//self.\n |  \n |  __rlshift__(self, value, /)\n |      Return value<<self.\n |  \n |  __rmod__(self, value, /)\n |      Return value%self.\n |  \n |  __rmul__(self, value, /)\n |      Return value*self.\n |  \n |  __round__(...)\n |      Rounding an Integral returns itself.\n |      Rounding with an ndigits argument also returns an integer.\n |  \n |  __rpow__(self, value, mod=None, /)\n |      Return pow(value, self, mod).\n |  \n |  __rrshift__(self, value, /)\n |      Return value>>self.\n |  \n |  __rshift__(self, value, /)\n |      Return self>>value.\n |  \n |  __rsub__(self, value, /)\n |      Return value-self.\n |  \n |  __rtruediv__(self, value, /)\n |      Return value/self.\n |  \n |  __sizeof__(self, /)\n |      Returns size in memory, in bytes.\n |  \n |  __sub__(self, value, /)\n |      Return self-value.\n |  \n |  __truediv__(self, value, /)\n |      Return self/value.\n |  \n |  __trunc__(...)\n |      Truncating an Integral returns itself.\n |  \n |  as_integer_ratio(self, /)\n |      Return integer ratio.\n |      \n |      Return a pair of integers, whose ratio is exactly equal to the original int\n |      and with a positive denominator.\n |      \n |      >>> (10).as_integer_ratio()\n |      (10, 1)\n |      >>> (-10).as_integer_ratio()\n |      (-10, 1)\n |      >>> (0).as_integer_ratio()\n |      (0, 1)\n |  \n |  bit_length(self, /)\n |      Number of bits necessary to represent self in binary.\n |      \n |      >>> bin(37)\n |      '0b100101'\n |      >>> (37).bit_length()\n |      6\n |  \n |  conjugate(...)\n |      Returns self, the complex conjugate of any int.\n |  \n |  to_bytes(self, /, length, byteorder, *, signed=False)\n |      Return an array of bytes representing an integer.\n |      \n |      length\n |        Length of bytes object to use.  An OverflowError is raised if the\n |        integer is not representable with the given number of bytes.\n |      byteorder\n |        The byte order used to represent the integer.  If byteorder is 'big',\n |        the most significant byte is at the beginning of the byte array.  If\n |        byteorder is 'little', the most significant byte is at the end of the\n |        byte array.  To request the native byte order of the host system, use\n |        `sys.byteorder' as the byte order value.\n |      signed\n |        Determines whether two's complement is used to represent the integer.\n |        If signed is False and a negative integer is given, an OverflowError\n |        is raised.\n |  \n |  ----------------------------------------------------------------------\n |  Class methods inherited from int:\n |  \n |  from_bytes(bytes, byteorder, *, signed=False) from builtins.type\n |      Return the integer represented by the given array of bytes.\n |      \n |      bytes\n |        Holds the array of bytes to convert.  The argument must either\n |        support the buffer protocol or be an iterable object producing bytes.\n |        Bytes and bytearray are examples of built-in objects that support the\n |        buffer protocol.\n |      byteorder\n |        The byte order used to represent the integer.  If byteorder is 'big',\n |        the most significant byte is at the beginning of the byte array.  If\n |        byteorder is 'little', the most significant byte is at the end of the\n |        byte array.  To request the native byte order of the host system, use\n |        `sys.byteorder' as the byte order value.\n |      signed\n |        Indicates whether two's complement is used to represent the integer.\n |  \n |  ----------------------------------------------------------------------\n |  Data descriptors inherited from int:\n |  \n |  denominator\n |      the denominator of a rational number in lowest terms\n |  \n |  imag\n |      the imaginary part of a complex number\n |  \n |  numerator\n |      the numerator of a rational number in lowest terms\n |  \n |  real\n |      the real part of a complex number\n\n",
     "output_type": "stream"
    }
   ]
  },
  {
   "cell_type": "code",
   "metadata": {
    "tags": [],
    "cell_id": "00055-b852de8e-1e27-4c87-a77a-2ce900185655",
    "deepnote_to_be_reexecuted": false,
    "source_hash": "7bcb6c1b",
    "execution_start": 1621663805998,
    "execution_millis": 8,
    "deepnote_cell_type": "code"
   },
   "source": "bool(100)",
   "execution_count": null,
   "outputs": [
    {
     "output_type": "execute_result",
     "execution_count": 63,
     "data": {
      "text/plain": "True"
     },
     "metadata": {}
    }
   ]
  },
  {
   "cell_type": "code",
   "metadata": {
    "tags": [],
    "cell_id": "00056-50d4006b-5628-4358-847a-2b9164de39fa",
    "deepnote_to_be_reexecuted": false,
    "source_hash": "c9ad26df",
    "execution_start": 1621663826291,
    "execution_millis": 8,
    "deepnote_cell_type": "code"
   },
   "source": "(100).__bool__()",
   "execution_count": null,
   "outputs": [
    {
     "output_type": "execute_result",
     "execution_count": 64,
     "data": {
      "text/plain": "True"
     },
     "metadata": {}
    }
   ]
  },
  {
   "cell_type": "code",
   "metadata": {
    "tags": [],
    "cell_id": "00057-567f029d-375e-4487-800b-162acd990f3b",
    "deepnote_to_be_reexecuted": false,
    "source_hash": "520ff9e0",
    "execution_start": 1621663854262,
    "execution_millis": 7,
    "deepnote_cell_type": "code"
   },
   "source": "(\"rohan\").__len__()",
   "execution_count": null,
   "outputs": [
    {
     "output_type": "execute_result",
     "execution_count": 66,
     "data": {
      "text/plain": "5"
     },
     "metadata": {}
    }
   ]
  },
  {
   "cell_type": "code",
   "metadata": {
    "tags": [],
    "cell_id": "00058-b44675de-0d62-42e6-8f90-7e223e37f27b",
    "deepnote_to_be_reexecuted": false,
    "source_hash": "55c4f44f",
    "execution_start": 1621663870401,
    "execution_millis": 48,
    "deepnote_cell_type": "code"
   },
   "source": "help(100)",
   "execution_count": null,
   "outputs": [
    {
     "name": "stdout",
     "text": "Help on int object:\n\nclass int(object)\n |  int([x]) -> integer\n |  int(x, base=10) -> integer\n |  \n |  Convert a number or string to an integer, or return 0 if no arguments\n |  are given.  If x is a number, return x.__int__().  For floating point\n |  numbers, this truncates towards zero.\n |  \n |  If x is not a number or if base is given, then x must be a string,\n |  bytes, or bytearray instance representing an integer literal in the\n |  given base.  The literal can be preceded by '+' or '-' and be surrounded\n |  by whitespace.  The base defaults to 10.  Valid bases are 0 and 2-36.\n |  Base 0 means to interpret the base from the string as an integer literal.\n |  >>> int('0b100', base=0)\n |  4\n |  \n |  Built-in subclasses:\n |      bool\n |  \n |  Methods defined here:\n |  \n |  __abs__(self, /)\n |      abs(self)\n |  \n |  __add__(self, value, /)\n |      Return self+value.\n |  \n |  __and__(self, value, /)\n |      Return self&value.\n |  \n |  __bool__(self, /)\n |      self != 0\n |  \n |  __ceil__(...)\n |      Ceiling of an Integral returns itself.\n |  \n |  __divmod__(self, value, /)\n |      Return divmod(self, value).\n |  \n |  __eq__(self, value, /)\n |      Return self==value.\n |  \n |  __float__(self, /)\n |      float(self)\n |  \n |  __floor__(...)\n |      Flooring an Integral returns itself.\n |  \n |  __floordiv__(self, value, /)\n |      Return self//value.\n |  \n |  __format__(self, format_spec, /)\n |      Default object formatter.\n |  \n |  __ge__(self, value, /)\n |      Return self>=value.\n |  \n |  __getattribute__(self, name, /)\n |      Return getattr(self, name).\n |  \n |  __getnewargs__(self, /)\n |  \n |  __gt__(self, value, /)\n |      Return self>value.\n |  \n |  __hash__(self, /)\n |      Return hash(self).\n |  \n |  __index__(self, /)\n |      Return self converted to an integer, if self is suitable for use as an index into a list.\n |  \n |  __int__(self, /)\n |      int(self)\n |  \n |  __invert__(self, /)\n |      ~self\n |  \n |  __le__(self, value, /)\n |      Return self<=value.\n |  \n |  __lshift__(self, value, /)\n |      Return self<<value.\n |  \n |  __lt__(self, value, /)\n |      Return self<value.\n |  \n |  __mod__(self, value, /)\n |      Return self%value.\n |  \n |  __mul__(self, value, /)\n |      Return self*value.\n |  \n |  __ne__(self, value, /)\n |      Return self!=value.\n |  \n |  __neg__(self, /)\n |      -self\n |  \n |  __or__(self, value, /)\n |      Return self|value.\n |  \n |  __pos__(self, /)\n |      +self\n |  \n |  __pow__(self, value, mod=None, /)\n |      Return pow(self, value, mod).\n |  \n |  __radd__(self, value, /)\n |      Return value+self.\n |  \n |  __rand__(self, value, /)\n |      Return value&self.\n |  \n |  __rdivmod__(self, value, /)\n |      Return divmod(value, self).\n |  \n |  __repr__(self, /)\n |      Return repr(self).\n |  \n |  __rfloordiv__(self, value, /)\n |      Return value//self.\n |  \n |  __rlshift__(self, value, /)\n |      Return value<<self.\n |  \n |  __rmod__(self, value, /)\n |      Return value%self.\n |  \n |  __rmul__(self, value, /)\n |      Return value*self.\n |  \n |  __ror__(self, value, /)\n |      Return value|self.\n |  \n |  __round__(...)\n |      Rounding an Integral returns itself.\n |      Rounding with an ndigits argument also returns an integer.\n |  \n |  __rpow__(self, value, mod=None, /)\n |      Return pow(value, self, mod).\n |  \n |  __rrshift__(self, value, /)\n |      Return value>>self.\n |  \n |  __rshift__(self, value, /)\n |      Return self>>value.\n |  \n |  __rsub__(self, value, /)\n |      Return value-self.\n |  \n |  __rtruediv__(self, value, /)\n |      Return value/self.\n |  \n |  __rxor__(self, value, /)\n |      Return value^self.\n |  \n |  __sizeof__(self, /)\n |      Returns size in memory, in bytes.\n |  \n |  __sub__(self, value, /)\n |      Return self-value.\n |  \n |  __truediv__(self, value, /)\n |      Return self/value.\n |  \n |  __trunc__(...)\n |      Truncating an Integral returns itself.\n |  \n |  __xor__(self, value, /)\n |      Return self^value.\n |  \n |  as_integer_ratio(self, /)\n |      Return integer ratio.\n |      \n |      Return a pair of integers, whose ratio is exactly equal to the original int\n |      and with a positive denominator.\n |      \n |      >>> (10).as_integer_ratio()\n |      (10, 1)\n |      >>> (-10).as_integer_ratio()\n |      (-10, 1)\n |      >>> (0).as_integer_ratio()\n |      (0, 1)\n |  \n |  bit_length(self, /)\n |      Number of bits necessary to represent self in binary.\n |      \n |      >>> bin(37)\n |      '0b100101'\n |      >>> (37).bit_length()\n |      6\n |  \n |  conjugate(...)\n |      Returns self, the complex conjugate of any int.\n |  \n |  to_bytes(self, /, length, byteorder, *, signed=False)\n |      Return an array of bytes representing an integer.\n |      \n |      length\n |        Length of bytes object to use.  An OverflowError is raised if the\n |        integer is not representable with the given number of bytes.\n |      byteorder\n |        The byte order used to represent the integer.  If byteorder is 'big',\n |        the most significant byte is at the beginning of the byte array.  If\n |        byteorder is 'little', the most significant byte is at the end of the\n |        byte array.  To request the native byte order of the host system, use\n |        `sys.byteorder' as the byte order value.\n |      signed\n |        Determines whether two's complement is used to represent the integer.\n |        If signed is False and a negative integer is given, an OverflowError\n |        is raised.\n |  \n |  ----------------------------------------------------------------------\n |  Class methods defined here:\n |  \n |  from_bytes(bytes, byteorder, *, signed=False) from builtins.type\n |      Return the integer represented by the given array of bytes.\n |      \n |      bytes\n |        Holds the array of bytes to convert.  The argument must either\n |        support the buffer protocol or be an iterable object producing bytes.\n |        Bytes and bytearray are examples of built-in objects that support the\n |        buffer protocol.\n |      byteorder\n |        The byte order used to represent the integer.  If byteorder is 'big',\n |        the most significant byte is at the beginning of the byte array.  If\n |        byteorder is 'little', the most significant byte is at the end of the\n |        byte array.  To request the native byte order of the host system, use\n |        `sys.byteorder' as the byte order value.\n |      signed\n |        Indicates whether two's complement is used to represent the integer.\n |  \n |  ----------------------------------------------------------------------\n |  Static methods defined here:\n |  \n |  __new__(*args, **kwargs) from builtins.type\n |      Create and return a new object.  See help(type) for accurate signature.\n |  \n |  ----------------------------------------------------------------------\n |  Data descriptors defined here:\n |  \n |  denominator\n |      the denominator of a rational number in lowest terms\n |  \n |  imag\n |      the imaginary part of a complex number\n |  \n |  numerator\n |      the numerator of a rational number in lowest terms\n |  \n |  real\n |      the real part of a complex number\n\n",
     "output_type": "stream"
    }
   ]
  },
  {
   "cell_type": "code",
   "metadata": {
    "tags": [],
    "cell_id": "00059-6b45249c-0583-4833-a42e-fef0586a97bd",
    "deepnote_to_be_reexecuted": false,
    "source_hash": "5426e981",
    "execution_start": 1621663904479,
    "execution_millis": 15,
    "deepnote_cell_type": "code"
   },
   "source": "(10).__add__(4) # 10 + 4",
   "execution_count": null,
   "outputs": [
    {
     "output_type": "execute_result",
     "execution_count": 68,
     "data": {
      "text/plain": "14"
     },
     "metadata": {}
    }
   ]
  },
  {
   "cell_type": "code",
   "metadata": {
    "tags": [],
    "cell_id": "00060-6b464577-9a23-486e-b4ea-12a1a4409987",
    "deepnote_to_be_reexecuted": false,
    "source_hash": "52b2fb42",
    "execution_start": 1621663949921,
    "execution_millis": 7,
    "deepnote_cell_type": "code"
   },
   "source": "(0).__bool__()",
   "execution_count": null,
   "outputs": [
    {
     "output_type": "execute_result",
     "execution_count": 69,
     "data": {
      "text/plain": "False"
     },
     "metadata": {}
    }
   ]
  },
  {
   "cell_type": "code",
   "metadata": {
    "tags": [],
    "cell_id": "00061-8db59c96-505b-4959-9225-d7416db6a5f1",
    "deepnote_to_be_reexecuted": false,
    "source_hash": "346ad3da",
    "execution_start": 1621663999998,
    "execution_millis": 6,
    "deepnote_cell_type": "code"
   },
   "source": "from fractions import Fraction\nfrom decimal import Decimal\nbool(10), bool(1.5), bool(Fraction(3, 4)), bool(Decimal('10.5'))",
   "execution_count": null,
   "outputs": [
    {
     "output_type": "execute_result",
     "execution_count": 70,
     "data": {
      "text/plain": "(True, True, True, True)"
     },
     "metadata": {}
    }
   ]
  },
  {
   "cell_type": "code",
   "metadata": {
    "tags": [],
    "cell_id": "00062-8d2d2fbb-99ee-4a30-8266-cca85bda4d92",
    "deepnote_to_be_reexecuted": false,
    "source_hash": "948e43ab",
    "execution_start": 1621664016522,
    "execution_millis": 11,
    "deepnote_cell_type": "code"
   },
   "source": "bool(0), bool(0.0), bool(Fraction(0,1)), bool(Decimal('0')), bool(0j)",
   "execution_count": null,
   "outputs": [
    {
     "output_type": "execute_result",
     "execution_count": 71,
     "data": {
      "text/plain": "(False, False, False, False, False)"
     },
     "metadata": {}
    }
   ]
  },
  {
   "cell_type": "code",
   "metadata": {
    "tags": [],
    "cell_id": "00063-926aa23d-9b2b-4924-a9c7-7ffebe0d2955",
    "deepnote_to_be_reexecuted": false,
    "source_hash": "4d29c805",
    "execution_start": 1621664033475,
    "execution_millis": 6,
    "deepnote_cell_type": "code"
   },
   "source": "bool([1, 2, 3]), bool((1, 2, 3)), bool('abc'), bool(1j)",
   "execution_count": null,
   "outputs": [
    {
     "output_type": "execute_result",
     "execution_count": 72,
     "data": {
      "text/plain": "(True, True, True, True)"
     },
     "metadata": {}
    }
   ]
  },
  {
   "cell_type": "code",
   "metadata": {
    "tags": [],
    "cell_id": "00064-56da910c-be91-4c38-acd0-326a7ef32735",
    "deepnote_to_be_reexecuted": false,
    "source_hash": "7b74c266",
    "execution_start": 1621664044564,
    "execution_millis": 9,
    "deepnote_cell_type": "code"
   },
   "source": "bool([]), bool(()), bool('')",
   "execution_count": null,
   "outputs": [
    {
     "output_type": "execute_result",
     "execution_count": 73,
     "data": {
      "text/plain": "(False, False, False)"
     },
     "metadata": {}
    }
   ]
  },
  {
   "cell_type": "code",
   "metadata": {
    "tags": [],
    "cell_id": "00065-a82676fb-9e88-4762-ac52-352b4b1aa0db",
    "deepnote_to_be_reexecuted": false,
    "source_hash": "daf36d9b",
    "execution_start": 1621664075050,
    "execution_millis": 11,
    "deepnote_cell_type": "code"
   },
   "source": "bool({'a': 1}), bool({1, 2, 3})",
   "execution_count": null,
   "outputs": [
    {
     "output_type": "execute_result",
     "execution_count": 74,
     "data": {
      "text/plain": "(True, True)"
     },
     "metadata": {}
    }
   ]
  },
  {
   "cell_type": "code",
   "metadata": {
    "tags": [],
    "cell_id": "00066-3b1840e2-d103-4e13-904c-f050b2d2a83f",
    "deepnote_to_be_reexecuted": false,
    "source_hash": "d3eccc2c",
    "execution_start": 1621664081313,
    "execution_millis": 17,
    "deepnote_cell_type": "code"
   },
   "source": "bool({}), bool(set())",
   "execution_count": null,
   "outputs": [
    {
     "output_type": "execute_result",
     "execution_count": 75,
     "data": {
      "text/plain": "(False, False)"
     },
     "metadata": {}
    }
   ]
  },
  {
   "cell_type": "code",
   "metadata": {
    "tags": [],
    "cell_id": "00067-e3ecbd6d-d94d-44c8-8255-c485b078b57a",
    "deepnote_to_be_reexecuted": false,
    "source_hash": "f6f7f2b0",
    "execution_start": 1621664087699,
    "execution_millis": 4,
    "deepnote_cell_type": "code"
   },
   "source": "None",
   "execution_count": null,
   "outputs": []
  },
  {
   "cell_type": "code",
   "metadata": {
    "tags": [],
    "cell_id": "00068-3d19acb7-8bca-4588-b9de-d15376de4ae0",
    "deepnote_to_be_reexecuted": false,
    "source_hash": "147b6e96",
    "execution_start": 1621664309198,
    "execution_millis": 25,
    "deepnote_cell_type": "code"
   },
   "source": "a = []\nif a:\n    print(a[0])\nelse:\n    print('a is None, or a is empty')",
   "execution_count": null,
   "outputs": [
    {
     "name": "stdout",
     "text": "a is None, or a is empty\n",
     "output_type": "stream"
    }
   ]
  },
  {
   "cell_type": "code",
   "metadata": {
    "tags": [],
    "cell_id": "00069-45741a80-4836-4c02-8f6b-a68fa7d3afda",
    "deepnote_to_be_reexecuted": false,
    "source_hash": "ffc10d6e",
    "execution_start": 1621664319802,
    "execution_millis": 0,
    "deepnote_cell_type": "code"
   },
   "source": "a = 'abc'\nif a:\n    print(a[0])\nelse:\n    print('a is None, or a is empty')",
   "execution_count": null,
   "outputs": [
    {
     "name": "stdout",
     "text": "a\n",
     "output_type": "stream"
    }
   ]
  },
  {
   "cell_type": "code",
   "metadata": {
    "tags": [],
    "cell_id": "00070-dfd0cfd8-6f12-4669-abbf-2e8962de7eba",
    "deepnote_to_be_reexecuted": false,
    "source_hash": "8995903e",
    "execution_start": 1621664326558,
    "execution_millis": 10,
    "deepnote_cell_type": "code"
   },
   "source": "a = ''\nif a:\n    print(a[0])\nelse:\n    print('a is None, or a is empty')",
   "execution_count": null,
   "outputs": [
    {
     "name": "stdout",
     "text": "a is None, or a is empty\n",
     "output_type": "stream"
    }
   ]
  },
  {
   "cell_type": "code",
   "metadata": {
    "tags": [],
    "cell_id": "00071-2b7dd235-5288-44f4-a0aa-2a5b9b162a4a",
    "deepnote_to_be_reexecuted": false,
    "source_hash": "8995903e",
    "execution_start": 1621664368790,
    "execution_millis": 5,
    "deepnote_cell_type": "code"
   },
   "source": "a = ''\nif a:\n    print(a[0])\nelse:\n    print('a is None, or a is empty')",
   "execution_count": null,
   "outputs": [
    {
     "name": "stdout",
     "text": "a is None, or a is empty\n",
     "output_type": "stream"
    }
   ]
  },
  {
   "cell_type": "code",
   "metadata": {
    "tags": [],
    "cell_id": "00072-abebce97-fcd1-47ec-a72a-a7f84ff5b1a7",
    "deepnote_to_be_reexecuted": false,
    "source_hash": "1ce15136",
    "execution_start": 1621664452599,
    "execution_millis": 9,
    "deepnote_cell_type": "code"
   },
   "source": "a = 'abc'\nif a is not None and len(a) > 0:\n    print(a[0])\nelse:\n    print('a is None, or a is empty')",
   "execution_count": null,
   "outputs": [
    {
     "name": "stdout",
     "text": "a\n",
     "output_type": "stream"
    }
   ]
  },
  {
   "cell_type": "code",
   "metadata": {
    "tags": [],
    "cell_id": "00073-3d1d0dd0-a698-4c5e-bef7-5ae9fdf731e0",
    "deepnote_to_be_reexecuted": false,
    "source_hash": "e61840ea",
    "execution_start": 1621664478883,
    "execution_millis": 10,
    "deepnote_cell_type": "code"
   },
   "source": "a = '1bc'\n\nif a is not None:\n    print(a[0])",
   "execution_count": null,
   "outputs": [
    {
     "name": "stdout",
     "text": "1\n",
     "output_type": "stream"
    }
   ]
  },
  {
   "cell_type": "code",
   "metadata": {
    "tags": [],
    "cell_id": "00074-7626c71b-3837-4b31-8d8a-0575f8262431",
    "deepnote_to_be_reexecuted": false,
    "source_hash": "70d5f7b3",
    "execution_start": 1621664485104,
    "execution_millis": 16,
    "deepnote_cell_type": "code"
   },
   "source": "a = ''\n\nif a is not None:\n    print(a[0])",
   "execution_count": null,
   "outputs": [
    {
     "output_type": "error",
     "ename": "IndexError",
     "evalue": "string index out of range",
     "traceback": [
      "\u001b[0;31m---------------------------------------------------------------------------\u001b[0m",
      "\u001b[0;31mIndexError\u001b[0m                                Traceback (most recent call last)",
      "\u001b[0;32m<ipython-input-95-1bef260a081a>\u001b[0m in \u001b[0;36m<module>\u001b[0;34m\u001b[0m\n\u001b[1;32m      2\u001b[0m \u001b[0;34m\u001b[0m\u001b[0m\n\u001b[1;32m      3\u001b[0m \u001b[0;32mif\u001b[0m \u001b[0ma\u001b[0m \u001b[0;32mis\u001b[0m \u001b[0;32mnot\u001b[0m \u001b[0;32mNone\u001b[0m\u001b[0;34m:\u001b[0m\u001b[0;34m\u001b[0m\u001b[0;34m\u001b[0m\u001b[0m\n\u001b[0;32m----> 4\u001b[0;31m     \u001b[0mprint\u001b[0m\u001b[0;34m(\u001b[0m\u001b[0ma\u001b[0m\u001b[0;34m[\u001b[0m\u001b[0;36m0\u001b[0m\u001b[0;34m]\u001b[0m\u001b[0;34m)\u001b[0m\u001b[0;34m\u001b[0m\u001b[0;34m\u001b[0m\u001b[0m\n\u001b[0m",
      "\u001b[0;31mIndexError\u001b[0m: string index out of range"
     ]
    }
   ]
  },
  {
   "cell_type": "code",
   "metadata": {
    "tags": [],
    "cell_id": "00075-693ab9f7-dffb-4e77-917e-8e7a185dd14f",
    "deepnote_to_be_reexecuted": false,
    "source_hash": "8e6d5c94",
    "execution_start": 1621664579101,
    "execution_millis": 12,
    "deepnote_cell_type": "code"
   },
   "source": "a = None\nif len(a) > 0:\n    print(a[0])",
   "execution_count": null,
   "outputs": [
    {
     "output_type": "error",
     "ename": "TypeError",
     "evalue": "object of type 'NoneType' has no len()",
     "traceback": [
      "\u001b[0;31m---------------------------------------------------------------------------\u001b[0m",
      "\u001b[0;31mTypeError\u001b[0m                                 Traceback (most recent call last)",
      "\u001b[0;32m<ipython-input-96-cab6f61af012>\u001b[0m in \u001b[0;36m<module>\u001b[0;34m\u001b[0m\n\u001b[1;32m      1\u001b[0m \u001b[0ma\u001b[0m \u001b[0;34m=\u001b[0m \u001b[0;32mNone\u001b[0m\u001b[0;34m\u001b[0m\u001b[0;34m\u001b[0m\u001b[0m\n\u001b[0;32m----> 2\u001b[0;31m \u001b[0;32mif\u001b[0m \u001b[0mlen\u001b[0m\u001b[0;34m(\u001b[0m\u001b[0ma\u001b[0m\u001b[0;34m)\u001b[0m \u001b[0;34m>\u001b[0m \u001b[0;36m0\u001b[0m\u001b[0;34m:\u001b[0m\u001b[0;34m\u001b[0m\u001b[0;34m\u001b[0m\u001b[0m\n\u001b[0m\u001b[1;32m      3\u001b[0m     \u001b[0mprint\u001b[0m\u001b[0;34m(\u001b[0m\u001b[0ma\u001b[0m\u001b[0;34m[\u001b[0m\u001b[0;36m0\u001b[0m\u001b[0;34m]\u001b[0m\u001b[0;34m)\u001b[0m\u001b[0;34m\u001b[0m\u001b[0;34m\u001b[0m\u001b[0m\n",
      "\u001b[0;31mTypeError\u001b[0m: object of type 'NoneType' has no len()"
     ]
    }
   ]
  },
  {
   "cell_type": "code",
   "metadata": {
    "tags": [],
    "cell_id": "00076-ffc5e9f6-c182-4cf3-ae6f-3947dc11fa9d",
    "deepnote_to_be_reexecuted": false,
    "source_hash": "46726b71",
    "execution_start": 1621664611782,
    "execution_millis": 1,
    "deepnote_cell_type": "code"
   },
   "source": "a = None\n\nif a is not None and len(a) > 0:\n    print(a[0])",
   "execution_count": null,
   "outputs": []
  },
  {
   "cell_type": "code",
   "metadata": {
    "tags": [],
    "cell_id": "00077-d0035a72-9038-438a-867f-25fcfe356ff2",
    "deepnote_to_be_reexecuted": false,
    "source_hash": "cdfc998f",
    "execution_start": 1621664641281,
    "execution_millis": 10,
    "deepnote_cell_type": "code"
   },
   "source": "a = None\n\nif len(a) > 0 and a is not None:\n    print(a[0])",
   "execution_count": null,
   "outputs": [
    {
     "output_type": "error",
     "ename": "TypeError",
     "evalue": "object of type 'NoneType' has no len()",
     "traceback": [
      "\u001b[0;31m---------------------------------------------------------------------------\u001b[0m",
      "\u001b[0;31mTypeError\u001b[0m                                 Traceback (most recent call last)",
      "\u001b[0;32m<ipython-input-98-c4135e6aad7f>\u001b[0m in \u001b[0;36m<module>\u001b[0;34m\u001b[0m\n\u001b[1;32m      1\u001b[0m \u001b[0ma\u001b[0m \u001b[0;34m=\u001b[0m \u001b[0;32mNone\u001b[0m\u001b[0;34m\u001b[0m\u001b[0;34m\u001b[0m\u001b[0m\n\u001b[1;32m      2\u001b[0m \u001b[0;34m\u001b[0m\u001b[0m\n\u001b[0;32m----> 3\u001b[0;31m \u001b[0;32mif\u001b[0m \u001b[0mlen\u001b[0m\u001b[0;34m(\u001b[0m\u001b[0ma\u001b[0m\u001b[0;34m)\u001b[0m \u001b[0;34m>\u001b[0m \u001b[0;36m0\u001b[0m \u001b[0;32mand\u001b[0m \u001b[0ma\u001b[0m \u001b[0;32mis\u001b[0m \u001b[0;32mnot\u001b[0m \u001b[0;32mNone\u001b[0m\u001b[0;34m:\u001b[0m\u001b[0;34m\u001b[0m\u001b[0;34m\u001b[0m\u001b[0m\n\u001b[0m\u001b[1;32m      4\u001b[0m     \u001b[0mprint\u001b[0m\u001b[0;34m(\u001b[0m\u001b[0ma\u001b[0m\u001b[0;34m[\u001b[0m\u001b[0;36m0\u001b[0m\u001b[0;34m]\u001b[0m\u001b[0;34m)\u001b[0m\u001b[0;34m\u001b[0m\u001b[0;34m\u001b[0m\u001b[0m\n",
      "\u001b[0;31mTypeError\u001b[0m: object of type 'NoneType' has no len()"
     ]
    }
   ]
  },
  {
   "cell_type": "code",
   "metadata": {
    "tags": [],
    "cell_id": "00078-ab52deb0-45c2-4dff-afe8-0c723a8e7e28",
    "deepnote_to_be_reexecuted": false,
    "source_hash": "6fc27ada",
    "execution_start": 1621664684926,
    "execution_millis": 10,
    "deepnote_cell_type": "code"
   },
   "source": "True or True and False",
   "execution_count": null,
   "outputs": [
    {
     "output_type": "execute_result",
     "execution_count": 99,
     "data": {
      "text/plain": "True"
     },
     "metadata": {}
    }
   ]
  },
  {
   "cell_type": "code",
   "metadata": {
    "tags": [],
    "cell_id": "00079-4afe6c94-df79-469d-9288-d1f263b7e77c",
    "deepnote_to_be_reexecuted": false,
    "source_hash": "1d01b1f4",
    "execution_start": 1621664720330,
    "execution_millis": 11,
    "deepnote_cell_type": "code"
   },
   "source": "# AND has higher precedence\nTrue or (True and False)",
   "execution_count": null,
   "outputs": [
    {
     "output_type": "execute_result",
     "execution_count": 100,
     "data": {
      "text/plain": "True"
     },
     "metadata": {}
    }
   ]
  },
  {
   "cell_type": "code",
   "metadata": {
    "tags": [],
    "cell_id": "00080-8738c8de-e62a-43f9-a7cb-f7afbc850b3c",
    "deepnote_to_be_reexecuted": false,
    "source_hash": "c1637227",
    "execution_start": 1621664731482,
    "execution_millis": 6,
    "deepnote_cell_type": "code"
   },
   "source": "(True or True) and False",
   "execution_count": null,
   "outputs": [
    {
     "output_type": "execute_result",
     "execution_count": 101,
     "data": {
      "text/plain": "False"
     },
     "metadata": {}
    }
   ]
  },
  {
   "cell_type": "code",
   "metadata": {
    "tags": [],
    "cell_id": "00081-bad19c17-2b74-4af4-af45-e5c7055790e5",
    "deepnote_to_be_reexecuted": false,
    "source_hash": "8faada2e",
    "execution_start": 1621664761238,
    "execution_millis": 7,
    "deepnote_cell_type": "code"
   },
   "source": "a = 10\nb = 2\n\nif a/b > 2:\n    print('a is at least double of b')",
   "execution_count": null,
   "outputs": [
    {
     "name": "stdout",
     "text": "a is at least double of b\n",
     "output_type": "stream"
    }
   ]
  },
  {
   "cell_type": "code",
   "metadata": {
    "tags": [],
    "cell_id": "00082-5ae5d6c9-9229-4791-b86f-78e87d800352",
    "deepnote_to_be_reexecuted": false,
    "source_hash": "1eb58b42",
    "execution_start": 1621664767525,
    "execution_millis": 15,
    "deepnote_cell_type": "code"
   },
   "source": "a = 10\nb = 0\n\nif a/b > 2:\n    print('a is at least double of b')",
   "execution_count": null,
   "outputs": [
    {
     "output_type": "error",
     "ename": "ZeroDivisionError",
     "evalue": "division by zero",
     "traceback": [
      "\u001b[0;31m---------------------------------------------------------------------------\u001b[0m",
      "\u001b[0;31mZeroDivisionError\u001b[0m                         Traceback (most recent call last)",
      "\u001b[0;32m<ipython-input-103-be3257ca70b6>\u001b[0m in \u001b[0;36m<module>\u001b[0;34m\u001b[0m\n\u001b[1;32m      2\u001b[0m \u001b[0mb\u001b[0m \u001b[0;34m=\u001b[0m \u001b[0;36m0\u001b[0m\u001b[0;34m\u001b[0m\u001b[0;34m\u001b[0m\u001b[0m\n\u001b[1;32m      3\u001b[0m \u001b[0;34m\u001b[0m\u001b[0m\n\u001b[0;32m----> 4\u001b[0;31m \u001b[0;32mif\u001b[0m \u001b[0ma\u001b[0m\u001b[0;34m/\u001b[0m\u001b[0mb\u001b[0m \u001b[0;34m>\u001b[0m \u001b[0;36m2\u001b[0m\u001b[0;34m:\u001b[0m\u001b[0;34m\u001b[0m\u001b[0;34m\u001b[0m\u001b[0m\n\u001b[0m\u001b[1;32m      5\u001b[0m     \u001b[0mprint\u001b[0m\u001b[0;34m(\u001b[0m\u001b[0;34m'a is at least double of b'\u001b[0m\u001b[0;34m)\u001b[0m\u001b[0;34m\u001b[0m\u001b[0;34m\u001b[0m\u001b[0m\n",
      "\u001b[0;31mZeroDivisionError\u001b[0m: division by zero"
     ]
    }
   ]
  },
  {
   "cell_type": "code",
   "metadata": {
    "tags": [],
    "cell_id": "00083-8353708f-bc85-4446-a176-6356c6444b6c",
    "deepnote_to_be_reexecuted": false,
    "source_hash": "90a2dd87",
    "execution_start": 1621664868494,
    "execution_millis": 0,
    "deepnote_cell_type": "code"
   },
   "source": "a = 10\nb = 0\n\nif b and a/b > 2:\n    print('a is at least double of b')",
   "execution_count": null,
   "outputs": []
  },
  {
   "cell_type": "code",
   "metadata": {
    "tags": [],
    "cell_id": "00084-cef05ce7-ee93-46ef-86aa-aad4bf8d8ea2",
    "deepnote_to_be_reexecuted": false,
    "source_hash": "2835128c",
    "execution_start": 1621664883073,
    "execution_millis": 52,
    "deepnote_cell_type": "code"
   },
   "source": "import string\n\nhelp(string)",
   "execution_count": null,
   "outputs": [
    {
     "name": "stdout",
     "text": "Help on module string:\n\nNAME\n    string - A collection of string constants.\n\nMODULE REFERENCE\n    https://docs.python.org/3.8/library/string\n    \n    The following documentation is automatically generated from the Python\n    source files.  It may be incomplete, incorrect or include features that\n    are considered implementation detail and may vary between Python\n    implementations.  When in doubt, consult the module reference at the\n    location listed above.\n\nDESCRIPTION\n    Public module variables:\n    \n    whitespace -- a string containing all ASCII whitespace\n    ascii_lowercase -- a string containing all ASCII lowercase letters\n    ascii_uppercase -- a string containing all ASCII uppercase letters\n    ascii_letters -- a string containing all ASCII letters\n    digits -- a string containing all ASCII decimal digits\n    hexdigits -- a string containing all ASCII hexadecimal digits\n    octdigits -- a string containing all ASCII octal digits\n    punctuation -- a string containing all ASCII punctuation characters\n    printable -- a string containing all ASCII characters considered printable\n\nCLASSES\n    builtins.object\n        Formatter\n        Template\n    \n    class Formatter(builtins.object)\n     |  Methods defined here:\n     |  \n     |  check_unused_args(self, used_args, args, kwargs)\n     |  \n     |  convert_field(self, value, conversion)\n     |  \n     |  format(self, format_string, /, *args, **kwargs)\n     |  \n     |  format_field(self, value, format_spec)\n     |  \n     |  get_field(self, field_name, args, kwargs)\n     |      # given a field_name, find the object it references.\n     |      #  field_name:   the field being looked up, e.g. \"0.name\"\n     |      #                 or \"lookup[3]\"\n     |      #  used_args:    a set of which args have been used\n     |      #  args, kwargs: as passed in to vformat\n     |  \n     |  get_value(self, key, args, kwargs)\n     |  \n     |  parse(self, format_string)\n     |      # returns an iterable that contains tuples of the form:\n     |      # (literal_text, field_name, format_spec, conversion)\n     |      # literal_text can be zero length\n     |      # field_name can be None, in which case there's no\n     |      #  object to format and output\n     |      # if field_name is not None, it is looked up, formatted\n     |      #  with format_spec and conversion and then used\n     |  \n     |  vformat(self, format_string, args, kwargs)\n     |  \n     |  ----------------------------------------------------------------------\n     |  Data descriptors defined here:\n     |  \n     |  __dict__\n     |      dictionary for instance variables (if defined)\n     |  \n     |  __weakref__\n     |      list of weak references to the object (if defined)\n    \n    class Template(builtins.object)\n     |  Template(template)\n     |  \n     |  A string class for supporting $-substitutions.\n     |  \n     |  Methods defined here:\n     |  \n     |  __init__(self, template)\n     |      Initialize self.  See help(type(self)) for accurate signature.\n     |  \n     |  safe_substitute(self, mapping={}, /, **kws)\n     |  \n     |  substitute(self, mapping={}, /, **kws)\n     |  \n     |  ----------------------------------------------------------------------\n     |  Data descriptors defined here:\n     |  \n     |  __dict__\n     |      dictionary for instance variables (if defined)\n     |  \n     |  __weakref__\n     |      list of weak references to the object (if defined)\n     |  \n     |  ----------------------------------------------------------------------\n     |  Data and other attributes defined here:\n     |  \n     |  braceidpattern = None\n     |  \n     |  delimiter = '$'\n     |  \n     |  flags = re.IGNORECASE\n     |  \n     |  idpattern = '(?a:[_a-z][_a-z0-9]*)'\n     |  \n     |  pattern = re.compile('\\n    \\\\$(?:\\n      (?P<escaped>\\\\$)...ced>(?a:[...\n\nFUNCTIONS\n    capwords(s, sep=None)\n        capwords(s [,sep]) -> string\n        \n        Split the argument into words using split, capitalize each\n        word using capitalize, and join the capitalized words using\n        join.  If the optional second argument sep is absent or None,\n        runs of whitespace characters are replaced by a single space\n        and leading and trailing whitespace are removed, otherwise\n        sep is used to split and join the words.\n\nDATA\n    __all__ = ['ascii_letters', 'ascii_lowercase', 'ascii_uppercase', 'cap...\n    ascii_letters = 'abcdefghijklmnopqrstuvwxyzABCDEFGHIJKLMNOPQRSTUVWXYZ'\n    ascii_lowercase = 'abcdefghijklmnopqrstuvwxyz'\n    ascii_uppercase = 'ABCDEFGHIJKLMNOPQRSTUVWXYZ'\n    digits = '0123456789'\n    hexdigits = '0123456789abcdefABCDEF'\n    octdigits = '01234567'\n    printable = '0123456789abcdefghijklmnopqrstuvwxyzABCDEFGHIJKLMNOPQRSTU...\n    punctuation = '!\"#$%&\\'()*+,-./:;<=>?@[\\\\]^_`{|}~'\n    whitespace = ' \\t\\n\\r\\x0b\\x0c'\n\nFILE\n    /usr/local/lib/python3.8/string.py\n\n\n",
     "output_type": "stream"
    }
   ]
  },
  {
   "cell_type": "code",
   "metadata": {
    "tags": [],
    "cell_id": "00085-d2bb8fab-a1a5-442f-a01a-a8e65a8762ab",
    "deepnote_to_be_reexecuted": false,
    "source_hash": "6af2afe1",
    "execution_start": 1621664908103,
    "execution_millis": 6,
    "deepnote_cell_type": "code"
   },
   "source": "string.digits",
   "execution_count": null,
   "outputs": [
    {
     "output_type": "execute_result",
     "execution_count": 106,
     "data": {
      "text/plain": "'0123456789'"
     },
     "metadata": {}
    }
   ]
  },
  {
   "cell_type": "code",
   "metadata": {
    "tags": [],
    "cell_id": "00085-9824a111-ee83-48c2-82b8-3b75d309ae77",
    "deepnote_to_be_reexecuted": false,
    "source_hash": "9a3c0c1c",
    "execution_start": 1621664915315,
    "execution_millis": 8,
    "deepnote_cell_type": "code"
   },
   "source": "string.ascii_letters",
   "execution_count": null,
   "outputs": [
    {
     "output_type": "execute_result",
     "execution_count": 107,
     "data": {
      "text/plain": "'abcdefghijklmnopqrstuvwxyzABCDEFGHIJKLMNOPQRSTUVWXYZ'"
     },
     "metadata": {}
    }
   ]
  },
  {
   "cell_type": "code",
   "metadata": {
    "tags": [],
    "cell_id": "00087-a1cac936-6ed0-4e7c-b3ce-216626873642",
    "deepnote_to_be_reexecuted": false,
    "source_hash": "1e5d053d",
    "execution_start": 1621664958670,
    "execution_millis": 8,
    "deepnote_cell_type": "code"
   },
   "source": "name = ''\nif name[0] in string.digits:\n    print('Name cannot start with a digit')",
   "execution_count": null,
   "outputs": [
    {
     "output_type": "error",
     "ename": "IndexError",
     "evalue": "string index out of range",
     "traceback": [
      "\u001b[0;31m---------------------------------------------------------------------------\u001b[0m",
      "\u001b[0;31mIndexError\u001b[0m                                Traceback (most recent call last)",
      "\u001b[0;32m<ipython-input-108-395b7edaa2bd>\u001b[0m in \u001b[0;36m<module>\u001b[0;34m\u001b[0m\n\u001b[1;32m      1\u001b[0m \u001b[0mname\u001b[0m \u001b[0;34m=\u001b[0m \u001b[0;34m''\u001b[0m\u001b[0;34m\u001b[0m\u001b[0;34m\u001b[0m\u001b[0m\n\u001b[0;32m----> 2\u001b[0;31m \u001b[0;32mif\u001b[0m \u001b[0mname\u001b[0m\u001b[0;34m[\u001b[0m\u001b[0;36m0\u001b[0m\u001b[0;34m]\u001b[0m \u001b[0;32min\u001b[0m \u001b[0mstring\u001b[0m\u001b[0;34m.\u001b[0m\u001b[0mdigits\u001b[0m\u001b[0;34m:\u001b[0m\u001b[0;34m\u001b[0m\u001b[0;34m\u001b[0m\u001b[0m\n\u001b[0m\u001b[1;32m      3\u001b[0m     \u001b[0mprint\u001b[0m\u001b[0;34m(\u001b[0m\u001b[0;34m'Name cannot start with a digit'\u001b[0m\u001b[0;34m)\u001b[0m\u001b[0;34m\u001b[0m\u001b[0;34m\u001b[0m\u001b[0m\n",
      "\u001b[0;31mIndexError\u001b[0m: string index out of range"
     ]
    }
   ]
  },
  {
   "cell_type": "code",
   "metadata": {
    "tags": [],
    "cell_id": "00088-d63e4a16-3f00-46c3-bf71-ca91b84f5ceb",
    "deepnote_to_be_reexecuted": false,
    "source_hash": "4e6cc456",
    "execution_start": 1621664975068,
    "execution_millis": 0,
    "deepnote_cell_type": "code"
   },
   "source": "name = ''\nif name and name[0] in string.digits:\n    print('Name cannot start with a digit')",
   "execution_count": null,
   "outputs": []
  },
  {
   "cell_type": "code",
   "metadata": {
    "tags": [],
    "cell_id": "00089-ea30fc35-1b0f-42cb-8439-86eb1fa4a807",
    "deepnote_to_be_reexecuted": false,
    "source_hash": "ede824bd",
    "execution_start": 1621664984409,
    "execution_millis": 3,
    "deepnote_cell_type": "code"
   },
   "source": "name = None\nif name and name[0] in string.digits:\n    print('Name cannot start with a digit')",
   "execution_count": null,
   "outputs": []
  },
  {
   "cell_type": "code",
   "metadata": {
    "tags": [],
    "cell_id": "00090-1fde6328-c9d6-4815-9cd3-646bc94c98a5",
    "deepnote_to_be_reexecuted": false,
    "source_hash": "3334d025",
    "execution_start": 1621664992869,
    "execution_millis": 0,
    "deepnote_cell_type": "code"
   },
   "source": "name = 'Bob'\nif name and name[0] in string.digits:\n    print('Name cannot start with a digit')",
   "execution_count": null,
   "outputs": []
  },
  {
   "cell_type": "code",
   "metadata": {
    "tags": [],
    "cell_id": "00091-380ae753-fb9c-45d1-acb2-eafdc6c7ae7e",
    "deepnote_to_be_reexecuted": false,
    "source_hash": "2c5d5b76",
    "execution_start": 1621665000480,
    "execution_millis": 16,
    "deepnote_cell_type": "code"
   },
   "source": "name = '1Bob'\nif name and name[0] in string.digits:\n    print('Name cannot start with a digit')",
   "execution_count": null,
   "outputs": [
    {
     "name": "stdout",
     "text": "Name cannot start with a digit\n",
     "output_type": "stream"
    }
   ]
  },
  {
   "cell_type": "code",
   "metadata": {
    "tags": [],
    "cell_id": "00092-bcbca76a-abd8-491c-b43a-b1172ad6ffe7",
    "deepnote_to_be_reexecuted": false,
    "source_hash": "e10c13cc",
    "execution_start": 1621665070966,
    "execution_millis": 8,
    "deepnote_cell_type": "code"
   },
   "source": "'' or 'abc' # X or Y.. if X is falsy, return Y, else return X",
   "execution_count": null,
   "outputs": [
    {
     "output_type": "execute_result",
     "execution_count": 113,
     "data": {
      "text/plain": "'abc'"
     },
     "metadata": {}
    }
   ]
  },
  {
   "cell_type": "code",
   "metadata": {
    "tags": [],
    "cell_id": "00093-3feca034-07da-4dd3-b804-4bd184498021",
    "deepnote_to_be_reexecuted": false,
    "source_hash": "a872cf79",
    "execution_start": 1621665079189,
    "execution_millis": 12,
    "deepnote_cell_type": "code"
   },
   "source": "0 or 100",
   "execution_count": null,
   "outputs": [
    {
     "output_type": "execute_result",
     "execution_count": 114,
     "data": {
      "text/plain": "100"
     },
     "metadata": {}
    }
   ]
  },
  {
   "cell_type": "code",
   "metadata": {
    "tags": [],
    "cell_id": "00094-e994382b-2c7a-4b1e-8412-cac8627b3e7a",
    "deepnote_to_be_reexecuted": false,
    "source_hash": "416f6d3e",
    "execution_start": 1621665085916,
    "execution_millis": 13,
    "deepnote_cell_type": "code"
   },
   "source": "[] or [1, 2, 3]",
   "execution_count": null,
   "outputs": [
    {
     "output_type": "execute_result",
     "execution_count": 115,
     "data": {
      "text/plain": "[1, 2, 3]"
     },
     "metadata": {}
    }
   ]
  },
  {
   "cell_type": "code",
   "metadata": {
    "tags": [],
    "cell_id": "00095-78f176e9-0b00-4c93-997c-cec029e08b6d",
    "deepnote_to_be_reexecuted": false,
    "source_hash": "83ab6992",
    "execution_start": 1621665121023,
    "execution_millis": 10,
    "deepnote_cell_type": "code"
   },
   "source": "[1, 2] or [1, 2, 3]",
   "execution_count": null,
   "outputs": [
    {
     "output_type": "execute_result",
     "execution_count": 117,
     "data": {
      "text/plain": "[1, 2]"
     },
     "metadata": {}
    }
   ]
  },
  {
   "cell_type": "code",
   "metadata": {
    "tags": [],
    "cell_id": "00096-b6986bf3-769e-473c-927f-d28c63b637a5",
    "deepnote_to_be_reexecuted": false,
    "source_hash": "54d476f9",
    "execution_start": 1621665132250,
    "execution_millis": 18,
    "deepnote_cell_type": "code"
   },
   "source": "[1, 2] or AMERICA",
   "execution_count": null,
   "outputs": [
    {
     "output_type": "execute_result",
     "execution_count": 118,
     "data": {
      "text/plain": "[1, 2]"
     },
     "metadata": {}
    }
   ]
  },
  {
   "cell_type": "code",
   "metadata": {
    "tags": [],
    "cell_id": "00097-352618be-97c7-4555-affc-d41cbc6744dc",
    "deepnote_to_be_reexecuted": false,
    "source_hash": "5d6d466d",
    "execution_start": 1621665168295,
    "execution_millis": 0,
    "deepnote_cell_type": "code"
   },
   "source": "def _or(x, y):\n    if x:\n        return x\n    else:\n        return y",
   "execution_count": null,
   "outputs": []
  },
  {
   "cell_type": "code",
   "metadata": {
    "tags": [],
    "cell_id": "00098-30ecbc4f-4c91-441b-8380-702c9236a8ee",
    "deepnote_to_be_reexecuted": false,
    "source_hash": "5720c2d8",
    "execution_start": 1621665210862,
    "execution_millis": 8,
    "deepnote_cell_type": "code"
   },
   "source": "print(_or(0,100) == (0 or 100))\nprint(_or(None, 'n/a') == (None or 'n/a'))",
   "execution_count": null,
   "outputs": [
    {
     "name": "stdout",
     "text": "True\nTrue\n",
     "output_type": "stream"
    }
   ]
  },
  {
   "cell_type": "code",
   "metadata": {
    "tags": [],
    "cell_id": "00099-5f5773e0-969b-4cc4-8676-666e302e3b4d",
    "deepnote_to_be_reexecuted": false,
    "source_hash": "6f752640",
    "execution_start": 1621665234206,
    "execution_millis": 6,
    "deepnote_cell_type": "code"
   },
   "source": "1 or 1/0",
   "execution_count": null,
   "outputs": [
    {
     "output_type": "execute_result",
     "execution_count": 122,
     "data": {
      "text/plain": "1"
     },
     "metadata": {}
    }
   ]
  },
  {
   "cell_type": "code",
   "metadata": {
    "tags": [],
    "cell_id": "00100-d876cf40-db13-47d1-a0dc-8119ec165511",
    "deepnote_to_be_reexecuted": false,
    "source_hash": "ee548696",
    "execution_start": 1621665244038,
    "execution_millis": 6,
    "deepnote_cell_type": "code"
   },
   "source": "_or(1, 1/0)",
   "execution_count": null,
   "outputs": [
    {
     "output_type": "error",
     "ename": "ZeroDivisionError",
     "evalue": "division by zero",
     "traceback": [
      "\u001b[0;31m---------------------------------------------------------------------------\u001b[0m",
      "\u001b[0;31mZeroDivisionError\u001b[0m                         Traceback (most recent call last)",
      "\u001b[0;32m<ipython-input-123-4e97d541341a>\u001b[0m in \u001b[0;36m<module>\u001b[0;34m\u001b[0m\n\u001b[0;32m----> 1\u001b[0;31m \u001b[0m_or\u001b[0m\u001b[0;34m(\u001b[0m\u001b[0;36m1\u001b[0m\u001b[0;34m,\u001b[0m \u001b[0;36m1\u001b[0m\u001b[0;34m/\u001b[0m\u001b[0;36m0\u001b[0m\u001b[0;34m)\u001b[0m\u001b[0;34m\u001b[0m\u001b[0;34m\u001b[0m\u001b[0m\n\u001b[0m",
      "\u001b[0;31mZeroDivisionError\u001b[0m: division by zero"
     ]
    }
   ]
  },
  {
   "cell_type": "code",
   "metadata": {
    "tags": [],
    "cell_id": "00101-a087db14-d7fd-486e-b9a5-2d80a7bc8d16",
    "deepnote_to_be_reexecuted": false,
    "source_hash": "559a6877",
    "execution_start": 1621665295388,
    "execution_millis": 0,
    "deepnote_cell_type": "code"
   },
   "source": "# X and Y ??? If X is Falsy, return X, otherwise return Y",
   "execution_count": null,
   "outputs": []
  },
  {
   "cell_type": "code",
   "metadata": {
    "tags": [],
    "cell_id": "00102-a014f277-dd7f-4b63-8003-144e81fd3fbe",
    "deepnote_to_be_reexecuted": false,
    "source_hash": "d6ce125d",
    "execution_start": 1621665307199,
    "execution_millis": 2,
    "deepnote_cell_type": "code"
   },
   "source": "s1 = None\ns2 = \"\"\ns3 = 'abc'",
   "execution_count": null,
   "outputs": []
  },
  {
   "cell_type": "code",
   "metadata": {
    "tags": [],
    "cell_id": "00103-77a99e91-e39d-461b-8590-07ef03fab086",
    "deepnote_to_be_reexecuted": false,
    "source_hash": "1aeefa46",
    "execution_start": 1621665363212,
    "execution_millis": 7,
    "deepnote_cell_type": "code"
   },
   "source": "print(s1 and s1[0])\nprint(s2 and s2[0])\nprint(s3 and s3[0])\n",
   "execution_count": null,
   "outputs": [
    {
     "name": "stdout",
     "text": "None\n\na\n",
     "output_type": "stream"
    }
   ]
  },
  {
   "cell_type": "code",
   "metadata": {
    "tags": [],
    "cell_id": "00104-829f9506-800a-4f12-9707-5ec639995404",
    "deepnote_to_be_reexecuted": false,
    "source_hash": "b1e107b1",
    "execution_start": 1621665478766,
    "execution_millis": 12,
    "deepnote_cell_type": "code"
   },
   "source": "print((s1 and s1[0]) or '')\nprint((s2 and s2[0]) or '')\nprint((s3 and s3[0]) or '')",
   "execution_count": null,
   "outputs": [
    {
     "name": "stdout",
     "text": "\n\na\n",
     "output_type": "stream"
    }
   ]
  },
  {
   "cell_type": "code",
   "metadata": {
    "tags": [],
    "cell_id": "00105-0d507734-635b-4dcf-9904-c6e776601aac",
    "deepnote_to_be_reexecuted": false,
    "source_hash": "e0aca5c7",
    "execution_start": 1621665507243,
    "execution_millis": 12,
    "deepnote_cell_type": "code"
   },
   "source": "[1,2] and [1,2,3]\n\n# X and Y ??? If X is Falsy, return X, otherwise return Y",
   "execution_count": null,
   "outputs": [
    {
     "output_type": "execute_result",
     "execution_count": 133,
     "data": {
      "text/plain": "[1, 2, 3]"
     },
     "metadata": {}
    }
   ]
  },
  {
   "cell_type": "code",
   "metadata": {
    "tags": [],
    "cell_id": "00106-a6ea006a-4f85-41b2-b9ed-5f8a7786e8a3",
    "deepnote_to_be_reexecuted": false,
    "source_hash": "e175fb5b",
    "execution_start": 1621665836858,
    "execution_millis": 6,
    "deepnote_cell_type": "code"
   },
   "source": "s1 = None\ns2 = \"\"\ns3 = 'abc'\n\nprint((s1 and s1[0]) or 'improper data')\nprint((s2 and s2[0]) or 'improper data')\nprint((s3 and s3[0]) or 'improper data')",
   "execution_count": null,
   "outputs": [
    {
     "name": "stdout",
     "text": "improper data\nimproper data\na\n",
     "output_type": "stream"
    }
   ]
  },
  {
   "cell_type": "code",
   "metadata": {
    "tags": [],
    "cell_id": "00107-a79d6dfe-3365-42d8-9e58-2608cfcd161e",
    "deepnote_to_be_reexecuted": false,
    "source_hash": "96a8a66c",
    "execution_start": 1621665850085,
    "execution_millis": 11,
    "deepnote_cell_type": "code"
   },
   "source": "not 'abc'",
   "execution_count": null,
   "outputs": [
    {
     "output_type": "execute_result",
     "execution_count": 136,
     "data": {
      "text/plain": "False"
     },
     "metadata": {}
    }
   ]
  },
  {
   "cell_type": "code",
   "metadata": {
    "tags": [],
    "cell_id": "00108-582f79e0-e575-4b57-92ab-91b4ac63ee06",
    "deepnote_to_be_reexecuted": false,
    "source_hash": "7cd03c0e",
    "execution_start": 1621665860963,
    "execution_millis": 9,
    "deepnote_cell_type": "code"
   },
   "source": "not []",
   "execution_count": null,
   "outputs": [
    {
     "output_type": "execute_result",
     "execution_count": 137,
     "data": {
      "text/plain": "True"
     },
     "metadata": {}
    }
   ]
  },
  {
   "cell_type": "code",
   "metadata": {
    "tags": [],
    "cell_id": "00109-98e6b952-5d22-4e70-b290-a5b8bfc5a392",
    "deepnote_to_be_reexecuted": false,
    "source_hash": "393b4f12",
    "execution_start": 1621665865459,
    "execution_millis": 24,
    "deepnote_cell_type": "code"
   },
   "source": "bool(None)",
   "execution_count": null,
   "outputs": [
    {
     "output_type": "execute_result",
     "execution_count": 138,
     "data": {
      "text/plain": "False"
     },
     "metadata": {}
    }
   ]
  },
  {
   "cell_type": "code",
   "metadata": {
    "tags": [],
    "cell_id": "00110-debbac37-276e-4873-98e7-efa44ea8c183",
    "deepnote_to_be_reexecuted": false,
    "source_hash": "b6c9596d",
    "execution_start": 1621665877115,
    "execution_millis": 8,
    "deepnote_cell_type": "code"
   },
   "source": "not None",
   "execution_count": null,
   "outputs": [
    {
     "output_type": "execute_result",
     "execution_count": 139,
     "data": {
      "text/plain": "True"
     },
     "metadata": {}
    }
   ]
  },
  {
   "cell_type": "markdown",
   "source": "# Comparison Operators",
   "metadata": {
    "tags": [],
    "cell_id": "00111-6e117693-100b-4920-8487-027a7faaba20",
    "deepnote_cell_type": "text-cell-h1"
   }
  },
  {
   "cell_type": "code",
   "metadata": {
    "tags": [],
    "cell_id": "00112-264dbd21-3cde-4892-8478-24e8af953505",
    "deepnote_to_be_reexecuted": false,
    "source_hash": "3dd040ec",
    "execution_start": 1621666342706,
    "execution_millis": 0,
    "deepnote_cell_type": "code"
   },
   "source": "# is, is not",
   "execution_count": null,
   "outputs": []
  },
  {
   "cell_type": "code",
   "metadata": {
    "tags": [],
    "cell_id": "00113-3ccb58d2-a48e-4772-8d15-5f473cfcb0da",
    "deepnote_to_be_reexecuted": false,
    "source_hash": "66af9e8",
    "execution_start": 1621666356349,
    "execution_millis": 15,
    "deepnote_cell_type": "code"
   },
   "source": "0.1 is(3 + 4j)",
   "execution_count": null,
   "outputs": [
    {
     "name": "stderr",
     "text": "<>:1: SyntaxWarning: \"is\" with a literal. Did you mean \"==\"?\n<>:1: SyntaxWarning: \"is\" with a literal. Did you mean \"==\"?\n<ipython-input-143-0c2efb61d440>:1: SyntaxWarning: \"is\" with a literal. Did you mean \"==\"?\n  0.1 is(3 + 4j)\n",
     "output_type": "stream"
    },
    {
     "output_type": "execute_result",
     "execution_count": 143,
     "data": {
      "text/plain": "False"
     },
     "metadata": {}
    }
   ]
  },
  {
   "cell_type": "code",
   "metadata": {
    "tags": [],
    "cell_id": "00114-4a562fc0-4896-4af9-befa-851c479fcf3b",
    "deepnote_to_be_reexecuted": false,
    "source_hash": "69f4f53e",
    "execution_start": 1621666364547,
    "execution_millis": 9,
    "deepnote_cell_type": "code"
   },
   "source": "'a' is [1, 2, 3]",
   "execution_count": null,
   "outputs": [
    {
     "name": "stderr",
     "text": "<>:1: SyntaxWarning: \"is\" with a literal. Did you mean \"==\"?\n<>:1: SyntaxWarning: \"is\" with a literal. Did you mean \"==\"?\n<ipython-input-144-c732fae4c41a>:1: SyntaxWarning: \"is\" with a literal. Did you mean \"==\"?\n  'a' is [1, 2, 3]\n",
     "output_type": "stream"
    },
    {
     "output_type": "execute_result",
     "execution_count": 144,
     "data": {
      "text/plain": "False"
     },
     "metadata": {}
    }
   ]
  },
  {
   "cell_type": "code",
   "metadata": {
    "tags": [],
    "cell_id": "00115-a8bedbea-abfb-4e18-adf8-83eb3a29b73e",
    "deepnote_to_be_reexecuted": false,
    "source_hash": "a4d89a01",
    "execution_start": 1621666375007,
    "execution_millis": 2,
    "deepnote_cell_type": "code"
   },
   "source": "# in, not in",
   "execution_count": null,
   "outputs": []
  },
  {
   "cell_type": "code",
   "metadata": {
    "tags": [],
    "cell_id": "00116-006dd694-35e5-43a8-9a38-c39c87c711b5",
    "deepnote_to_be_reexecuted": false,
    "source_hash": "f3c2542a",
    "execution_start": 1621666402546,
    "execution_millis": 10,
    "deepnote_cell_type": "code"
   },
   "source": "1 in [1, 2, 3, 4]",
   "execution_count": null,
   "outputs": [
    {
     "output_type": "execute_result",
     "execution_count": 146,
     "data": {
      "text/plain": "True"
     },
     "metadata": {}
    }
   ]
  },
  {
   "cell_type": "code",
   "metadata": {
    "tags": [],
    "cell_id": "00117-24cfc472-6158-45e1-a556-fb4cbafc99c2",
    "deepnote_to_be_reexecuted": false,
    "source_hash": "f2970474",
    "execution_start": 1621666416989,
    "execution_millis": 0,
    "deepnote_cell_type": "code"
   },
   "source": "[1, 2] in [1, 2, 3]",
   "execution_count": null,
   "outputs": [
    {
     "output_type": "execute_result",
     "execution_count": 147,
     "data": {
      "text/plain": "False"
     },
     "metadata": {}
    }
   ]
  },
  {
   "cell_type": "code",
   "metadata": {
    "tags": [],
    "cell_id": "00118-50e356cb-ddc0-4da1-a6ae-685cdbf0f1c1",
    "deepnote_to_be_reexecuted": false,
    "source_hash": "f4924144",
    "execution_start": 1621666424062,
    "execution_millis": 8,
    "deepnote_cell_type": "code"
   },
   "source": "[1, 2] in [[1, 2], 3]",
   "execution_count": null,
   "outputs": [
    {
     "output_type": "execute_result",
     "execution_count": 148,
     "data": {
      "text/plain": "True"
     },
     "metadata": {}
    }
   ]
  },
  {
   "cell_type": "code",
   "metadata": {
    "tags": [],
    "cell_id": "00119-68be9188-ae6d-499c-80d8-f05a28b1ab11",
    "deepnote_to_be_reexecuted": false,
    "source_hash": "1eae2a50",
    "execution_start": 1621666458494,
    "execution_millis": 9,
    "deepnote_cell_type": "code"
   },
   "source": "'key1' in {'key1': 1, 'key2': 2}",
   "execution_count": null,
   "outputs": [
    {
     "output_type": "execute_result",
     "execution_count": 150,
     "data": {
      "text/plain": "True"
     },
     "metadata": {}
    }
   ]
  },
  {
   "cell_type": "code",
   "metadata": {
    "tags": [],
    "cell_id": "00120-97fe8dfd-1bb9-411f-b01c-e2e9196a1b3d",
    "deepnote_to_be_reexecuted": false,
    "source_hash": "1d71bd5d",
    "execution_start": 1621666472490,
    "execution_millis": 8,
    "deepnote_cell_type": "code"
   },
   "source": "1 in {'key1': 1, 'key2': 2}",
   "execution_count": null,
   "outputs": [
    {
     "output_type": "execute_result",
     "execution_count": 151,
     "data": {
      "text/plain": "False"
     },
     "metadata": {}
    }
   ]
  },
  {
   "cell_type": "code",
   "metadata": {
    "tags": [],
    "cell_id": "00121-b9ac1f1a-cb8f-4945-83bb-bf303c3d4bc1",
    "deepnote_to_be_reexecuted": false,
    "source_hash": "f830d754",
    "execution_start": 1621666489920,
    "execution_millis": 0,
    "deepnote_cell_type": "code"
   },
   "source": "# ==, !=",
   "execution_count": null,
   "outputs": []
  },
  {
   "cell_type": "code",
   "metadata": {
    "tags": [],
    "cell_id": "00122-47e4b9ef-c781-4068-924c-c321f0542659",
    "deepnote_to_be_reexecuted": false,
    "source_hash": "73bb2e03",
    "execution_start": 1621666509325,
    "execution_millis": 8,
    "deepnote_cell_type": "code"
   },
   "source": "1 == '1'",
   "execution_count": null,
   "outputs": [
    {
     "output_type": "execute_result",
     "execution_count": 153,
     "data": {
      "text/plain": "False"
     },
     "metadata": {}
    }
   ]
  },
  {
   "cell_type": "code",
   "metadata": {
    "tags": [],
    "cell_id": "00123-00e91de7-c4aa-426e-987d-3180de8e9617",
    "deepnote_to_be_reexecuted": false,
    "source_hash": "9459d1b5",
    "execution_start": 1621666519835,
    "execution_millis": 0,
    "deepnote_cell_type": "code"
   },
   "source": "from decimal import Decimal\nfrom fractions import Fraction",
   "execution_count": null,
   "outputs": []
  },
  {
   "cell_type": "code",
   "metadata": {
    "tags": [],
    "cell_id": "00124-f569cd05-d4f1-4207-9810-9fb8c83e93cf",
    "deepnote_to_be_reexecuted": false,
    "source_hash": "1e13aab2",
    "execution_start": 1621666524644,
    "execution_millis": 11,
    "deepnote_cell_type": "code"
   },
   "source": "Decimal('0.1') == Fraction(1, 10)",
   "execution_count": null,
   "outputs": [
    {
     "output_type": "execute_result",
     "execution_count": 155,
     "data": {
      "text/plain": "True"
     },
     "metadata": {}
    }
   ]
  },
  {
   "cell_type": "code",
   "metadata": {
    "tags": [],
    "cell_id": "00125-67689aee-41c4-4c8f-9caa-6329d79f43f9",
    "deepnote_to_be_reexecuted": false,
    "source_hash": "39b9a6a9",
    "execution_start": 1621666533086,
    "execution_millis": 6,
    "deepnote_cell_type": "code"
   },
   "source": "1 == 1 + 0j",
   "execution_count": null,
   "outputs": [
    {
     "output_type": "execute_result",
     "execution_count": 156,
     "data": {
      "text/plain": "True"
     },
     "metadata": {}
    }
   ]
  },
  {
   "cell_type": "code",
   "metadata": {
    "tags": [],
    "cell_id": "00126-fe1b245d-6c41-4720-9c67-b1e517676936",
    "deepnote_to_be_reexecuted": false,
    "source_hash": "17c8164",
    "execution_start": 1621666543988,
    "execution_millis": 10,
    "deepnote_cell_type": "code"
   },
   "source": "True == Fraction(2, 2)",
   "execution_count": null,
   "outputs": [
    {
     "output_type": "execute_result",
     "execution_count": 157,
     "data": {
      "text/plain": "True"
     },
     "metadata": {}
    }
   ]
  },
  {
   "cell_type": "code",
   "metadata": {
    "tags": [],
    "cell_id": "00127-9894c546-6a8f-4a7e-91d2-80cb2a0fdb40",
    "deepnote_to_be_reexecuted": false,
    "source_hash": "c76eb546",
    "execution_start": 1621666549823,
    "execution_millis": 11,
    "deepnote_cell_type": "code"
   },
   "source": "False == 0j",
   "execution_count": null,
   "outputs": [
    {
     "output_type": "execute_result",
     "execution_count": 158,
     "data": {
      "text/plain": "True"
     },
     "metadata": {}
    }
   ]
  },
  {
   "cell_type": "code",
   "metadata": {
    "tags": [],
    "cell_id": "00128-eba98d0f-5abb-4d1a-889f-aa573de4bbe8",
    "deepnote_to_be_reexecuted": false,
    "source_hash": "12c65996",
    "execution_start": 1621666579356,
    "execution_millis": 11,
    "deepnote_cell_type": "code"
   },
   "source": "1 + 1j < 2 + 2j",
   "execution_count": null,
   "outputs": [
    {
     "output_type": "error",
     "ename": "TypeError",
     "evalue": "'<' not supported between instances of 'complex' and 'complex'",
     "traceback": [
      "\u001b[0;31m---------------------------------------------------------------------------\u001b[0m",
      "\u001b[0;31mTypeError\u001b[0m                                 Traceback (most recent call last)",
      "\u001b[0;32m<ipython-input-159-5f1d9097cf79>\u001b[0m in \u001b[0;36m<module>\u001b[0;34m\u001b[0m\n\u001b[0;32m----> 1\u001b[0;31m \u001b[0;36m1\u001b[0m \u001b[0;34m+\u001b[0m \u001b[0;36m1j\u001b[0m \u001b[0;34m<\u001b[0m \u001b[0;36m2\u001b[0m \u001b[0;34m+\u001b[0m \u001b[0;36m2j\u001b[0m\u001b[0;34m\u001b[0m\u001b[0;34m\u001b[0m\u001b[0m\n\u001b[0m",
      "\u001b[0;31mTypeError\u001b[0m: '<' not supported between instances of 'complex' and 'complex'"
     ]
    }
   ]
  },
  {
   "cell_type": "code",
   "metadata": {
    "tags": [],
    "cell_id": "00129-cfb98760-9173-4d4e-af7a-48cc31e7945d",
    "deepnote_to_be_reexecuted": false,
    "source_hash": "d84716a5",
    "execution_start": 1621666586362,
    "execution_millis": 15,
    "deepnote_cell_type": "code"
   },
   "source": "1 < 'a'",
   "execution_count": null,
   "outputs": [
    {
     "output_type": "error",
     "ename": "TypeError",
     "evalue": "'<' not supported between instances of 'int' and 'str'",
     "traceback": [
      "\u001b[0;31m---------------------------------------------------------------------------\u001b[0m",
      "\u001b[0;31mTypeError\u001b[0m                                 Traceback (most recent call last)",
      "\u001b[0;32m<ipython-input-160-4751c80d99ec>\u001b[0m in \u001b[0;36m<module>\u001b[0;34m\u001b[0m\n\u001b[0;32m----> 1\u001b[0;31m \u001b[0;36m1\u001b[0m \u001b[0;34m<\u001b[0m \u001b[0;34m'a'\u001b[0m\u001b[0;34m\u001b[0m\u001b[0;34m\u001b[0m\u001b[0m\n\u001b[0m",
      "\u001b[0;31mTypeError\u001b[0m: '<' not supported between instances of 'int' and 'str'"
     ]
    }
   ]
  },
  {
   "cell_type": "code",
   "metadata": {
    "tags": [],
    "cell_id": "00130-b4f9d6bd-a467-4497-b02a-d97c5a987771",
    "deepnote_to_be_reexecuted": false,
    "source_hash": "9f88cad4",
    "execution_start": 1621666595698,
    "execution_millis": 10,
    "deepnote_cell_type": "code"
   },
   "source": "Decimal('0.1') < Fraction(1, 2)",
   "execution_count": null,
   "outputs": [
    {
     "output_type": "execute_result",
     "execution_count": 161,
     "data": {
      "text/plain": "True"
     },
     "metadata": {}
    }
   ]
  },
  {
   "cell_type": "code",
   "metadata": {
    "tags": [],
    "cell_id": "00131-3162c7e4-df6a-4fc4-8871-c71b991a234e",
    "deepnote_to_be_reexecuted": false,
    "source_hash": "3a0c4f14",
    "execution_start": 1621666642316,
    "execution_millis": 9,
    "deepnote_cell_type": "code"
   },
   "source": "1 < 2 < 3 # Python simply ANDS the pairwse comparison.. 1 < 2 and 2 < 3",
   "execution_count": null,
   "outputs": [
    {
     "output_type": "execute_result",
     "execution_count": 163,
     "data": {
      "text/plain": "True"
     },
     "metadata": {}
    }
   ]
  },
  {
   "cell_type": "code",
   "metadata": {
    "tags": [],
    "cell_id": "00132-01ee7132-4d9c-4278-92d8-c13af081c2b2",
    "deepnote_to_be_reexecuted": false,
    "source_hash": "885b5b0b",
    "execution_start": 1621666665162,
    "execution_millis": 7,
    "deepnote_cell_type": "code"
   },
   "source": "1 < 2 > -5 < 50 > 4",
   "execution_count": null,
   "outputs": [
    {
     "output_type": "execute_result",
     "execution_count": 164,
     "data": {
      "text/plain": "True"
     },
     "metadata": {}
    }
   ]
  },
  {
   "cell_type": "code",
   "metadata": {
    "tags": [],
    "cell_id": "00133-bfc756e2-739f-43dc-a150-d358290859f2",
    "deepnote_to_be_reexecuted": false,
    "source_hash": "40196a5e",
    "execution_start": 1621666692604,
    "execution_millis": 8,
    "deepnote_cell_type": "code"
   },
   "source": "1 < 2 == Decimal('2.0')",
   "execution_count": null,
   "outputs": [
    {
     "output_type": "execute_result",
     "execution_count": 165,
     "data": {
      "text/plain": "True"
     },
     "metadata": {}
    }
   ]
  },
  {
   "cell_type": "code",
   "metadata": {
    "tags": [],
    "cell_id": "00134-5646ed3b-184e-46a3-a350-099211de8935",
    "deepnote_to_be_reexecuted": false,
    "source_hash": "e022b594",
    "execution_start": 1621666774301,
    "execution_millis": 13,
    "deepnote_cell_type": "code"
   },
   "source": "import string\n\n'A' < 'a' < 'z' > 'Z' in string.ascii_letters",
   "execution_count": null,
   "outputs": [
    {
     "output_type": "execute_result",
     "execution_count": 169,
     "data": {
      "text/plain": "True"
     },
     "metadata": {}
    }
   ]
  },
  {
   "cell_type": "markdown",
   "source": "# Positional Arguments",
   "metadata": {
    "tags": [],
    "cell_id": "00135-f2132506-3da2-4c27-b5f5-b2211e04a61d",
    "deepnote_cell_type": "text-cell-h1"
   }
  },
  {
   "cell_type": "code",
   "metadata": {
    "tags": [],
    "cell_id": "00135-9ed78db0-f219-4625-a194-391f395b9ea0",
    "deepnote_to_be_reexecuted": false,
    "source_hash": "4b7049c5",
    "execution_start": 1621666862158,
    "deepnote_cell_type": "code"
   },
   "source": "def my_func(a, b, c):\n    print(f'{a}, {b}, {c}')\n\nmy_func(1, 2, 3)",
   "execution_count": null,
   "outputs": [
    {
     "name": "stdout",
     "text": "1, 2, 3\n",
     "output_type": "stream"
    }
   ]
  },
  {
   "cell_type": "code",
   "metadata": {
    "tags": [],
    "cell_id": "00137-26a33848-6fa7-423d-acf0-0c5d03b84ed4",
    "deepnote_to_be_reexecuted": false,
    "source_hash": "95d45ebc",
    "execution_start": 1621666885048,
    "execution_millis": 26,
    "deepnote_cell_type": "code"
   },
   "source": "def my_func(a, b = 2, c):\n    print(f'{a}, {b}, {c}')\n\nmy_func(1, 2, 3)",
   "execution_count": null,
   "outputs": [
    {
     "output_type": "error",
     "ename": "SyntaxError",
     "evalue": "non-default argument follows default argument (<ipython-input-171-0928433e977c>, line 1)",
     "traceback": [
      "\u001b[0;36m  File \u001b[0;32m\"<ipython-input-171-0928433e977c>\"\u001b[0;36m, line \u001b[0;32m1\u001b[0m\n\u001b[0;31m    def my_func(a, b = 2, c):\u001b[0m\n\u001b[0m                ^\u001b[0m\n\u001b[0;31mSyntaxError\u001b[0m\u001b[0;31m:\u001b[0m non-default argument follows default argument\n"
     ]
    }
   ]
  },
  {
   "cell_type": "code",
   "metadata": {
    "tags": [],
    "cell_id": "00138-11db8112-9625-48e9-889b-bb5aa2abce2f",
    "deepnote_to_be_reexecuted": false,
    "source_hash": "fceea458",
    "execution_start": 1621666910920,
    "execution_millis": 12,
    "deepnote_cell_type": "code"
   },
   "source": "def my_func(a, b = 2, c = 3):\n    print(f'{a}, {b}, {c}')\n\nmy_func(1, 2, 3)",
   "execution_count": null,
   "outputs": [
    {
     "name": "stdout",
     "text": "1, 2, 3\n",
     "output_type": "stream"
    }
   ]
  },
  {
   "cell_type": "markdown",
   "source": "### Positional Arguments",
   "metadata": {
    "tags": [],
    "cell_id": "00139-f4ae4ae7-6c6f-410d-8edd-20834c414df7",
    "deepnote_cell_type": "text-cell-h3"
   }
  },
  {
   "cell_type": "code",
   "metadata": {
    "tags": [],
    "cell_id": "00139-292bfaf6-5360-4b26-9146-b673ad4f1ade",
    "deepnote_to_be_reexecuted": false,
    "source_hash": "d27a7ff",
    "execution_start": 1621666965333,
    "execution_millis": 12,
    "deepnote_cell_type": "code"
   },
   "source": "my_func(1, 'tsai', 'bangalore'), my_func(1, 'tsai'), my_func('tsai')",
   "execution_count": null,
   "outputs": [
    {
     "name": "stdout",
     "text": "1, tsai, bangalore\n1, tsai, 3\ntsai, 2, 3\n",
     "output_type": "stream"
    },
    {
     "output_type": "execute_result",
     "execution_count": 173,
     "data": {
      "text/plain": "(None, None, None)"
     },
     "metadata": {}
    }
   ]
  },
  {
   "cell_type": "markdown",
   "source": "### Keyword Arguments (named arguments)",
   "metadata": {
    "tags": [],
    "cell_id": "00141-799c37a0-61bc-4665-a705-be733cd2b52b",
    "deepnote_cell_type": "text-cell-h3"
   }
  },
  {
   "cell_type": "code",
   "metadata": {
    "tags": [],
    "cell_id": "00140-4e4850f6-bc98-44b4-9ff7-1fc6687b471b",
    "deepnote_to_be_reexecuted": false,
    "source_hash": "5646605a",
    "execution_start": 1621667128498,
    "execution_millis": 0,
    "deepnote_cell_type": "code"
   },
   "source": "def my_func(a, b = 2, c = 3):\n    print(f'{a}, {b}, {c}')",
   "execution_count": null,
   "outputs": []
  },
  {
   "cell_type": "code",
   "metadata": {
    "tags": [],
    "cell_id": "00143-9813add6-6ee6-4747-9548-442bc91bde00",
    "deepnote_to_be_reexecuted": false,
    "source_hash": "c6e85fd2",
    "execution_start": 1621667177798,
    "execution_millis": 8,
    "deepnote_cell_type": "code"
   },
   "source": "my_func(c=10, b=20, a=30) #10 20 30",
   "execution_count": null,
   "outputs": [
    {
     "name": "stdout",
     "text": "30, 20, 10\n",
     "output_type": "stream"
    }
   ]
  },
  {
   "cell_type": "code",
   "metadata": {
    "tags": [],
    "cell_id": "00144-0da59d48-a00e-4308-9405-5235076229dd",
    "deepnote_to_be_reexecuted": false,
    "source_hash": "38cf89bf",
    "execution_start": 1621667213138,
    "execution_millis": 18,
    "deepnote_cell_type": "code"
   },
   "source": "my_func(10, b = 10, 30)",
   "execution_count": null,
   "outputs": [
    {
     "output_type": "error",
     "ename": "SyntaxError",
     "evalue": "positional argument follows keyword argument (<ipython-input-178-eb26ff2a0f53>, line 1)",
     "traceback": [
      "\u001b[0;36m  File \u001b[0;32m\"<ipython-input-178-eb26ff2a0f53>\"\u001b[0;36m, line \u001b[0;32m1\u001b[0m\n\u001b[0;31m    my_func(10, b = 10, 30)\u001b[0m\n\u001b[0m                        ^\u001b[0m\n\u001b[0;31mSyntaxError\u001b[0m\u001b[0;31m:\u001b[0m positional argument follows keyword argument\n"
     ]
    }
   ]
  },
  {
   "cell_type": "code",
   "metadata": {
    "tags": [],
    "cell_id": "00145-56498721-9856-44a7-93ae-17e5f2488825",
    "deepnote_to_be_reexecuted": false,
    "source_hash": "aa8267a",
    "execution_start": 1621667249614,
    "execution_millis": 10,
    "deepnote_cell_type": "code"
   },
   "source": "my_func(10, b = 10, c = 30)",
   "execution_count": null,
   "outputs": [
    {
     "name": "stdout",
     "text": "10, 10, 30\n",
     "output_type": "stream"
    }
   ]
  },
  {
   "cell_type": "code",
   "metadata": {
    "tags": [],
    "cell_id": "00146-95592835-3930-44bb-a62a-6d5d333c7d15",
    "deepnote_to_be_reexecuted": false,
    "source_hash": "ed319e53",
    "execution_start": 1621667269714,
    "execution_millis": 8,
    "deepnote_cell_type": "code"
   },
   "source": "my_func('abc', c = 10)",
   "execution_count": null,
   "outputs": [
    {
     "name": "stdout",
     "text": "abc, 2, 10\n",
     "output_type": "stream"
    }
   ]
  },
  {
   "cell_type": "code",
   "metadata": {
    "tags": [],
    "cell_id": "00147-588c2b7d-fedd-41a6-9d25-1f4d90d9ab4d",
    "deepnote_to_be_reexecuted": false,
    "source_hash": "306be942",
    "execution_start": 1621667290637,
    "execution_millis": 14,
    "deepnote_cell_type": "code"
   },
   "source": "my_func(a = 'abc', b = 10)",
   "execution_count": null,
   "outputs": [
    {
     "name": "stdout",
     "text": "abc, 10, 3\n",
     "output_type": "stream"
    }
   ]
  },
  {
   "cell_type": "markdown",
   "source": "### Unpacking Iterables",
   "metadata": {
    "tags": [],
    "cell_id": "00148-04021ac1-5d99-4a9d-b5eb-6178d641a837",
    "deepnote_cell_type": "text-cell-h3"
   }
  },
  {
   "cell_type": "code",
   "metadata": {
    "tags": [],
    "cell_id": "00148-d70fc3e6-6f83-4d47-a537-c027c202a4f8",
    "deepnote_to_be_reexecuted": false,
    "source_hash": "6acdcd60",
    "execution_start": 1621667332454,
    "execution_millis": 2,
    "deepnote_cell_type": "code"
   },
   "source": "a = (1, 2, 3)",
   "execution_count": null,
   "outputs": []
  },
  {
   "cell_type": "code",
   "metadata": {
    "tags": [],
    "cell_id": "00150-c935d384-326c-41e4-9403-bd82d3e0ea71",
    "deepnote_to_be_reexecuted": false,
    "source_hash": "d5615e3e",
    "execution_start": 1621667358391,
    "execution_millis": 8,
    "deepnote_cell_type": "code"
   },
   "source": "k, l, m = a\n\nprint(k, l, m)",
   "execution_count": null,
   "outputs": [
    {
     "name": "stdout",
     "text": "1 2 3\n",
     "output_type": "stream"
    }
   ]
  },
  {
   "cell_type": "code",
   "metadata": {
    "tags": [],
    "cell_id": "00151-18a7cf57-c1a5-41cf-9034-13c98bd2256f",
    "deepnote_to_be_reexecuted": false,
    "source_hash": "46911bfa",
    "execution_start": 1621667381700,
    "execution_millis": 11,
    "deepnote_cell_type": "code"
   },
   "source": "l = [1, 2, 3, 4]\na, b, c, d = l\nprint(a, b, c, d)",
   "execution_count": null,
   "outputs": [
    {
     "name": "stdout",
     "text": "1 2 3 4\n",
     "output_type": "stream"
    }
   ]
  },
  {
   "cell_type": "code",
   "metadata": {
    "tags": [],
    "cell_id": "00152-47ec0bf3-28d3-4c01-83b5-30189b9d8477",
    "deepnote_to_be_reexecuted": false,
    "source_hash": "eb05e0d0",
    "execution_start": 1621667389778,
    "execution_millis": 15,
    "deepnote_cell_type": "code"
   },
   "source": "a, b, c = 'XYZ'\nprint(a, b, c)",
   "execution_count": null,
   "outputs": [
    {
     "name": "stdout",
     "text": "X Y Z\n",
     "output_type": "stream"
    }
   ]
  },
  {
   "cell_type": "code",
   "metadata": {
    "tags": [],
    "cell_id": "00153-b6f76a2b-4e65-4cf4-9bf4-efb5aa439909",
    "deepnote_to_be_reexecuted": false,
    "source_hash": "a6561212",
    "execution_start": 1621667475925,
    "execution_millis": 9,
    "deepnote_cell_type": "code"
   },
   "source": "a, *b = 'arnold schwarzenegger '\nprint(a, b)",
   "execution_count": null,
   "outputs": [
    {
     "name": "stdout",
     "text": "a ['r', 'n', 'o', 'l', 'd', ' ', 's', 'c', 'h', 'w', 'a', 'r', 'z', 'e', 'n', 'e', 'g', 'g', 'e', 'r', ' ']\n",
     "output_type": "stream"
    }
   ]
  },
  {
   "cell_type": "code",
   "metadata": {
    "tags": [],
    "cell_id": "00154-c9c45965-6413-4304-b5ac-ba3d75c3b289",
    "deepnote_to_be_reexecuted": false,
    "source_hash": "f26daa9c",
    "execution_start": 1621667534529,
    "execution_millis": 7,
    "deepnote_cell_type": "code"
   },
   "source": "a = 10\nb = 20\nprint(\"a={0}, b={1}\".format(a, b))\n\ntmp = a\na = b\nb = tmp\nprint(\"a={0}, b={1}\".format(a, b))",
   "execution_count": null,
   "outputs": [
    {
     "name": "stdout",
     "text": "a=10, b=20\na=20, b=10\n",
     "output_type": "stream"
    }
   ]
  },
  {
   "cell_type": "code",
   "metadata": {
    "tags": [],
    "cell_id": "00155-c7b8167b-701d-43ef-88f3-bd9cdd0bf1f1",
    "deepnote_to_be_reexecuted": false,
    "source_hash": "a5139d06",
    "execution_start": 1621667551261,
    "execution_millis": 10,
    "deepnote_cell_type": "code"
   },
   "source": "a, b = 10, 20\nb, a = a, b\n\nprint(a, b)",
   "execution_count": null,
   "outputs": [
    {
     "name": "stdout",
     "text": "20 10\n",
     "output_type": "stream"
    }
   ]
  },
  {
   "cell_type": "code",
   "metadata": {
    "tags": [],
    "cell_id": "00156-74c37de2-3306-42bc-9bcd-b38d273d428f",
    "deepnote_to_be_reexecuted": false,
    "source_hash": "16ba3b09",
    "execution_start": 1621667602770,
    "execution_millis": 9,
    "deepnote_cell_type": "code"
   },
   "source": "dict1 = {'p': 1, 'y': 2, 't': 3, 'h': 4, 'o': 5, 'n': 6}\ndict1",
   "execution_count": null,
   "outputs": [
    {
     "output_type": "execute_result",
     "execution_count": 194,
     "data": {
      "text/plain": "{'p': 1, 'y': 2, 't': 3, 'h': 4, 'o': 5, 'n': 6}"
     },
     "metadata": {}
    }
   ]
  },
  {
   "cell_type": "code",
   "metadata": {
    "tags": [],
    "cell_id": "00157-f797d993-5693-404d-a914-2ce63ed41922",
    "deepnote_to_be_reexecuted": false,
    "source_hash": "3f45fb04",
    "execution_start": 1621667646717,
    "execution_millis": 14,
    "deepnote_cell_type": "code"
   },
   "source": "for c in dict1:\n    print(c)",
   "execution_count": null,
   "outputs": [
    {
     "name": "stdout",
     "text": "p\ny\nt\nh\no\nn\n",
     "output_type": "stream"
    }
   ]
  },
  {
   "cell_type": "code",
   "metadata": {
    "tags": [],
    "cell_id": "00158-6a9b9ee0-b117-4de4-9254-a85877ed4829",
    "deepnote_to_be_reexecuted": false,
    "source_hash": "e67ed019",
    "execution_start": 1621667665426,
    "execution_millis": 9,
    "deepnote_cell_type": "code"
   },
   "source": "a, b, c, d, e, f = dict1\nprint(a)\nprint(b)\nprint(c)\nprint(d)\nprint(e)\nprint(f)",
   "execution_count": null,
   "outputs": [
    {
     "name": "stdout",
     "text": "p\ny\nt\nh\no\nn\n",
     "output_type": "stream"
    }
   ]
  },
  {
   "cell_type": "code",
   "metadata": {
    "tags": [],
    "cell_id": "00159-1b492f60-a7d3-48a2-ac3c-9d08d87b6cc3",
    "deepnote_to_be_reexecuted": false,
    "source_hash": "49663ee6",
    "execution_start": 1621667680018,
    "execution_millis": 0,
    "deepnote_cell_type": "code"
   },
   "source": "s = {'p', 'y', 't', 'h', 'o', 'n'}",
   "execution_count": null,
   "outputs": []
  },
  {
   "cell_type": "code",
   "metadata": {
    "tags": [],
    "cell_id": "00160-33628b0b-b607-45c3-9f48-3a4b3a04655c",
    "deepnote_to_be_reexecuted": false,
    "source_hash": "f38f1c34",
    "execution_start": 1621667686503,
    "execution_millis": 12,
    "deepnote_cell_type": "code"
   },
   "source": "for c in s:\n    print(c)",
   "execution_count": null,
   "outputs": [
    {
     "name": "stdout",
     "text": "t\np\nn\nh\no\ny\n",
     "output_type": "stream"
    }
   ]
  },
  {
   "cell_type": "code",
   "metadata": {
    "tags": [],
    "cell_id": "00161-fa8c9634-b2d1-49f2-8b7a-9a69bdec1c65",
    "deepnote_to_be_reexecuted": false,
    "source_hash": "cc99c879",
    "execution_start": 1621667731702,
    "execution_millis": 0,
    "deepnote_cell_type": "code"
   },
   "source": "a, b, c, d, e, f = s",
   "execution_count": null,
   "outputs": []
  },
  {
   "cell_type": "code",
   "metadata": {
    "tags": [],
    "cell_id": "00162-2d3e113d-1901-41c7-aa4a-d14788d0b772",
    "deepnote_to_be_reexecuted": false,
    "source_hash": "6012b651",
    "execution_start": 1621667738611,
    "execution_millis": 11,
    "deepnote_cell_type": "code"
   },
   "source": "print(a)\nprint(b)\nprint(c)\nprint(d)\nprint(e)\nprint(f)",
   "execution_count": null,
   "outputs": [
    {
     "name": "stdout",
     "text": "t\np\nn\nh\no\ny\n",
     "output_type": "stream"
    }
   ]
  },
  {
   "cell_type": "code",
   "metadata": {
    "tags": [],
    "cell_id": "00163-2fc3746b-03b5-4d50-8b3b-e47129ed01a7",
    "deepnote_to_be_reexecuted": false,
    "source_hash": "160f332a",
    "execution_start": 1621667890267,
    "execution_millis": 12,
    "deepnote_cell_type": "code"
   },
   "source": "l = [1, 2, 3, 4, 5, 6]\n\na = l[0]\nb = l[1:]\n\na, b",
   "execution_count": null,
   "outputs": [
    {
     "output_type": "execute_result",
     "execution_count": 210,
     "data": {
      "text/plain": "(1, [2, 3, 4, 5, 6])"
     },
     "metadata": {}
    }
   ]
  },
  {
   "cell_type": "code",
   "metadata": {
    "tags": [],
    "cell_id": "00164-a4b18cb2-bbbd-4c5e-8b76-72942e1e89c3",
    "deepnote_to_be_reexecuted": false,
    "source_hash": "1d709686",
    "execution_start": 1621667924923,
    "execution_millis": 8,
    "deepnote_cell_type": "code"
   },
   "source": "a, b = l[0], l[1:]\na, b",
   "execution_count": null,
   "outputs": [
    {
     "output_type": "execute_result",
     "execution_count": 211,
     "data": {
      "text/plain": "(1, [2, 3, 4, 5, 6])"
     },
     "metadata": {}
    }
   ]
  },
  {
   "cell_type": "code",
   "metadata": {
    "tags": [],
    "cell_id": "00165-8645af19-bfbc-4da5-a816-b3c84ac2856e",
    "deepnote_to_be_reexecuted": false,
    "source_hash": "8331f91b",
    "execution_start": 1621667943847,
    "execution_millis": 32,
    "deepnote_cell_type": "code"
   },
   "source": "a, *b = l\na, b",
   "execution_count": null,
   "outputs": [
    {
     "output_type": "execute_result",
     "execution_count": 212,
     "data": {
      "text/plain": "(1, [2, 3, 4, 5, 6])"
     },
     "metadata": {}
    }
   ]
  },
  {
   "cell_type": "code",
   "metadata": {
    "tags": [],
    "cell_id": "00166-3e5d81a9-d729-4997-904e-815e61944a03",
    "deepnote_to_be_reexecuted": false,
    "source_hash": "4c78e9b3",
    "execution_start": 1621667979259,
    "execution_millis": 16,
    "deepnote_cell_type": "code"
   },
   "source": "a, *b = (1, 2, 3, 4)\na, b",
   "execution_count": null,
   "outputs": [
    {
     "output_type": "execute_result",
     "execution_count": 213,
     "data": {
      "text/plain": "(1, [2, 3, 4])"
     },
     "metadata": {}
    }
   ]
  },
  {
   "cell_type": "code",
   "metadata": {
    "tags": [],
    "cell_id": "00167-82d5989f-74b7-486d-8465-30d73a650d97",
    "deepnote_to_be_reexecuted": false,
    "source_hash": "dcb40b0b",
    "execution_start": 1621667998790,
    "execution_millis": 7,
    "deepnote_cell_type": "code"
   },
   "source": "a, *b = 'python'\na, b",
   "execution_count": null,
   "outputs": [
    {
     "output_type": "execute_result",
     "execution_count": 214,
     "data": {
      "text/plain": "('p', ['y', 't', 'h', 'o', 'n'])"
     },
     "metadata": {}
    }
   ]
  },
  {
   "cell_type": "code",
   "metadata": {
    "tags": [],
    "cell_id": "00168-35635599-594a-4eb9-981a-4bca8572e027",
    "deepnote_to_be_reexecuted": false,
    "source_hash": "4fff52ac",
    "execution_start": 1621668081132,
    "execution_millis": 8,
    "deepnote_cell_type": "code"
   },
   "source": "s = 'python' # p y n\n\na, b, c, d = s[0], s[1], s[2:-1], s[-1]\nprint(a, b, d)\n",
   "execution_count": null,
   "outputs": [
    {
     "name": "stdout",
     "text": "p y n\n",
     "output_type": "stream"
    }
   ]
  },
  {
   "cell_type": "code",
   "metadata": {
    "tags": [],
    "cell_id": "00169-f4d62c37-ebcb-44e4-9b12-ef55ffed9774",
    "deepnote_to_be_reexecuted": false,
    "source_hash": "22aa2693",
    "execution_start": 1621668218158,
    "execution_millis": 18,
    "deepnote_cell_type": "code"
   },
   "source": "a, b, *c, d = 'pythonisreallyamazing'\na, b, c, d",
   "execution_count": null,
   "outputs": [
    {
     "output_type": "execute_result",
     "execution_count": 226,
     "data": {
      "text/plain": "('p',\n 'y',\n ['t',\n  'h',\n  'o',\n  'n',\n  'i',\n  's',\n  'r',\n  'e',\n  'a',\n  'l',\n  'l',\n  'y',\n  'a',\n  'm',\n  'a',\n  'z',\n  'i',\n  'n'],\n 'g')"
     },
     "metadata": {}
    }
   ]
  },
  {
   "cell_type": "code",
   "metadata": {
    "tags": [],
    "cell_id": "00171-b218a7fe-fc07-448e-a8fa-78bcf902c861",
    "deepnote_to_be_reexecuted": false,
    "source_hash": "e6044340",
    "execution_start": 1621668221962,
    "execution_millis": 11,
    "deepnote_cell_type": "code"
   },
   "source": "c = ''.join(c)\nc",
   "execution_count": null,
   "outputs": [
    {
     "output_type": "execute_result",
     "execution_count": 227,
     "data": {
      "text/plain": "'thonisreallyamazin'"
     },
     "metadata": {}
    }
   ]
  },
  {
   "cell_type": "code",
   "metadata": {
    "tags": [],
    "cell_id": "00172-0ab71b38-082a-4bca-a495-37741ed14c26",
    "deepnote_to_be_reexecuted": false,
    "source_hash": "75259d81",
    "execution_start": 1621668255615,
    "execution_millis": 19,
    "deepnote_cell_type": "code"
   },
   "source": "l1 = [1, 2, 3]\nl2 = [4, 5, 6]\nl = [*l1, *l2]\nl",
   "execution_count": null,
   "outputs": [
    {
     "output_type": "execute_result",
     "execution_count": 228,
     "data": {
      "text/plain": "[1, 2, 3, 4, 5, 6]"
     },
     "metadata": {}
    }
   ]
  },
  {
   "cell_type": "code",
   "metadata": {
    "tags": [],
    "cell_id": "00172-e0c86f01-11b9-451d-84ee-b254d27885ce",
    "deepnote_to_be_reexecuted": false,
    "source_hash": "adcda5c7",
    "execution_start": 1621668277346,
    "execution_millis": 20,
    "deepnote_cell_type": "code"
   },
   "source": "l1 = [1, 2, 3]\nl2 = 'ABC'\nl = [*l1, *l2]\nl",
   "execution_count": null,
   "outputs": [
    {
     "output_type": "execute_result",
     "execution_count": 229,
     "data": {
      "text/plain": "[1, 2, 3, 'A', 'B', 'C']"
     },
     "metadata": {}
    }
   ]
  },
  {
   "cell_type": "code",
   "metadata": {
    "tags": [],
    "cell_id": "00173-bd0782da-a544-4a17-8e1d-55c10b972381",
    "deepnote_to_be_reexecuted": false,
    "source_hash": "f9636794",
    "execution_start": 1621668286528,
    "execution_millis": 1,
    "deepnote_cell_type": "code"
   },
   "source": "s = {10, -99, 3, 'd'}",
   "execution_count": null,
   "outputs": []
  },
  {
   "cell_type": "code",
   "metadata": {
    "tags": [],
    "cell_id": "00174-29e6bb48-5bbe-4b43-89bb-9c68041a60df",
    "deepnote_to_be_reexecuted": false,
    "source_hash": "665934e7",
    "execution_start": 1621668299970,
    "execution_millis": 10,
    "deepnote_cell_type": "code"
   },
   "source": "l1 = [1, 2, 3]\nl2 = 'ABC'\nl = [*l1, *l2, *s]\nl",
   "execution_count": null,
   "outputs": [
    {
     "output_type": "execute_result",
     "execution_count": 231,
     "data": {
      "text/plain": "[1, 2, 3, 'A', 'B', 'C', 'd', 10, 3, -99]"
     },
     "metadata": {}
    }
   ]
  },
  {
   "cell_type": "code",
   "metadata": {
    "tags": [],
    "cell_id": "00175-9cbac873-5316-422f-a3ee-dd74da3e66f0",
    "deepnote_to_be_reexecuted": false,
    "source_hash": "e38f18d4",
    "execution_start": 1621668384889,
    "execution_millis": 10,
    "deepnote_cell_type": "code"
   },
   "source": "def func(*args, **kwargs):\n    print(args, kwargs)\n\nfunc(10, 20, 30, 40, 50, 60, a= 10, b = 20, c =30)",
   "execution_count": null,
   "outputs": [
    {
     "name": "stdout",
     "text": "(10, 20, 30, 40, 50, 60) {'a': 10, 'b': 20, 'c': 30}\n",
     "output_type": "stream"
    }
   ]
  },
  {
   "cell_type": "code",
   "metadata": {
    "tags": [],
    "cell_id": "00176-f64bb25f-8dde-4150-999b-298faf599b39",
    "deepnote_to_be_reexecuted": false,
    "source_hash": "63e2d325",
    "execution_start": 1621668415838,
    "execution_millis": 7,
    "deepnote_cell_type": "code"
   },
   "source": "d1 = {'key1': 1, 'key2': 2}\nd2 = {'key2': 3, 'key3': 3}\n[*d1, *d2]",
   "execution_count": null,
   "outputs": [
    {
     "output_type": "execute_result",
     "execution_count": 235,
     "data": {
      "text/plain": "['key1', 'key2', 'key2', 'key3']"
     },
     "metadata": {}
    }
   ]
  },
  {
   "cell_type": "code",
   "metadata": {
    "tags": [],
    "cell_id": "00177-34041965-cbfe-49ed-a7c2-78aa5f5f6429",
    "deepnote_to_be_reexecuted": false,
    "source_hash": "1cf2f15e",
    "execution_start": 1621668460954,
    "execution_millis": 7,
    "deepnote_cell_type": "code"
   },
   "source": "d1 = {'key1': 1, 'key2': 2}\nd2 = {'key2': 3, 'key3': 3}\n\n{**d1, **d2}",
   "execution_count": null,
   "outputs": [
    {
     "output_type": "execute_result",
     "execution_count": 236,
     "data": {
      "text/plain": "{'key1': 1, 'key2': 3, 'key3': 3}"
     },
     "metadata": {}
    }
   ]
  },
  {
   "cell_type": "code",
   "metadata": {
    "tags": [],
    "cell_id": "00178-4737d7d6-88ad-4789-ab81-ea9d0ba63f2f",
    "deepnote_to_be_reexecuted": false,
    "source_hash": "f1e326c8",
    "execution_start": 1621668516022,
    "execution_millis": 8,
    "deepnote_cell_type": "code"
   },
   "source": "{'a': 1, 'b': 2, **d1, **d2, 'c':3}",
   "execution_count": null,
   "outputs": [
    {
     "output_type": "execute_result",
     "execution_count": 237,
     "data": {
      "text/plain": "{'a': 1, 'b': 2, 'key1': 1, 'key2': 3, 'key3': 3, 'c': 3}"
     },
     "metadata": {}
    }
   ]
  },
  {
   "cell_type": "code",
   "metadata": {
    "tags": [],
    "cell_id": "00179-f7a2956f-0684-4528-a060-788991f77e5d",
    "deepnote_to_be_reexecuted": false,
    "source_hash": "bfae39dc",
    "execution_start": 1621668534226,
    "execution_millis": 8,
    "deepnote_cell_type": "code"
   },
   "source": "a, b, (c, d) = [1, 2, ['X', 'Y']]\nprint(a)\nprint(b)\nprint(c)\nprint(d)",
   "execution_count": null,
   "outputs": [
    {
     "name": "stdout",
     "text": "1\n2\nX\nY\n",
     "output_type": "stream"
    }
   ]
  },
  {
   "cell_type": "code",
   "metadata": {
    "tags": [],
    "cell_id": "00180-7695acfd-d033-4fd3-921a-9d68457cdf74",
    "deepnote_to_be_reexecuted": false,
    "source_hash": "bdaae411",
    "execution_start": 1621668544446,
    "execution_millis": 8,
    "deepnote_cell_type": "code"
   },
   "source": "a, b, (c, d) = [1, 2, 'XY']\nprint(a)\nprint(b)\nprint(c)\nprint(d)",
   "execution_count": null,
   "outputs": [
    {
     "name": "stdout",
     "text": "1\n2\nX\nY\n",
     "output_type": "stream"
    }
   ]
  },
  {
   "cell_type": "code",
   "metadata": {
    "tags": [],
    "cell_id": "00181-d4b1ed7e-8118-4490-bb93-9cf2b3cbf2e0",
    "deepnote_to_be_reexecuted": false,
    "source_hash": "5b60e27c",
    "execution_start": 1621668567739,
    "execution_millis": 12,
    "deepnote_cell_type": "code"
   },
   "source": "a, b, (c, d, *e) = [1, 2, 'python']\nprint(a)\nprint(b)\nprint(c)\nprint(d)\nprint(e)",
   "execution_count": null,
   "outputs": [
    {
     "name": "stdout",
     "text": "1\n2\np\ny\n['t', 'h', 'o', 'n']\n",
     "output_type": "stream"
    }
   ]
  },
  {
   "cell_type": "code",
   "metadata": {
    "tags": [],
    "cell_id": "00182-0a36e988-a7b9-4cd9-a404-771867dfda03",
    "deepnote_to_be_reexecuted": false,
    "source_hash": "8876d5e1",
    "execution_start": 1621668589754,
    "execution_millis": 10,
    "deepnote_cell_type": "code"
   },
   "source": "a, *b, (c, d, *e) = [1, 2, 3, 'python']\nprint(a)\nprint(b)\nprint(c)\nprint(d)\nprint(e)",
   "execution_count": null,
   "outputs": [
    {
     "name": "stdout",
     "text": "1\n[2, 3]\np\ny\n['t', 'h', 'o', 'n']\n",
     "output_type": "stream"
    }
   ]
  },
  {
   "cell_type": "code",
   "metadata": {
    "tags": [],
    "cell_id": "00183-7aee060f-d7a5-4608-b855-c57cef86ddb4",
    "deepnote_to_be_reexecuted": false,
    "source_hash": "12118b78",
    "execution_start": 1621668606337,
    "execution_millis": 8,
    "deepnote_cell_type": "code"
   },
   "source": "a, *b, tmp = [1, 2, 3, 'python']\nprint(a)\nprint(b)\nprint(tmp)",
   "execution_count": null,
   "outputs": [
    {
     "name": "stdout",
     "text": "1\n[2, 3]\npython\n",
     "output_type": "stream"
    }
   ]
  },
  {
   "cell_type": "code",
   "metadata": {
    "tags": [],
    "cell_id": "00184-5faf2934-58f2-4bcf-b4a6-cb342575db70",
    "deepnote_to_be_reexecuted": false,
    "source_hash": "8876d5e1",
    "execution_start": 1621668628826,
    "execution_millis": 15,
    "deepnote_cell_type": "code"
   },
   "source": "a, *b, (c, d, *e) = [1, 2, 3, 'python']\nprint(a)\nprint(b)\nprint(c)\nprint(d)\nprint(e)",
   "execution_count": null,
   "outputs": [
    {
     "name": "stdout",
     "text": "1\n[2, 3]\np\ny\n['t', 'h', 'o', 'n']\n",
     "output_type": "stream"
    }
   ]
  },
  {
   "cell_type": "code",
   "metadata": {
    "tags": [],
    "cell_id": "00185-92452148-65fe-4c22-903d-89ee9498f01f",
    "deepnote_to_be_reexecuted": false,
    "source_hash": "c22c50f0",
    "execution_start": 1621668664666,
    "execution_millis": 8,
    "deepnote_cell_type": "code"
   },
   "source": "l = [1, 2, 3, 'python']\nl[0], l[1:-1], l[-1][0], l[-1][1], list(l[-1][2:])",
   "execution_count": null,
   "outputs": [
    {
     "output_type": "execute_result",
     "execution_count": 244,
     "data": {
      "text/plain": "(1, [2, 3], 'p', 'y', ['t', 'h', 'o', 'n'])"
     },
     "metadata": {}
    }
   ]
  },
  {
   "cell_type": "code",
   "metadata": {
    "tags": [],
    "cell_id": "00186-8c66c741-904c-414f-9b1f-cf76935effad",
    "deepnote_to_be_reexecuted": false,
    "source_hash": "faf1afe7",
    "execution_start": 1621668690541,
    "execution_millis": 13,
    "deepnote_cell_type": "code"
   },
   "source": "a, b, *c = 10, 20, 'a', 'b'\nc",
   "execution_count": null,
   "outputs": [
    {
     "output_type": "execute_result",
     "execution_count": 246,
     "data": {
      "text/plain": "['a', 'b']"
     },
     "metadata": {}
    }
   ]
  },
  {
   "cell_type": "code",
   "metadata": {
    "tags": [],
    "cell_id": "00187-d82a426b-eefd-484f-9a10-6f4b9483c2f2",
    "deepnote_to_be_reexecuted": false,
    "source_hash": "f1950fd0",
    "execution_start": 1621668720719,
    "execution_millis": 13,
    "deepnote_cell_type": "code"
   },
   "source": "def func1(a, b, *my_vars):\n    print(a)\n    print(b)\n    print(my_vars)\n\nfunc1(10, 20, 'a', 'b', 'c')",
   "execution_count": null,
   "outputs": [
    {
     "name": "stdout",
     "text": "10\n20\n('a', 'b', 'c')\n",
     "output_type": "stream"
    }
   ]
  },
  {
   "cell_type": "code",
   "metadata": {
    "tags": [],
    "cell_id": "00188-6d0229f3-6e94-41a1-8554-ae8d78c52654",
    "deepnote_to_be_reexecuted": false,
    "source_hash": "243518cf",
    "execution_start": 1621668744423,
    "execution_millis": 0,
    "deepnote_cell_type": "code"
   },
   "source": "def func1(a, b, *c, d):\n    print(a)\n    print(b)\n    print(c)\n    print(d)\n\n",
   "execution_count": null,
   "outputs": []
  },
  {
   "cell_type": "code",
   "metadata": {
    "tags": [],
    "cell_id": "00189-dad68f37-265a-4b0c-8ea6-050f9d611050",
    "deepnote_to_be_reexecuted": false,
    "source_hash": "120d1110",
    "execution_start": 1621668773350,
    "execution_millis": 24,
    "deepnote_cell_type": "code"
   },
   "source": "func1(10, 20, 'a', 'b', 100)",
   "execution_count": null,
   "outputs": [
    {
     "output_type": "error",
     "ename": "TypeError",
     "evalue": "func1() missing 1 required keyword-only argument: 'd'",
     "traceback": [
      "\u001b[0;31m---------------------------------------------------------------------------\u001b[0m",
      "\u001b[0;31mTypeError\u001b[0m                                 Traceback (most recent call last)",
      "\u001b[0;32m<ipython-input-249-ab2765da8fb8>\u001b[0m in \u001b[0;36m<module>\u001b[0;34m\u001b[0m\n\u001b[0;32m----> 1\u001b[0;31m \u001b[0mfunc1\u001b[0m\u001b[0;34m(\u001b[0m\u001b[0;36m10\u001b[0m\u001b[0;34m,\u001b[0m \u001b[0;36m20\u001b[0m\u001b[0;34m,\u001b[0m \u001b[0;34m'a'\u001b[0m\u001b[0;34m,\u001b[0m \u001b[0;34m'b'\u001b[0m\u001b[0;34m,\u001b[0m \u001b[0;36m100\u001b[0m\u001b[0;34m)\u001b[0m\u001b[0;34m\u001b[0m\u001b[0;34m\u001b[0m\u001b[0m\n\u001b[0m",
      "\u001b[0;31mTypeError\u001b[0m: func1() missing 1 required keyword-only argument: 'd'"
     ]
    }
   ]
  },
  {
   "cell_type": "code",
   "metadata": {
    "tags": [],
    "cell_id": "00190-e75c04f7-c2c2-44f2-8ab4-c57cf8daf09b",
    "deepnote_to_be_reexecuted": false,
    "source_hash": "422f99bc",
    "execution_start": 1621668821690,
    "execution_millis": 10,
    "deepnote_cell_type": "code"
   },
   "source": "func1(10, 20, 'a', 'b', d = 100)",
   "execution_count": null,
   "outputs": [
    {
     "name": "stdout",
     "text": "10\n20\n('a', 'b')\n100\n",
     "output_type": "stream"
    }
   ]
  },
  {
   "cell_type": "code",
   "metadata": {
    "tags": [],
    "cell_id": "00191-e7111ebc-de08-491c-9da4-c9d42a81e3df",
    "deepnote_to_be_reexecuted": false,
    "source_hash": "c2a5e18d",
    "execution_start": 1621668844035,
    "execution_millis": 0,
    "deepnote_cell_type": "code"
   },
   "source": "def avg(*args):\n    count = len(args)\n    total = sum(args)\n    return total/count",
   "execution_count": null,
   "outputs": []
  },
  {
   "cell_type": "code",
   "metadata": {
    "tags": [],
    "cell_id": "00192-034b4d60-f92a-4dec-b13f-ad616d1d19b7",
    "deepnote_to_be_reexecuted": false,
    "source_hash": "d476f673",
    "execution_start": 1621668847230,
    "execution_millis": 14,
    "deepnote_cell_type": "code"
   },
   "source": "avg(2, 2, 4, 4)",
   "execution_count": null,
   "outputs": [
    {
     "output_type": "execute_result",
     "execution_count": 252,
     "data": {
      "text/plain": "3.0"
     },
     "metadata": {}
    }
   ]
  },
  {
   "cell_type": "code",
   "metadata": {
    "tags": [],
    "cell_id": "00193-d84ae710-0ad8-4fe1-9f69-e188f9055c8b",
    "deepnote_to_be_reexecuted": false,
    "source_hash": "4c61d379",
    "execution_start": 1621668861519,
    "execution_millis": 16,
    "deepnote_cell_type": "code"
   },
   "source": "avg(2, 2, 4, 4, 2, 2, 4, 4, 2, 2, 4, 4, 2, 2, 4, 4, 2, 2, 4, 4)",
   "execution_count": null,
   "outputs": [
    {
     "output_type": "execute_result",
     "execution_count": 253,
     "data": {
      "text/plain": "3.0"
     },
     "metadata": {}
    }
   ]
  },
  {
   "cell_type": "code",
   "metadata": {
    "tags": [],
    "cell_id": "00194-7e39a0cf-4dbd-4411-b98b-adc8ca392ff0",
    "deepnote_to_be_reexecuted": false,
    "source_hash": "c880ec",
    "execution_start": 1621668874945,
    "execution_millis": 30,
    "deepnote_cell_type": "code"
   },
   "source": "avg()",
   "execution_count": null,
   "outputs": [
    {
     "output_type": "error",
     "ename": "ZeroDivisionError",
     "evalue": "division by zero",
     "traceback": [
      "\u001b[0;31m---------------------------------------------------------------------------\u001b[0m",
      "\u001b[0;31mZeroDivisionError\u001b[0m                         Traceback (most recent call last)",
      "\u001b[0;32m<ipython-input-255-f5d909301850>\u001b[0m in \u001b[0;36m<module>\u001b[0;34m\u001b[0m\n\u001b[0;32m----> 1\u001b[0;31m \u001b[0mavg\u001b[0m\u001b[0;34m(\u001b[0m\u001b[0;34m)\u001b[0m\u001b[0;34m\u001b[0m\u001b[0;34m\u001b[0m\u001b[0m\n\u001b[0m",
      "\u001b[0;32m<ipython-input-251-c60b321b0d9e>\u001b[0m in \u001b[0;36mavg\u001b[0;34m(*args)\u001b[0m\n\u001b[1;32m      2\u001b[0m     \u001b[0mcount\u001b[0m \u001b[0;34m=\u001b[0m \u001b[0mlen\u001b[0m\u001b[0;34m(\u001b[0m\u001b[0margs\u001b[0m\u001b[0;34m)\u001b[0m\u001b[0;34m\u001b[0m\u001b[0;34m\u001b[0m\u001b[0m\n\u001b[1;32m      3\u001b[0m     \u001b[0mtotal\u001b[0m \u001b[0;34m=\u001b[0m \u001b[0msum\u001b[0m\u001b[0;34m(\u001b[0m\u001b[0margs\u001b[0m\u001b[0;34m)\u001b[0m\u001b[0;34m\u001b[0m\u001b[0;34m\u001b[0m\u001b[0m\n\u001b[0;32m----> 4\u001b[0;31m     \u001b[0;32mreturn\u001b[0m \u001b[0mtotal\u001b[0m\u001b[0;34m/\u001b[0m\u001b[0mcount\u001b[0m\u001b[0;34m\u001b[0m\u001b[0;34m\u001b[0m\u001b[0m\n\u001b[0m",
      "\u001b[0;31mZeroDivisionError\u001b[0m: division by zero"
     ]
    }
   ]
  },
  {
   "cell_type": "code",
   "metadata": {
    "tags": [],
    "cell_id": "00195-aba37358-61d5-40cc-bd63-22f1237df33d",
    "deepnote_to_be_reexecuted": false,
    "source_hash": "7da119a7",
    "execution_start": 1621668885641,
    "execution_millis": 4,
    "deepnote_cell_type": "code"
   },
   "source": "def avg(*args):\n    count = len(args)\n    total = sum(args)\n    if count == 0:\n        return 0\n    else:\n        return total/count",
   "execution_count": null,
   "outputs": []
  },
  {
   "cell_type": "code",
   "metadata": {
    "tags": [],
    "cell_id": "00196-a72e4a08-bb99-4a51-a23e-e7590c1dd012",
    "deepnote_cell_type": "code"
   },
   "source": "",
   "execution_count": null,
   "outputs": []
  },
  {
   "cell_type": "markdown",
   "source": "<a style='text-decoration:none;line-height:16px;display:flex;color:#5B5B62;padding:10px;justify-content:end;' href='https://deepnote.com?utm_source=created-in-deepnote-cell&projectId=ec90de38-255d-4b81-a5aa-8cef77d684bf' target=\"_blank\">\n<img alt='Created in deepnote.com' style='display:inline;max-height:16px;margin:0px;margin-right:7.5px;' src='data:image/svg+xml;base64,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' > </img>\nCreated in <span style='font-weight:600;margin-left:4px;'>Deepnote</span></a>",
   "metadata": {
    "tags": [],
    "created_in_deepnote_cell": true,
    "deepnote_cell_type": "markdown"
   }
  }
 ],
 "nbformat": 4,
 "nbformat_minor": 2,
 "metadata": {
  "orig_nbformat": 2,
  "deepnote": {
   "is_reactive": false
  },
  "deepnote_notebook_id": "a73c0b5a-e318-41b3-bf26-c932b7fab7b7",
  "deepnote_execution_queue": []
 }
}