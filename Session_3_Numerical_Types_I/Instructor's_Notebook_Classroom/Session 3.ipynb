{
 "cells": [
  {
   "cell_type": "markdown",
   "source": "# Session 3: Numerical Types - 1",
   "metadata": {
    "tags": [],
    "cell_id": "00000-bb03226f-eb7a-4ded-864f-312b6649192d",
    "deepnote_cell_type": "text-cell-h1"
   }
  },
  {
   "cell_type": "code",
   "metadata": {
    "tags": [],
    "cell_id": "00000-af362355-276e-45bc-81da-f1fac29d8c1a",
    "deepnote_to_be_reexecuted": false,
    "source_hash": "c2d63425",
    "execution_start": 1621057926300,
    "execution_millis": 7,
    "deepnote_cell_type": "code"
   },
   "source": "print(type(100))",
   "execution_count": null,
   "outputs": [
    {
     "name": "stdout",
     "text": "<class 'int'>\n",
     "output_type": "stream"
    }
   ]
  },
  {
   "cell_type": "code",
   "metadata": {
    "tags": [],
    "cell_id": "00002-2f3a5b00-09ad-4492-9c79-61561581abd2",
    "deepnote_to_be_reexecuted": false,
    "source_hash": "d312736d",
    "execution_start": 1621057963172,
    "execution_millis": 20,
    "deepnote_cell_type": "code"
   },
   "source": "import sys",
   "execution_count": null,
   "outputs": []
  },
  {
   "cell_type": "code",
   "metadata": {
    "tags": [],
    "cell_id": "00003-c8f13e43-2a0c-4351-b3a1-b16543a370d0",
    "deepnote_to_be_reexecuted": false,
    "source_hash": "66249027",
    "execution_start": 1621057968897,
    "execution_millis": 8,
    "deepnote_cell_type": "code"
   },
   "source": "sys.getsizeof(0)",
   "execution_count": null,
   "outputs": [
    {
     "output_type": "execute_result",
     "execution_count": 4,
     "data": {
      "text/plain": "24"
     },
     "metadata": {}
    }
   ]
  },
  {
   "cell_type": "code",
   "metadata": {
    "tags": [],
    "cell_id": "00004-15c8dcdc-8b28-465e-8034-f4937d6dc0ff",
    "deepnote_to_be_reexecuted": false,
    "source_hash": "45765708",
    "execution_start": 1621058000223,
    "execution_millis": 10,
    "deepnote_cell_type": "code"
   },
   "source": "sys.getsizeof(1)",
   "execution_count": null,
   "outputs": [
    {
     "output_type": "execute_result",
     "execution_count": 5,
     "data": {
      "text/plain": "28"
     },
     "metadata": {}
    }
   ]
  },
  {
   "cell_type": "code",
   "metadata": {
    "tags": [],
    "cell_id": "00005-90fd533e-01f8-4906-9ede-abb5bb700e66",
    "deepnote_to_be_reexecuted": false,
    "source_hash": "be35aa4d",
    "execution_start": 1621058011022,
    "execution_millis": 5,
    "deepnote_cell_type": "code"
   },
   "source": "sys.getsizeof(2**1000)",
   "execution_count": null,
   "outputs": [
    {
     "output_type": "execute_result",
     "execution_count": 6,
     "data": {
      "text/plain": "160"
     },
     "metadata": {}
    }
   ]
  },
  {
   "cell_type": "code",
   "metadata": {
    "tags": [],
    "cell_id": "00006-d0553c03-a4e9-402d-969a-81fbd37eeb31",
    "deepnote_to_be_reexecuted": false,
    "source_hash": "daaed9b1",
    "execution_start": 1621058073540,
    "execution_millis": 7,
    "deepnote_cell_type": "code"
   },
   "source": "import time",
   "execution_count": null,
   "outputs": []
  },
  {
   "cell_type": "code",
   "metadata": {
    "tags": [],
    "cell_id": "00007-bd9cdd55-9ba3-466d-81fd-0fa73d4529ea",
    "deepnote_to_be_reexecuted": false,
    "source_hash": "fe280292",
    "execution_start": 1621058102478,
    "execution_millis": 8,
    "deepnote_cell_type": "code"
   },
   "source": "def calc(a):\n    for i in range(10_000_000):\n        a * 2",
   "execution_count": null,
   "outputs": []
  },
  {
   "cell_type": "code",
   "metadata": {
    "tags": [],
    "cell_id": "00008-1bab59e7-00b8-4b9c-a5ff-488a670204aa",
    "deepnote_to_be_reexecuted": false,
    "source_hash": "d4f45491",
    "execution_start": 1621058238297,
    "execution_millis": 806,
    "deepnote_cell_type": "code"
   },
   "source": "start = time.perf_counter()\ncalc(10)\nend = time.perf_counter()\nprint(end - start)",
   "execution_count": null,
   "outputs": [
    {
     "name": "stdout",
     "text": "0.7933018090000132\n",
     "output_type": "stream"
    }
   ]
  },
  {
   "cell_type": "code",
   "metadata": {
    "tags": [],
    "cell_id": "00009-322c3b9c-1ad1-49c1-8a62-487241d51e79",
    "deepnote_to_be_reexecuted": false,
    "source_hash": "bbeac2bc",
    "execution_start": 1621058247783,
    "execution_millis": 1601,
    "deepnote_cell_type": "code"
   },
   "source": "start = time.perf_counter()\ncalc(2**100)\nend = time.perf_counter()\nprint(end - start)",
   "execution_count": null,
   "outputs": [
    {
     "name": "stdout",
     "text": "1.61251978100006\n",
     "output_type": "stream"
    }
   ]
  },
  {
   "cell_type": "code",
   "metadata": {
    "tags": [],
    "cell_id": "00010-8d77e650-7edc-4793-b9e6-131a04050c73",
    "deepnote_to_be_reexecuted": false,
    "source_hash": "a8ca2f87",
    "execution_start": 1621058250780,
    "execution_millis": 8364,
    "deepnote_cell_type": "code"
   },
   "source": "start = time.perf_counter()\ncalc(2**10000)\nend = time.perf_counter()\nprint(end - start)",
   "execution_count": null,
   "outputs": [
    {
     "name": "stdout",
     "text": "8.3591343060001\n",
     "output_type": "stream"
    }
   ]
  },
  {
   "cell_type": "markdown",
   "source": "# Integer - Operations",
   "metadata": {
    "tags": [],
    "cell_id": "00011-240b549b-6276-46bd-b530-705f16447e2f",
    "deepnote_cell_type": "text-cell-h1"
   }
  },
  {
   "cell_type": "code",
   "metadata": {
    "tags": [],
    "cell_id": "00011-c41c6665-e808-4069-84fa-296f84e22450",
    "deepnote_to_be_reexecuted": false,
    "source_hash": "b3ff8e5",
    "execution_start": 1621058314786,
    "execution_millis": 5,
    "deepnote_cell_type": "code"
   },
   "source": "type(2 / 3)",
   "execution_count": null,
   "outputs": [
    {
     "output_type": "execute_result",
     "execution_count": 23,
     "data": {
      "text/plain": "float"
     },
     "metadata": {}
    }
   ]
  },
  {
   "cell_type": "code",
   "metadata": {
    "tags": [],
    "cell_id": "00013-a07c3de2-e63b-444d-b2df-3e09806c4306",
    "deepnote_to_be_reexecuted": false,
    "source_hash": "ff143fe",
    "execution_start": 1621058338217,
    "execution_millis": 7,
    "deepnote_cell_type": "code"
   },
   "source": "import math",
   "execution_count": null,
   "outputs": []
  },
  {
   "cell_type": "code",
   "metadata": {
    "tags": [],
    "cell_id": "00014-82651141-e367-42a9-80ac-5f261a7b171e",
    "deepnote_to_be_reexecuted": false,
    "source_hash": "4b641eb3",
    "execution_start": 1621058345264,
    "execution_millis": 14,
    "deepnote_cell_type": "code"
   },
   "source": "math.floor(3.15)",
   "execution_count": null,
   "outputs": [
    {
     "output_type": "execute_result",
     "execution_count": 26,
     "data": {
      "text/plain": "3"
     },
     "metadata": {}
    }
   ]
  },
  {
   "cell_type": "code",
   "metadata": {
    "tags": [],
    "cell_id": "00015-a931af9c-3140-4a8f-9b16-3ccb66277a82",
    "deepnote_to_be_reexecuted": false,
    "source_hash": "b263759d",
    "execution_start": 1621058353075,
    "execution_millis": 6,
    "deepnote_cell_type": "code"
   },
   "source": "math.floor(3.99999999)",
   "execution_count": null,
   "outputs": [
    {
     "output_type": "execute_result",
     "execution_count": 27,
     "data": {
      "text/plain": "3"
     },
     "metadata": {}
    }
   ]
  },
  {
   "cell_type": "code",
   "metadata": {
    "tags": [],
    "cell_id": "00016-06c50c57-fd75-4700-9ce9-b8130905ef9a",
    "deepnote_to_be_reexecuted": false,
    "source_hash": "e04a4ce",
    "execution_start": 1621058362850,
    "execution_millis": 47,
    "deepnote_cell_type": "code"
   },
   "source": "math.floor(-3.15)",
   "execution_count": null,
   "outputs": [
    {
     "output_type": "execute_result",
     "execution_count": 28,
     "data": {
      "text/plain": "-4"
     },
     "metadata": {}
    }
   ]
  },
  {
   "cell_type": "code",
   "metadata": {
    "tags": [],
    "cell_id": "00017-f1759567-d157-4b87-98fa-fe8df45d3aed",
    "deepnote_to_be_reexecuted": false,
    "source_hash": "b9f00b6d",
    "execution_start": 1621058373656,
    "execution_millis": 11,
    "deepnote_cell_type": "code"
   },
   "source": "math.floor(-3.0000000001)",
   "execution_count": null,
   "outputs": [
    {
     "output_type": "execute_result",
     "execution_count": 29,
     "data": {
      "text/plain": "-4"
     },
     "metadata": {}
    }
   ]
  },
  {
   "cell_type": "code",
   "metadata": {
    "tags": [],
    "cell_id": "00018-9c7734f9-bc4b-45e7-a2a6-488c810b11ac",
    "deepnote_to_be_reexecuted": false,
    "source_hash": "3836ea80",
    "execution_start": 1621058380698,
    "execution_millis": 2,
    "deepnote_cell_type": "code"
   },
   "source": "math.floor(-3.0000000001), math.floor(3.99999999)",
   "execution_count": null,
   "outputs": [
    {
     "output_type": "execute_result",
     "execution_count": 30,
     "data": {
      "text/plain": "(-4, 3)"
     },
     "metadata": {}
    }
   ]
  },
  {
   "cell_type": "code",
   "metadata": {
    "tags": [],
    "cell_id": "00019-86d3f7aa-6d34-4754-84fd-d57e243d0226",
    "deepnote_to_be_reexecuted": false,
    "source_hash": "42f0d3c0",
    "execution_start": 1621058443030,
    "execution_millis": 6,
    "deepnote_cell_type": "code"
   },
   "source": "math.floor(-3.0000000000000000000000000000000000000000000000000001), math.floor(3.9999999999999999999999999999999999999999999999999)",
   "execution_count": null,
   "outputs": [
    {
     "output_type": "execute_result",
     "execution_count": 31,
     "data": {
      "text/plain": "(-3, 4)"
     },
     "metadata": {}
    }
   ]
  },
  {
   "cell_type": "code",
   "metadata": {
    "tags": [],
    "cell_id": "00020-ddc495b8-fafc-4f05-a069-4abde57944f3",
    "deepnote_to_be_reexecuted": false,
    "source_hash": "ece23daa",
    "execution_start": 1621058518335,
    "execution_millis": 20,
    "deepnote_cell_type": "code"
   },
   "source": "math.floor(-2.9999)",
   "execution_count": null,
   "outputs": [
    {
     "output_type": "execute_result",
     "execution_count": 32,
     "data": {
      "text/plain": "-3"
     },
     "metadata": {}
    }
   ]
  },
  {
   "cell_type": "code",
   "metadata": {
    "tags": [],
    "cell_id": "00021-2c15043c-18cf-4c97-b271-1e46a83e4309",
    "deepnote_to_be_reexecuted": false,
    "source_hash": "4f8184ae",
    "execution_start": 1621058790860,
    "execution_millis": 9,
    "deepnote_cell_type": "code"
   },
   "source": "a = 3.0000000000000000000000000000000000000000000000000001\n\nprint(f\"%25.25f\" % a)",
   "execution_count": null,
   "outputs": [
    {
     "name": "stdout",
     "text": "3.0000000000000000000000000\n",
     "output_type": "stream"
    }
   ]
  },
  {
   "cell_type": "markdown",
   "source": "## Floor Div",
   "metadata": {
    "tags": [],
    "cell_id": "00022-46940f94-c235-40e3-b931-49b40a99400b",
    "deepnote_cell_type": "text-cell-h2"
   }
  },
  {
   "cell_type": "code",
   "metadata": {
    "tags": [],
    "cell_id": "00023-34803ef1-9685-428e-b30a-c96e7e444290",
    "deepnote_to_be_reexecuted": false,
    "source_hash": "ce407294",
    "execution_start": 1621058884308,
    "execution_millis": 10,
    "deepnote_cell_type": "code"
   },
   "source": "a = 33\nb = 16\nprint(a/b)\nprint(a//b)\nprint(math.floor(a/b))",
   "execution_count": null,
   "outputs": [
    {
     "name": "stdout",
     "text": "2.0625\n2\n2\n",
     "output_type": "stream"
    }
   ]
  },
  {
   "cell_type": "code",
   "metadata": {
    "tags": [],
    "cell_id": "00024-175534d9-e8ce-410b-a1cc-3e356b31cbb5",
    "deepnote_to_be_reexecuted": false,
    "source_hash": "d832d576",
    "execution_start": 1621058917095,
    "execution_millis": 17,
    "deepnote_cell_type": "code"
   },
   "source": "a = -33\nb = 16\nprint(a/b)\nprint(a//b)\nprint(math.floor(a/b))",
   "execution_count": null,
   "outputs": [
    {
     "name": "stdout",
     "text": "-2.0625\n-3\n-3\n",
     "output_type": "stream"
    }
   ]
  },
  {
   "cell_type": "code",
   "metadata": {
    "tags": [],
    "cell_id": "00025-22c9151a-dac1-4bcc-bb54-9bb51e7a2273",
    "deepnote_to_be_reexecuted": false,
    "source_hash": "fe9b6cd7",
    "execution_start": 1621059130272,
    "execution_millis": 6,
    "deepnote_cell_type": "code"
   },
   "source": "# a // b is math.floor(a/b)",
   "execution_count": null,
   "outputs": []
  },
  {
   "cell_type": "code",
   "metadata": {
    "tags": [],
    "cell_id": "00025-590f6617-2cac-4b36-8163-d54904167064",
    "deepnote_to_be_reexecuted": false,
    "source_hash": "2e9365cd",
    "execution_start": 1621059024523,
    "execution_millis": 2,
    "deepnote_cell_type": "code"
   },
   "source": "a = 33\nb = -16\nprint(a/b)\nprint(a//b)\nprint(math.floor(a/b))",
   "execution_count": null,
   "outputs": [
    {
     "name": "stdout",
     "text": "-2.0625\n-3\n-3\n",
     "output_type": "stream"
    }
   ]
  },
  {
   "cell_type": "markdown",
   "source": "# Module Operator ",
   "metadata": {
    "tags": [],
    "cell_id": "00027-a0dfff8d-aff1-4503-8815-0219bb79e467",
    "deepnote_cell_type": "text-cell-h2"
   }
  },
  {
   "cell_type": "markdown",
   "source": "### a = b * (a // b) + a % b",
   "metadata": {
    "tags": [],
    "cell_id": "00028-58776e66-0784-4d1d-8641-774b5d707b43",
    "deepnote_cell_type": "markdown"
   }
  },
  {
   "cell_type": "code",
   "metadata": {
    "tags": [],
    "cell_id": "00027-8dd85ddb-8f71-4d3c-a29c-9ddbe9c1cfa4",
    "deepnote_to_be_reexecuted": false,
    "source_hash": "9ede2fe6",
    "execution_start": 1621059291413,
    "execution_millis": 15,
    "deepnote_cell_type": "code"
   },
   "source": "a = 13\nb = 4 \nprint('{0}/{1} = {2}'.format(a, b, a/b))\nprint('{0}//{1} = {2}'.format(a, b, a//b))\nprint('{0}%{1} = {2}'.format(a, b, a%b))\nprint(a == b * (a // b) + a % b)",
   "execution_count": null,
   "outputs": [
    {
     "name": "stdout",
     "text": "13/4 = 3.25\n13//4 = 3\n13%4 = 1\nTrue\n",
     "output_type": "stream"
    }
   ]
  },
  {
   "cell_type": "code",
   "metadata": {
    "tags": [],
    "cell_id": "00030-ac973a4f-0c91-46bb-be91-533c1c36e75a",
    "deepnote_to_be_reexecuted": false,
    "source_hash": "c1c8262e",
    "execution_start": 1621059314906,
    "execution_millis": 11,
    "deepnote_cell_type": "code"
   },
   "source": "a = -13\nb = 4\nprint('{0}/{1} = {2}'.format(a, b, a/b))\nprint('{0}//{1} = {2}'.format(a, b, a//b))\nprint('{0}%{1} = {2}'.format(a, b, a%b))\nprint(a == b * (a//b) + a%b)",
   "execution_count": null,
   "outputs": [
    {
     "name": "stdout",
     "text": "-13/4 = -3.25\n-13//4 = -4\n-13%4 = 3\nTrue\n",
     "output_type": "stream"
    }
   ]
  },
  {
   "cell_type": "code",
   "metadata": {
    "tags": [],
    "cell_id": "00031-457d8d7c-db7c-4698-9d54-c0b08cde6972",
    "deepnote_to_be_reexecuted": false,
    "source_hash": "41f88705",
    "execution_start": 1621059451118,
    "execution_millis": 6,
    "deepnote_cell_type": "code"
   },
   "source": "a = 13\nb = -4\nprint('{0}/{1} = {2}'.format(a, b, a/b))\nprint('{0}//{1} = {2}'.format(a, b, a//b))\nprint('{0}%{1} = {2}'.format(a, b, a%b))\nprint(a == b * (a//b) + a%b)",
   "execution_count": null,
   "outputs": [
    {
     "name": "stdout",
     "text": "13/-4 = -3.25\n13//-4 = -4\n13%-4 = -3\nTrue\n",
     "output_type": "stream"
    }
   ]
  },
  {
   "cell_type": "code",
   "metadata": {
    "tags": [],
    "cell_id": "00032-22430203-fadd-4ff6-97ba-df5f86b3630a",
    "deepnote_to_be_reexecuted": false,
    "source_hash": "56725e28",
    "execution_start": 1621059530342,
    "execution_millis": 7,
    "deepnote_cell_type": "code"
   },
   "source": "a = -13\nb = -4\nprint('{0}/{1} = {2}'.format(a, b, a/b))\nprint('{0}//{1} = {2}'.format(a, b, a//b))\nprint('{0}%{1} = {2}'.format(a, b, a%b))\nprint(a == b * (a//b) + a%b)",
   "execution_count": null,
   "outputs": [
    {
     "name": "stdout",
     "text": "-13/-4 = 3.25\n-13//-4 = 3\n-13%-4 = -1\nTrue\n",
     "output_type": "stream"
    }
   ]
  },
  {
   "cell_type": "markdown",
   "source": "## a&nbsp;==&nbsp;b&nbsp;*&nbsp;(a//b)&nbsp;+&nbsp;a%b",
   "metadata": {
    "tags": [],
    "cell_id": "00033-81994da7-1792-4979-8cc0-78264d4635c3",
    "deepnote_cell_type": "text-cell-h2"
   }
  },
  {
   "cell_type": "code",
   "metadata": {
    "tags": [],
    "cell_id": "00033-b0e0cffb-176f-4736-b6ec-ac86ed9ab5e6",
    "deepnote_to_be_reexecuted": false,
    "source_hash": "7d5ae212",
    "execution_start": 1621059560600,
    "execution_millis": 35,
    "deepnote_cell_type": "code"
   },
   "source": "help(int)",
   "execution_count": null,
   "outputs": [
    {
     "name": "stdout",
     "text": "Help on class int in module builtins:\n\nclass int(object)\n |  int([x]) -> integer\n |  int(x, base=10) -> integer\n |  \n |  Convert a number or string to an integer, or return 0 if no arguments\n |  are given.  If x is a number, return x.__int__().  For floating point\n |  numbers, this truncates towards zero.\n |  \n |  If x is not a number or if base is given, then x must be a string,\n |  bytes, or bytearray instance representing an integer literal in the\n |  given base.  The literal can be preceded by '+' or '-' and be surrounded\n |  by whitespace.  The base defaults to 10.  Valid bases are 0 and 2-36.\n |  Base 0 means to interpret the base from the string as an integer literal.\n |  >>> int('0b100', base=0)\n |  4\n |  \n |  Methods defined here:\n |  \n |  __abs__(self, /)\n |      abs(self)\n |  \n |  __add__(self, value, /)\n |      Return self+value.\n |  \n |  __and__(self, value, /)\n |      Return self&value.\n |  \n |  __bool__(self, /)\n |      self != 0\n |  \n |  __ceil__(...)\n |      Ceiling of an Integral returns itself.\n |  \n |  __divmod__(self, value, /)\n |      Return divmod(self, value).\n |  \n |  __eq__(self, value, /)\n |      Return self==value.\n |  \n |  __float__(self, /)\n |      float(self)\n |  \n |  __floor__(...)\n |      Flooring an Integral returns itself.\n |  \n |  __floordiv__(self, value, /)\n |      Return self//value.\n |  \n |  __format__(self, format_spec, /)\n |      Default object formatter.\n |  \n |  __ge__(self, value, /)\n |      Return self>=value.\n |  \n |  __getattribute__(self, name, /)\n |      Return getattr(self, name).\n |  \n |  __getnewargs__(self, /)\n |  \n |  __gt__(self, value, /)\n |      Return self>value.\n |  \n |  __hash__(self, /)\n |      Return hash(self).\n |  \n |  __index__(self, /)\n |      Return self converted to an integer, if self is suitable for use as an index into a list.\n |  \n |  __int__(self, /)\n |      int(self)\n |  \n |  __invert__(self, /)\n |      ~self\n |  \n |  __le__(self, value, /)\n |      Return self<=value.\n |  \n |  __lshift__(self, value, /)\n |      Return self<<value.\n |  \n |  __lt__(self, value, /)\n |      Return self<value.\n |  \n |  __mod__(self, value, /)\n |      Return self%value.\n |  \n |  __mul__(self, value, /)\n |      Return self*value.\n |  \n |  __ne__(self, value, /)\n |      Return self!=value.\n |  \n |  __neg__(self, /)\n |      -self\n |  \n |  __or__(self, value, /)\n |      Return self|value.\n |  \n |  __pos__(self, /)\n |      +self\n |  \n |  __pow__(self, value, mod=None, /)\n |      Return pow(self, value, mod).\n |  \n |  __radd__(self, value, /)\n |      Return value+self.\n |  \n |  __rand__(self, value, /)\n |      Return value&self.\n |  \n |  __rdivmod__(self, value, /)\n |      Return divmod(value, self).\n |  \n |  __repr__(self, /)\n |      Return repr(self).\n |  \n |  __rfloordiv__(self, value, /)\n |      Return value//self.\n |  \n |  __rlshift__(self, value, /)\n |      Return value<<self.\n |  \n |  __rmod__(self, value, /)\n |      Return value%self.\n |  \n |  __rmul__(self, value, /)\n |      Return value*self.\n |  \n |  __ror__(self, value, /)\n |      Return value|self.\n |  \n |  __round__(...)\n |      Rounding an Integral returns itself.\n |      Rounding with an ndigits argument also returns an integer.\n |  \n |  __rpow__(self, value, mod=None, /)\n |      Return pow(value, self, mod).\n |  \n |  __rrshift__(self, value, /)\n |      Return value>>self.\n |  \n |  __rshift__(self, value, /)\n |      Return self>>value.\n |  \n |  __rsub__(self, value, /)\n |      Return value-self.\n |  \n |  __rtruediv__(self, value, /)\n |      Return value/self.\n |  \n |  __rxor__(self, value, /)\n |      Return value^self.\n |  \n |  __sizeof__(self, /)\n |      Returns size in memory, in bytes.\n |  \n |  __str__(self, /)\n |      Return str(self).\n |  \n |  __sub__(self, value, /)\n |      Return self-value.\n |  \n |  __truediv__(self, value, /)\n |      Return self/value.\n |  \n |  __trunc__(...)\n |      Truncating an Integral returns itself.\n |  \n |  __xor__(self, value, /)\n |      Return self^value.\n |  \n |  bit_length(self, /)\n |      Number of bits necessary to represent self in binary.\n |      \n |      >>> bin(37)\n |      '0b100101'\n |      >>> (37).bit_length()\n |      6\n |  \n |  conjugate(...)\n |      Returns self, the complex conjugate of any int.\n |  \n |  to_bytes(self, /, length, byteorder, *, signed=False)\n |      Return an array of bytes representing an integer.\n |      \n |      length\n |        Length of bytes object to use.  An OverflowError is raised if the\n |        integer is not representable with the given number of bytes.\n |      byteorder\n |        The byte order used to represent the integer.  If byteorder is 'big',\n |        the most significant byte is at the beginning of the byte array.  If\n |        byteorder is 'little', the most significant byte is at the end of the\n |        byte array.  To request the native byte order of the host system, use\n |        `sys.byteorder' as the byte order value.\n |      signed\n |        Determines whether two's complement is used to represent the integer.\n |        If signed is False and a negative integer is given, an OverflowError\n |        is raised.\n |  \n |  ----------------------------------------------------------------------\n |  Class methods defined here:\n |  \n |  from_bytes(bytes, byteorder, *, signed=False) from builtins.type\n |      Return the integer represented by the given array of bytes.\n |      \n |      bytes\n |        Holds the array of bytes to convert.  The argument must either\n |        support the buffer protocol or be an iterable object producing bytes.\n |        Bytes and bytearray are examples of built-in objects that support the\n |        buffer protocol.\n |      byteorder\n |        The byte order used to represent the integer.  If byteorder is 'big',\n |        the most significant byte is at the beginning of the byte array.  If\n |        byteorder is 'little', the most significant byte is at the end of the\n |        byte array.  To request the native byte order of the host system, use\n |        `sys.byteorder' as the byte order value.\n |      signed\n |        Indicates whether two's complement is used to represent the integer.\n |  \n |  ----------------------------------------------------------------------\n |  Static methods defined here:\n |  \n |  __new__(*args, **kwargs) from builtins.type\n |      Create and return a new object.  See help(type) for accurate signature.\n |  \n |  ----------------------------------------------------------------------\n |  Data descriptors defined here:\n |  \n |  denominator\n |      the denominator of a rational number in lowest terms\n |  \n |  imag\n |      the imaginary part of a complex number\n |  \n |  numerator\n |      the numerator of a rational number in lowest terms\n |  \n |  real\n |      the real part of a complex number\n\n",
     "output_type": "stream"
    }
   ]
  },
  {
   "cell_type": "code",
   "metadata": {
    "tags": [],
    "cell_id": "00035-90797827-0249-485f-9c12-802d7b9abc79",
    "deepnote_to_be_reexecuted": false,
    "source_hash": "37563e11",
    "execution_start": 1621059597585,
    "execution_millis": 0,
    "deepnote_cell_type": "code"
   },
   "source": "int(10)",
   "execution_count": null,
   "outputs": [
    {
     "output_type": "execute_result",
     "execution_count": 61,
     "data": {
      "text/plain": "10"
     },
     "metadata": {}
    }
   ]
  },
  {
   "cell_type": "code",
   "metadata": {
    "tags": [],
    "cell_id": "00036-4a42571f-378e-4849-8fcd-ee45164dd37e",
    "deepnote_to_be_reexecuted": false,
    "source_hash": "478aff94",
    "execution_start": 1621059609767,
    "execution_millis": 12,
    "deepnote_cell_type": "code"
   },
   "source": "int(10.9)",
   "execution_count": null,
   "outputs": [
    {
     "output_type": "execute_result",
     "execution_count": 62,
     "data": {
      "text/plain": "10"
     },
     "metadata": {}
    }
   ]
  },
  {
   "cell_type": "code",
   "metadata": {
    "tags": [],
    "cell_id": "00037-0af2e5d6-90ec-496e-884c-53eaca84185d",
    "deepnote_to_be_reexecuted": false,
    "source_hash": "766c1204",
    "execution_start": 1621059626291,
    "execution_millis": 2,
    "deepnote_cell_type": "code"
   },
   "source": "int(-10.9)",
   "execution_count": null,
   "outputs": [
    {
     "output_type": "execute_result",
     "execution_count": 63,
     "data": {
      "text/plain": "-10"
     },
     "metadata": {}
    }
   ]
  },
  {
   "cell_type": "code",
   "metadata": {
    "tags": [],
    "cell_id": "00038-da3174bd-d705-4ddb-8327-626a7544ad44",
    "deepnote_to_be_reexecuted": false,
    "source_hash": "9b715527",
    "execution_start": 1621059641942,
    "execution_millis": 2,
    "deepnote_cell_type": "code"
   },
   "source": "from fractions import Fraction",
   "execution_count": null,
   "outputs": []
  },
  {
   "cell_type": "code",
   "metadata": {
    "tags": [],
    "cell_id": "00039-97d99e68-344a-4f96-ba63-2c02085a1fd5",
    "deepnote_to_be_reexecuted": false,
    "source_hash": "c479d37f",
    "execution_start": 1621059681459,
    "execution_millis": 3,
    "deepnote_cell_type": "code"
   },
   "source": "a = Fraction(22, 7)",
   "execution_count": null,
   "outputs": []
  },
  {
   "cell_type": "code",
   "metadata": {
    "tags": [],
    "cell_id": "00040-4ec3737c-617c-4cec-8172-c905016e8f30",
    "deepnote_to_be_reexecuted": false,
    "source_hash": "ef4233c",
    "execution_start": 1621059695252,
    "execution_millis": 50,
    "deepnote_cell_type": "code"
   },
   "source": "a",
   "execution_count": null,
   "outputs": [
    {
     "output_type": "execute_result",
     "execution_count": 66,
     "data": {
      "text/plain": "Fraction(22, 7)"
     },
     "metadata": {}
    }
   ]
  },
  {
   "cell_type": "code",
   "metadata": {
    "tags": [],
    "cell_id": "00041-8256135c-08f1-4cfb-98a3-3ca663003a68",
    "deepnote_to_be_reexecuted": false,
    "source_hash": "d9c59ab5",
    "execution_start": 1621059728191,
    "execution_millis": 8,
    "deepnote_cell_type": "code"
   },
   "source": "int(a)",
   "execution_count": null,
   "outputs": [
    {
     "output_type": "execute_result",
     "execution_count": 67,
     "data": {
      "text/plain": "3"
     },
     "metadata": {}
    }
   ]
  },
  {
   "cell_type": "code",
   "metadata": {
    "tags": [],
    "cell_id": "00042-9df7952e-c1ff-47ab-95b2-b92de5b09145",
    "deepnote_to_be_reexecuted": false,
    "source_hash": "39ec4905",
    "execution_start": 1621059735449,
    "execution_millis": 10,
    "deepnote_cell_type": "code"
   },
   "source": "int(\"10\")",
   "execution_count": null,
   "outputs": [
    {
     "output_type": "execute_result",
     "execution_count": 68,
     "data": {
      "text/plain": "10"
     },
     "metadata": {}
    }
   ]
  },
  {
   "cell_type": "code",
   "metadata": {
    "tags": [],
    "cell_id": "00043-5149aaae-1a37-4ab9-a3f9-90896500fa2e",
    "deepnote_to_be_reexecuted": false,
    "source_hash": "1e8f8f5a",
    "execution_start": 1621059776379,
    "execution_millis": 9,
    "deepnote_cell_type": "code"
   },
   "source": "int(\"101\", 2)",
   "execution_count": null,
   "outputs": [
    {
     "output_type": "execute_result",
     "execution_count": 69,
     "data": {
      "text/plain": "5"
     },
     "metadata": {}
    }
   ]
  },
  {
   "cell_type": "code",
   "metadata": {
    "tags": [],
    "cell_id": "00044-72f0ffc2-3504-48d3-bab1-e709be400bff",
    "deepnote_to_be_reexecuted": false,
    "source_hash": "577fa570",
    "execution_start": 1621059805908,
    "execution_millis": 10,
    "deepnote_cell_type": "code"
   },
   "source": "int(\"101\", base = 2)",
   "execution_count": null,
   "outputs": [
    {
     "output_type": "execute_result",
     "execution_count": 70,
     "data": {
      "text/plain": "5"
     },
     "metadata": {}
    }
   ]
  },
  {
   "cell_type": "code",
   "metadata": {
    "tags": [],
    "cell_id": "00045-b865a610-3e3c-46d0-9fb1-b1aa5defe6e9",
    "deepnote_to_be_reexecuted": false,
    "source_hash": "c5179aeb",
    "execution_start": 1621059851818,
    "execution_millis": 9,
    "deepnote_cell_type": "code"
   },
   "source": "int(\"BADDAD\", base=16)",
   "execution_count": null,
   "outputs": [
    {
     "output_type": "execute_result",
     "execution_count": 71,
     "data": {
      "text/plain": "12246445"
     },
     "metadata": {}
    }
   ]
  },
  {
   "cell_type": "code",
   "metadata": {
    "tags": [],
    "cell_id": "00046-4bfe0c9a-b182-402c-8aaa-9f414d6abffe",
    "deepnote_to_be_reexecuted": false,
    "source_hash": "fcb975f2",
    "execution_start": 1621059921446,
    "execution_millis": 6,
    "deepnote_cell_type": "code"
   },
   "source": "int(\"F1A\", base=16)",
   "execution_count": null,
   "outputs": [
    {
     "output_type": "execute_result",
     "execution_count": 72,
     "data": {
      "text/plain": "3866"
     },
     "metadata": {}
    }
   ]
  },
  {
   "cell_type": "code",
   "metadata": {
    "tags": [],
    "cell_id": "00047-13b024a7-691f-4d71-ba4e-44e75ef3a0a9",
    "deepnote_to_be_reexecuted": false,
    "source_hash": "27126e70",
    "execution_start": 1621059927133,
    "execution_millis": 10,
    "deepnote_cell_type": "code"
   },
   "source": "int(\"f1a\", base=16)",
   "execution_count": null,
   "outputs": [
    {
     "output_type": "execute_result",
     "execution_count": 73,
     "data": {
      "text/plain": "3866"
     },
     "metadata": {}
    }
   ]
  },
  {
   "cell_type": "code",
   "metadata": {
    "tags": [],
    "cell_id": "00048-b5fb14d9-cde0-4d10-9e61-b9346fd1000d",
    "deepnote_to_be_reexecuted": false,
    "source_hash": "853c604",
    "execution_start": 1621059963745,
    "execution_millis": 12,
    "deepnote_cell_type": "code"
   },
   "source": "int('B1A', base=11)",
   "execution_count": null,
   "outputs": [
    {
     "output_type": "error",
     "ename": "ValueError",
     "evalue": "invalid literal for int() with base 11: 'B1A'",
     "traceback": [
      "\u001b[0;31m---------------------------------------------------------------------------\u001b[0m",
      "\u001b[0;31mValueError\u001b[0m                                Traceback (most recent call last)",
      "\u001b[0;32m<ipython-input-76-dd32d9818d3f>\u001b[0m in \u001b[0;36m<module>\u001b[0;34m\u001b[0m\n\u001b[0;32m----> 1\u001b[0;31m \u001b[0mint\u001b[0m\u001b[0;34m(\u001b[0m\u001b[0;34m'B1A'\u001b[0m\u001b[0;34m,\u001b[0m \u001b[0mbase\u001b[0m\u001b[0;34m=\u001b[0m\u001b[0;36m11\u001b[0m\u001b[0;34m)\u001b[0m\u001b[0;34m\u001b[0m\u001b[0;34m\u001b[0m\u001b[0m\n\u001b[0m",
      "\u001b[0;31mValueError\u001b[0m: invalid literal for int() with base 11: 'B1A'"
     ]
    }
   ]
  },
  {
   "cell_type": "code",
   "metadata": {
    "tags": [],
    "cell_id": "00049-f64f8521-9868-4bcf-96b8-f32abd0652a9",
    "deepnote_to_be_reexecuted": false,
    "source_hash": "1b412adf",
    "execution_start": 1621059971093,
    "execution_millis": 7,
    "deepnote_cell_type": "code"
   },
   "source": "bin(10)",
   "execution_count": null,
   "outputs": [
    {
     "output_type": "execute_result",
     "execution_count": 77,
     "data": {
      "text/plain": "'0b1010'"
     },
     "metadata": {}
    }
   ]
  },
  {
   "cell_type": "code",
   "metadata": {
    "tags": [],
    "cell_id": "00050-eaedf417-f2a9-49c2-89ff-38cc685c8857",
    "deepnote_to_be_reexecuted": false,
    "source_hash": "4d3287c1",
    "execution_start": 1621059987538,
    "execution_millis": 15,
    "deepnote_cell_type": "code"
   },
   "source": "oct(7777)",
   "execution_count": null,
   "outputs": [
    {
     "output_type": "execute_result",
     "execution_count": 79,
     "data": {
      "text/plain": "'0o17141'"
     },
     "metadata": {}
    }
   ]
  },
  {
   "cell_type": "code",
   "metadata": {
    "tags": [],
    "cell_id": "00051-b04ceea8-fa12-45f4-a3c8-04476c341bee",
    "deepnote_to_be_reexecuted": false,
    "source_hash": "4bde7117",
    "execution_start": 1621060018003,
    "execution_millis": 11,
    "deepnote_cell_type": "code"
   },
   "source": "hex(12246445)",
   "execution_count": null,
   "outputs": [
    {
     "output_type": "execute_result",
     "execution_count": 81,
     "data": {
      "text/plain": "'0xbaddad'"
     },
     "metadata": {}
    }
   ]
  },
  {
   "cell_type": "code",
   "metadata": {
    "tags": [],
    "cell_id": "00052-9a1077e5-2c88-402f-b4b6-afaa425ceb5f",
    "deepnote_to_be_reexecuted": false,
    "source_hash": "cdb299dc",
    "execution_start": 1621060075108,
    "execution_millis": 0,
    "deepnote_cell_type": "code"
   },
   "source": "a = int('1010', 2)\nb = int('0b1010', 2)\nc = 0b1010",
   "execution_count": null,
   "outputs": []
  },
  {
   "cell_type": "code",
   "metadata": {
    "tags": [],
    "cell_id": "00053-23694d4a-c820-4c4e-975a-0c5575e84a09",
    "deepnote_to_be_reexecuted": false,
    "source_hash": "87c98e",
    "execution_start": 1621060099065,
    "execution_millis": 22,
    "deepnote_cell_type": "code"
   },
   "source": "print(a, b, c)",
   "execution_count": null,
   "outputs": [
    {
     "name": "stdout",
     "text": "10 10 10\n",
     "output_type": "stream"
    }
   ]
  },
  {
   "cell_type": "code",
   "metadata": {
    "tags": [],
    "cell_id": "00054-b8a0756e-c5d5-406d-8813-782be1905908",
    "deepnote_to_be_reexecuted": false,
    "source_hash": "e791a38c",
    "execution_start": 1621060112194,
    "execution_millis": 1,
    "deepnote_cell_type": "code"
   },
   "source": "a = int('f1a', 16)\nb = int('0xf1a', 16)\nc = 0xf1a",
   "execution_count": null,
   "outputs": []
  },
  {
   "cell_type": "code",
   "metadata": {
    "tags": [],
    "cell_id": "00055-dedfd446-6e45-4a44-b57f-634308bcd128",
    "deepnote_to_be_reexecuted": false,
    "source_hash": "3751582a",
    "execution_start": 1621060128352,
    "execution_millis": 5,
    "deepnote_cell_type": "code"
   },
   "source": "a = 0xf1a\nb = 0xF1a\nc = 0xF1A",
   "execution_count": null,
   "outputs": []
  },
  {
   "cell_type": "code",
   "metadata": {
    "tags": [],
    "cell_id": "00056-a5ebd770-7c88-459d-9587-d023a561d8a4",
    "deepnote_to_be_reexecuted": false,
    "source_hash": "6089e97c",
    "execution_start": 1621060338080,
    "execution_millis": 15,
    "deepnote_cell_type": "code"
   },
   "source": "def from_base10(n, b):\n    if b < 2:\n        raise ValueError('Base b must be >= 2')\n    if n < 0:\n        raise ValueError('Number n must be >= 0')\n    if n == 0:\n        return [0]\n    digits = []\n    while n > 0:\n        # m = n % b\n        # n = n // b\n        # which is the same as:\n        n, m = divmod(n, b)\n        digits.insert(0, m)\n    return digits",
   "execution_count": null,
   "outputs": []
  },
  {
   "cell_type": "code",
   "metadata": {
    "tags": [],
    "cell_id": "00057-72641f79-c423-48ac-ab5e-6cd278b1279d",
    "deepnote_to_be_reexecuted": false,
    "source_hash": "10ece504",
    "execution_start": 1621060345563,
    "execution_millis": 40,
    "deepnote_cell_type": "code"
   },
   "source": "from_base10(10, 2)",
   "execution_count": null,
   "outputs": [
    {
     "output_type": "execute_result",
     "execution_count": 89,
     "data": {
      "text/plain": "[1, 0, 1, 0]"
     },
     "metadata": {}
    }
   ]
  },
  {
   "cell_type": "code",
   "metadata": {
    "tags": [],
    "cell_id": "00058-6b5d016c-7774-49e2-af48-b0cbc01ab529",
    "deepnote_to_be_reexecuted": false,
    "source_hash": "2278bbc0",
    "execution_start": 1621060525559,
    "execution_millis": 8,
    "deepnote_cell_type": "code"
   },
   "source": "from_base10(255, 16)",
   "execution_count": null,
   "outputs": [
    {
     "output_type": "execute_result",
     "execution_count": 90,
     "data": {
      "text/plain": "[15, 15]"
     },
     "metadata": {}
    }
   ]
  },
  {
   "cell_type": "code",
   "metadata": {
    "tags": [],
    "cell_id": "00059-372c81c3-4822-4045-97a3-fea84a6b929f",
    "deepnote_to_be_reexecuted": false,
    "source_hash": "533e6924",
    "execution_start": 1621060688954,
    "execution_millis": 1,
    "deepnote_cell_type": "code"
   },
   "source": "def encode(digits, digit_map):\n    # we require that digit_map has at least as many\n    # characters as the max number in digits\n    if max(digits) >= len(digit_map):\n        raise ValueError(\"digit_map is not long enough to encode digits\")\n    \n    # we'll see this later, but the following would be better:\n    encoding = ''.join([digit_map[d] for d in digits])\n    return encoding\n    ",
   "execution_count": null,
   "outputs": []
  },
  {
   "cell_type": "code",
   "metadata": {
    "tags": [],
    "cell_id": "00060-ed41587d-5618-42f4-9e59-b6f7c87bded2",
    "deepnote_to_be_reexecuted": false,
    "source_hash": "1ba3ec34",
    "execution_start": 1621060741571,
    "execution_millis": 13,
    "deepnote_cell_type": "code"
   },
   "source": "encode([1, 0, 15], \"0123456789ABCDEF\")",
   "execution_count": null,
   "outputs": [
    {
     "output_type": "execute_result",
     "execution_count": 96,
     "data": {
      "text/plain": "'10F'"
     },
     "metadata": {}
    }
   ]
  },
  {
   "cell_type": "code",
   "metadata": {
    "tags": [],
    "cell_id": "00061-080af717-cda1-40c6-a6c4-7dacf67a18d3",
    "deepnote_to_be_reexecuted": false,
    "source_hash": "49463e18",
    "execution_start": 1621060908044,
    "execution_millis": 3,
    "deepnote_cell_type": "code"
   },
   "source": "def rebase_from10(number, base):\n    digit_map = '0123456789ABCDEFGHIJKLMNOPQRSTUVWXYZ'\n    if base < 2 or base > 36:\n        raise ValueError('Invalid base: 2 <= base <= 36')\n    # we store the sign of number and make it positive\n    # we'll re-insert the sign at the end\n    sign = -1 if number < 0 else 1\n    number *= sign\n    \n    digits = from_base10(number, base)\n    encoding = encode(digits, digit_map)\n    if sign == -1:\n        encoding = '-' + encoding\n    return encoding",
   "execution_count": null,
   "outputs": []
  },
  {
   "cell_type": "code",
   "metadata": {
    "tags": [],
    "cell_id": "00062-1f72bbd0-f166-41c8-a092-08c3456bcf54",
    "deepnote_to_be_reexecuted": false,
    "source_hash": "c090f6d2",
    "execution_start": 1621060908148,
    "execution_millis": 9,
    "deepnote_cell_type": "code"
   },
   "source": "e = rebase_from10(10, 2)\nprint(e)\nprint(int(e, 2))",
   "execution_count": null,
   "outputs": [
    {
     "name": "stdout",
     "text": "1010\n10\n",
     "output_type": "stream"
    }
   ]
  },
  {
   "cell_type": "code",
   "metadata": {
    "tags": [],
    "cell_id": "00063-be3cc41c-e39e-4866-83b2-14966cec36ea",
    "deepnote_to_be_reexecuted": false,
    "source_hash": "96617f88",
    "execution_start": 1621060916636,
    "execution_millis": 6,
    "deepnote_cell_type": "code"
   },
   "source": "e = rebase_from10(-10, 2)\nprint(e)\nprint(int(e, 2))",
   "execution_count": null,
   "outputs": [
    {
     "name": "stdout",
     "text": "-1010\n-10\n",
     "output_type": "stream"
    }
   ]
  },
  {
   "cell_type": "code",
   "metadata": {
    "tags": [],
    "cell_id": "00064-629318e0-1488-4aa3-b891-fa6ccc83118e",
    "deepnote_to_be_reexecuted": false,
    "source_hash": "c5d4f692",
    "execution_start": 1621060922328,
    "execution_millis": 11,
    "deepnote_cell_type": "code"
   },
   "source": "rebase_from10(131, 11)",
   "execution_count": null,
   "outputs": [
    {
     "output_type": "execute_result",
     "execution_count": 102,
     "data": {
      "text/plain": "'10A'"
     },
     "metadata": {}
    }
   ]
  },
  {
   "cell_type": "code",
   "metadata": {
    "tags": [],
    "cell_id": "00065-bda587ef-f904-4139-92a3-8ac5f3bc2fc8",
    "deepnote_to_be_reexecuted": false,
    "source_hash": "6587061c",
    "execution_start": 1621060928554,
    "execution_millis": 7,
    "deepnote_cell_type": "code"
   },
   "source": "rebase_from10(4095, 16)",
   "execution_count": null,
   "outputs": [
    {
     "output_type": "execute_result",
     "execution_count": 103,
     "data": {
      "text/plain": "'FFF'"
     },
     "metadata": {}
    }
   ]
  },
  {
   "cell_type": "code",
   "metadata": {
    "tags": [],
    "cell_id": "00066-fd2de1f2-66b3-4017-b16b-e7dda37374a9",
    "deepnote_to_be_reexecuted": false,
    "source_hash": "f61d9638",
    "execution_start": 1621060942457,
    "execution_millis": 27,
    "deepnote_cell_type": "code"
   },
   "source": "rebase_from10(-4095, 37)",
   "execution_count": null,
   "outputs": [
    {
     "output_type": "error",
     "ename": "ValueError",
     "evalue": "Invalid base: 2 <= base <= 36",
     "traceback": [
      "\u001b[0;31m---------------------------------------------------------------------------\u001b[0m",
      "\u001b[0;31mValueError\u001b[0m                                Traceback (most recent call last)",
      "\u001b[0;32m<ipython-input-107-beb68fac3e5d>\u001b[0m in \u001b[0;36m<module>\u001b[0;34m\u001b[0m\n\u001b[0;32m----> 1\u001b[0;31m \u001b[0mrebase_from10\u001b[0m\u001b[0;34m(\u001b[0m\u001b[0;34m-\u001b[0m\u001b[0;36m4095\u001b[0m\u001b[0;34m,\u001b[0m \u001b[0;36m37\u001b[0m\u001b[0;34m)\u001b[0m\u001b[0;34m\u001b[0m\u001b[0;34m\u001b[0m\u001b[0m\n\u001b[0m",
      "\u001b[0;32m<ipython-input-99-85ee4cf44f47>\u001b[0m in \u001b[0;36mrebase_from10\u001b[0;34m(number, base)\u001b[0m\n\u001b[1;32m      2\u001b[0m     \u001b[0mdigit_map\u001b[0m \u001b[0;34m=\u001b[0m \u001b[0;34m'0123456789ABCDEFGHIJKLMNOPQRSTUVWXYZ'\u001b[0m\u001b[0;34m\u001b[0m\u001b[0;34m\u001b[0m\u001b[0m\n\u001b[1;32m      3\u001b[0m     \u001b[0;32mif\u001b[0m \u001b[0mbase\u001b[0m \u001b[0;34m<\u001b[0m \u001b[0;36m2\u001b[0m \u001b[0;32mor\u001b[0m \u001b[0mbase\u001b[0m \u001b[0;34m>\u001b[0m \u001b[0;36m36\u001b[0m\u001b[0;34m:\u001b[0m\u001b[0;34m\u001b[0m\u001b[0;34m\u001b[0m\u001b[0m\n\u001b[0;32m----> 4\u001b[0;31m         \u001b[0;32mraise\u001b[0m \u001b[0mValueError\u001b[0m\u001b[0;34m(\u001b[0m\u001b[0;34m'Invalid base: 2 <= base <= 36'\u001b[0m\u001b[0;34m)\u001b[0m\u001b[0;34m\u001b[0m\u001b[0;34m\u001b[0m\u001b[0m\n\u001b[0m\u001b[1;32m      5\u001b[0m     \u001b[0;31m# we store the sign of number and make it positive\u001b[0m\u001b[0;34m\u001b[0m\u001b[0;34m\u001b[0m\u001b[0;34m\u001b[0m\u001b[0m\n\u001b[1;32m      6\u001b[0m     \u001b[0;31m# we'll re-insert the sign at the end\u001b[0m\u001b[0;34m\u001b[0m\u001b[0;34m\u001b[0m\u001b[0;34m\u001b[0m\u001b[0m\n",
      "\u001b[0;31mValueError\u001b[0m: Invalid base: 2 <= base <= 36"
     ]
    }
   ]
  },
  {
   "cell_type": "code",
   "metadata": {
    "tags": [],
    "cell_id": "00067-c92ad19d-3019-40bd-a1f2-58f1aa57ca05",
    "deepnote_to_be_reexecuted": false,
    "source_hash": "9b715527",
    "execution_start": 1621060976732,
    "execution_millis": 2,
    "deepnote_cell_type": "code"
   },
   "source": "from fractions import Fraction",
   "execution_count": null,
   "outputs": []
  },
  {
   "cell_type": "code",
   "metadata": {
    "tags": [],
    "cell_id": "00068-e8520485-a13d-4ec7-a5d5-4da2f805227a",
    "deepnote_to_be_reexecuted": false,
    "source_hash": "c54003a5",
    "execution_start": 1621060981827,
    "execution_millis": 14,
    "deepnote_cell_type": "code"
   },
   "source": "help(Fraction)",
   "execution_count": null,
   "outputs": [
    {
     "name": "stdout",
     "text": "Help on class Fraction in module fractions:\n\nclass Fraction(numbers.Rational)\n |  Fraction(numerator=0, denominator=None, *, _normalize=True)\n |  \n |  This class implements rational numbers.\n |  \n |  In the two-argument form of the constructor, Fraction(8, 6) will\n |  produce a rational number equivalent to 4/3. Both arguments must\n |  be Rational. The numerator defaults to 0 and the denominator\n |  defaults to 1 so that Fraction(3) == 3 and Fraction() == 0.\n |  \n |  Fractions can also be constructed from:\n |  \n |    - numeric strings similar to those accepted by the\n |      float constructor (for example, '-2.3' or '1e10')\n |  \n |    - strings of the form '123/456'\n |  \n |    - float and Decimal instances\n |  \n |    - other Rational instances (including integers)\n |  \n |  Method resolution order:\n |      Fraction\n |      numbers.Rational\n |      numbers.Real\n |      numbers.Complex\n |      numbers.Number\n |      builtins.object\n |  \n |  Methods defined here:\n |  \n |  __abs__(a)\n |      abs(a)\n |  \n |  __add__(a, b)\n |      a + b\n |  \n |  __bool__(a)\n |      a != 0\n |  \n |  __ceil__(a)\n |      Will be math.ceil(a) in 3.0.\n |  \n |  __copy__(self)\n |  \n |  __deepcopy__(self, memo)\n |  \n |  __eq__(a, b)\n |      a == b\n |  \n |  __floor__(a)\n |      Will be math.floor(a) in 3.0.\n |  \n |  __floordiv__(a, b)\n |      a // b\n |  \n |  __ge__(a, b)\n |      a >= b\n |  \n |  __gt__(a, b)\n |      a > b\n |  \n |  __hash__(self)\n |      hash(self)\n |  \n |  __le__(a, b)\n |      a <= b\n |  \n |  __lt__(a, b)\n |      a < b\n |  \n |  __mod__(a, b)\n |      a % b\n |  \n |  __mul__(a, b)\n |      a * b\n |  \n |  __neg__(a)\n |      -a\n |  \n |  __pos__(a)\n |      +a: Coerces a subclass instance to Fraction\n |  \n |  __pow__(a, b)\n |      a ** b\n |      \n |      If b is not an integer, the result will be a float or complex\n |      since roots are generally irrational. If b is an integer, the\n |      result will be rational.\n |  \n |  __radd__(b, a)\n |      a + b\n |  \n |  __reduce__(self)\n |      Helper for pickle.\n |  \n |  __repr__(self)\n |      repr(self)\n |  \n |  __rfloordiv__(b, a)\n |      a // b\n |  \n |  __rmod__(b, a)\n |      a % b\n |  \n |  __rmul__(b, a)\n |      a * b\n |  \n |  __round__(self, ndigits=None)\n |      Will be round(self, ndigits) in 3.0.\n |      \n |      Rounds half toward even.\n |  \n |  __rpow__(b, a)\n |      a ** b\n |  \n |  __rsub__(b, a)\n |      a - b\n |  \n |  __rtruediv__(b, a)\n |      a / b\n |  \n |  __str__(self)\n |      str(self)\n |  \n |  __sub__(a, b)\n |      a - b\n |  \n |  __truediv__(a, b)\n |      a / b\n |  \n |  __trunc__(a)\n |      trunc(a)\n |  \n |  limit_denominator(self, max_denominator=1000000)\n |      Closest Fraction to self with denominator at most max_denominator.\n |      \n |      >>> Fraction('3.141592653589793').limit_denominator(10)\n |      Fraction(22, 7)\n |      >>> Fraction('3.141592653589793').limit_denominator(100)\n |      Fraction(311, 99)\n |      >>> Fraction(4321, 8765).limit_denominator(10000)\n |      Fraction(4321, 8765)\n |  \n |  ----------------------------------------------------------------------\n |  Class methods defined here:\n |  \n |  from_decimal(dec) from abc.ABCMeta\n |      Converts a finite Decimal instance to a rational number, exactly.\n |  \n |  from_float(f) from abc.ABCMeta\n |      Converts a finite float to a rational number, exactly.\n |      \n |      Beware that Fraction.from_float(0.3) != Fraction(3, 10).\n |  \n |  ----------------------------------------------------------------------\n |  Static methods defined here:\n |  \n |  __new__(cls, numerator=0, denominator=None, *, _normalize=True)\n |      Constructs a Rational.\n |      \n |      Takes a string like '3/2' or '1.5', another Rational instance, a\n |      numerator/denominator pair, or a float.\n |      \n |      Examples\n |      --------\n |      \n |      >>> Fraction(10, -8)\n |      Fraction(-5, 4)\n |      >>> Fraction(Fraction(1, 7), 5)\n |      Fraction(1, 35)\n |      >>> Fraction(Fraction(1, 7), Fraction(2, 3))\n |      Fraction(3, 14)\n |      >>> Fraction('314')\n |      Fraction(314, 1)\n |      >>> Fraction('-35/4')\n |      Fraction(-35, 4)\n |      >>> Fraction('3.1415') # conversion from numeric string\n |      Fraction(6283, 2000)\n |      >>> Fraction('-47e-2') # string may include a decimal exponent\n |      Fraction(-47, 100)\n |      >>> Fraction(1.47)  # direct construction from float (exact conversion)\n |      Fraction(6620291452234629, 4503599627370496)\n |      >>> Fraction(2.25)\n |      Fraction(9, 4)\n |      >>> Fraction(Decimal('1.47'))\n |      Fraction(147, 100)\n |  \n |  ----------------------------------------------------------------------\n |  Data descriptors defined here:\n |  \n |  denominator\n |  \n |  numerator\n |  \n |  ----------------------------------------------------------------------\n |  Data and other attributes defined here:\n |  \n |  __abstractmethods__ = frozenset()\n |  \n |  ----------------------------------------------------------------------\n |  Methods inherited from numbers.Rational:\n |  \n |  __float__(self)\n |      float(self) = self.numerator / self.denominator\n |      \n |      It's important that this conversion use the integer's \"true\"\n |      division rather than casting one side to float before dividing\n |      so that ratios of huge integers convert without overflowing.\n |  \n |  ----------------------------------------------------------------------\n |  Methods inherited from numbers.Real:\n |  \n |  __complex__(self)\n |      complex(self) == complex(float(self), 0)\n |  \n |  __divmod__(self, other)\n |      divmod(self, other): The pair (self // other, self % other).\n |      \n |      Sometimes this can be computed faster than the pair of\n |      operations.\n |  \n |  __rdivmod__(self, other)\n |      divmod(other, self): The pair (self // other, self % other).\n |      \n |      Sometimes this can be computed faster than the pair of\n |      operations.\n |  \n |  conjugate(self)\n |      Conjugate is a no-op for Reals.\n |  \n |  ----------------------------------------------------------------------\n |  Data descriptors inherited from numbers.Real:\n |  \n |  imag\n |      Real numbers have no imaginary component.\n |  \n |  real\n |      Real numbers are their real component.\n\n",
     "output_type": "stream"
    }
   ]
  },
  {
   "cell_type": "code",
   "metadata": {
    "tags": [],
    "cell_id": "00069-200a8ad4-294e-4435-85df-faa3e871547f",
    "deepnote_to_be_reexecuted": false,
    "source_hash": "6a5e8818",
    "execution_start": 1621060998510,
    "execution_millis": 8,
    "deepnote_cell_type": "code"
   },
   "source": "Fraction(1)",
   "execution_count": null,
   "outputs": [
    {
     "output_type": "execute_result",
     "execution_count": 111,
     "data": {
      "text/plain": "Fraction(1, 1)"
     },
     "metadata": {}
    }
   ]
  },
  {
   "cell_type": "code",
   "metadata": {
    "tags": [],
    "cell_id": "00070-939d770b-8271-4d01-9842-94506b2f5ed1",
    "deepnote_to_be_reexecuted": false,
    "source_hash": "cefdccde",
    "execution_start": 1621061003364,
    "execution_millis": 9,
    "deepnote_cell_type": "code"
   },
   "source": "Fraction(1, 3)",
   "execution_count": null,
   "outputs": [
    {
     "output_type": "execute_result",
     "execution_count": 112,
     "data": {
      "text/plain": "Fraction(1, 3)"
     },
     "metadata": {}
    }
   ]
  },
  {
   "cell_type": "code",
   "metadata": {
    "tags": [],
    "cell_id": "00071-43cad413-ac9e-421f-8559-9859c8a5fe47",
    "deepnote_to_be_reexecuted": false,
    "source_hash": "8ff75216",
    "execution_start": 1621061044530,
    "execution_millis": 8,
    "deepnote_cell_type": "code"
   },
   "source": "x = Fraction(2, 3)\ny = Fraction(3, 4)\nFraction(x, y)",
   "execution_count": null,
   "outputs": [
    {
     "output_type": "execute_result",
     "execution_count": 113,
     "data": {
      "text/plain": "Fraction(8, 9)"
     },
     "metadata": {}
    }
   ]
  },
  {
   "cell_type": "code",
   "metadata": {
    "tags": [],
    "cell_id": "00072-80719248-8ff3-4ee6-b161-a1c7b9a54862",
    "deepnote_to_be_reexecuted": false,
    "source_hash": "ad723db0",
    "execution_start": 1621061081918,
    "execution_millis": 6,
    "deepnote_cell_type": "code"
   },
   "source": "Fraction(0.125)",
   "execution_count": null,
   "outputs": [
    {
     "output_type": "execute_result",
     "execution_count": 114,
     "data": {
      "text/plain": "Fraction(1, 8)"
     },
     "metadata": {}
    }
   ]
  },
  {
   "cell_type": "code",
   "metadata": {
    "tags": [],
    "cell_id": "00073-4c6ba02e-a2b2-4de1-b7ce-213cc75e8b2d",
    "deepnote_to_be_reexecuted": false,
    "source_hash": "f92e48b1",
    "execution_start": 1621061086044,
    "execution_millis": 11,
    "deepnote_cell_type": "code"
   },
   "source": "Fraction(0.5)",
   "execution_count": null,
   "outputs": [
    {
     "output_type": "execute_result",
     "execution_count": 115,
     "data": {
      "text/plain": "Fraction(1, 2)"
     },
     "metadata": {}
    }
   ]
  },
  {
   "cell_type": "code",
   "metadata": {
    "tags": [],
    "cell_id": "00074-4a29ca55-a653-40fe-8750-40dda535a4c2",
    "deepnote_to_be_reexecuted": false,
    "source_hash": "7483ea45",
    "execution_start": 1621061090796,
    "execution_millis": 12,
    "deepnote_cell_type": "code"
   },
   "source": "Fraction('10.5')",
   "execution_count": null,
   "outputs": [
    {
     "output_type": "execute_result",
     "execution_count": 116,
     "data": {
      "text/plain": "Fraction(21, 2)"
     },
     "metadata": {}
    }
   ]
  },
  {
   "cell_type": "code",
   "metadata": {
    "tags": [],
    "cell_id": "00075-8bbecb8f-967f-4cf2-bf7b-596247178270",
    "deepnote_to_be_reexecuted": false,
    "source_hash": "d6606b90",
    "execution_start": 1621061095402,
    "execution_millis": 10,
    "deepnote_cell_type": "code"
   },
   "source": "Fraction('22/7')",
   "execution_count": null,
   "outputs": [
    {
     "output_type": "execute_result",
     "execution_count": 117,
     "data": {
      "text/plain": "Fraction(22, 7)"
     },
     "metadata": {}
    }
   ]
  },
  {
   "cell_type": "code",
   "metadata": {
    "tags": [],
    "cell_id": "00076-ea5a3b20-a26e-4d26-84c2-22b5caeb1620",
    "deepnote_to_be_reexecuted": false,
    "source_hash": "135316fc",
    "execution_start": 1621061102902,
    "execution_millis": 6,
    "deepnote_cell_type": "code"
   },
   "source": "Fraction(8, 16)",
   "execution_count": null,
   "outputs": [
    {
     "output_type": "execute_result",
     "execution_count": 118,
     "data": {
      "text/plain": "Fraction(1, 2)"
     },
     "metadata": {}
    }
   ]
  },
  {
   "cell_type": "code",
   "metadata": {
    "tags": [],
    "cell_id": "00077-5abdc04b-12c3-4903-b524-f14487fa7fd4",
    "deepnote_to_be_reexecuted": false,
    "source_hash": "1cf7bb03",
    "execution_start": 1621061108324,
    "execution_millis": 9,
    "deepnote_cell_type": "code"
   },
   "source": "Fraction(1, -4)",
   "execution_count": null,
   "outputs": [
    {
     "output_type": "execute_result",
     "execution_count": 119,
     "data": {
      "text/plain": "Fraction(-1, 4)"
     },
     "metadata": {}
    }
   ]
  },
  {
   "cell_type": "code",
   "metadata": {
    "tags": [],
    "cell_id": "00078-aa7c0762-3b0f-4962-9feb-bdf37525e15b",
    "deepnote_to_be_reexecuted": false,
    "source_hash": "943daa33",
    "execution_start": 1621061114024,
    "execution_millis": 10,
    "deepnote_cell_type": "code"
   },
   "source": "Fraction(1, 3) + Fraction(1, 3) + Fraction(1, 3)",
   "execution_count": null,
   "outputs": [
    {
     "output_type": "execute_result",
     "execution_count": 120,
     "data": {
      "text/plain": "Fraction(1, 1)"
     },
     "metadata": {}
    }
   ]
  },
  {
   "cell_type": "code",
   "metadata": {
    "tags": [],
    "cell_id": "00079-94f291f7-6b42-48a5-8402-28c3f36c6bda",
    "deepnote_to_be_reexecuted": false,
    "source_hash": "f93d0038",
    "execution_start": 1621061120678,
    "execution_millis": 10,
    "deepnote_cell_type": "code"
   },
   "source": "Fraction(1, 2) * Fraction(1, 4)",
   "execution_count": null,
   "outputs": [
    {
     "output_type": "execute_result",
     "execution_count": 121,
     "data": {
      "text/plain": "Fraction(1, 8)"
     },
     "metadata": {}
    }
   ]
  },
  {
   "cell_type": "code",
   "metadata": {
    "tags": [],
    "cell_id": "00080-f2d1bbdd-acc1-4578-9194-737b3165fae3",
    "deepnote_to_be_reexecuted": false,
    "source_hash": "f1a9acdd",
    "execution_start": 1621061124779,
    "execution_millis": 7,
    "deepnote_cell_type": "code"
   },
   "source": "Fraction(1, 2) / Fraction(1, 3)",
   "execution_count": null,
   "outputs": [
    {
     "output_type": "execute_result",
     "execution_count": 122,
     "data": {
      "text/plain": "Fraction(3, 2)"
     },
     "metadata": {}
    }
   ]
  },
  {
   "cell_type": "code",
   "metadata": {
    "tags": [],
    "cell_id": "00081-ed8dee54-494d-4fa1-9b97-34fa23a4bc62",
    "deepnote_to_be_reexecuted": false,
    "source_hash": "83fc2154",
    "execution_start": 1621061132551,
    "execution_millis": 17,
    "deepnote_cell_type": "code"
   },
   "source": "x = Fraction(22, 7)\nprint(x.numerator)\nprint(x.denominator)",
   "execution_count": null,
   "outputs": [
    {
     "name": "stdout",
     "text": "22\n7\n",
     "output_type": "stream"
    }
   ]
  },
  {
   "cell_type": "code",
   "metadata": {
    "tags": [],
    "cell_id": "00082-6fff4002-c28c-4d68-b573-26a9e1be3526",
    "deepnote_to_be_reexecuted": false,
    "source_hash": "5cb96413",
    "execution_start": 1621061138503,
    "execution_millis": 7,
    "deepnote_cell_type": "code"
   },
   "source": "import math\nx = Fraction(math.pi)\nprint(x)\nprint(float(x))",
   "execution_count": null,
   "outputs": [
    {
     "name": "stdout",
     "text": "884279719003555/281474976710656\n3.141592653589793\n",
     "output_type": "stream"
    }
   ]
  },
  {
   "cell_type": "code",
   "metadata": {
    "tags": [],
    "cell_id": "00083-03a48e5e-617f-4ea8-96cc-081a63b88720",
    "deepnote_to_be_reexecuted": false,
    "source_hash": "64cbc63e",
    "execution_start": 1621061154073,
    "execution_millis": 7,
    "deepnote_cell_type": "code"
   },
   "source": "x = Fraction(math.sqrt(2))\nprint(x)",
   "execution_count": null,
   "outputs": [
    {
     "name": "stdout",
     "text": "6369051672525773/4503599627370496\n",
     "output_type": "stream"
    }
   ]
  },
  {
   "cell_type": "code",
   "metadata": {
    "tags": [],
    "cell_id": "00084-62b452c8-4836-4b44-8279-00427fe08fc9",
    "deepnote_to_be_reexecuted": false,
    "source_hash": "cf197d62",
    "execution_start": 1621061205495,
    "execution_millis": 4,
    "deepnote_cell_type": "code"
   },
   "source": "x = 0.3",
   "execution_count": null,
   "outputs": []
  },
  {
   "cell_type": "code",
   "metadata": {
    "tags": [],
    "cell_id": "00085-1de580fa-9880-42c1-853a-902e234689bd",
    "deepnote_to_be_reexecuted": false,
    "source_hash": "19618a48",
    "execution_start": 1621061211125,
    "execution_millis": 9,
    "deepnote_cell_type": "code"
   },
   "source": "print(x)",
   "execution_count": null,
   "outputs": [
    {
     "name": "stdout",
     "text": "0.3\n",
     "output_type": "stream"
    }
   ]
  },
  {
   "cell_type": "code",
   "metadata": {
    "tags": [],
    "cell_id": "00086-192a8c17-2880-47f8-8efa-5bded70ff20e",
    "deepnote_to_be_reexecuted": false,
    "source_hash": "9f78824a",
    "execution_start": 1621061216696,
    "execution_millis": 11,
    "deepnote_cell_type": "code"
   },
   "source": "format(x, '.5f')",
   "execution_count": null,
   "outputs": [
    {
     "output_type": "execute_result",
     "execution_count": 129,
     "data": {
      "text/plain": "'0.30000'"
     },
     "metadata": {}
    }
   ]
  },
  {
   "cell_type": "code",
   "metadata": {
    "tags": [],
    "cell_id": "00087-8f6ea2fd-a90c-4cd5-b05c-7578c5a5c726",
    "deepnote_to_be_reexecuted": false,
    "source_hash": "d28faf67",
    "execution_start": 1621061222566,
    "execution_millis": 10,
    "deepnote_cell_type": "code"
   },
   "source": "format(x, '.15f')",
   "execution_count": null,
   "outputs": [
    {
     "output_type": "execute_result",
     "execution_count": 130,
     "data": {
      "text/plain": "'0.300000000000000'"
     },
     "metadata": {}
    }
   ]
  },
  {
   "cell_type": "code",
   "metadata": {
    "tags": [],
    "cell_id": "00088-a29eb494-8b99-4814-ab04-c54129ac31e8",
    "deepnote_to_be_reexecuted": false,
    "source_hash": "2d2f9e14",
    "execution_start": 1621061228841,
    "execution_millis": 7,
    "deepnote_cell_type": "code"
   },
   "source": "format(x, '.25f')",
   "execution_count": null,
   "outputs": [
    {
     "output_type": "execute_result",
     "execution_count": 131,
     "data": {
      "text/plain": "'0.2999999999999999888977698'"
     },
     "metadata": {}
    }
   ]
  },
  {
   "cell_type": "code",
   "metadata": {
    "tags": [],
    "cell_id": "00089-e165d51b-131e-43b7-a7ee-3630259feced",
    "deepnote_to_be_reexecuted": false,
    "source_hash": "42f0d3c0",
    "execution_start": 1621061240457,
    "execution_millis": 11,
    "deepnote_cell_type": "code"
   },
   "source": "math.floor(-3.0000000000000000000000000000000000000000000000000001), math.floor(3.9999999999999999999999999999999999999999999999999)",
   "execution_count": null,
   "outputs": [
    {
     "output_type": "execute_result",
     "execution_count": 132,
     "data": {
      "text/plain": "(-3, 4)"
     },
     "metadata": {}
    }
   ]
  },
  {
   "cell_type": "code",
   "metadata": {
    "tags": [],
    "cell_id": "00090-acda0567-07b2-44d5-8a6e-52f789191d50",
    "deepnote_to_be_reexecuted": false,
    "source_hash": "4965705d",
    "execution_start": 1621061287258,
    "execution_millis": 8,
    "deepnote_cell_type": "code"
   },
   "source": "a = -3.0000000000000000000000000000000000000000000000000001\nb = 3.9999999999999999999999999999999999999999999999999\n\nformat(a, '.75f'), format(b, '.75f')\n",
   "execution_count": null,
   "outputs": [
    {
     "output_type": "execute_result",
     "execution_count": 135,
     "data": {
      "text/plain": "('-3.000000000000000000000000000000000000000000000000000000000000000000000000000',\n '4.000000000000000000000000000000000000000000000000000000000000000000000000000')"
     },
     "metadata": {}
    }
   ]
  },
  {
   "cell_type": "code",
   "metadata": {
    "tags": [],
    "cell_id": "00091-2f52cf54-b2b1-4315-81da-f21525c6797a",
    "deepnote_to_be_reexecuted": false,
    "source_hash": "e9334423",
    "execution_start": 1621061752582,
    "execution_millis": 16,
    "deepnote_cell_type": "code"
   },
   "source": "help(float)",
   "execution_count": null,
   "outputs": [
    {
     "name": "stdout",
     "text": "Help on class float in module builtins:\n\nclass float(object)\n |  float(x=0, /)\n |  \n |  Convert a string or number to a floating point number, if possible.\n |  \n |  Methods defined here:\n |  \n |  __abs__(self, /)\n |      abs(self)\n |  \n |  __add__(self, value, /)\n |      Return self+value.\n |  \n |  __bool__(self, /)\n |      self != 0\n |  \n |  __divmod__(self, value, /)\n |      Return divmod(self, value).\n |  \n |  __eq__(self, value, /)\n |      Return self==value.\n |  \n |  __float__(self, /)\n |      float(self)\n |  \n |  __floordiv__(self, value, /)\n |      Return self//value.\n |  \n |  __format__(self, format_spec, /)\n |      Formats the float according to format_spec.\n |  \n |  __ge__(self, value, /)\n |      Return self>=value.\n |  \n |  __getattribute__(self, name, /)\n |      Return getattr(self, name).\n |  \n |  __getnewargs__(self, /)\n |  \n |  __gt__(self, value, /)\n |      Return self>value.\n |  \n |  __hash__(self, /)\n |      Return hash(self).\n |  \n |  __int__(self, /)\n |      int(self)\n |  \n |  __le__(self, value, /)\n |      Return self<=value.\n |  \n |  __lt__(self, value, /)\n |      Return self<value.\n |  \n |  __mod__(self, value, /)\n |      Return self%value.\n |  \n |  __mul__(self, value, /)\n |      Return self*value.\n |  \n |  __ne__(self, value, /)\n |      Return self!=value.\n |  \n |  __neg__(self, /)\n |      -self\n |  \n |  __pos__(self, /)\n |      +self\n |  \n |  __pow__(self, value, mod=None, /)\n |      Return pow(self, value, mod).\n |  \n |  __radd__(self, value, /)\n |      Return value+self.\n |  \n |  __rdivmod__(self, value, /)\n |      Return divmod(value, self).\n |  \n |  __repr__(self, /)\n |      Return repr(self).\n |  \n |  __rfloordiv__(self, value, /)\n |      Return value//self.\n |  \n |  __rmod__(self, value, /)\n |      Return value%self.\n |  \n |  __rmul__(self, value, /)\n |      Return value*self.\n |  \n |  __round__(self, ndigits=None, /)\n |      Return the Integral closest to x, rounding half toward even.\n |      \n |      When an argument is passed, work like built-in round(x, ndigits).\n |  \n |  __rpow__(self, value, mod=None, /)\n |      Return pow(value, self, mod).\n |  \n |  __rsub__(self, value, /)\n |      Return value-self.\n |  \n |  __rtruediv__(self, value, /)\n |      Return value/self.\n |  \n |  __str__(self, /)\n |      Return str(self).\n |  \n |  __sub__(self, value, /)\n |      Return self-value.\n |  \n |  __truediv__(self, value, /)\n |      Return self/value.\n |  \n |  __trunc__(self, /)\n |      Return the Integral closest to x between 0 and x.\n |  \n |  as_integer_ratio(self, /)\n |      Return integer ratio.\n |      \n |      Return a pair of integers, whose ratio is exactly equal to the original float\n |      and with a positive denominator.\n |      \n |      Raise OverflowError on infinities and a ValueError on NaNs.\n |      \n |      >>> (10.0).as_integer_ratio()\n |      (10, 1)\n |      >>> (0.0).as_integer_ratio()\n |      (0, 1)\n |      >>> (-.25).as_integer_ratio()\n |      (-1, 4)\n |  \n |  conjugate(self, /)\n |      Return self, the complex conjugate of any float.\n |  \n |  hex(self, /)\n |      Return a hexadecimal representation of a floating-point number.\n |      \n |      >>> (-0.1).hex()\n |      '-0x1.999999999999ap-4'\n |      >>> 3.14159.hex()\n |      '0x1.921f9f01b866ep+1'\n |  \n |  is_integer(self, /)\n |      Return True if the float is an integer.\n |  \n |  ----------------------------------------------------------------------\n |  Class methods defined here:\n |  \n |  __getformat__(typestr, /) from builtins.type\n |      You probably don't want to use this function.\n |      \n |        typestr\n |          Must be 'double' or 'float'.\n |      \n |      It exists mainly to be used in Python's test suite.\n |      \n |      This function returns whichever of 'unknown', 'IEEE, big-endian' or 'IEEE,\n |      little-endian' best describes the format of floating point numbers used by the\n |      C type named by typestr.\n |  \n |  __set_format__(typestr, fmt, /) from builtins.type\n |      You probably don't want to use this function.\n |      \n |        typestr\n |          Must be 'double' or 'float'.\n |        fmt\n |          Must be one of 'unknown', 'IEEE, big-endian' or 'IEEE, little-endian',\n |          and in addition can only be one of the latter two if it appears to\n |          match the underlying C reality.\n |      \n |      It exists mainly to be used in Python's test suite.\n |      \n |      Override the automatic determination of C-level floating point type.\n |      This affects how floats are converted to and from binary strings.\n |  \n |  fromhex(string, /) from builtins.type\n |      Create a floating-point number from a hexadecimal string.\n |      \n |      >>> float.fromhex('0x1.ffffp10')\n |      2047.984375\n |      >>> float.fromhex('-0x1p-1074')\n |      -5e-324\n |  \n |  ----------------------------------------------------------------------\n |  Static methods defined here:\n |  \n |  __new__(*args, **kwargs) from builtins.type\n |      Create and return a new object.  See help(type) for accurate signature.\n |  \n |  ----------------------------------------------------------------------\n |  Data descriptors defined here:\n |  \n |  imag\n |      the imaginary part of a complex number\n |  \n |  real\n |      the real part of a complex number\n\n",
     "output_type": "stream"
    }
   ]
  },
  {
   "cell_type": "code",
   "metadata": {
    "tags": [],
    "cell_id": "00092-16755376-de6b-4977-bf71-9ce4296ea7ae",
    "deepnote_to_be_reexecuted": false,
    "source_hash": "74bd30f4",
    "execution_start": 1621061762078,
    "execution_millis": 10,
    "deepnote_cell_type": "code"
   },
   "source": "float(10)\n",
   "execution_count": null,
   "outputs": [
    {
     "output_type": "execute_result",
     "execution_count": 137,
     "data": {
      "text/plain": "10.0"
     },
     "metadata": {}
    }
   ]
  },
  {
   "cell_type": "code",
   "metadata": {
    "tags": [],
    "cell_id": "00093-ebf723b9-4878-438b-882c-032cf473cbe5",
    "deepnote_to_be_reexecuted": false,
    "source_hash": "32e3d1be",
    "execution_start": 1621061767640,
    "execution_millis": 14,
    "deepnote_cell_type": "code"
   },
   "source": "float(3.14)",
   "execution_count": null,
   "outputs": [
    {
     "output_type": "execute_result",
     "execution_count": 138,
     "data": {
      "text/plain": "3.14"
     },
     "metadata": {}
    }
   ]
  },
  {
   "cell_type": "code",
   "metadata": {
    "tags": [],
    "cell_id": "00094-f9cbcea2-ba19-4cf1-9c23-1af5afaf4475",
    "deepnote_to_be_reexecuted": false,
    "source_hash": "b04f763a",
    "execution_start": 1621061773779,
    "execution_millis": 10,
    "deepnote_cell_type": "code"
   },
   "source": "float('0.1')",
   "execution_count": null,
   "outputs": [
    {
     "output_type": "execute_result",
     "execution_count": 139,
     "data": {
      "text/plain": "0.1"
     },
     "metadata": {}
    }
   ]
  },
  {
   "cell_type": "code",
   "metadata": {
    "tags": [],
    "cell_id": "00095-0d447d7c-8ba4-40f2-84f0-f06c0df4dbe4",
    "deepnote_to_be_reexecuted": false,
    "source_hash": "fee8b32b",
    "execution_start": 1621061785152,
    "execution_millis": 17,
    "deepnote_cell_type": "code"
   },
   "source": "float('22/7')",
   "execution_count": null,
   "outputs": [
    {
     "output_type": "error",
     "ename": "ValueError",
     "evalue": "could not convert string to float: '22/7'",
     "traceback": [
      "\u001b[0;31m---------------------------------------------------------------------------\u001b[0m",
      "\u001b[0;31mValueError\u001b[0m                                Traceback (most recent call last)",
      "\u001b[0;32m<ipython-input-141-b1a86d0295b9>\u001b[0m in \u001b[0;36m<module>\u001b[0;34m\u001b[0m\n\u001b[0;32m----> 1\u001b[0;31m \u001b[0mfloat\u001b[0m\u001b[0;34m(\u001b[0m\u001b[0;34m'22/7'\u001b[0m\u001b[0;34m)\u001b[0m\u001b[0;34m\u001b[0m\u001b[0;34m\u001b[0m\u001b[0m\n\u001b[0m",
      "\u001b[0;31mValueError\u001b[0m: could not convert string to float: '22/7'"
     ]
    }
   ]
  },
  {
   "cell_type": "code",
   "metadata": {
    "tags": [],
    "cell_id": "00096-8687d70b-1a9f-4e21-9c60-ee2e195f5adb",
    "deepnote_to_be_reexecuted": false,
    "source_hash": "9b715527",
    "execution_start": 1621061793550,
    "execution_millis": 0,
    "deepnote_cell_type": "code"
   },
   "source": "from fractions import Fraction",
   "execution_count": null,
   "outputs": []
  },
  {
   "cell_type": "code",
   "metadata": {
    "tags": [],
    "cell_id": "00097-e3382789-a36a-48fb-83a1-0ecfd00cf1b0",
    "deepnote_to_be_reexecuted": false,
    "source_hash": "b2029e12",
    "execution_start": 1621061797807,
    "execution_millis": 12,
    "deepnote_cell_type": "code"
   },
   "source": "float(Fraction('22/7'))",
   "execution_count": null,
   "outputs": [
    {
     "output_type": "execute_result",
     "execution_count": 143,
     "data": {
      "text/plain": "3.142857142857143"
     },
     "metadata": {}
    }
   ]
  },
  {
   "cell_type": "code",
   "metadata": {
    "tags": [],
    "cell_id": "00098-5c22d9f2-8b38-48ff-b454-be2c4c42893f",
    "deepnote_to_be_reexecuted": false,
    "source_hash": "f4ec95a",
    "execution_start": 1621061803221,
    "execution_millis": 7,
    "deepnote_cell_type": "code"
   },
   "source": "print(0.1)",
   "execution_count": null,
   "outputs": [
    {
     "name": "stdout",
     "text": "0.1\n",
     "output_type": "stream"
    }
   ]
  },
  {
   "cell_type": "code",
   "metadata": {
    "tags": [],
    "cell_id": "00099-981793e3-74e0-4f94-94fe-b03778dd46cf",
    "deepnote_to_be_reexecuted": false,
    "source_hash": "946998e5",
    "execution_start": 1621061809162,
    "execution_millis": 12,
    "deepnote_cell_type": "code"
   },
   "source": "format(0.1, '.25f')",
   "execution_count": null,
   "outputs": [
    {
     "output_type": "execute_result",
     "execution_count": 145,
     "data": {
      "text/plain": "'0.1000000000000000055511151'"
     },
     "metadata": {}
    }
   ]
  },
  {
   "cell_type": "code",
   "metadata": {
    "tags": [],
    "cell_id": "00100-ebd3d3ce-845d-4aaf-bedf-a6c22700554d",
    "deepnote_to_be_reexecuted": false,
    "source_hash": "821565d8",
    "execution_start": 1621062183414,
    "execution_millis": 7,
    "deepnote_cell_type": "code"
   },
   "source": "format(0.125, '.250f')",
   "execution_count": null,
   "outputs": [
    {
     "output_type": "execute_result",
     "execution_count": 147,
     "data": {
      "text/plain": "'0.1250000000000000000000000000000000000000000000000000000000000000000000000000000000000000000000000000000000000000000000000000000000000000000000000000000000000000000000000000000000000000000000000000000000000000000000000000000000000000000000000000000000'"
     },
     "metadata": {}
    }
   ]
  },
  {
   "cell_type": "code",
   "metadata": {
    "tags": [],
    "cell_id": "00101-8a90c77d-75f1-42f7-ba16-99392d8e18de",
    "deepnote_to_be_reexecuted": false,
    "source_hash": "4c93808d",
    "execution_start": 1621062206022,
    "execution_millis": 8,
    "deepnote_cell_type": "code"
   },
   "source": "x = 0.1 + 0.1 + 0.1\ny = 0.3\n\nx == y",
   "execution_count": null,
   "outputs": [
    {
     "output_type": "execute_result",
     "execution_count": 148,
     "data": {
      "text/plain": "False"
     },
     "metadata": {}
    }
   ]
  },
  {
   "cell_type": "code",
   "metadata": {
    "tags": [],
    "cell_id": "00102-f8f025ba-d983-4110-9132-eb288c5d551d",
    "deepnote_to_be_reexecuted": false,
    "source_hash": "228b3719",
    "execution_start": 1621062234807,
    "execution_millis": 9,
    "deepnote_cell_type": "code"
   },
   "source": "print('0.1 --> {0:.25f}'.format(0.1))\nprint('x --> {0:.25f}'.format(x))\nprint('y --> {0:.25f}'.format(y))",
   "execution_count": null,
   "outputs": [
    {
     "name": "stdout",
     "text": "0.1 --> 0.1000000000000000055511151\nx --> 0.3000000000000000444089210\ny --> 0.2999999999999999888977698\n",
     "output_type": "stream"
    }
   ]
  },
  {
   "cell_type": "code",
   "metadata": {
    "tags": [],
    "cell_id": "00103-09de8ab9-f4fd-4e44-ad4e-1e42ed72225a",
    "deepnote_to_be_reexecuted": false,
    "source_hash": "a40bcc57",
    "execution_start": 1621062262859,
    "execution_millis": 7,
    "deepnote_cell_type": "code"
   },
   "source": "x = 0.125 + 0.125 + 0.125\ny = 0.375\nx == y",
   "execution_count": null,
   "outputs": [
    {
     "output_type": "execute_result",
     "execution_count": 152,
     "data": {
      "text/plain": "True"
     },
     "metadata": {}
    }
   ]
  },
  {
   "cell_type": "code",
   "metadata": {
    "tags": [],
    "cell_id": "00104-bd5c682c-35de-48f7-892f-2e1855beef68",
    "deepnote_to_be_reexecuted": false,
    "source_hash": "29beeced",
    "execution_start": 1621062275202,
    "execution_millis": 7,
    "deepnote_cell_type": "code"
   },
   "source": "print('0.125 --> {0:.25f}'.format(0.125))\nprint('x --> {0:.25f}'.format(x))\nprint('y --> {0:.25f}'.format(y))",
   "execution_count": null,
   "outputs": [
    {
     "name": "stdout",
     "text": "0.125 --> 0.1250000000000000000000000\nx --> 0.3750000000000000000000000\ny --> 0.3750000000000000000000000\n",
     "output_type": "stream"
    }
   ]
  },
  {
   "cell_type": "code",
   "metadata": {
    "tags": [],
    "cell_id": "00105-02b3f1e8-10de-4165-952d-8a0dc36b152a",
    "deepnote_to_be_reexecuted": false,
    "source_hash": "2cce3ee1",
    "execution_start": 1621062294399,
    "execution_millis": 9,
    "deepnote_cell_type": "code"
   },
   "source": "x = 0.1 + 0.1 + 0.1\ny = 0.3\nround(x, 5) == round(y, 5)",
   "execution_count": null,
   "outputs": [
    {
     "output_type": "execute_result",
     "execution_count": 154,
     "data": {
      "text/plain": "True"
     },
     "metadata": {}
    }
   ]
  },
  {
   "cell_type": "code",
   "metadata": {
    "tags": [],
    "cell_id": "00106-b8632ef6-9da7-495d-912d-17e6b85ebf84",
    "deepnote_to_be_reexecuted": false,
    "source_hash": "dd60b077",
    "execution_start": 1621062424703,
    "execution_millis": 3,
    "deepnote_cell_type": "code"
   },
   "source": "from math import isclose",
   "execution_count": null,
   "outputs": []
  },
  {
   "cell_type": "code",
   "metadata": {
    "tags": [],
    "cell_id": "00107-eb3be60d-dc93-4fd0-be02-41115bf7feda",
    "deepnote_to_be_reexecuted": false,
    "source_hash": "c27bab9e",
    "execution_start": 1621062428447,
    "execution_millis": 10,
    "deepnote_cell_type": "code"
   },
   "source": "help(isclose)",
   "execution_count": null,
   "outputs": [
    {
     "name": "stdout",
     "text": "Help on built-in function isclose in module math:\n\nisclose(a, b, *, rel_tol=1e-09, abs_tol=0.0)\n    Determine whether two floating point numbers are close in value.\n    \n      rel_tol\n        maximum difference for being considered \"close\", relative to the\n        magnitude of the input values\n      abs_tol\n        maximum difference for being considered \"close\", regardless of the\n        magnitude of the input values\n    \n    Return True if a is close in value to b, and False otherwise.\n    \n    For the values to be considered close, the difference between them\n    must be smaller than at least one of the tolerances.\n    \n    -inf, inf and NaN behave similarly to the IEEE 754 Standard.  That\n    is, NaN is not close to anything, even itself.  inf and -inf are\n    only close to themselves.\n\n",
     "output_type": "stream"
    }
   ]
  },
  {
   "cell_type": "code",
   "metadata": {
    "tags": [],
    "cell_id": "00108-aad39fda-2460-4ca8-8eb4-601dab9a7d89",
    "deepnote_to_be_reexecuted": false,
    "source_hash": "31643ca4",
    "execution_start": 1621062807998,
    "execution_millis": 7,
    "deepnote_cell_type": "code"
   },
   "source": "x = 0.1 + 0.1 + 0.1\ny = 0.3\nisclose(x, y)",
   "execution_count": null,
   "outputs": [
    {
     "output_type": "execute_result",
     "execution_count": 157,
     "data": {
      "text/plain": "True"
     },
     "metadata": {}
    }
   ]
  },
  {
   "cell_type": "code",
   "metadata": {
    "tags": [],
    "cell_id": "00109-7b33fd57-d05c-476b-9c93-27fa3580389b",
    "deepnote_to_be_reexecuted": false,
    "source_hash": "f76ac4d5",
    "execution_start": 1621062854146,
    "execution_millis": 1,
    "deepnote_cell_type": "code"
   },
   "source": "x = 123456789.01\ny = 123456789.02",
   "execution_count": null,
   "outputs": []
  },
  {
   "cell_type": "code",
   "metadata": {
    "tags": [],
    "cell_id": "00110-5c21578e-c03a-4f9b-bc53-6b261e095e80",
    "deepnote_to_be_reexecuted": false,
    "source_hash": "5c2483c2",
    "execution_start": 1621062863986,
    "execution_millis": 3,
    "deepnote_cell_type": "code"
   },
   "source": "x = 0.01\ny = 0.02",
   "execution_count": null,
   "outputs": []
  },
  {
   "cell_type": "code",
   "metadata": {
    "tags": [],
    "cell_id": "00111-e13821d1-7a62-4076-bbb4-270bfa530a4b",
    "deepnote_to_be_reexecuted": false,
    "source_hash": "3563f7da",
    "execution_start": 1621062898266,
    "execution_millis": 10,
    "deepnote_cell_type": "code"
   },
   "source": "isclose(123456789.01, 123456789.02, rel_tol=0.01)",
   "execution_count": null,
   "outputs": [
    {
     "output_type": "execute_result",
     "execution_count": 160,
     "data": {
      "text/plain": "True"
     },
     "metadata": {}
    }
   ]
  },
  {
   "cell_type": "code",
   "metadata": {
    "tags": [],
    "cell_id": "00112-cc1e1eb1-dfb1-4e95-ab0d-b7ea0a9ac6e2",
    "deepnote_to_be_reexecuted": false,
    "source_hash": "5d07332d",
    "execution_start": 1621062910748,
    "execution_millis": 8,
    "deepnote_cell_type": "code"
   },
   "source": "isclose(0.01, 0.02, rel_tol=0.01)",
   "execution_count": null,
   "outputs": [
    {
     "output_type": "execute_result",
     "execution_count": 161,
     "data": {
      "text/plain": "False"
     },
     "metadata": {}
    }
   ]
  },
  {
   "cell_type": "code",
   "metadata": {
    "tags": [],
    "cell_id": "00113-0e41446b-2283-49d2-ab03-31ef151b9524",
    "deepnote_to_be_reexecuted": false,
    "source_hash": "8e9c85ca",
    "execution_start": 1621062929542,
    "execution_millis": 11,
    "deepnote_cell_type": "code"
   },
   "source": "x = 0.0000001\ny = 0.0000002\nisclose(x, y, rel_tol=0.01)",
   "execution_count": null,
   "outputs": [
    {
     "output_type": "execute_result",
     "execution_count": 162,
     "data": {
      "text/plain": "False"
     },
     "metadata": {}
    }
   ]
  },
  {
   "cell_type": "code",
   "metadata": {
    "tags": [],
    "cell_id": "00114-d86442af-af9f-43ad-b33b-b5d5d8dab821",
    "deepnote_to_be_reexecuted": false,
    "source_hash": "9843d85",
    "execution_start": 1621062949367,
    "execution_millis": 9,
    "deepnote_cell_type": "code"
   },
   "source": "isclose(x, y, abs_tol=0.0001, rel_tol=0)",
   "execution_count": null,
   "outputs": [
    {
     "output_type": "execute_result",
     "execution_count": 163,
     "data": {
      "text/plain": "True"
     },
     "metadata": {}
    }
   ]
  },
  {
   "cell_type": "code",
   "metadata": {
    "tags": [],
    "cell_id": "00115-53f49a18-351c-4a64-b59b-7a21d29fd617",
    "deepnote_to_be_reexecuted": false,
    "source_hash": "be90fe1e",
    "execution_start": 1621063213658,
    "execution_millis": 11,
    "deepnote_cell_type": "code"
   },
   "source": "x = 0.0000001\ny = 0.0000002\n\na = 123456789.01\nb = 123456789.02\n\nprint('x = y:', isclose(x, y, abs_tol=1, rel_tol=1))\nprint('a = b:', isclose(a, b, abs_tol=0.0001, rel_tol=0.000000001))",
   "execution_count": null,
   "outputs": [
    {
     "name": "stdout",
     "text": "x = y: True\na = b: True\n",
     "output_type": "stream"
    }
   ]
  },
  {
   "cell_type": "code",
   "metadata": {
    "tags": [],
    "cell_id": "00116-000e6af8-881f-409e-832c-59165eb1f510",
    "deepnote_to_be_reexecuted": false,
    "source_hash": "25dc151c",
    "execution_start": 1621063234203,
    "execution_millis": 3,
    "deepnote_cell_type": "code"
   },
   "source": "from math import trunc",
   "execution_count": null,
   "outputs": []
  },
  {
   "cell_type": "code",
   "metadata": {
    "tags": [],
    "cell_id": "00117-7124305d-5a71-470f-b538-423aead1e4fc",
    "deepnote_to_be_reexecuted": false,
    "source_hash": "d4bfda29",
    "execution_start": 1621063238195,
    "execution_millis": 14,
    "deepnote_cell_type": "code"
   },
   "source": "trunc(10.3), trunc(10.5), trunc(10.6)",
   "execution_count": null,
   "outputs": [
    {
     "output_type": "execute_result",
     "execution_count": 174,
     "data": {
      "text/plain": "(10, 10, 10)"
     },
     "metadata": {}
    }
   ]
  },
  {
   "cell_type": "code",
   "metadata": {
    "tags": [],
    "cell_id": "00118-271b2b6b-1210-41db-9061-7673e06c4273",
    "deepnote_to_be_reexecuted": false,
    "source_hash": "c8938627",
    "execution_start": 1621063244941,
    "execution_millis": 9,
    "deepnote_cell_type": "code"
   },
   "source": "trunc(-10.6), trunc(-10.5), trunc(-10.3)",
   "execution_count": null,
   "outputs": [
    {
     "output_type": "execute_result",
     "execution_count": 175,
     "data": {
      "text/plain": "(-10, -10, -10)"
     },
     "metadata": {}
    }
   ]
  },
  {
   "cell_type": "code",
   "metadata": {
    "tags": [],
    "cell_id": "00119-28a590a8-b533-4b47-b6ee-9eca23033293",
    "deepnote_to_be_reexecuted": false,
    "source_hash": "2a880515",
    "execution_start": 1621063260190,
    "execution_millis": 10,
    "deepnote_cell_type": "code"
   },
   "source": "int(10.3), int(10.5), int(10.6)",
   "execution_count": null,
   "outputs": [
    {
     "output_type": "execute_result",
     "execution_count": 176,
     "data": {
      "text/plain": "(10, 10, 10)"
     },
     "metadata": {}
    }
   ]
  },
  {
   "cell_type": "code",
   "metadata": {
    "tags": [],
    "cell_id": "00120-d969a10f-562a-4696-9a8f-90910a9beca1",
    "deepnote_to_be_reexecuted": false,
    "source_hash": "709d87d2",
    "execution_start": 1621063264316,
    "execution_millis": 10,
    "deepnote_cell_type": "code"
   },
   "source": "int(-10.5), int(-10.5), int(-10.4)",
   "execution_count": null,
   "outputs": [
    {
     "output_type": "execute_result",
     "execution_count": 177,
     "data": {
      "text/plain": "(-10, -10, -10)"
     },
     "metadata": {}
    }
   ]
  },
  {
   "cell_type": "code",
   "metadata": {
    "tags": [],
    "cell_id": "00121-8fed3192-64b2-4bb7-a75b-cc63946d46e5",
    "deepnote_to_be_reexecuted": false,
    "source_hash": "a517937d",
    "execution_start": 1621063272476,
    "execution_millis": 4,
    "deepnote_cell_type": "code"
   },
   "source": "from math import floor",
   "execution_count": null,
   "outputs": []
  },
  {
   "cell_type": "code",
   "metadata": {
    "tags": [],
    "cell_id": "00122-34de59be-fa91-4eea-bb00-ccd60caac398",
    "deepnote_to_be_reexecuted": false,
    "source_hash": "5f58aadf",
    "execution_start": 1621063276934,
    "execution_millis": 13,
    "deepnote_cell_type": "code"
   },
   "source": "floor(10.4), floor(10.5), floor(10.6)",
   "execution_count": null,
   "outputs": [
    {
     "output_type": "execute_result",
     "execution_count": 179,
     "data": {
      "text/plain": "(10, 10, 10)"
     },
     "metadata": {}
    }
   ]
  },
  {
   "cell_type": "code",
   "metadata": {
    "tags": [],
    "cell_id": "00123-7c266945-7131-4d18-81f9-4a58ef02890c",
    "deepnote_to_be_reexecuted": false,
    "source_hash": "6308cff7",
    "execution_start": 1621063280713,
    "execution_millis": 15,
    "deepnote_cell_type": "code"
   },
   "source": "floor(-10.4), floor(-10.5), floor(-10.6)",
   "execution_count": null,
   "outputs": [
    {
     "output_type": "execute_result",
     "execution_count": 180,
     "data": {
      "text/plain": "(-11, -11, -11)"
     },
     "metadata": {}
    }
   ]
  },
  {
   "cell_type": "code",
   "metadata": {
    "tags": [],
    "cell_id": "00124-470666a7-e221-424c-8973-50b6d3e0b2d8",
    "deepnote_to_be_reexecuted": false,
    "source_hash": "2826ca20",
    "execution_start": 1621063285798,
    "execution_millis": 2,
    "deepnote_cell_type": "code"
   },
   "source": "from math import ceil",
   "execution_count": null,
   "outputs": []
  },
  {
   "cell_type": "code",
   "metadata": {
    "tags": [],
    "cell_id": "00125-1c326072-a8ec-40ff-9a23-7fc7332c1dd1",
    "deepnote_to_be_reexecuted": false,
    "source_hash": "9d5bbdc0",
    "execution_start": 1621063289556,
    "execution_millis": 0,
    "deepnote_cell_type": "code"
   },
   "source": "ceil(10.4), ceil(10.5), ceil(10.6)",
   "execution_count": null,
   "outputs": [
    {
     "output_type": "execute_result",
     "execution_count": 182,
     "data": {
      "text/plain": "(11, 11, 11)"
     },
     "metadata": {}
    }
   ]
  },
  {
   "cell_type": "code",
   "metadata": {
    "tags": [],
    "cell_id": "00126-70d9f2d6-5bc9-4645-bb3b-0eccb5a56383",
    "deepnote_to_be_reexecuted": false,
    "source_hash": "419a50a0",
    "execution_start": 1621063292878,
    "execution_millis": 7,
    "deepnote_cell_type": "code"
   },
   "source": "ceil(-10.4), ceil(-10.5), ceil(-10.6)",
   "execution_count": null,
   "outputs": [
    {
     "output_type": "execute_result",
     "execution_count": 183,
     "data": {
      "text/plain": "(-10, -10, -10)"
     },
     "metadata": {}
    }
   ]
  },
  {
   "cell_type": "code",
   "metadata": {
    "tags": [],
    "cell_id": "00127-121ce06e-6f27-4f17-b447-abce07ec8aca",
    "deepnote_to_be_reexecuted": false,
    "source_hash": "bdc15d4b",
    "execution_start": 1621063317690,
    "execution_millis": 9,
    "deepnote_cell_type": "code"
   },
   "source": "help(round)",
   "execution_count": null,
   "outputs": [
    {
     "name": "stdout",
     "text": "Help on built-in function round in module builtins:\n\nround(number, ndigits=None)\n    Round a number to a given precision in decimal digits.\n    \n    The return value is an integer if ndigits is omitted or None.  Otherwise\n    the return value has the same type as the number.  ndigits may be negative.\n\n",
     "output_type": "stream"
    }
   ]
  },
  {
   "cell_type": "code",
   "metadata": {
    "tags": [],
    "cell_id": "00128-ef57be37-90c8-4552-91c5-3ac5190f9fe8",
    "deepnote_to_be_reexecuted": false,
    "source_hash": "f96ab143",
    "execution_start": 1621063335022,
    "execution_millis": 8,
    "deepnote_cell_type": "code"
   },
   "source": "a = round(1.5)\na, type(a)",
   "execution_count": null,
   "outputs": [
    {
     "output_type": "execute_result",
     "execution_count": 185,
     "data": {
      "text/plain": "(2, int)"
     },
     "metadata": {}
    }
   ]
  },
  {
   "cell_type": "code",
   "metadata": {
    "tags": [],
    "cell_id": "00129-79b6b523-9b28-4062-8a43-efdc0a52882e",
    "deepnote_to_be_reexecuted": false,
    "source_hash": "babb58b2",
    "execution_start": 1621063358572,
    "execution_millis": 10,
    "deepnote_cell_type": "code"
   },
   "source": "a = round(1.5, 0)\na, type(a)",
   "execution_count": null,
   "outputs": [
    {
     "output_type": "execute_result",
     "execution_count": 187,
     "data": {
      "text/plain": "(2.0, float)"
     },
     "metadata": {}
    }
   ]
  },
  {
   "cell_type": "code",
   "metadata": {
    "tags": [],
    "cell_id": "00130-76104af8-33ab-4af2-8fc4-c1d22fc84c73",
    "deepnote_to_be_reexecuted": false,
    "source_hash": "25c4ec32",
    "execution_start": 1621063462207,
    "execution_millis": 12,
    "deepnote_cell_type": "code"
   },
   "source": "round(1.8888, 3), round(1.8888, 2), round(1.8888, 1), round(1.8888, 0)",
   "execution_count": null,
   "outputs": [
    {
     "output_type": "execute_result",
     "execution_count": 189,
     "data": {
      "text/plain": "(1.889, 1.89, 1.9, 2.0)"
     },
     "metadata": {}
    }
   ]
  },
  {
   "cell_type": "code",
   "metadata": {
    "tags": [],
    "cell_id": "00131-af72d0f8-afc4-40f5-b34b-550d22544ae6",
    "deepnote_to_be_reexecuted": false,
    "source_hash": "e84979d4",
    "execution_start": 1621063529151,
    "execution_millis": 8,
    "deepnote_cell_type": "code"
   },
   "source": "round(1.8888, 1), round(1.8888, 0), round(1.8888, -1), round(1.8888, -2)",
   "execution_count": null,
   "outputs": [
    {
     "output_type": "execute_result",
     "execution_count": 190,
     "data": {
      "text/plain": "(1.9, 2.0, 0.0, 0.0)"
     },
     "metadata": {}
    }
   ]
  },
  {
   "cell_type": "code",
   "metadata": {
    "tags": [],
    "cell_id": "00132-9c6c2e3b-bb4c-47fa-bab5-8b994730fe5d",
    "deepnote_to_be_reexecuted": false,
    "source_hash": "f325d879",
    "execution_start": 1621063602198,
    "execution_millis": 11,
    "deepnote_cell_type": "code"
   },
   "source": "round(888.88, 1), round(888.88, 0), \\\nround(888.88, -1), round(888.88, -2), \\\nround(888.88, -3)",
   "execution_count": null,
   "outputs": [
    {
     "output_type": "execute_result",
     "execution_count": 191,
     "data": {
      "text/plain": "(888.9, 889.0, 890.0, 900.0, 1000.0)"
     },
     "metadata": {}
    }
   ]
  },
  {
   "cell_type": "code",
   "metadata": {
    "tags": [],
    "cell_id": "00133-d5dc9408-0e45-4703-a347-aa1f8db91c3d",
    "deepnote_to_be_reexecuted": false,
    "source_hash": "c6547d15",
    "execution_start": 1621063627211,
    "execution_millis": 12,
    "deepnote_cell_type": "code"
   },
   "source": "round(1.4444, 3), round(1.4444, 2), round(1.4444, 1), round(1.4444, 0)",
   "execution_count": null,
   "outputs": [
    {
     "output_type": "execute_result",
     "execution_count": 192,
     "data": {
      "text/plain": "(1.444, 1.44, 1.4, 1.0)"
     },
     "metadata": {}
    }
   ]
  },
  {
   "cell_type": "code",
   "metadata": {
    "tags": [],
    "cell_id": "00134-c80850f1-5d3c-4bf1-8c37-29faabd03984",
    "deepnote_to_be_reexecuted": false,
    "source_hash": "16eab4ef",
    "execution_start": 1621063662584,
    "execution_millis": 14,
    "deepnote_cell_type": "code"
   },
   "source": "round(444.44, 1), round(444.44, 0), \\\nround(444.44, -1), round(444.44, -2), \\\nround(444.44, -3)",
   "execution_count": null,
   "outputs": [
    {
     "output_type": "execute_result",
     "execution_count": 193,
     "data": {
      "text/plain": "(444.4, 444.0, 440.0, 400.0, 0.0)"
     },
     "metadata": {}
    }
   ]
  },
  {
   "cell_type": "code",
   "metadata": {
    "tags": [],
    "cell_id": "00135-951f7af9-f2e4-4935-9b89-aef7c7fea75d",
    "deepnote_to_be_reexecuted": false,
    "source_hash": "23e2a219",
    "execution_start": 1621063708631,
    "execution_millis": 12,
    "deepnote_cell_type": "code"
   },
   "source": "round(1.25, 1)",
   "execution_count": null,
   "outputs": [
    {
     "output_type": "execute_result",
     "execution_count": 194,
     "data": {
      "text/plain": "1.2"
     },
     "metadata": {}
    }
   ]
  },
  {
   "cell_type": "code",
   "metadata": {
    "tags": [],
    "cell_id": "00135-be48ec34-f449-428a-8521-6899e1367217",
    "deepnote_to_be_reexecuted": false,
    "source_hash": "a5dda8e1",
    "execution_start": 1621063723548,
    "execution_millis": 11,
    "deepnote_cell_type": "code"
   },
   "source": "round(1.35, 1)",
   "execution_count": null,
   "outputs": [
    {
     "output_type": "execute_result",
     "execution_count": 195,
     "data": {
      "text/plain": "1.4"
     },
     "metadata": {}
    }
   ]
  },
  {
   "cell_type": "markdown",
   "source": "![](https://kidsdiscover.com/wp-content/uploads/2012/10/x2.jpg)",
   "metadata": {
    "tags": [],
    "cell_id": "00137-017564cf-4a23-4254-aafb-b6b06777ba04",
    "deepnote_cell_type": "markdown"
   }
  },
  {
   "cell_type": "code",
   "metadata": {
    "tags": [],
    "cell_id": "00137-edbb784a-6960-42a4-b089-656951c55e52",
    "deepnote_to_be_reexecuted": false,
    "source_hash": "ef6b6e13",
    "execution_start": 1621063843213,
    "execution_millis": 10,
    "deepnote_cell_type": "code"
   },
   "source": "round(15, -1)",
   "execution_count": null,
   "outputs": [
    {
     "output_type": "execute_result",
     "execution_count": 196,
     "data": {
      "text/plain": "20"
     },
     "metadata": {}
    }
   ]
  },
  {
   "cell_type": "code",
   "metadata": {
    "tags": [],
    "cell_id": "00139-8c384f63-737e-48fc-9a15-d1714f842be5",
    "deepnote_to_be_reexecuted": false,
    "source_hash": "9cc9b6e5",
    "execution_start": 1621063849889,
    "execution_millis": 14,
    "deepnote_cell_type": "code"
   },
   "source": "round(25, -1)",
   "execution_count": null,
   "outputs": [
    {
     "output_type": "execute_result",
     "execution_count": 197,
     "data": {
      "text/plain": "20"
     },
     "metadata": {}
    }
   ]
  },
  {
   "cell_type": "markdown",
   "source": "This is traditionally the type of rounding taught in school, which is different from the Banker's Rounding implemented in Python (and in many other programming languages)",
   "metadata": {
    "tags": [],
    "cell_id": "00140-bdf4d6e6-e242-4b8e-9cd7-71eb292053c7",
    "deepnote_cell_type": "markdown"
   }
  },
  {
   "cell_type": "code",
   "metadata": {
    "tags": [],
    "cell_id": "00140-48fb214f-81c9-4233-8f60-98b69d6be336",
    "deepnote_to_be_reexecuted": false,
    "source_hash": "ad9d6b70",
    "execution_start": 1621063991006,
    "execution_millis": 4,
    "deepnote_cell_type": "code"
   },
   "source": "import decimal",
   "execution_count": null,
   "outputs": []
  },
  {
   "cell_type": "code",
   "metadata": {
    "tags": [],
    "cell_id": "00142-69d86047-754d-416f-8180-5a8a4bc87794",
    "deepnote_to_be_reexecuted": false,
    "source_hash": "1559413a",
    "execution_start": 1621064000733,
    "execution_millis": 7,
    "deepnote_cell_type": "code"
   },
   "source": "from decimal import Decimal",
   "execution_count": null,
   "outputs": []
  },
  {
   "cell_type": "code",
   "metadata": {
    "tags": [],
    "cell_id": "00143-0e33bf99-c0d1-4eb1-b4b0-20a6acf2b256",
    "deepnote_to_be_reexecuted": false,
    "source_hash": "bc8e50e2",
    "execution_start": 1621064062770,
    "execution_millis": 27,
    "deepnote_cell_type": "code"
   },
   "source": "round(1.25, 1), round(1.45, 1), round(1.65, 1), round(1.85, 1)",
   "execution_count": null,
   "outputs": [
    {
     "output_type": "execute_result",
     "execution_count": 201,
     "data": {
      "text/plain": "(1.2, 1.4, 1.6, 1.9)"
     },
     "metadata": {}
    }
   ]
  },
  {
   "cell_type": "code",
   "metadata": {
    "tags": [],
    "cell_id": "00144-dd24ca62-212e-44f6-bd05-dc139bfb2bf0",
    "deepnote_to_be_reexecuted": false,
    "source_hash": "11999dc8",
    "execution_start": 1621064073377,
    "execution_millis": 21,
    "deepnote_cell_type": "code"
   },
   "source": "round(1.15, 1), round(1.35, 1), round(1.55, 1), round(1.75, 1)",
   "execution_count": null,
   "outputs": [
    {
     "output_type": "execute_result",
     "execution_count": 202,
     "data": {
      "text/plain": "(1.1, 1.4, 1.6, 1.8)"
     },
     "metadata": {}
    }
   ]
  },
  {
   "cell_type": "code",
   "metadata": {
    "tags": [],
    "cell_id": "00145-03ecd29a-950e-46d6-ab5e-41c08f7db20e",
    "deepnote_to_be_reexecuted": false,
    "source_hash": "1559413a",
    "execution_start": 1621064148754,
    "execution_millis": 0,
    "deepnote_cell_type": "code"
   },
   "source": "from decimal import Decimal",
   "execution_count": null,
   "outputs": []
  },
  {
   "cell_type": "code",
   "metadata": {
    "tags": [],
    "cell_id": "00146-9217a13c-913b-4b8b-9f2d-dea83c0e82f6",
    "deepnote_to_be_reexecuted": false,
    "source_hash": "d1ea7237",
    "execution_start": 1621064268295,
    "execution_millis": 2,
    "deepnote_cell_type": "code"
   },
   "source": "g_ctx  = decimal.getcontext()",
   "execution_count": null,
   "outputs": []
  },
  {
   "cell_type": "code",
   "metadata": {
    "tags": [],
    "cell_id": "00147-85149bcc-de70-4406-ba9b-393fe99ac005",
    "deepnote_to_be_reexecuted": false,
    "source_hash": "671ade52",
    "execution_start": 1621064274257,
    "execution_millis": 12,
    "deepnote_cell_type": "code"
   },
   "source": "g_ctx.prec",
   "execution_count": null,
   "outputs": [
    {
     "output_type": "execute_result",
     "execution_count": 213,
     "data": {
      "text/plain": "28"
     },
     "metadata": {}
    }
   ]
  },
  {
   "cell_type": "code",
   "metadata": {
    "tags": [],
    "cell_id": "00148-59e9ce8e-d205-49da-b7d9-efac963ada9d",
    "deepnote_to_be_reexecuted": false,
    "source_hash": "50cc8620",
    "execution_start": 1621064278851,
    "execution_millis": 13,
    "deepnote_cell_type": "code"
   },
   "source": "g_ctx.rounding",
   "execution_count": null,
   "outputs": [
    {
     "output_type": "execute_result",
     "execution_count": 214,
     "data": {
      "text/plain": "'ROUND_HALF_EVEN'"
     },
     "metadata": {}
    }
   ]
  },
  {
   "cell_type": "code",
   "metadata": {
    "tags": [],
    "cell_id": "00149-daf2ca66-5cdc-4909-acbe-95428eef84d5",
    "deepnote_to_be_reexecuted": false,
    "source_hash": "4e2ecff",
    "execution_start": 1621064284324,
    "execution_millis": 3,
    "deepnote_cell_type": "code"
   },
   "source": "g_ctx.prec = 6",
   "execution_count": null,
   "outputs": []
  },
  {
   "cell_type": "code",
   "metadata": {
    "tags": [],
    "cell_id": "00150-378d86f7-efb5-41ea-831a-0693726f73c6",
    "deepnote_to_be_reexecuted": false,
    "source_hash": "c1314c0",
    "execution_start": 1621064290332,
    "execution_millis": 1,
    "deepnote_cell_type": "code"
   },
   "source": "g_ctx.rounding = decimal.ROUND_HALF_UP",
   "execution_count": null,
   "outputs": []
  },
  {
   "cell_type": "code",
   "metadata": {
    "tags": [],
    "cell_id": "00151-943161ff-cd00-45a5-995d-78e005923ca1",
    "deepnote_to_be_reexecuted": false,
    "source_hash": "453ed335",
    "execution_start": 1621064333162,
    "execution_millis": 1,
    "deepnote_cell_type": "code"
   },
   "source": "decimal.getcontext().prec  = 6",
   "execution_count": null,
   "outputs": []
  },
  {
   "cell_type": "code",
   "metadata": {
    "tags": [],
    "cell_id": "00152-523a9d5a-1c1c-4ffe-9c8e-a8cd3855d47c",
    "deepnote_to_be_reexecuted": false,
    "source_hash": "e97f7901",
    "execution_start": 1621064342381,
    "execution_millis": 12,
    "deepnote_cell_type": "code"
   },
   "source": "decimal.getcontext().prec ",
   "execution_count": null,
   "outputs": [
    {
     "output_type": "execute_result",
     "execution_count": 219,
     "data": {
      "text/plain": "28"
     },
     "metadata": {}
    }
   ]
  },
  {
   "cell_type": "code",
   "metadata": {
    "tags": [],
    "cell_id": "00153-c2d09c6b-5ed3-4138-9d56-bae8e86c610b",
    "deepnote_to_be_reexecuted": false,
    "source_hash": "3f61fe4f",
    "execution_start": 1621064476553,
    "execution_millis": 12,
    "deepnote_cell_type": "code"
   },
   "source": "with decimal.localcontext() as ctx:\n    ctx.prec = 48\n    print(ctx.prec)\n    print(ctx.rounding)",
   "execution_count": null,
   "outputs": [
    {
     "name": "stdout",
     "text": "48\nROUND_HALF_EVEN\n",
     "output_type": "stream"
    }
   ]
  },
  {
   "cell_type": "code",
   "metadata": {
    "tags": [],
    "cell_id": "00154-d46350ed-962a-4bab-b05c-830310189c2d",
    "deepnote_to_be_reexecuted": false,
    "source_hash": "59037815",
    "execution_start": 1621064514881,
    "execution_millis": 18,
    "deepnote_cell_type": "code"
   },
   "source": "with decimal.localcontext() as ctx:\n    ctx.prec = 10\n    print('local prec = {0}, global prec = {1}'.format(ctx.prec, g_ctx.prec))",
   "execution_count": null,
   "outputs": [
    {
     "name": "stdout",
     "text": "local prec = 10, global prec = 6\n",
     "output_type": "stream"
    }
   ]
  },
  {
   "cell_type": "code",
   "metadata": {
    "tags": [],
    "cell_id": "00155-b5436ddc-10ed-43d7-ba85-252019b26a58",
    "deepnote_to_be_reexecuted": false,
    "source_hash": "6dd97041",
    "execution_start": 1621064556450,
    "execution_millis": 0,
    "deepnote_cell_type": "code"
   },
   "source": "import sys\nfrom decimal import Decimal",
   "execution_count": null,
   "outputs": []
  },
  {
   "cell_type": "code",
   "metadata": {
    "tags": [],
    "cell_id": "00156-6807e16c-d15c-4107-9716-1672c6c3cb38",
    "deepnote_to_be_reexecuted": false,
    "source_hash": "be12ce6e",
    "execution_start": 1621064563109,
    "execution_millis": 4,
    "deepnote_cell_type": "code"
   },
   "source": "a = 3.1415\nb = Decimal('3.1415')",
   "execution_count": null,
   "outputs": []
  },
  {
   "cell_type": "code",
   "metadata": {
    "tags": [],
    "cell_id": "00157-76d7859b-0e01-48a3-ae78-532ae51bb259",
    "deepnote_to_be_reexecuted": false,
    "source_hash": "adea2ac7",
    "execution_start": 1621064569012,
    "execution_millis": 13,
    "deepnote_cell_type": "code"
   },
   "source": "sys.getsizeof(a)",
   "execution_count": null,
   "outputs": [
    {
     "output_type": "execute_result",
     "execution_count": 225,
     "data": {
      "text/plain": "24"
     },
     "metadata": {}
    }
   ]
  },
  {
   "cell_type": "code",
   "metadata": {
    "tags": [],
    "cell_id": "00158-a9760316-81d8-43b6-9ae7-1d5a56eca8b0",
    "deepnote_to_be_reexecuted": false,
    "source_hash": "eb1a7ab6",
    "execution_start": 1621064574259,
    "execution_millis": 17,
    "deepnote_cell_type": "code"
   },
   "source": "sys.getsizeof(b)",
   "execution_count": null,
   "outputs": [
    {
     "output_type": "execute_result",
     "execution_count": 226,
     "data": {
      "text/plain": "104"
     },
     "metadata": {}
    }
   ]
  },
  {
   "cell_type": "code",
   "metadata": {
    "tags": [],
    "cell_id": "00159-aa574b1a-80ab-4869-a3c0-36ea45bd8605",
    "deepnote_to_be_reexecuted": false,
    "source_hash": "bc9eb054",
    "execution_start": 1621064600526,
    "execution_millis": 2,
    "deepnote_cell_type": "code"
   },
   "source": "import time\nfrom decimal import Decimal\n\ndef run_float(n=1):\n    for i in range(n):\n        a = 3.1415\n        \ndef run_decimal(n=1):\n    for i in range(n):\n        a = Decimal('3.1415')",
   "execution_count": null,
   "outputs": []
  },
  {
   "cell_type": "code",
   "metadata": {
    "tags": [],
    "cell_id": "00160-6321f3e0-6da2-4291-8cba-6399254f7941",
    "deepnote_to_be_reexecuted": false,
    "source_hash": "d617a292",
    "execution_start": 1621064612935,
    "execution_millis": 0,
    "deepnote_cell_type": "code"
   },
   "source": "n = 10_000_000",
   "execution_count": null,
   "outputs": []
  },
  {
   "cell_type": "code",
   "metadata": {
    "tags": [],
    "cell_id": "00161-e5be728c-4a94-458a-957f-0905c6f4885b",
    "deepnote_to_be_reexecuted": false,
    "source_hash": "e7044334",
    "execution_start": 1621064650233,
    "execution_millis": 2868,
    "deepnote_cell_type": "code"
   },
   "source": "start = time.perf_counter()\nrun_float(n)\nend = time.perf_counter()\nprint('float: ', end-start)\n\nstart = time.perf_counter()\nrun_decimal(n)\nend = time.perf_counter()\nprint('decimal: ', end-start)",
   "execution_count": null,
   "outputs": [
    {
     "name": "stdout",
     "text": "float:  0.4487044440002137\ndecimal:  2.490842643000178\n",
     "output_type": "stream"
    }
   ]
  },
  {
   "cell_type": "code",
   "metadata": {
    "tags": [],
    "cell_id": "00162-4bb9b57b-261f-435b-85e7-5f38e0c4c2a7",
    "deepnote_to_be_reexecuted": false,
    "source_hash": "aabab7e2",
    "execution_start": 1621064672542,
    "execution_millis": 1311,
    "deepnote_cell_type": "code"
   },
   "source": "def run_float(n=1):\n    a = 3.1415\n    for i in range(n):\n        a + a\n        \ndef run_decimal(n=1):\n    a = Decimal('3.1415')\n    for i in range(n):\n        a + a\n        \nstart = time.perf_counter()\nrun_float(n)\nend = time.perf_counter()\nprint('float: ', end-start)\n\nstart = time.perf_counter()\nrun_decimal(n)\nend = time.perf_counter()\nprint('decimal: ', end-start)",
   "execution_count": null,
   "outputs": [
    {
     "name": "stdout",
     "text": "float:  0.4407303360003425\ndecimal:  0.8761635439996098\n",
     "output_type": "stream"
    }
   ]
  },
  {
   "cell_type": "code",
   "metadata": {
    "tags": [],
    "cell_id": "00163-381e8d0e-bacc-4f7e-83c5-e11d1d66ce59",
    "deepnote_to_be_reexecuted": false,
    "source_hash": "a58a1f22",
    "execution_start": 1621064693130,
    "execution_millis": 15864,
    "deepnote_cell_type": "code"
   },
   "source": "n = 5000000\n\nimport math\n\ndef run_float(n=1):\n    a = 3.1415\n    for i in range(n):\n        math.sqrt(a)\n        \ndef run_decimal(n=1):\n    a = Decimal('3.1415')\n    for i in range(n):\n        a.sqrt()\n        \nstart = time.perf_counter()\nrun_float(n)\nend = time.perf_counter()\nprint('float: ', end-start)\n\nstart = time.perf_counter()\nrun_decimal(n)\nend = time.perf_counter()\nprint('decimal: ', end-start)",
   "execution_count": null,
   "outputs": [
    {
     "name": "stdout",
     "text": "float:  0.49298102899956575\ndecimal:  15.374246266000227\n",
     "output_type": "stream"
    }
   ]
  },
  {
   "cell_type": "markdown",
   "source": "# Header\n\n## Sub topic\n\n## Float\n\n### roiunding issues\n\n### floats are not true field",
   "metadata": {
    "tags": [],
    "cell_id": "00164-4e602332-b8a8-4ab0-8b78-f8329961828a",
    "deepnote_cell_type": "markdown"
   }
  },
  {
   "cell_type": "code",
   "metadata": {
    "tags": [],
    "cell_id": "00164-1580446c-611f-4781-acd6-fd1febdb44eb",
    "deepnote_to_be_reexecuted": false,
    "source_hash": "96b4563b",
    "execution_start": 1621065340230,
    "execution_millis": 1,
    "deepnote_cell_type": "code"
   },
   "source": "# Rounding away from the zero",
   "execution_count": null,
   "outputs": []
  },
  {
   "cell_type": "code",
   "metadata": {
    "tags": [],
    "cell_id": "00166-4e144bf5-e12e-4d9e-b6b2-bbb545e0a64b",
    "deepnote_to_be_reexecuted": false,
    "source_hash": "da48a782",
    "execution_start": 1621065366773,
    "execution_millis": 52,
    "deepnote_cell_type": "code"
   },
   "source": "# round(1.5) > 2\n# round (-3.5) > -4",
   "execution_count": null,
   "outputs": [
    {
     "output_type": "execute_result",
     "execution_count": 233,
     "data": {
      "text/plain": "2"
     },
     "metadata": {}
    }
   ]
  },
  {
   "cell_type": "markdown",
   "source": "<a style='text-decoration:none;line-height:16px;display:flex;color:#5B5B62;padding:10px;justify-content:end;' href='https://deepnote.com?utm_source=created-in-deepnote-cell&projectId=ec90de38-255d-4b81-a5aa-8cef77d684bf' target=\"_blank\">\n<img alt='Created in deepnote.com' style='display:inline;max-height:16px;margin:0px;margin-right:7.5px;' src='data:image/svg+xml;base64,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' > </img>\nCreated in <span style='font-weight:600;margin-left:4px;'>Deepnote</span></a>",
   "metadata": {
    "tags": [],
    "created_in_deepnote_cell": true,
    "deepnote_cell_type": "markdown"
   }
  }
 ],
 "nbformat": 4,
 "nbformat_minor": 2,
 "metadata": {
  "orig_nbformat": 2,
  "deepnote": {
   "is_reactive": false
  },
  "deepnote_notebook_id": "a4b07ad7-2309-4947-af0a-54ce5c73c550",
  "deepnote_execution_queue": []
 }
}