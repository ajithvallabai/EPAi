{
 "cells": [
  {
   "cell_type": "markdown",
   "id": "e429cad5",
   "metadata": {},
   "source": [
    "#### Task 1"
   ]
  },
  {
   "cell_type": "markdown",
   "id": "7c6ab055",
   "metadata": {},
   "source": [
    "\n",
    "Write a function using only list filter lambda that can tell whether a number is a Fibonacci number or not. \n",
    "You can use a pre-calculated list/dict to store fab numbers till 10000\n"
   ]
  },
  {
   "cell_type": "code",
   "execution_count": 2,
   "id": "46b3dd3b",
   "metadata": {},
   "outputs": [],
   "source": [
    "import part2"
   ]
  },
  {
   "cell_type": "code",
   "execution_count": 3,
   "id": "88c8e852",
   "metadata": {},
   "outputs": [
    {
     "data": {
      "text/plain": [
       "True"
      ]
     },
     "execution_count": 3,
     "metadata": {},
     "output_type": "execute_result"
    }
   ],
   "source": [
    "# Check if a number is fibanoci\n",
    "part2.CheckFibanoci(3)"
   ]
  },
  {
   "cell_type": "markdown",
   "id": "9e88930a",
   "metadata": {},
   "source": [
    "### Task 2"
   ]
  },
  {
   "cell_type": "markdown",
   "id": "98f766b4",
   "metadata": {},
   "source": [
    "Using list comprehension (and zip/lambda/etc if required) write expressions"
   ]
  },
  {
   "cell_type": "markdown",
   "id": "cb0f08af",
   "metadata": {},
   "source": [
    "2.1 - add 2 iterables a and b such that a is even and b is odd"
   ]
  },
  {
   "cell_type": "code",
   "execution_count": 5,
   "id": "d676252b",
   "metadata": {},
   "outputs": [
    {
     "data": {
      "text/plain": [
       "27"
      ]
     },
     "execution_count": 5,
     "metadata": {},
     "output_type": "execute_result"
    }
   ],
   "source": [
    "list1 = [2,3,4,5,6,7]\n",
    "list2 = [3,4,5,6,7,3]\n",
    "part2.addevenodd(list1,list2)"
   ]
  },
  {
   "cell_type": "markdown",
   "id": "e9cac43a",
   "metadata": {},
   "source": [
    "2.2 strips every vowel from a string provided (tsai>>t s)"
   ]
  },
  {
   "cell_type": "code",
   "execution_count": 2,
   "id": "4faf6dcf",
   "metadata": {},
   "outputs": [
    {
     "data": {
      "text/plain": [
       "'strngntgr'"
      ]
     },
     "execution_count": 2,
     "metadata": {},
     "output_type": "execute_result"
    }
   ],
   "source": [
    "inputString = 'stringinteger'\n",
    "part2.strip_vowel(inputString)"
   ]
  },
  {
   "cell_type": "markdown",
   "id": "dc4908b2",
   "metadata": {},
   "source": [
    "2.3 acts like a sigmoid function for a 1D array"
   ]
  },
  {
   "cell_type": "code",
   "execution_count": 4,
   "id": "106bc13d",
   "metadata": {},
   "outputs": [
    {
     "data": {
      "text/plain": [
       "[0.9525741268224334,\n",
       " 0.01798620996209156,\n",
       " 0.9933071490757153,\n",
       " 0.9975273768433653,\n",
       " 0.9990889488055994,\n",
       " 0.9996646498695336]"
      ]
     },
     "execution_count": 4,
     "metadata": {},
     "output_type": "execute_result"
    }
   ],
   "source": [
    "input_array = [3,-4,5,6,7,8]\n",
    "part2.sigmoid(input_array)"
   ]
  },
  {
   "cell_type": "markdown",
   "id": "d633d086",
   "metadata": {},
   "source": [
    "2.4 takes a small character string and shifts all characters by 5 (handle boundary conditions) tsai>>yxfn"
   ]
  },
  {
   "cell_type": "code",
   "execution_count": 7,
   "id": "07359f6b",
   "metadata": {},
   "outputs": [
    {
     "data": {
      "text/plain": [
       "'yxfn'"
      ]
     },
     "execution_count": 7,
     "metadata": {},
     "output_type": "execute_result"
    }
   ],
   "source": [
    "stringName = 'tsai'\n",
    "part2.shitbyfive(stringName)"
   ]
  },
  {
   "cell_type": "markdown",
   "id": "f5d34cce",
   "metadata": {},
   "source": [
    "### Task 4"
   ]
  },
  {
   "cell_type": "markdown",
   "id": "8ee23c89",
   "metadata": {},
   "source": [
    "Using reduce function"
   ]
  },
  {
   "cell_type": "markdown",
   "id": "79be0d0e",
   "metadata": {},
   "source": [
    "4.1 add only even numbers in a list"
   ]
  },
  {
   "cell_type": "code",
   "execution_count": 2,
   "id": "62d5ae58",
   "metadata": {},
   "outputs": [
    {
     "data": {
      "text/plain": [
       "12"
      ]
     },
     "execution_count": 2,
     "metadata": {},
     "output_type": "execute_result"
    }
   ],
   "source": [
    "list1 = [2,3,4,5,6,7]\n",
    "part2.addEvenNumbers(list1)"
   ]
  },
  {
   "cell_type": "code",
   "execution_count": null,
   "id": "a2362ea8",
   "metadata": {},
   "outputs": [],
   "source": []
  },
  {
   "cell_type": "markdown",
   "id": "2fcd3edd",
   "metadata": {},
   "source": [
    "4.2 find the biggest character in a string (printable ASCII characters)"
   ]
  },
  {
   "cell_type": "code",
   "execution_count": 3,
   "id": "8d587f1e",
   "metadata": {},
   "outputs": [
    {
     "data": {
      "text/plain": [
       "'d'"
      ]
     },
     "execution_count": 3,
     "metadata": {},
     "output_type": "execute_result"
    }
   ],
   "source": [
    "list1 =['a','b','c','d','Z']\n",
    "part2.findbig(list1)"
   ]
  },
  {
   "cell_type": "markdown",
   "id": "1bcb4cdd",
   "metadata": {},
   "source": [
    "4.3 adds every 3rd number in a list"
   ]
  },
  {
   "cell_type": "code",
   "execution_count": 4,
   "id": "4a9089a9",
   "metadata": {},
   "outputs": [
    {
     "data": {
      "text/plain": [
       "9"
      ]
     },
     "execution_count": 4,
     "metadata": {},
     "output_type": "execute_result"
    }
   ],
   "source": [
    "list1 = [10,1,2,3,4,5,6,7]\n",
    "part2.addthirdnum(list1)"
   ]
  },
  {
   "cell_type": "markdown",
   "id": "d2ef9b64",
   "metadata": {},
   "source": [
    "### Task 5"
   ]
  },
  {
   "cell_type": "markdown",
   "id": "7cdd90a3",
   "metadata": {},
   "source": [
    "Using randint, random.choice and list comprehensions, write an expression that generates 15 random number plates"
   ]
  },
  {
   "cell_type": "code",
   "execution_count": 5,
   "id": "20c05388",
   "metadata": {},
   "outputs": [
    {
     "data": {
      "text/plain": [
       "['KA33KG9593',\n",
       " 'KA95KQ6338',\n",
       " 'KA32HS9003',\n",
       " 'KA16LQ8056',\n",
       " 'KA20VQ1583',\n",
       " 'KA83AR7426',\n",
       " 'KA92CU9347',\n",
       " 'KA50VT8239',\n",
       " 'KA24QY1985',\n",
       " 'KA22TU9416',\n",
       " 'KA45HK1471',\n",
       " 'KA68EF8049',\n",
       " 'KA53EM1207',\n",
       " 'KA21HF8653',\n",
       " 'KA66WV6668']"
      ]
     },
     "execution_count": 5,
     "metadata": {},
     "output_type": "execute_result"
    }
   ],
   "source": [
    "numberlist = list(range(10,99+1))\n",
    "numberlist2 = list(range(1000,9999+1))\n",
    "alphalist = list(map(chr,range(65,91)))\n",
    "part2.numberplateGeneration(numberlist,numberlist2,alphalist)"
   ]
  },
  {
   "cell_type": "markdown",
   "id": "b681ab59",
   "metadata": {},
   "source": [
    "### Task 6"
   ]
  },
  {
   "cell_type": "markdown",
   "id": "30dfe003",
   "metadata": {},
   "source": [
    "Write the above again from scratch, use a partial function"
   ]
  },
  {
   "cell_type": "code",
   "execution_count": 3,
   "id": "d9682436",
   "metadata": {},
   "outputs": [
    {
     "data": {
      "text/plain": [
       "'DL12WQ1000'"
      ]
     },
     "execution_count": 3,
     "metadata": {},
     "output_type": "execute_result"
    }
   ],
   "source": [
    "part2.partialNumPlate('DL')"
   ]
  }
 ],
 "metadata": {
  "kernelspec": {
   "display_name": "Python 3",
   "language": "python",
   "name": "python3"
  },
  "language_info": {
   "codemirror_mode": {
    "name": "ipython",
    "version": 3
   },
   "file_extension": ".py",
   "mimetype": "text/x-python",
   "name": "python",
   "nbconvert_exporter": "python",
   "pygments_lexer": "ipython3",
   "version": "3.8.10"
  }
 },
 "nbformat": 4,
 "nbformat_minor": 5
}
