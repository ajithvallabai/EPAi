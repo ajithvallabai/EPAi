{
 "cells": [
  {
   "cell_type": "code",
   "metadata": {
    "tags": [],
    "cell_id": "00000-a18575c2-e015-4a17-bb4d-7af40f087d61",
    "deepnote_to_be_reexecuted": false,
    "source_hash": "f8c58ce4",
    "execution_start": 1622871798978,
    "execution_millis": 2,
    "deepnote_cell_type": "code"
   },
   "source": "help(print)",
   "outputs": [
    {
     "name": "stdout",
     "text": "Help on built-in function print in module builtins:\n\nprint(...)\n    print(value, ..., sep=' ', end='\\n', file=sys.stdout, flush=False)\n    \n    Prints the values to a stream, or to sys.stdout by default.\n    Optional keyword arguments:\n    file:  a file-like object (stream); defaults to the current sys.stdout.\n    sep:   string inserted between values, default a space.\n    end:   string appended after the last value, default a newline.\n    flush: whether to forcibly flush the stream.\n\n",
     "output_type": "stream"
    }
   ],
   "execution_count": null
  },
  {
   "cell_type": "code",
   "source": "def fact(n):\n    \"\"\"Calculates n! (factorial function)\n    Inputs: \n        n: non-negative integer\n    Rerurns:\n        the factorial of n\n    \"\"\"\n    if n < 0 :\n        '''Note that this is not a part of the docstring!'''\n        return 1\n    else:\n        return n * fact(n - 1)\n\n        ",
   "metadata": {
    "tags": [],
    "cell_id": "00001-44b8d46c-f6f1-4dff-92c7-1866ddc4e426",
    "deepnote_to_be_reexecuted": false,
    "source_hash": "8a7bb715",
    "execution_start": 1622871892491,
    "execution_millis": 7,
    "deepnote_cell_type": "code"
   },
   "outputs": [],
   "execution_count": null
  },
  {
   "cell_type": "code",
   "source": "help(fact)",
   "metadata": {
    "tags": [],
    "cell_id": "00002-2f87c374-a5ba-4368-b71e-41d8b95ebf5e",
    "deepnote_to_be_reexecuted": false,
    "source_hash": "d02da099",
    "execution_start": 1622871899376,
    "execution_millis": 1,
    "deepnote_cell_type": "code"
   },
   "outputs": [
    {
     "name": "stdout",
     "text": "Help on function fact in module __main__:\n\nfact(n)\n    Calculates n! (factorial function)\n    Inputs: \n        n: non-negative integer\n    Rerurns:\n        the factorial of n\n\n",
     "output_type": "stream"
    }
   ],
   "execution_count": null
  },
  {
   "cell_type": "code",
   "source": "fact.__doc__",
   "metadata": {
    "tags": [],
    "cell_id": "00003-35ea38c6-9e23-4947-b85a-9307e0c12640",
    "deepnote_to_be_reexecuted": false,
    "source_hash": "d445dba2",
    "execution_start": 1622871916562,
    "execution_millis": 30,
    "deepnote_cell_type": "code"
   },
   "outputs": [
    {
     "output_type": "execute_result",
     "execution_count": 5,
     "data": {
      "text/plain": "'Calculates n! (factorial function)\\n    Inputs: \\n        n: non-negative integer\\n    Rerurns:\\n        the factorial of n\\n    '"
     },
     "metadata": {}
    }
   ],
   "execution_count": null
  },
  {
   "cell_type": "code",
   "source": "print(fact.__doc__)",
   "metadata": {
    "tags": [],
    "cell_id": "00004-d1920b6d-2856-426b-b77e-347503bfef5b",
    "deepnote_to_be_reexecuted": false,
    "source_hash": "2cb234a1",
    "execution_start": 1622871927482,
    "execution_millis": 5,
    "deepnote_cell_type": "code"
   },
   "outputs": [
    {
     "name": "stdout",
     "text": "Calculates n! (factorial function)\n    Inputs: \n        n: non-negative integer\n    Rerurns:\n        the factorial of n\n    \n",
     "output_type": "stream"
    }
   ],
   "execution_count": null
  },
  {
   "cell_type": "code",
   "source": "def my_func(a: 'annotation for a', b: 'annotation for b') -> 'annotation for return':\n    return a*b",
   "metadata": {
    "tags": [],
    "cell_id": "00005-98e4ea1e-4d01-4452-887d-e03de8b8f88d",
    "deepnote_to_be_reexecuted": false,
    "source_hash": "33276388",
    "execution_start": 1622872009314,
    "execution_millis": 0,
    "deepnote_cell_type": "code"
   },
   "outputs": [],
   "execution_count": null
  },
  {
   "cell_type": "code",
   "source": "help(my_func)",
   "metadata": {
    "tags": [],
    "cell_id": "00006-cb780116-62a3-41a8-9be2-f59a8bceca4a",
    "deepnote_to_be_reexecuted": false,
    "source_hash": "b73d04ca",
    "execution_start": 1622872014589,
    "execution_millis": 33,
    "deepnote_cell_type": "code"
   },
   "outputs": [
    {
     "name": "stdout",
     "text": "Help on function my_func in module __main__:\n\nmy_func(a: 'annotation for a', b: 'annotation for b') -> 'annotation for return'\n\n",
     "output_type": "stream"
    }
   ],
   "execution_count": null
  },
  {
   "cell_type": "code",
   "source": "x = 3\ny = 5\ndef my_func(a: str) -> 'a repeated ' + str(max(3, 5)) + ' times':\n\treturn a*max(x, y)\n\nhelp(my_func)",
   "metadata": {
    "tags": [],
    "cell_id": "00007-7353bf9e-747d-4199-b9a9-ffebceb278ef",
    "deepnote_to_be_reexecuted": false,
    "source_hash": "92068c0a",
    "execution_start": 1622872036704,
    "execution_millis": 9,
    "deepnote_cell_type": "code"
   },
   "outputs": [
    {
     "name": "stdout",
     "text": "Help on function my_func in module __main__:\n\nmy_func(a: str) -> 'a repeated 5 times'\n\n",
     "output_type": "stream"
    }
   ],
   "execution_count": null
  },
  {
   "cell_type": "code",
   "source": "def fact(n: 'int >= 0')->int:\n    '''Calculates n! (factorial function)\n    \n    Inputs:\n        n: non-negative integer\n    Returns:\n        the factorial of n\n    '''\n    \n    if n < 0:\n        '''Note that this is not part of the docstring!'''\n        return 1\n    else:\n        return n * fact(n-1)",
   "metadata": {
    "tags": [],
    "cell_id": "00008-3f43ff8d-07b4-4830-9f44-6d58d423ba0a",
    "deepnote_to_be_reexecuted": false,
    "source_hash": "1ee33d6a",
    "execution_start": 1622872088040,
    "execution_millis": 1,
    "deepnote_cell_type": "code"
   },
   "outputs": [],
   "execution_count": null
  },
  {
   "cell_type": "code",
   "source": "help(fact)",
   "metadata": {
    "tags": [],
    "cell_id": "00009-8aa686d3-8a39-41e0-8b9d-a777ea68cbc1",
    "deepnote_to_be_reexecuted": false,
    "source_hash": "d02da099",
    "execution_start": 1622872094220,
    "execution_millis": 12,
    "deepnote_cell_type": "code"
   },
   "outputs": [
    {
     "name": "stdout",
     "text": "Help on function fact in module __main__:\n\nfact(n: 'int >= 0') -> int\n    Calculates n! (factorial function)\n    \n    Inputs:\n        n: non-negative integer\n    Returns:\n        the factorial of n\n\n",
     "output_type": "stream"
    }
   ],
   "execution_count": null
  },
  {
   "cell_type": "markdown",
   "source": "# Lambda Functions",
   "metadata": {
    "tags": [],
    "cell_id": "00010-f7c7c765-7f9c-46f2-8d01-7d043fcea3bc",
    "deepnote_cell_type": "text-cell-h1"
   }
  },
  {
   "cell_type": "code",
   "source": "lambda x: x ** 2",
   "metadata": {
    "tags": [],
    "cell_id": "00010-6b3723c9-92e8-4a9d-864f-0ce6943261c5",
    "deepnote_to_be_reexecuted": false,
    "source_hash": "fdb2c6b2",
    "execution_start": 1622872271213,
    "execution_millis": 2,
    "deepnote_cell_type": "code"
   },
   "outputs": [
    {
     "output_type": "execute_result",
     "execution_count": 13,
     "data": {
      "text/plain": "<function __main__.<lambda>(x)>"
     },
     "metadata": {}
    }
   ],
   "execution_count": null
  },
  {
   "cell_type": "code",
   "source": "my_func = lambda x: x ** 2",
   "metadata": {
    "tags": [],
    "cell_id": "00013-32f41396-4a91-4100-8c94-1a03474fb53d",
    "deepnote_to_be_reexecuted": false,
    "source_hash": "644866e2",
    "execution_start": 1622872311072,
    "execution_millis": 1,
    "deepnote_cell_type": "code"
   },
   "outputs": [],
   "execution_count": null
  },
  {
   "cell_type": "code",
   "source": "my_func(10)",
   "metadata": {
    "tags": [],
    "cell_id": "00013-2c6d2f79-0351-400c-8ddf-dcdd9b42b666",
    "deepnote_to_be_reexecuted": false,
    "source_hash": "2440351f",
    "execution_start": 1622872316687,
    "execution_millis": 7,
    "deepnote_cell_type": "code"
   },
   "outputs": [
    {
     "output_type": "execute_result",
     "execution_count": 16,
     "data": {
      "text/plain": "100"
     },
     "metadata": {}
    }
   ],
   "execution_count": null
  },
  {
   "cell_type": "code",
   "source": "def my_func(x):\n    return x ** 2",
   "metadata": {
    "tags": [],
    "cell_id": "00014-26ea762b-87f8-47f5-b55f-b4258585a42d",
    "deepnote_to_be_reexecuted": false,
    "source_hash": "4f47b61c",
    "execution_start": 1622872353173,
    "execution_millis": 3,
    "deepnote_cell_type": "code"
   },
   "outputs": [],
   "execution_count": null
  },
  {
   "cell_type": "code",
   "source": "my_func(10)",
   "metadata": {
    "tags": [],
    "cell_id": "00015-cce0492e-8207-44c7-b4b6-d2aed1c61973",
    "deepnote_to_be_reexecuted": false,
    "source_hash": "2440351f",
    "execution_start": 1622872357858,
    "execution_millis": 20,
    "deepnote_cell_type": "code"
   },
   "outputs": [
    {
     "output_type": "execute_result",
     "execution_count": 19,
     "data": {
      "text/plain": "100"
     },
     "metadata": {}
    }
   ],
   "execution_count": null
  },
  {
   "cell_type": "code",
   "source": "func_2 = lambda x, *args, y, **kwargs: (x, *args, y, {**kwargs})",
   "metadata": {
    "tags": [],
    "cell_id": "00016-318de1ce-51ef-4d81-a0e2-9e29a02dc20b",
    "deepnote_to_be_reexecuted": false,
    "source_hash": "3796e221",
    "execution_start": 1622872410427,
    "execution_millis": 3,
    "deepnote_cell_type": "code"
   },
   "outputs": [],
   "execution_count": null
  },
  {
   "cell_type": "code",
   "source": "func_2(1, 'a', [1, 2, 3], y = 10, frodo='Mordor', gimli = 'Aragan')",
   "metadata": {
    "tags": [],
    "cell_id": "00017-1ccbf36a-adca-49e0-b209-2f46fbe76efc",
    "deepnote_to_be_reexecuted": false,
    "source_hash": "d3c2bc7e",
    "execution_start": 1622872449956,
    "execution_millis": 11,
    "deepnote_cell_type": "code"
   },
   "outputs": [
    {
     "output_type": "execute_result",
     "execution_count": 21,
     "data": {
      "text/plain": "(1, 'a', [1, 2, 3], 10, {'frodo': 'Mordor', 'gimli': 'Aragan'})"
     },
     "metadata": {}
    }
   ],
   "execution_count": null
  },
  {
   "cell_type": "code",
   "source": "def apply_func(x, fn):\n    return fn(x)",
   "metadata": {
    "tags": [],
    "cell_id": "00018-7fb6947a-8edf-4fa2-8cba-05e28151861f",
    "deepnote_to_be_reexecuted": false,
    "source_hash": "d336d5f9",
    "execution_start": 1622872476680,
    "execution_millis": 5,
    "deepnote_cell_type": "code"
   },
   "outputs": [],
   "execution_count": null
  },
  {
   "cell_type": "code",
   "source": "sq = lambda x: x**2\napply_func(2, sq)",
   "metadata": {
    "tags": [],
    "cell_id": "00019-cae1a42f-bb95-4813-98fc-03fca5742576",
    "deepnote_to_be_reexecuted": false,
    "source_hash": "ad7f037e",
    "execution_start": 1622872507918,
    "execution_millis": 11,
    "deepnote_cell_type": "code"
   },
   "outputs": [
    {
     "output_type": "execute_result",
     "execution_count": 23,
     "data": {
      "text/plain": "4"
     },
     "metadata": {}
    }
   ],
   "execution_count": null
  },
  {
   "cell_type": "code",
   "source": "apply_func(2, lambda x: x**2)",
   "metadata": {
    "tags": [],
    "cell_id": "00020-280f8c10-98a2-44a7-bc56-d8849d1c15a2",
    "deepnote_to_be_reexecuted": false,
    "source_hash": "cddc9d9f",
    "execution_start": 1622872527147,
    "execution_millis": 15,
    "deepnote_cell_type": "code"
   },
   "outputs": [
    {
     "output_type": "execute_result",
     "execution_count": 24,
     "data": {
      "text/plain": "4"
     },
     "metadata": {}
    }
   ],
   "execution_count": null
  },
  {
   "cell_type": "code",
   "source": "del(sq)",
   "metadata": {
    "tags": [],
    "cell_id": "00021-0329a05d-d947-46f0-b4dd-d45a0f1e4d62",
    "deepnote_to_be_reexecuted": false,
    "source_hash": "1428faa1",
    "execution_start": 1622872538988,
    "execution_millis": 8,
    "deepnote_cell_type": "code"
   },
   "outputs": [],
   "execution_count": null
  },
  {
   "cell_type": "code",
   "source": "def apply_func(fx, *args, **kwargs):\n    return fx(*args, **kwargs)",
   "metadata": {
    "tags": [],
    "cell_id": "00022-bc60a16f-863f-456b-8733-ecd27774ea7b",
    "deepnote_to_be_reexecuted": false,
    "source_hash": "82c84a5c",
    "execution_start": 1622872568821,
    "execution_millis": 3,
    "deepnote_cell_type": "code"
   },
   "outputs": [],
   "execution_count": null
  },
  {
   "cell_type": "code",
   "source": "apply_func(lambda *args: sum(args), 1, 2, 3, 4, 5, 6, 7)",
   "metadata": {
    "tags": [],
    "cell_id": "00023-6b13e81d-0836-477a-83aa-1c2a36398156",
    "deepnote_to_be_reexecuted": false,
    "source_hash": "207e710d",
    "execution_start": 1622872619298,
    "execution_millis": 13,
    "deepnote_cell_type": "code"
   },
   "outputs": [
    {
     "output_type": "execute_result",
     "execution_count": 30,
     "data": {
      "text/plain": "28"
     },
     "metadata": {}
    }
   ],
   "execution_count": null
  },
  {
   "cell_type": "code",
   "source": "apply_func(sum, (1, 2, 3, 4, 5, 6, 7))\n",
   "metadata": {
    "tags": [],
    "cell_id": "00024-cd242970-4634-498e-8f57-830723cc7a46",
    "deepnote_to_be_reexecuted": false,
    "source_hash": "6dd1a412",
    "execution_start": 1622872639762,
    "execution_millis": 4,
    "deepnote_cell_type": "code"
   },
   "outputs": [
    {
     "output_type": "execute_result",
     "execution_count": 32,
     "data": {
      "text/plain": "28"
     },
     "metadata": {}
    }
   ],
   "execution_count": null
  },
  {
   "cell_type": "code",
   "source": "sum((1, 2, 3, 4))",
   "metadata": {
    "tags": [],
    "cell_id": "00025-f4f878d0-f4dc-4082-8da5-4c0fd0cd4238",
    "deepnote_to_be_reexecuted": false,
    "source_hash": "56558af1",
    "execution_start": 1622872655099,
    "execution_millis": 7,
    "deepnote_cell_type": "code"
   },
   "outputs": [
    {
     "output_type": "execute_result",
     "execution_count": 35,
     "data": {
      "text/plain": "10"
     },
     "metadata": {}
    }
   ],
   "execution_count": null
  },
  {
   "cell_type": "code",
   "source": "l = ['a', 'B', 'c', 'D']\n\nsorted(l)",
   "metadata": {
    "tags": [],
    "cell_id": "00026-a606e46a-45e4-43be-8e17-7e0962c4e88c",
    "deepnote_to_be_reexecuted": false,
    "source_hash": "d3b9f471",
    "execution_start": 1622872683009,
    "execution_millis": 30,
    "deepnote_cell_type": "code"
   },
   "outputs": [
    {
     "output_type": "execute_result",
     "execution_count": 36,
     "data": {
      "text/plain": "['B', 'D', 'a', 'c']"
     },
     "metadata": {}
    }
   ],
   "execution_count": null
  },
  {
   "cell_type": "code",
   "source": "# c, a, D, B\nsorted(l, key = str.upper)",
   "metadata": {
    "tags": [],
    "cell_id": "00027-359a067e-577c-432a-8854-966775d2f3de",
    "deepnote_to_be_reexecuted": false,
    "source_hash": "9701a89c",
    "execution_start": 1622872771651,
    "execution_millis": 17,
    "deepnote_cell_type": "code"
   },
   "outputs": [
    {
     "output_type": "execute_result",
     "execution_count": 37,
     "data": {
      "text/plain": "['a', 'B', 'c', 'D']"
     },
     "metadata": {}
    }
   ],
   "execution_count": null
  },
  {
   "cell_type": "code",
   "source": "sorted(l, reverse=True)",
   "metadata": {
    "tags": [],
    "cell_id": "00028-a21c4a5e-74a5-46ad-a671-a85ef3fde427",
    "deepnote_to_be_reexecuted": false,
    "source_hash": "d08ef646",
    "execution_start": 1622872822204,
    "execution_millis": 8,
    "deepnote_cell_type": "code"
   },
   "outputs": [
    {
     "output_type": "execute_result",
     "execution_count": 38,
     "data": {
      "text/plain": "['c', 'a', 'D', 'B']"
     },
     "metadata": {}
    }
   ],
   "execution_count": null
  },
  {
   "cell_type": "code",
   "source": "d = {'def': 300, 'abc': 200, 'ghi': 100}",
   "metadata": {
    "tags": [],
    "cell_id": "00029-af3c1094-5577-4c14-aab2-7cd023a3aa9d",
    "deepnote_to_be_reexecuted": false,
    "source_hash": "fd832e0b",
    "execution_start": 1622872842821,
    "execution_millis": 7,
    "deepnote_cell_type": "code"
   },
   "outputs": [],
   "execution_count": null
  },
  {
   "cell_type": "code",
   "source": "sorted(d)",
   "metadata": {
    "tags": [],
    "cell_id": "00030-df8be56b-295d-45db-abba-1e3d12eedd9c",
    "deepnote_to_be_reexecuted": false,
    "source_hash": "c2825d1e",
    "execution_start": 1622872848824,
    "execution_millis": 51,
    "deepnote_cell_type": "code"
   },
   "outputs": [
    {
     "output_type": "execute_result",
     "execution_count": 40,
     "data": {
      "text/plain": "['abc', 'def', 'ghi']"
     },
     "metadata": {}
    }
   ],
   "execution_count": null
  },
  {
   "cell_type": "code",
   "source": "sorted(d, key = lambda x: d[x])",
   "metadata": {
    "tags": [],
    "cell_id": "00031-6bd68267-2b7f-4f69-8f0f-7195246d31d7",
    "deepnote_to_be_reexecuted": false,
    "source_hash": "65fe9479",
    "execution_start": 1622872921721,
    "execution_millis": 8,
    "deepnote_cell_type": "code"
   },
   "outputs": [
    {
     "output_type": "execute_result",
     "execution_count": 41,
     "data": {
      "text/plain": "['ghi', 'abc', 'def']"
     },
     "metadata": {}
    }
   ],
   "execution_count": null
  },
  {
   "cell_type": "markdown",
   "source": "# Functional Introspection",
   "metadata": {
    "tags": [],
    "cell_id": "00032-0ad8d64a-3a65-4cb6-9fa1-e367492e515a",
    "deepnote_cell_type": "text-cell-h1"
   }
  },
  {
   "cell_type": "code",
   "source": "def fact(n: \"some non-negative integer\") -> \"n! or 0 if n < 0\":\n    \"\"\"Calculates the factorial of a non-negative integer n\n    \n    If n is negative, returns 0.\n    \"\"\"\n    if n < 0:\n        return 0\n    elif n <= 1:\n        return 1\n    else:\n        return n * fact(n-1)",
   "metadata": {
    "tags": [],
    "cell_id": "00032-e2dbd550-1490-4479-88c9-79376ae0a2db",
    "deepnote_to_be_reexecuted": false,
    "source_hash": "ece19dd8",
    "execution_start": 1622872964099,
    "execution_millis": 13,
    "deepnote_cell_type": "code"
   },
   "outputs": [],
   "execution_count": null
  },
  {
   "cell_type": "code",
   "source": "fact.short_description = \"factorial function\"",
   "metadata": {
    "tags": [],
    "cell_id": "00034-82f7e511-339c-4054-ab13-4496f8fd4cea",
    "deepnote_to_be_reexecuted": false,
    "source_hash": "e222a675",
    "execution_start": 1622872979414,
    "execution_millis": 3,
    "deepnote_cell_type": "code"
   },
   "outputs": [],
   "execution_count": null
  },
  {
   "cell_type": "code",
   "source": "print(fact.short_description)",
   "metadata": {
    "tags": [],
    "cell_id": "00035-f0a7cb18-1378-458b-bb74-13adfaa1bc38",
    "deepnote_to_be_reexecuted": false,
    "source_hash": "78ff66ad",
    "execution_start": 1622872994059,
    "execution_millis": 12,
    "deepnote_cell_type": "code"
   },
   "outputs": [
    {
     "name": "stdout",
     "text": "factorial function\n",
     "output_type": "stream"
    }
   ],
   "execution_count": null
  },
  {
   "cell_type": "code",
   "source": "help(fact)",
   "metadata": {
    "tags": [],
    "cell_id": "00036-df4e50f7-7197-4cd0-bb08-74d1937f46d7",
    "deepnote_to_be_reexecuted": false,
    "source_hash": "d02da099",
    "execution_start": 1622873000981,
    "execution_millis": 7,
    "deepnote_cell_type": "code"
   },
   "outputs": [
    {
     "name": "stdout",
     "text": "Help on function fact in module __main__:\n\nfact(n: 'some non-negative integer') -> 'n! or 0 if n < 0'\n    Calculates the factorial of a non-negative integer n\n    \n    If n is negative, returns 0.\n\n",
     "output_type": "stream"
    }
   ],
   "execution_count": null
  },
  {
   "cell_type": "code",
   "source": "dir(fact)",
   "metadata": {
    "tags": [],
    "cell_id": "00037-9ad0ff6c-9415-4ac7-aad4-8d2193da23ac",
    "deepnote_to_be_reexecuted": false,
    "source_hash": "87dcbca8",
    "execution_start": 1622873014733,
    "execution_millis": 28,
    "deepnote_cell_type": "code"
   },
   "outputs": [
    {
     "output_type": "execute_result",
     "execution_count": 46,
     "data": {
      "text/plain": "['__annotations__',\n '__call__',\n '__class__',\n '__closure__',\n '__code__',\n '__defaults__',\n '__delattr__',\n '__dict__',\n '__dir__',\n '__doc__',\n '__eq__',\n '__format__',\n '__ge__',\n '__get__',\n '__getattribute__',\n '__globals__',\n '__gt__',\n '__hash__',\n '__init__',\n '__init_subclass__',\n '__kwdefaults__',\n '__le__',\n '__lt__',\n '__module__',\n '__name__',\n '__ne__',\n '__new__',\n '__qualname__',\n '__reduce__',\n '__reduce_ex__',\n '__repr__',\n '__setattr__',\n '__sizeof__',\n '__str__',\n '__subclasshook__',\n 'short_description']"
     },
     "metadata": {}
    }
   ],
   "execution_count": null
  },
  {
   "cell_type": "code",
   "source": "fact.__annotations__",
   "metadata": {
    "tags": [],
    "cell_id": "00038-c5eca151-85e6-494c-8050-3321c6d1d6c1",
    "deepnote_to_be_reexecuted": false,
    "source_hash": "c4e8be35",
    "execution_start": 1622873025228,
    "execution_millis": 18,
    "deepnote_cell_type": "code"
   },
   "outputs": [
    {
     "output_type": "execute_result",
     "execution_count": 47,
     "data": {
      "text/plain": "{'n': 'some non-negative integer', 'return': 'n! or 0 if n < 0'}"
     },
     "metadata": {}
    }
   ],
   "execution_count": null
  },
  {
   "cell_type": "code",
   "source": "fact.__code__",
   "metadata": {
    "tags": [],
    "cell_id": "00039-3b5f8613-1d7e-4971-8bf4-2067ecc26dcc",
    "deepnote_to_be_reexecuted": false,
    "source_hash": "704f7766",
    "execution_start": 1622873089597,
    "deepnote_cell_type": "code"
   },
   "outputs": [
    {
     "output_type": "execute_result",
     "execution_count": 48,
     "data": {
      "text/plain": "<code object fact at 0x7f3871831870, file \"<ipython-input-42-4b5d9a095fa9>\", line 1>"
     },
     "metadata": {}
    }
   ],
   "execution_count": null
  },
  {
   "cell_type": "code",
   "source": "def my_func(a, b = 2, c = 3, *, kw1, kw2=2, **kwargs):\n    pass",
   "metadata": {
    "tags": [],
    "cell_id": "00040-c7630682-9100-4d3d-9c75-abbeae7f3da7",
    "deepnote_to_be_reexecuted": false,
    "source_hash": "17b58d8d",
    "execution_start": 1622873137737,
    "execution_millis": 4,
    "deepnote_cell_type": "code"
   },
   "outputs": [],
   "execution_count": null
  },
  {
   "cell_type": "code",
   "source": "f = my_func",
   "metadata": {
    "tags": [],
    "cell_id": "00041-1bce20c9-bc8d-4f1a-b922-90f51050249a",
    "deepnote_to_be_reexecuted": false,
    "source_hash": "a68ae2c9",
    "execution_start": 1622873142521,
    "execution_millis": 7,
    "deepnote_cell_type": "code"
   },
   "outputs": [],
   "execution_count": null
  },
  {
   "cell_type": "code",
   "source": "my_func.__name__",
   "metadata": {
    "tags": [],
    "cell_id": "00042-7a496d79-981c-4325-8143-10948b0bdc18",
    "deepnote_to_be_reexecuted": false,
    "source_hash": "6fe390d",
    "execution_start": 1622873165800,
    "execution_millis": 47,
    "deepnote_cell_type": "code"
   },
   "outputs": [
    {
     "output_type": "execute_result",
     "execution_count": 51,
     "data": {
      "text/plain": "'my_func'"
     },
     "metadata": {}
    }
   ],
   "execution_count": null
  },
  {
   "cell_type": "code",
   "source": "f.__name__",
   "metadata": {
    "tags": [],
    "cell_id": "00043-52eba3ca-f159-4400-b00b-4fad04355494",
    "deepnote_to_be_reexecuted": false,
    "source_hash": "6ccc2945",
    "execution_start": 1622873171760,
    "execution_millis": 25,
    "deepnote_cell_type": "code"
   },
   "outputs": [
    {
     "output_type": "execute_result",
     "execution_count": 52,
     "data": {
      "text/plain": "'my_func'"
     },
     "metadata": {}
    }
   ],
   "execution_count": null
  },
  {
   "cell_type": "code",
   "source": "dir(my_func)",
   "metadata": {
    "tags": [],
    "cell_id": "00044-4bd95f16-2ffc-4824-87fb-e5ad12486e4f",
    "deepnote_to_be_reexecuted": false,
    "source_hash": "77564476",
    "execution_start": 1622873186781,
    "execution_millis": 22,
    "deepnote_cell_type": "code"
   },
   "outputs": [
    {
     "output_type": "execute_result",
     "execution_count": 53,
     "data": {
      "text/plain": "['__annotations__',\n '__call__',\n '__class__',\n '__closure__',\n '__code__',\n '__defaults__',\n '__delattr__',\n '__dict__',\n '__dir__',\n '__doc__',\n '__eq__',\n '__format__',\n '__ge__',\n '__get__',\n '__getattribute__',\n '__globals__',\n '__gt__',\n '__hash__',\n '__init__',\n '__init_subclass__',\n '__kwdefaults__',\n '__le__',\n '__lt__',\n '__module__',\n '__name__',\n '__ne__',\n '__new__',\n '__qualname__',\n '__reduce__',\n '__reduce_ex__',\n '__repr__',\n '__setattr__',\n '__sizeof__',\n '__str__',\n '__subclasshook__']"
     },
     "metadata": {}
    }
   ],
   "execution_count": null
  },
  {
   "cell_type": "code",
   "source": "my_func.__defaults__",
   "metadata": {
    "tags": [],
    "cell_id": "00045-99430a2f-c661-4400-9043-25b94479726c",
    "deepnote_to_be_reexecuted": false,
    "source_hash": "9051d23a",
    "execution_start": 1622873208693,
    "execution_millis": 26,
    "deepnote_cell_type": "code"
   },
   "outputs": [
    {
     "output_type": "execute_result",
     "execution_count": 54,
     "data": {
      "text/plain": "(2, 3)"
     },
     "metadata": {}
    }
   ],
   "execution_count": null
  },
  {
   "cell_type": "code",
   "source": "my_func.__kwdefaults__",
   "metadata": {
    "tags": [],
    "cell_id": "00046-711f80bb-ee27-466f-aa96-3f93bcc3dd06",
    "deepnote_to_be_reexecuted": false,
    "source_hash": "e2623028",
    "execution_start": 1622873230296,
    "execution_millis": 23,
    "deepnote_cell_type": "code"
   },
   "outputs": [
    {
     "output_type": "execute_result",
     "execution_count": 56,
     "data": {
      "text/plain": "{'kw2': 2}"
     },
     "metadata": {}
    }
   ],
   "execution_count": null
  },
  {
   "cell_type": "code",
   "source": "def my_func(a, b = 1, *args, **kwargs):\n    i = 10\n    b = min(i, b)\n    return a * b",
   "metadata": {
    "tags": [],
    "cell_id": "00047-26d95dcb-d993-436b-90ab-66060ed2525f",
    "deepnote_to_be_reexecuted": false,
    "source_hash": "ea4bb99c",
    "execution_start": 1622873262812,
    "execution_millis": 8,
    "deepnote_cell_type": "code"
   },
   "outputs": [],
   "execution_count": null
  },
  {
   "cell_type": "code",
   "source": "my_func('a', 100)",
   "metadata": {
    "tags": [],
    "cell_id": "00048-a8f9e172-f3fa-4a35-a972-c6384a140a01",
    "deepnote_to_be_reexecuted": false,
    "source_hash": "978811a9",
    "execution_start": 1622873271351,
    "execution_millis": 8,
    "deepnote_cell_type": "code"
   },
   "outputs": [
    {
     "output_type": "execute_result",
     "execution_count": 58,
     "data": {
      "text/plain": "'aaaaaaaaaa'"
     },
     "metadata": {}
    }
   ],
   "execution_count": null
  },
  {
   "cell_type": "code",
   "source": "my_func.__code__",
   "metadata": {
    "tags": [],
    "cell_id": "00049-f300a1f7-9e3b-4b62-8b39-2eb31b5aac65",
    "deepnote_to_be_reexecuted": false,
    "source_hash": "640fd719",
    "execution_start": 1622873287203,
    "execution_millis": 16,
    "deepnote_cell_type": "code"
   },
   "outputs": [
    {
     "output_type": "execute_result",
     "execution_count": 59,
     "data": {
      "text/plain": "<code object my_func at 0x7f3871626450, file \"<ipython-input-57-458bb8b6c95a>\", line 1>"
     },
     "metadata": {}
    }
   ],
   "execution_count": null
  },
  {
   "cell_type": "code",
   "source": "dir(my_func.__code__)",
   "metadata": {
    "tags": [],
    "cell_id": "00050-4b9b558b-f721-475e-b2d3-8935748c0122",
    "deepnote_to_be_reexecuted": false,
    "source_hash": "da44c750",
    "execution_start": 1622873298250,
    "execution_millis": 8,
    "deepnote_cell_type": "code"
   },
   "outputs": [
    {
     "output_type": "execute_result",
     "execution_count": 60,
     "data": {
      "text/plain": "['__class__',\n '__delattr__',\n '__dir__',\n '__doc__',\n '__eq__',\n '__format__',\n '__ge__',\n '__getattribute__',\n '__gt__',\n '__hash__',\n '__init__',\n '__init_subclass__',\n '__le__',\n '__lt__',\n '__ne__',\n '__new__',\n '__reduce__',\n '__reduce_ex__',\n '__repr__',\n '__setattr__',\n '__sizeof__',\n '__str__',\n '__subclasshook__',\n 'co_argcount',\n 'co_cellvars',\n 'co_code',\n 'co_consts',\n 'co_filename',\n 'co_firstlineno',\n 'co_flags',\n 'co_freevars',\n 'co_kwonlyargcount',\n 'co_lnotab',\n 'co_name',\n 'co_names',\n 'co_nlocals',\n 'co_posonlyargcount',\n 'co_stacksize',\n 'co_varnames',\n 'replace']"
     },
     "metadata": {}
    }
   ],
   "execution_count": null
  },
  {
   "cell_type": "code",
   "source": "my_func.__code__.co_varnames",
   "metadata": {
    "tags": [],
    "cell_id": "00051-df3bd5d3-9032-4a63-b4d8-122cd69650a9",
    "deepnote_to_be_reexecuted": false,
    "source_hash": "c8e37758",
    "execution_start": 1622873387067,
    "execution_millis": 13,
    "deepnote_cell_type": "code"
   },
   "outputs": [
    {
     "output_type": "execute_result",
     "execution_count": 61,
     "data": {
      "text/plain": "('a', 'b', 'args', 'kwargs', 'i')"
     },
     "metadata": {}
    }
   ],
   "execution_count": null
  },
  {
   "cell_type": "code",
   "source": "my_func.__code__.co_argcount",
   "metadata": {
    "tags": [],
    "cell_id": "00052-854be701-bbda-4d88-b934-ad544c5f3b7b",
    "deepnote_to_be_reexecuted": false,
    "source_hash": "c2f4f379",
    "execution_start": 1622873406951,
    "execution_millis": 15,
    "deepnote_cell_type": "code"
   },
   "outputs": [
    {
     "output_type": "execute_result",
     "execution_count": 62,
     "data": {
      "text/plain": "2"
     },
     "metadata": {}
    }
   ],
   "execution_count": null
  },
  {
   "cell_type": "code",
   "source": "import inspect",
   "metadata": {
    "tags": [],
    "cell_id": "00053-0a9bc415-c134-4673-adc1-a991b5038f0d",
    "deepnote_to_be_reexecuted": false,
    "source_hash": "3dddf69e",
    "execution_start": 1622873423090,
    "execution_millis": 4,
    "deepnote_cell_type": "code"
   },
   "outputs": [],
   "execution_count": null
  },
  {
   "cell_type": "code",
   "source": "inspect.isfunction(my_func)",
   "metadata": {
    "tags": [],
    "cell_id": "00054-45178851-1800-4b2e-8a0f-e6632ae5f33c",
    "deepnote_to_be_reexecuted": false,
    "source_hash": "c98024ec",
    "execution_start": 1622873430402,
    "execution_millis": 24,
    "deepnote_cell_type": "code"
   },
   "outputs": [
    {
     "output_type": "execute_result",
     "execution_count": 64,
     "data": {
      "text/plain": "True"
     },
     "metadata": {}
    }
   ],
   "execution_count": null
  },
  {
   "cell_type": "code",
   "source": "# function != method",
   "metadata": {
    "tags": [],
    "cell_id": "00055-ffe0bce8-ce08-458a-b36f-29b22da4ea5f",
    "deepnote_to_be_reexecuted": false,
    "source_hash": "516a3886",
    "execution_start": 1622873462720,
    "execution_millis": 1,
    "deepnote_cell_type": "code"
   },
   "outputs": [],
   "execution_count": null
  },
  {
   "cell_type": "code",
   "source": "# Method is function belonging to a class. only accessed by the objects\n# A method IS a function that is bound to some object",
   "metadata": {
    "tags": [],
    "cell_id": "00056-c7d5fe96-e5ee-4bdd-bec7-c05daf6c4fcb",
    "deepnote_to_be_reexecuted": false,
    "source_hash": "63999092",
    "execution_start": 1622873564822,
    "execution_millis": 1,
    "deepnote_cell_type": "code"
   },
   "outputs": [],
   "execution_count": null
  },
  {
   "cell_type": "code",
   "source": "inspect.ismethod(my_func)",
   "metadata": {
    "tags": [],
    "cell_id": "00057-8568c975-5af2-4210-b917-9ac909527f1a",
    "deepnote_to_be_reexecuted": false,
    "source_hash": "665aabcb",
    "execution_start": 1622873630467,
    "execution_millis": 42,
    "deepnote_cell_type": "code"
   },
   "outputs": [
    {
     "output_type": "execute_result",
     "execution_count": 67,
     "data": {
      "text/plain": "False"
     },
     "metadata": {}
    }
   ],
   "execution_count": null
  },
  {
   "cell_type": "code",
   "source": "class MyClass:\n    # instance method: bounded to the OBJ of the MyClass\n    def f_instance(self):\n        pass\n\n    # class method: bounded to the Class MyClass (and by inheritance to its objects too)\n    @classmethod\n    def f_class(cls):\n        pass\n\n    # static methods: are bounded neither to the class or its instance \n    @staticmethod\n    def f_static():\n        pass",
   "metadata": {
    "tags": [],
    "cell_id": "00058-7aee15b2-2d5d-4395-8ebb-38e51e50beeb",
    "deepnote_to_be_reexecuted": false,
    "source_hash": "2a7b9d59",
    "execution_start": 1622873773378,
    "execution_millis": 1,
    "deepnote_cell_type": "code"
   },
   "outputs": [],
   "execution_count": null
  },
  {
   "cell_type": "code",
   "source": "inspect.isfunction(MyClass.f_instance), inspect.ismethod(MyClass.f_instance)",
   "metadata": {
    "tags": [],
    "cell_id": "00059-714a79e9-c8ae-4cfd-864c-e00260095e44",
    "deepnote_to_be_reexecuted": false,
    "source_hash": "558d57e7",
    "execution_start": 1622873805106,
    "execution_millis": 14,
    "deepnote_cell_type": "code"
   },
   "outputs": [
    {
     "output_type": "execute_result",
     "execution_count": 70,
     "data": {
      "text/plain": "(True, False)"
     },
     "metadata": {}
    }
   ],
   "execution_count": null
  },
  {
   "cell_type": "code",
   "source": "inspect.isfunction(MyClass.f_class), inspect.ismethod(MyClass.f_class)",
   "metadata": {
    "tags": [],
    "cell_id": "00060-e2dc866e-74ef-49f6-92eb-32c103f7fb37",
    "deepnote_to_be_reexecuted": false,
    "source_hash": "6b318e02",
    "execution_start": 1622873838170,
    "execution_millis": 14,
    "deepnote_cell_type": "code"
   },
   "outputs": [
    {
     "output_type": "execute_result",
     "execution_count": 71,
     "data": {
      "text/plain": "(False, True)"
     },
     "metadata": {}
    }
   ],
   "execution_count": null
  },
  {
   "cell_type": "code",
   "source": "inspect.isfunction(MyClass.f_static), inspect.ismethod(MyClass.f_static)",
   "metadata": {
    "tags": [],
    "cell_id": "00061-93219b2f-c0da-488a-9ecf-d84f5b468216",
    "deepnote_to_be_reexecuted": false,
    "source_hash": "eb5d265c",
    "execution_start": 1622873862509,
    "execution_millis": 17,
    "deepnote_cell_type": "code"
   },
   "outputs": [
    {
     "output_type": "execute_result",
     "execution_count": 72,
     "data": {
      "text/plain": "(True, False)"
     },
     "metadata": {}
    }
   ],
   "execution_count": null
  },
  {
   "cell_type": "code",
   "source": "my_obj = MyClass()",
   "metadata": {
    "tags": [],
    "cell_id": "00062-a39ffa02-69cf-41e5-8718-5f04ad7631c9",
    "deepnote_to_be_reexecuted": false,
    "source_hash": "b8a69391",
    "execution_start": 1622873947695,
    "execution_millis": 6,
    "deepnote_cell_type": "code"
   },
   "outputs": [],
   "execution_count": null
  },
  {
   "cell_type": "code",
   "source": "inspect.isfunction(my_obj.f_instance), inspect.ismethod(my_obj.f_instance)",
   "metadata": {
    "tags": [],
    "cell_id": "00063-6d7e42cc-aa4b-4b3f-8055-86f157aa2629",
    "deepnote_to_be_reexecuted": false,
    "source_hash": "1c5cbbd3",
    "execution_start": 1622873995050,
    "execution_millis": 0,
    "deepnote_cell_type": "code"
   },
   "outputs": [
    {
     "output_type": "execute_result",
     "execution_count": 74,
     "data": {
      "text/plain": "(False, True)"
     },
     "metadata": {}
    }
   ],
   "execution_count": null
  },
  {
   "cell_type": "code",
   "source": "inspect.isfunction(my_obj.f_class), inspect.ismethod(my_obj.f_class)",
   "metadata": {
    "tags": [],
    "cell_id": "00064-4d9a6f1e-af47-479c-8b59-f568a59c7872",
    "deepnote_to_be_reexecuted": false,
    "source_hash": "57ec25f8",
    "execution_start": 1622874039631,
    "execution_millis": 16,
    "deepnote_cell_type": "code"
   },
   "outputs": [
    {
     "output_type": "execute_result",
     "execution_count": 75,
     "data": {
      "text/plain": "(False, True)"
     },
     "metadata": {}
    }
   ],
   "execution_count": null
  },
  {
   "cell_type": "code",
   "source": "inspect.isfunction(my_obj.f_static), inspect.ismethod(my_obj.f_static)",
   "metadata": {
    "tags": [],
    "cell_id": "00065-b078f69c-ebbb-4f5f-b046-fe3fef745cb4",
    "deepnote_to_be_reexecuted": false,
    "source_hash": "f8336e8c",
    "execution_start": 1622874160674,
    "execution_millis": 6,
    "deepnote_cell_type": "code"
   },
   "outputs": [
    {
     "output_type": "execute_result",
     "execution_count": 76,
     "data": {
      "text/plain": "(True, False)"
     },
     "metadata": {}
    }
   ],
   "execution_count": null
  },
  {
   "cell_type": "code",
   "source": "# Fn tell us about the CLASS \n# Fn Area\n# Fn sqft/m",
   "metadata": {
    "tags": [],
    "cell_id": "00066-d563080e-0f3b-4121-9e17-58f47b233fcc",
    "deepnote_to_be_reexecuted": false,
    "source_hash": "536321c6",
    "execution_start": 1622874275370,
    "execution_millis": 0,
    "deepnote_cell_type": "code"
   },
   "outputs": [],
   "execution_count": null
  },
  {
   "cell_type": "code",
   "source": "my_func",
   "metadata": {
    "tags": [],
    "cell_id": "00067-c6c1d04e-a61b-4196-b546-f97d1b393022",
    "deepnote_to_be_reexecuted": false,
    "source_hash": "fd29be1",
    "execution_start": 1622874292869,
    "execution_millis": 1,
    "deepnote_cell_type": "code"
   },
   "outputs": [
    {
     "output_type": "execute_result",
     "execution_count": 78,
     "data": {
      "text/plain": "<function __main__.my_func(a, b=1, *args, **kwargs)>"
     },
     "metadata": {}
    }
   ],
   "execution_count": null
  },
  {
   "cell_type": "code",
   "source": "inspect.isroutine(my_func)",
   "metadata": {
    "tags": [],
    "cell_id": "00068-beb03699-24da-489c-a46e-3d9f71e8a66b",
    "deepnote_to_be_reexecuted": false,
    "source_hash": "8e32fd0",
    "execution_start": 1622874306393,
    "execution_millis": 10,
    "deepnote_cell_type": "code"
   },
   "outputs": [],
   "execution_count": null
  },
  {
   "cell_type": "code",
   "source": "inspect.getsource(fact)",
   "metadata": {
    "tags": [],
    "cell_id": "00069-ed078b7a-9d29-4572-a24d-058bd8d1817f",
    "deepnote_to_be_reexecuted": false,
    "source_hash": "537b0ea5",
    "execution_start": 1622874330604,
    "execution_millis": 52,
    "deepnote_cell_type": "code"
   },
   "outputs": [
    {
     "output_type": "execute_result",
     "execution_count": 80,
     "data": {
      "text/plain": "'def fact(n: \"some non-negative integer\") -> \"n! or 0 if n < 0\":\\n    \"\"\"Calculates the factorial of a non-negative integer n\\n    \\n    If n is negative, returns 0.\\n    \"\"\"\\n    if n < 0:\\n        return 0\\n    elif n <= 1:\\n        return 1\\n    else:\\n        return n * fact(n-1)\\n'"
     },
     "metadata": {}
    }
   ],
   "execution_count": null
  },
  {
   "cell_type": "code",
   "source": "print(inspect.getsource(fact))",
   "metadata": {
    "tags": [],
    "cell_id": "00070-7a6f937e-45e7-4bfd-a9fe-0c79b949c754",
    "deepnote_to_be_reexecuted": false,
    "source_hash": "77484785",
    "execution_start": 1622874336432,
    "execution_millis": 15,
    "deepnote_cell_type": "code"
   },
   "outputs": [
    {
     "name": "stdout",
     "text": "def fact(n: \"some non-negative integer\") -> \"n! or 0 if n < 0\":\n    \"\"\"Calculates the factorial of a non-negative integer n\n    \n    If n is negative, returns 0.\n    \"\"\"\n    if n < 0:\n        return 0\n    elif n <= 1:\n        return 1\n    else:\n        return n * fact(n-1)\n\n",
     "output_type": "stream"
    }
   ],
   "execution_count": null
  },
  {
   "cell_type": "code",
   "source": "print(inspect.getsource(MyClass.f_instance))",
   "metadata": {
    "tags": [],
    "cell_id": "00072-b487022f-fe43-4683-ab5c-a6a9b94fa98f",
    "deepnote_to_be_reexecuted": false,
    "source_hash": "43286700",
    "execution_start": 1622874398515,
    "execution_millis": 12,
    "deepnote_cell_type": "code"
   },
   "outputs": [
    {
     "name": "stdout",
     "text": "    def f_instance(self):\n        pass\n\n",
     "output_type": "stream"
    }
   ],
   "execution_count": null
  },
  {
   "cell_type": "code",
   "source": "print(inspect.getsource(my_obj.f_instance))",
   "metadata": {
    "tags": [],
    "cell_id": "00072-1719a45c-7633-41a0-94df-8685fc0b3f42",
    "deepnote_to_be_reexecuted": false,
    "source_hash": "27357d3",
    "execution_start": 1622874411665,
    "execution_millis": 15,
    "deepnote_cell_type": "code"
   },
   "outputs": [
    {
     "name": "stdout",
     "text": "    def f_instance(self):\n        pass\n\n",
     "output_type": "stream"
    }
   ],
   "execution_count": null
  },
  {
   "cell_type": "code",
   "source": "inspect.getmodule(fact)",
   "metadata": {
    "tags": [],
    "cell_id": "00073-a0607653-3f26-4d43-83a1-f1b5278290ae",
    "deepnote_to_be_reexecuted": false,
    "source_hash": "2695c7bb",
    "execution_start": 1622874431807,
    "execution_millis": 15,
    "deepnote_cell_type": "code"
   },
   "outputs": [
    {
     "output_type": "execute_result",
     "execution_count": 86,
     "data": {
      "text/plain": "<module '__main__'>"
     },
     "metadata": {}
    }
   ],
   "execution_count": null
  },
  {
   "cell_type": "code",
   "source": "inspect.getmodule(print)",
   "metadata": {
    "tags": [],
    "cell_id": "00074-e8561c03-2469-4b15-87ce-ba9bd79f03bc",
    "deepnote_to_be_reexecuted": false,
    "source_hash": "1a5e3499",
    "execution_start": 1622874441545,
    "execution_millis": 17,
    "deepnote_cell_type": "code"
   },
   "outputs": [
    {
     "output_type": "execute_result",
     "execution_count": 87,
     "data": {
      "text/plain": "<module 'builtins' (built-in)>"
     },
     "metadata": {}
    }
   ],
   "execution_count": null
  },
  {
   "cell_type": "code",
   "source": "import math",
   "metadata": {
    "tags": [],
    "cell_id": "00075-87e8bb3e-5aa4-4465-a493-8021f935f687",
    "deepnote_to_be_reexecuted": false,
    "source_hash": "ff143fe",
    "execution_start": 1622874456504,
    "execution_millis": 14,
    "deepnote_cell_type": "code"
   },
   "outputs": [],
   "execution_count": null
  },
  {
   "cell_type": "code",
   "source": "inspect.getmodule(math.sin)",
   "metadata": {
    "tags": [],
    "cell_id": "00076-a72d77ae-13c5-4e16-ac34-6941e2d6169a",
    "deepnote_to_be_reexecuted": false,
    "source_hash": "c543f2c3",
    "execution_start": 1622874466624,
    "execution_millis": 12,
    "deepnote_cell_type": "code"
   },
   "outputs": [
    {
     "output_type": "execute_result",
     "execution_count": 89,
     "data": {
      "text/plain": "<module 'math' from '/usr/local/lib/python3.8/lib-dynload/math.cpython-38-x86_64-linux-gnu.so'>"
     },
     "metadata": {}
    }
   ],
   "execution_count": null
  },
  {
   "cell_type": "code",
   "source": "# setting up a variable\ni = 10\n\n# comment line 1\n# comment line 2\ndef my_func(a, b = 1):\n    # comment inside my_func\n    pass",
   "metadata": {
    "tags": [],
    "cell_id": "00077-2a09516b-5858-4086-8e8f-fba940e3bab7",
    "deepnote_to_be_reexecuted": false,
    "source_hash": "d5f90197",
    "execution_start": 1622874577243,
    "execution_millis": 19,
    "deepnote_cell_type": "code"
   },
   "outputs": [],
   "execution_count": null
  },
  {
   "cell_type": "code",
   "source": "print(inspect.getcomments(my_func))",
   "metadata": {
    "tags": [],
    "cell_id": "00078-1ac2777b-0725-42c6-92cb-2892b53c15db",
    "deepnote_to_be_reexecuted": false,
    "source_hash": "4b5a006d",
    "execution_start": 1622874599803,
    "execution_millis": 15,
    "deepnote_cell_type": "code"
   },
   "outputs": [
    {
     "name": "stdout",
     "text": "# comment line 1\n# comment line 2\n\n",
     "output_type": "stream"
    }
   ],
   "execution_count": null
  },
  {
   "cell_type": "code",
   "source": "# setting up a variable\ni = 10\n\n# comment line 1\n\n# comment line 2\ndef my_func(a, b = 1):\n    # comment inside my_func\n    pass",
   "metadata": {
    "tags": [],
    "cell_id": "00079-e213de0b-1629-46e5-acc2-e8aa16f2b7b1",
    "deepnote_to_be_reexecuted": false,
    "source_hash": "bb85229f",
    "execution_start": 1622874662758,
    "execution_millis": 0,
    "deepnote_cell_type": "code"
   },
   "outputs": [],
   "execution_count": null
  },
  {
   "cell_type": "code",
   "source": "print(inspect.getcomments(my_func))",
   "metadata": {
    "tags": [],
    "cell_id": "00080-7c1eaa42-e431-4ee7-9cca-d02dc740410b",
    "deepnote_to_be_reexecuted": false,
    "source_hash": "4b5a006d",
    "execution_start": 1622874668630,
    "execution_millis": 27,
    "deepnote_cell_type": "code"
   },
   "outputs": [
    {
     "name": "stdout",
     "text": "# comment line 2\n\n",
     "output_type": "stream"
    }
   ],
   "execution_count": null
  },
  {
   "cell_type": "code",
   "source": "# TODO: Provide implementation\ndef my_func(a: 'a string', \n            b: int = 1, \n            *args: 'additional positional args', \n            kw1: 'first keyword-only arg', \n            kw2: 'second keyword-only arg' = 10,\n            **kwargs: 'additional keyword-only args') -> str:\n    \"\"\"does something\n       or other\"\"\"\n    pass",
   "metadata": {
    "tags": [],
    "cell_id": "00081-e1c45994-6fa5-4008-b210-1771f57e6505",
    "deepnote_to_be_reexecuted": false,
    "source_hash": "98e17a18",
    "execution_start": 1622874836942,
    "execution_millis": 0,
    "deepnote_cell_type": "code"
   },
   "outputs": [],
   "execution_count": null
  },
  {
   "cell_type": "code",
   "source": "inspect.signature(my_func)",
   "metadata": {
    "tags": [],
    "cell_id": "00082-8e4b2938-5bc0-43cf-89f4-102dc23fe89b",
    "deepnote_to_be_reexecuted": false,
    "source_hash": "1cb13b65",
    "execution_start": 1622874849233,
    "execution_millis": 14,
    "deepnote_cell_type": "code"
   },
   "outputs": [
    {
     "output_type": "execute_result",
     "execution_count": 97,
     "data": {
      "text/plain": "<Signature (a: 'a string', b: int = 1, *args: 'additional positional args', kw1: 'first keyword-only arg', kw2: 'second keyword-only arg' = 10, **kwargs: 'additional keyword-only args') -> str>"
     },
     "metadata": {}
    }
   ],
   "execution_count": null
  },
  {
   "cell_type": "code",
   "source": "type(inspect.signature(my_func))",
   "metadata": {
    "tags": [],
    "cell_id": "00083-ecc55f73-d588-438f-8823-86946cc2a7a7",
    "deepnote_to_be_reexecuted": false,
    "source_hash": "3ac10f16",
    "execution_start": 1622874902734,
    "execution_millis": 7,
    "deepnote_cell_type": "code"
   },
   "outputs": [
    {
     "output_type": "execute_result",
     "execution_count": 98,
     "data": {
      "text/plain": "inspect.Signature"
     },
     "metadata": {}
    }
   ],
   "execution_count": null
  },
  {
   "cell_type": "code",
   "source": "sig = inspect.signature(my_func)",
   "metadata": {
    "tags": [],
    "cell_id": "00084-6e396b47-49e1-4961-983e-108b58afb5ae",
    "deepnote_to_be_reexecuted": false,
    "source_hash": "8eea48f0",
    "execution_start": 1622874918274,
    "execution_millis": 0,
    "deepnote_cell_type": "code"
   },
   "outputs": [],
   "execution_count": null
  },
  {
   "cell_type": "code",
   "source": "dir(sig)",
   "metadata": {
    "tags": [],
    "cell_id": "00085-f3b18e83-5bb9-4895-aa7f-f9ad51c444f0",
    "deepnote_to_be_reexecuted": false,
    "source_hash": "16106772",
    "execution_start": 1622874921624,
    "execution_millis": 15,
    "deepnote_cell_type": "code"
   },
   "outputs": [
    {
     "output_type": "execute_result",
     "execution_count": 100,
     "data": {
      "text/plain": "['__class__',\n '__delattr__',\n '__dir__',\n '__doc__',\n '__eq__',\n '__format__',\n '__ge__',\n '__getattribute__',\n '__gt__',\n '__hash__',\n '__init__',\n '__init_subclass__',\n '__le__',\n '__lt__',\n '__module__',\n '__ne__',\n '__new__',\n '__reduce__',\n '__reduce_ex__',\n '__repr__',\n '__setattr__',\n '__setstate__',\n '__sizeof__',\n '__slots__',\n '__str__',\n '__subclasshook__',\n '_bind',\n '_bound_arguments_cls',\n '_hash_basis',\n '_parameter_cls',\n '_parameters',\n '_return_annotation',\n 'bind',\n 'bind_partial',\n 'empty',\n 'from_builtin',\n 'from_callable',\n 'from_function',\n 'parameters',\n 'replace',\n 'return_annotation']"
     },
     "metadata": {}
    }
   ],
   "execution_count": null
  },
  {
   "cell_type": "code",
   "source": "for param_name, param in sig.parameters.items():\n    print(param_name, param)",
   "metadata": {
    "tags": [],
    "cell_id": "00086-e91a48cd-5ad3-4e9c-aafb-9fa3b4def988",
    "deepnote_to_be_reexecuted": false,
    "source_hash": "e21cfd72",
    "execution_start": 1622874973658,
    "execution_millis": 30,
    "deepnote_cell_type": "code"
   },
   "outputs": [
    {
     "name": "stdout",
     "text": "a a: 'a string'\nb b: int = 1\nargs *args: 'additional positional args'\nkw1 kw1: 'first keyword-only arg'\nkw2 kw2: 'second keyword-only arg' = 10\nkwargs **kwargs: 'additional keyword-only args'\n",
     "output_type": "stream"
    }
   ],
   "execution_count": null
  },
  {
   "cell_type": "code",
   "source": "def print_info(f: \"callable\") -> None:\n    print(f.__name__)\n    print('=' * len(f.__name__), end='\\n\\n')\n    \n    print('{0}\\n{1}\\n'.format(inspect.getcomments(f), \n                              inspect.cleandoc(f.__doc__)))\n    \n    print('{0}\\n{1}'.format('Inputs', '-'*len('Inputs')))\n    \n    sig = inspect.signature(f)\n    for param in sig.parameters.values():\n        print('Name:', param.name)\n        print('Default:', param.default)\n        print('Annotation:', param.annotation)\n        print('Kind:', param.kind)\n        print('--------------------------\\n')\n        \n    print('{0}\\n{1}'.format('\\n\\nOutput', '-'*len('Output')))\n    print(sig.return_annotation)",
   "metadata": {
    "tags": [],
    "cell_id": "00087-5b10fee5-a0f2-4087-be70-d05fc62b745a",
    "deepnote_to_be_reexecuted": false,
    "source_hash": "88a5a819",
    "execution_start": 1622875016300,
    "execution_millis": 7,
    "deepnote_cell_type": "code"
   },
   "outputs": [],
   "execution_count": null
  },
  {
   "cell_type": "code",
   "source": "print_info(my_func)",
   "metadata": {
    "tags": [],
    "cell_id": "00088-1c3b8fa3-3166-46a5-aaf9-6a3dd905ce86",
    "deepnote_to_be_reexecuted": false,
    "source_hash": "d0d3c190",
    "execution_start": 1622875022633,
    "execution_millis": 11,
    "deepnote_cell_type": "code"
   },
   "outputs": [
    {
     "name": "stdout",
     "text": "my_func\n=======\n\n# TODO: Provide implementation\n\ndoes something\nor other\n\nInputs\n------\nName: a\nDefault: <class 'inspect._empty'>\nAnnotation: a string\nKind: POSITIONAL_OR_KEYWORD\n--------------------------\n\nName: b\nDefault: 1\nAnnotation: <class 'int'>\nKind: POSITIONAL_OR_KEYWORD\n--------------------------\n\nName: args\nDefault: <class 'inspect._empty'>\nAnnotation: additional positional args\nKind: VAR_POSITIONAL\n--------------------------\n\nName: kw1\nDefault: <class 'inspect._empty'>\nAnnotation: first keyword-only arg\nKind: KEYWORD_ONLY\n--------------------------\n\nName: kw2\nDefault: 10\nAnnotation: second keyword-only arg\nKind: KEYWORD_ONLY\n--------------------------\n\nName: kwargs\nDefault: <class 'inspect._empty'>\nAnnotation: additional keyword-only args\nKind: VAR_KEYWORD\n--------------------------\n\n\n\nOutput\n------\n<class 'str'>\n",
     "output_type": "stream"
    }
   ],
   "execution_count": null
  },
  {
   "cell_type": "code",
   "source": "callable(print)",
   "metadata": {
    "tags": [],
    "cell_id": "00089-8f1d89f3-ba39-4203-8ff8-1ca0550d5c63",
    "deepnote_to_be_reexecuted": false,
    "source_hash": "71263d92",
    "execution_start": 1622875122141,
    "execution_millis": 22,
    "deepnote_cell_type": "code"
   },
   "outputs": [
    {
     "output_type": "execute_result",
     "execution_count": 104,
     "data": {
      "text/plain": "True"
     },
     "metadata": {}
    }
   ],
   "execution_count": null
  },
  {
   "cell_type": "code",
   "source": "callable(len)",
   "metadata": {
    "tags": [],
    "cell_id": "00090-f8b3c50c-bc1d-4dd6-aebc-ce3a946a57cc",
    "deepnote_to_be_reexecuted": false,
    "source_hash": "b17f82b",
    "execution_start": 1622875138454,
    "execution_millis": 14,
    "deepnote_cell_type": "code"
   },
   "outputs": [
    {
     "output_type": "execute_result",
     "execution_count": 106,
     "data": {
      "text/plain": "True"
     },
     "metadata": {}
    }
   ],
   "execution_count": null
  },
  {
   "cell_type": "code",
   "source": "l = [1, 2, 3]\ncallable(l.append)",
   "metadata": {
    "tags": [],
    "cell_id": "00091-ce7ea70d-b16d-4979-926a-36938d46f70a",
    "deepnote_to_be_reexecuted": false,
    "source_hash": "b57e208c",
    "execution_start": 1622875155384,
    "execution_millis": 12,
    "deepnote_cell_type": "code"
   },
   "outputs": [
    {
     "output_type": "execute_result",
     "execution_count": 108,
     "data": {
      "text/plain": "True"
     },
     "metadata": {}
    }
   ],
   "execution_count": null
  },
  {
   "cell_type": "code",
   "source": "s = 'abc'\ncallable(s.upper)",
   "metadata": {
    "tags": [],
    "cell_id": "00092-bb14c7b2-8660-4ad4-9737-99c735499ccf",
    "deepnote_to_be_reexecuted": false,
    "source_hash": "56dc7ca4",
    "execution_start": 1622875169844,
    "execution_millis": 13,
    "deepnote_cell_type": "code"
   },
   "outputs": [
    {
     "output_type": "execute_result",
     "execution_count": 109,
     "data": {
      "text/plain": "True"
     },
     "metadata": {}
    }
   ],
   "execution_count": null
  },
  {
   "cell_type": "code",
   "source": "result = print('hello')\nprint(result)",
   "metadata": {
    "tags": [],
    "cell_id": "00093-6c703954-bd96-48c8-8349-93d0793b4981",
    "deepnote_to_be_reexecuted": false,
    "source_hash": "dd17e8e2",
    "execution_start": 1622875199664,
    "execution_millis": 13,
    "deepnote_cell_type": "code"
   },
   "outputs": [
    {
     "name": "stdout",
     "text": "hello\nNone\n",
     "output_type": "stream"
    }
   ],
   "execution_count": null
  },
  {
   "cell_type": "code",
   "source": "l = [1, 2, 3]\nresult = l.append(4)\n# l = l + 4\nprint(result)\nprint(l)",
   "metadata": {
    "tags": [],
    "cell_id": "00094-f4fc77f6-fdea-43f3-887f-82bee8a92537",
    "deepnote_to_be_reexecuted": false,
    "source_hash": "da6afb53",
    "execution_start": 1622875234840,
    "execution_millis": 20,
    "deepnote_cell_type": "code"
   },
   "outputs": [
    {
     "name": "stdout",
     "text": "None\n[1, 2, 3, 4]\n",
     "output_type": "stream"
    }
   ],
   "execution_count": null
  },
  {
   "cell_type": "code",
   "source": "from decimal import Decimal\n\ncallable(Decimal)",
   "metadata": {
    "tags": [],
    "cell_id": "00095-6b014e36-1df9-4ca5-9d1c-b511eb356c63",
    "deepnote_to_be_reexecuted": false,
    "source_hash": "e85ba59b",
    "execution_start": 1622875283189,
    "execution_millis": 23,
    "deepnote_cell_type": "code"
   },
   "outputs": [
    {
     "output_type": "execute_result",
     "execution_count": 112,
     "data": {
      "text/plain": "True"
     },
     "metadata": {}
    }
   ],
   "execution_count": null
  },
  {
   "cell_type": "code",
   "source": "result = Decimal('10.5')\nprint(result)",
   "metadata": {
    "tags": [],
    "cell_id": "00096-b621cc9f-c202-4f6b-942f-b31ec803634b",
    "deepnote_to_be_reexecuted": false,
    "source_hash": "32a097d6",
    "execution_start": 1622875297628,
    "execution_millis": 11,
    "deepnote_cell_type": "code"
   },
   "outputs": [
    {
     "name": "stdout",
     "text": "10.5\n",
     "output_type": "stream"
    }
   ],
   "execution_count": null
  },
  {
   "cell_type": "code",
   "source": "class MyClass:\n    def __init__(self):\n        print('initializing... ')\n        self.counter = 0\n\n    def __call__(self, x = 1):\n        self.counter += x\n        print(self.counter)",
   "metadata": {
    "tags": [],
    "cell_id": "00097-085d282f-d3db-4762-bb15-44528b2cfb26",
    "deepnote_to_be_reexecuted": false,
    "source_hash": "650bfb45",
    "execution_start": 1622875367973,
    "execution_millis": 5,
    "deepnote_cell_type": "code"
   },
   "outputs": [],
   "execution_count": null
  },
  {
   "cell_type": "code",
   "source": "my_obj = MyClass()",
   "metadata": {
    "tags": [],
    "cell_id": "00098-03de208e-b7c3-4ce3-86b1-1bc6c2a5aad0",
    "deepnote_to_be_reexecuted": false,
    "source_hash": "b8a69391",
    "execution_start": 1622875375418,
    "execution_millis": 13,
    "deepnote_cell_type": "code"
   },
   "outputs": [
    {
     "name": "stdout",
     "text": "initializing... \n",
     "output_type": "stream"
    }
   ],
   "execution_count": null
  },
  {
   "cell_type": "code",
   "source": "callable(my_obj.__init__)",
   "metadata": {
    "tags": [],
    "cell_id": "00099-d440807a-dbea-4732-97ac-7e9281a23e35",
    "deepnote_to_be_reexecuted": false,
    "source_hash": "827c7298",
    "execution_start": 1622875400792,
    "deepnote_cell_type": "code"
   },
   "outputs": [
    {
     "output_type": "execute_result",
     "execution_count": 118,
     "data": {
      "text/plain": "True"
     },
     "metadata": {}
    }
   ],
   "execution_count": null
  },
  {
   "cell_type": "code",
   "source": "my_obj()",
   "metadata": {
    "tags": [],
    "cell_id": "00100-35284127-787e-4cb0-a6ca-c188a8e83991",
    "deepnote_to_be_reexecuted": false,
    "source_hash": "6e709053",
    "execution_start": 1622875410072,
    "execution_millis": 17,
    "deepnote_cell_type": "code"
   },
   "outputs": [
    {
     "name": "stdout",
     "text": "1\n",
     "output_type": "stream"
    }
   ],
   "execution_count": null
  },
  {
   "cell_type": "code",
   "source": "class MyClass:\n    def __init__(self):\n        print('initializing... ')\n        self.counter = 0",
   "metadata": {
    "tags": [],
    "cell_id": "00101-fe088db1-322a-4b42-b36e-3aadc30e63fb",
    "deepnote_to_be_reexecuted": false,
    "source_hash": "7d6fd78f",
    "execution_start": 1622875423624,
    "execution_millis": 6,
    "deepnote_cell_type": "code"
   },
   "outputs": [],
   "execution_count": null
  },
  {
   "cell_type": "code",
   "source": "my_obj = MyClass()",
   "metadata": {
    "tags": [],
    "cell_id": "00102-6aa8b044-66fa-4c42-86e2-2a2672f08b0e",
    "deepnote_to_be_reexecuted": false,
    "source_hash": "b8a69391",
    "execution_start": 1622875428600,
    "execution_millis": 11,
    "deepnote_cell_type": "code"
   },
   "outputs": [
    {
     "name": "stdout",
     "text": "initializing... \n",
     "output_type": "stream"
    }
   ],
   "execution_count": null
  },
  {
   "cell_type": "code",
   "source": "callable(my_obj.__init__)",
   "metadata": {
    "tags": [],
    "cell_id": "00103-cc7358d0-fe67-4605-91fd-4ee6ef6ea668",
    "deepnote_to_be_reexecuted": false,
    "source_hash": "827c7298",
    "execution_start": 1622875433812,
    "execution_millis": 23,
    "deepnote_cell_type": "code"
   },
   "outputs": [
    {
     "output_type": "execute_result",
     "execution_count": 122,
     "data": {
      "text/plain": "True"
     },
     "metadata": {}
    }
   ],
   "execution_count": null
  },
  {
   "cell_type": "code",
   "source": "my_obj()",
   "metadata": {
    "tags": [],
    "cell_id": "00104-8b030538-fd30-4bfa-b898-1a23163ecca6",
    "deepnote_to_be_reexecuted": false,
    "source_hash": "6e709053",
    "execution_start": 1622875438759,
    "execution_millis": 21,
    "deepnote_cell_type": "code"
   },
   "outputs": [
    {
     "output_type": "error",
     "ename": "TypeError",
     "evalue": "'MyClass' object is not callable",
     "traceback": [
      "\u001b[0;31m---------------------------------------------------------------------------\u001b[0m",
      "\u001b[0;31mTypeError\u001b[0m                                 Traceback (most recent call last)",
      "\u001b[0;32m<ipython-input-123-337cbf13e7e7>\u001b[0m in \u001b[0;36m<module>\u001b[0;34m\u001b[0m\n\u001b[0;32m----> 1\u001b[0;31m \u001b[0mmy_obj\u001b[0m\u001b[0;34m(\u001b[0m\u001b[0;34m)\u001b[0m\u001b[0;34m\u001b[0m\u001b[0;34m\u001b[0m\u001b[0m\n\u001b[0m",
      "\u001b[0;31mTypeError\u001b[0m: 'MyClass' object is not callable"
     ]
    }
   ],
   "execution_count": null
  },
  {
   "cell_type": "markdown",
   "source": "# Map, Filter and Zip : Higher Order Functions",
   "metadata": {
    "tags": [],
    "cell_id": "00105-42d793cb-44f3-4308-b86c-3ee53ba648d4",
    "deepnote_cell_type": "text-cell-h1"
   }
  },
  {
   "cell_type": "code",
   "source": "def func(fn):\n    pass\n\ndef func(*args, **kwargs):\n    return fn",
   "metadata": {
    "tags": [],
    "cell_id": "00105-5418a11f-c7b1-4689-99ed-ece78cbabb19",
    "deepnote_to_be_reexecuted": false,
    "source_hash": "f6b44cb6",
    "execution_start": 1622875549737,
    "execution_millis": 5,
    "deepnote_cell_type": "code"
   },
   "outputs": [],
   "execution_count": null
  },
  {
   "cell_type": "code",
   "source": "# Map\n\nhelp(map)",
   "metadata": {
    "tags": [],
    "cell_id": "00107-19506ea1-61d2-4914-b9a8-04ef86604b93",
    "deepnote_to_be_reexecuted": false,
    "source_hash": "e131f494",
    "execution_start": 1622875562094,
    "execution_millis": 17,
    "deepnote_cell_type": "code"
   },
   "outputs": [
    {
     "name": "stdout",
     "text": "Help on class map in module builtins:\n\nclass map(object)\n |  map(func, *iterables) --> map object\n |  \n |  Make an iterator that computes the function using arguments from\n |  each of the iterables.  Stops when the shortest iterable is exhausted.\n |  \n |  Methods defined here:\n |  \n |  __getattribute__(self, name, /)\n |      Return getattr(self, name).\n |  \n |  __iter__(self, /)\n |      Implement iter(self).\n |  \n |  __next__(self, /)\n |      Implement next(self).\n |  \n |  __reduce__(...)\n |      Return state information for pickling.\n |  \n |  ----------------------------------------------------------------------\n |  Static methods defined here:\n |  \n |  __new__(*args, **kwargs) from builtins.type\n |      Create and return a new object.  See help(type) for accurate signature.\n\n",
     "output_type": "stream"
    }
   ],
   "execution_count": null
  },
  {
   "cell_type": "code",
   "source": "def fact(n):\n    return 1 if n < 2 else n * fact(n-1)",
   "metadata": {
    "tags": [],
    "cell_id": "00108-3e2ad185-1b61-41e1-9db0-6b7d623bdacf",
    "deepnote_to_be_reexecuted": false,
    "source_hash": "5e03dc2f",
    "execution_start": 1622875669943,
    "execution_millis": 0,
    "deepnote_cell_type": "code"
   },
   "outputs": [],
   "execution_count": null
  },
  {
   "cell_type": "code",
   "source": "fact(4)",
   "metadata": {
    "tags": [],
    "cell_id": "00109-8649b7cc-f230-4b27-afc5-bb44bd797fd0",
    "deepnote_to_be_reexecuted": false,
    "source_hash": "688bc07f",
    "execution_start": 1622875672820,
    "execution_millis": 66,
    "deepnote_cell_type": "code"
   },
   "outputs": [
    {
     "output_type": "execute_result",
     "execution_count": 127,
     "data": {
      "text/plain": "24"
     },
     "metadata": {}
    }
   ],
   "execution_count": null
  },
  {
   "cell_type": "code",
   "source": "map(fact, [1, 2, 3, 4])",
   "metadata": {
    "tags": [],
    "cell_id": "00110-ce17ea93-95e8-42fa-8419-4ebee2925168",
    "deepnote_to_be_reexecuted": false,
    "source_hash": "827bdb14",
    "execution_start": 1622875685235,
    "execution_millis": 21,
    "deepnote_cell_type": "code"
   },
   "outputs": [
    {
     "output_type": "execute_result",
     "execution_count": 128,
     "data": {
      "text/plain": "<map at 0x7f387149f4f0>"
     },
     "metadata": {}
    }
   ],
   "execution_count": null
  },
  {
   "cell_type": "code",
   "source": "list(range(10))",
   "metadata": {
    "tags": [],
    "cell_id": "00111-39c92e17-2fa9-49a0-9f1d-dcfb27ec94f4",
    "deepnote_to_be_reexecuted": false,
    "source_hash": "4f3e3edd",
    "execution_start": 1622875724662,
    "execution_millis": 14,
    "deepnote_cell_type": "code"
   },
   "outputs": [
    {
     "output_type": "execute_result",
     "execution_count": 130,
     "data": {
      "text/plain": "[0, 1, 2, 3, 4, 5, 6, 7, 8, 9]"
     },
     "metadata": {}
    }
   ],
   "execution_count": null
  },
  {
   "cell_type": "code",
   "source": "list(map(fact, [1, 2, 3, 4]))",
   "metadata": {
    "tags": [],
    "cell_id": "00112-e340eb45-c445-40f3-ae9a-7082b0933a8e",
    "deepnote_to_be_reexecuted": false,
    "source_hash": "2b8ee21c",
    "execution_start": 1622875742681,
    "execution_millis": 21,
    "deepnote_cell_type": "code"
   },
   "outputs": [
    {
     "output_type": "execute_result",
     "execution_count": 131,
     "data": {
      "text/plain": "[1, 2, 6, 24]"
     },
     "metadata": {}
    }
   ],
   "execution_count": null
  },
  {
   "cell_type": "code",
   "source": "l1 = [1, 2, 3, 4, 5]\nl2 = [10, 20, 30, 40, 50]\n\nf = lambda x, y: x + y\n\nm = map(f, l1, l2)\nlist(m)",
   "metadata": {
    "tags": [],
    "cell_id": "00113-f50071ec-a5ef-4413-a877-0b655caf8c5c",
    "deepnote_to_be_reexecuted": false,
    "source_hash": "33c77ff9",
    "execution_start": 1622875836142,
    "execution_millis": 24,
    "deepnote_cell_type": "code"
   },
   "outputs": [
    {
     "output_type": "execute_result",
     "execution_count": 132,
     "data": {
      "text/plain": "[11, 22, 33, 44, 55]"
     },
     "metadata": {}
    }
   ],
   "execution_count": null
  },
  {
   "cell_type": "code",
   "source": "l1 = [1, 2, 3, 4, 5, 6]\nl2 = [10, 20, 30]\n\nf = lambda x, y: x + y\n\nm = map(f, l1, l2)\nlist(m)",
   "metadata": {
    "tags": [],
    "cell_id": "00114-231ef58f-3f88-4abe-a0f5-6f1b86e74de1",
    "deepnote_to_be_reexecuted": false,
    "source_hash": "84c4307",
    "execution_start": 1622875890565,
    "execution_millis": 36,
    "deepnote_cell_type": "code"
   },
   "outputs": [
    {
     "output_type": "execute_result",
     "execution_count": 134,
     "data": {
      "text/plain": "[11, 22, 33]"
     },
     "metadata": {}
    }
   ],
   "execution_count": null
  },
  {
   "cell_type": "code",
   "source": "l1 = [1, 2, 3, 4, 5, 6]\nl2 = [10, 20, 30]\nl3 = [1, 10, 20]\n\nf = lambda x, y: x + y\n\nm = map(f, l1, l2, l3)\n",
   "metadata": {
    "tags": [],
    "cell_id": "00115-20e8cf36-1d6f-4207-b8eb-34c2e0756718",
    "deepnote_to_be_reexecuted": false,
    "source_hash": "98f1e43e",
    "execution_start": 1622875912053,
    "execution_millis": 15,
    "deepnote_cell_type": "code"
   },
   "outputs": [],
   "execution_count": null
  },
  {
   "cell_type": "code",
   "source": "list(m)",
   "metadata": {
    "tags": [],
    "cell_id": "00115-0e3b8d89-e677-40ac-8cf2-695d52ad4c77",
    "deepnote_to_be_reexecuted": false,
    "source_hash": "c7a280d7",
    "execution_start": 1622875940651,
    "execution_millis": 14,
    "deepnote_cell_type": "code"
   },
   "outputs": [
    {
     "output_type": "error",
     "ename": "TypeError",
     "evalue": "<lambda>() takes 2 positional arguments but 3 were given",
     "traceback": [
      "\u001b[0;31m---------------------------------------------------------------------------\u001b[0m",
      "\u001b[0;31mTypeError\u001b[0m                                 Traceback (most recent call last)",
      "\u001b[0;32m<ipython-input-136-444b761b1f09>\u001b[0m in \u001b[0;36m<module>\u001b[0;34m\u001b[0m\n\u001b[0;32m----> 1\u001b[0;31m \u001b[0mlist\u001b[0m\u001b[0;34m(\u001b[0m\u001b[0mm\u001b[0m\u001b[0;34m)\u001b[0m\u001b[0;34m\u001b[0m\u001b[0;34m\u001b[0m\u001b[0m\n\u001b[0m",
      "\u001b[0;31mTypeError\u001b[0m: <lambda>() takes 2 positional arguments but 3 were given"
     ]
    }
   ],
   "execution_count": null
  },
  {
   "cell_type": "code",
   "source": "l1 = [1, 2, 3, 4, 5, 6]\nl2 = [10, 20, 30]\n\nf = lambda x, y: x + y\n\nm = map(f, l1, l2)",
   "metadata": {
    "tags": [],
    "cell_id": "00117-5af99a50-a897-4dcc-93c3-c66cba63268a",
    "deepnote_to_be_reexecuted": false,
    "source_hash": "fa51af6c",
    "execution_start": 1622875976894,
    "execution_millis": 7,
    "deepnote_cell_type": "code"
   },
   "outputs": [],
   "execution_count": null
  },
  {
   "cell_type": "code",
   "source": "next(m)",
   "metadata": {
    "tags": [],
    "cell_id": "00118-9b7a7cf0-be8a-44a0-9670-9eb498647be8",
    "deepnote_to_be_reexecuted": false,
    "source_hash": "778ed899",
    "execution_start": 1622875989037,
    "execution_millis": 21,
    "deepnote_cell_type": "code"
   },
   "outputs": [
    {
     "output_type": "execute_result",
     "execution_count": 140,
     "data": {
      "text/plain": "11"
     },
     "metadata": {}
    }
   ],
   "execution_count": null
  },
  {
   "cell_type": "code",
   "source": "next(m)",
   "metadata": {
    "tags": [],
    "cell_id": "00119-4bd3b8a7-08d0-4b15-b6fa-23a534e23283",
    "deepnote_to_be_reexecuted": false,
    "source_hash": "778ed899",
    "execution_start": 1622875994517,
    "execution_millis": 21,
    "deepnote_cell_type": "code"
   },
   "outputs": [
    {
     "output_type": "execute_result",
     "execution_count": 141,
     "data": {
      "text/plain": "22"
     },
     "metadata": {}
    }
   ],
   "execution_count": null
  },
  {
   "cell_type": "code",
   "source": "next(m)",
   "metadata": {
    "tags": [],
    "cell_id": "00120-b9e8870b-581f-4c96-b01d-402982192e12",
    "deepnote_to_be_reexecuted": false,
    "source_hash": "778ed899",
    "execution_start": 1622875998325,
    "execution_millis": 12,
    "deepnote_cell_type": "code"
   },
   "outputs": [
    {
     "output_type": "execute_result",
     "execution_count": 142,
     "data": {
      "text/plain": "33"
     },
     "metadata": {}
    }
   ],
   "execution_count": null
  },
  {
   "cell_type": "code",
   "source": "# Filter",
   "metadata": {
    "tags": [],
    "cell_id": "00121-35ff90a8-2d36-45f7-bd8e-400304d9f3a0",
    "deepnote_to_be_reexecuted": false,
    "source_hash": "b2cb48b5",
    "execution_start": 1622876020218,
    "execution_millis": 0,
    "deepnote_cell_type": "code"
   },
   "outputs": [],
   "execution_count": null
  },
  {
   "cell_type": "code",
   "source": "help(filter)",
   "metadata": {
    "tags": [],
    "cell_id": "00122-6c6568ba-c058-4104-a089-d9bf5df21a68",
    "deepnote_to_be_reexecuted": false,
    "source_hash": "1300d70b",
    "execution_start": 1622876032116,
    "execution_millis": 16,
    "deepnote_cell_type": "code"
   },
   "outputs": [
    {
     "name": "stdout",
     "text": "Help on class filter in module builtins:\n\nclass filter(object)\n |  filter(function or None, iterable) --> filter object\n |  \n |  Return an iterator yielding those items of iterable for which function(item)\n |  is true. If function is None, return the items that are true.\n |  \n |  Methods defined here:\n |  \n |  __getattribute__(self, name, /)\n |      Return getattr(self, name).\n |  \n |  __iter__(self, /)\n |      Implement iter(self).\n |  \n |  __next__(self, /)\n |      Implement next(self).\n |  \n |  __reduce__(...)\n |      Return state information for pickling.\n |  \n |  ----------------------------------------------------------------------\n |  Static methods defined here:\n |  \n |  __new__(*args, **kwargs) from builtins.type\n |      Create and return a new object.  See help(type) for accurate signature.\n\n",
     "output_type": "stream"
    }
   ],
   "execution_count": null
  },
  {
   "cell_type": "code",
   "source": "l = [0, 1, 2, 3, 4, 5, 6, [], '', 'gimli']\nfor e in filter(None, l):\n    print(e)",
   "metadata": {
    "tags": [],
    "cell_id": "00123-f8c15e32-afca-4275-b5f0-b7d85cfd7f5d",
    "deepnote_to_be_reexecuted": false,
    "source_hash": "8e851509",
    "execution_start": 1622876299323,
    "execution_millis": 13,
    "deepnote_cell_type": "code"
   },
   "outputs": [
    {
     "name": "stdout",
     "text": "1\n2\n3\n4\n5\n6\ngimli\n",
     "output_type": "stream"
    }
   ],
   "execution_count": null
  },
  {
   "cell_type": "code",
   "source": "l = [1, 2, 3, 4, 5, 6]\ndef is_even(n):\n    return n%2 == 0",
   "metadata": {
    "tags": [],
    "cell_id": "00124-69c58aef-ba6a-4895-b379-6b1c1fa0448a",
    "deepnote_to_be_reexecuted": false,
    "source_hash": "e3934f09",
    "execution_start": 1622876373540,
    "execution_millis": 1,
    "deepnote_cell_type": "code"
   },
   "outputs": [],
   "execution_count": null
  },
  {
   "cell_type": "code",
   "source": "result = filter(is_even, l)",
   "metadata": {
    "tags": [],
    "cell_id": "00125-6e300f5a-cd97-454e-89e8-c05dada0bdef",
    "deepnote_to_be_reexecuted": false,
    "source_hash": "500151bd",
    "execution_start": 1622876409731,
    "execution_millis": 7,
    "deepnote_cell_type": "code"
   },
   "outputs": [],
   "execution_count": null
  },
  {
   "cell_type": "code",
   "source": "list(result)",
   "metadata": {
    "tags": [],
    "cell_id": "00126-bf048635-7a45-4c95-a8f1-bcc798d900b1",
    "deepnote_to_be_reexecuted": false,
    "source_hash": "e5efd5a6",
    "execution_start": 1622876420170,
    "execution_millis": 7,
    "deepnote_cell_type": "code"
   },
   "outputs": [
    {
     "output_type": "execute_result",
     "execution_count": 150,
     "data": {
      "text/plain": "[2, 4, 6]"
     },
     "metadata": {}
    }
   ],
   "execution_count": null
  },
  {
   "cell_type": "code",
   "source": "l = [1, 2, 3, 4, 5, 6, 7, 8, 9]\n\nresult = filter(lambda x: x%2 == 1, l)\nlist(result)",
   "metadata": {
    "tags": [],
    "cell_id": "00127-02b93da1-2ca0-4d1e-90a7-d03e891ca200",
    "deepnote_to_be_reexecuted": false,
    "source_hash": "275a3d98",
    "execution_start": 1622876541327,
    "execution_millis": 19,
    "deepnote_cell_type": "code"
   },
   "outputs": [
    {
     "output_type": "execute_result",
     "execution_count": 154,
     "data": {
      "text/plain": "[1, 3, 5, 7, 9]"
     },
     "metadata": {}
    }
   ],
   "execution_count": null
  },
  {
   "cell_type": "markdown",
   "source": "# Comprehensions",
   "metadata": {
    "tags": [],
    "cell_id": "00128-c8b91847-5594-45a4-8d69-d85cb4a6cf17",
    "deepnote_cell_type": "text-cell-h1"
   }
  },
  {
   "cell_type": "code",
   "source": "l = [1, 2, 3, 4, 5, 6]\nresult = [fact(i) for i in l]\nresult",
   "metadata": {
    "tags": [],
    "cell_id": "00128-b0213f5d-02b7-41a9-abe1-14bf89d529d2",
    "deepnote_to_be_reexecuted": false,
    "source_hash": "46d98579",
    "execution_start": 1622876665086,
    "execution_millis": 16,
    "deepnote_cell_type": "code"
   },
   "outputs": [
    {
     "output_type": "execute_result",
     "execution_count": 155,
     "data": {
      "text/plain": "[1, 2, 6, 24, 120, 720]"
     },
     "metadata": {}
    }
   ],
   "execution_count": null
  },
  {
   "cell_type": "code",
   "source": "l = [1, 2, 3, 4, 5, 6]\nresult = [i for i in l if i > 4]\nresult",
   "metadata": {
    "tags": [],
    "cell_id": "00130-bba8db89-c744-4c71-928a-a28abf890175",
    "deepnote_to_be_reexecuted": false,
    "source_hash": "e47ca1a2",
    "execution_start": 1622876703303,
    "execution_millis": 28,
    "deepnote_cell_type": "code"
   },
   "outputs": [
    {
     "output_type": "execute_result",
     "execution_count": 159,
     "data": {
      "text/plain": "[5, 6]"
     },
     "metadata": {}
    }
   ],
   "execution_count": null
  },
  {
   "cell_type": "markdown",
   "source": "# ZIP",
   "metadata": {
    "tags": [],
    "cell_id": "00131-633acc9c-b928-420d-993d-65a2419a11c0",
    "deepnote_cell_type": "text-cell-h1"
   }
  },
  {
   "cell_type": "code",
   "source": "l = 1, 2, 3\nl2 = 'a', 'b', 'c'\n\nlist(zip(l1, l2))",
   "metadata": {
    "tags": [],
    "cell_id": "00131-8e6c9b7b-d9e9-4841-8d3f-3d952767c2f8",
    "deepnote_to_be_reexecuted": false,
    "source_hash": "55fb52ae",
    "execution_start": 1622876781582,
    "execution_millis": 9,
    "deepnote_cell_type": "code"
   },
   "outputs": [
    {
     "output_type": "execute_result",
     "execution_count": 162,
     "data": {
      "text/plain": "[(1, 'a'), (2, 'b'), (3, 'c')]"
     },
     "metadata": {}
    }
   ],
   "execution_count": null
  },
  {
   "cell_type": "code",
   "source": "l = 1, 2, 3, 4, 5, 6, 7\nl2 = 'a', 'b', 'c'\n\nlist(zip(l1, l2))",
   "metadata": {
    "tags": [],
    "cell_id": "00133-25e3c9d3-b401-42fb-b8e6-2c6840ac577b",
    "deepnote_to_be_reexecuted": false,
    "source_hash": "aed22f65",
    "execution_start": 1622876798746,
    "execution_millis": 15,
    "deepnote_cell_type": "code"
   },
   "outputs": [
    {
     "output_type": "execute_result",
     "execution_count": 163,
     "data": {
      "text/plain": "[(1, 'a'), (2, 'b'), (3, 'c')]"
     },
     "metadata": {}
    }
   ],
   "execution_count": null
  },
  {
   "cell_type": "code",
   "source": "l = 1, 2, 3, 4, 5, 6, 7\nl2 = 'a', 'b', 'c'\nl3 = ('a', 'b')\nlist(zip(l1, l2, l3))",
   "metadata": {
    "tags": [],
    "cell_id": "00134-191fea35-256a-4f69-afd3-0e779a8a47ac",
    "deepnote_to_be_reexecuted": false,
    "source_hash": "9ec227ac",
    "execution_start": 1622876823575,
    "execution_millis": 16,
    "deepnote_cell_type": "code"
   },
   "outputs": [
    {
     "output_type": "execute_result",
     "execution_count": 164,
     "data": {
      "text/plain": "[(1, 'a', 'a'), (2, 'b', 'b')]"
     },
     "metadata": {}
    }
   ],
   "execution_count": null
  },
  {
   "cell_type": "code",
   "source": "l = 1, 2, 3, 4, 5, 6, 7\nl2 = 'a', 'b', 'c'\nl3 = 'lotr'\n\nlist(zip(l1, l2, l3))",
   "metadata": {
    "tags": [],
    "cell_id": "00135-5c6570f4-e4f7-4ee1-a10a-ba0554e79947",
    "deepnote_to_be_reexecuted": false,
    "source_hash": "8f4622a5",
    "execution_start": 1622876836773,
    "execution_millis": 28,
    "deepnote_cell_type": "code"
   },
   "outputs": [
    {
     "output_type": "execute_result",
     "execution_count": 165,
     "data": {
      "text/plain": "[(1, 'a', 'l'), (2, 'b', 'o'), (3, 'c', 't')]"
     },
     "metadata": {}
    }
   ],
   "execution_count": null
  },
  {
   "cell_type": "code",
   "source": "l1 = range(10_000_000)\nl2 = 'python'\n\nlist(zip(l1, l2))",
   "metadata": {
    "tags": [],
    "cell_id": "00136-46f59668-5db4-4c81-a306-87f5189caef3",
    "deepnote_to_be_reexecuted": false,
    "source_hash": "84a281b7",
    "execution_start": 1622876873365,
    "execution_millis": 28,
    "deepnote_cell_type": "code"
   },
   "outputs": [
    {
     "output_type": "execute_result",
     "execution_count": 166,
     "data": {
      "text/plain": "[(0, 'p'), (1, 'y'), (2, 't'), (3, 'h'), (4, 'o'), (5, 'n')]"
     },
     "metadata": {}
    }
   ],
   "execution_count": null
  },
  {
   "cell_type": "code",
   "source": "l = 1, 2, 3, 4, 5, 6, 7\nl2 = 'a', 'b', 'c'\n\nlist(zip(l1, l2))",
   "metadata": {
    "tags": [],
    "cell_id": "00137-9c1096e2-6c8e-4e39-bf51-86ac55513e60",
    "deepnote_to_be_reexecuted": false,
    "source_hash": "aed22f65",
    "execution_start": 1622876899498,
    "execution_millis": 13,
    "deepnote_cell_type": "code"
   },
   "outputs": [
    {
     "output_type": "execute_result",
     "execution_count": 167,
     "data": {
      "text/plain": "[(0, 'a'), (1, 'b'), (2, 'c')]"
     },
     "metadata": {}
    }
   ],
   "execution_count": null
  },
  {
   "cell_type": "code",
   "source": "l1 = 1, 2, 3, 4, 5\nl2 = 10, 20, 30, 40, 50\n\nresult = [i + j for i,j in zip(l1, l2)]",
   "metadata": {
    "tags": [],
    "cell_id": "00138-8ae2dae4-9439-4862-b8dd-ecf873350ab8",
    "deepnote_to_be_reexecuted": false,
    "source_hash": "df3c992d",
    "execution_start": 1622877063470,
    "execution_millis": 0,
    "deepnote_cell_type": "code"
   },
   "outputs": [],
   "execution_count": null
  },
  {
   "cell_type": "code",
   "source": "result",
   "metadata": {
    "tags": [],
    "cell_id": "00139-15e420a2-d817-4b9f-b20d-a98b5ea5a8bb",
    "deepnote_to_be_reexecuted": false,
    "source_hash": "bae0e1b5",
    "execution_start": 1622877069631,
    "execution_millis": 35,
    "deepnote_cell_type": "code"
   },
   "outputs": [
    {
     "output_type": "execute_result",
     "execution_count": 172,
     "data": {
      "text/plain": "[11, 22, 33, 44, 55]"
     },
     "metadata": {}
    }
   ],
   "execution_count": null
  },
  {
   "cell_type": "code",
   "source": "l = [1, 2, 3, 4, 5, 6, 7]\n\nprint(([x for x in l if x%3==0]))",
   "metadata": {
    "tags": [],
    "cell_id": "00140-b38d2606-ff23-4eb5-a622-fd2caf1e86ba",
    "deepnote_to_be_reexecuted": false,
    "source_hash": "70ff1d2a",
    "execution_start": 1622877146718,
    "execution_millis": 10,
    "deepnote_cell_type": "code"
   },
   "outputs": [
    {
     "name": "stdout",
     "text": "[3, 6]\n",
     "output_type": "stream"
    }
   ],
   "execution_count": null
  },
  {
   "cell_type": "code",
   "source": "[x for x in l if x%3==0]",
   "metadata": {
    "tags": [],
    "cell_id": "00141-1dcdc021-7285-4bd9-a83b-0d9b30ff2606",
    "deepnote_to_be_reexecuted": false,
    "source_hash": "cac39372",
    "execution_start": 1622877155410,
    "execution_millis": 15,
    "deepnote_cell_type": "code"
   },
   "outputs": [
    {
     "output_type": "execute_result",
     "execution_count": 175,
     "data": {
      "text/plain": "[3, 6]"
     },
     "metadata": {}
    }
   ],
   "execution_count": null
  },
  {
   "cell_type": "code",
   "source": "(x for x in l if x%3==0)",
   "metadata": {
    "tags": [],
    "cell_id": "00142-25eab3d4-6df9-4168-a44e-a22c76704c91",
    "deepnote_to_be_reexecuted": false,
    "source_hash": "8f180832",
    "execution_start": 1622877162447,
    "execution_millis": 11,
    "deepnote_cell_type": "code"
   },
   "outputs": [
    {
     "output_type": "execute_result",
     "execution_count": 176,
     "data": {
      "text/plain": "<generator object <genexpr> at 0x7f3870c23a50>"
     },
     "metadata": {}
    }
   ],
   "execution_count": null
  },
  {
   "cell_type": "code",
   "source": "red = (x for x in l if x%3==0)",
   "metadata": {
    "tags": [],
    "cell_id": "00143-e465b37a-0704-44a5-b822-13095e7df2b6",
    "deepnote_to_be_reexecuted": false,
    "source_hash": "4f7e39d1",
    "execution_start": 1622877196436,
    "execution_millis": 5,
    "deepnote_cell_type": "code"
   },
   "outputs": [],
   "execution_count": null
  },
  {
   "cell_type": "code",
   "source": "dir(red)",
   "metadata": {
    "tags": [],
    "cell_id": "00144-4991f5d7-91e3-4569-a3f1-f11051e4eeca",
    "deepnote_to_be_reexecuted": false,
    "source_hash": "f436851a",
    "execution_start": 1622877200673,
    "execution_millis": 15,
    "deepnote_cell_type": "code"
   },
   "outputs": [
    {
     "output_type": "execute_result",
     "execution_count": 179,
     "data": {
      "text/plain": "['__class__',\n '__del__',\n '__delattr__',\n '__dir__',\n '__doc__',\n '__eq__',\n '__format__',\n '__ge__',\n '__getattribute__',\n '__gt__',\n '__hash__',\n '__init__',\n '__init_subclass__',\n '__iter__',\n '__le__',\n '__lt__',\n '__name__',\n '__ne__',\n '__new__',\n '__next__',\n '__qualname__',\n '__reduce__',\n '__reduce_ex__',\n '__repr__',\n '__setattr__',\n '__sizeof__',\n '__str__',\n '__subclasshook__',\n 'close',\n 'gi_code',\n 'gi_frame',\n 'gi_running',\n 'gi_yieldfrom',\n 'send',\n 'throw']"
     },
     "metadata": {}
    }
   ],
   "execution_count": null
  },
  {
   "cell_type": "code",
   "source": "next(red)",
   "metadata": {
    "tags": [],
    "cell_id": "00145-453fa6c3-fb27-4cc0-9676-2ba70a56caf4",
    "deepnote_to_be_reexecuted": false,
    "source_hash": "ad6a2d2f",
    "execution_start": 1622877211567,
    "execution_millis": 23,
    "deepnote_cell_type": "code"
   },
   "outputs": [
    {
     "output_type": "execute_result",
     "execution_count": 180,
     "data": {
      "text/plain": "3"
     },
     "metadata": {}
    }
   ],
   "execution_count": null
  },
  {
   "cell_type": "code",
   "source": "next(red)",
   "metadata": {
    "tags": [],
    "cell_id": "00146-0d91ff35-8c8e-475e-883a-fa54f8489ae5",
    "deepnote_to_be_reexecuted": false,
    "source_hash": "ad6a2d2f",
    "execution_start": 1622877216700,
    "execution_millis": 15,
    "deepnote_cell_type": "code"
   },
   "outputs": [
    {
     "output_type": "execute_result",
     "execution_count": 181,
     "data": {
      "text/plain": "6"
     },
     "metadata": {}
    }
   ],
   "execution_count": null
  },
  {
   "cell_type": "code",
   "source": "list(filter(lambda y : y < 25, map(lambda x: x**2, range(10))))",
   "metadata": {
    "tags": [],
    "cell_id": "00147-4fc87725-2cf8-4f75-be4b-85e4e5a16e16",
    "deepnote_to_be_reexecuted": false,
    "source_hash": "30e72d09",
    "execution_start": 1622877270924,
    "execution_millis": 15,
    "deepnote_cell_type": "code"
   },
   "outputs": [
    {
     "output_type": "execute_result",
     "execution_count": 182,
     "data": {
      "text/plain": "[0, 1, 4, 9, 16]"
     },
     "metadata": {}
    }
   ],
   "execution_count": null
  },
  {
   "cell_type": "code",
   "source": "[x**2 for x in range(10) if x**2 < 25]",
   "metadata": {
    "tags": [],
    "cell_id": "00148-3cf316a0-3024-4c89-9d32-a92fecf9b494",
    "deepnote_to_be_reexecuted": false,
    "source_hash": "6dc873f",
    "execution_start": 1622877321859,
    "execution_millis": 30,
    "deepnote_cell_type": "code"
   },
   "outputs": [
    {
     "output_type": "execute_result",
     "execution_count": 183,
     "data": {
      "text/plain": "[0, 1, 4, 9, 16]"
     },
     "metadata": {}
    }
   ],
   "execution_count": null
  },
  {
   "cell_type": "code",
   "source": "next(red)",
   "metadata": {
    "tags": [],
    "cell_id": "00149-e74f120b-9e79-47b4-90cd-37f91edac459",
    "deepnote_to_be_reexecuted": false,
    "source_hash": "ad6a2d2f",
    "execution_start": 1622877379839,
    "execution_millis": 11,
    "deepnote_cell_type": "code"
   },
   "outputs": [
    {
     "output_type": "error",
     "ename": "StopIteration",
     "evalue": "",
     "traceback": [
      "\u001b[0;31m---------------------------------------------------------------------------\u001b[0m",
      "\u001b[0;31mStopIteration\u001b[0m                             Traceback (most recent call last)",
      "\u001b[0;32m<ipython-input-184-b7d8c374ebc2>\u001b[0m in \u001b[0;36m<module>\u001b[0;34m\u001b[0m\n\u001b[0;32m----> 1\u001b[0;31m \u001b[0mnext\u001b[0m\u001b[0;34m(\u001b[0m\u001b[0mred\u001b[0m\u001b[0;34m)\u001b[0m\u001b[0;34m\u001b[0m\u001b[0;34m\u001b[0m\u001b[0m\n\u001b[0m",
      "\u001b[0;31mStopIteration\u001b[0m: "
     ]
    }
   ],
   "execution_count": null
  },
  {
   "cell_type": "code",
   "source": "red = (x for x in l if x%3==0)\n\nfor r in red:\n    print(r)",
   "metadata": {
    "tags": [],
    "cell_id": "00150-dfd6b8c7-8b28-40ee-bf0c-add51a74cb65",
    "deepnote_to_be_reexecuted": false,
    "source_hash": "9cd72924",
    "execution_start": 1622877406710,
    "execution_millis": 16,
    "deepnote_cell_type": "code"
   },
   "outputs": [
    {
     "name": "stdout",
     "text": "3\n6\n",
     "output_type": "stream"
    }
   ],
   "execution_count": null
  },
  {
   "cell_type": "code",
   "source": "l = [4, 5, 7, 9, 20]\n\nsum(l)",
   "metadata": {
    "tags": [],
    "cell_id": "00151-f0bd8c11-0c03-4fcd-8dc4-ab60272b8a89",
    "deepnote_to_be_reexecuted": false,
    "source_hash": "bd39d9c7",
    "execution_start": 1622877460570,
    "execution_millis": 9,
    "deepnote_cell_type": "code"
   },
   "outputs": [
    {
     "output_type": "execute_result",
     "execution_count": 186,
     "data": {
      "text/plain": "45"
     },
     "metadata": {}
    }
   ],
   "execution_count": null
  },
  {
   "cell_type": "code",
   "source": "max(l)",
   "metadata": {
    "tags": [],
    "cell_id": "00152-ede73f56-13e2-43b1-b053-e27bc45cec9a",
    "deepnote_to_be_reexecuted": false,
    "source_hash": "2d4c1202",
    "execution_start": 1622877477509,
    "execution_millis": 13,
    "deepnote_cell_type": "code"
   },
   "outputs": [
    {
     "output_type": "execute_result",
     "execution_count": 187,
     "data": {
      "text/plain": "20"
     },
     "metadata": {}
    }
   ],
   "execution_count": null
  },
  {
   "cell_type": "code",
   "source": "_min = lambda a, b : a if a < b else b\n\n\ndef min_sequence(sequence):\n    result =  sequence[0]\n    for x in sequence[1:]:\n        result = _min(result, x)\n    return result",
   "metadata": {
    "tags": [],
    "cell_id": "00153-84bdf658-67c4-4bef-857d-a48ab5e5f78c",
    "deepnote_to_be_reexecuted": false,
    "source_hash": "709a654f",
    "execution_start": 1622877585929,
    "execution_millis": 1,
    "deepnote_cell_type": "code"
   },
   "outputs": [],
   "execution_count": null
  },
  {
   "cell_type": "code",
   "source": "print(l)\nprint(min_sequence(l))",
   "metadata": {
    "tags": [],
    "cell_id": "00154-634b000e-d075-4f50-a00d-1b03509538f0",
    "deepnote_to_be_reexecuted": false,
    "source_hash": "d1184265",
    "execution_start": 1622877585990,
    "execution_millis": 8984,
    "deepnote_cell_type": "code"
   },
   "outputs": [
    {
     "name": "stdout",
     "text": "[4, 5, 7, 9, 20]\n4\n",
     "output_type": "stream"
    }
   ],
   "execution_count": null
  },
  {
   "cell_type": "code",
   "source": "def _reduce(fn, sequence):\n    result = sequence[0]\n    for x in sequence[1:]:\n        result = fn(result, x)\n    return result",
   "metadata": {
    "tags": [],
    "cell_id": "00155-5b324af1-fd77-4be4-b7b3-a0d715846305",
    "deepnote_to_be_reexecuted": false,
    "source_hash": "16221bf6",
    "execution_start": 1622877666480,
    "execution_millis": 6,
    "deepnote_cell_type": "code"
   },
   "outputs": [],
   "execution_count": null
  },
  {
   "cell_type": "code",
   "source": "_reduce(_min, l)",
   "metadata": {
    "tags": [],
    "cell_id": "00156-64c81efe-4486-48b1-8659-9a9dda91bc34",
    "deepnote_to_be_reexecuted": false,
    "source_hash": "cbb51e91",
    "execution_start": 1622877675405,
    "execution_millis": 16,
    "deepnote_cell_type": "code"
   },
   "outputs": [
    {
     "output_type": "execute_result",
     "execution_count": 193,
     "data": {
      "text/plain": "4"
     },
     "metadata": {}
    }
   ],
   "execution_count": null
  },
  {
   "cell_type": "code",
   "source": "_reduce(lambda a, b: a if a > b else b, l)",
   "metadata": {
    "tags": [],
    "cell_id": "00157-e4c0e43a-bf14-4ab6-a51d-8ac99c964f94",
    "deepnote_to_be_reexecuted": false,
    "source_hash": "470864f0",
    "execution_start": 1622877716120,
    "execution_millis": 25,
    "deepnote_cell_type": "code"
   },
   "outputs": [
    {
     "output_type": "execute_result",
     "execution_count": 195,
     "data": {
      "text/plain": "20"
     },
     "metadata": {}
    }
   ],
   "execution_count": null
  },
  {
   "cell_type": "code",
   "source": "from functools import reduce",
   "metadata": {
    "tags": [],
    "cell_id": "00158-ddda635c-3b1f-4c59-8ee4-dcf2c37f2bc0",
    "deepnote_to_be_reexecuted": false,
    "source_hash": "e50ba9a4",
    "execution_start": 1622877734085,
    "execution_millis": 10,
    "deepnote_cell_type": "code"
   },
   "outputs": [],
   "execution_count": null
  },
  {
   "cell_type": "code",
   "source": "l",
   "metadata": {
    "tags": [],
    "cell_id": "00159-825d3b4d-753c-4462-9426-9498a9798ae1",
    "deepnote_to_be_reexecuted": false,
    "source_hash": "66e02963",
    "execution_start": 1622877741430,
    "execution_millis": 14,
    "deepnote_cell_type": "code"
   },
   "outputs": [
    {
     "output_type": "execute_result",
     "execution_count": 197,
     "data": {
      "text/plain": "[4, 5, 7, 9, 20]"
     },
     "metadata": {}
    }
   ],
   "execution_count": null
  },
  {
   "cell_type": "code",
   "source": "reduce(lambda a, b: a if a > b else b, l)",
   "metadata": {
    "tags": [],
    "cell_id": "00160-7cf56b9d-39d8-45f6-a59e-fa15569c448a",
    "deepnote_to_be_reexecuted": false,
    "source_hash": "f580120",
    "execution_start": 1622877784859,
    "execution_millis": 18,
    "deepnote_cell_type": "code"
   },
   "outputs": [
    {
     "output_type": "execute_result",
     "execution_count": 200,
     "data": {
      "text/plain": "20"
     },
     "metadata": {}
    }
   ],
   "execution_count": null
  },
  {
   "cell_type": "code",
   "source": "reduce(lambda a, b: a + b, l)",
   "metadata": {
    "tags": [],
    "cell_id": "00161-8d4eed70-fb90-4df9-9c3a-60f20ef2aba2",
    "deepnote_to_be_reexecuted": false,
    "source_hash": "2474557f",
    "execution_start": 1622877982554,
    "execution_millis": 10,
    "deepnote_cell_type": "code"
   },
   "outputs": [
    {
     "output_type": "execute_result",
     "execution_count": 201,
     "data": {
      "text/plain": "45"
     },
     "metadata": {}
    }
   ],
   "execution_count": null
  },
  {
   "cell_type": "code",
   "source": "sum(l)",
   "metadata": {
    "tags": [],
    "cell_id": "00162-447503d0-42ed-4d9b-8b23-9279c00e3722",
    "deepnote_to_be_reexecuted": false,
    "source_hash": "aa1f1638",
    "execution_start": 1622877987073,
    "execution_millis": 17,
    "deepnote_cell_type": "code"
   },
   "outputs": [
    {
     "output_type": "execute_result",
     "execution_count": 202,
     "data": {
      "text/plain": "45"
     },
     "metadata": {}
    }
   ],
   "execution_count": null
  },
  {
   "cell_type": "code",
   "source": "l",
   "metadata": {
    "tags": [],
    "cell_id": "00163-55b3dce9-4bc7-47d3-874e-41f3d765bac9",
    "deepnote_to_be_reexecuted": false,
    "source_hash": "66e02963",
    "execution_start": 1622877990676,
    "execution_millis": 19,
    "deepnote_cell_type": "code"
   },
   "outputs": [
    {
     "output_type": "execute_result",
     "execution_count": 203,
     "data": {
      "text/plain": "[4, 5, 7, 9, 20]"
     },
     "metadata": {}
    }
   ],
   "execution_count": null
  },
  {
   "cell_type": "code",
   "source": "min(l), max(l), sum(l)",
   "metadata": {
    "tags": [],
    "cell_id": "00164-aa070d37-9b4c-4b07-8c03-84d747e84c40",
    "deepnote_to_be_reexecuted": false,
    "source_hash": "72da15ab",
    "execution_start": 1622878073724,
    "execution_millis": 53,
    "deepnote_cell_type": "code"
   },
   "outputs": [
    {
     "output_type": "execute_result",
     "execution_count": 206,
     "data": {
      "text/plain": "(4, 20, 45)"
     },
     "metadata": {}
    }
   ],
   "execution_count": null
  },
  {
   "cell_type": "code",
   "source": "l = [1, 0, 2]\nany(l), all(l)",
   "metadata": {
    "tags": [],
    "cell_id": "00165-987eab67-0d07-4868-abd8-af259b4ff838",
    "deepnote_to_be_reexecuted": false,
    "source_hash": "3fa83e02",
    "execution_start": 1622878117341,
    "execution_millis": 9,
    "deepnote_cell_type": "code"
   },
   "outputs": [
    {
     "output_type": "execute_result",
     "execution_count": 207,
     "data": {
      "text/plain": "(True, False)"
     },
     "metadata": {}
    }
   ],
   "execution_count": null
  },
  {
   "cell_type": "code",
   "source": "l = [1, 2]\nany(l), all(l)",
   "metadata": {
    "tags": [],
    "cell_id": "00166-9f5422cd-a1c2-469b-be2f-722ceae7d834",
    "deepnote_to_be_reexecuted": false,
    "source_hash": "f7a35bed",
    "execution_start": 1622878165126,
    "execution_millis": 12,
    "deepnote_cell_type": "code"
   },
   "outputs": [
    {
     "output_type": "execute_result",
     "execution_count": 208,
     "data": {
      "text/plain": "(True, True)"
     },
     "metadata": {}
    }
   ],
   "execution_count": null
  },
  {
   "cell_type": "markdown",
   "source": "# ",
   "metadata": {
    "tags": [],
    "cell_id": "00167-85d7e60a-2730-4a71-8d6e-ec967876d48c",
    "deepnote_cell_type": "text-cell-h1"
   }
  },
  {
   "cell_type": "code",
   "source": "",
   "metadata": {
    "tags": [],
    "cell_id": "00167-ffd93e4e-3478-4e36-9381-db365424d95e",
    "deepnote_cell_type": "code"
   },
   "outputs": [],
   "execution_count": null
  },
  {
   "cell_type": "markdown",
   "source": "<a style='text-decoration:none;line-height:16px;display:flex;color:#5B5B62;padding:10px;justify-content:end;' href='https://deepnote.com?utm_source=created-in-deepnote-cell&projectId=ec90de38-255d-4b81-a5aa-8cef77d684bf' target=\"_blank\">\n<img alt='Created in deepnote.com' style='display:inline;max-height:16px;margin:0px;margin-right:7.5px;' src='data:image/svg+xml;base64,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' > </img>\nCreated in <span style='font-weight:600;margin-left:4px;'>Deepnote</span></a>",
   "metadata": {
    "tags": [],
    "created_in_deepnote_cell": true,
    "deepnote_cell_type": "markdown"
   }
  }
 ],
 "nbformat": 4,
 "nbformat_minor": 2,
 "metadata": {
  "orig_nbformat": 2,
  "deepnote": {
   "is_reactive": false
  },
  "deepnote_notebook_id": "9c7c6833-454b-4582-9c99-fef89fe1e666",
  "deepnote_execution_queue": []
 }
}