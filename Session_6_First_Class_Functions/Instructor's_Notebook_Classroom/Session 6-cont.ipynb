{
 "cells": [
  {
   "cell_type": "code",
   "metadata": {
    "tags": [],
    "cell_id": "00000-2bfca4d5-9c71-42e5-bdcc-26e192a2ccb3",
    "deepnote_to_be_reexecuted": false,
    "source_hash": "40935b7f",
    "execution_start": 1622878562916,
    "execution_millis": 1,
    "deepnote_cell_type": "code"
   },
   "source": "from functools import partial",
   "outputs": [],
   "execution_count": null
  },
  {
   "cell_type": "code",
   "source": "def my_func(a, b, c):\n    print(a, b, c)",
   "metadata": {
    "tags": [],
    "cell_id": "00001-9f1dcc42-9370-4ec6-bde8-a7af0e9518fd",
    "deepnote_to_be_reexecuted": false,
    "source_hash": "8e83452b",
    "execution_start": 1622878572821,
    "execution_millis": 5,
    "deepnote_cell_type": "code"
   },
   "outputs": [],
   "execution_count": null
  },
  {
   "cell_type": "code",
   "source": "f = partial(my_func, 10)",
   "metadata": {
    "tags": [],
    "cell_id": "00002-9de2a9d6-7fa0-46a6-a8ec-9c4680956ead",
    "deepnote_to_be_reexecuted": false,
    "source_hash": "e04d6bb0",
    "execution_start": 1622878588332,
    "execution_millis": 3,
    "deepnote_cell_type": "code"
   },
   "outputs": [],
   "execution_count": null
  },
  {
   "cell_type": "code",
   "source": "f(10, 20)",
   "metadata": {
    "tags": [],
    "cell_id": "00003-6addbcb1-f3c8-4867-a7e8-699bc661b4af",
    "deepnote_to_be_reexecuted": false,
    "source_hash": "daca2f1e",
    "execution_start": 1622878612083,
    "execution_millis": 9,
    "deepnote_cell_type": "code"
   },
   "outputs": [
    {
     "name": "stdout",
     "text": "10 10 20\n",
     "output_type": "stream"
    }
   ],
   "execution_count": null
  },
  {
   "cell_type": "code",
   "source": "f = lambda b, c: my_func(10, b, c)\nf(10, 20)",
   "metadata": {
    "tags": [],
    "cell_id": "00004-53097bec-49ea-41d2-ad51-14c34c5e8b5c",
    "deepnote_to_be_reexecuted": false,
    "source_hash": "53049930",
    "execution_start": 1622878645359,
    "execution_millis": 8,
    "deepnote_cell_type": "code"
   },
   "outputs": [
    {
     "name": "stdout",
     "text": "10 10 20\n",
     "output_type": "stream"
    }
   ],
   "execution_count": null
  },
  {
   "cell_type": "code",
   "source": "origin = (0, 0)",
   "metadata": {
    "tags": [],
    "cell_id": "00005-dc295fc6-3b07-4e80-a397-90969fa2a1ae",
    "deepnote_to_be_reexecuted": false,
    "source_hash": "2dd36177",
    "execution_start": 1622878682518,
    "execution_millis": 7,
    "deepnote_cell_type": "code"
   },
   "outputs": [],
   "execution_count": null
  },
  {
   "cell_type": "code",
   "source": "l = [(1,1), (0, 2), (-3, 2), (0,0), (10, 10)]",
   "metadata": {
    "tags": [],
    "cell_id": "00006-2e4310fe-9c61-4e6a-9ffc-3853f47793a1",
    "deepnote_to_be_reexecuted": false,
    "source_hash": "5e8d7d4b",
    "execution_start": 1622878690062,
    "execution_millis": 0,
    "deepnote_cell_type": "code"
   },
   "outputs": [],
   "execution_count": null
  },
  {
   "cell_type": "code",
   "source": "dist = lambda x, y: (x[0]-y[0])**2 + (x[1]-y[1])**2",
   "metadata": {
    "tags": [],
    "cell_id": "00007-34900f38-a914-473e-a6fb-2acab03f02f2",
    "deepnote_to_be_reexecuted": false,
    "source_hash": "af617b8b",
    "execution_start": 1622878725093,
    "execution_millis": 4,
    "deepnote_cell_type": "code"
   },
   "outputs": [],
   "execution_count": null
  },
  {
   "cell_type": "code",
   "source": "dist((0, 0), (1, 1))",
   "metadata": {
    "tags": [],
    "cell_id": "00008-bae318df-0771-46e5-8b8c-4a3c58d68a1e",
    "deepnote_to_be_reexecuted": false,
    "source_hash": "d9271f24",
    "execution_start": 1622878736012,
    "execution_millis": 7,
    "deepnote_cell_type": "code"
   },
   "outputs": [
    {
     "output_type": "execute_result",
     "execution_count": 12,
     "data": {
      "text/plain": "2"
     },
     "metadata": {}
    }
   ],
   "execution_count": null
  },
  {
   "cell_type": "code",
   "source": "sorted(l, key = lambda x: dist((0, 0), x))",
   "metadata": {
    "tags": [],
    "cell_id": "00009-229083d2-ef69-44d9-b8ee-276083e97b79",
    "deepnote_to_be_reexecuted": false,
    "source_hash": "26fa8b43",
    "execution_start": 1622878781704,
    "execution_millis": 11,
    "deepnote_cell_type": "code"
   },
   "outputs": [
    {
     "output_type": "execute_result",
     "execution_count": 13,
     "data": {
      "text/plain": "[(0, 0), (1, 1), (0, 2), (-3, 2), (10, 10)]"
     },
     "metadata": {}
    }
   ],
   "execution_count": null
  },
  {
   "cell_type": "code",
   "source": "sorted(l, key = partial(dist, (0,0)))",
   "metadata": {
    "tags": [],
    "cell_id": "00010-9c3fed41-b062-4d76-8701-b4992195cad0",
    "deepnote_to_be_reexecuted": false,
    "source_hash": "4e3e96e4",
    "execution_start": 1622878806036,
    "execution_millis": 9,
    "deepnote_cell_type": "code"
   },
   "outputs": [
    {
     "output_type": "execute_result",
     "execution_count": 14,
     "data": {
      "text/plain": "[(0, 0), (1, 1), (0, 2), (-3, 2), (10, 10)]"
     },
     "metadata": {}
    }
   ],
   "execution_count": null
  },
  {
   "cell_type": "code",
   "source": "import operator",
   "metadata": {
    "tags": [],
    "cell_id": "00011-3e878969-fbb9-4481-b477-ac1009626faf",
    "deepnote_to_be_reexecuted": false,
    "source_hash": "a25a62e3",
    "execution_start": 1622878842105,
    "execution_millis": 4,
    "deepnote_cell_type": "code"
   },
   "outputs": [],
   "execution_count": null
  },
  {
   "cell_type": "code",
   "source": "dir(operator)",
   "metadata": {
    "tags": [],
    "cell_id": "00012-29fcfa08-6400-4fcb-b57a-5796ca9aa334",
    "deepnote_to_be_reexecuted": false,
    "source_hash": "cbe0d884",
    "execution_start": 1622878846985,
    "execution_millis": 8,
    "deepnote_cell_type": "code"
   },
   "outputs": [
    {
     "output_type": "execute_result",
     "execution_count": 16,
     "data": {
      "text/plain": "['__abs__',\n '__add__',\n '__all__',\n '__and__',\n '__builtins__',\n '__cached__',\n '__concat__',\n '__contains__',\n '__delitem__',\n '__doc__',\n '__eq__',\n '__file__',\n '__floordiv__',\n '__ge__',\n '__getitem__',\n '__gt__',\n '__iadd__',\n '__iand__',\n '__iconcat__',\n '__ifloordiv__',\n '__ilshift__',\n '__imatmul__',\n '__imod__',\n '__imul__',\n '__index__',\n '__inv__',\n '__invert__',\n '__ior__',\n '__ipow__',\n '__irshift__',\n '__isub__',\n '__itruediv__',\n '__ixor__',\n '__le__',\n '__loader__',\n '__lshift__',\n '__lt__',\n '__matmul__',\n '__mod__',\n '__mul__',\n '__name__',\n '__ne__',\n '__neg__',\n '__not__',\n '__or__',\n '__package__',\n '__pos__',\n '__pow__',\n '__rshift__',\n '__setitem__',\n '__spec__',\n '__sub__',\n '__truediv__',\n '__xor__',\n '_abs',\n 'abs',\n 'add',\n 'and_',\n 'attrgetter',\n 'concat',\n 'contains',\n 'countOf',\n 'delitem',\n 'eq',\n 'floordiv',\n 'ge',\n 'getitem',\n 'gt',\n 'iadd',\n 'iand',\n 'iconcat',\n 'ifloordiv',\n 'ilshift',\n 'imatmul',\n 'imod',\n 'imul',\n 'index',\n 'indexOf',\n 'inv',\n 'invert',\n 'ior',\n 'ipow',\n 'irshift',\n 'is_',\n 'is_not',\n 'isub',\n 'itemgetter',\n 'itruediv',\n 'ixor',\n 'le',\n 'length_hint',\n 'lshift',\n 'lt',\n 'matmul',\n 'methodcaller',\n 'mod',\n 'mul',\n 'ne',\n 'neg',\n 'not_',\n 'or_',\n 'pos',\n 'pow',\n 'rshift',\n 'setitem',\n 'sub',\n 'truediv',\n 'truth',\n 'xor']"
     },
     "metadata": {}
    }
   ],
   "execution_count": null
  },
  {
   "cell_type": "code",
   "source": "operator.add(1, 2)",
   "metadata": {
    "tags": [],
    "cell_id": "00013-0f69e64f-5176-44ba-b5f3-21ddc296eb15",
    "deepnote_to_be_reexecuted": false,
    "source_hash": "3f10c609",
    "execution_start": 1622878884600,
    "execution_millis": 9,
    "deepnote_cell_type": "code"
   },
   "outputs": [
    {
     "output_type": "execute_result",
     "execution_count": 17,
     "data": {
      "text/plain": "3"
     },
     "metadata": {}
    }
   ],
   "execution_count": null
  },
  {
   "cell_type": "code",
   "source": "operator.mul(1, 2)",
   "metadata": {
    "tags": [],
    "cell_id": "00014-f65bd914-de78-40a0-8b6b-acb176c5030c",
    "deepnote_to_be_reexecuted": false,
    "source_hash": "86880e1e",
    "execution_start": 1622878891997,
    "execution_millis": 22,
    "deepnote_cell_type": "code"
   },
   "outputs": [
    {
     "output_type": "execute_result",
     "execution_count": 18,
     "data": {
      "text/plain": "2"
     },
     "metadata": {}
    }
   ],
   "execution_count": null
  },
  {
   "cell_type": "code",
   "source": "from functools import reduce\nreduce(lambda x, y: x*y, [1, 2, 3, 4])",
   "metadata": {
    "tags": [],
    "cell_id": "00015-93062413-90d8-4641-b97b-64cae3ace97b",
    "deepnote_to_be_reexecuted": false,
    "source_hash": "1a76885c",
    "execution_start": 1622878932696,
    "execution_millis": 8,
    "deepnote_cell_type": "code"
   },
   "outputs": [
    {
     "output_type": "execute_result",
     "execution_count": 20,
     "data": {
      "text/plain": "24"
     },
     "metadata": {}
    }
   ],
   "execution_count": null
  },
  {
   "cell_type": "code",
   "source": "reduce(operator.mul, [1, 2, 3, 4])",
   "metadata": {
    "tags": [],
    "cell_id": "00016-8ac5e638-c7d0-4239-91c4-a15da3efe8c0",
    "deepnote_to_be_reexecuted": false,
    "source_hash": "9c922509",
    "execution_start": 1622878945445,
    "execution_millis": 10,
    "deepnote_cell_type": "code"
   },
   "outputs": [
    {
     "output_type": "execute_result",
     "execution_count": 21,
     "data": {
      "text/plain": "24"
     },
     "metadata": {}
    }
   ],
   "execution_count": null
  },
  {
   "cell_type": "code",
   "source": "operator.lt(10, 100)",
   "metadata": {
    "tags": [],
    "cell_id": "00017-7488509c-0b07-46cb-882f-48372d56bd5e",
    "deepnote_to_be_reexecuted": false,
    "source_hash": "6e89c8c2",
    "execution_start": 1622878980683,
    "execution_millis": 8,
    "deepnote_cell_type": "code"
   },
   "outputs": [
    {
     "output_type": "execute_result",
     "execution_count": 22,
     "data": {
      "text/plain": "True"
     },
     "metadata": {}
    }
   ],
   "execution_count": null
  },
  {
   "cell_type": "code",
   "source": "operator.is_('abc', 'def')",
   "metadata": {
    "tags": [],
    "cell_id": "00018-df1d1509-2bb1-4587-a467-277079bf685f",
    "deepnote_to_be_reexecuted": false,
    "source_hash": "8ef38113",
    "execution_start": 1622878999431,
    "execution_millis": 7,
    "deepnote_cell_type": "code"
   },
   "outputs": [
    {
     "output_type": "execute_result",
     "execution_count": 23,
     "data": {
      "text/plain": "False"
     },
     "metadata": {}
    }
   ],
   "execution_count": null
  },
  {
   "cell_type": "code",
   "source": "operator.truth([1, 2, 3])",
   "metadata": {
    "tags": [],
    "cell_id": "00019-22f9de84-17b4-44bd-b23b-9a16ae2c98df",
    "deepnote_to_be_reexecuted": false,
    "source_hash": "3c2d939c",
    "execution_start": 1622879016227,
    "execution_millis": 8,
    "deepnote_cell_type": "code"
   },
   "outputs": [
    {
     "output_type": "execute_result",
     "execution_count": 25,
     "data": {
      "text/plain": "True"
     },
     "metadata": {}
    }
   ],
   "execution_count": null
  },
  {
   "cell_type": "code",
   "source": "l = [1, 2, 3, 4]\n\noperator.getitem(l, 2)",
   "metadata": {
    "tags": [],
    "cell_id": "00020-7fd72c01-4e79-45fa-bd00-5b8932a8e05c",
    "deepnote_to_be_reexecuted": false,
    "source_hash": "5e99d466",
    "execution_start": 1622879039002,
    "execution_millis": 8,
    "deepnote_cell_type": "code"
   },
   "outputs": [
    {
     "output_type": "execute_result",
     "execution_count": 26,
     "data": {
      "text/plain": "3"
     },
     "metadata": {}
    }
   ],
   "execution_count": null
  },
  {
   "cell_type": "code",
   "source": "",
   "metadata": {
    "tags": [],
    "cell_id": "00021-b9611d31-4523-4102-a3d1-da38c3118b88",
    "deepnote_cell_type": "code"
   },
   "outputs": [],
   "execution_count": null
  },
  {
   "cell_type": "markdown",
   "source": "<a style='text-decoration:none;line-height:16px;display:flex;color:#5B5B62;padding:10px;justify-content:end;' href='https://deepnote.com?utm_source=created-in-deepnote-cell&projectId=ec90de38-255d-4b81-a5aa-8cef77d684bf' target=\"_blank\">\n<img alt='Created in deepnote.com' style='display:inline;max-height:16px;margin:0px;margin-right:7.5px;' src='data:image/svg+xml;base64,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' > </img>\nCreated in <span style='font-weight:600;margin-left:4px;'>Deepnote</span></a>",
   "metadata": {
    "tags": [],
    "created_in_deepnote_cell": true,
    "deepnote_cell_type": "markdown"
   }
  }
 ],
 "nbformat": 4,
 "nbformat_minor": 2,
 "metadata": {
  "orig_nbformat": 2,
  "deepnote": {
   "is_reactive": false
  },
  "deepnote_notebook_id": "9e27d13e-12fc-49d6-b8f7-21c3d0912ccf",
  "deepnote_execution_queue": []
 }
}