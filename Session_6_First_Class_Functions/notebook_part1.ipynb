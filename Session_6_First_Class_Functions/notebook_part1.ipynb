{
 "cells": [
  {
   "cell_type": "code",
   "execution_count": 1,
   "id": "cb5edd04",
   "metadata": {},
   "outputs": [],
   "source": [
    "import part1"
   ]
  },
  {
   "cell_type": "markdown",
   "id": "9d2556af",
   "metadata": {},
   "source": [
    "### Task1"
   ]
  },
  {
   "cell_type": "code",
   "execution_count": 2,
   "id": "589e0caa",
   "metadata": {},
   "outputs": [
    {
     "data": {
      "text/plain": [
       "[(('spades', '2'),),\n",
       " (('spades', '3'),),\n",
       " (('spades', '4'),),\n",
       " (('spades', '5'),),\n",
       " (('spades', '6'),),\n",
       " (('spades', '7'),),\n",
       " (('spades', '8'),),\n",
       " (('spades', '9'),),\n",
       " (('spades', '10'),),\n",
       " (('spades', 'jack'),),\n",
       " (('spades', 'queen'),),\n",
       " (('spades', 'king'),),\n",
       " (('spades', 'ace'),),\n",
       " (('clubs', '2'),),\n",
       " (('clubs', '3'),),\n",
       " (('clubs', '4'),),\n",
       " (('clubs', '5'),),\n",
       " (('clubs', '6'),),\n",
       " (('clubs', '7'),),\n",
       " (('clubs', '8'),),\n",
       " (('clubs', '9'),),\n",
       " (('clubs', '10'),),\n",
       " (('clubs', 'jack'),),\n",
       " (('clubs', 'queen'),),\n",
       " (('clubs', 'king'),),\n",
       " (('clubs', 'ace'),),\n",
       " (('hearts', '2'),),\n",
       " (('hearts', '3'),),\n",
       " (('hearts', '4'),),\n",
       " (('hearts', '5'),),\n",
       " (('hearts', '6'),),\n",
       " (('hearts', '7'),),\n",
       " (('hearts', '8'),),\n",
       " (('hearts', '9'),),\n",
       " (('hearts', '10'),),\n",
       " (('hearts', 'jack'),),\n",
       " (('hearts', 'queen'),),\n",
       " (('hearts', 'king'),),\n",
       " (('hearts', 'ace'),),\n",
       " (('diamonds', '2'),),\n",
       " (('diamonds', '3'),),\n",
       " (('diamonds', '4'),),\n",
       " (('diamonds', '5'),),\n",
       " (('diamonds', '6'),),\n",
       " (('diamonds', '7'),),\n",
       " (('diamonds', '8'),),\n",
       " (('diamonds', '9'),),\n",
       " (('diamonds', '10'),),\n",
       " (('diamonds', 'jack'),),\n",
       " (('diamonds', 'queen'),),\n",
       " (('diamonds', 'king'),),\n",
       " (('diamonds', 'ace'),)]"
      ]
     },
     "execution_count": 2,
     "metadata": {},
     "output_type": "execute_result"
    }
   ],
   "source": [
    "vals = [ '2' , '3' , '4' , '5' , '6' , '7' , '8' , '9' , '10' , 'jack' , 'queen' , 'king' , 'ace' ]\n",
    "suits = [ 'spades' , 'clubs' , 'hearts' , 'diamonds' ]\n",
    "list(part1.decksingleline(vals,suits))"
   ]
  },
  {
   "cell_type": "markdown",
   "id": "8e99862e",
   "metadata": {},
   "source": [
    "### Task 2"
   ]
  },
  {
   "cell_type": "code",
   "execution_count": 4,
   "id": "f0aca088",
   "metadata": {},
   "outputs": [
    {
     "data": {
      "text/plain": [
       "[('spades', '2'),\n",
       " ('spades', '3'),\n",
       " ('spades', '4'),\n",
       " ('spades', '5'),\n",
       " ('spades', '6'),\n",
       " ('spades', '7'),\n",
       " ('spades', '8'),\n",
       " ('spades', '9'),\n",
       " ('spades', '10'),\n",
       " ('spades', 'jack'),\n",
       " ('spades', 'queen'),\n",
       " ('spades', 'king'),\n",
       " ('spades', 'ace'),\n",
       " ('clubs', '2'),\n",
       " ('clubs', '3'),\n",
       " ('clubs', '4'),\n",
       " ('clubs', '5'),\n",
       " ('clubs', '6'),\n",
       " ('clubs', '7'),\n",
       " ('clubs', '8'),\n",
       " ('clubs', '9'),\n",
       " ('clubs', '10'),\n",
       " ('clubs', 'jack'),\n",
       " ('clubs', 'queen'),\n",
       " ('clubs', 'king'),\n",
       " ('clubs', 'ace'),\n",
       " ('hearts', '2'),\n",
       " ('hearts', '3'),\n",
       " ('hearts', '4'),\n",
       " ('hearts', '5'),\n",
       " ('hearts', '6'),\n",
       " ('hearts', '7'),\n",
       " ('hearts', '8'),\n",
       " ('hearts', '9'),\n",
       " ('hearts', '10'),\n",
       " ('hearts', 'jack'),\n",
       " ('hearts', 'queen'),\n",
       " ('hearts', 'king'),\n",
       " ('hearts', 'ace'),\n",
       " ('diamonds', '2'),\n",
       " ('diamonds', '3'),\n",
       " ('diamonds', '4'),\n",
       " ('diamonds', '5'),\n",
       " ('diamonds', '6'),\n",
       " ('diamonds', '7'),\n",
       " ('diamonds', '8'),\n",
       " ('diamonds', '9'),\n",
       " ('diamonds', '10'),\n",
       " ('diamonds', 'jack'),\n",
       " ('diamonds', 'queen'),\n",
       " ('diamonds', 'king'),\n",
       " ('diamonds', 'ace')]"
      ]
     },
     "execution_count": 4,
     "metadata": {},
     "output_type": "execute_result"
    }
   ],
   "source": [
    "vals = [ '2' , '3' , '4' , '5' , '6' , '7' , '8' , '9' , '10' , 'jack' , 'queen' , 'king' , 'ace' ]\n",
    "suits = [ 'spades' , 'clubs' , 'hearts' , 'diamonds' ]\n",
    "part1.create_deck(vals,suits)"
   ]
  },
  {
   "cell_type": "markdown",
   "id": "e4db35ca",
   "metadata": {},
   "source": [
    "## Task 3"
   ]
  },
  {
   "cell_type": "markdown",
   "id": "6d473e63",
   "metadata": {},
   "source": [
    "#### Utiliy functions"
   ]
  },
  {
   "cell_type": "code",
   "execution_count": 7,
   "id": "69ae6e93",
   "metadata": {},
   "outputs": [
    {
     "data": {
      "text/plain": [
       "[[1, 2, 3], [6, 7], [9], [11, 12, 13]]"
      ]
     },
     "execution_count": 7,
     "metadata": {},
     "output_type": "execute_result"
    }
   ],
   "source": [
    "# gives sub list of consecutive numbers\n",
    "test_list = [1,7,3,6,2,9,11,12,13]\n",
    "test_list.sort()\n",
    "part1.get_sub_list(test_list)"
   ]
  },
  {
   "cell_type": "code",
   "execution_count": 9,
   "id": "c7298924",
   "metadata": {},
   "outputs": [
    {
     "data": {
      "text/plain": [
       "17"
      ]
     },
     "execution_count": 9,
     "metadata": {},
     "output_type": "execute_result"
    }
   ],
   "source": [
    "# giveing scores to cards in list\n",
    "test_list = ['3','2','A']\n",
    "part1.evaluate_cards(test_list)"
   ]
  },
  {
   "cell_type": "code",
   "execution_count": 12,
   "id": "6ca58eec",
   "metadata": {},
   "outputs": [
    {
     "data": {
      "text/plain": [
       "18"
      ]
     },
     "execution_count": 12,
     "metadata": {},
     "output_type": "execute_result"
    }
   ],
   "source": [
    "# In certain cases A should be considered as 1 so another evaluate function\n",
    "test_list = [1,2,4,11]\n",
    "part1.evaluate_cards_int(test_list)"
   ]
  },
  {
   "cell_type": "markdown",
   "id": "f4fcdbd2",
   "metadata": {},
   "source": [
    "### Poker Hands - Count 10"
   ]
  },
  {
   "cell_type": "code",
   "execution_count": 13,
   "id": "a2ed816b",
   "metadata": {},
   "outputs": [
    {
     "data": {
      "text/plain": [
       "{'status': 1, 'Name': 'RoyalFlush', 'Priority': 1, 'Mark': 1}"
      ]
     },
     "execution_count": 13,
     "metadata": {},
     "output_type": "execute_result"
    }
   ],
   "source": [
    "# Royal flush\n",
    "player1 = [('spades', 'A'),  ('spades', 'K'),  ('spades', 'Q'),  ('spades', 'J'), ('spades', '10'),]\n",
    "part1.royal_flush(player1)"
   ]
  },
  {
   "cell_type": "code",
   "execution_count": 18,
   "id": "db9bdabd",
   "metadata": {},
   "outputs": [
    {
     "data": {
      "text/plain": [
       "{'status': 1, 'Name': 'StraightFlush', 'Priority': 2, 'Mark': 40}"
      ]
     },
     "execution_count": 18,
     "metadata": {},
     "output_type": "execute_result"
    }
   ],
   "source": [
    "# Straigh flush\n",
    "player1 = [('hearts', '10'),  ('hearts', '9'),  ('hearts', '8'),  ('hearts', '7'), ('hearts', '6')]\n",
    "part1.straight_flush(player1)    "
   ]
  },
  {
   "cell_type": "code",
   "execution_count": 23,
   "id": "e8d0ad17",
   "metadata": {},
   "outputs": [
    {
     "data": {
      "text/plain": [
       "{'status': 1, 'Name': 'FourOfAKind', 'Priority': 3, 'Marks': 28}"
      ]
     },
     "execution_count": 23,
     "metadata": {},
     "output_type": "execute_result"
    }
   ],
   "source": [
    "# Four of a kind\n",
    "player1 = [('clubs', 'A'),  ('clubs', '7'),  ('hearts', '7'),  ('diamonds', '7'), ('spades', '7')]\n",
    "part1.four_of_a_kind(player1)"
   ]
  },
  {
   "cell_type": "code",
   "execution_count": 25,
   "id": "0445590d",
   "metadata": {},
   "outputs": [
    {
     "data": {
      "text/plain": [
       "{'status': 1, 'Name': 'FullHouse', 'Priority': 4, 'Marks': 64}"
      ]
     },
     "execution_count": 25,
     "metadata": {},
     "output_type": "execute_result"
    }
   ],
   "source": [
    "# Full house\n",
    "player1 = [('spades', 'A'),  ('hearts', 'A'),  ('diamonds', 'A'),  ('spades', 'J'), ('hearts', 'J')]\n",
    "part1.full_house(player1)"
   ]
  },
  {
   "cell_type": "code",
   "execution_count": 26,
   "id": "b9c6506f",
   "metadata": {},
   "outputs": [
    {
     "data": {
      "text/plain": [
       "{'status': 1, 'Name': 'Flush', 'Priority': 5, 'Marks': 43}"
      ]
     },
     "execution_count": 26,
     "metadata": {},
     "output_type": "execute_result"
    }
   ],
   "source": [
    "# Flush\n",
    "player1 = [('spades', 'A'),  ('spades', 'K'),  ('spades', '8'),  ('spades', '3'), ('spades', '5')]\n",
    "part1.flush(player1)"
   ]
  },
  {
   "cell_type": "code",
   "execution_count": 2,
   "id": "d308f6cd",
   "metadata": {},
   "outputs": [
    {
     "data": {
      "text/plain": [
       "{'status': 1, 'Name': 'Straight', 'Priority': 6, 'Marks': 30}"
      ]
     },
     "execution_count": 2,
     "metadata": {},
     "output_type": "execute_result"
    }
   ],
   "source": [
    "# Straight\n",
    "player1 = [('spades', '8'),  ('diamonds', '7'),  ('hearts', '6'),  ('clubs', '5'), ('spades', '4')]\n",
    "part1.straight(player1)"
   ]
  },
  {
   "cell_type": "code",
   "execution_count": 3,
   "id": "5613212d",
   "metadata": {},
   "outputs": [
    {
     "data": {
      "text/plain": [
       "{'status': 1, 'Name': 'ThreeOfAKind', 'Priority': 7, 'Marks': 45}"
      ]
     },
     "execution_count": 3,
     "metadata": {},
     "output_type": "execute_result"
    }
   ],
   "source": [
    "# Three of a kind\n",
    "player1 = [('spades', '7'),  ('spades', '2'),  ('hearts', 'Q'),  ('clubs', 'Q'), ('spades', 'Q')]\n",
    "part1.three_of_a_kind(player1)"
   ]
  },
  {
   "cell_type": "code",
   "execution_count": 5,
   "id": "79041240",
   "metadata": {},
   "outputs": [
    {
     "data": {
      "text/plain": [
       "{'status': 1, 'Name': 'Twopair', 'Priority': 8, 'Marks': 36}"
      ]
     },
     "execution_count": 5,
     "metadata": {},
     "output_type": "execute_result"
    }
   ],
   "source": [
    "# Two pair\n",
    "player1 = [('spades', 'A'),  ('hearts', 'A'),  ('spades', '4'),  ('clubs', '4'), ('spades', '3')]\n",
    "part1.two_pair(player1)"
   ]
  },
  {
   "cell_type": "code",
   "execution_count": 7,
   "id": "d0303952",
   "metadata": {},
   "outputs": [
    {
     "data": {
      "text/plain": [
       "{'status': 1, 'Name': 'onepair', 'Priority': 9, 'Marks': 28}"
      ]
     },
     "execution_count": 7,
     "metadata": {},
     "output_type": "execute_result"
    }
   ],
   "source": [
    "# One pair\n",
    "player1 = [('spades', 'A'),  ('hearts', 'A'),  ('spades', '2'),  ('clubs', '4'), ('spades', '3')]\n",
    "part1.one_pair(player1)"
   ]
  },
  {
   "cell_type": "code",
   "execution_count": 9,
   "id": "0b71225f",
   "metadata": {},
   "outputs": [
    {
     "data": {
      "text/plain": [
       "{'status': 1, 'Name': 'highcard', 'Priority': 10, 'Marks': 36}"
      ]
     },
     "execution_count": 9,
     "metadata": {},
     "output_type": "execute_result"
    }
   ],
   "source": [
    "# High card\n",
    "player1 = [('spades', 'A'),  ('hearts', 'K'),  ('diamonds', '2'),  ('spades', '4'), ('clubs', '3')]\n",
    "part1.high_card(player1)"
   ]
  },
  {
   "cell_type": "markdown",
   "id": "a7e07cdb",
   "metadata": {},
   "source": [
    "### Game"
   ]
  },
  {
   "cell_type": "code",
   "execution_count": 10,
   "id": "ac7479c1",
   "metadata": {},
   "outputs": [
    {
     "name": "stdout",
     "output_type": "stream",
     "text": [
      "{'status': 1, 'Name': 'RoyalFlush', 'Priority': 1, 'Mark': 1}\n",
      "{'status': 1, 'Name': 'highcard', 'Priority': 10, 'Marks': 36}\n"
     ]
    },
    {
     "data": {
      "text/plain": [
       "'Player1 WON'"
      ]
     },
     "execution_count": 10,
     "metadata": {},
     "output_type": "execute_result"
    }
   ],
   "source": [
    "# Game \n",
    "\n",
    "player1 = [('spades', 'A'),  ('spades', 'K'),  ('spades', 'Q'),  ('spades', 'J'), ('spades', '10'),]\n",
    "player2 = [('spades', 'A'),  ('hearts', 'K'),  ('diamonds', '2'),  ('spades', '4'), ('clubs', '3')]\n",
    "\n",
    "part1.poker_game(player1,player2)"
   ]
  },
  {
   "cell_type": "code",
   "execution_count": null,
   "id": "b74f7c0e",
   "metadata": {},
   "outputs": [],
   "source": []
  }
 ],
 "metadata": {
  "kernelspec": {
   "display_name": "Python 3",
   "language": "python",
   "name": "python3"
  },
  "language_info": {
   "codemirror_mode": {
    "name": "ipython",
    "version": 3
   },
   "file_extension": ".py",
   "mimetype": "text/x-python",
   "name": "python",
   "nbconvert_exporter": "python",
   "pygments_lexer": "ipython3",
   "version": "3.8.10"
  }
 },
 "nbformat": 4,
 "nbformat_minor": 5
}
