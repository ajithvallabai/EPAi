{
 "cells": [
  {
   "cell_type": "code",
   "metadata": {
    "tags": [],
    "cell_id": "00000-d358b19f-fee0-4463-8733-8f6937350e94",
    "deepnote_to_be_reexecuted": false,
    "source_hash": "da23e14a",
    "execution_start": 1622265519520,
    "deepnote_cell_type": "code"
   },
   "source": "def my_func(a, b, c):\n    print(a, b, c)\n\nmy_func(1, 2, 3)",
   "outputs": [
    {
     "name": "stdout",
     "text": "1 2 3\n",
     "output_type": "stream"
    }
   ],
   "execution_count": null
  },
  {
   "cell_type": "code",
   "source": "def my_func(a, b=2, c=0): # once we define default value for one, we need to device value for all (b AND c)\n    print(a, b, c)\n\nmy_func(1, 2, 3)",
   "metadata": {
    "tags": [],
    "cell_id": "00001-665a29d9-94d3-4284-8233-b4a9ab9e309c",
    "deepnote_to_be_reexecuted": false,
    "source_hash": "1e79bea8",
    "execution_start": 1622265565149,
    "execution_millis": 10,
    "deepnote_cell_type": "code"
   },
   "outputs": [
    {
     "name": "stdout",
     "text": "1 2 3\n",
     "output_type": "stream"
    }
   ],
   "execution_count": null
  },
  {
   "cell_type": "code",
   "source": "def my_func(a, b = 3, c = 4):\n    print(a, b, c)\n\nmy_func(1), my_func(1, 2), my_func(1, 2, 3), my_func(1, c = 4), my_func(1, b = 1)",
   "metadata": {
    "tags": [],
    "cell_id": "00002-e9ba87e9-2518-4af5-8b89-14d40d1636e2",
    "deepnote_to_be_reexecuted": false,
    "source_hash": "744193b0",
    "execution_start": 1622265631794,
    "execution_millis": 13,
    "deepnote_cell_type": "code"
   },
   "outputs": [
    {
     "name": "stdout",
     "text": "1 3 4\n1 2 4\n1 2 3\n1 3 4\n1 1 4\n",
     "output_type": "stream"
    },
    {
     "output_type": "execute_result",
     "execution_count": 9,
     "data": {
      "text/plain": "(None, None, None, None, None)"
     },
     "metadata": {}
    }
   ],
   "execution_count": null
  },
  {
   "cell_type": "code",
   "source": "my_func()",
   "metadata": {
    "tags": [],
    "cell_id": "00003-6b9b1e0a-62bf-4918-923a-482650c49bb6",
    "deepnote_to_be_reexecuted": false,
    "source_hash": "416ffdb4",
    "execution_start": 1622265640586,
    "execution_millis": 613,
    "deepnote_cell_type": "code"
   },
   "outputs": [
    {
     "output_type": "error",
     "ename": "TypeError",
     "evalue": "my_func() missing 1 required positional argument: 'a'",
     "traceback": [
      "\u001b[0;31m---------------------------------------------------------------------------\u001b[0m",
      "\u001b[0;31mTypeError\u001b[0m                                 Traceback (most recent call last)",
      "\u001b[0;32m<ipython-input-10-db3ada79940f>\u001b[0m in \u001b[0;36m<module>\u001b[0;34m\u001b[0m\n\u001b[0;32m----> 1\u001b[0;31m \u001b[0mmy_func\u001b[0m\u001b[0;34m(\u001b[0m\u001b[0;34m)\u001b[0m\u001b[0;34m\u001b[0m\u001b[0;34m\u001b[0m\u001b[0m\n\u001b[0m",
      "\u001b[0;31mTypeError\u001b[0m: my_func() missing 1 required positional argument: 'a'"
     ]
    }
   ],
   "execution_count": null
  },
  {
   "cell_type": "markdown",
   "source": "# Keyword or named arguments",
   "metadata": {
    "tags": [],
    "cell_id": "00004-c66c37f8-b6dc-4752-b928-7680d6f13a5a",
    "deepnote_cell_type": "text-cell-h1"
   }
  },
  {
   "cell_type": "code",
   "source": "def my_func(a, b, c):\n    print(a, b, c)\n\nmy_func(a = 1, b = 2, c = 3)",
   "metadata": {
    "tags": [],
    "cell_id": "00004-4ce13c16-2340-41ef-a5b3-aba2d310c3db",
    "deepnote_to_be_reexecuted": false,
    "source_hash": "53fc5237",
    "execution_start": 1622265731394,
    "execution_millis": 9,
    "deepnote_cell_type": "code"
   },
   "outputs": [
    {
     "name": "stdout",
     "text": "1 2 3\n",
     "output_type": "stream"
    }
   ],
   "execution_count": null
  },
  {
   "cell_type": "code",
   "source": "a = (1, 2, 3)",
   "metadata": {
    "tags": [],
    "cell_id": "00006-833d0b21-7fde-486d-91ff-7c0f602d9943",
    "deepnote_to_be_reexecuted": false,
    "source_hash": "6acdcd60",
    "execution_start": 1622265793114,
    "execution_millis": 0,
    "deepnote_cell_type": "code"
   },
   "outputs": [],
   "execution_count": null
  },
  {
   "cell_type": "code",
   "source": "type(a)",
   "metadata": {
    "tags": [],
    "cell_id": "00007-0331bc4e-6be6-4000-b27d-d5083b8f3e8f",
    "deepnote_to_be_reexecuted": false,
    "source_hash": "1478ef",
    "execution_start": 1622265799223,
    "execution_millis": 8,
    "deepnote_cell_type": "code"
   },
   "outputs": [
    {
     "output_type": "execute_result",
     "execution_count": 13,
     "data": {
      "text/plain": "tuple"
     },
     "metadata": {}
    }
   ],
   "execution_count": null
  },
  {
   "cell_type": "code",
   "source": "a = (1)\ntype(a)",
   "metadata": {
    "tags": [],
    "cell_id": "00008-f6a1fd23-d9f4-4710-93b3-c85c3a9d8133",
    "deepnote_to_be_reexecuted": false,
    "source_hash": "32dfb0df",
    "execution_start": 1622265860413,
    "execution_millis": 10,
    "deepnote_cell_type": "code"
   },
   "outputs": [
    {
     "output_type": "execute_result",
     "execution_count": 15,
     "data": {
      "text/plain": "int"
     },
     "metadata": {}
    }
   ],
   "execution_count": null
  },
  {
   "cell_type": "code",
   "source": "a = (1,)\ntype(a)",
   "metadata": {
    "tags": [],
    "cell_id": "00009-de24451d-1bca-4d8b-b6b0-9deb548db38c",
    "deepnote_to_be_reexecuted": false,
    "source_hash": "57122934",
    "execution_start": 1622265867730,
    "execution_millis": 9,
    "deepnote_cell_type": "code"
   },
   "outputs": [
    {
     "output_type": "execute_result",
     "execution_count": 16,
     "data": {
      "text/plain": "tuple"
     },
     "metadata": {}
    }
   ],
   "execution_count": null
  },
  {
   "cell_type": "code",
   "source": "a = 1,\ntype(a)",
   "metadata": {
    "tags": [],
    "cell_id": "00010-79f04074-9a80-43a9-9094-a91d9d261391",
    "deepnote_to_be_reexecuted": false,
    "source_hash": "bdd919aa",
    "execution_start": 1622265877083,
    "execution_millis": 18,
    "deepnote_cell_type": "code"
   },
   "outputs": [
    {
     "output_type": "execute_result",
     "execution_count": 17,
     "data": {
      "text/plain": "tuple"
     },
     "metadata": {}
    }
   ],
   "execution_count": null
  },
  {
   "cell_type": "code",
   "source": "def my_func(a, b, c):\n    d = a + b + c\n    return d,\n\ne = my_func(1, 2, 3)\nprint(e + 5)",
   "metadata": {
    "tags": [],
    "cell_id": "00011-4b7b06f2-0978-4494-a068-a58065c82474",
    "deepnote_to_be_reexecuted": false,
    "source_hash": "25e03b87",
    "execution_start": 1622265921342,
    "execution_millis": 15,
    "deepnote_cell_type": "code"
   },
   "outputs": [
    {
     "output_type": "error",
     "ename": "TypeError",
     "evalue": "can only concatenate tuple (not \"int\") to tuple",
     "traceback": [
      "\u001b[0;31m---------------------------------------------------------------------------\u001b[0m",
      "\u001b[0;31mTypeError\u001b[0m                                 Traceback (most recent call last)",
      "\u001b[0;32m<ipython-input-19-b4e4b22e8bb4>\u001b[0m in \u001b[0;36m<module>\u001b[0;34m\u001b[0m\n\u001b[1;32m      4\u001b[0m \u001b[0;34m\u001b[0m\u001b[0m\n\u001b[1;32m      5\u001b[0m \u001b[0me\u001b[0m \u001b[0;34m=\u001b[0m \u001b[0mmy_func\u001b[0m\u001b[0;34m(\u001b[0m\u001b[0;36m1\u001b[0m\u001b[0;34m,\u001b[0m \u001b[0;36m2\u001b[0m\u001b[0;34m,\u001b[0m \u001b[0;36m3\u001b[0m\u001b[0;34m)\u001b[0m\u001b[0;34m\u001b[0m\u001b[0;34m\u001b[0m\u001b[0m\n\u001b[0;32m----> 6\u001b[0;31m \u001b[0mprint\u001b[0m\u001b[0;34m(\u001b[0m\u001b[0me\u001b[0m \u001b[0;34m+\u001b[0m \u001b[0;36m5\u001b[0m\u001b[0;34m)\u001b[0m\u001b[0;34m\u001b[0m\u001b[0;34m\u001b[0m\u001b[0m\n\u001b[0m",
      "\u001b[0;31mTypeError\u001b[0m: can only concatenate tuple (not \"int\") to tuple"
     ]
    }
   ],
   "execution_count": null
  },
  {
   "cell_type": "code",
   "source": "a = (1, 2, 3)\nb, c, d = a\nprint(b, c, d)",
   "metadata": {
    "tags": [],
    "cell_id": "00012-6897e20c-3f45-41a3-ba12-fc5e6be7cb45",
    "deepnote_to_be_reexecuted": false,
    "source_hash": "79b05933",
    "execution_start": 1622265951847,
    "execution_millis": 11,
    "deepnote_cell_type": "code"
   },
   "outputs": [
    {
     "name": "stdout",
     "text": "1 2 3\n",
     "output_type": "stream"
    }
   ],
   "execution_count": null
  },
  {
   "cell_type": "code",
   "source": "l = [1, 2, 'a', (1, 2), \"python\"]\nlen(l)\na, b, c, d, e = l\nprint(a, b, c, d, e)",
   "metadata": {
    "tags": [],
    "cell_id": "00013-44d3143a-cd04-4b5e-b61e-70d5b64ffa3c",
    "deepnote_to_be_reexecuted": false,
    "source_hash": "1341fe4b",
    "execution_start": 1622265997512,
    "execution_millis": 8,
    "deepnote_cell_type": "code"
   },
   "outputs": [
    {
     "name": "stdout",
     "text": "1 2 a (1, 2) python\n",
     "output_type": "stream"
    }
   ],
   "execution_count": null
  },
  {
   "cell_type": "code",
   "source": "l[0], l[1], l[2]",
   "metadata": {
    "tags": [],
    "cell_id": "00014-68a7d500-66e7-496e-a5d7-9cab2809bab0",
    "deepnote_to_be_reexecuted": false,
    "source_hash": "cda98a92",
    "execution_start": 1622266015210,
    "execution_millis": 43,
    "deepnote_cell_type": "code"
   },
   "outputs": [
    {
     "output_type": "execute_result",
     "execution_count": 23,
     "data": {
      "text/plain": "(1, 2, 'a')"
     },
     "metadata": {}
    }
   ],
   "execution_count": null
  },
  {
   "cell_type": "code",
   "source": "for c in 'python':\n    print(c)",
   "metadata": {
    "tags": [],
    "cell_id": "00015-4ffb2728-a48c-4f51-8e26-59589963d02e",
    "deepnote_to_be_reexecuted": false,
    "source_hash": "d2eb0663",
    "execution_start": 1622266053300,
    "execution_millis": 46,
    "deepnote_cell_type": "code"
   },
   "outputs": [
    {
     "name": "stdout",
     "text": "p\ny\nt\nh\no\nn\n",
     "output_type": "stream"
    }
   ],
   "execution_count": null
  },
  {
   "cell_type": "code",
   "source": "a, b, c, d, e, f = \"python\"\nprint(c, d, e)",
   "metadata": {
    "tags": [],
    "cell_id": "00016-cd2b89ac-6e76-4548-b5ea-fbdbae7627c7",
    "deepnote_to_be_reexecuted": false,
    "source_hash": "a9fba82b",
    "execution_start": 1622266100032,
    "execution_millis": 12,
    "deepnote_cell_type": "code"
   },
   "outputs": [
    {
     "name": "stdout",
     "text": "t h o\n",
     "output_type": "stream"
    }
   ],
   "execution_count": null
  },
  {
   "cell_type": "code",
   "source": "a = 10\nb = 20\ntmp = a\na = b\nb = tmp\nprint(a, b)",
   "metadata": {
    "tags": [],
    "cell_id": "00017-c18478eb-cacf-4602-98bc-1bc67948ccd9",
    "deepnote_to_be_reexecuted": false,
    "source_hash": "fec543f7",
    "execution_start": 1622266126844,
    "execution_millis": 6,
    "deepnote_cell_type": "code"
   },
   "outputs": [
    {
     "name": "stdout",
     "text": "20 10\n",
     "output_type": "stream"
    }
   ],
   "execution_count": null
  },
  {
   "cell_type": "code",
   "source": "a = 10\nb = 20\nb, a = a, b\nprint(a, b )",
   "metadata": {
    "tags": [],
    "cell_id": "00018-4b70e565-4966-44de-99dc-19ed5bbb302d",
    "deepnote_to_be_reexecuted": false,
    "source_hash": "83932c8f",
    "execution_start": 1622266141691,
    "execution_millis": 8,
    "deepnote_cell_type": "code"
   },
   "outputs": [
    {
     "name": "stdout",
     "text": "20 10\n",
     "output_type": "stream"
    }
   ],
   "execution_count": null
  },
  {
   "cell_type": "code",
   "source": "dict1 = {'p1': 1, 'key2': 2, 4: 2}",
   "metadata": {
    "tags": [],
    "cell_id": "00019-20545367-e6a3-4387-bc91-c4162423324f",
    "deepnote_to_be_reexecuted": false,
    "source_hash": "af5d28ac",
    "execution_start": 1622266173072,
    "execution_millis": 3,
    "deepnote_cell_type": "code"
   },
   "outputs": [],
   "execution_count": null
  },
  {
   "cell_type": "code",
   "source": "dict1",
   "metadata": {
    "tags": [],
    "cell_id": "00020-84b1ae92-5266-4e88-9fd9-4895e1e83c60",
    "deepnote_to_be_reexecuted": false,
    "source_hash": "486df0c",
    "execution_start": 1622266182550,
    "execution_millis": 5,
    "deepnote_cell_type": "code"
   },
   "outputs": [
    {
     "output_type": "execute_result",
     "execution_count": 31,
     "data": {
      "text/plain": "{'p1': 1, 'key2': 2, 4: 2}"
     },
     "metadata": {}
    }
   ],
   "execution_count": null
  },
  {
   "cell_type": "code",
   "source": "for item in dict1:\n    print(item)",
   "metadata": {
    "tags": [],
    "cell_id": "00021-d8931da6-a027-4752-b24a-6a04cae68945",
    "deepnote_to_be_reexecuted": false,
    "source_hash": "b3c06bf1",
    "execution_start": 1622266194937,
    "execution_millis": 7,
    "deepnote_cell_type": "code"
   },
   "outputs": [
    {
     "name": "stdout",
     "text": "p1\nkey2\n4\n",
     "output_type": "stream"
    }
   ],
   "execution_count": null
  },
  {
   "cell_type": "code",
   "source": "s = {'1', '2', '3', '4'}\nfor ss in s:\n    print(ss)",
   "metadata": {
    "tags": [],
    "cell_id": "00022-74ea8a44-5cfc-4f24-9082-e1e2873b5ddd",
    "deepnote_to_be_reexecuted": false,
    "source_hash": "ae50b635",
    "execution_start": 1622266232719,
    "execution_millis": 7,
    "deepnote_cell_type": "code"
   },
   "outputs": [
    {
     "name": "stdout",
     "text": "2\n4\n3\n1\n",
     "output_type": "stream"
    }
   ],
   "execution_count": null
  },
  {
   "cell_type": "code",
   "source": "l = [1, 2, 3, 4, 5, 6, 7, 8]",
   "metadata": {
    "tags": [],
    "cell_id": "00023-eaf67dc5-289d-4bd8-ad16-c67cefcf548b",
    "deepnote_to_be_reexecuted": false,
    "source_hash": "fb6e5dca",
    "execution_start": 1622266378743,
    "execution_millis": 1,
    "deepnote_cell_type": "code"
   },
   "outputs": [],
   "execution_count": null
  },
  {
   "cell_type": "code",
   "source": "a = l[0]\nb = l[1:]\na, b",
   "metadata": {
    "tags": [],
    "cell_id": "00024-c2493e0e-20d5-4567-ba42-00becd617e2e",
    "deepnote_to_be_reexecuted": false,
    "source_hash": "2877528c",
    "execution_start": 1622266406449,
    "execution_millis": 8,
    "deepnote_cell_type": "code"
   },
   "outputs": [
    {
     "output_type": "execute_result",
     "execution_count": 36,
     "data": {
      "text/plain": "(1, [2, 3, 4, 5, 6, 7, 8])"
     },
     "metadata": {}
    }
   ],
   "execution_count": null
  },
  {
   "cell_type": "code",
   "source": "a, b = l[0], l[1:]\n\na, b",
   "metadata": {
    "tags": [],
    "cell_id": "00025-1a17a347-6333-45ee-bf4d-26099332ce61",
    "deepnote_to_be_reexecuted": false,
    "source_hash": "f9cbbd45",
    "execution_start": 1622266433901,
    "execution_millis": 10,
    "deepnote_cell_type": "code"
   },
   "outputs": [
    {
     "output_type": "execute_result",
     "execution_count": 37,
     "data": {
      "text/plain": "(1, [2, 3, 4, 5, 6, 7, 8])"
     },
     "metadata": {}
    }
   ],
   "execution_count": null
  },
  {
   "cell_type": "code",
   "source": "a, *b = l\na, b",
   "metadata": {
    "tags": [],
    "cell_id": "00026-03471da2-1d3c-49a3-8045-f2182b9bb3bb",
    "deepnote_to_be_reexecuted": false,
    "source_hash": "8331f91b",
    "execution_start": 1622266452106,
    "execution_millis": 7,
    "deepnote_cell_type": "code"
   },
   "outputs": [
    {
     "output_type": "execute_result",
     "execution_count": 38,
     "data": {
      "text/plain": "(1, [2, 3, 4, 5, 6, 7, 8])"
     },
     "metadata": {}
    }
   ],
   "execution_count": null
  },
  {
   "cell_type": "code",
   "source": "a, b, *c = -10, 'python', 3, 45, 'red'\na, b, c",
   "metadata": {
    "tags": [],
    "cell_id": "00027-8ba16516-d021-480d-ae93-703c9f218a6e",
    "deepnote_to_be_reexecuted": false,
    "source_hash": "5169587c",
    "execution_start": 1622266498591,
    "execution_millis": 16,
    "deepnote_cell_type": "code"
   },
   "outputs": [
    {
     "output_type": "execute_result",
     "execution_count": 39,
     "data": {
      "text/plain": "(-10, 'python', [3, 45, 'red'])"
     },
     "metadata": {}
    }
   ],
   "execution_count": null
  },
  {
   "cell_type": "code",
   "source": "a, *b = dict(a = 1, b = 2, c = 30)\na, b\n",
   "metadata": {
    "tags": [],
    "cell_id": "00028-928cef02-197f-4e2b-b98d-1b63a1dc8098",
    "deepnote_to_be_reexecuted": false,
    "source_hash": "4e5dde17",
    "execution_start": 1622266699217,
    "execution_millis": 11,
    "deepnote_cell_type": "code"
   },
   "outputs": [
    {
     "output_type": "execute_result",
     "execution_count": 50,
     "data": {
      "text/plain": "('a', ['b', 'c'])"
     },
     "metadata": {}
    }
   ],
   "execution_count": null
  },
  {
   "cell_type": "code",
   "source": "s = 'python'\na, b, c, d = s[0], s[1], s[2], s[3:]\na, b, c, d",
   "metadata": {
    "tags": [],
    "cell_id": "00029-2ae1e5d0-91e9-48e3-b51b-21c865c21400",
    "deepnote_to_be_reexecuted": false,
    "source_hash": "133617e5",
    "execution_start": 1622266762195,
    "execution_millis": 11,
    "deepnote_cell_type": "code"
   },
   "outputs": [
    {
     "output_type": "execute_result",
     "execution_count": 51,
     "data": {
      "text/plain": "('p', 'y', 't', 'hon')"
     },
     "metadata": {}
    }
   ],
   "execution_count": null
  },
  {
   "cell_type": "code",
   "source": "a, b, *c, d = 'python'\n\na, b, c, d",
   "metadata": {
    "tags": [],
    "cell_id": "00030-0447715e-89ee-422f-83e8-5b3db2fa166c",
    "deepnote_to_be_reexecuted": false,
    "source_hash": "2b145cb3",
    "execution_start": 1622266831908,
    "execution_millis": 8,
    "deepnote_cell_type": "code"
   },
   "outputs": [
    {
     "output_type": "execute_result",
     "execution_count": 57,
     "data": {
      "text/plain": "('p', 'y', ['t', 'h', 'o'], 'n')"
     },
     "metadata": {}
    }
   ],
   "execution_count": null
  },
  {
   "cell_type": "code",
   "source": "c = ''.join(c)\nc",
   "metadata": {
    "tags": [],
    "cell_id": "00031-5cc13a8c-834c-4748-a158-a5a68f218686",
    "deepnote_to_be_reexecuted": false,
    "source_hash": "e6044340",
    "execution_start": 1622266832227,
    "execution_millis": 8,
    "deepnote_cell_type": "code"
   },
   "outputs": [
    {
     "output_type": "execute_result",
     "execution_count": 58,
     "data": {
      "text/plain": "'tho'"
     },
     "metadata": {}
    }
   ],
   "execution_count": null
  },
  {
   "cell_type": "code",
   "source": "l1 = [1, 2, 3]\nl2 = [4, 5, 6]\nc = [*l1, *l2]\nc",
   "metadata": {
    "tags": [],
    "cell_id": "00032-fe8b4d34-1d5b-4303-a16d-157efb79ef4d",
    "deepnote_to_be_reexecuted": false,
    "source_hash": "c6121721",
    "execution_start": 1622266881153,
    "execution_millis": 1,
    "deepnote_cell_type": "code"
   },
   "outputs": [
    {
     "output_type": "execute_result",
     "execution_count": 63,
     "data": {
      "text/plain": "[1, 2, 3, 4, 5, 6]"
     },
     "metadata": {}
    }
   ],
   "execution_count": null
  },
  {
   "cell_type": "code",
   "source": "l1 = [1, 2, 3]\nt = (7,8, 9)\nl2 = [4, 5, 6]\ns = 'string'\nc = [*l1, *l2, *t, *s]\nc",
   "metadata": {
    "tags": [],
    "cell_id": "00033-06977d36-10eb-484e-a2de-0f556c53baf6",
    "deepnote_to_be_reexecuted": false,
    "source_hash": "22522e7a",
    "execution_start": 1622266917539,
    "execution_millis": 9,
    "deepnote_cell_type": "code"
   },
   "outputs": [
    {
     "output_type": "execute_result",
     "execution_count": 65,
     "data": {
      "text/plain": "[1, 2, 3, 4, 5, 6, 7, 8, 9, 's', 't', 'r', 'i', 'n', 'g']"
     },
     "metadata": {}
    }
   ],
   "execution_count": null
  },
  {
   "cell_type": "markdown",
   "source": "# *args\n",
   "metadata": {
    "tags": [],
    "cell_id": "00034-fb5bed3c-e234-453a-bc53-dcfb66f96ee3",
    "deepnote_cell_type": "text-cell-h1"
   }
  },
  {
   "cell_type": "code",
   "source": "a, b, *c, d = 'python'\n\na, b, c, d",
   "metadata": {
    "tags": [],
    "cell_id": "00034-3eaef892-3e4a-4564-82cb-800acf800ef4",
    "deepnote_to_be_reexecuted": false,
    "source_hash": "2b145cb3",
    "execution_start": 1622266952600,
    "execution_millis": 9,
    "deepnote_cell_type": "code"
   },
   "outputs": [
    {
     "output_type": "execute_result",
     "execution_count": 66,
     "data": {
      "text/plain": "('p', 'y', ['t', 'h', 'o'], 'n')"
     },
     "metadata": {}
    }
   ],
   "execution_count": null
  },
  {
   "cell_type": "code",
   "source": "def average(a, b, c):\n    return (a + b + c)/3\naverage(3, 6, 9)",
   "metadata": {
    "tags": [],
    "cell_id": "00036-fa9bf0f3-4931-466b-92cc-ca2f8b86c573",
    "deepnote_to_be_reexecuted": false,
    "source_hash": "b5b1c489",
    "execution_start": 1622267013689,
    "execution_millis": 8,
    "deepnote_cell_type": "code"
   },
   "outputs": [
    {
     "output_type": "execute_result",
     "execution_count": 67,
     "data": {
      "text/plain": "6.0"
     },
     "metadata": {}
    }
   ],
   "execution_count": null
  },
  {
   "cell_type": "code",
   "source": "def average(*args):\n    return sum(args)/len(args)\n\naverage(1, 2, 3, 4, 5, 6, 7, 8, 9, 10, 12, 123)",
   "metadata": {
    "tags": [],
    "cell_id": "00037-9ca24b99-9b0f-46d6-988e-d6bc4f79400c",
    "deepnote_to_be_reexecuted": false,
    "source_hash": "73a1edb2",
    "execution_start": 1622267086534,
    "execution_millis": 8,
    "deepnote_cell_type": "code"
   },
   "outputs": [
    {
     "output_type": "execute_result",
     "execution_count": 74,
     "data": {
      "text/plain": "15.833333333333334"
     },
     "metadata": {}
    }
   ],
   "execution_count": null
  },
  {
   "cell_type": "code",
   "source": "def func1(a, b, *args):\n    print(a)\n    print(b)\n    print(args)\n\nfunc1(1, 2, 3, 4, 5, 6, 7,8)",
   "metadata": {
    "tags": [],
    "cell_id": "00038-6906dd89-5eaa-4ad2-91f9-48f6ba3b05b7",
    "deepnote_to_be_reexecuted": false,
    "source_hash": "99299141",
    "execution_start": 1622267280026,
    "execution_millis": 10,
    "deepnote_cell_type": "code"
   },
   "outputs": [
    {
     "name": "stdout",
     "text": "1\n2\n(3, 4, 5, 6, 7, 8)\n",
     "output_type": "stream"
    }
   ],
   "execution_count": null
  },
  {
   "cell_type": "code",
   "source": "l = [3, 4, 5, 6, 7, 8]\nl[-1] = 10\nl",
   "metadata": {
    "tags": [],
    "cell_id": "00039-463ce349-a221-4858-93a7-757eb7f4bd66",
    "deepnote_to_be_reexecuted": false,
    "source_hash": "d1417549",
    "execution_start": 1622267255633,
    "execution_millis": 8,
    "deepnote_cell_type": "code"
   },
   "outputs": [
    {
     "output_type": "execute_result",
     "execution_count": 78,
     "data": {
      "text/plain": "[3, 4, 5, 6, 7, 10]"
     },
     "metadata": {}
    }
   ],
   "execution_count": null
  },
  {
   "cell_type": "code",
   "source": "a, b, *args = 1, 2, 3, 4, 5, 6, 7, 8\na, b, args, type(args)",
   "metadata": {
    "tags": [],
    "cell_id": "00040-c9d591a8-dad0-47ac-9627-22388bf918be",
    "deepnote_to_be_reexecuted": false,
    "source_hash": "cbe2d4dd",
    "execution_start": 1622267365678,
    "execution_millis": 9,
    "deepnote_cell_type": "code"
   },
   "outputs": [
    {
     "output_type": "execute_result",
     "execution_count": 82,
     "data": {
      "text/plain": "(1, 2, [3, 4, 5, 6, 7, 8], list)"
     },
     "metadata": {}
    }
   ],
   "execution_count": null
  },
  {
   "cell_type": "code",
   "source": "def square_the_list(a):\n    return [x**2 for x in l]\n\nsquare_the_list([1, 2, 3])",
   "metadata": {
    "tags": [],
    "cell_id": "00041-510f3372-097b-4ef5-9b70-1c46caba3ba5",
    "deepnote_to_be_reexecuted": false,
    "source_hash": "2e9c60d6",
    "execution_start": 1622267638699,
    "execution_millis": 10,
    "deepnote_cell_type": "code"
   },
   "outputs": [
    {
     "output_type": "execute_result",
     "execution_count": 90,
     "data": {
      "text/plain": "[1, 4, 9]"
     },
     "metadata": {}
    }
   ],
   "execution_count": null
  },
  {
   "cell_type": "code",
   "source": "def avg(d, *args):\n    return sum(args)/d\n\navg(2, 10, 20)\n\n",
   "metadata": {
    "tags": [],
    "cell_id": "00042-175bab16-bf37-4774-a676-cd89c10acb45",
    "deepnote_to_be_reexecuted": false,
    "source_hash": "1a4d6101",
    "execution_start": 1622267705069,
    "execution_millis": 10,
    "deepnote_cell_type": "code"
   },
   "outputs": [
    {
     "output_type": "execute_result",
     "execution_count": 91,
     "data": {
      "text/plain": "15.0"
     },
     "metadata": {}
    }
   ],
   "execution_count": null
  },
  {
   "cell_type": "code",
   "source": "def func1(a, b, c):\n    print(a, b, c)\n\nl = [10, 20, 30]\n\nfunc1(l)",
   "metadata": {
    "tags": [],
    "cell_id": "00043-a9a4e590-8d34-4eb0-a1e7-cfe6bc9f1b98",
    "deepnote_to_be_reexecuted": false,
    "source_hash": "8a00e4c2",
    "execution_start": 1622267801330,
    "execution_millis": 5,
    "deepnote_cell_type": "code"
   },
   "outputs": [
    {
     "output_type": "error",
     "ename": "TypeError",
     "evalue": "func1() missing 2 required positional arguments: 'b' and 'c'",
     "traceback": [
      "\u001b[0;31m---------------------------------------------------------------------------\u001b[0m",
      "\u001b[0;31mTypeError\u001b[0m                                 Traceback (most recent call last)",
      "\u001b[0;32m<ipython-input-95-2e9f5fdb2f5a>\u001b[0m in \u001b[0;36m<module>\u001b[0;34m\u001b[0m\n\u001b[1;32m      4\u001b[0m \u001b[0ml\u001b[0m \u001b[0;34m=\u001b[0m \u001b[0;34m[\u001b[0m\u001b[0;36m10\u001b[0m\u001b[0;34m,\u001b[0m \u001b[0;36m20\u001b[0m\u001b[0;34m,\u001b[0m \u001b[0;36m30\u001b[0m\u001b[0;34m]\u001b[0m\u001b[0;34m\u001b[0m\u001b[0;34m\u001b[0m\u001b[0m\n\u001b[1;32m      5\u001b[0m \u001b[0;34m\u001b[0m\u001b[0m\n\u001b[0;32m----> 6\u001b[0;31m \u001b[0mfunc1\u001b[0m\u001b[0;34m(\u001b[0m\u001b[0ml\u001b[0m\u001b[0;34m)\u001b[0m\u001b[0;34m\u001b[0m\u001b[0;34m\u001b[0m\u001b[0m\n\u001b[0m",
      "\u001b[0;31mTypeError\u001b[0m: func1() missing 2 required positional arguments: 'b' and 'c'"
     ]
    }
   ],
   "execution_count": null
  },
  {
   "cell_type": "code",
   "source": "def func1(a, b, *args, d):\n    print(a, b, args, d)\n\nfunc1(10, 20, 30, 40, d = 10)",
   "metadata": {
    "tags": [],
    "cell_id": "00044-c6366317-0424-477c-be1a-3ffb79b3c3f8",
    "deepnote_to_be_reexecuted": false,
    "source_hash": "5e071a8b",
    "execution_start": 1622267942346,
    "execution_millis": 5,
    "deepnote_cell_type": "code"
   },
   "outputs": [
    {
     "name": "stdout",
     "text": "10 20 (30, 40) 10\n",
     "output_type": "stream"
    }
   ],
   "execution_count": null
  },
  {
   "cell_type": "code",
   "source": "a, b, *args, d = 10, 20 , 30, 40\n\na, b, args, d",
   "metadata": {
    "tags": [],
    "cell_id": "00045-159174e1-486b-4ac9-ab72-5592c20ee34a",
    "deepnote_to_be_reexecuted": false,
    "source_hash": "bd2a0d55",
    "execution_start": 1622267897154,
    "execution_millis": 8,
    "deepnote_cell_type": "code"
   },
   "outputs": [
    {
     "output_type": "execute_result",
     "execution_count": 99,
     "data": {
      "text/plain": "(10, 20, [30], 40)"
     },
     "metadata": {}
    }
   ],
   "execution_count": null
  },
  {
   "cell_type": "code",
   "source": "def avg(*args, int_float):\n    if int_float:\n        return(int(sum(args)/len(args)))\n    return(sum(args)/len(args))\n\navg(1, 2, 3, 4, 5, 6, int_float = \"acd\")",
   "metadata": {
    "tags": [],
    "cell_id": "00046-8021f8fd-9ecd-469f-8c07-63e12539bca7",
    "deepnote_to_be_reexecuted": false,
    "source_hash": "a261fea3",
    "execution_start": 1622268155111,
    "execution_millis": 12,
    "deepnote_cell_type": "code"
   },
   "outputs": [
    {
     "output_type": "execute_result",
     "execution_count": 112,
     "data": {
      "text/plain": "3"
     },
     "metadata": {}
    }
   ],
   "execution_count": null
  },
  {
   "cell_type": "code",
   "source": "int(4.5)",
   "metadata": {
    "tags": [],
    "cell_id": "00047-cd69067f-ef6a-4dc4-aac2-53de9bea0384",
    "deepnote_to_be_reexecuted": false,
    "source_hash": "209e7adf",
    "execution_start": 1622268047976,
    "execution_millis": 38,
    "deepnote_cell_type": "code"
   },
   "outputs": [
    {
     "output_type": "execute_result",
     "execution_count": 103,
     "data": {
      "text/plain": "4"
     },
     "metadata": {}
    }
   ],
   "execution_count": null
  },
  {
   "cell_type": "code",
   "source": "def func1(*args):\n    print(args)\n\nfunc1()",
   "metadata": {
    "tags": [],
    "cell_id": "00048-e460e678-4a38-45bd-81d6-e713d8ef070b",
    "deepnote_to_be_reexecuted": false,
    "source_hash": "90fd7e79",
    "execution_start": 1622268306413,
    "execution_millis": 8,
    "deepnote_cell_type": "code"
   },
   "outputs": [
    {
     "name": "stdout",
     "text": "()\n",
     "output_type": "stream"
    }
   ],
   "execution_count": null
  },
  {
   "cell_type": "code",
   "source": "def func1(*, value_1, value_2):\n    print(a, b)\n\nfunc1(value_1 = 10, value_2 = 20)",
   "metadata": {
    "tags": [],
    "cell_id": "00049-259292dd-fe0a-48ed-a2bd-045dfef1229e",
    "deepnote_to_be_reexecuted": false,
    "source_hash": "bda54e97",
    "execution_start": 1622268386788,
    "execution_millis": 8,
    "deepnote_cell_type": "code"
   },
   "outputs": [
    {
     "name": "stdout",
     "text": "10 20\n",
     "output_type": "stream"
    }
   ],
   "execution_count": null
  },
  {
   "cell_type": "code",
   "source": "func1(value_2 = 10, value_1 = 20)",
   "metadata": {
    "tags": [],
    "cell_id": "00050-817178b4-ac7a-407b-b661-638bbb8ceb97",
    "deepnote_to_be_reexecuted": false,
    "source_hash": "cca287a6",
    "execution_start": 1622268438709,
    "execution_millis": 25,
    "deepnote_cell_type": "code"
   },
   "outputs": [
    {
     "name": "stdout",
     "text": "10 20\n",
     "output_type": "stream"
    }
   ],
   "execution_count": null
  },
  {
   "cell_type": "markdown",
   "source": "# **kwargs",
   "metadata": {
    "tags": [],
    "cell_id": "00051-cfea0620-6236-418f-ae55-9cbc6e49eafd",
    "deepnote_cell_type": "text-cell-h1"
   }
  },
  {
   "cell_type": "code",
   "source": "def func1(**kwargs):\n    print(kwargs)",
   "metadata": {
    "tags": [],
    "cell_id": "00051-377d0a49-1bb1-470b-8933-f5d6cd96c7fe",
    "deepnote_to_be_reexecuted": false,
    "source_hash": "5e7bc67c",
    "execution_start": 1622268482012,
    "execution_millis": 3,
    "deepnote_cell_type": "code"
   },
   "outputs": [],
   "execution_count": null
  },
  {
   "cell_type": "code",
   "source": "d = dict(x = 10, y = 20)\nd",
   "metadata": {
    "tags": [],
    "cell_id": "00053-5c907091-2eb5-4f22-9f7b-64454346ae88",
    "deepnote_to_be_reexecuted": false,
    "source_hash": "24b9a998",
    "execution_start": 1622268524877,
    "execution_millis": 8,
    "deepnote_cell_type": "code"
   },
   "outputs": [
    {
     "output_type": "execute_result",
     "execution_count": 137,
     "data": {
      "text/plain": "{'x': 10, 'y': 20}"
     },
     "metadata": {}
    }
   ],
   "execution_count": null
  },
  {
   "cell_type": "code",
   "source": "func1(x = 10, y = 20)",
   "metadata": {
    "tags": [],
    "cell_id": "00054-d9f207d7-6900-49e7-82d7-b36ef7c484f9",
    "deepnote_to_be_reexecuted": false,
    "source_hash": "4d978214",
    "execution_start": 1622268535536,
    "execution_millis": 14,
    "deepnote_cell_type": "code"
   },
   "outputs": [
    {
     "name": "stdout",
     "text": "{'x': 10, 'y': 20}\n",
     "output_type": "stream"
    }
   ],
   "execution_count": null
  },
  {
   "cell_type": "code",
   "source": "def func(*args, **kwargs):\n    print(args)\n    print(kwargs)",
   "metadata": {
    "tags": [],
    "cell_id": "00055-1dd510ab-a523-4c03-bead-ea3b2f667e51",
    "deepnote_to_be_reexecuted": false,
    "source_hash": "78ec0f38",
    "execution_start": 1622268601756,
    "execution_millis": 4,
    "deepnote_cell_type": "code"
   },
   "outputs": [],
   "execution_count": null
  },
  {
   "cell_type": "code",
   "source": "func(1, 2, a=100, b=200, c='rohan', d=[1, 2, 3, 4])",
   "metadata": {
    "tags": [],
    "cell_id": "00056-047d5fbd-7981-4645-9486-a64b2c2f158c",
    "deepnote_to_be_reexecuted": false,
    "source_hash": "711a95ec",
    "execution_start": 1622268637713,
    "execution_millis": 10,
    "deepnote_cell_type": "code"
   },
   "outputs": [
    {
     "name": "stdout",
     "text": "(1, 2)\n{'a': 100, 'b': 200, 'c': 'rohan', 'd': [1, 2, 3, 4]}\n",
     "output_type": "stream"
    }
   ],
   "execution_count": null
  },
  {
   "cell_type": "code",
   "source": "def func(*, **kwargs):\n    print(kwargs)",
   "metadata": {
    "tags": [],
    "cell_id": "00057-53b18d1a-b6db-4d41-9e34-00257c62135c",
    "deepnote_to_be_reexecuted": false,
    "source_hash": "a206acc8",
    "execution_start": 1622268671336,
    "execution_millis": 12,
    "deepnote_cell_type": "code"
   },
   "outputs": [
    {
     "output_type": "error",
     "ename": "SyntaxError",
     "evalue": "named arguments must follow bare * (<ipython-input-143-f828557707c7>, line 1)",
     "traceback": [
      "\u001b[0;36m  File \u001b[0;32m\"<ipython-input-143-f828557707c7>\"\u001b[0;36m, line \u001b[0;32m1\u001b[0m\n\u001b[0;31m    def func(*, **kwargs):\u001b[0m\n\u001b[0m                ^\u001b[0m\n\u001b[0;31mSyntaxError\u001b[0m\u001b[0;31m:\u001b[0m named arguments must follow bare *\n"
     ]
    }
   ],
   "execution_count": null
  },
  {
   "cell_type": "code",
   "source": "def func(*, **kwargs):\n    print(kwargs)",
   "metadata": {
    "tags": [],
    "cell_id": "00058-1bd5dafa-e7f5-49a3-927a-71dcf5f9b0c8",
    "deepnote_to_be_reexecuted": false,
    "source_hash": "a206acc8",
    "execution_start": 1622268774428,
    "execution_millis": 12,
    "deepnote_cell_type": "code"
   },
   "outputs": [
    {
     "output_type": "error",
     "ename": "SyntaxError",
     "evalue": "named arguments must follow bare * (<ipython-input-147-f828557707c7>, line 1)",
     "traceback": [
      "\u001b[0;36m  File \u001b[0;32m\"<ipython-input-147-f828557707c7>\"\u001b[0;36m, line \u001b[0;32m1\u001b[0m\n\u001b[0;31m    def func(*, **kwargs):\u001b[0m\n\u001b[0m                ^\u001b[0m\n\u001b[0;31mSyntaxError\u001b[0m\u001b[0;31m:\u001b[0m named arguments must follow bare *\n"
     ]
    }
   ],
   "execution_count": null
  },
  {
   "cell_type": "code",
   "source": "def func(*, a, **kwargs):\n    print(kwargs)",
   "metadata": {
    "tags": [],
    "cell_id": "00059-cba89754-82eb-4d2b-b925-ae885773005e",
    "deepnote_to_be_reexecuted": false,
    "source_hash": "d47227b9",
    "execution_start": 1622268839414,
    "execution_millis": 4,
    "deepnote_cell_type": "code"
   },
   "outputs": [],
   "execution_count": null
  },
  {
   "cell_type": "code",
   "source": "def func(a, b, **kwargs):\n    print(kwargs)\n",
   "metadata": {
    "tags": [],
    "cell_id": "00060-9af69f2e-04c7-4a3b-8c8d-883f986460ae",
    "deepnote_to_be_reexecuted": false,
    "source_hash": "19f3832a",
    "execution_start": 1622268886534,
    "execution_millis": 3,
    "deepnote_cell_type": "code"
   },
   "outputs": [],
   "execution_count": null
  },
  {
   "cell_type": "code",
   "source": "def func(*, d, **kwargs):\n    print(d)\n    print(kwargs)",
   "metadata": {
    "tags": [],
    "cell_id": "00061-35830c42-498c-4ad7-a821-3ab5d4328933",
    "deepnote_to_be_reexecuted": false,
    "source_hash": "277bd4bc",
    "execution_start": 1622268955211,
    "execution_millis": 3,
    "deepnote_cell_type": "code"
   },
   "outputs": [],
   "execution_count": null
  },
  {
   "cell_type": "code",
   "source": "def func(a, b):\n    print(a, b)\n\nfunc('hello', ' COVID world')",
   "metadata": {
    "tags": [],
    "cell_id": "00062-2193c729-6ba6-49b3-af99-a1c9ad391481",
    "deepnote_to_be_reexecuted": false,
    "source_hash": "afce3ca",
    "execution_start": 1622268991221,
    "execution_millis": 9,
    "deepnote_cell_type": "code"
   },
   "outputs": [
    {
     "name": "stdout",
     "text": "hello  COVID world\n",
     "output_type": "stream"
    }
   ],
   "execution_count": null
  },
  {
   "cell_type": "code",
   "source": "func(a = 'hello', b= 'COVID world')",
   "metadata": {
    "tags": [],
    "cell_id": "00063-e15bab7e-983f-4d9a-9a6d-158306ccf11e",
    "deepnote_to_be_reexecuted": false,
    "source_hash": "fdbdd749",
    "execution_start": 1622269002875,
    "execution_millis": 10,
    "deepnote_cell_type": "code"
   },
   "outputs": [
    {
     "name": "stdout",
     "text": "hello COVID world\n",
     "output_type": "stream"
    }
   ],
   "execution_count": null
  },
  {
   "cell_type": "code",
   "source": "def func(a, b=\"world\", c = 10):\n    return(a, b, c)\n\nfunc('hello', b = 'python')",
   "metadata": {
    "tags": [],
    "cell_id": "00064-73f98140-8138-4eff-b3fc-144011091582",
    "deepnote_to_be_reexecuted": false,
    "source_hash": "5a04b812",
    "execution_start": 1622269060427,
    "execution_millis": 12,
    "deepnote_cell_type": "code"
   },
   "outputs": [
    {
     "output_type": "execute_result",
     "execution_count": 155,
     "data": {
      "text/plain": "('hello', 'python', 10)"
     },
     "metadata": {}
    }
   ],
   "execution_count": null
  },
  {
   "cell_type": "code",
   "source": "def func(a, b, *args):\n    print(a, b, args)\n\nfunc(1, 2, 3, 4, 5, 6, 7)",
   "metadata": {
    "tags": [],
    "cell_id": "00065-cfcac75b-a74b-4d1b-9213-c823409e208c",
    "deepnote_to_be_reexecuted": false,
    "source_hash": "30bdb522",
    "execution_start": 1622269112702,
    "execution_millis": 9,
    "deepnote_cell_type": "code"
   },
   "outputs": [
    {
     "name": "stdout",
     "text": "1 2 (3, 4, 5, 6, 7)\n",
     "output_type": "stream"
    }
   ],
   "execution_count": null
  },
  {
   "cell_type": "code",
   "source": "def func(*, a, b):\n    print(a, b)\n\nfunc(a = 10, b = 20 )",
   "metadata": {
    "tags": [],
    "cell_id": "00066-685d76dd-368f-4040-899c-ebc2e44715ba",
    "deepnote_to_be_reexecuted": false,
    "source_hash": "1c542bca",
    "execution_start": 1622269279310,
    "execution_millis": 10,
    "deepnote_cell_type": "code"
   },
   "outputs": [
    {
     "name": "stdout",
     "text": "10 20\n",
     "output_type": "stream"
    }
   ],
   "execution_count": null
  },
  {
   "cell_type": "code",
   "source": "def func(a, b, *, c, d):\n    print(a, b, c, d)\n\nfunc(10, 20, c = 10, d = 50)",
   "metadata": {
    "tags": [],
    "cell_id": "00067-b619533c-8de5-47ef-8cb6-1f70925baefd",
    "deepnote_to_be_reexecuted": false,
    "source_hash": "1b6d4065",
    "execution_start": 1622269302572,
    "execution_millis": 15,
    "deepnote_cell_type": "code"
   },
   "outputs": [
    {
     "name": "stdout",
     "text": "10 20 10 50\n",
     "output_type": "stream"
    }
   ],
   "execution_count": null
  },
  {
   "cell_type": "code",
   "source": "def func(a, b = 2, *, c, d = 4):\n    print(a, b, c, d)\n\nfunc(1, c = 10)",
   "metadata": {
    "tags": [],
    "cell_id": "00068-9ad9753f-bfba-4a97-b510-ce6b3b145082",
    "deepnote_to_be_reexecuted": false,
    "source_hash": "6c46ad35",
    "execution_start": 1622269339442,
    "execution_millis": 18,
    "deepnote_cell_type": "code"
   },
   "outputs": [
    {
     "name": "stdout",
     "text": "1 2 10 4\n",
     "output_type": "stream"
    }
   ],
   "execution_count": null
  },
  {
   "cell_type": "code",
   "source": "func(c = 10, a = 1)",
   "metadata": {
    "tags": [],
    "cell_id": "00069-852d0f70-5311-4b08-a426-a978377ae0f8",
    "deepnote_to_be_reexecuted": false,
    "source_hash": "c0b069b2",
    "execution_start": 1622269353045,
    "execution_millis": 15,
    "deepnote_cell_type": "code"
   },
   "outputs": [
    {
     "name": "stdout",
     "text": "1 2 10 4\n",
     "output_type": "stream"
    }
   ],
   "execution_count": null
  },
  {
   "cell_type": "code",
   "source": "def func(a, b, *, c, d = 4, **kwargs):\n    print(a, b, c, d, kwargs)\n\nfunc(1, 2, c = 10, e = 45)",
   "metadata": {
    "tags": [],
    "cell_id": "00070-962690e0-b78e-4a86-b3f2-11fb4e3a66b9",
    "deepnote_to_be_reexecuted": false,
    "source_hash": "2b5f3ce1",
    "execution_start": 1622269451048,
    "execution_millis": 2,
    "deepnote_cell_type": "code"
   },
   "outputs": [
    {
     "name": "stdout",
     "text": "1 2 10 4 {'e': 45}\n",
     "output_type": "stream"
    }
   ],
   "execution_count": null
  },
  {
   "cell_type": "code",
   "source": "def func(a, b, *args, c, d = 4, **kwargs):\n    print(a, b, c, d, kwargs)\n\nfunc(1, 2, 3, 4, 5, c = 10, e = 45)",
   "metadata": {
    "tags": [],
    "cell_id": "00071-186e26a2-95e7-4d9e-a268-3bbce5fcfd49",
    "deepnote_to_be_reexecuted": false,
    "source_hash": "b0e0d708",
    "execution_start": 1622269469451,
    "execution_millis": 11,
    "deepnote_cell_type": "code"
   },
   "outputs": [
    {
     "name": "stdout",
     "text": "1 2 10 4 {'e': 45}\n",
     "output_type": "stream"
    }
   ],
   "execution_count": null
  },
  {
   "cell_type": "code",
   "source": "def func(*args, **kwargs):\n    print(args, kwargs)\n\nfunc(1, 2, 3, x = 100, y = 500)",
   "metadata": {
    "tags": [],
    "cell_id": "00072-61949473-0b8c-4828-80ad-57ba75eab1dc",
    "deepnote_to_be_reexecuted": false,
    "source_hash": "fd07e725",
    "execution_start": 1622269521669,
    "execution_millis": 18,
    "deepnote_cell_type": "code"
   },
   "outputs": [
    {
     "name": "stdout",
     "text": "(1, 2, 3) {'x': 100, 'y': 500}\n",
     "output_type": "stream"
    }
   ],
   "execution_count": null
  },
  {
   "cell_type": "code",
   "source": "help(print)",
   "metadata": {
    "tags": [],
    "cell_id": "00073-1800d27e-32be-4126-a35b-afae939aa1a6",
    "deepnote_to_be_reexecuted": false,
    "source_hash": "f8c58ce4",
    "execution_start": 1622269554365,
    "execution_millis": 15,
    "deepnote_cell_type": "code"
   },
   "outputs": [
    {
     "name": "stdout",
     "text": "Help on built-in function print in module builtins:\n\nprint(...)\n    print(value, ..., sep=' ', end='\\n', file=sys.stdout, flush=False)\n    \n    Prints the values to a stream, or to sys.stdout by default.\n    Optional keyword arguments:\n    file:  a file-like object (stream); defaults to the current sys.stdout.\n    sep:   string inserted between values, default a space.\n    end:   string appended after the last value, default a newline.\n    flush: whether to forcibly flush the stream.\n\n",
     "output_type": "stream"
    }
   ],
   "execution_count": null
  },
  {
   "cell_type": "code",
   "source": "print(\"rohan\")",
   "metadata": {
    "tags": [],
    "cell_id": "00074-ac9eee2d-9e62-4f50-b713-67c1c5cc1f21",
    "deepnote_to_be_reexecuted": false,
    "source_hash": "73f3e935",
    "execution_start": 1622269614836,
    "execution_millis": 2,
    "deepnote_cell_type": "code"
   },
   "outputs": [
    {
     "name": "stdout",
     "text": "rohan\n",
     "output_type": "stream"
    }
   ],
   "execution_count": null
  },
  {
   "cell_type": "code",
   "source": "print(1, 2, 3)",
   "metadata": {
    "tags": [],
    "cell_id": "00075-afb076c9-7e4f-49dd-8e04-c4dc040e7e5a",
    "deepnote_to_be_reexecuted": false,
    "source_hash": "9086f93c",
    "execution_start": 1622269693830,
    "execution_millis": 17,
    "deepnote_cell_type": "code"
   },
   "outputs": [
    {
     "name": "stdout",
     "text": "1 2 3\n",
     "output_type": "stream"
    }
   ],
   "execution_count": null
  },
  {
   "cell_type": "code",
   "source": "print(1, 2, 3, sep='--')",
   "metadata": {
    "tags": [],
    "cell_id": "00076-56227f93-36c1-4537-b511-859e9849f0f7",
    "deepnote_to_be_reexecuted": false,
    "source_hash": "e7ea1083",
    "execution_start": 1622269708614,
    "execution_millis": 11,
    "deepnote_cell_type": "code"
   },
   "outputs": [
    {
     "name": "stdout",
     "text": "1--2--3\n",
     "output_type": "stream"
    }
   ],
   "execution_count": null
  },
  {
   "cell_type": "code",
   "source": "print(1, 2, 3, sep='--', end='***\\n')\nprint(1, 2, 3, sep='--', end='***\\n')",
   "metadata": {
    "tags": [],
    "cell_id": "00077-59216770-e7e8-4db0-a59c-c984776c661e",
    "deepnote_to_be_reexecuted": false,
    "source_hash": "ff348f7b",
    "execution_start": 1622269757424,
    "execution_millis": 26,
    "deepnote_cell_type": "code"
   },
   "outputs": [
    {
     "name": "stdout",
     "text": "1--2--3***\n1--2--3***\n",
     "output_type": "stream"
    }
   ],
   "execution_count": null
  },
  {
   "cell_type": "code",
   "source": "print(1, 2, 3, sep = '\\t', end=\"\\t***\\t\")\nprint(4, 5, 6, sep = '\\t', end=\"\\t***\\n\")",
   "metadata": {
    "tags": [],
    "cell_id": "00078-0492a4c9-ac8d-44df-bd56-84525c97cd3b",
    "deepnote_to_be_reexecuted": false,
    "source_hash": "97c8bbc9",
    "execution_start": 1622269794938,
    "execution_millis": 9,
    "deepnote_cell_type": "code"
   },
   "outputs": [
    {
     "name": "stdout",
     "text": "1\t2\t3\t***\t4\t5\t6\t***\n",
     "output_type": "stream"
    }
   ],
   "execution_count": null
  },
  {
   "cell_type": "code",
   "source": "def hi_lo_avg(*args, log_to_console=False):\n    hi = int(bool(args)) and max(args)\n    lo = int(bool(args)) and min(args)\n\n    avg = (hi + lo)/2\n    if log_to_console:\n        print(f'high={hi}, low={lo}, avg={avg}')\n    return avg",
   "metadata": {
    "tags": [],
    "cell_id": "00079-8293c8ac-7f02-4156-ad6a-498191c92c13",
    "deepnote_to_be_reexecuted": false,
    "source_hash": "39ce50c1",
    "execution_start": 1622270032175,
    "execution_millis": 3,
    "deepnote_cell_type": "code"
   },
   "outputs": [],
   "execution_count": null
  },
  {
   "cell_type": "code",
   "source": "hi_lo_avg(1, 2, 3, 4, 5, 6, log_to_console= True)",
   "metadata": {
    "tags": [],
    "cell_id": "00080-46eff79f-f474-467a-82ff-dfdb8420e785",
    "deepnote_to_be_reexecuted": false,
    "source_hash": "471e5809",
    "execution_start": 1622270057811,
    "execution_millis": 11,
    "deepnote_cell_type": "code"
   },
   "outputs": [
    {
     "name": "stdout",
     "text": "high=6, low=1, avg=3.5\n",
     "output_type": "stream"
    },
    {
     "output_type": "execute_result",
     "execution_count": 203,
     "data": {
      "text/plain": "3.5"
     },
     "metadata": {}
    }
   ],
   "execution_count": null
  },
  {
   "cell_type": "code",
   "source": "help(print)",
   "metadata": {
    "tags": [],
    "cell_id": "00081-c5dcdfa8-fc7c-494a-b9f3-6ea7264f7790",
    "deepnote_to_be_reexecuted": false,
    "source_hash": "f8c58ce4",
    "execution_start": 1622270564533,
    "execution_millis": 11,
    "deepnote_cell_type": "code"
   },
   "outputs": [
    {
     "name": "stdout",
     "text": "Help on built-in function print in module builtins:\n\nprint(...)\n    print(value, ..., sep=' ', end='\\n', file=sys.stdout, flush=False)\n    \n    Prints the values to a stream, or to sys.stdout by default.\n    Optional keyword arguments:\n    file:  a file-like object (stream); defaults to the current sys.stdout.\n    sep:   string inserted between values, default a space.\n    end:   string appended after the last value, default a newline.\n    flush: whether to forcibly flush the stream.\n\n",
     "output_type": "stream"
    }
   ],
   "execution_count": null
  },
  {
   "cell_type": "code",
   "source": "def my_func(a, b):\n    return a * b",
   "metadata": {
    "tags": [],
    "cell_id": "00082-9b8d1aac-1212-4406-9711-dba58197fefa",
    "deepnote_to_be_reexecuted": false,
    "source_hash": "54f1d649",
    "execution_start": 1622270705950,
    "execution_millis": 5,
    "deepnote_cell_type": "code"
   },
   "outputs": [],
   "execution_count": null
  },
  {
   "cell_type": "code",
   "source": "help(my_func)",
   "metadata": {
    "tags": [],
    "cell_id": "00083-a418116b-57a3-4384-879c-8c307cc3afec",
    "deepnote_to_be_reexecuted": false,
    "source_hash": "b73d04ca",
    "execution_start": 1622270713797,
    "execution_millis": 56,
    "deepnote_cell_type": "code"
   },
   "outputs": [
    {
     "name": "stdout",
     "text": "Help on function my_func in module __main__:\n\nmy_func(a, b)\n\n",
     "output_type": "stream"
    }
   ],
   "execution_count": null
  },
  {
   "cell_type": "code",
   "source": "def my_func(a, b):\n    'Return the product of a and b'\n    return a * b\n\nhelp(my_func)",
   "metadata": {
    "tags": [],
    "cell_id": "00084-3c822ec0-3c4f-4b9f-81a3-2383da228775",
    "deepnote_to_be_reexecuted": false,
    "source_hash": "a7668032",
    "execution_start": 1622270749636,
    "execution_millis": 10,
    "deepnote_cell_type": "code"
   },
   "outputs": [
    {
     "name": "stdout",
     "text": "Help on function my_func in module __main__:\n\nmy_func(a, b)\n    Return the product of a and b\n\n",
     "output_type": "stream"
    }
   ],
   "execution_count": null
  },
  {
   "cell_type": "code",
   "source": "def fact(n):\n    '''Calculate n! (factorial function)\n    Input:\n        n: non-negative integer\n    Return:\n        the factorial of n\n    '''\n    if n <= 0:\n        '''Note that this is not part of the docstring'''\n        return 1\n    else:\n        return n * fact(n - 1)",
   "metadata": {
    "tags": [],
    "cell_id": "00085-33b5128d-03d6-44a0-b57d-2f91a4d7302d",
    "deepnote_to_be_reexecuted": false,
    "source_hash": "5538d064",
    "execution_start": 1622270927774,
    "execution_millis": 0,
    "deepnote_cell_type": "code"
   },
   "outputs": [],
   "execution_count": null
  },
  {
   "cell_type": "code",
   "source": "help(fact)",
   "metadata": {
    "tags": [],
    "cell_id": "00086-9e885bb3-5a6b-4f77-85fb-bb0c26447b42",
    "deepnote_to_be_reexecuted": false,
    "source_hash": "d02da099",
    "execution_start": 1622270928256,
    "execution_millis": 15,
    "deepnote_cell_type": "code"
   },
   "outputs": [
    {
     "name": "stdout",
     "text": "Help on function fact in module __main__:\n\nfact(n)\n    Calculate n! (factorial function)\n    Input:\n        n: non-negative integer\n    Return:\n        the factorial of n\n\n",
     "output_type": "stream"
    }
   ],
   "execution_count": null
  },
  {
   "cell_type": "code",
   "source": "fact.__doc__",
   "metadata": {
    "tags": [],
    "cell_id": "00087-216d0b61-a112-4856-8087-4f7377905b5d",
    "deepnote_to_be_reexecuted": false,
    "source_hash": "d445dba2",
    "execution_start": 1622270970472,
    "execution_millis": 11,
    "deepnote_cell_type": "code"
   },
   "outputs": [
    {
     "output_type": "execute_result",
     "execution_count": 215,
     "data": {
      "text/plain": "'Calculate n! (factorial function)\\n    Input:\\n        n: non-negative integer\\n    Return:\\n        the factorial of n\\n    '"
     },
     "metadata": {}
    }
   ],
   "execution_count": null
  },
  {
   "cell_type": "code",
   "source": "fact.__annotations__",
   "metadata": {
    "tags": [],
    "cell_id": "00088-af804e12-750e-45e0-a3c0-ff782288adfd",
    "deepnote_to_be_reexecuted": false,
    "source_hash": "c4e8be35",
    "execution_start": 1622271011686,
    "execution_millis": 6,
    "deepnote_cell_type": "code"
   },
   "outputs": [
    {
     "output_type": "execute_result",
     "execution_count": 216,
     "data": {
      "text/plain": "{}"
     },
     "metadata": {}
    }
   ],
   "execution_count": null
  },
  {
   "cell_type": "code",
   "source": "def fact(n:'non-negative integer'):\n    '''Calculate n! (factorial function)\n    Input:\n        n: non-negative integer\n    Return:\n        the factorial of n\n    '''\n    if n <= 0:\n        '''Note that this is not part of the docstring'''\n        return 1\n    else:\n        return n * fact(n - 1)",
   "metadata": {
    "tags": [],
    "cell_id": "00089-4ab8dcf7-339b-4c62-9f70-ef666d05539a",
    "deepnote_to_be_reexecuted": false,
    "source_hash": "c2f65b26",
    "execution_start": 1622271060951,
    "execution_millis": 8,
    "deepnote_cell_type": "code"
   },
   "outputs": [],
   "execution_count": null
  },
  {
   "cell_type": "code",
   "source": "fact.__annotations__",
   "metadata": {
    "tags": [],
    "cell_id": "00090-0d24f6fe-4236-470b-b98c-c5be7d1253ac",
    "deepnote_to_be_reexecuted": false,
    "source_hash": "c4e8be35",
    "execution_start": 1622271061158,
    "execution_millis": 11,
    "deepnote_cell_type": "code"
   },
   "outputs": [
    {
     "output_type": "execute_result",
     "execution_count": 220,
     "data": {
      "text/plain": "{'n': 'non-negative integer'}"
     },
     "metadata": {}
    }
   ],
   "execution_count": null
  },
  {
   "cell_type": "code",
   "source": "help(fact)",
   "metadata": {
    "tags": [],
    "cell_id": "00091-25e3b83e-cb21-475e-9eba-2bdeeda2a4bc",
    "deepnote_to_be_reexecuted": false,
    "source_hash": "d02da099",
    "execution_start": 1622271067868,
    "execution_millis": 17,
    "deepnote_cell_type": "code"
   },
   "outputs": [
    {
     "name": "stdout",
     "text": "Help on function fact in module __main__:\n\nfact(n: 'non-negative integer')\n    Calculate n! (factorial function)\n    Input:\n        n: non-negative integer\n    Return:\n        the factorial of n\n\n",
     "output_type": "stream"
    }
   ],
   "execution_count": null
  },
  {
   "cell_type": "code",
   "source": "def my_func(a:'annotation for a', \n            b:'annotation for b') -> 'multiplication of inputs':\n    return a * b\n\nhelp(my_func)",
   "metadata": {
    "tags": [],
    "cell_id": "00092-aaf89f7d-6982-4c39-a1e2-edcc5e7c7901",
    "deepnote_to_be_reexecuted": false,
    "source_hash": "c8582a49",
    "execution_start": 1622271209475,
    "execution_millis": 11,
    "deepnote_cell_type": "code"
   },
   "outputs": [
    {
     "name": "stdout",
     "text": "Help on function my_func in module __main__:\n\nmy_func(a: 'annotation for a', b: 'annotation for b') -> 'multiplication of inputs'\n\n",
     "output_type": "stream"
    }
   ],
   "execution_count": null
  },
  {
   "cell_type": "code",
   "source": "x = 3\ny = 5\n\ndef my_func(a: str) -> 'a repeated ' + str(max(3, 5)) + ' times':\n    return a * max (x, y)\n\nhelp(my_func)",
   "metadata": {
    "tags": [],
    "cell_id": "00093-194332b7-8872-4dbf-b652-4eabb736465e",
    "deepnote_to_be_reexecuted": false,
    "source_hash": "cd2b18c9",
    "execution_start": 1622271356126,
    "execution_millis": 14,
    "deepnote_cell_type": "code"
   },
   "outputs": [
    {
     "name": "stdout",
     "text": "Help on function my_func in module __main__:\n\nmy_func(a: str) -> 'a repeated 5 times'\n\n",
     "output_type": "stream"
    }
   ],
   "execution_count": null
  },
  {
   "cell_type": "code",
   "source": "my_func(34)",
   "metadata": {
    "tags": [],
    "cell_id": "00094-677c8c7f-c3ba-41ce-89cc-b70912013c1d",
    "deepnote_to_be_reexecuted": false,
    "source_hash": "950473c7",
    "execution_start": 1622271402882,
    "execution_millis": 9,
    "deepnote_cell_type": "code"
   },
   "outputs": [
    {
     "output_type": "execute_result",
     "execution_count": 230,
     "data": {
      "text/plain": "170"
     },
     "metadata": {}
    }
   ],
   "execution_count": null
  },
  {
   "cell_type": "code",
   "source": "my_func.__annotations__",
   "metadata": {
    "tags": [],
    "cell_id": "00095-93feca8e-609a-4b07-bb23-6ceaa9ffdcea",
    "deepnote_to_be_reexecuted": false,
    "source_hash": "d80ce988",
    "execution_start": 1622271415838,
    "execution_millis": 10,
    "deepnote_cell_type": "code"
   },
   "outputs": [
    {
     "output_type": "execute_result",
     "execution_count": 231,
     "data": {
      "text/plain": "{'a': str, 'return': 'a repeated 5 times'}"
     },
     "metadata": {}
    }
   ],
   "execution_count": null
  },
  {
   "cell_type": "code",
   "source": "def fact(n: 'int >= 0')->int:\n    '''Calculates n! (factorial function)\n    \n    Inputs:\n        n: non-negative integer\n    Returns:\n        the factorial of n\n    '''\n    \n    if n < 0:\n        '''Note that this is not part of the docstring!'''\n        return 1\n    else:\n        return n * fact(n-1)",
   "metadata": {
    "tags": [],
    "cell_id": "00096-84707ff9-1bd5-41ab-bff9-49fe77610c5e",
    "deepnote_to_be_reexecuted": false,
    "source_hash": "1ee33d6a",
    "execution_start": 1622271447031,
    "execution_millis": 1,
    "deepnote_cell_type": "code"
   },
   "outputs": [],
   "execution_count": null
  },
  {
   "cell_type": "code",
   "source": "help(fact)",
   "metadata": {
    "tags": [],
    "cell_id": "00097-cca2df4c-ef59-4af1-9f28-009e743d4818",
    "deepnote_to_be_reexecuted": false,
    "source_hash": "d02da099",
    "execution_start": 1622271451089,
    "execution_millis": 17,
    "deepnote_cell_type": "code"
   },
   "outputs": [
    {
     "name": "stdout",
     "text": "Help on function fact in module __main__:\n\nfact(n: 'int >= 0') -> int\n    Calculates n! (factorial function)\n    \n    Inputs:\n        n: non-negative integer\n    Returns:\n        the factorial of n\n\n",
     "output_type": "stream"
    }
   ],
   "execution_count": null
  },
  {
   "cell_type": "markdown",
   "source": "# Lambda Expressions",
   "metadata": {
    "tags": [],
    "cell_id": "00098-8c978388-6b18-4006-982c-8aab543c1407",
    "deepnote_cell_type": "text-cell-h1"
   }
  },
  {
   "cell_type": "code",
   "source": "def func1(a):\n    return a**2\n\nfunc1(4)",
   "metadata": {
    "tags": [],
    "cell_id": "00098-cf2c400a-3923-4561-af63-6035bab2f4dc",
    "deepnote_to_be_reexecuted": false,
    "source_hash": "4b5459cb",
    "execution_start": 1622271576494,
    "execution_millis": 13,
    "deepnote_cell_type": "code"
   },
   "outputs": [
    {
     "output_type": "execute_result",
     "execution_count": 235,
     "data": {
      "text/plain": "16"
     },
     "metadata": {}
    }
   ],
   "execution_count": null
  },
  {
   "cell_type": "code",
   "source": "lambda a: a**2",
   "metadata": {
    "tags": [],
    "cell_id": "00100-999e3a4c-5339-4776-b7d4-b4d06436910c",
    "deepnote_to_be_reexecuted": false,
    "source_hash": "683d7ccb",
    "execution_start": 1622271608510,
    "execution_millis": 9,
    "deepnote_cell_type": "code"
   },
   "outputs": [
    {
     "output_type": "execute_result",
     "execution_count": 236,
     "data": {
      "text/plain": "<function __main__.<lambda>(a)>"
     },
     "metadata": {}
    }
   ],
   "execution_count": null
  },
  {
   "cell_type": "code",
   "source": "def func1(a):\n    return a**2\n\nfunc1(4)\n\nfunc1 = lambda a: a**2\n\nfunc1(4)",
   "metadata": {
    "tags": [],
    "cell_id": "00101-f5a11983-ca44-428b-b6fe-89db08b19fa4",
    "deepnote_to_be_reexecuted": false,
    "source_hash": "86c086cc",
    "execution_start": 1622271663270,
    "execution_millis": 11,
    "deepnote_cell_type": "code"
   },
   "outputs": [
    {
     "output_type": "execute_result",
     "execution_count": 238,
     "data": {
      "text/plain": "16"
     },
     "metadata": {}
    }
   ],
   "execution_count": null
  },
  {
   "cell_type": "code",
   "source": "type(func1)",
   "metadata": {
    "tags": [],
    "cell_id": "00102-8c062dca-0644-405b-b908-23ec409686b6",
    "deepnote_to_be_reexecuted": false,
    "source_hash": "55d22b2e",
    "execution_start": 1622271671038,
    "execution_millis": 10,
    "deepnote_cell_type": "code"
   },
   "outputs": [
    {
     "output_type": "execute_result",
     "execution_count": 239,
     "data": {
      "text/plain": "function"
     },
     "metadata": {}
    }
   ],
   "execution_count": null
  },
  {
   "cell_type": "code",
   "source": "func_1 = lambda x, y: print(x, y)\n\nfunc_1(10, 20)",
   "metadata": {
    "tags": [],
    "cell_id": "00103-64fedd16-f37d-4192-8884-b60b6d3eaddd",
    "deepnote_to_be_reexecuted": false,
    "source_hash": "62e26636",
    "execution_start": 1622271723883,
    "execution_millis": 10,
    "deepnote_cell_type": "code"
   },
   "outputs": [
    {
     "name": "stdout",
     "text": "10 20\n",
     "output_type": "stream"
    }
   ],
   "execution_count": null
  },
  {
   "cell_type": "code",
   "source": "def func_1(x, y = 10):\n    print(x, y)\n\n\nfunc_1(10)",
   "metadata": {
    "tags": [],
    "cell_id": "00104-f0889812-8ca0-47e6-a7d5-3b8e1d0b77fd",
    "deepnote_to_be_reexecuted": false,
    "source_hash": "4b0557db",
    "execution_start": 1622271744292,
    "execution_millis": 10,
    "deepnote_cell_type": "code"
   },
   "outputs": [
    {
     "name": "stdout",
     "text": "10 10\n",
     "output_type": "stream"
    }
   ],
   "execution_count": null
  },
  {
   "cell_type": "code",
   "source": "func_1 = lambda x, y = 10: print(x, y)\n\nfunc_1(10)",
   "metadata": {
    "tags": [],
    "cell_id": "00105-1b7a9462-9a63-4133-8fca-b34a034d838d",
    "deepnote_to_be_reexecuted": false,
    "source_hash": "43ebcf51",
    "execution_start": 1622271757549,
    "execution_millis": 11,
    "deepnote_cell_type": "code"
   },
   "outputs": [
    {
     "name": "stdout",
     "text": "10 10\n",
     "output_type": "stream"
    }
   ],
   "execution_count": null
  },
  {
   "cell_type": "code",
   "source": "def func1(x, *args, y, **kwargs):\n    print(x, args, y, kwargs)\n\nfunc1(1, 2, 3, 4, y = 10, z = 10)",
   "metadata": {
    "tags": [],
    "cell_id": "00107-ab2fa02c-8b28-494c-a181-b66138a73ff9",
    "deepnote_to_be_reexecuted": false,
    "source_hash": "42c3a44b",
    "execution_start": 1622271857069,
    "execution_millis": 47,
    "deepnote_cell_type": "code"
   },
   "outputs": [
    {
     "name": "stdout",
     "text": "1 (2, 3, 4) 10 {'z': 10}\n",
     "output_type": "stream"
    }
   ],
   "execution_count": null
  },
  {
   "cell_type": "code",
   "source": "func_2 = lambda x, *args, y, **kwargs: (x, *args, y, {**kwargs})\n\nfunc1(1, 2, 3, 4, y = 10, z = 10)",
   "metadata": {
    "tags": [],
    "cell_id": "00107-c684d3b4-da61-4de9-b803-01f3044aeb65",
    "deepnote_to_be_reexecuted": false,
    "source_hash": "46d0e7eb",
    "execution_start": 1622271925360,
    "execution_millis": 16,
    "deepnote_cell_type": "code"
   },
   "outputs": [
    {
     "name": "stdout",
     "text": "1 (2, 3, 4) 10 {'z': 10}\n",
     "output_type": "stream"
    }
   ],
   "execution_count": null
  },
  {
   "cell_type": "code",
   "source": "def apply_func(x, fn):\n    return fn(x)",
   "metadata": {
    "tags": [],
    "cell_id": "00108-3df2fb88-e904-4b32-b390-9e9d428c4113",
    "deepnote_to_be_reexecuted": false,
    "source_hash": "d336d5f9",
    "execution_start": 1622271974263,
    "execution_millis": 5,
    "deepnote_cell_type": "code"
   },
   "outputs": [],
   "execution_count": null
  },
  {
   "cell_type": "code",
   "source": "apply_func(3.14, lambda y: y**2)",
   "metadata": {
    "tags": [],
    "cell_id": "00109-fc25c08a-dc04-4ed1-a6b3-26d04cd20044",
    "deepnote_to_be_reexecuted": false,
    "source_hash": "fd2d8c08",
    "execution_start": 1622272023845,
    "execution_millis": 10,
    "deepnote_cell_type": "code"
   },
   "outputs": [
    {
     "output_type": "execute_result",
     "execution_count": 257,
     "data": {
      "text/plain": "9.8596"
     },
     "metadata": {}
    }
   ],
   "execution_count": null
  },
  {
   "cell_type": "code",
   "source": "apply_func(3.14, lambda y: y**3)",
   "metadata": {
    "tags": [],
    "cell_id": "00110-d2c921de-7f31-4204-afa2-1a7ce572398d",
    "deepnote_to_be_reexecuted": false,
    "source_hash": "49cc7d9b",
    "execution_start": 1622272044267,
    "execution_millis": 14,
    "deepnote_cell_type": "code"
   },
   "outputs": [
    {
     "output_type": "execute_result",
     "execution_count": 258,
     "data": {
      "text/plain": "30.959144000000002"
     },
     "metadata": {}
    }
   ],
   "execution_count": null
  },
  {
   "cell_type": "code",
   "source": "def apply_func(fn, *args, **kwargs):\n    return fn(*args, **kwargs)",
   "metadata": {
    "tags": [],
    "cell_id": "00111-81ccb4d7-0c21-4b19-96c6-f7607ad1fbde",
    "deepnote_to_be_reexecuted": false,
    "source_hash": "8018255",
    "execution_start": 1622272072718,
    "execution_millis": 6,
    "deepnote_cell_type": "code"
   },
   "outputs": [],
   "execution_count": null
  },
  {
   "cell_type": "code",
   "source": "apply_func(lambda x, y: x + y, 1, 2)",
   "metadata": {
    "tags": [],
    "cell_id": "00111-8f6717c7-40d2-4c4b-93b5-9373826520d4",
    "deepnote_to_be_reexecuted": false,
    "source_hash": "cf8a25d5",
    "execution_start": 1622272106046,
    "execution_millis": 13,
    "deepnote_cell_type": "code"
   },
   "outputs": [
    {
     "output_type": "execute_result",
     "execution_count": 260,
     "data": {
      "text/plain": "3"
     },
     "metadata": {}
    }
   ],
   "execution_count": null
  },
  {
   "cell_type": "code",
   "source": "apply_func(lambda x, *, y: x + y, 1, y=2)",
   "metadata": {
    "tags": [],
    "cell_id": "00113-cf1b1956-474a-4e8b-b2a0-018c0967cbb2",
    "deepnote_to_be_reexecuted": false,
    "source_hash": "31a6e541",
    "execution_start": 1622272163549,
    "execution_millis": 10,
    "deepnote_cell_type": "code"
   },
   "outputs": [
    {
     "output_type": "execute_result",
     "execution_count": 261,
     "data": {
      "text/plain": "3"
     },
     "metadata": {}
    }
   ],
   "execution_count": null
  },
  {
   "cell_type": "code",
   "source": "apply_func(lambda *args: sum(args), 1, 2, 3, 4, 5)",
   "metadata": {
    "tags": [],
    "cell_id": "00114-dcf3c4e7-bbd4-47ff-9612-2756cb6384bb",
    "deepnote_to_be_reexecuted": false,
    "source_hash": "b0942380",
    "execution_start": 1622272191811,
    "execution_millis": 15,
    "deepnote_cell_type": "code"
   },
   "outputs": [
    {
     "output_type": "execute_result",
     "execution_count": 262,
     "data": {
      "text/plain": "15"
     },
     "metadata": {}
    }
   ],
   "execution_count": null
  },
  {
   "cell_type": "code",
   "source": "apply_func(sum, (1, 2, 3, 4, 5))",
   "metadata": {
    "tags": [],
    "cell_id": "00115-b230dba4-813b-4997-8496-f71fe250c49b",
    "deepnote_to_be_reexecuted": false,
    "source_hash": "3550f593",
    "execution_start": 1622272207781,
    "execution_millis": 14,
    "deepnote_cell_type": "code"
   },
   "outputs": [
    {
     "output_type": "execute_result",
     "execution_count": 263,
     "data": {
      "text/plain": "15"
     },
     "metadata": {}
    }
   ],
   "execution_count": null
  },
  {
   "cell_type": "code",
   "source": "def multiply(x, y):\n    return x * y\n\napply_func(multiply, 'a', 5)",
   "metadata": {
    "tags": [],
    "cell_id": "00116-a07b1df5-aaa5-4999-a597-34c08b2ec8fe",
    "deepnote_to_be_reexecuted": false,
    "source_hash": "ee20b2cf",
    "execution_start": 1622272255256,
    "execution_millis": 9,
    "deepnote_cell_type": "code"
   },
   "outputs": [
    {
     "output_type": "execute_result",
     "execution_count": 264,
     "data": {
      "text/plain": "'aaaaa'"
     },
     "metadata": {}
    }
   ],
   "execution_count": null
  },
  {
   "cell_type": "code",
   "source": "",
   "metadata": {
    "tags": [],
    "cell_id": "00117-4172483b-d165-4d42-ace9-aa72afb3f225",
    "deepnote_cell_type": "code"
   },
   "outputs": [],
   "execution_count": null
  },
  {
   "cell_type": "code",
   "source": "l = ['a', 'B', 'c', 'D']\n\nsorted(l, reverse=True)",
   "metadata": {
    "tags": [],
    "cell_id": "00118-65d27087-28ef-4361-a35d-67ccb2c42792",
    "deepnote_to_be_reexecuted": false,
    "source_hash": "e31d65af",
    "execution_start": 1622272346875,
    "execution_millis": 11,
    "deepnote_cell_type": "code"
   },
   "outputs": [
    {
     "output_type": "execute_result",
     "execution_count": 267,
     "data": {
      "text/plain": "['c', 'a', 'D', 'B']"
     },
     "metadata": {}
    }
   ],
   "execution_count": null
  },
  {
   "cell_type": "code",
   "source": "help(sorted)",
   "metadata": {
    "tags": [],
    "cell_id": "00119-4c7512fa-89d8-4dcf-9940-7d9d0c64f081",
    "deepnote_to_be_reexecuted": false,
    "source_hash": "33f6869e",
    "execution_start": 1622272328429,
    "execution_millis": 54,
    "deepnote_cell_type": "code"
   },
   "outputs": [
    {
     "name": "stdout",
     "text": "Help on built-in function sorted in module builtins:\n\nsorted(iterable, /, *, key=None, reverse=False)\n    Return a new list containing all items from the iterable in ascending order.\n    \n    A custom key function can be supplied to customize the sort order, and the\n    reverse flag can be set to request the result in descending order.\n\n",
     "output_type": "stream"
    }
   ],
   "execution_count": null
  },
  {
   "cell_type": "code",
   "source": "sorted(l, key = lambda x : x.upper(), reverse=True)",
   "metadata": {
    "tags": [],
    "cell_id": "00120-112b908b-0c3a-439d-9559-cdb98f581658",
    "deepnote_to_be_reexecuted": false,
    "source_hash": "2e5732a8",
    "execution_start": 1622272428411,
    "execution_millis": 12,
    "deepnote_cell_type": "code"
   },
   "outputs": [
    {
     "output_type": "execute_result",
     "execution_count": 270,
     "data": {
      "text/plain": "['D', 'c', 'B', 'a']"
     },
     "metadata": {}
    }
   ],
   "execution_count": null
  },
  {
   "cell_type": "code",
   "source": "d = {'def': 300, 'abc': 200, 'ghi': 134}\n\nd",
   "metadata": {
    "tags": [],
    "cell_id": "00121-e1f5140e-90dd-43f0-95a7-1fc8f8e70463",
    "deepnote_to_be_reexecuted": false,
    "source_hash": "6b17b9f9",
    "execution_start": 1622272479377,
    "execution_millis": 16,
    "deepnote_cell_type": "code"
   },
   "outputs": [
    {
     "output_type": "execute_result",
     "execution_count": 271,
     "data": {
      "text/plain": "{'def': 300, 'abc': 200, 'ghi': 134}"
     },
     "metadata": {}
    }
   ],
   "execution_count": null
  },
  {
   "cell_type": "code",
   "source": "sorted(d)",
   "metadata": {
    "tags": [],
    "cell_id": "00122-9d4a8556-4877-40d2-9548-116bda253a2a",
    "deepnote_to_be_reexecuted": false,
    "source_hash": "c2825d1e",
    "execution_start": 1622272487981,
    "execution_millis": 14,
    "deepnote_cell_type": "code"
   },
   "outputs": [
    {
     "output_type": "execute_result",
     "execution_count": 272,
     "data": {
      "text/plain": "['abc', 'def', 'ghi']"
     },
     "metadata": {}
    }
   ],
   "execution_count": null
  },
  {
   "cell_type": "code",
   "source": "sorted(d, key = lambda k : d[k])",
   "metadata": {
    "tags": [],
    "cell_id": "00123-e3a6e365-e390-44d0-acbb-7b24010c95dd",
    "deepnote_to_be_reexecuted": false,
    "source_hash": "30b184d",
    "execution_start": 1622272550077,
    "execution_millis": 10,
    "deepnote_cell_type": "code"
   },
   "outputs": [
    {
     "output_type": "execute_result",
     "execution_count": 275,
     "data": {
      "text/plain": "['ghi', 'abc', 'def']"
     },
     "metadata": {}
    }
   ],
   "execution_count": null
  },
  {
   "cell_type": "code",
   "source": "d['abc']",
   "metadata": {
    "tags": [],
    "cell_id": "00124-3550e096-3741-43a3-8be4-516245c7f7a6",
    "deepnote_to_be_reexecuted": false,
    "source_hash": "455c8191",
    "execution_start": 1622272542790,
    "execution_millis": 14,
    "deepnote_cell_type": "code"
   },
   "outputs": [
    {
     "output_type": "execute_result",
     "execution_count": 274,
     "data": {
      "text/plain": "200"
     },
     "metadata": {}
    }
   ],
   "execution_count": null
  },
  {
   "cell_type": "code",
   "source": "l = ['Clinton', 'Trump', 'Obama', 'Hillary', 'Williams', 'Max Verstappen', 'Hamilton']",
   "metadata": {
    "tags": [],
    "cell_id": "00125-8b540d1e-9774-4b9f-9644-1bd280c2806a",
    "deepnote_to_be_reexecuted": false,
    "source_hash": "db9baa64",
    "execution_start": 1622272637678,
    "execution_millis": 0,
    "deepnote_cell_type": "code"
   },
   "outputs": [],
   "execution_count": null
  },
  {
   "cell_type": "code",
   "source": "sorted(l, key = lambda word: word[-1])",
   "metadata": {
    "tags": [],
    "cell_id": "00126-fa63fc66-be96-4ee8-9737-f291424384e1",
    "deepnote_to_be_reexecuted": false,
    "source_hash": "f4e85ffc",
    "execution_start": 1622272732507,
    "execution_millis": 27,
    "deepnote_cell_type": "code"
   },
   "outputs": [
    {
     "output_type": "execute_result",
     "execution_count": 282,
     "data": {
      "text/plain": "['Obama',\n 'Clinton',\n 'Max Verstappen',\n 'Hamilton',\n 'Trump',\n 'Williams',\n 'Hillary']"
     },
     "metadata": {}
    }
   ],
   "execution_count": null
  },
  {
   "cell_type": "code",
   "source": "sorted(l, key = lambda word: len(word))",
   "metadata": {
    "tags": [],
    "cell_id": "00127-3e4a505f-261c-42ef-bf92-63e75c292da2",
    "deepnote_to_be_reexecuted": false,
    "source_hash": "ade09638",
    "execution_start": 1622272774325,
    "execution_millis": 19,
    "deepnote_cell_type": "code"
   },
   "outputs": [
    {
     "output_type": "execute_result",
     "execution_count": 283,
     "data": {
      "text/plain": "['Trump',\n 'Obama',\n 'Clinton',\n 'Hillary',\n 'Williams',\n 'Hamilton',\n 'Max Verstappen']"
     },
     "metadata": {}
    }
   ],
   "execution_count": null
  },
  {
   "cell_type": "code",
   "source": "sorted(l)",
   "metadata": {
    "tags": [],
    "cell_id": "00128-2556c66c-b212-4a16-a8b8-6f569dd54fcb",
    "deepnote_to_be_reexecuted": false,
    "source_hash": "572d84d3",
    "execution_start": 1622272797800,
    "execution_millis": 12,
    "deepnote_cell_type": "code"
   },
   "outputs": [
    {
     "output_type": "execute_result",
     "execution_count": 284,
     "data": {
      "text/plain": "['Clinton',\n 'Hamilton',\n 'Hillary',\n 'Max Verstappen',\n 'Obama',\n 'Trump',\n 'Williams']"
     },
     "metadata": {}
    }
   ],
   "execution_count": null
  },
  {
   "cell_type": "code",
   "source": "sorted(l, key = lambda word: 'D' if word[0:2] == 'Hi' else word[0])",
   "metadata": {
    "tags": [],
    "cell_id": "00129-a790df25-460a-4f7c-a076-5f13a5a090a3",
    "deepnote_to_be_reexecuted": false,
    "source_hash": "131d091b",
    "execution_start": 1622273165236,
    "execution_millis": 11,
    "deepnote_cell_type": "code"
   },
   "outputs": [
    {
     "output_type": "execute_result",
     "execution_count": 287,
     "data": {
      "text/plain": "['Clinton',\n 'Hillary',\n 'Hamilton',\n 'Max Verstappen',\n 'Obama',\n 'Trump',\n 'Williams']"
     },
     "metadata": {}
    }
   ],
   "execution_count": null
  },
  {
   "cell_type": "code",
   "source": "",
   "metadata": {
    "tags": [],
    "cell_id": "00130-233ea4b4-8356-4412-aa8c-7e29c8742bf1",
    "deepnote_cell_type": "code"
   },
   "outputs": [],
   "execution_count": null
  },
  {
   "cell_type": "markdown",
   "source": "<a style='text-decoration:none;line-height:16px;display:flex;color:#5B5B62;padding:10px;justify-content:end;' href='https://deepnote.com?utm_source=created-in-deepnote-cell&projectId=ec90de38-255d-4b81-a5aa-8cef77d684bf' target=\"_blank\">\n<img alt='Created in deepnote.com' style='display:inline;max-height:16px;margin:0px;margin-right:7.5px;' src='data:image/svg+xml;base64,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' > </img>\nCreated in <span style='font-weight:600;margin-left:4px;'>Deepnote</span></a>",
   "metadata": {
    "tags": [],
    "created_in_deepnote_cell": true,
    "deepnote_cell_type": "markdown"
   }
  }
 ],
 "nbformat": 4,
 "nbformat_minor": 2,
 "metadata": {
  "orig_nbformat": 2,
  "deepnote": {
   "is_reactive": false
  },
  "deepnote_notebook_id": "98b397bd-bd63-4610-a959-9766b3053ce9",
  "deepnote_execution_queue": []
 }
}