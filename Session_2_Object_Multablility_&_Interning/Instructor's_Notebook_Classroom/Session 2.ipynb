{
 "cells": [
  {
   "cell_type": "markdown",
   "source": "# Object Mutability & Interning",
   "metadata": {
    "tags": [],
    "cell_id": "00000-bf6feff4-ee90-4801-ae12-9779ec4d3bdc",
    "deepnote_cell_type": "markdown"
   }
  },
  {
   "cell_type": "markdown",
   "source": "## Variables are memory references",
   "metadata": {
    "tags": [],
    "cell_id": "00001-235cbf9e-f2cb-492f-8a08-dc44557282a1",
    "deepnote_cell_type": "markdown"
   }
  },
  {
   "cell_type": "code",
   "metadata": {
    "tags": [],
    "cell_id": "00000-b3580fb4-b310-417c-bd87-796cf2ebca5c",
    "deepnote_to_be_reexecuted": false,
    "source_hash": "b9a8cbf8",
    "execution_start": 1620455813460,
    "execution_millis": 15,
    "deepnote_cell_type": "code"
   },
   "source": "my_var = 10\nprint(f'my_var = {my_var}')\nprint(f\"my_var\\'s memory address in decimal = {id(my_var)}\")\nprint(f\"my_var\\'s memory address in hex = {hex(id(my_var))}\")",
   "execution_count": null,
   "outputs": [
    {
     "name": "stdout",
     "text": "my_var = 10\nmy_var's memory address in decimal = 139780857177440\nmy_var's memory address in hex = 0x7f214456a560\n",
     "output_type": "stream"
    }
   ]
  },
  {
   "cell_type": "code",
   "metadata": {
    "tags": [],
    "cell_id": "00003-8c75ac0b-22dc-45f3-8d2c-a2069943eca5",
    "deepnote_to_be_reexecuted": false,
    "source_hash": "5d82a80",
    "execution_start": 1620455813469,
    "execution_millis": 113,
    "deepnote_cell_type": "code"
   },
   "source": "my_var = 'Hello'\nprint(f'my_var = {my_var}')\nprint(f\"my_var\\'s memory address in decimal = {id(my_var)}\")\nprint(f\"my_var\\'s memory address in hex = {hex(id(my_var))}\")",
   "execution_count": null,
   "outputs": [
    {
     "name": "stdout",
     "text": "my_var = Hello\nmy_var's memory address in decimal = 139779983627568\nmy_var's memory address in hex = 0x7f2110455530\n",
     "output_type": "stream"
    }
   ]
  },
  {
   "cell_type": "markdown",
   "source": "# Reference Counting",
   "metadata": {
    "tags": [],
    "cell_id": "00004-a141bf20-0c9e-458d-a5ea-5a1acbff868d",
    "deepnote_cell_type": "markdown"
   }
  },
  {
   "cell_type": "code",
   "metadata": {
    "tags": [],
    "cell_id": "00004-0c5ca712-a43a-4d81-879d-8e89453097b4",
    "deepnote_to_be_reexecuted": false,
    "source_hash": "c77becae",
    "execution_start": 1620455813503,
    "execution_millis": 0,
    "deepnote_cell_type": "code"
   },
   "source": "import ctypes\n\ndef ref_count(address):\n    return ctypes.c_long.from_address(address).value",
   "execution_count": null,
   "outputs": []
  },
  {
   "cell_type": "code",
   "metadata": {
    "tags": [],
    "cell_id": "00006-972947d6-bec5-49fe-a507-be7aa548f13a",
    "deepnote_to_be_reexecuted": false,
    "source_hash": "290f1700",
    "execution_start": 1620455813503,
    "execution_millis": 79,
    "deepnote_cell_type": "code"
   },
   "source": "my_var = [1, 2, 3, 4]\nref_count(id(my_var))",
   "execution_count": null,
   "outputs": [
    {
     "output_type": "execute_result",
     "execution_count": 4,
     "data": {
      "text/plain": "1"
     },
     "metadata": {}
    }
   ]
  },
  {
   "cell_type": "code",
   "metadata": {
    "tags": [],
    "cell_id": "00007-95e6ee19-b7ee-47bc-a22c-db18ffdca125",
    "deepnote_to_be_reexecuted": false,
    "source_hash": "ee22b472",
    "execution_start": 1620455813504,
    "execution_millis": 78,
    "deepnote_cell_type": "code"
   },
   "source": "import sys\nsys.getrefcount(my_var)",
   "execution_count": null,
   "outputs": [
    {
     "output_type": "execute_result",
     "execution_count": 5,
     "data": {
      "text/plain": "2"
     },
     "metadata": {}
    }
   ]
  },
  {
   "cell_type": "code",
   "metadata": {
    "tags": [],
    "cell_id": "00008-7e887725-cd13-438f-a4e6-1320bd2793bf",
    "deepnote_to_be_reexecuted": false,
    "source_hash": "fde580bf",
    "execution_start": 1620455813507,
    "execution_millis": 5,
    "deepnote_cell_type": "code"
   },
   "source": "import gc",
   "execution_count": null,
   "outputs": []
  },
  {
   "cell_type": "code",
   "metadata": {
    "tags": [],
    "cell_id": "00009-a3c1057d-f529-498a-a54b-508bfb6779c0",
    "deepnote_to_be_reexecuted": false,
    "source_hash": "d5fa6b43",
    "execution_start": 1620455813515,
    "execution_millis": 0,
    "deepnote_cell_type": "code"
   },
   "source": "def ref_count(address):\n    return ctypes.c_long.from_address(address).value",
   "execution_count": null,
   "outputs": []
  },
  {
   "cell_type": "code",
   "metadata": {
    "tags": [],
    "cell_id": "00010-fda16d99-9173-4726-b79f-9c3f2b1f0398",
    "deepnote_to_be_reexecuted": false,
    "source_hash": "b546dff6",
    "execution_start": 1620455813523,
    "execution_millis": 3,
    "deepnote_cell_type": "code"
   },
   "source": "def object_by_id(object_id):\n    for obj in gc.get_objects():\n        if id(obj) == object_id:\n            return \"Object exists\"\n    return \"Not found\"",
   "execution_count": null,
   "outputs": []
  },
  {
   "cell_type": "code",
   "metadata": {
    "tags": [],
    "cell_id": "00011-8bbd11a4-53f7-4e8c-bef3-f4a0066a255d",
    "deepnote_to_be_reexecuted": false,
    "source_hash": "d47cb1f3",
    "execution_start": 1620455813527,
    "execution_millis": 6,
    "deepnote_cell_type": "code"
   },
   "source": "class A:\n    def __init__(self):\n        self.b = B(self)\n        print(f'A: self: {hex(id(self))}, b: {hex(id(self.b))}')\n\nclass B:\n    def __init__(self, a):\n        self.a = a\n        print(f'B: self: {hex(id(self))}, a: {hex(id(self.a))}')",
   "execution_count": null,
   "outputs": []
  },
  {
   "cell_type": "code",
   "metadata": {
    "tags": [],
    "cell_id": "00012-4bf08fc9-fbe4-4b48-9086-594225e63c99",
    "deepnote_to_be_reexecuted": false,
    "source_hash": "256311dc",
    "execution_start": 1620455813534,
    "execution_millis": 4,
    "deepnote_cell_type": "code"
   },
   "source": "gc.disable()",
   "execution_count": null,
   "outputs": []
  },
  {
   "cell_type": "code",
   "metadata": {
    "tags": [],
    "cell_id": "00013-84c77445-d352-48e4-b0e9-1a40bae6cf7e",
    "deepnote_to_be_reexecuted": false,
    "source_hash": "5e687bda",
    "execution_start": 1620455813540,
    "execution_millis": 42,
    "deepnote_cell_type": "code"
   },
   "source": "my_var = A()",
   "execution_count": null,
   "outputs": [
    {
     "name": "stdout",
     "text": "B: self: 0x7f21104245d0, a: 0x7f2110424290\nA: self: 0x7f2110424290, b: 0x7f21104245d0\n",
     "output_type": "stream"
    }
   ]
  },
  {
   "cell_type": "code",
   "metadata": {
    "tags": [],
    "cell_id": "00014-362ab87a-b668-4870-85c8-39cc5ba2ce86",
    "deepnote_to_be_reexecuted": false,
    "source_hash": "3128abee",
    "execution_start": 1620455813547,
    "execution_millis": 1,
    "deepnote_cell_type": "code"
   },
   "source": "hex(id(my_var))",
   "execution_count": null,
   "outputs": [
    {
     "output_type": "execute_result",
     "execution_count": 12,
     "data": {
      "text/plain": "'0x7f2110424290'"
     },
     "metadata": {}
    }
   ]
  },
  {
   "cell_type": "code",
   "metadata": {
    "tags": [],
    "cell_id": "00015-6811eb8d-4e10-4ef4-ab1d-68c7d4ae05bc",
    "deepnote_to_be_reexecuted": false,
    "source_hash": "6c8b3346",
    "execution_start": 1620455813556,
    "execution_millis": 3246136,
    "deepnote_cell_type": "code"
   },
   "source": "print(f'a: \\t{hex(id(my_var))}')\nprint(f'a.b: \\t{hex(id(my_var.b))}')\nprint(f'b.a: \\t{hex(id(my_var.b.a))}')\n",
   "execution_count": null,
   "outputs": [
    {
     "name": "stdout",
     "text": "a: \t0x7f2110424290\na.b: \t0x7f21104245d0\nb.a: \t0x7f2110424290\n",
     "output_type": "stream"
    }
   ]
  },
  {
   "cell_type": "code",
   "metadata": {
    "tags": [],
    "cell_id": "00016-60367130-6962-47c6-9869-d8800eb7da33",
    "deepnote_to_be_reexecuted": false,
    "source_hash": "5292e118",
    "execution_start": 1620455813567,
    "execution_millis": 3152609,
    "deepnote_cell_type": "code"
   },
   "source": "a_id = id(my_var)\nb_id = id(my_var.b)",
   "execution_count": null,
   "outputs": []
  },
  {
   "cell_type": "code",
   "metadata": {
    "tags": [],
    "cell_id": "00017-4c17c73e-c92b-4fc2-878e-75063053c822",
    "deepnote_to_be_reexecuted": false,
    "source_hash": "9466522b",
    "execution_start": 1620455813571,
    "execution_millis": 104,
    "deepnote_cell_type": "code"
   },
   "source": "my_var1 = A()\na_id = id(my_var1)\nb_id = id(my_var1.b)\n\nprint(f'refcount(a) = {ref_count(a_id)}')\nprint(f'refcount(b) = {ref_count(b_id)}')\nprint(f'a: {object_by_id(a_id)}')\nprint(f'b: {object_by_id(b_id)}')\nmy_var1 = None\nprint(f'refcount(a) = {ref_count(a_id)}')\nprint(f'refcount(b) = {ref_count(b_id)}')\nprint(f'a: {object_by_id(a_id)}')\nprint(f'b: {object_by_id(b_id)}')\ngc.collect()\nprint(f'refcount(a) = {ref_count(a_id)}')\nprint(f'refcount(b) = {ref_count(b_id)}')\nprint(f'a: {object_by_id(a_id)}')\nprint(f'b: {object_by_id(b_id)}')",
   "execution_count": null,
   "outputs": [
    {
     "name": "stdout",
     "text": "B: self: 0x7f2110433ed0, a: 0x7f2110433e90\nA: self: 0x7f2110433e90, b: 0x7f2110433ed0\nrefcount(a) = 2\nrefcount(b) = 1\na: Object exists\nb: Object exists\nrefcount(a) = 1\nrefcount(b) = 1\na: Object exists\nb: Object exists\nrefcount(a) = 0\nrefcount(b) = 172545694033510501\na: Object exists\nb: Object exists\n",
     "output_type": "stream"
    }
   ]
  },
  {
   "cell_type": "markdown",
   "source": "# Dynamic Typing",
   "metadata": {
    "tags": [],
    "cell_id": "00018-cd1aa350-2c03-4916-b1dc-59ad6675063a",
    "deepnote_cell_type": "markdown"
   }
  },
  {
   "cell_type": "code",
   "metadata": {
    "tags": [],
    "cell_id": "00018-8f60b013-c786-4467-a761-f9b7086627a2",
    "deepnote_to_be_reexecuted": false,
    "source_hash": "1c34e123",
    "execution_start": 1620455813612,
    "execution_millis": 63,
    "deepnote_cell_type": "code"
   },
   "source": "a = \"hello\"\ntype(a)",
   "execution_count": null,
   "outputs": [
    {
     "output_type": "execute_result",
     "execution_count": 16,
     "data": {
      "text/plain": "str"
     },
     "metadata": {}
    }
   ]
  },
  {
   "cell_type": "code",
   "metadata": {
    "tags": [],
    "cell_id": "00019-7741bdc4-d02b-4263-9ace-f5dc279f9f1e",
    "deepnote_to_be_reexecuted": false,
    "source_hash": "21dc7c01",
    "execution_start": 1620455813622,
    "execution_millis": 53,
    "deepnote_cell_type": "code"
   },
   "source": "a = 10\ntype(a)",
   "execution_count": null,
   "outputs": [
    {
     "output_type": "execute_result",
     "execution_count": 17,
     "data": {
      "text/plain": "int"
     },
     "metadata": {}
    }
   ]
  },
  {
   "cell_type": "code",
   "metadata": {
    "tags": [],
    "cell_id": "00021-44378c48-6408-450a-8380-3560c4ebdb99",
    "deepnote_to_be_reexecuted": false,
    "source_hash": "7e94dd91",
    "execution_start": 1620455813627,
    "execution_millis": 48,
    "deepnote_cell_type": "code"
   },
   "source": "a = lambda x: x**2\ntype(a)\na(4)",
   "execution_count": null,
   "outputs": [
    {
     "output_type": "execute_result",
     "execution_count": 18,
     "data": {
      "text/plain": "16"
     },
     "metadata": {}
    }
   ]
  },
  {
   "cell_type": "code",
   "metadata": {
    "tags": [],
    "cell_id": "00022-24084280-51bc-40c7-a0bd-e35e1e361ed4",
    "deepnote_to_be_reexecuted": false,
    "source_hash": "c4987334",
    "execution_start": 1620455813634,
    "execution_millis": 41,
    "deepnote_cell_type": "code"
   },
   "source": "a = 10\nhex(id(a))",
   "execution_count": null,
   "outputs": [
    {
     "output_type": "execute_result",
     "execution_count": 19,
     "data": {
      "text/plain": "'0x7f214456a560'"
     },
     "metadata": {}
    }
   ]
  },
  {
   "cell_type": "code",
   "metadata": {
    "tags": [],
    "cell_id": "00023-e95c4a91-1240-4cfa-a70b-0ede1e2ecb99",
    "deepnote_to_be_reexecuted": false,
    "source_hash": "a5d2809",
    "execution_start": 1620455813641,
    "execution_millis": 35,
    "deepnote_cell_type": "code"
   },
   "source": "a = 15\nhex(id(a))",
   "execution_count": null,
   "outputs": [
    {
     "output_type": "execute_result",
     "execution_count": 20,
     "data": {
      "text/plain": "'0x7f214456a600'"
     },
     "metadata": {}
    }
   ]
  },
  {
   "cell_type": "code",
   "metadata": {
    "tags": [],
    "cell_id": "00024-4987770f-464d-4ec1-99bb-61ec3d7ef296",
    "deepnote_to_be_reexecuted": false,
    "source_hash": "4f8b02d1",
    "execution_start": 1620455813651,
    "execution_millis": 68,
    "deepnote_cell_type": "code"
   },
   "source": "a = 152134213\nprint(hex(id(a)))\na = a + 1\nprint(hex(id(a)))",
   "execution_count": null,
   "outputs": [
    {
     "name": "stdout",
     "text": "0x7f2110450530\n0x7f21104505b0\n",
     "output_type": "stream"
    }
   ]
  },
  {
   "cell_type": "code",
   "metadata": {
    "tags": [],
    "cell_id": "00025-5afd1bfd-67d8-4183-9b79-130d7e389e15",
    "deepnote_to_be_reexecuted": false,
    "source_hash": "2b6e5ccc",
    "execution_start": 1620455813665,
    "execution_millis": 54,
    "deepnote_cell_type": "code"
   },
   "source": "a = 15\nprint(hex(id(a)))\nb = 15\nprint(hex(id(b)))",
   "execution_count": null,
   "outputs": [
    {
     "name": "stdout",
     "text": "0x7f214456a600\n0x7f214456a600\n",
     "output_type": "stream"
    }
   ]
  },
  {
   "cell_type": "code",
   "metadata": {
    "tags": [],
    "cell_id": "00026-f12f22cb-15f5-4a39-98b1-8234f95e94f9",
    "deepnote_to_be_reexecuted": false,
    "source_hash": "23e5fa78",
    "execution_start": 1620455813686,
    "execution_millis": 33,
    "deepnote_cell_type": "code"
   },
   "source": "a == b, a is b",
   "execution_count": null,
   "outputs": [
    {
     "output_type": "execute_result",
     "execution_count": 23,
     "data": {
      "text/plain": "(True, True)"
     },
     "metadata": {}
    }
   ]
  },
  {
   "cell_type": "markdown",
   "source": "# Object Mutability",
   "metadata": {
    "tags": [],
    "cell_id": "00027-c05c88b7-f614-471f-a505-434f9a736cd1",
    "deepnote_cell_type": "text-cell-h1"
   }
  },
  {
   "cell_type": "code",
   "metadata": {
    "tags": [],
    "cell_id": "00027-7cf16f73-c02a-4520-b99c-6eb4244ac9e6",
    "deepnote_to_be_reexecuted": false,
    "source_hash": "9651e1dc",
    "execution_start": 1620455813691,
    "execution_millis": 28,
    "deepnote_cell_type": "code"
   },
   "source": "my_list = [1, 2, 3]\nmy_list, id(my_list)",
   "execution_count": null,
   "outputs": [
    {
     "output_type": "execute_result",
     "execution_count": 24,
     "data": {
      "text/plain": "([1, 2, 3], 139779983316144)"
     },
     "metadata": {}
    }
   ]
  },
  {
   "cell_type": "code",
   "metadata": {
    "tags": [],
    "cell_id": "00029-36cc48dd-efac-4f2a-a11a-5d267c6125be",
    "deepnote_to_be_reexecuted": false,
    "source_hash": "a0596805",
    "execution_start": 1620455813703,
    "execution_millis": 16,
    "deepnote_cell_type": "code"
   },
   "source": "my_list.append(4)\nmy_list, id(my_list)",
   "execution_count": null,
   "outputs": [
    {
     "output_type": "execute_result",
     "execution_count": 25,
     "data": {
      "text/plain": "([1, 2, 3, 4], 139779983316144)"
     },
     "metadata": {}
    }
   ]
  },
  {
   "cell_type": "code",
   "metadata": {
    "tags": [],
    "cell_id": "00030-02f41a04-3409-4933-bd2d-8294acd5e64a",
    "deepnote_to_be_reexecuted": false,
    "source_hash": "9651e1dc",
    "execution_start": 1620455813712,
    "execution_millis": 32,
    "deepnote_cell_type": "code"
   },
   "source": "my_list = [1, 2, 3]\nmy_list, id(my_list)",
   "execution_count": null,
   "outputs": [
    {
     "output_type": "execute_result",
     "execution_count": 26,
     "data": {
      "text/plain": "([1, 2, 3], 139779983806944)"
     },
     "metadata": {}
    }
   ]
  },
  {
   "cell_type": "code",
   "metadata": {
    "tags": [],
    "cell_id": "00031-3599733e-07ce-4e5f-9edc-e66ad5c6da2d",
    "deepnote_to_be_reexecuted": false,
    "source_hash": "cbc1f978",
    "execution_start": 1620455813722,
    "execution_millis": 22,
    "deepnote_cell_type": "code"
   },
   "source": "my_list = my_list + [4]\nmy_list, id(my_list)",
   "execution_count": null,
   "outputs": [
    {
     "output_type": "execute_result",
     "execution_count": 27,
     "data": {
      "text/plain": "([1, 2, 3, 4], 139779983476128)"
     },
     "metadata": {}
    }
   ]
  },
  {
   "cell_type": "code",
   "metadata": {
    "tags": [],
    "cell_id": "00032-a983d90c-7a96-493b-b58a-2b830b38bf32",
    "deepnote_to_be_reexecuted": false,
    "source_hash": "3e3b4bac",
    "execution_start": 1620455813727,
    "execution_millis": 20,
    "deepnote_cell_type": "code"
   },
   "source": "my_dict = dict(key1 = \"value 1\")\nmy_dict, hex(id(my_dict))",
   "execution_count": null,
   "outputs": [
    {
     "output_type": "execute_result",
     "execution_count": 28,
     "data": {
      "text/plain": "({'key1': 'value 1'}, '0x7f211047a960')"
     },
     "metadata": {}
    }
   ]
  },
  {
   "cell_type": "code",
   "metadata": {
    "tags": [],
    "cell_id": "00033-c1101bd9-fa29-4b1d-b459-9c63bb83d483",
    "deepnote_to_be_reexecuted": false,
    "source_hash": "d7fbb55b",
    "execution_start": 1620455813754,
    "execution_millis": 29,
    "deepnote_cell_type": "code"
   },
   "source": "my_dict['key1'] = \"modified value\"\nmy_dict, hex(id(my_dict))",
   "execution_count": null,
   "outputs": [
    {
     "output_type": "execute_result",
     "execution_count": 29,
     "data": {
      "text/plain": "({'key1': 'modified value'}, '0x7f211047a960')"
     },
     "metadata": {}
    }
   ]
  },
  {
   "cell_type": "code",
   "metadata": {
    "tags": [],
    "cell_id": "00034-35dba18f-3c64-4add-8c0f-4db3a988b6f3",
    "deepnote_to_be_reexecuted": false,
    "source_hash": "7829f7e1",
    "execution_start": 1620455813755,
    "execution_millis": 28,
    "deepnote_cell_type": "code"
   },
   "source": "my_dict['key2'] = \"value 2\"\nmy_dict, hex(id(my_dict))",
   "execution_count": null,
   "outputs": [
    {
     "output_type": "execute_result",
     "execution_count": 30,
     "data": {
      "text/plain": "({'key1': 'modified value', 'key2': 'value 2'}, '0x7f211047a960')"
     },
     "metadata": {}
    }
   ]
  },
  {
   "cell_type": "code",
   "metadata": {
    "tags": [],
    "cell_id": "00035-9eaa24c0-0bc2-480a-9aa9-3cfb60936bf4",
    "deepnote_to_be_reexecuted": false,
    "source_hash": "7618f4bd",
    "execution_start": 1620455813756,
    "execution_millis": 27,
    "deepnote_cell_type": "code"
   },
   "source": "t = 1, 2, 3\ntype(t)\n",
   "execution_count": null,
   "outputs": [
    {
     "output_type": "execute_result",
     "execution_count": 31,
     "data": {
      "text/plain": "tuple"
     },
     "metadata": {}
    }
   ]
  },
  {
   "cell_type": "code",
   "metadata": {
    "tags": [],
    "cell_id": "00036-8ffd81c5-7985-42e3-9022-153f6eadb55c",
    "deepnote_to_be_reexecuted": false,
    "source_hash": "b99a5984",
    "execution_start": 1620455813758,
    "execution_millis": 4,
    "deepnote_cell_type": "code"
   },
   "source": "a = [1, 2]\nb = [3, 4]\nt = (a, b) # t = (34123421, 123123121)",
   "execution_count": null,
   "outputs": []
  },
  {
   "cell_type": "code",
   "metadata": {
    "tags": [],
    "cell_id": "00037-308a3476-5845-480e-a2dc-b816fc88720b",
    "deepnote_to_be_reexecuted": false,
    "source_hash": "732295c3",
    "execution_start": 1620455813764,
    "execution_millis": 19,
    "deepnote_cell_type": "code"
   },
   "source": "print(t)\na.append(3)\nb.append(5)\nprint(t)",
   "execution_count": null,
   "outputs": [
    {
     "name": "stdout",
     "text": "([1, 2], [3, 4])\n([1, 2, 3], [3, 4, 5])\n",
     "output_type": "stream"
    }
   ]
  },
  {
   "cell_type": "markdown",
   "source": "# Function arguments and mutability",
   "metadata": {
    "tags": [],
    "cell_id": "00038-74cfd9c8-1d82-4dde-bb89-04469dda3ed0",
    "deepnote_cell_type": "markdown"
   }
  },
  {
   "cell_type": "code",
   "metadata": {
    "tags": [],
    "cell_id": "00038-563aa65e-60cc-4168-a4b1-3265f2d45c51",
    "deepnote_to_be_reexecuted": false,
    "source_hash": "d9379bea",
    "execution_start": 1620455813767,
    "execution_millis": 19,
    "deepnote_cell_type": "code"
   },
   "source": "# immutable example\ndef process(s):\n    print(f'initial s = {hex(id(s))}')\n    s = s + ' world'\n    print(f'final s = {hex(id(s))}')\n\nmy_var = \"hello\"\nprint(f'my_var = {hex(id(my_var))}')\n\nprocess(my_var)\nprint(f'my_var = {hex(id(my_var))}')\n",
   "execution_count": null,
   "outputs": [
    {
     "name": "stdout",
     "text": "my_var = 0x7f211043b8b0\ninitial s = 0x7f211043b8b0\nfinal s = 0x7f211043b470\nmy_var = 0x7f211043b8b0\n",
     "output_type": "stream"
    }
   ]
  },
  {
   "cell_type": "code",
   "metadata": {
    "tags": [],
    "cell_id": "00040-0cc863f5-0092-47a3-b673-e6fc233deb60",
    "deepnote_to_be_reexecuted": false,
    "source_hash": "419cc1d5",
    "execution_start": 1620455813776,
    "execution_millis": 49,
    "deepnote_cell_type": "code"
   },
   "source": "# mutable example\n\ndef modify_list(items):\n    print(f'initial items = {hex(id(items))}')\n    if len(items) > 0:\n        items[0] = items[0]**2\n    items.pop()\n    items.append(5)\n    print(f'final items = {hex(id(items))}')\n\nmy_list = [2, 3, 4]\nprint('my_list = {hex(id(my_list))}')\n\nmodify_list(my_list)\n\nprint(my_list)\nprint(f'my_list = {hex(id(my_list))}')",
   "execution_count": null,
   "outputs": [
    {
     "name": "stdout",
     "text": "my_list = {hex(id(my_list))}\ninitial items = 0x7f211047b410\nfinal items = 0x7f211047b410\n[4, 3, 5]\nmy_list = 0x7f211047b410\n",
     "output_type": "stream"
    }
   ]
  },
  {
   "cell_type": "markdown",
   "source": "# Shared References and Mutability\"\n",
   "metadata": {
    "tags": [],
    "cell_id": "00041-da0d2e03-aa64-4f73-8ec2-477524683ef9",
    "deepnote_cell_type": "text-cell-h1"
   }
  },
  {
   "cell_type": "code",
   "metadata": {
    "tags": [],
    "cell_id": "00041-f123bfce-84d5-444a-83eb-24ce717d2055",
    "deepnote_to_be_reexecuted": false,
    "source_hash": "4358b5fc",
    "execution_start": 1620455813793,
    "execution_millis": 676231,
    "deepnote_cell_type": "code"
   },
   "source": "my_var_1 = \"hello\"\nmy_var_2 = my_var_1\n\nmy_var_1, my_var_2",
   "execution_count": null,
   "outputs": [
    {
     "output_type": "execute_result",
     "execution_count": 36,
     "data": {
      "text/plain": "('hello', 'hello')"
     },
     "metadata": {}
    }
   ]
  },
  {
   "cell_type": "code",
   "metadata": {
    "tags": [],
    "cell_id": "00043-842c3fb2-dabf-4f8e-8dbb-c3202c297946",
    "deepnote_to_be_reexecuted": false,
    "source_hash": "88ecb113",
    "execution_start": 1620455813810,
    "execution_millis": 592052,
    "deepnote_cell_type": "code"
   },
   "source": "hex(id(my_var_1)), hex(id(my_var_2))",
   "execution_count": null,
   "outputs": [
    {
     "output_type": "execute_result",
     "execution_count": 37,
     "data": {
      "text/plain": "('0x7f211043b8b0', '0x7f211043b8b0')"
     },
     "metadata": {}
    }
   ]
  },
  {
   "cell_type": "code",
   "metadata": {
    "tags": [],
    "cell_id": "00044-bf4e0897-7634-4869-aa6b-b036dd8b8573",
    "deepnote_to_be_reexecuted": false,
    "source_hash": "974b4f61",
    "execution_start": 1620455813816,
    "execution_millis": 567274,
    "deepnote_cell_type": "code"
   },
   "source": "my_var_2 = my_var_2 + ' world'\n\nhex(id(my_var_1)), hex(id(my_var_2))",
   "execution_count": null,
   "outputs": [
    {
     "output_type": "execute_result",
     "execution_count": 38,
     "data": {
      "text/plain": "('0x7f211043b8b0', '0x7f21103cc5b0')"
     },
     "metadata": {}
    }
   ]
  },
  {
   "cell_type": "code",
   "metadata": {
    "tags": [],
    "cell_id": "00045-a91116de-7ac7-48b4-ab29-2b17fbe1c6ca",
    "deepnote_to_be_reexecuted": false,
    "source_hash": "6dcc48ff",
    "execution_start": 1620455813838,
    "execution_millis": 6,
    "deepnote_cell_type": "code"
   },
   "source": "my_list_1 = [1, 2, 3]\nmy_list_2 = my_list_1\nmy_list_1, my_list_2",
   "execution_count": null,
   "outputs": [
    {
     "output_type": "execute_result",
     "execution_count": 39,
     "data": {
      "text/plain": "([1, 2, 3], [1, 2, 3])"
     },
     "metadata": {}
    }
   ]
  },
  {
   "cell_type": "code",
   "metadata": {
    "tags": [],
    "cell_id": "00046-ecf98e2b-7797-49b6-8a0f-c18c8eb13b57",
    "deepnote_to_be_reexecuted": false,
    "source_hash": "6d0d19ed",
    "execution_start": 1620455813839,
    "execution_millis": 149,
    "deepnote_cell_type": "code"
   },
   "source": "hex(id(my_list_1)), hex(id(my_list_2))",
   "execution_count": null,
   "outputs": [
    {
     "output_type": "execute_result",
     "execution_count": 40,
     "data": {
      "text/plain": "('0x7f211046aaa0', '0x7f211046aaa0')"
     },
     "metadata": {}
    }
   ]
  },
  {
   "cell_type": "code",
   "metadata": {
    "tags": [],
    "cell_id": "00047-937f23e5-67e7-4b3c-ba14-b9b9d3f54ec4",
    "deepnote_to_be_reexecuted": false,
    "source_hash": "f8500f3f",
    "execution_start": 1620455813839,
    "execution_millis": 149,
    "deepnote_cell_type": "code"
   },
   "source": "my_list_2.append(4)\nmy_list_1, my_list_2\n",
   "execution_count": null,
   "outputs": [
    {
     "output_type": "execute_result",
     "execution_count": 41,
     "data": {
      "text/plain": "([1, 2, 3, 4], [1, 2, 3, 4])"
     },
     "metadata": {}
    }
   ]
  },
  {
   "cell_type": "code",
   "metadata": {
    "tags": [],
    "cell_id": "00048-4b7644ad-fad6-41b6-90fc-47adf18e8ca5",
    "deepnote_to_be_reexecuted": false,
    "source_hash": "6d0d19ed",
    "execution_start": 1620455813846,
    "execution_millis": 142,
    "deepnote_cell_type": "code"
   },
   "source": "hex(id(my_list_1)), hex(id(my_list_2))",
   "execution_count": null,
   "outputs": [
    {
     "output_type": "execute_result",
     "execution_count": 42,
     "data": {
      "text/plain": "('0x7f211046aaa0', '0x7f211046aaa0')"
     },
     "metadata": {}
    }
   ]
  },
  {
   "cell_type": "code",
   "metadata": {
    "tags": [],
    "cell_id": "00049-eab298c0-6075-40a0-bd66-b141e4f1477f",
    "deepnote_to_be_reexecuted": false,
    "source_hash": "c14e7d81",
    "execution_start": 1620455813858,
    "execution_millis": 4,
    "deepnote_cell_type": "code"
   },
   "source": "a = 10\nb = 10",
   "execution_count": null,
   "outputs": []
  },
  {
   "cell_type": "code",
   "metadata": {
    "tags": [],
    "cell_id": "00050-dd2b0b02-1b8a-4754-9aca-d0e036844016",
    "deepnote_to_be_reexecuted": false,
    "source_hash": "db4d506a",
    "execution_start": 1620455813869,
    "execution_millis": 0,
    "deepnote_cell_type": "code"
   },
   "source": "b = 15",
   "execution_count": null,
   "outputs": []
  },
  {
   "cell_type": "code",
   "metadata": {
    "tags": [],
    "cell_id": "00051-cd9388dc-2379-4bb0-bdb8-418d1708ae88",
    "deepnote_to_be_reexecuted": false,
    "source_hash": "8f54df72",
    "execution_start": 1620455813873,
    "execution_millis": 115,
    "deepnote_cell_type": "code"
   },
   "source": "my_list_1 = [1, 2, 3]\nmy_list_2 = [1, 2, 3]\n\nhex(id(my_list_1)), hex(id(my_list_2))",
   "execution_count": null,
   "outputs": [
    {
     "output_type": "execute_result",
     "execution_count": 45,
     "data": {
      "text/plain": "('0x7f211042f320', '0x7f2110479640')"
     },
     "metadata": {}
    }
   ]
  },
  {
   "cell_type": "markdown",
   "source": "# Variable Equality",
   "metadata": {
    "tags": [],
    "cell_id": "00052-ff6f5ff1-0c4d-4c39-b02e-6d1ea7fc0514",
    "deepnote_cell_type": "text-cell-h1"
   }
  },
  {
   "cell_type": "code",
   "metadata": {
    "tags": [],
    "cell_id": "00052-f58ed067-7d3f-454a-94f0-0d96d34d9a44",
    "deepnote_to_be_reexecuted": false,
    "source_hash": "c3b3c2b6",
    "execution_start": 1620455813878,
    "execution_millis": 110,
    "deepnote_cell_type": "code"
   },
   "source": "a = 10\nb = 10\n\nhex(id(a)),hex(id(b))",
   "execution_count": null,
   "outputs": [
    {
     "output_type": "execute_result",
     "execution_count": 46,
     "data": {
      "text/plain": "('0x7f214456a560', '0x7f214456a560')"
     },
     "metadata": {}
    }
   ]
  },
  {
   "cell_type": "code",
   "metadata": {
    "tags": [],
    "cell_id": "00054-a6f2e59b-2208-46c8-8298-fd6f3ef2631f",
    "deepnote_to_be_reexecuted": false,
    "source_hash": "87d77659",
    "execution_start": 1620455813883,
    "execution_millis": 105,
    "deepnote_cell_type": "code"
   },
   "source": "a is b",
   "execution_count": null,
   "outputs": [
    {
     "output_type": "execute_result",
     "execution_count": 47,
     "data": {
      "text/plain": "True"
     },
     "metadata": {}
    }
   ]
  },
  {
   "cell_type": "code",
   "metadata": {
    "tags": [],
    "cell_id": "00055-38383b16-ccb6-48ef-bd37-ef7c263acf4c",
    "deepnote_to_be_reexecuted": false,
    "source_hash": "6afc1c34",
    "execution_start": 1620455813894,
    "execution_millis": 95,
    "deepnote_cell_type": "code"
   },
   "source": "a == b",
   "execution_count": null,
   "outputs": [
    {
     "output_type": "execute_result",
     "execution_count": 48,
     "data": {
      "text/plain": "True"
     },
     "metadata": {}
    }
   ]
  },
  {
   "cell_type": "code",
   "metadata": {
    "tags": [],
    "cell_id": "00056-d9862552-bf29-46fa-9b35-66954d951cfa",
    "deepnote_to_be_reexecuted": false,
    "source_hash": "8f54df72",
    "execution_start": 1620455813897,
    "execution_millis": 92,
    "deepnote_cell_type": "code"
   },
   "source": "my_list_1 = [1, 2, 3]\nmy_list_2 = [1, 2, 3]\n\nhex(id(my_list_1)), hex(id(my_list_2))",
   "execution_count": null,
   "outputs": [
    {
     "output_type": "execute_result",
     "execution_count": 49,
     "data": {
      "text/plain": "('0x7f2110408190', '0x7f211046f640')"
     },
     "metadata": {}
    }
   ]
  },
  {
   "cell_type": "code",
   "metadata": {
    "tags": [],
    "cell_id": "00057-70a54286-b2d0-48c1-8ef1-3238636ede7e",
    "deepnote_to_be_reexecuted": false,
    "source_hash": "32d8d8ff",
    "execution_start": 1620455813905,
    "execution_millis": 84,
    "deepnote_cell_type": "code"
   },
   "source": "my_list_1 is my_list_2",
   "execution_count": null,
   "outputs": [
    {
     "output_type": "execute_result",
     "execution_count": 50,
     "data": {
      "text/plain": "False"
     },
     "metadata": {}
    }
   ]
  },
  {
   "cell_type": "code",
   "metadata": {
    "tags": [],
    "cell_id": "00058-821d1c82-1009-4212-bda0-4a0938db2c4e",
    "deepnote_to_be_reexecuted": false,
    "source_hash": "1082e211",
    "execution_start": 1620455813911,
    "execution_millis": 78,
    "deepnote_cell_type": "code"
   },
   "source": "my_list_1 == my_list_2",
   "execution_count": null,
   "outputs": [
    {
     "output_type": "execute_result",
     "execution_count": 51,
     "data": {
      "text/plain": "True"
     },
     "metadata": {}
    }
   ]
  },
  {
   "cell_type": "code",
   "metadata": {
    "tags": [],
    "cell_id": "00059-84a9ffea-675b-42de-aeaa-a1b50f89e5dc",
    "deepnote_to_be_reexecuted": false,
    "source_hash": "ae3d92cc",
    "execution_start": 1620455813933,
    "execution_millis": 56,
    "deepnote_cell_type": "code"
   },
   "source": "a = 10\nb = 10.0\n\na == b",
   "execution_count": null,
   "outputs": [
    {
     "output_type": "execute_result",
     "execution_count": 52,
     "data": {
      "text/plain": "True"
     },
     "metadata": {}
    }
   ]
  },
  {
   "cell_type": "markdown",
   "source": "Python will \"attempt\" to compare the values as best as possible",
   "metadata": {
    "tags": [],
    "cell_id": "00060-9f876623-09bb-4647-8077-3f48d539df70",
    "deepnote_cell_type": "text-cell-p"
   }
  },
  {
   "cell_type": "code",
   "metadata": {
    "tags": [],
    "cell_id": "00060-8c5a74d9-af50-4157-a4ff-87e5f98fe2bc",
    "deepnote_to_be_reexecuted": false,
    "source_hash": "fca08571",
    "execution_start": 1620455813935,
    "execution_millis": 55,
    "deepnote_cell_type": "code"
   },
   "source": "type(a), type(b)",
   "execution_count": null,
   "outputs": [
    {
     "output_type": "execute_result",
     "execution_count": 53,
     "data": {
      "text/plain": "(int, float)"
     },
     "metadata": {}
    }
   ]
  },
  {
   "cell_type": "code",
   "metadata": {
    "tags": [],
    "cell_id": "00062-c7ce7e49-d018-43a1-a090-77876ad0708a",
    "deepnote_to_be_reexecuted": false,
    "source_hash": "782b3161",
    "execution_start": 1620455813943,
    "execution_millis": 47,
    "deepnote_cell_type": "code"
   },
   "source": "id(a), id(b)",
   "execution_count": null,
   "outputs": [
    {
     "output_type": "execute_result",
     "execution_count": 54,
     "data": {
      "text/plain": "(139780857177440, 139779983081616)"
     },
     "metadata": {}
    }
   ]
  },
  {
   "cell_type": "code",
   "metadata": {
    "tags": [],
    "cell_id": "00063-bd1388ad-7ed5-4b6b-926e-d472d41adc57",
    "deepnote_to_be_reexecuted": false,
    "source_hash": "a5bd06c8",
    "execution_start": 1620455813946,
    "execution_millis": 44,
    "deepnote_cell_type": "code"
   },
   "source": "a = 10\nb = \"10\"\n\na == b",
   "execution_count": null,
   "outputs": [
    {
     "output_type": "execute_result",
     "execution_count": 55,
     "data": {
      "text/plain": "False"
     },
     "metadata": {}
    }
   ]
  },
  {
   "cell_type": "code",
   "metadata": {
    "tags": [],
    "cell_id": "00064-0e616613-4f51-42ed-a992-6970046c3a35",
    "deepnote_to_be_reexecuted": false,
    "source_hash": "2c122b8b",
    "execution_start": 1620455825325,
    "execution_millis": 10,
    "deepnote_cell_type": "code"
   },
   "source": "a = 10\nb = 10 + 0j\n\na == b, type(a), type(b)",
   "execution_count": null,
   "outputs": [
    {
     "output_type": "execute_result",
     "execution_count": 60,
     "data": {
      "text/plain": "(True, int, complex)"
     },
     "metadata": {}
    }
   ]
  },
  {
   "cell_type": "code",
   "metadata": {
    "tags": [],
    "cell_id": "00066-39360de2-fc1a-4e29-8c67-18f9bd0a439c",
    "deepnote_to_be_reexecuted": false,
    "source_hash": "4d40852c",
    "execution_start": 1620455925826,
    "execution_millis": 9,
    "deepnote_cell_type": "code"
   },
   "source": "print(1231)",
   "execution_count": null,
   "outputs": [
    {
     "name": "stdout",
     "text": "1231\n",
     "output_type": "stream"
    }
   ]
  },
  {
   "cell_type": "markdown",
   "source": "### None",
   "metadata": {
    "tags": [],
    "cell_id": "00066-383b0b0b-342d-454c-b748-f6266bd48670",
    "deepnote_cell_type": "text-cell-h3"
   }
  },
  {
   "cell_type": "code",
   "metadata": {
    "tags": [],
    "cell_id": "00066-e5e3dc32-525c-404a-92ba-e32fb070051c",
    "deepnote_to_be_reexecuted": false,
    "source_hash": "8ed50f5d",
    "execution_start": 1620455966565,
    "execution_millis": 19,
    "deepnote_cell_type": "code"
   },
   "source": "type(None)",
   "execution_count": null,
   "outputs": [
    {
     "output_type": "execute_result",
     "execution_count": 62,
     "data": {
      "text/plain": "NoneType"
     },
     "metadata": {}
    }
   ]
  },
  {
   "cell_type": "code",
   "metadata": {
    "tags": [],
    "cell_id": "00068-a2f495db-fd88-4994-93c2-3fb8a0a1275f",
    "deepnote_to_be_reexecuted": false,
    "source_hash": "30a5c7c",
    "execution_start": 1620455998891,
    "execution_millis": 18,
    "deepnote_cell_type": "code"
   },
   "source": "print(None)",
   "execution_count": null,
   "outputs": [
    {
     "name": "stdout",
     "text": "None\n",
     "output_type": "stream"
    }
   ]
  },
  {
   "cell_type": "code",
   "metadata": {
    "tags": [],
    "cell_id": "00069-9054000c-83b4-44e2-a4a6-f1a90b7120cf",
    "deepnote_to_be_reexecuted": false,
    "source_hash": "55c18f11",
    "execution_start": 1620456005802,
    "execution_millis": 15,
    "deepnote_cell_type": "code"
   },
   "source": "hex(id(None))",
   "execution_count": null,
   "outputs": [
    {
     "output_type": "execute_result",
     "execution_count": 64,
     "data": {
      "text/plain": "'0x7f214451a6f0'"
     },
     "metadata": {}
    }
   ]
  },
  {
   "cell_type": "code",
   "metadata": {
    "tags": [],
    "cell_id": "00070-d50593fc-bb57-4264-bc37-dc331fa474c8",
    "deepnote_to_be_reexecuted": false,
    "source_hash": "dec32ea6",
    "execution_start": 1620456026791,
    "execution_millis": 12,
    "deepnote_cell_type": "code"
   },
   "source": "a = None\nprint(type(a))\nprint(hex(id(a)))",
   "execution_count": null,
   "outputs": [
    {
     "name": "stdout",
     "text": "<class 'NoneType'>\n0x7f214451a6f0\n",
     "output_type": "stream"
    }
   ]
  },
  {
   "cell_type": "code",
   "metadata": {
    "tags": [],
    "cell_id": "00071-3a6a13b8-7b38-42a1-96a9-1bc750102291",
    "deepnote_to_be_reexecuted": false,
    "source_hash": "6923c73b",
    "execution_start": 1620456034875,
    "execution_millis": 56,
    "deepnote_cell_type": "code"
   },
   "source": "a is None",
   "execution_count": null,
   "outputs": [
    {
     "output_type": "execute_result",
     "execution_count": 66,
     "data": {
      "text/plain": "True"
     },
     "metadata": {}
    }
   ]
  },
  {
   "cell_type": "code",
   "metadata": {
    "tags": [],
    "cell_id": "00072-2fd0cc39-c0f5-47ab-b29a-ec751f88d516",
    "deepnote_to_be_reexecuted": false,
    "source_hash": "edbf0fff",
    "execution_start": 1620456038580,
    "execution_millis": 19,
    "deepnote_cell_type": "code"
   },
   "source": "a == None",
   "execution_count": null,
   "outputs": [
    {
     "output_type": "execute_result",
     "execution_count": 67,
     "data": {
      "text/plain": "True"
     },
     "metadata": {}
    }
   ]
  },
  {
   "cell_type": "code",
   "metadata": {
    "tags": [],
    "cell_id": "00073-b9a07c10-44fb-41b2-ba12-b0abe9ae3929",
    "deepnote_to_be_reexecuted": false,
    "source_hash": "2fba93f1",
    "execution_start": 1620456050104,
    "execution_millis": 11,
    "deepnote_cell_type": "code"
   },
   "source": "b = None\nhex(id(b))",
   "execution_count": null,
   "outputs": [
    {
     "output_type": "execute_result",
     "execution_count": 68,
     "data": {
      "text/plain": "'0x7f214451a6f0'"
     },
     "metadata": {}
    }
   ]
  },
  {
   "cell_type": "code",
   "metadata": {
    "tags": [],
    "cell_id": "00074-8c147c76-93ac-4c4f-b9ef-2072240fb8d5",
    "deepnote_to_be_reexecuted": false,
    "source_hash": "87d77659",
    "execution_start": 1620456055571,
    "execution_millis": 18,
    "deepnote_cell_type": "code"
   },
   "source": "a is b",
   "execution_count": null,
   "outputs": [
    {
     "output_type": "execute_result",
     "execution_count": 69,
     "data": {
      "text/plain": "True"
     },
     "metadata": {}
    }
   ]
  },
  {
   "cell_type": "code",
   "metadata": {
    "tags": [],
    "cell_id": "00075-47bcf10f-68a5-4313-aa7f-946e6fb48c13",
    "deepnote_to_be_reexecuted": false,
    "source_hash": "5d50ab43",
    "execution_start": 1620456066588,
    "execution_millis": 53,
    "deepnote_cell_type": "code"
   },
   "source": "l = []\ntype(l)",
   "execution_count": null,
   "outputs": [
    {
     "output_type": "execute_result",
     "execution_count": 70,
     "data": {
      "text/plain": "list"
     },
     "metadata": {}
    }
   ]
  },
  {
   "cell_type": "code",
   "metadata": {
    "tags": [],
    "cell_id": "00076-a2edddf5-09dd-4662-a2c4-f35b6d51b1c7",
    "deepnote_to_be_reexecuted": false,
    "source_hash": "3b7eb2be",
    "execution_start": 1620456071123,
    "execution_millis": 13,
    "deepnote_cell_type": "code"
   },
   "source": "l is None",
   "execution_count": null,
   "outputs": [
    {
     "output_type": "execute_result",
     "execution_count": 71,
     "data": {
      "text/plain": "False"
     },
     "metadata": {}
    }
   ]
  },
  {
   "cell_type": "code",
   "metadata": {
    "tags": [],
    "cell_id": "00077-72d22549-59b3-493f-a61a-8214373cb326",
    "deepnote_to_be_reexecuted": false,
    "source_hash": "31580df9",
    "execution_start": 1620456118285,
    "execution_millis": 20,
    "deepnote_cell_type": "code"
   },
   "source": "l == None",
   "execution_count": null,
   "outputs": [
    {
     "output_type": "execute_result",
     "execution_count": 72,
     "data": {
      "text/plain": "False"
     },
     "metadata": {}
    }
   ]
  },
  {
   "cell_type": "markdown",
   "source": "## Everything in Python is an Object",
   "metadata": {
    "tags": [],
    "cell_id": "00078-7134f575-a62c-493d-90c2-eeea77d2f507",
    "deepnote_cell_type": "text-cell-h2"
   }
  },
  {
   "cell_type": "code",
   "metadata": {
    "tags": [],
    "cell_id": "00078-971ca9d4-c7f4-43f5-8265-63676dba719f",
    "deepnote_to_be_reexecuted": false,
    "source_hash": "c16d8ddd",
    "execution_start": 1620456216009,
    "execution_millis": 0,
    "deepnote_cell_type": "code"
   },
   "source": "a = 10",
   "execution_count": null,
   "outputs": []
  },
  {
   "cell_type": "code",
   "metadata": {
    "tags": [],
    "cell_id": "00080-34129ef1-6ff5-4a40-bb58-06c01f56b177",
    "deepnote_to_be_reexecuted": false,
    "source_hash": "dda847ab",
    "execution_start": 1620456219541,
    "execution_millis": 62,
    "deepnote_cell_type": "code"
   },
   "source": "print(type(a))",
   "execution_count": null,
   "outputs": [
    {
     "name": "stdout",
     "text": "<class 'int'>\n",
     "output_type": "stream"
    }
   ]
  },
  {
   "cell_type": "code",
   "metadata": {
    "tags": [],
    "cell_id": "00081-598e5482-6be9-4614-8777-90556e6a4214",
    "deepnote_to_be_reexecuted": false,
    "source_hash": "6f4337ab",
    "execution_start": 1620456258756,
    "execution_millis": 20,
    "deepnote_cell_type": "code"
   },
   "source": "b = int(10)\nprint(type(b))",
   "execution_count": null,
   "outputs": [
    {
     "name": "stdout",
     "text": "<class 'int'>\n",
     "output_type": "stream"
    }
   ]
  },
  {
   "cell_type": "code",
   "metadata": {
    "tags": [],
    "cell_id": "00082-df29b0c8-d644-49d0-ac6e-879e7fd487a2",
    "deepnote_to_be_reexecuted": false,
    "source_hash": "a3027ce2",
    "execution_start": 1620456356011,
    "execution_millis": 15,
    "deepnote_cell_type": "code"
   },
   "source": "a = 10\nbool(a)",
   "execution_count": null,
   "outputs": [
    {
     "output_type": "execute_result",
     "execution_count": 79,
     "data": {
      "text/plain": "True"
     },
     "metadata": {}
    }
   ]
  },
  {
   "cell_type": "code",
   "metadata": {
    "tags": [],
    "cell_id": "00083-7c566d4a-e9d6-40b1-9dcf-fbfbfba091ca",
    "deepnote_to_be_reexecuted": false,
    "source_hash": "63d3012b",
    "execution_start": 1620456382555,
    "execution_millis": 16,
    "deepnote_cell_type": "code"
   },
   "source": "a = 0\nbool(a)",
   "execution_count": null,
   "outputs": [
    {
     "output_type": "execute_result",
     "execution_count": 81,
     "data": {
      "text/plain": "False"
     },
     "metadata": {}
    }
   ]
  },
  {
   "cell_type": "code",
   "metadata": {
    "tags": [],
    "cell_id": "00084-0da60b51-6b7d-4cf8-bfb8-4506dae42d57",
    "deepnote_to_be_reexecuted": false,
    "source_hash": "9d624cb3",
    "execution_start": 1620456391289,
    "execution_millis": 14,
    "deepnote_cell_type": "code"
   },
   "source": "l = []\nbool(l)",
   "execution_count": null,
   "outputs": [
    {
     "output_type": "execute_result",
     "execution_count": 82,
     "data": {
      "text/plain": "False"
     },
     "metadata": {}
    }
   ]
  },
  {
   "cell_type": "code",
   "metadata": {
    "tags": [],
    "cell_id": "00085-97f8108f-1a66-4a71-8047-3976c083606f",
    "deepnote_to_be_reexecuted": false,
    "source_hash": "b22ed24",
    "execution_start": 1620456418811,
    "execution_millis": 14,
    "deepnote_cell_type": "code"
   },
   "source": "l = []\nprint(not [])",
   "execution_count": null,
   "outputs": [
    {
     "name": "stdout",
     "text": "True\n",
     "output_type": "stream"
    }
   ]
  },
  {
   "cell_type": "code",
   "metadata": {
    "tags": [],
    "cell_id": "00086-aad68c32-61df-465a-8df6-ed18558d49e8",
    "deepnote_to_be_reexecuted": false,
    "source_hash": "e9f7c352",
    "execution_start": 1620456436572,
    "execution_millis": 21,
    "deepnote_cell_type": "code"
   },
   "source": "b = int(10)\ntype(b)",
   "execution_count": null,
   "outputs": [
    {
     "output_type": "execute_result",
     "execution_count": 85,
     "data": {
      "text/plain": "int"
     },
     "metadata": {}
    }
   ]
  },
  {
   "cell_type": "code",
   "metadata": {
    "tags": [],
    "cell_id": "00087-9dd1002e-2a24-4a55-b2f6-ca020d1bf4f7",
    "deepnote_to_be_reexecuted": false,
    "source_hash": "7d5ae212",
    "execution_start": 1620456495148,
    "execution_millis": 12,
    "deepnote_cell_type": "code"
   },
   "source": "help(int)",
   "execution_count": null,
   "outputs": [
    {
     "name": "stdout",
     "text": "Help on class int in module builtins:\n\nclass int(object)\n |  int([x]) -> integer\n |  int(x, base=10) -> integer\n |  \n |  Convert a number or string to an integer, or return 0 if no arguments\n |  are given.  If x is a number, return x.__int__().  For floating point\n |  numbers, this truncates towards zero.\n |  \n |  If x is not a number or if base is given, then x must be a string,\n |  bytes, or bytearray instance representing an integer literal in the\n |  given base.  The literal can be preceded by '+' or '-' and be surrounded\n |  by whitespace.  The base defaults to 10.  Valid bases are 0 and 2-36.\n |  Base 0 means to interpret the base from the string as an integer literal.\n |  >>> int('0b100', base=0)\n |  4\n |  \n |  Methods defined here:\n |  \n |  __abs__(self, /)\n |      abs(self)\n |  \n |  __add__(self, value, /)\n |      Return self+value.\n |  \n |  __and__(self, value, /)\n |      Return self&value.\n |  \n |  __bool__(self, /)\n |      self != 0\n |  \n |  __ceil__(...)\n |      Ceiling of an Integral returns itself.\n |  \n |  __divmod__(self, value, /)\n |      Return divmod(self, value).\n |  \n |  __eq__(self, value, /)\n |      Return self==value.\n |  \n |  __float__(self, /)\n |      float(self)\n |  \n |  __floor__(...)\n |      Flooring an Integral returns itself.\n |  \n |  __floordiv__(self, value, /)\n |      Return self//value.\n |  \n |  __format__(self, format_spec, /)\n |      Default object formatter.\n |  \n |  __ge__(self, value, /)\n |      Return self>=value.\n |  \n |  __getattribute__(self, name, /)\n |      Return getattr(self, name).\n |  \n |  __getnewargs__(self, /)\n |  \n |  __gt__(self, value, /)\n |      Return self>value.\n |  \n |  __hash__(self, /)\n |      Return hash(self).\n |  \n |  __index__(self, /)\n |      Return self converted to an integer, if self is suitable for use as an index into a list.\n |  \n |  __int__(self, /)\n |      int(self)\n |  \n |  __invert__(self, /)\n |      ~self\n |  \n |  __le__(self, value, /)\n |      Return self<=value.\n |  \n |  __lshift__(self, value, /)\n |      Return self<<value.\n |  \n |  __lt__(self, value, /)\n |      Return self<value.\n |  \n |  __mod__(self, value, /)\n |      Return self%value.\n |  \n |  __mul__(self, value, /)\n |      Return self*value.\n |  \n |  __ne__(self, value, /)\n |      Return self!=value.\n |  \n |  __neg__(self, /)\n |      -self\n |  \n |  __or__(self, value, /)\n |      Return self|value.\n |  \n |  __pos__(self, /)\n |      +self\n |  \n |  __pow__(self, value, mod=None, /)\n |      Return pow(self, value, mod).\n |  \n |  __radd__(self, value, /)\n |      Return value+self.\n |  \n |  __rand__(self, value, /)\n |      Return value&self.\n |  \n |  __rdivmod__(self, value, /)\n |      Return divmod(value, self).\n |  \n |  __repr__(self, /)\n |      Return repr(self).\n |  \n |  __rfloordiv__(self, value, /)\n |      Return value//self.\n |  \n |  __rlshift__(self, value, /)\n |      Return value<<self.\n |  \n |  __rmod__(self, value, /)\n |      Return value%self.\n |  \n |  __rmul__(self, value, /)\n |      Return value*self.\n |  \n |  __ror__(self, value, /)\n |      Return value|self.\n |  \n |  __round__(...)\n |      Rounding an Integral returns itself.\n |      Rounding with an ndigits argument also returns an integer.\n |  \n |  __rpow__(self, value, mod=None, /)\n |      Return pow(value, self, mod).\n |  \n |  __rrshift__(self, value, /)\n |      Return value>>self.\n |  \n |  __rshift__(self, value, /)\n |      Return self>>value.\n |  \n |  __rsub__(self, value, /)\n |      Return value-self.\n |  \n |  __rtruediv__(self, value, /)\n |      Return value/self.\n |  \n |  __rxor__(self, value, /)\n |      Return value^self.\n |  \n |  __sizeof__(self, /)\n |      Returns size in memory, in bytes.\n |  \n |  __str__(self, /)\n |      Return str(self).\n |  \n |  __sub__(self, value, /)\n |      Return self-value.\n |  \n |  __truediv__(self, value, /)\n |      Return self/value.\n |  \n |  __trunc__(...)\n |      Truncating an Integral returns itself.\n |  \n |  __xor__(self, value, /)\n |      Return self^value.\n |  \n |  bit_length(self, /)\n |      Number of bits necessary to represent self in binary.\n |      \n |      >>> bin(37)\n |      '0b100101'\n |      >>> (37).bit_length()\n |      6\n |  \n |  conjugate(...)\n |      Returns self, the complex conjugate of any int.\n |  \n |  to_bytes(self, /, length, byteorder, *, signed=False)\n |      Return an array of bytes representing an integer.\n |      \n |      length\n |        Length of bytes object to use.  An OverflowError is raised if the\n |        integer is not representable with the given number of bytes.\n |      byteorder\n |        The byte order used to represent the integer.  If byteorder is 'big',\n |        the most significant byte is at the beginning of the byte array.  If\n |        byteorder is 'little', the most significant byte is at the end of the\n |        byte array.  To request the native byte order of the host system, use\n |        `sys.byteorder' as the byte order value.\n |      signed\n |        Determines whether two's complement is used to represent the integer.\n |        If signed is False and a negative integer is given, an OverflowError\n |        is raised.\n |  \n |  ----------------------------------------------------------------------\n |  Class methods defined here:\n |  \n |  from_bytes(bytes, byteorder, *, signed=False) from builtins.type\n |      Return the integer represented by the given array of bytes.\n |      \n |      bytes\n |        Holds the array of bytes to convert.  The argument must either\n |        support the buffer protocol or be an iterable object producing bytes.\n |        Bytes and bytearray are examples of built-in objects that support the\n |        buffer protocol.\n |      byteorder\n |        The byte order used to represent the integer.  If byteorder is 'big',\n |        the most significant byte is at the beginning of the byte array.  If\n |        byteorder is 'little', the most significant byte is at the end of the\n |        byte array.  To request the native byte order of the host system, use\n |        `sys.byteorder' as the byte order value.\n |      signed\n |        Indicates whether two's complement is used to represent the integer.\n |  \n |  ----------------------------------------------------------------------\n |  Static methods defined here:\n |  \n |  __new__(*args, **kwargs) from builtins.type\n |      Create and return a new object.  See help(type) for accurate signature.\n |  \n |  ----------------------------------------------------------------------\n |  Data descriptors defined here:\n |  \n |  denominator\n |      the denominator of a rational number in lowest terms\n |  \n |  imag\n |      the imaginary part of a complex number\n |  \n |  numerator\n |      the numerator of a rational number in lowest terms\n |  \n |  real\n |      the real part of a complex number\n\n",
     "output_type": "stream"
    }
   ]
  },
  {
   "cell_type": "code",
   "metadata": {
    "tags": [],
    "cell_id": "00088-994c62a1-b19d-46ce-a672-c4687bdc8d05",
    "deepnote_to_be_reexecuted": false,
    "source_hash": "f89e44fe",
    "execution_start": 1620456568602,
    "execution_millis": 6,
    "deepnote_cell_type": "code"
   },
   "source": "b = int('10', base = 2)",
   "execution_count": null,
   "outputs": []
  },
  {
   "cell_type": "code",
   "metadata": {
    "tags": [],
    "cell_id": "00089-11c270b4-571d-462b-a785-e38ec7ebaf7a",
    "deepnote_to_be_reexecuted": false,
    "source_hash": "181b9a63",
    "execution_start": 1620456597402,
    "execution_millis": 16,
    "deepnote_cell_type": "code"
   },
   "source": "b, type(b)",
   "execution_count": null,
   "outputs": [
    {
     "output_type": "execute_result",
     "execution_count": 91,
     "data": {
      "text/plain": "(2, int)"
     },
     "metadata": {}
    }
   ]
  },
  {
   "cell_type": "code",
   "metadata": {
    "tags": [],
    "cell_id": "00090-22938b25-9ebc-44e4-a65c-34f4791bd67d",
    "deepnote_to_be_reexecuted": false,
    "source_hash": "e171fe04",
    "execution_start": 1620456844828,
    "execution_millis": 6,
    "deepnote_cell_type": "code"
   },
   "source": "def square(a):\n    print(a**2)",
   "execution_count": null,
   "outputs": []
  },
  {
   "cell_type": "code",
   "metadata": {
    "tags": [],
    "cell_id": "00091-e14d2e46-5605-412a-a77b-4df57cb5cf92",
    "deepnote_to_be_reexecuted": false,
    "source_hash": "ece43c01",
    "execution_start": 1620456845764,
    "execution_millis": 14,
    "deepnote_cell_type": "code"
   },
   "source": "type(square)",
   "execution_count": null,
   "outputs": [
    {
     "output_type": "execute_result",
     "execution_count": 103,
     "data": {
      "text/plain": "function"
     },
     "metadata": {}
    }
   ]
  },
  {
   "cell_type": "code",
   "metadata": {
    "tags": [],
    "cell_id": "00092-026cdaf6-e7f6-4a06-b1e1-7476013b01fd",
    "deepnote_to_be_reexecuted": false,
    "source_hash": "1f7d457f",
    "execution_start": 1620456846565,
    "execution_millis": 3,
    "deepnote_cell_type": "code"
   },
   "source": "f = square",
   "execution_count": null,
   "outputs": []
  },
  {
   "cell_type": "code",
   "metadata": {
    "tags": [],
    "cell_id": "00093-aca55961-ceab-4dd1-8b43-a3a0780f6577",
    "deepnote_to_be_reexecuted": false,
    "source_hash": "b56ff56a",
    "execution_start": 1620456847293,
    "execution_millis": 18,
    "deepnote_cell_type": "code"
   },
   "source": "type(f)",
   "execution_count": null,
   "outputs": [
    {
     "output_type": "execute_result",
     "execution_count": 105,
     "data": {
      "text/plain": "function"
     },
     "metadata": {}
    }
   ]
  },
  {
   "cell_type": "code",
   "metadata": {
    "tags": [],
    "cell_id": "00094-b349940e-984e-4f7d-bcfd-e5b8e9959276",
    "deepnote_to_be_reexecuted": false,
    "source_hash": "b6e7d487",
    "execution_start": 1620456889559,
    "execution_millis": 17,
    "deepnote_cell_type": "code"
   },
   "source": "f(2)",
   "execution_count": null,
   "outputs": [
    {
     "name": "stdout",
     "text": "4\n",
     "output_type": "stream"
    }
   ]
  },
  {
   "cell_type": "code",
   "metadata": {
    "tags": [],
    "cell_id": "00095-6433dc2a-2168-43bf-b7ad-d74e6ddda49d",
    "deepnote_to_be_reexecuted": false,
    "source_hash": "50995854",
    "execution_start": 1620457091231,
    "execution_millis": 14,
    "deepnote_cell_type": "code"
   },
   "source": "def square(a):\n    return a ** 2\n\ndef cube(a):\n    return a ** 3\n\ndef select_function(fn_id):\n    if fn_id == 1:\n        return square\n    else:\n        return cube\n\nselect_function(1)(4)",
   "execution_count": null,
   "outputs": [
    {
     "output_type": "execute_result",
     "execution_count": 113,
     "data": {
      "text/plain": "16"
     },
     "metadata": {}
    }
   ]
  },
  {
   "cell_type": "code",
   "metadata": {
    "tags": [],
    "cell_id": "00096-175e74d9-e887-4d2e-be74-493dd836dfcc",
    "deepnote_to_be_reexecuted": false,
    "source_hash": "cfa2325c",
    "execution_start": 1620457145667,
    "execution_millis": 13,
    "deepnote_cell_type": "code"
   },
   "source": "def exec_function(fn, n):\n    return fn(n)\n\nexec_function(square, 4), exec_function(cube, 4)",
   "execution_count": null,
   "outputs": [
    {
     "output_type": "execute_result",
     "execution_count": 115,
     "data": {
      "text/plain": "(16, 64)"
     },
     "metadata": {}
    }
   ]
  },
  {
   "cell_type": "code",
   "metadata": {
    "tags": [],
    "cell_id": "00097-a7bd48fe-a817-4df9-a1b2-c1556fd741ea",
    "deepnote_cell_type": "code"
   },
   "source": "",
   "execution_count": null,
   "outputs": []
  },
  {
   "cell_type": "markdown",
   "source": "<a style='text-decoration:none;line-height:16px;display:flex;color:#5B5B62;padding:10px;justify-content:end;' href='https://deepnote.com?utm_source=created-in-deepnote-cell&projectId=ec90de38-255d-4b81-a5aa-8cef77d684bf' target=\"_blank\">\n<img alt='Created in deepnote.com' style='display:inline;max-height:16px;margin:0px;margin-right:7.5px;' src='data:image/svg+xml;base64,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' > </img>\nCreated in <span style='font-weight:600;margin-left:4px;'>Deepnote</span></a>",
   "metadata": {
    "tags": [],
    "created_in_deepnote_cell": true,
    "deepnote_cell_type": "markdown"
   }
  }
 ],
 "nbformat": 4,
 "nbformat_minor": 2,
 "metadata": {
  "orig_nbformat": 2,
  "deepnote": {
   "is_reactive": false
  },
  "deepnote_notebook_id": "6a1d5940-6343-46b1-8087-9c9b8adbdf7e",
  "deepnote_execution_queue": []
 }
}